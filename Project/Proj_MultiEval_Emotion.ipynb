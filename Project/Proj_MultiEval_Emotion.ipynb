{
  "nbformat": 4,
  "nbformat_minor": 0,
  "metadata": {
    "colab": {
      "name": "Proj_MultiEval_Emotion.ipynb",
      "provenance": [],
      "collapsed_sections": [],
      "mount_file_id": "15RAwDVD-Wbdr5W02Yn8iwH2vfDSV_qze",
      "authorship_tag": "ABX9TyMYaHg183xKJ5+b1vscUiDy",
      "include_colab_link": true
    },
    "kernelspec": {
      "name": "python3",
      "display_name": "Python 3"
    }
  },
  "cells": [
    {
      "cell_type": "markdown",
      "metadata": {
        "id": "view-in-github",
        "colab_type": "text"
      },
      "source": [
        "<a href=\"https://colab.research.google.com/github/raheeltahir55/CE888/blob/main/Project/Proj_MultiEval_Emotion.ipynb\" target=\"_parent\"><img src=\"https://colab.research.google.com/assets/colab-badge.svg\" alt=\"Open In Colab\"/></a>"
      ]
    },
    {
      "cell_type": "code",
      "metadata": {
        "id": "JQ7vqH0BfqMy"
      },
      "source": [
        "### EMOTION ####\r\n",
        "import pandas as pd\r\n",
        "import numpy as np\r\n",
        "from nltk.tokenize import word_tokenize\r\n",
        "from nltk import pos_tag\r\n",
        "from nltk.corpus import stopwords\r\n",
        "from nltk.stem import WordNetLemmatizer\r\n",
        "from sklearn.preprocessing import LabelEncoder\r\n",
        "from collections import defaultdict\r\n",
        "from nltk.corpus import wordnet as wn\r\n",
        "from sklearn.feature_extraction.text import TfidfVectorizer\r\n",
        "from sklearn import model_selection, naive_bayes, svm\r\n",
        "from sklearn.metrics import accuracy_score\r\n",
        "import io\r\n",
        "import requests"
      ],
      "execution_count": 48,
      "outputs": []
    },
    {
      "cell_type": "code",
      "metadata": {
        "id": "U230YMeABsU7"
      },
      "source": [
        "from keras.models import Sequential\r\n",
        "from keras.layers import Dense\r\n",
        "from keras.layers import LSTM\r\n",
        "from keras.layers import Bidirectional\r\n",
        "from keras.layers.embeddings import Embedding\r\n",
        "from keras.preprocessing import sequence\r\n",
        "from keras.preprocessing.text import Tokenizer\r\n",
        "from keras_preprocessing.sequence import pad_sequences\r\n",
        "from keras.layers import SpatialDropout1D\r\n",
        "import tensorflow as tf"
      ],
      "execution_count": 89,
      "outputs": []
    },
    {
      "cell_type": "code",
      "metadata": {
        "colab": {
          "base_uri": "https://localhost:8080/"
        },
        "id": "HTeol4-uH_uN",
        "outputId": "08c5d9de-c5eb-48e5-cd85-071d87fed278"
      },
      "source": [
        "import nltk\r\n",
        "nltk.download('punkt')\r\n",
        "nltk.download('wordnet')\r\n",
        "nltk.download('averaged_perceptron_tagger')\r\n",
        "nltk.download('stopwords')"
      ],
      "execution_count": 3,
      "outputs": [
        {
          "output_type": "stream",
          "text": [
            "[nltk_data] Downloading package punkt to /root/nltk_data...\n",
            "[nltk_data]   Unzipping tokenizers/punkt.zip.\n",
            "[nltk_data] Downloading package wordnet to /root/nltk_data...\n",
            "[nltk_data]   Unzipping corpora/wordnet.zip.\n",
            "[nltk_data] Downloading package averaged_perceptron_tagger to\n",
            "[nltk_data]     /root/nltk_data...\n",
            "[nltk_data]   Unzipping taggers/averaged_perceptron_tagger.zip.\n",
            "[nltk_data] Downloading package stopwords to /root/nltk_data...\n",
            "[nltk_data]   Unzipping corpora/stopwords.zip.\n"
          ],
          "name": "stdout"
        },
        {
          "output_type": "execute_result",
          "data": {
            "text/plain": [
              "True"
            ]
          },
          "metadata": {
            "tags": []
          },
          "execution_count": 3
        }
      ]
    },
    {
      "cell_type": "code",
      "metadata": {
        "id": "ekQ_w-l4hqbA"
      },
      "source": [
        "# from google.colab import files\r\n",
        "# uploaded= files.upload()\r\n",
        "# file= \"Train_Text.txt\"\r\n",
        "# uploaded[file].decode(\"utf-8\").split(\"\\r\\n\")\r\n",
        "\r\n",
        "r= requests.get('https://raw.githubusercontent.com/cardiffnlp/tweeteval/main/datasets/emotion/train_text.txt', allow_redirects= True)\r\n",
        "open('train_text.txt', 'wb').write(r.content)\r\n",
        "example1 = \"/content/train_text.txt\"\r\n",
        "with open(example1, \"r\") as file1:\r\n",
        "    data = file1.readlines()"
      ],
      "execution_count": 4,
      "outputs": []
    },
    {
      "cell_type": "code",
      "metadata": {
        "id": "PF-O14MGkVle"
      },
      "source": [
        "r= requests.get('https://raw.githubusercontent.com/cardiffnlp/tweeteval/main/datasets/emotion/train_labels.txt', allow_redirects= True)\r\n",
        "open('train_labels.txt', 'wb').write(r.content)\r\n",
        "example1 = \"/content/train_labels.txt\"\r\n",
        "with open(example1, \"r\") as file1:\r\n",
        "    data1 = file1.readlines()"
      ],
      "execution_count": 5,
      "outputs": []
    },
    {
      "cell_type": "code",
      "metadata": {
        "id": "xK90mgBImGvA"
      },
      "source": [
        "r= requests.get('https://raw.githubusercontent.com/cardiffnlp/tweeteval/main/datasets/emotion/test_text.txt', allow_redirects= True)\r\n",
        "open('test_text.txt', 'wb').write(r.content)\r\n",
        "example1 = \"/content/test_text.txt\"\r\n",
        "with open(example1, \"r\") as file1:\r\n",
        "    data2 = file1.readlines()"
      ],
      "execution_count": 6,
      "outputs": []
    },
    {
      "cell_type": "code",
      "metadata": {
        "id": "mp7l2InYmKX-"
      },
      "source": [
        "r= requests.get('https://raw.githubusercontent.com/cardiffnlp/tweeteval/main/datasets/emotion/test_labels.txt', allow_redirects= True)\r\n",
        "open('test_labels.txt', 'wb').write(r.content)\r\n",
        "example1 = \"/content/test_labels.txt\"\r\n",
        "with open(example1, \"r\") as file1:\r\n",
        "    data3 = file1.readlines()"
      ],
      "execution_count": 7,
      "outputs": []
    },
    {
      "cell_type": "code",
      "metadata": {
        "id": "8aznNiGZmKrn"
      },
      "source": [
        "# data = uploaded[file].decode(\"utf-8\").split(\"\\r\\n\")\r\n",
        "# data1 = uploaded1[file1].decode(\"utf-8\").split(\"\\r\\n\")\r\n",
        "# data2 = uploaded2[file2].decode(\"utf-8\").split(\"\\r\\n\")\r\n",
        "# data3 = uploaded3[file3].decode(\"utf-8\").split(\"\\r\\n\")\r\n",
        "\r\n",
        "data= [data[i].strip() for i in range(len(data))]\r\n",
        "data1= [data1[i].strip() for i in range(len(data1))]\r\n",
        "data2= [data2[i].strip() for i in range(len(data2))]\r\n",
        "data3= [data3[i].strip() for i in range(len(data3))]"
      ],
      "execution_count": 8,
      "outputs": []
    },
    {
      "cell_type": "code",
      "metadata": {
        "colab": {
          "base_uri": "https://localhost:8080/",
          "height": 198
        },
        "id": "V3E8Ugn-tniG",
        "outputId": "41628573-1f45-4456-e482-f99990ab26a1"
      },
      "source": [
        "### df is dataframe for training data\r\n",
        "\r\n",
        "df= pd.DataFrame()\r\n",
        "for index in range(len(data)):\r\n",
        "  df.loc[index, 'Text']=data[index]\r\n",
        "df.head()"
      ],
      "execution_count": 49,
      "outputs": [
        {
          "output_type": "execute_result",
          "data": {
            "text/html": [
              "<div>\n",
              "<style scoped>\n",
              "    .dataframe tbody tr th:only-of-type {\n",
              "        vertical-align: middle;\n",
              "    }\n",
              "\n",
              "    .dataframe tbody tr th {\n",
              "        vertical-align: top;\n",
              "    }\n",
              "\n",
              "    .dataframe thead th {\n",
              "        text-align: right;\n",
              "    }\n",
              "</style>\n",
              "<table border=\"1\" class=\"dataframe\">\n",
              "  <thead>\n",
              "    <tr style=\"text-align: right;\">\n",
              "      <th></th>\n",
              "      <th>Text</th>\n",
              "    </tr>\n",
              "  </thead>\n",
              "  <tbody>\n",
              "    <tr>\n",
              "      <th>0</th>\n",
              "      <td>“Worry is a down payment on a problem you may ...</td>\n",
              "    </tr>\n",
              "    <tr>\n",
              "      <th>1</th>\n",
              "      <td>My roommate: it's okay that we can't spell bec...</td>\n",
              "    </tr>\n",
              "    <tr>\n",
              "      <th>2</th>\n",
              "      <td>No but that's so cute. Atsu was probably shy a...</td>\n",
              "    </tr>\n",
              "    <tr>\n",
              "      <th>3</th>\n",
              "      <td>Rooneys fucking untouchable isn't he? Been fuc...</td>\n",
              "    </tr>\n",
              "    <tr>\n",
              "      <th>4</th>\n",
              "      <td>it's pretty depressing when u hit pan on ur fa...</td>\n",
              "    </tr>\n",
              "  </tbody>\n",
              "</table>\n",
              "</div>"
            ],
            "text/plain": [
              "                                                Text\n",
              "0  “Worry is a down payment on a problem you may ...\n",
              "1  My roommate: it's okay that we can't spell bec...\n",
              "2  No but that's so cute. Atsu was probably shy a...\n",
              "3  Rooneys fucking untouchable isn't he? Been fuc...\n",
              "4  it's pretty depressing when u hit pan on ur fa..."
            ]
          },
          "metadata": {
            "tags": []
          },
          "execution_count": 49
        }
      ]
    },
    {
      "cell_type": "code",
      "metadata": {
        "colab": {
          "base_uri": "https://localhost:8080/",
          "height": 198
        },
        "id": "TrVJT7dbn8uZ",
        "outputId": "0c34ea7f-5ddb-4d69-e878-2acea3fec297"
      },
      "source": [
        "for index in range(len(data1)):\r\n",
        "  df.loc[index, 'Label']=data1[index]\r\n",
        "df.head()"
      ],
      "execution_count": 50,
      "outputs": [
        {
          "output_type": "execute_result",
          "data": {
            "text/html": [
              "<div>\n",
              "<style scoped>\n",
              "    .dataframe tbody tr th:only-of-type {\n",
              "        vertical-align: middle;\n",
              "    }\n",
              "\n",
              "    .dataframe tbody tr th {\n",
              "        vertical-align: top;\n",
              "    }\n",
              "\n",
              "    .dataframe thead th {\n",
              "        text-align: right;\n",
              "    }\n",
              "</style>\n",
              "<table border=\"1\" class=\"dataframe\">\n",
              "  <thead>\n",
              "    <tr style=\"text-align: right;\">\n",
              "      <th></th>\n",
              "      <th>Text</th>\n",
              "      <th>Label</th>\n",
              "    </tr>\n",
              "  </thead>\n",
              "  <tbody>\n",
              "    <tr>\n",
              "      <th>0</th>\n",
              "      <td>“Worry is a down payment on a problem you may ...</td>\n",
              "      <td>2</td>\n",
              "    </tr>\n",
              "    <tr>\n",
              "      <th>1</th>\n",
              "      <td>My roommate: it's okay that we can't spell bec...</td>\n",
              "      <td>0</td>\n",
              "    </tr>\n",
              "    <tr>\n",
              "      <th>2</th>\n",
              "      <td>No but that's so cute. Atsu was probably shy a...</td>\n",
              "      <td>1</td>\n",
              "    </tr>\n",
              "    <tr>\n",
              "      <th>3</th>\n",
              "      <td>Rooneys fucking untouchable isn't he? Been fuc...</td>\n",
              "      <td>0</td>\n",
              "    </tr>\n",
              "    <tr>\n",
              "      <th>4</th>\n",
              "      <td>it's pretty depressing when u hit pan on ur fa...</td>\n",
              "      <td>3</td>\n",
              "    </tr>\n",
              "  </tbody>\n",
              "</table>\n",
              "</div>"
            ],
            "text/plain": [
              "                                                Text Label\n",
              "0  “Worry is a down payment on a problem you may ...     2\n",
              "1  My roommate: it's okay that we can't spell bec...     0\n",
              "2  No but that's so cute. Atsu was probably shy a...     1\n",
              "3  Rooneys fucking untouchable isn't he? Been fuc...     0\n",
              "4  it's pretty depressing when u hit pan on ur fa...     3"
            ]
          },
          "metadata": {
            "tags": []
          },
          "execution_count": 50
        }
      ]
    },
    {
      "cell_type": "code",
      "metadata": {
        "colab": {
          "base_uri": "https://localhost:8080/",
          "height": 198
        },
        "id": "6_yOT1deEIv_",
        "outputId": "7727b1a1-a726-483a-bfe0-dca48f3a97c9"
      },
      "source": [
        "### df1 is dataframe for test data\r\n",
        "\r\n",
        "df1= pd.DataFrame()\r\n",
        "for index in range(len(data2)):\r\n",
        "  df1.loc[index, 'Text']=data2[index]\r\n",
        "df1.head()"
      ],
      "execution_count": 51,
      "outputs": [
        {
          "output_type": "execute_result",
          "data": {
            "text/html": [
              "<div>\n",
              "<style scoped>\n",
              "    .dataframe tbody tr th:only-of-type {\n",
              "        vertical-align: middle;\n",
              "    }\n",
              "\n",
              "    .dataframe tbody tr th {\n",
              "        vertical-align: top;\n",
              "    }\n",
              "\n",
              "    .dataframe thead th {\n",
              "        text-align: right;\n",
              "    }\n",
              "</style>\n",
              "<table border=\"1\" class=\"dataframe\">\n",
              "  <thead>\n",
              "    <tr style=\"text-align: right;\">\n",
              "      <th></th>\n",
              "      <th>Text</th>\n",
              "    </tr>\n",
              "  </thead>\n",
              "  <tbody>\n",
              "    <tr>\n",
              "      <th>0</th>\n",
              "      <td>#Deppression is real. Partners w/ #depressed p...</td>\n",
              "    </tr>\n",
              "    <tr>\n",
              "      <th>1</th>\n",
              "      <td>@user Interesting choice of words... Are you c...</td>\n",
              "    </tr>\n",
              "    <tr>\n",
              "      <th>2</th>\n",
              "      <td>My visit to hospital for care triggered #traum...</td>\n",
              "    </tr>\n",
              "    <tr>\n",
              "      <th>3</th>\n",
              "      <td>@user Welcome to #MPSVT! We are delighted to h...</td>\n",
              "    </tr>\n",
              "    <tr>\n",
              "      <th>4</th>\n",
              "      <td>What makes you feel #joyful?</td>\n",
              "    </tr>\n",
              "  </tbody>\n",
              "</table>\n",
              "</div>"
            ],
            "text/plain": [
              "                                                Text\n",
              "0  #Deppression is real. Partners w/ #depressed p...\n",
              "1  @user Interesting choice of words... Are you c...\n",
              "2  My visit to hospital for care triggered #traum...\n",
              "3  @user Welcome to #MPSVT! We are delighted to h...\n",
              "4                       What makes you feel #joyful?"
            ]
          },
          "metadata": {
            "tags": []
          },
          "execution_count": 51
        }
      ]
    },
    {
      "cell_type": "code",
      "metadata": {
        "colab": {
          "base_uri": "https://localhost:8080/",
          "height": 198
        },
        "id": "Z8xyveUdEI7-",
        "outputId": "e2e7aaf2-9a69-4ad0-efd1-4806e8f7a14f"
      },
      "source": [
        "for index in range(len(data3)):\r\n",
        "  df1.loc[index, 'Label']=data3[index]\r\n",
        "df1.head()"
      ],
      "execution_count": 52,
      "outputs": [
        {
          "output_type": "execute_result",
          "data": {
            "text/html": [
              "<div>\n",
              "<style scoped>\n",
              "    .dataframe tbody tr th:only-of-type {\n",
              "        vertical-align: middle;\n",
              "    }\n",
              "\n",
              "    .dataframe tbody tr th {\n",
              "        vertical-align: top;\n",
              "    }\n",
              "\n",
              "    .dataframe thead th {\n",
              "        text-align: right;\n",
              "    }\n",
              "</style>\n",
              "<table border=\"1\" class=\"dataframe\">\n",
              "  <thead>\n",
              "    <tr style=\"text-align: right;\">\n",
              "      <th></th>\n",
              "      <th>Text</th>\n",
              "      <th>Label</th>\n",
              "    </tr>\n",
              "  </thead>\n",
              "  <tbody>\n",
              "    <tr>\n",
              "      <th>0</th>\n",
              "      <td>#Deppression is real. Partners w/ #depressed p...</td>\n",
              "      <td>3</td>\n",
              "    </tr>\n",
              "    <tr>\n",
              "      <th>1</th>\n",
              "      <td>@user Interesting choice of words... Are you c...</td>\n",
              "      <td>0</td>\n",
              "    </tr>\n",
              "    <tr>\n",
              "      <th>2</th>\n",
              "      <td>My visit to hospital for care triggered #traum...</td>\n",
              "      <td>3</td>\n",
              "    </tr>\n",
              "    <tr>\n",
              "      <th>3</th>\n",
              "      <td>@user Welcome to #MPSVT! We are delighted to h...</td>\n",
              "      <td>1</td>\n",
              "    </tr>\n",
              "    <tr>\n",
              "      <th>4</th>\n",
              "      <td>What makes you feel #joyful?</td>\n",
              "      <td>1</td>\n",
              "    </tr>\n",
              "  </tbody>\n",
              "</table>\n",
              "</div>"
            ],
            "text/plain": [
              "                                                Text Label\n",
              "0  #Deppression is real. Partners w/ #depressed p...     3\n",
              "1  @user Interesting choice of words... Are you c...     0\n",
              "2  My visit to hospital for care triggered #traum...     3\n",
              "3  @user Welcome to #MPSVT! We are delighted to h...     1\n",
              "4                       What makes you feel #joyful?     1"
            ]
          },
          "metadata": {
            "tags": []
          },
          "execution_count": 52
        }
      ]
    },
    {
      "cell_type": "code",
      "metadata": {
        "id": "2Mq9TK7gIXAn"
      },
      "source": [
        "# WordNetLemmatizer requires Pos tags to understand if the word is noun or verb or adjective etc. By default it is set to Noun\r\n",
        "tag_map = defaultdict(lambda : wn.NOUN)\r\n",
        "tag_map['J'] = wn.ADJ\r\n",
        "tag_map['V'] = wn.VERB\r\n",
        "tag_map['R'] = wn.ADV"
      ],
      "execution_count": 54,
      "outputs": []
    },
    {
      "cell_type": "code",
      "metadata": {
        "id": "f9sFWygpEwY_"
      },
      "source": [
        "# Step - a : Remove blank rows if any.\r\n",
        "\r\n",
        "#df['Text']= df1['Text'].astype(str)\r\n",
        "\r\n",
        "df['Text'].dropna(inplace=True)\r\n",
        "\r\n",
        "# Step - b : Change all the text to lower case.\r\n",
        "df['Text'] = [entry.lower() for entry in df['Text']]\r\n",
        "\r\n",
        "# Step - c : Tokenization : In this each entry in the corpus will be broken into set of words\r\n",
        "df['Text']= [word_tokenize(entry) for entry in df['Text']]\r\n",
        "\r\n",
        "for index,entry in enumerate(df['Text']):\r\n",
        "    # Declaring Empty List to store the words that follow the rules for this step\r\n",
        "    Final_words = []\r\n",
        "    # Initializing WordNetLemmatizer()\r\n",
        "    word_Lemmatized = WordNetLemmatizer()\r\n",
        "    # pos_tag function below will provide the 'tag' i.e if the word is Noun(N) or Verb(V) or something else.\r\n",
        "    for word, tag in pos_tag(entry):\r\n",
        "        # Below condition is to check for Stop words and consider only alphabets\r\n",
        "        if word not in stopwords.words('english') and word.isalpha():\r\n",
        "            word_Final = word_Lemmatized.lemmatize(word,tag_map[tag[0]])\r\n",
        "            Final_words.append(word_Final)\r\n",
        "    # The final processed set of words for each iteration will be stored in 'text_final'\r\n",
        "    df.loc[index,'Text_Final'] = str(Final_words) "
      ],
      "execution_count": 55,
      "outputs": []
    },
    {
      "cell_type": "code",
      "metadata": {
        "id": "e74uCTfnEjhW"
      },
      "source": [
        "# Step - a : Remove blank rows if any.\r\n",
        "\r\n",
        "#df1['Text']= df1['Text'].astype(str)\r\n",
        "\r\n",
        "df1['Text'].dropna(inplace=True)\r\n",
        "\r\n",
        "# Step - b : Change all the text to lower case.\r\n",
        "df1['Text'] = [entry.lower() for entry in df1['Text']]\r\n",
        "\r\n",
        "# Step - c : Tokenization : In this each entry in the corpus will be broken into set of words\r\n",
        "df1['Text']= [word_tokenize(entry) for entry in df1['Text']]\r\n",
        "\r\n",
        "for index,entry in enumerate(df1['Text']):\r\n",
        "    # Declaring Empty List to store the words that follow the rules for this step\r\n",
        "    Final_words = []\r\n",
        "    # Initializing WordNetLemmatizer()\r\n",
        "    word_Lemmatized = WordNetLemmatizer()\r\n",
        "    # pos_tag function below will provide the 'tag' i.e if the word is Noun(N) or Verb(V) or something else.\r\n",
        "    for word, tag in pos_tag(entry):\r\n",
        "        # Below condition is to check for Stop words and consider only alphabets\r\n",
        "        if word not in stopwords.words('english') and word.isalpha():\r\n",
        "            word_Final = word_Lemmatized.lemmatize(word,tag_map[tag[0]])\r\n",
        "            Final_words.append(word_Final)\r\n",
        "    # The final processed set of words for each iteration will be stored in 'text_final'\r\n",
        "    df1.loc[index,'Text_Final'] = str(Final_words) "
      ],
      "execution_count": 56,
      "outputs": []
    },
    {
      "cell_type": "code",
      "metadata": {
        "id": "pbjoh7QvXM_h",
        "colab": {
          "base_uri": "https://localhost:8080/"
        },
        "outputId": "26fecc3c-8485-445e-9b88-cecf6a5e63e7"
      },
      "source": [
        "t_df= pd.concat([df, df1])\r\n",
        "t_df['Label'].value_counts()"
      ],
      "execution_count": 57,
      "outputs": [
        {
          "output_type": "execute_result",
          "data": {
            "text/plain": [
              "0    1958\n",
              "3    1237\n",
              "1    1066\n",
              "2     417\n",
              "Name: Label, dtype: int64"
            ]
          },
          "metadata": {
            "tags": []
          },
          "execution_count": 57
        }
      ]
    },
    {
      "cell_type": "code",
      "metadata": {
        "id": "x2k4gUC0FLO7"
      },
      "source": [
        "# The maximum number of words to be used. (most frequent)\r\n",
        "MAX_NB_WORDS = 10000\r\n",
        "# Max number of words in each tweet.\r\n",
        "MAX_SEQUENCE_LENGTH = 18\r\n",
        "# This is fixed.\r\n",
        "EMBEDDING_DIM = 100\r\n",
        "\r\n",
        "tokenizer = Tokenizer(num_words=MAX_NB_WORDS, filters='!\"#$%&()*+,-./:;<=>?@[\\]^_`{|}~', lower=True)\r\n",
        "tokenizer.fit_on_texts(t_df['Text_Final'].values)\r\n",
        "word_index = tokenizer.word_index"
      ],
      "execution_count": 58,
      "outputs": []
    },
    {
      "cell_type": "code",
      "metadata": {
        "colab": {
          "base_uri": "https://localhost:8080/"
        },
        "id": "c98-P6X9GN41",
        "outputId": "4e5836e4-30af-4783-eb86-27d5b3acf4e1"
      },
      "source": [
        "print('Found %s unique tokens.' % len(word_index))"
      ],
      "execution_count": 59,
      "outputs": [
        {
          "output_type": "stream",
          "text": [
            "Found 8544 unique tokens.\n"
          ],
          "name": "stdout"
        }
      ]
    },
    {
      "cell_type": "code",
      "metadata": {
        "colab": {
          "base_uri": "https://localhost:8080/"
        },
        "id": "xfza8wEYIzpI",
        "outputId": "6b5af751-26a3-4b84-bc46-f3259324f42b"
      },
      "source": [
        "print(word_index)"
      ],
      "execution_count": 60,
      "outputs": [
        {
          "output_type": "stream",
          "text": [
            "{\"'user'\": 1, \"'get'\": 2, \"'like'\": 3, \"'go'\": 4, \"'amp'\": 5, \"'make'\": 6, \"'u'\": 7, \"'people'\": 8, \"'one'\": 9, \"'know'\": 10, \"'think'\": 11, \"'love'\": 12, \"'say'\": 13, \"'day'\": 14, \"'time'\": 15, \"'look'\": 16, \"'see'\": 17, \"'feel'\": 18, \"'want'\": 19, \"'sad'\": 20, \"'need'\": 21, \"'would'\": 22, \"'really'\": 23, \"'good'\": 24, \"'bad'\": 25, \"'watch'\": 26, \"'even'\": 27, \"'still'\": 28, \"'take'\": 29, \"'back'\": 30, \"'ca'\": 31, \"'fuck'\": 32, \"'work'\": 33, \"'thing'\": 34, \"'today'\": 35, \"'fear'\": 36, \"'lose'\": 37, \"'life'\": 38, \"'start'\": 39, \"'never'\": 40, \"'let'\": 41, \"'someone'\": 42, \"'angry'\": 43, \"'much'\": 44, \"'come'\": 45, \"'try'\": 46, \"'happy'\": 47, \"'depression'\": 48, \"'year'\": 49, \"'way'\": 50, \"'right'\": 51, \"'well'\": 52, \"'new'\": 53, \"'tell'\": 54, \"'use'\": 55, \"'man'\": 56, \"'sadness'\": 57, \"'could'\": 58, \"'play'\": 59, \"'terrorism'\": 60, \"'stop'\": 61, \"'rage'\": 62, \"'anger'\": 63, \"'find'\": 64, \"'awful'\": 65, \"'ever'\": 66, \"'im'\": 67, \"'give'\": 68, \"'fume'\": 69, \"'night'\": 70, \"'anxiety'\": 71, \"'last'\": 72, \"'na'\": 73, \"'leave'\": 74, \"'smile'\": 75, \"'always'\": 76, \"'cry'\": 77, \"'outrage'\": 78, \"'bully'\": 79, \"'little'\": 80, \"'talk'\": 81, \"'call'\": 82, \"'guy'\": 83, \"'big'\": 84, \"'lol'\": 85, \"'offend'\": 86, \"'shit'\": 87, \"'terrible'\": 88, \"'horrible'\": 89, \"'every'\": 90, \"'first'\": 91, \"'game'\": 92, \"'depress'\": 93, \"'something'\": 94, \"'help'\": 95, \"'hilarious'\": 96, \"'blue'\": 97, \"'nightmare'\": 98, \"'trump'\": 99, \"'great'\": 100, \"'show'\": 101, \"'afraid'\": 102, \"'terror'\": 103, \"'best'\": 104, \"'hate'\": 105, \"'wait'\": 106, \"'oh'\": 107, \"'shock'\": 108, \"'week'\": 109, \"'old'\": 110, \"'die'\": 111, \"'ask'\": 112, \"'worry'\": 113, \"'hope'\": 114, \"'keep'\": 115, \"'shake'\": 116, \"'serious'\": 117, \"'face'\": 118, \"'break'\": 119, \"'happen'\": 120, \"'world'\": 121, \"'god'\": 122, \"'mean'\": 123, \"'miss'\": 124, \"'amazing'\": 125, \"'black'\": 126, \"'live'\": 127, \"'please'\": 128, \"'hold'\": 129, \"'nothing'\": 130, \"'revenge'\": 131, \"'attack'\": 132, \"'ur'\": 133, \"'home'\": 134, \"'heart'\": 135, \"'turn'\": 136, \"'kill'\": 137, \"'another'\": 138, \"'many'\": 139, \"'horror'\": 140, \"'away'\": 141, \"'friend'\": 142, \"'next'\": 143, \"'hard'\": 144, \"'person'\": 145, \"'word'\": 146, \"'put'\": 147, \"'tonight'\": 148, \"'furious'\": 149, \"'funny'\": 150, \"'stay'\": 151, \"'sleep'\": 152, \"'also'\": 153, \"'bitter'\": 154, \"'snap'\": 155, \"'end'\": 156, \"'girl'\": 157, \"'point'\": 158, \"'hear'\": 159, \"'real'\": 160, \"'service'\": 161, \"'laugh'\": 162, \"'panic'\": 163, \"'hell'\": 164, \"'long'\": 165, \"'nervous'\": 166, \"'wan'\": 167, \"'may'\": 168, \"'around'\": 169, \"'actually'\": 170, \"'cheer'\": 171, \"'woman'\": 172, \"'month'\": 173, \"'team'\": 174, \"'sorry'\": 175, \"'dream'\": 176, \"'dark'\": 177, \"'kid'\": 178, \"'change'\": 179, \"'birthday'\": 180, \"'thanks'\": 181, \"'wish'\": 182, \"'twitter'\": 183, \"'maybe'\": 184, \"'anything'\": 185, \"'n'\": 186, \"'literally'\": 187, \"'without'\": 188, \"'run'\": 189, \"'yet'\": 190, \"'bit'\": 191, \"'burn'\": 192, \"'hour'\": 193, \"'house'\": 194, \"'discourage'\": 195, \"'phone'\": 196, \"'everyone'\": 197, \"'rag'\": 198, \"'glee'\": 199, \"'wrong'\": 200, \"'tweet'\": 201, \"'tomorrow'\": 202, \"'pay'\": 203, \"'alarm'\": 204, \"'pretty'\": 205, \"'fucking'\": 206, \"'part'\": 207, \"'quote'\": 208, \"'optimism'\": 209, \"'music'\": 210, \"'two'\": 211, \"'mind'\": 212, \"'though'\": 213, \"'job'\": 214, \"'war'\": 215, \"'family'\": 216, \"'cause'\": 217, \"'insult'\": 218, \"'sadly'\": 219, \"'lot'\": 220, \"'post'\": 221, \"'thank'\": 222, \"'fact'\": 223, \"'follow'\": 224, \"'already'\": 225, \"'bc'\": 226, \"'do'\": 227, \"'hand'\": 228, \"'fury'\": 229, \"'irritate'\": 230, \"'remember'\": 231, \"'buy'\": 232, \"'since'\": 233, \"'grim'\": 234, \"'customer'\": 235, \"'news'\": 236, \"'sober'\": 237, \"'despair'\": 238, \"'gon'\": 239, \"'wow'\": 240, \"'unhappy'\": 241, \"'enough'\": 242, \"'broadcast'\": 243, \"'morning'\": 244, \"'police'\": 245, \"'moment'\": 246, \"'head'\": 247, \"'as'\": 248, \"'crap'\": 249, \"'joke'\": 250, \"'believe'\": 251, \"'whole'\": 252, \"'tear'\": 253, \"'listen'\": 254, \"'musically'\": 255, \"'might'\": 256, \"'sure'\": 257, \"'pakistan'\": 258, \"'lie'\": 259, \"'problem'\": 260, \"'seriously'\": 261, \"'sink'\": 262, \"'gbbo'\": 263, \"'gt'\": 264, \"'mad'\": 265, \"'state'\": 266, \"'money'\": 267, \"'move'\": 268, \"'half'\": 269, \"'care'\": 270, \"'anyone'\": 271, \"'mourn'\": 272, \"'late'\": 273, \"'movie'\": 274, \"'become'\": 275, \"'place'\": 276, \"'lively'\": 277, \"'seem'\": 278, \"'child'\": 279, \"'free'\": 280, \"'read'\": 281, \"'dreadful'\": 282, \"'concern'\": 283, \"'wo'\": 284, \"'win'\": 285, \"'annoy'\": 286, \"'wake'\": 287, \"'burst'\": 288, \"'tv'\": 289, \"'yeah'\": 290, \"'boy'\": 291, \"'name'\": 292, \"'dread'\": 293, \"'wrath'\": 294, \"'offense'\": 295, \"'sound'\": 296, \"'india'\": 297, \"'kind'\": 298, \"'everything'\": 299, \"'pout'\": 300, \"'gloomy'\": 301, \"'sometimes'\": 302, \"'horrific'\": 303, \"'book'\": 304, \"'bring'\": 305, \"'season'\": 306, \"'sit'\": 307, \"'send'\": 308, \"'write'\": 309, \"'dont'\": 310, \"'speak'\": 311, \"'fire'\": 312, \"'suppose'\": 313, \"'sting'\": 314, \"'support'\": 315, \"'eat'\": 316, \"'weary'\": 317, \"'rejoice'\": 318, \"'awe'\": 319, \"'fight'\": 320, \"'country'\": 321, \"'death'\": 322, \"'video'\": 323, \"'ticket'\": 324, \"'close'\": 325, \"'issue'\": 326, \"'player'\": 327, \"'fan'\": 328, \"'spend'\": 329, \"'shy'\": 330, \"'hit'\": 331, \"'order'\": 332, \"'forget'\": 333, \"'eye'\": 334, \"'minute'\": 335, \"'instead'\": 336, \"'meet'\": 337, \"'snapchat'\": 338, \"'class'\": 339, \"'dog'\": 340, \"'expect'\": 341, \"'wonder'\": 342, \"'understand'\": 343, \"'damn'\": 344, \"'white'\": 345, \"'yes'\": 346, \"'omg'\": 347, \"'truth'\": 348, \"'okay'\": 349, \"'probably'\": 350, \"'dull'\": 351, \"'rest'\": 352, \"'laughter'\": 353, \"'side'\": 354, \"'either'\": 355, \"'v'\": 356, \"'test'\": 357, \"'hey'\": 358, \"'top'\": 359, \"'absolutely'\": 360, \"'fun'\": 361, \"'least'\": 362, \"'alone'\": 363, \"'frown'\": 364, \"'horrid'\": 365, \"'stupid'\": 366, \"'else'\": 367, \"'grudge'\": 368, \"'reason'\": 369, \"'outside'\": 370, \"'terrorist'\": 371, \"'drop'\": 372, \"'school'\": 373, \"'beautiful'\": 374, \"'soul'\": 375, \"'age'\": 376, \"'walk'\": 377, \"'experience'\": 378, \"'question'\": 379, \"'poor'\": 380, \"'relentless'\": 381, \"'ha'\": 382, \"'hair'\": 383, \"'scar'\": 384, \"'hurt'\": 385, \"'hatred'\": 386, \"'must'\": 387, \"'boil'\": 388, \"'haunt'\": 389, \"'pic'\": 390, \"'idea'\": 391, \"'cant'\": 392, \"'piss'\": 393, \"'destroy'\": 394, \"'bitch'\": 395, \"'threaten'\": 396, \"'feeling'\": 397, \"'soon'\": 398, \"'intimidate'\": 399, \"'episode'\": 400, \"'america'\": 401, \"'human'\": 402, \"'car'\": 403, \"'american'\": 404, \"'saw'\": 405, \"'rabid'\": 406, \"'online'\": 407, \"'blood'\": 408, \"'restless'\": 409, \"'men'\": 410, \"'mom'\": 411, \"'pessimist'\": 412, \"'vote'\": 413, \"'realize'\": 414, \"'protest'\": 415, \"'stuff'\": 416, \"'delight'\": 417, \"'matter'\": 418, \"'deal'\": 419, \"'full'\": 420, \"'finally'\": 421, \"'hillary'\": 422, \"'future'\": 423, \"'room'\": 424, \"'stand'\": 425, \"'holiday'\": 426, \"'wtf'\": 427, \"'fall'\": 428, \"'learn'\": 429, \"'high'\": 430, \"'thought'\": 431, \"'open'\": 432, \"'story'\": 433, \"'past'\": 434, \"'bed'\": 435, \"'ppl'\": 436, \"'early'\": 437, \"'scare'\": 438, \"'almost'\": 439, \"'safe'\": 440, \"'act'\": 441, \"'chance'\": 442, \"'fake'\": 443, \"'lt'\": 444, \"'kinda'\": 445, \"'terrify'\": 446, \"'awesome'\": 447, \"'president'\": 448, \"'flight'\": 449, \"'racism'\": 450, \"'drink'\": 451, \"'true'\": 452, \"'sick'\": 453, \"'sign'\": 454, \"'honestly'\": 455, \"'interview'\": 456, \"'king'\": 457, \"'inside'\": 458, \"'store'\": 459, \"'brother'\": 460, \"'decide'\": 461, \"'hilarity'\": 462, \"'cover'\": 463, \"'dude'\": 464, \"'lip'\": 465, \"'level'\": 466, \"'racist'\": 467, \"'ago'\": 468, \"'guess'\": 469, \"'shoot'\": 470, \"'ta'\": 471, \"'together'\": 472, \"'match'\": 473, \"'city'\": 474, \"'throw'\": 475, \"'ball'\": 476, \"'r'\": 477, \"'front'\": 478, \"'lmao'\": 479, \"'pine'\": 480, \"'second'\": 481, \"'threat'\": 482, \"'ok'\": 483, \"'red'\": 484, \"'email'\": 485, \"'ai'\": 486, \"'food'\": 487, \"'rather'\": 488, \"'body'\": 489, \"'ready'\": 490, \"'voice'\": 491, \"'breezy'\": 492, \"'growl'\": 493, \"'low'\": 494, \"'fiery'\": 495, \"'playful'\": 496, \"'forever'\": 497, \"'bright'\": 498, \"'joyful'\": 499, \"'wear'\": 500, \"'power'\": 501, \"'grow'\": 502, \"'sort'\": 503, \"'history'\": 504, \"'nice'\": 505, \"'lonely'\": 506, \"'towards'\": 507, \"'cop'\": 508, \"'key'\": 509, \"'pick'\": 510, \"'evening'\": 511, \"'contact'\": 512, \"'train'\": 513, \"'medium'\": 514, \"'hot'\": 515, \"'baby'\": 516, \"'far'\": 517, \"'tantrum'\": 518, \"'tired'\": 519, \"'government'\": 520, \"'cute'\": 521, \"'weak'\": 522, \"'excite'\": 523, \"'amaze'\": 524, \"'sing'\": 525, \"'goal'\": 526, \"'mine'\": 527, \"'drive'\": 528, \"'within'\": 529, \"'b'\": 530, \"'short'\": 531, \"'adorable'\": 532, \"'express'\": 533, \"'website'\": 534, \"'madden'\": 535, \"'muslim'\": 536, \"'pull'\": 537, \"'finish'\": 538, \"'depressed'\": 539, \"'bless'\": 540, \"'bus'\": 541, \"'cheery'\": 542, \"'left'\": 543, \"'provoke'\": 544, \"'film'\": 545, \"'lead'\": 546, \"'yo'\": 547, \"'door'\": 548, \"'others'\": 549, \"'able'\": 550, \"'ya'\": 551, \"'w'\": 552, \"'success'\": 553, \"'return'\": 554, \"'add'\": 555, \"'super'\": 556, \"'water'\": 557, \"'mood'\": 558, \"'picture'\": 559, \"'depressing'\": 560, \"'action'\": 561, \"'college'\": 562, \"'fill'\": 563, \"'dry'\": 564, \"'resent'\": 565, \"'agree'\": 566, \"'straight'\": 567, \"'infuriate'\": 568, \"'deserve'\": 569, \"'resentment'\": 570, \"'sense'\": 571, \"'force'\": 572, \"'felt'\": 573, \"'huff'\": 574, \"'truly'\": 575, \"'folk'\": 576, \"'rip'\": 577, \"'dad'\": 578, \"'road'\": 579, \"'situation'\": 580, \"'adult'\": 581, \"'imagine'\": 582, \"'glad'\": 583, \"'blow'\": 584, \"'peace'\": 585, \"'bet'\": 586, \"'dear'\": 587, \"'gun'\": 588, \"'party'\": 589, \"'ugh'\": 590, \"'mistake'\": 591, \"'pain'\": 592, \"'dead'\": 593, \"'swear'\": 594, \"'wonderful'\": 595, \"'tho'\": 596, \"'light'\": 597, \"'record'\": 598, \"'idiot'\": 599, \"'suck'\": 600, \"'bore'\": 601, \"'plan'\": 602, \"'stick'\": 603, \"'earth'\": 604, \"'line'\": 605, \"'opinion'\": 606, \"'excited'\": 607, \"'eclipse'\": 608, \"'usa'\": 609, \"'begin'\": 610, \"'air'\": 611, \"'attempt'\": 612, \"'smoke'\": 613, \"'star'\": 614, \"'lady'\": 615, \"'clown'\": 616, \"'mhchat'\": 617, \"'accept'\": 618, \"'rule'\": 619, \"'race'\": 620, \"'levity'\": 621, \"'summer'\": 622, \"'account'\": 623, \"'relationship'\": 624, \"'optimist'\": 625, \"'ruin'\": 626, \"'create'\": 627, \"'sister'\": 628, \"'whatever'\": 629, \"'forward'\": 630, \"'business'\": 631, \"'catch'\": 632, \"'friday'\": 633, \"'scary'\": 634, \"'enjoy'\": 635, \"'cut'\": 636, \"'struggle'\": 637, \"'smh'\": 638, \"'terrific'\": 639, \"'blame'\": 640, \"'song'\": 641, \"'often'\": 642, \"'jump'\": 643, \"'internet'\": 644, \"'deep'\": 645, \"'control'\": 646, \"'john'\": 647, \"'check'\": 648, \"'price'\": 649, \"'dm'\": 650, \"'fuckin'\": 651, \"'heartbreaking'\": 652, \"'afternoon'\": 653, \"'gleeful'\": 654, \"'respect'\": 655, \"'near'\": 656, \"'avoid'\": 657, \"'paul'\": 658, \"'park'\": 659, \"'lack'\": 660, \"'anymore'\": 661, \"'sparkle'\": 662, \"'obviously'\": 663, \"'upset'\": 664, \"'clear'\": 665, \"'later'\": 666, \"'weather'\": 667, \"'cat'\": 668, \"'self'\": 669, \"'worth'\": 670, \"'happiness'\": 671, \"'easy'\": 672, \"'nope'\": 673, \"'final'\": 674, \"'favorite'\": 675, \"'sweet'\": 676, \"'grieve'\": 677, \"'shot'\": 678, \"'tip'\": 679, \"'living'\": 680, \"'form'\": 681, \"'card'\": 682, \"'crime'\": 683, \"'perfect'\": 684, \"'negative'\": 685, \"'character'\": 686, \"'fast'\": 687, \"'continue'\": 688, \"'step'\": 689, \"'join'\": 690, \"'son'\": 691, \"'less'\": 692, \"'dumb'\": 693, \"'islam'\": 694, \"'trash'\": 695, \"'opportunity'\": 696, \"'social'\": 697, \"'cool'\": 698, \"'cloud'\": 699, \"'feed'\": 700, \"'block'\": 701, \"'exactly'\": 702, \"'bear'\": 703, \"'animate'\": 704, \"'box'\": 705, \"'political'\": 706, \"'network'\": 707, \"'pop'\": 708, \"'app'\": 709, \"'smell'\": 710, \"'promise'\": 711, \"'milk'\": 712, \"'lord'\": 713, \"'cross'\": 714, \"'nicole'\": 715, \"'pizza'\": 716, \"'tiff'\": 717, \"'haha'\": 718, \"'set'\": 719, \"'update'\": 720, \"'choose'\": 721, \"'faith'\": 722, \"'hang'\": 723, \"'chirp'\": 724, \"'beat'\": 725, \"'hi'\": 726, \"'kik'\": 727, \"'taste'\": 728, \"'info'\": 729, \"'track'\": 730, \"'address'\": 731, \"'brown'\": 732, \"'sir'\": 733, \"'photo'\": 734, \"'piece'\": 735, \"'drug'\": 736, \"'definitely'\": 737, \"'anyway'\": 738, \"'bunch'\": 739, \"'kick'\": 740, \"'rock'\": 741, \"'plus'\": 742, \"'debate'\": 743, \"'aggravate'\": 744, \"'yesterday'\": 745, \"'steal'\": 746, \"'reality'\": 747, \"'blind'\": 748, \"'texan'\": 749, \"'shut'\": 750, \"'mate'\": 751, \"'charge'\": 752, \"'somebody'\": 753, \"'three'\": 754, \"'carry'\": 755, \"'lay'\": 756, \"'hide'\": 757, \"'incense'\": 758, \"'charlotte'\": 759, \"'date'\": 760, \"'parent'\": 761, \"'exhilarate'\": 762, \"'russia'\": 763, \"'member'\": 764, \"'sun'\": 765, \"'assume'\": 766, \"'coffee'\": 767, \"'dick'\": 768, \"'rn'\": 769, \"'arrive'\": 770, \"'officer'\": 771, \"'answer'\": 772, \"'draw'\": 773, \"'apparently'\": 774, \"'floor'\": 775, \"'behind'\": 776, \"'offer'\": 777, \"'allow'\": 778, \"'kiss'\": 779, \"'garbage'\": 780, \"'nation'\": 781, \"'ring'\": 782, \"'different'\": 783, \"'case'\": 784, \"'joy'\": 785, \"'radio'\": 786, \"'scene'\": 787, \"'queue'\": 788, \"'respond'\": 789, \"'mouth'\": 790, \"'fuming'\": 791, \"'reach'\": 792, \"'silence'\": 793, \"'mother'\": 794, \"'cunt'\": 795, \"'irate'\": 796, \"'extra'\": 797, \"'leg'\": 798, \"'pure'\": 799, \"'channel'\": 800, \"'sex'\": 801, \"'choice'\": 802, \"'fail'\": 803, \"'giggle'\": 804, \"'brilliant'\": 805, \"'result'\": 806, \"'remind'\": 807, \"'min'\": 808, \"'sky'\": 809, \"'local'\": 810, \"'include'\": 811, \"'delicious'\": 812, \"'pak'\": 813, \"'nd'\": 814, \"'difference'\": 815, \"'article'\": 816, \"'normal'\": 817, \"'loss'\": 818, \"'val'\": 819, \"'suggest'\": 820, \"'mess'\": 821, \"'bottle'\": 822, \"'deliver'\": 823, \"'everybody'\": 824, \"'driver'\": 825, \"'seek'\": 826, \"'yr'\": 827, \"'focus'\": 828, \"'cheerfully'\": 829, \"'crash'\": 830, \"'centre'\": 831, \"'major'\": 832, \"'loser'\": 833, \"'bar'\": 834, \"'brain'\": 835, \"'wall'\": 836, \"'process'\": 837, \"'gloom'\": 838, \"'current'\": 839, \"'ridiculous'\": 840, \"'ride'\": 841, \"'policy'\": 842, \"'press'\": 843, \"'fashion'\": 844, \"'comment'\": 845, \"'elate'\": 846, \"'type'\": 847, \"'loot'\": 848, \"'mirth'\": 849, \"'version'\": 850, \"'style'\": 851, \"'clearly'\": 852, \"'upon'\": 853, \"'animated'\": 854, \"'weekend'\": 855, \"'bill'\": 856, \"'till'\": 857, \"'receive'\": 858, \"'pressure'\": 859, \"'gay'\": 860, \"'rooney'\": 861, \"'lil'\": 862, \"'chicken'\": 863, \"'absolute'\": 864, \"'jesus'\": 865, \"'sunk'\": 866, \"'decision'\": 867, \"'nigga'\": 868, \"'ignore'\": 869, \"'hat'\": 870, \"'em'\": 871, \"'chat'\": 872, \"'arm'\": 873, \"'cam'\": 874, \"'rush'\": 875, \"'figure'\": 876, \"'obama'\": 877, \"'weird'\": 878, \"'main'\": 879, \"'trust'\": 880, \"'insecure'\": 881, \"'beyond'\": 882, \"'hearty'\": 883, \"'strong'\": 884, \"'rojo'\": 885, \"'weapon'\": 886, \"'thousand'\": 887, \"'campaign'\": 888, \"'dire'\": 889, \"'x'\": 890, \"'seat'\": 891, \"'young'\": 892, \"'provocation'\": 893, \"'monster'\": 894, \"'delete'\": 895, \"'idk'\": 896, \"'revolt'\": 897, \"'foot'\": 898, \"'af'\": 899, \"'amount'\": 900, \"'important'\": 901, \"'machine'\": 902, \"'miserable'\": 903, \"'dismal'\": 904, \"'zero'\": 905, \"'somewhere'\": 906, \"'finger'\": 907, \"'sale'\": 908, \"'otherwise'\": 909, \"'ex'\": 910, \"'facebook'\": 911, \"'annoyed'\": 912, \"'pussy'\": 913, \"'album'\": 914, \"'indian'\": 915, \"'pathetic'\": 916, \"'clinton'\": 917, \"'save'\": 918, \"'stress'\": 919, \"'leader'\": 920, \"'manchester'\": 921, \"'treat'\": 922, \"'response'\": 923, \"'rise'\": 924, \"'quite'\": 925, \"'divide'\": 926, \"'heyday'\": 927, \"'worried'\": 928, \"'replace'\": 929, \"'bee'\": 930, \"'despite'\": 931, \"'entire'\": 932, \"'rapper'\": 933, \"'involve'\": 934, \"'mark'\": 935, \"'memory'\": 936, \"'advice'\": 937, \"'note'\": 938, \"'ability'\": 939, \"'wife'\": 940, \"'broken'\": 941, \"'id'\": 942, \"'group'\": 943, \"'rude'\": 944, \"'number'\": 945, \"'govt'\": 946, \"'page'\": 947, \"'due'\": 948, \"'list'\": 949, \"'drunk'\": 950, \"'purpose'\": 951, \"'murder'\": 952, \"'fuel'\": 953, \"'violence'\": 954, \"'appear'\": 955, \"'useless'\": 956, \"'affliction'\": 957, \"'unga'\": 958, \"'shall'\": 959, \"'grind'\": 960, \"'sell'\": 961, \"'series'\": 962, \"'tire'\": 963, \"'animal'\": 964, \"'million'\": 965, \"'office'\": 966, \"'fine'\": 967, \"'mufc'\": 968, \"'completely'\": 969, \"'statement'\": 970, \"'energy'\": 971, \"'push'\": 972, \"'text'\": 973, \"'emotion'\": 974, \"'secret'\": 975, \"'bloody'\": 976, \"'suffer'\": 977, \"'challenge'\": 978, \"'touch'\": 979, \"'simple'\": 980, \"'james'\": 981, \"'michelle'\": 982, \"'shitty'\": 983, \"'everyday'\": 984, \"'welcome'\": 985, \"'ghost'\": 986, \"'bullshit'\": 987, \"'ill'\": 988, \"'release'\": 989, \"'shame'\": 990, \"'cold'\": 991, \"'complain'\": 992, \"'shocking'\": 993, \"'target'\": 994, \"'cheap'\": 995, \"'teach'\": 996, \"'option'\": 997, \"'across'\": 998, \"'community'\": 999, \"'scream'\": 1000, \"'irritation'\": 1001, \"'degree'\": 1002, \"'charlotteprotest'\": 1003, \"'hesitate'\": 1004, \"'argument'\": 1005, \"'freak'\": 1006, \"'event'\": 1007, \"'bag'\": 1008, \"'sport'\": 1009, \"'nude'\": 1010, \"'comedy'\": 1011, \"'refer'\": 1012, \"'defense'\": 1013, \"'value'\": 1014, \"'busy'\": 1015, \"'temper'\": 1016, \"'everywhere'\": 1017, \"'fright'\": 1018, \"'exist'\": 1019, \"'build'\": 1020, \"'consider'\": 1021, \"'bro'\": 1022, \"'cantsleep'\": 1023, \"'joyous'\": 1024, \"'boring'\": 1025, \"'small'\": 1026, \"'hath'\": 1027, \"'excitement'\": 1028, \"'whenever'\": 1029, \"'exact'\": 1030, \"'chase'\": 1031, \"'station'\": 1032, \"'waste'\": 1033, \"'message'\": 1034, \"'lunch'\": 1035, \"'scared'\": 1036, \"'tea'\": 1037, \"'chris'\": 1038, \"'appreciate'\": 1039, \"'reply'\": 1040, \"'irritated'\": 1041, \"'disappointing'\": 1042, \"'leadership'\": 1043, \"'singing'\": 1044, \"'calm'\": 1045, \"'possible'\": 1046, \"'btw'\": 1047, \"'responsible'\": 1048, \"'pride'\": 1049, \"'bored'\": 1050, \"'bakewell'\": 1051, \"'distract'\": 1052, \"'teacher'\": 1053, \"'mope'\": 1054, \"'bout'\": 1055, \"'nobody'\": 1056, \"'request'\": 1057, \"'holy'\": 1058, \"'fix'\": 1059, \"'russian'\": 1060, \"'positive'\": 1061, \"'north'\": 1062, \"'single'\": 1063, \"'space'\": 1064, \"'huge'\": 1065, \"'confused'\": 1066, \"'refugee'\": 1067, \"'cheerful'\": 1068, \"'window'\": 1069, \"'neighbor'\": 1070, \"'ref'\": 1071, \"'wild'\": 1072, \"'upside'\": 1073, \"'doctor'\": 1074, \"'rich'\": 1075, \"'typical'\": 1076, \"'franchise'\": 1077, \"'link'\": 1078, \"'monday'\": 1079, \"'fit'\": 1080, \"'bomb'\": 1081, \"'club'\": 1082, \"'student'\": 1083, \"'exhaust'\": 1084, \"'apart'\": 1085, \"'foam'\": 1086, \"'round'\": 1087, \"'highly'\": 1088, \"'company'\": 1089, \"'pig'\": 1090, \"'dangerous'\": 1091, \"'punch'\": 1092, \"'celtic'\": 1093, \"'moon'\": 1094, \"'usual'\": 1095, \"'shudder'\": 1096, \"'slow'\": 1097, \"'spirit'\": 1098, \"'refuse'\": 1099, \"'pun'\": 1100, \"'naked'\": 1101, \"'football'\": 1102, \"'fly'\": 1103, \"'present'\": 1104, \"'united'\": 1105, \"'etc'\": 1106, \"'instagram'\": 1107, \"'grade'\": 1108, \"'score'\": 1109, \"'inflame'\": 1110, \"'tf'\": 1111, \"'data'\": 1112, \"'saturday'\": 1113, \"'nut'\": 1114, \"'complaint'\": 1115, \"'hahaha'\": 1116, \"'pray'\": 1117, \"'culture'\": 1118, \"'sofa'\": 1119, \"'nearly'\": 1120, \"'dollar'\": 1121, \"'constantly'\": 1122, \"'kitchen'\": 1123, \"'chuckle'\": 1124, \"'voter'\": 1125, \"'journey'\": 1126, \"'conversation'\": 1127, \"'dentist'\": 1128, \"'jam'\": 1129, \"'jazz'\": 1130, \"'canada'\": 1131, \"'rap'\": 1132, \"'alive'\": 1133, \"'tax'\": 1134, \"'tbh'\": 1135, \"'collect'\": 1136, \"'butter'\": 1137, \"'rape'\": 1138, \"'storm'\": 1139, \"'reverse'\": 1140, \"'legit'\": 1141, \"'mum'\": 1142, \"'cancel'\": 1143, \"'rain'\": 1144, \"'animosity'\": 1145, \"'middle'\": 1146, \"'abt'\": 1147, \"'street'\": 1148, \"'candice'\": 1149, \"'midnight'\": 1150, \"'rid'\": 1151, \"'explain'\": 1152, \"'coach'\": 1153, \"'penny'\": 1154, \"'cuz'\": 1155, \"'fearful'\": 1156, \"'study'\": 1157, \"'host'\": 1158, \"'mary'\": 1159, \"'horny'\": 1160, \"'breathe'\": 1161, \"'gym'\": 1162, \"'trip'\": 1163, \"'bother'\": 1164, \"'breathless'\": 1165, \"'mix'\": 1166, \"'spider'\": 1167, \"'cock'\": 1168, \"'sexy'\": 1169, \"'heard'\": 1170, \"'manage'\": 1171, \"'pour'\": 1172, \"'jovial'\": 1173, \"'cream'\": 1174, \"'un'\": 1175, \"'stomach'\": 1176, \"'island'\": 1177, \"'prayer'\": 1178, \"'strike'\": 1179, \"'worthless'\": 1180, \"'con'\": 1181, \"'average'\": 1182, \"'report'\": 1183, \"'victim'\": 1184, \"'public'\": 1185, \"'sulk'\": 1186, \"'although'\": 1187, \"'lately'\": 1188, \"'likely'\": 1189, \"'writer'\": 1190, \"'code'\": 1191, \"'size'\": 1192, \"'christ'\": 1193, \"'product'\": 1194, \"'especially'\": 1195, \"'scrum'\": 1196, \"'attention'\": 1197, \"'conflict'\": 1198, \"'disappointment'\": 1199, \"'area'\": 1200, \"'grateful'\": 1201, \"'amarnathterrorattack'\": 1202, \"'bliss'\": 1203, \"'regret'\": 1204, \"'recent'\": 1205, \"'base'\": 1206, \"'righteous'\": 1207, \"'f'\": 1208, \"'angel'\": 1209, \"'population'\": 1210, \"'youtube'\": 1211, \"'roll'\": 1212, \"'politics'\": 1213, \"'scorn'\": 1214, \"'view'\": 1215, \"'ff'\": 1216, \"'announce'\": 1217, \"'bridge'\": 1218, \"'dance'\": 1219, \"'green'\": 1220, \"'justice'\": 1221, \"'system'\": 1222, \"'position'\": 1223, \"'bubble'\": 1224, \"'invite'\": 1225, \"'town'\": 1226, \"'spot'\": 1227, \"'tiny'\": 1228, \"'houston'\": 1229, \"'wind'\": 1230, \"'peter'\": 1231, \"'swallow'\": 1232, \"'gut'\": 1233, \"'dress'\": 1234, \"'sam'\": 1235, \"'burning'\": 1236, \"'dishearten'\": 1237, \"'luck'\": 1238, \"'visit'\": 1239, \"'putin'\": 1240, \"'wine'\": 1241, \"'ffs'\": 1242, \"'george'\": 1243, \"'tulsa'\": 1244, \"'distrust'\": 1245, \"'intimidation'\": 1246, \"'premiere'\": 1247, \"'election'\": 1248, \"'wrap'\": 1249, \"'drinking'\": 1250, \"'alternate'\": 1251, \"'difficulty'\": 1252, \"'male'\": 1253, \"'instantly'\": 1254, \"'fret'\": 1255, \"'jr'\": 1256, \"'glass'\": 1257, \"'basically'\": 1258, \"'netflix'\": 1259, \"'church'\": 1260, \"'inner'\": 1261, \"'trap'\": 1262, \"'cage'\": 1263, \"'cup'\": 1264, \"'color'\": 1265, \"'ruffle'\": 1266, \"'juggle'\": 1267, \"'punny'\": 1268, \"'concept'\": 1269, \"'practice'\": 1270, \"'boiling'\": 1271, \"'tube'\": 1272, \"'pleasure'\": 1273, \"'plastic'\": 1274, \"'riot'\": 1275, \"'swap'\": 1276, \"'design'\": 1277, \"'court'\": 1278, \"'paper'\": 1279, \"'whats'\": 1280, \"'engineer'\": 1281, \"'anywhere'\": 1282, \"'female'\": 1283, \"'sparkling'\": 1284, \"'proud'\": 1285, \"'term'\": 1286, \"'daily'\": 1287, \"'commercial'\": 1288, \"'ten'\": 1289, \"'interesting'\": 1290, \"'loud'\": 1291, \"'harm'\": 1292, \"'father'\": 1293, \"'mob'\": 1294, \"'sentence'\": 1295, \"'corrupt'\": 1296, \"'hut'\": 1297, \"'stage'\": 1298, \"'yay'\": 1299, \"'christmas'\": 1300, \"'via'\": 1301, \"'evil'\": 1302, \"'reading'\": 1303, \"'priority'\": 1304, \"'reaper'\": 1305, \"'screen'\": 1306, \"'asleep'\": 1307, \"'gate'\": 1308, \"'chill'\": 1309, \"'wood'\": 1310, \"'chelsea'\": 1311, \"'la'\": 1312, \"'sacrifice'\": 1313, \"'forest'\": 1314, \"'unbelievable'\": 1315, \"'q'\": 1316, \"'teeth'\": 1317, \"'excuse'\": 1318, \"'yall'\": 1319, \"'liberal'\": 1320, \"'jack'\": 1321, \"'pitch'\": 1322, \"'iraq'\": 1323, \"'texas'\": 1324, \"'injustice'\": 1325, \"'k'\": 1326, \"'affair'\": 1327, \"'kashmir'\": 1328, \"'fam'\": 1329, \"'bt'\": 1330, \"'october'\": 1331, \"'global'\": 1332, \"'gold'\": 1333, \"'tart'\": 1334, \"'marry'\": 1335, \"'kikme'\": 1336, \"'snapme'\": 1337, \"'performance'\": 1338, \"'bite'\": 1339, \"'silent'\": 1340, \"'daughter'\": 1341, \"'disgust'\": 1342, \"'source'\": 1343, \"'pack'\": 1344, \"'remain'\": 1345, \"'blessing'\": 1346, \"'hospital'\": 1347, \"'magical'\": 1348, \"'handle'\": 1349, \"'inspire'\": 1350, \"'bug'\": 1351, \"'hop'\": 1352, \"'indignation'\": 1353, \"'clean'\": 1354, \"'snarl'\": 1355, \"'nose'\": 1356, \"'ignorance'\": 1357, \"'harder'\": 1358, \"'realise'\": 1359, \"'l'\": 1360, \"'emo'\": 1361, \"'teamfollowback'\": 1362, \"'max'\": 1363, \"'security'\": 1364, \"'ground'\": 1365, \"'spin'\": 1366, \"'liar'\": 1367, \"'environment'\": 1368, \"'suicide'\": 1369, \"'physically'\": 1370, \"'plot'\": 1371, \"'wee'\": 1372, \"'jean'\": 1373, \"'customerservice'\": 1374, \"'nasty'\": 1375, \"'four'\": 1376, \"'certainly'\": 1377, \"'available'\": 1378, \"'topic'\": 1379, \"'mentalhealth'\": 1380, \"'concert'\": 1381, \"'emoji'\": 1382, \"'couple'\": 1383, \"'paint'\": 1384, \"'immediately'\": 1385, \"'defeat'\": 1386, \"'bottom'\": 1387, \"'proper'\": 1388, \"'award'\": 1389, \"'staff'\": 1390, \"'law'\": 1391, \"'shop'\": 1392, \"'propaganda'\": 1393, \"'pretend'\": 1394, \"'follower'\": 1395, \"'fest'\": 1396, \"'islamic'\": 1397, \"'bash'\": 1398, \"'forgive'\": 1399, \"'failure'\": 1400, \"'ice'\": 1401, \"'aaron'\": 1402, \"'kardashian'\": 1403, \"'fox'\": 1404, \"'impossible'\": 1405, \"'thinking'\": 1406, \"'awake'\": 1407, \"'empty'\": 1408, \"'uk'\": 1409, \"'forth'\": 1410, \"'condition'\": 1411, \"'affect'\": 1412, \"'shift'\": 1413, \"'si'\": 1414, \"'witness'\": 1415, \"'momma'\": 1416, \"'tremendous'\": 1417, \"'cnn'\": 1418, \"'reminder'\": 1419, \"'trade'\": 1420, \"'arsehole'\": 1421, \"'lyft'\": 1422, \"'yummy'\": 1423, \"'motivation'\": 1424, \"'roommate'\": 1425, \"'autocorrect'\": 1426, \"'decent'\": 1427, \"'hopeful'\": 1428, \"'embarrass'\": 1429, \"'demand'\": 1430, \"'hater'\": 1431, \"'med'\": 1432, \"'difficult'\": 1433, \"'yellow'\": 1434, \"'ranger'\": 1435, \"'asian'\": 1436, \"'switch'\": 1437, \"'ep'\": 1438, \"'demon'\": 1439, \"'atmosphere'\": 1440, \"'harass'\": 1441, \"'subway'\": 1442, \"'surprise'\": 1443, \"'prejudice'\": 1444, \"'hug'\": 1445, \"'fat'\": 1446, \"'agent'\": 1447, \"'spain'\": 1448, \"'boot'\": 1449, \"'disney'\": 1450, \"'random'\": 1451, \"'spent'\": 1452, \"'peoplelikemebecause'\": 1453, \"'angrily'\": 1454, \"'tag'\": 1455, \"'item'\": 1456, \"'uber'\": 1457, \"'cost'\": 1458, \"'non'\": 1459, \"'certain'\": 1460, \"'national'\": 1461, \"'flag'\": 1462, \"'pity'\": 1463, \"'atrocious'\": 1464, \"'role'\": 1465, \"'education'\": 1466, \"'appointment'\": 1467, \"'officially'\": 1468, \"'childhood'\": 1469, \"'dash'\": 1470, \"'offensive'\": 1471, \"'ryan'\": 1472, \"'anybody'\": 1473, \"'notice'\": 1474, \"'cure'\": 1475, \"'twain'\": 1476, \"'dislike'\": 1477, \"'health'\": 1478, \"'expensive'\": 1479, \"'civil'\": 1480, \"'sydney'\": 1481, \"'constant'\": 1482, \"'lovely'\": 1483, \"'client'\": 1484, \"'prison'\": 1485, \"'favor'\": 1486, \"'gaga'\": 1487, \"'sleepy'\": 1488, \"'p'\": 1489, \"'adrenaline'\": 1490, \"'ugly'\": 1491, \"'soft'\": 1492, \"'droop'\": 1493, \"'exhilaration'\": 1494, \"'london'\": 1495, \"'drama'\": 1496, \"'lethalweapon'\": 1497, \"'react'\": 1498, \"'uri'\": 1499, \"'fellow'\": 1500, \"'commit'\": 1501, \"'band'\": 1502, \"'nevertrump'\": 1503, \"'interested'\": 1504, \"'meal'\": 1505, \"'bean'\": 1506, \"'onion'\": 1507, \"'package'\": 1508, \"'art'\": 1509, \"'tree'\": 1510, \"'williams'\": 1511, \"'board'\": 1512, \"'coupon'\": 1513, \"'joey'\": 1514, \"'karma'\": 1515, \"'girls'\": 1516, \"'sedate'\": 1517, \"'faux'\": 1518, \"'double'\": 1519, \"'feature'\": 1520, \"'sunshine'\": 1521, \"'depth'\": 1522, \"'hockey'\": 1523, \"'da'\": 1524, \"'donation'\": 1525, \"'ignorant'\": 1526, \"'currently'\": 1527, \"'nail'\": 1528, \"'prove'\": 1529, \"'chronic'\": 1530, \"'noise'\": 1531, \"'method'\": 1532, \"'eventually'\": 1533, \"'wash'\": 1534, \"'frustration'\": 1535, \"'bank'\": 1536, \"'gotham'\": 1537, \"'indeed'\": 1538, \"'semester'\": 1539, \"'daunt'\": 1540, \"'lock'\": 1541, \"'defend'\": 1542, \"'sensitive'\": 1543, \"'personally'\": 1544, \"'permanent'\": 1545, \"'mission'\": 1546, \"'glow'\": 1547, \"'tie'\": 1548, \"'easily'\": 1549, \"'somehow'\": 1550, \"'screw'\": 1551, \"'quit'\": 1552, \"'majority'\": 1553, \"'husband'\": 1554, \"'smack'\": 1555, \"'twice'\": 1556, \"'creepy'\": 1557, \"'awkward'\": 1558, \"'daddy'\": 1559, \"'bribe'\": 1560, \"'personality'\": 1561, \"'isi'\": 1562, \"'scrub'\": 1563, \"'third'\": 1564, \"'english'\": 1565, \"'sleepless'\": 1566, \"'asap'\": 1567, \"'status'\": 1568, \"'crowd'\": 1569, \"'epic'\": 1570, \"'curse'\": 1571, \"'disturb'\": 1572, \"'mask'\": 1573, \"'neighborhood'\": 1574, \"'bos'\": 1575, \"'johnson'\": 1576, \"'gas'\": 1577, \"'google'\": 1578, \"'democracy'\": 1579, \"'mass'\": 1580, \"'detail'\": 1581, \"'shameful'\": 1582, \"'celebrate'\": 1583, \"'raise'\": 1584, \"'sunday'\": 1585, \"'sat'\": 1586, \"'large'\": 1587, \"'winter'\": 1588, \"'chart'\": 1589, \"'pass'\": 1590, \"'australia'\": 1591, \"'sixth'\": 1592, \"'gear'\": 1593, \"'ahs'\": 1594, \"'copy'\": 1595, \"'pal'\": 1596, \"'moses'\": 1597, \"'library'\": 1598, \"'gender'\": 1599, \"'abortion'\": 1600, \"'peanut'\": 1601, \"'kurt'\": 1602, \"'alien'\": 1603, \"'file'\": 1604, \"'classic'\": 1605, \"'fml'\": 1606, \"'common'\": 1607, \"'haircut'\": 1608, \"'clue'\": 1609, \"'lucky'\": 1610, \"'server'\": 1611, \"'generation'\": 1612, \"'hello'\": 1613, \"'mirror'\": 1614, \"'access'\": 1615, \"'mindfulness'\": 1616, \"'plz'\": 1617, \"'share'\": 1618, \"'surprised'\": 1619, \"'frighten'\": 1620, \"'humor'\": 1621, \"'supporter'\": 1622, \"'disabled'\": 1623, \"'jail'\": 1624, \"'pissed'\": 1625, \"'cake'\": 1626, \"'gif'\": 1627, \"'bob'\": 1628, \"'bot'\": 1629, \"'escape'\": 1630, \"'nawazsharif'\": 1631, \"'pie'\": 1632, \"'neighbour'\": 1633, \"'lit'\": 1634, \"'tremble'\": 1635, \"'patient'\": 1636, \"'frustrated'\": 1637, \"'canadian'\": 1638, \"'sheer'\": 1639, \"'whilst'\": 1640, \"'donald'\": 1641, \"'complete'\": 1642, \"'wwe'\": 1643, \"'root'\": 1644, \"'loathe'\": 1645, \"'fault'\": 1646, \"'scowl'\": 1647, \"'sue'\": 1648, \"'mel'\": 1649, \"'bayern'\": 1650, \"'society'\": 1651, \"'along'\": 1652, \"'tongue'\": 1653, \"'inconsolable'\": 1654, \"'rant'\": 1655, \"'mention'\": 1656, \"'pm'\": 1657, \"'speech'\": 1658, \"'bias'\": 1659, \"'indignant'\": 1660, \"'league'\": 1661, \"'raid'\": 1662, \"'ortiz'\": 1663, \"'tribute'\": 1664, \"'owner'\": 1665, \"'devil'\": 1666, \"'willing'\": 1667, \"'lover'\": 1668, \"'false'\": 1669, \"'flu'\": 1670, \"'unfortunately'\": 1671, \"'tough'\": 1672, \"'kitten'\": 1673, \"'wise'\": 1674, \"'iphone'\": 1675, \"'gameface'\": 1676, \"'height'\": 1677, \"'juz'\": 1678, \"'scott'\": 1679, \"'fraud'\": 1680, \"'surely'\": 1681, \"'doom'\": 1682, \"'origin'\": 1683, \"'tony'\": 1684, \"'obvious'\": 1685, \"'unknown'\": 1686, \"'soldier'\": 1687, \"'basic'\": 1688, \"'nap'\": 1689, \"'expectation'\": 1690, \"'c'\": 1691, \"'lean'\": 1692, \"'meeting'\": 1693, \"'beer'\": 1694, \"'suspicion'\": 1695, \"'pls'\": 1696, \"'pause'\": 1697, \"'airport'\": 1698, \"'icq'\": 1699, \"'shoe'\": 1700, \"'circle'\": 1701, \"'bye'\": 1702, \"'smooth'\": 1703, \"'skin'\": 1704, \"'yikes'\": 1705, \"'irrelevant'\": 1706, \"'gosh'\": 1707, \"'gain'\": 1708, \"'attach'\": 1709, \"'crush'\": 1710, \"'interest'\": 1711, \"'japanese'\": 1712, \"'documentary'\": 1713, \"'danger'\": 1714, \"'slam'\": 1715, \"'blog'\": 1716, \"'pleasing'\": 1717, \"'laptop'\": 1718, \"'unite'\": 1719, \"'simply'\": 1720, \"'airline'\": 1721, \"'jerk'\": 1722, \"'existential'\": 1723, \"'israel'\": 1724, \"'reaction'\": 1725, \"'pool'\": 1726, \"'innocent'\": 1727, \"'ghastly'\": 1728, \"'minus'\": 1729, \"'hatered'\": 1730, \"'sooo'\": 1731, \"'spoil'\": 1732, \"'lame'\": 1733, \"'hypocrisy'\": 1734, \"'separate'\": 1735, \"'soooo'\": 1736, \"'clothes'\": 1737, \"'economy'\": 1738, \"'meaning'\": 1739, \"'stadium'\": 1740, \"'protect'\": 1741, \"'stans'\": 1742, \"'tuesday'\": 1743, \"'slightly'\": 1744, \"'gop'\": 1745, \"'crazy'\": 1746, \"'poetry'\": 1747, \"'september'\": 1748, \"'lesson'\": 1749, \"'fund'\": 1750, \"'spread'\": 1751, \"'expression'\": 1752, \"'dirty'\": 1753, \"'lane'\": 1754, \"'buck'\": 1755, \"'religion'\": 1756, \"'fist'\": 1757, \"'hmm'\": 1758, \"'special'\": 1759, \"'shoulder'\": 1760, \"'chaos'\": 1761, \"'prepare'\": 1762, \"'burden'\": 1763, \"'compare'\": 1764, \"'afghanistan'\": 1765, \"'szn'\": 1766, \"'warn'\": 1767, \"'fair'\": 1768, \"'grumpy'\": 1769, \"'improve'\": 1770, \"'seven'\": 1771, \"'gang'\": 1772, \"'colour'\": 1773, \"'crow'\": 1774, \"'pus'\": 1775, \"'spell'\": 1776, \"'favourite'\": 1777, \"'pregnant'\": 1778, \"'transition'\": 1779, \"'broadband'\": 1780, \"'several'\": 1781, \"'celebrity'\": 1782, \"'muppet'\": 1783, \"'stalker'\": 1784, \"'negativity'\": 1785, \"'risk'\": 1786, \"'irony'\": 1787, \"'nah'\": 1788, \"'urself'\": 1789, \"'invest'\": 1790, \"'misogyny'\": 1791, \"'sa'\": 1792, \"'gutted'\": 1793, \"'stephen'\": 1794, \"'courage'\": 1795, \"'repeat'\": 1796, \"'racial'\": 1797, \"'earlier'\": 1798, \"'bcuz'\": 1799, \"'discover'\": 1800, \"'totally'\": 1801, \"'dam'\": 1802, \"'peak'\": 1803, \"'mountain'\": 1804, \"'exterior'\": 1805, \"'hopelessness'\": 1806, \"'anxietyprobz'\": 1807, \"'speed'\": 1808, \"'fav'\": 1809, \"'poop'\": 1810, \"'pocket'\": 1811, \"'potato'\": 1812, \"'replacement'\": 1813, \"'carpet'\": 1814, \"'economic'\": 1815, \"'engine'\": 1816, \"'joel'\": 1817, \"'amendment'\": 1818, \"'instructor'\": 1819, \"'puppy'\": 1820, \"'atlanta'\": 1821, \"'nl'\": 1822, \"'hack'\": 1823, \"'wave'\": 1824, \"'birth'\": 1825, \"'champ'\": 1826, \"'fancy'\": 1827, \"'blast'\": 1828, \"'relative'\": 1829, \"'genocide'\": 1830, \"'retweets'\": 1831, \"'sadden'\": 1832, \"'ustinov'\": 1833, \"'fandom'\": 1834, \"'comic'\": 1835, \"'fool'\": 1836, \"'oppose'\": 1837, \"'genius'\": 1838, \"'however'\": 1839, \"'autumn'\": 1840, \"'chiropractor'\": 1841, \"'silly'\": 1842, \"'threesome'\": 1843, \"'lackadaisical'\": 1844, \"'grocery'\": 1845, \"'acc'\": 1846, \"'starting'\": 1847, \"'coincidence'\": 1848, \"'elect'\": 1849, \"'heaviness'\": 1850, \"'cyber'\": 1851, \"'incredibly'\": 1852, \"'script'\": 1853, \"'stock'\": 1854, \"'acceptable'\": 1855, \"'aid'\": 1856, \"'worker'\": 1857, \"'amwriting'\": 1858, \"'brad'\": 1859, \"'condolence'\": 1860, \"'jc'\": 1861, \"'delay'\": 1862, \"'promote'\": 1863, \"'lyric'\": 1864, \"'snake'\": 1865, \"'blanket'\": 1866, \"'possibly'\": 1867, \"'traffic'\": 1868, \"'thumb'\": 1869, \"'disappointed'\": 1870, \"'garlic'\": 1871, \"'beneath'\": 1872, \"'reflect'\": 1873, \"'yell'\": 1874, \"'umbrage'\": 1875, \"'mail'\": 1876, \"'opposite'\": 1877, \"'rob'\": 1878, \"'jose'\": 1879, \"'remove'\": 1880, \"'contract'\": 1881, \"'content'\": 1882, \"'bin'\": 1883, \"'signal'\": 1884, \"'freedom'\": 1885, \"'november'\": 1886, \"'badly'\": 1887, \"'download'\": 1888, \"'parking'\": 1889, \"'awestruck'\": 1890, \"'admire'\": 1891, \"'wednesday'\": 1892, \"'silver'\": 1893, \"'bullet'\": 1894, \"'projection'\": 1895, \"'perception'\": 1896, \"'growth'\": 1897, \"'feminist'\": 1898, \"'count'\": 1899, \"'mighty'\": 1900, \"'doesnt'\": 1901, \"'appeal'\": 1902, \"'appearance'\": 1903, \"'lash'\": 1904, \"'sponsor'\": 1905, \"'damper'\": 1906, \"'breath'\": 1907, \"'magazine'\": 1908, \"'sullen'\": 1909, \"'dish'\": 1910, \"'cease'\": 1911, \"'jubilant'\": 1912, \"'boyfriend'\": 1913, \"'whip'\": 1914, \"'espresso'\": 1915, \"'europe'\": 1916, \"'dreamornightmare'\": 1917, \"'official'\": 1918, \"'market'\": 1919, \"'batman'\": 1920, \"'fiction'\": 1921, \"'research'\": 1922, \"'headline'\": 1923, \"'kerry'\": 1924, \"'chief'\": 1925, \"'terrorstatepak'\": 1926, \"'impact'\": 1927, \"'inspiration'\": 1928, \"'author'\": 1929, \"'appropriate'\": 1930, \"'task'\": 1931, \"'hoco'\": 1932, \"'attract'\": 1933, \"'taurus'\": 1934, \"'nowadays'\": 1935, \"'puff'\": 1936, \"'jeez'\": 1937, \"'mop'\": 1938, \"'emotional'\": 1939, \"'eval'\": 1940, \"'training'\": 1941, \"'wreck'\": 1942, \"'rare'\": 1943, \"'regard'\": 1944, \"'incite'\": 1945, \"'boys'\": 1946, \"'shower'\": 1947, \"'loneliness'\": 1948, \"'medicine'\": 1949, \"'pervert'\": 1950, \"'quiet'\": 1951, \"'nj'\": 1952, \"'dancing'\": 1953, \"'chick'\": 1954, \"'insomnia'\": 1955, \"'notfair'\": 1956, \"'helpful'\": 1957, \"'tolerance'\": 1958, \"'jeff'\": 1959, \"'whose'\": 1960, \"'anxious'\": 1961, \"'shout'\": 1962, \"'sweat'\": 1963, \"'british'\": 1964, \"'determine'\": 1965, \"'cod'\": 1966, \"'steele'\": 1967, \"'olympics'\": 1968, \"'rudeness'\": 1969, \"'search'\": 1970, \"'scroll'\": 1971, \"'aflcatsswans'\": 1972, \"'goddamn'\": 1973, \"'headache'\": 1974, \"'program'\": 1975, \"'display'\": 1976, \"'dt'\": 1977, \"'universal'\": 1978, \"'hun'\": 1979, \"'professor'\": 1980, \"'barrier'\": 1981, \"'overnight'\": 1982, \"'everytime'\": 1983, \"'bastard'\": 1984, \"'intense'\": 1985, \"'clock'\": 1986, \"'knock'\": 1987, \"'sake'\": 1988, \"'substance'\": 1989, \"'stifle'\": 1990, \"'pot'\": 1991, \"'basket'\": 1992, \"'barely'\": 1993, \"'contest'\": 1994, \"'revelation'\": 1995, \"'plenty'\": 1996, \"'thru'\": 1997, \"'whether'\": 1998, \"'thigh'\": 1999, \"'toy'\": 2000, \"'halfway'\": 2001, \"'zombie'\": 2002, \"'guilty'\": 2003, \"'draft'\": 2004, \"'marcus'\": 2005, \"'zone'\": 2006, \"'terencecrutcher'\": 2007, \"'pessimism'\": 2008, \"'candidate'\": 2009, \"'grief'\": 2010, \"'mostly'\": 2011, \"'sol'\": 2012, \"'sexism'\": 2013, \"'din'\": 2014, \"'personal'\": 2015, \"'skinny'\": 2016, \"'christie'\": 2017, \"'fr'\": 2018, \"'rueful'\": 2019, \"'butt'\": 2020, \"'jimmy'\": 2021, \"'longer'\": 2022, \"'hype'\": 2023, \"'internationaldayofpeace'\": 2024, \"'bake'\": 2025, \"'stressed'\": 2026, \"'fell'\": 2027, \"'twin'\": 2028, \"'ship'\": 2029, \"'canon'\": 2030, \"'jaunty'\": 2031, \"'vacation'\": 2032, \"'immigrant'\": 2033, \"'fed'\": 2034, \"'apple'\": 2035, \"'initially'\": 2036, \"'bbfinale'\": 2037, \"'cuddle'\": 2038, \"'land'\": 2039, \"'nephew'\": 2040, \"'meme'\": 2041, \"'travel'\": 2042, \"'lake'\": 2043, \"'similar'\": 2044, \"'hitler'\": 2045, \"'germany'\": 2046, \"'famous'\": 2047, \"'confident'\": 2048, \"'lag'\": 2049, \"'provide'\": 2050, \"'makeup'\": 2051, \"'extremeworld'\": 2052, \"'thursday'\": 2053, \"'fade'\": 2054, \"'brendon'\": 2055, \"'halloween'\": 2056, \"'injury'\": 2057, \"'yep'\": 2058, \"'fond'\": 2059, \"'lecture'\": 2060, \"'shoutout'\": 2061, \"'cramp'\": 2062, \"'vet'\": 2063, \"'gifs'\": 2064, \"'carriage'\": 2065, \"'commute'\": 2066, \"'porn'\": 2067, \"'protection'\": 2068, \"'tour'\": 2069, \"'general'\": 2070, \"'hustle'\": 2071, \"'anniversary'\": 2072, \"'dat'\": 2073, \"'organization'\": 2074, \"'noodle'\": 2075, \"'mo'\": 2076, \"'unable'\": 2077, \"'loyal'\": 2078, \"'advantage'\": 2079, \"'discuss'\": 2080, \"'require'\": 2081, \"'project'\": 2082, \"'tall'\": 2083, \"'nawaz'\": 2084, \"'melancholy'\": 2085, \"'superb'\": 2086, \"'powerful'\": 2087, \"'onto'\": 2088, \"'havent'\": 2089, \"'swim'\": 2090, \"'protein'\": 2091, \"'charger'\": 2092, \"'spray'\": 2093, \"'selfie'\": 2094, \"'tactic'\": 2095, \"'wasnt'\": 2096, \"'wifi'\": 2097, \"'seed'\": 2098, \"'bday'\": 2099, \"'enemy'\": 2100, \"'odds'\": 2101, \"'ive'\": 2102, \"'angelina'\": 2103, \"'adopt'\": 2104, \"'thread'\": 2105, \"'killme'\": 2106, \"'shooting'\": 2107, \"'desire'\": 2108, \"'apartment'\": 2109, \"'pundit'\": 2110, \"'de'\": 2111, \"'raw'\": 2112, \"'blissful'\": 2113, \"'intelligence'\": 2114, \"'sent'\": 2115, \"'quick'\": 2116, \"'patronus'\": 2117, \"'cloudy'\": 2118, \"'rent'\": 2119, \"'letter'\": 2120, \"'toward'\": 2121, \"'diet'\": 2122, \"'shirt'\": 2123, \"'french'\": 2124, \"'jersey'\": 2125, \"'enjoyment'\": 2126, \"'guard'\": 2127, \"'pill'\": 2128, \"'thug'\": 2129, \"'marriage'\": 2130, \"'ccot'\": 2131, \"'vile'\": 2132, \"'playing'\": 2133, \"'industry'\": 2134, \"'being'\": 2135, \"'refund'\": 2136, \"'goin'\": 2137, \"'justly'\": 2138, \"'shape'\": 2139, \"'natural'\": 2140, \"'thats'\": 2141, \"'relevant'\": 2142, \"'palestinian'\": 2143, \"'ny'\": 2144, \"'solo'\": 2145, \"'chest'\": 2146, \"'cap'\": 2147, \"'net'\": 2148, \"'discipline'\": 2149, \"'astound'\": 2150, \"'climatechange'\": 2151, \"'multitude'\": 2152, \"'syria'\": 2153, \"'heat'\": 2154, \"'strange'\": 2155, \"'iranian'\": 2156, \"'gen'\": 2157, \"'mall'\": 2158, \"'toilet'\": 2159, \"'crack'\": 2160, \"'total'\": 2161, \"'realistic'\": 2162, \"'merriment'\": 2163, \"'scratch'\": 2164, \"'nerve'\": 2165, \"'shiver'\": 2166, \"'gossip'\": 2167, \"'nowhere'\": 2168, \"'stoke'\": 2169, \"'river'\": 2170, \"'cooky'\": 2171, \"'model'\": 2172, \"'abuse'\": 2173, \"'solid'\": 2174, \"'own'\": 2175, \"'saga'\": 2176, \"'arrest'\": 2177, \"'sin'\": 2178, \"'careful'\": 2179, \"'simon'\": 2180, \"'hundred'\": 2181, \"'tournament'\": 2182, \"'loose'\": 2183, \"'donate'\": 2184, \"'constitution'\": 2185, \"'suicidal'\": 2186, \"'rank'\": 2187, \"'youth'\": 2188, \"'civilian'\": 2189, \"'evolution'\": 2190, \"'lion'\": 2191, \"'transfer'\": 2192, \"'senior'\": 2193, \"'tumblr'\": 2194, \"'actual'\": 2195, \"'prick'\": 2196, \"'shawty'\": 2197, \"'beef'\": 2198, \"'review'\": 2199, \"'dare'\": 2200, \"'safety'\": 2201, \"'hotel'\": 2202, \"'ummm'\": 2203, \"'forlorn'\": 2204, \"'bs'\": 2205, \"'amen'\": 2206, \"'judge'\": 2207, \"'anytime'\": 2208, \"'mic'\": 2209, \"'bat'\": 2210, \"'pov'\": 2211, \"'prime'\": 2212, \"'corridor'\": 2213, \"'actor'\": 2214, \"'sutton'\": 2215, \"'flow'\": 2216, \"'therapist'\": 2217, \"'lisa'\": 2218, \"'talkin'\": 2219, \"'petty'\": 2220, \"'england'\": 2221, \"'heck'\": 2222, \"'feather'\": 2223, \"'apology'\": 2224, \"'dreary'\": 2225, \"'intend'\": 2226, \"'amazon'\": 2227, \"'ultimately'\": 2228, \"'goofy'\": 2229, \"'pose'\": 2230, \"'blm'\": 2231, \"'acrylic'\": 2232, \"'faint'\": 2233, \"'trend'\": 2234, \"'outta'\": 2235, \"'attitude'\": 2236, \"'talented'\": 2237, \"'brave'\": 2238, \"'accessibility'\": 2239, \"'uploaded'\": 2240, \"'cumtribute'\": 2241, \"'e'\": 2242, \"'neither'\": 2243, \"'rlly'\": 2244, \"'congratulation'\": 2245, \"'rose'\": 2246, \"'bush'\": 2247, \"'revolution'\": 2248, \"'camden'\": 2249, \"'serve'\": 2250, \"'commitment'\": 2251, \"'rioter'\": 2252, \"'politician'\": 2253, \"'perhaps'\": 2254, \"'departure'\": 2255, \"'ye'\": 2256, \"'attend'\": 2257, \"'conclusion'\": 2258, \"'tremor'\": 2259, \"'slide'\": 2260, \"'assistance'\": 2261, \"'nervousness'\": 2262, \"'wedding'\": 2263, \"'stupidity'\": 2264, \"'bf'\": 2265, \"'mr'\": 2266, \"'trigger'\": 2267, \"'grey'\": 2268, \"'damage'\": 2269, \"'twat'\": 2270, \"'criticize'\": 2271, \"'artist'\": 2272, \"'slap'\": 2273, \"'flint'\": 2274, \"'behave'\": 2275, \"'pa'\": 2276, \"'speechless'\": 2277, \"'consequence'\": 2278, \"'drill'\": 2279, \"'rate'\": 2280, \"'gunna'\": 2281, \"'honesty'\": 2282, \"'heavy'\": 2283, \"'west'\": 2284, \"'manutd'\": 2285, \"'queen'\": 2286, \"'specific'\": 2287, \"'tattoo'\": 2288, \"'function'\": 2289, \"'frustrate'\": 2290, \"'beach'\": 2291, \"'slip'\": 2292, \"'ect'\": 2293, \"'debut'\": 2294, \"'multiple'\": 2295, \"'madrid'\": 2296, \"'void'\": 2297, \"'thursdaythoughts'\": 2298, \"'credit'\": 2299, \"'republican'\": 2300, \"'foster'\": 2301, \"'disappoint'\": 2302, \"'poll'\": 2303, \"'wt'\": 2304, \"'language'\": 2305, \"'rat'\": 2306, \"'permit'\": 2307, \"'insane'\": 2308, \"'math'\": 2309, \"'cruel'\": 2310, \"'democrat'\": 2311, \"'wenger'\": 2312, \"'argue'\": 2313, \"'camp'\": 2314, \"'emergency'\": 2315, \"'mentally'\": 2316, \"'displeasure'\": 2317, \"'almond'\": 2318, \"'sept'\": 2319, \"'south'\": 2320, \"'whiskey'\": 2321, \"'sorrow'\": 2322, \"'bird'\": 2323, \"'photooftheday'\": 2324, \"'fee'\": 2325, \"'devastate'\": 2326, \"'sigh'\": 2327, \"'feign'\": 2328, \"'flaw'\": 2329, \"'symptom'\": 2330, \"'usually'\": 2331, \"'authority'\": 2332, \"'lazy'\": 2333, \"'awesomeness'\": 2334, \"'amuse'\": 2335, \"'conference'\": 2336, \"'sight'\": 2337, \"'dems'\": 2338, \"'ah'\": 2339, \"'positivity'\": 2340, \"'fourth'\": 2341, \"'enrage'\": 2342, \"'notinmyname'\": 2343, \"'necessary'\": 2344, \"'streak'\": 2345, \"'primeday'\": 2346, \"'modi'\": 2347, \"'teen'\": 2348, \"'cm'\": 2349, \"'mcgregor'\": 2350, \"'hopefully'\": 2351, \"'mayweather'\": 2352, \"'july'\": 2353, \"'boom'\": 2354, \"'hrc'\": 2355, \"'avon'\": 2356, \"'deliberate'\": 2357, \"'bitterness'\": 2358, \"'ensure'\": 2359, \"'flatter'\": 2360, \"'excellent'\": 2361, \"'gameofthrones'\": 2362, \"'lawn'\": 2363, \"'deeply'\": 2364, \"'garden'\": 2365, \"'yen'\": 2366, \"'hindu'\": 2367, \"'firstworldprobs'\": 2368, \"'cherry'\": 2369, \"'exhausted'\": 2370, \"'teef'\": 2371, \"'baloch'\": 2372, \"'profile'\": 2373, \"'delusion'\": 2374, \"'stayed'\": 2375, \"'imagination'\": 2376, \"'swing'\": 2377, \"'hollywood'\": 2378, \"'essentially'\": 2379, \"'gleek'\": 2380, \"'jorge'\": 2381, \"'describe'\": 2382, \"'cheerleader'\": 2383, \"'subject'\": 2384, \"'derby'\": 2385, \"'useful'\": 2386, \"'romero'\": 2387, \"'grant'\": 2388, \"'jim'\": 2389, \"'wire'\": 2390, \"'william'\": 2391, \"'flt'\": 2392, \"'pas'\": 2393, \"'someday'\": 2394, \"'bts'\": 2395, \"'trilogy'\": 2396, \"'mv'\": 2397, \"'prudence'\": 2398, \"'theme'\": 2399, \"'outlet'\": 2400, \"'rewatching'\": 2401, \"'xph'\": 2402, \"'foundation'\": 2403, \"'siva'\": 2404, \"'fragment'\": 2405, \"'fellwinters'\": 2406, \"'limit'\": 2407, \"'passion'\": 2408, \"'xx'\": 2409, \"'stone'\": 2410, \"'gather'\": 2411, \"'xd'\": 2412, \"'gf'\": 2413, \"'joe'\": 2414, \"'pant'\": 2415, \"'shopping'\": 2416, \"'theory'\": 2417, \"'hip'\": 2418, \"'thisisus'\": 2419, \"'apprehension'\": 2420, \"'destine'\": 2421, \"'deatheaters'\": 2422, \"'san'\": 2423, \"'equality'\": 2424, \"'cheerchick'\": 2425, \"'jeep'\": 2426, \"'jeepgirl'\": 2427, \"'idriveajeep'\": 2428, \"'jeepjeep'\": 2429, \"'assure'\": 2430, \"'increase'\": 2431, \"'arrogance'\": 2432, \"'existent'\": 2433, \"'louder'\": 2434, \"'anthem'\": 2435, \"'understanding'\": 2436, \"'circumstance'\": 2437, \"'odd'\": 2438, \"'tape'\": 2439, \"'meldonium'\": 2440, \"'kidney'\": 2441, \"'blackmarket'\": 2442, \"'whydidiwatchthat'\": 2443, \"'mini'\": 2444, \"'throwback'\": 2445, \"'funeral'\": 2446, \"'lifetime'\": 2447, \"'sike'\": 2448, \"'rut'\": 2449, \"'needmotivation'\": 2450, \"'quality'\": 2451, \"'he'\": 2452, \"'inform'\": 2453, \"'associative'\": 2454, \"'astros'\": 2455, \"'nick'\": 2456, \"'retard'\": 2457, \"'afl'\": 2458, \"'grand'\": 2459, \"'cheerfulness'\": 2460, \"'windy'\": 2461, \"'bike'\": 2462, \"'foolish'\": 2463, \"'weiner'\": 2464, \"'historically'\": 2465, \"'resist'\": 2466, \"'vengeful'\": 2467, \"'behavior'\": 2468, \"'toast'\": 2469, \"'federal'\": 2470, \"'bureaucrat'\": 2471, \"'director'\": 2472, \"'cub'\": 2473, \"'amal'\": 2474, \"'clooney'\": 2475, \"'prosecute'\": 2476, \"'blair'\": 2477, \"'obrien'\": 2478, \"'pensive'\": 2479, \"'swift'\": 2480, \"'habit'\": 2481, \"'wasted'\": 2482, \"'didnt'\": 2483, \"'chamber'\": 2484, \"'pump'\": 2485, \"'battle'\": 2486, \"'properly'\": 2487, \"'uriattack'\": 2488, \"'backward'\": 2489, \"'pat'\": 2490, \"'belichick'\": 2491, \"'willynilly'\": 2492, \"'blacklivesmatter'\": 2493, \"'objective'\": 2494, \"'visitor'\": 2495, \"'bojack'\": 2496, \"'flesh'\": 2497, \"'pro'\": 2498, \"'table'\": 2499, \"'burkeramsey'\": 2500, \"'swung'\": 2501, \"'jonbenet'\": 2502, \"'golf'\": 2503, \"'previously'\": 2504, \"'nooooo'\": 2505, \"'bell'\": 2506, \"'muslims'\": 2507, \"'information'\": 2508, \"'singer'\": 2509, \"'minimum'\": 2510, \"'appendix'\": 2511, \"'bugger'\": 2512, \"'gud'\": 2513, \"'cooking'\": 2514, \"'skip'\": 2515, \"'coward'\": 2516, \"'petition'\": 2517, \"'ceremony'\": 2518, \"'obstruction'\": 2519, \"'grasp'\": 2520, \"'doe'\": 2521, \"'winston'\": 2522, \"'ian'\": 2523, \"'charlie'\": 2524, \"'relieve'\": 2525, \"'ideologically'\": 2526, \"'bankrupt'\": 2527, \"'opportunistic'\": 2528, \"'establishment'\": 2529, \"'hole'\": 2530, \"'competition'\": 2531, \"'detailed'\": 2532, \"'slowly'\": 2533, \"'panel'\": 2534, \"'elephant'\": 2535, \"'wrestle'\": 2536, \"'quoteoftheday'\": 2537, \"'starve'\": 2538, \"'hungry'\": 2539, \"'cringe'\": 2540, \"'osama'\": 2541, \"'laden'\": 2542, \"'contain'\": 2543, \"'heaven'\": 2544, \"'declare'\": 2545, \"'gadot'\": 2546, \"'ivan'\": 2547, \"'allen'\": 2548, \"'blvd'\": 2549, \"'atltraffic'\": 2550, \"'purchase'\": 2551, \"'unfair'\": 2552, \"'chavs'\": 2553, \"'mcfc'\": 2554, \"'reflection'\": 2555, \"'ksudsm'\": 2556, \"'ksu'\": 2557, \"'recruiter'\": 2558, \"'tumble'\": 2559, \"'gradschool'\": 2560, \"'st'\": 2561, \"'stumble'\": 2562, \"'encounter'\": 2563, \"'woke'\": 2564, \"'passenger'\": 2565, \"'meter'\": 2566, \"'compliment'\": 2567, \"'alloa'\": 2568, \"'sucker'\": 2569, \"'horse'\": 2570, \"'incurable'\": 2571, \"'std'\": 2572, \"'pregnancy'\": 2573, \"'forlife'\": 2574, \"'weirdsmells'\": 2575, \"'howl'\": 2576, \"'cursed'\": 2577, \"'eternal'\": 2578, \"'regulation'\": 2579, \"'certified'\": 2580, \"'tunnel'\": 2581, \"'factor'\": 2582, \"'bibleverse'\": 2583, \"'girly'\": 2584, \"'harbor'\": 2585, \"'evidence'\": 2586, \"'moor'\": 2587, \"'migraine'\": 2588, \"'hangover'\": 2589, \"'gad'\": 2590, \"'empire'\": 2591, \"'bae'\": 2592, \"'smarties'\": 2593, \"'lid'\": 2594, \"'naive'\": 2595, \"'ou'\": 2596, \"'obamalegacy'\": 2597, \"'syrian'\": 2598, \"'christian'\": 2599, \"'graduate'\": 2600, \"'android'\": 2601, \"'buggy'\": 2602, \"'sporadically'\": 2603, \"'involved'\": 2604, \"'massiah'\": 2605, \"'pretentious'\": 2606, \"'towel'\": 2607, \"'easyjet'\": 2608, \"'alwaysdelayed'\": 2609, \"'administration'\": 2610, \"'animation'\": 2611, \"'avoidmmt'\": 2612, \"'impress'\": 2613, \"'mid'\": 2614, \"'lest'\": 2615, \"'addition'\": 2616, \"'bowl'\": 2617, \"'jeezus'\": 2618, \"'resolve'\": 2619, \"'amateur'\": 2620, \"'njdevils'\": 2621, \"'scorpio'\": 2622, \"'secretary'\": 2623, \"'festival'\": 2624, \"'maturity'\": 2625, \"'relocate'\": 2626, \"'dig'\": 2627, \"'eyebrow'\": 2628, \"'bigot'\": 2629, \"'resort'\": 2630, \"'weakness'\": 2631, \"'cb'\": 2632, \"'whaaaat'\": 2633, \"'jealous'\": 2634, \"'effective'\": 2635, \"'wisewords'\": 2636, \"'toddler'\": 2637, \"'conscience'\": 2638, \"'tryna'\": 2639, \"'choke'\": 2640, \"'movement'\": 2641, \"'sugar'\": 2642, \"'effect'\": 2643, \"'nyc'\": 2644, \"'dc'\": 2645, \"'itnevergoes'\": 2646, \"'clayton'\": 2647, \"'disease'\": 2648, \"'jealousy'\": 2649, \"'map'\": 2650, \"'boost'\": 2651, \"'badger'\": 2652, \"'horrorfilm'\": 2653, \"'twitch'\": 2654, \"'lololol'\": 2655, \"'maine'\": 2656, \"'humorous'\": 2657, \"'master'\": 2658, \"'confusion'\": 2659, \"'juror'\": 2660, \"'newton'\": 2661, \"'smrtruinslives'\": 2662, \"'landscape'\": 2663, \"'desolate'\": 2664, \"'particular'\": 2665, \"'moth'\": 2666, \"'diver'\": 2667, \"'chrome'\": 2668, \"'keithlamontscott'\": 2669, \"'buzz'\": 2670, \"'mentality'\": 2671, \"'hysteria'\": 2672, \"'monger'\": 2673, \"'oligarchy'\": 2674, \"'lingys'\": 2675, \"'pretendinghesok'\": 2676, \"'ruok'\": 2677, \"'vehicle'\": 2678, \"'disgusted'\": 2679, \"'tiger'\": 2680, \"'cancelled'\": 2681, \"'extend'\": 2682, \"'smackdown'\": 2683, \"'sohurt'\": 2684, \"'hall'\": 2685, \"'clip'\": 2686, \"'unless'\": 2687, \"'chipotle'\": 2688, \"'campus'\": 2689, \"'indignity'\": 2690, \"'hijack'\": 2691, \"'lgbt'\": 2692, \"'referee'\": 2693, \"'candy'\": 2694, \"'corn'\": 2695, \"'shaking'\": 2696, \"'depend'\": 2697, \"'regular'\": 2698, \"'senator'\": 2699, \"'cheering'\": 2700, \"'ethan'\": 2701, \"'explosion'\": 2702, \"'tooth'\": 2703, \"'recommended'\": 2704, \"'kendall'\": 2705, \"'jenner'\": 2706, \"'forgot'\": 2707, \"'career'\": 2708, \"'madness'\": 2709, \"'convince'\": 2710, \"'warning'\": 2711, \"'kit'\": 2712, \"'nike'\": 2713, \"'pt'\": 2714, \"'barb'\": 2715, \"'rt'\": 2716, \"'narley'\": 2717, \"'flatmate'\": 2718, \"'overwhelm'\": 2719, \"'lonley'\": 2720, \"'startingover'\": 2721, \"'progress'\": 2722, \"'houvsne'\": 2723, \"'igotbetterthingstodotonightthandie'\": 2724, \"'thoroughly'\": 2725, \"'valid'\": 2726, \"'finale'\": 2727, \"'xbox'\": 2728, \"'physical'\": 2729, \"'underlie'\": 2730, \"'extremely'\": 2731, \"'blithe'\": 2732, \"'mdw'\": 2733, \"'layover'\": 2734, \"'slc'\": 2735, \"'bail'\": 2736, \"'wannagetaway'\": 2737, \"'reservation'\": 2738, \"'avatar'\": 2739, \"'quinn'\": 2740, \"'motivationalquotes'\": 2741, \"'nana'\": 2742, \"'freshman'\": 2743, \"'animalrights'\": 2744, \"'gordon'\": 2745, \"'dying'\": 2746, \"'whahibbi'\": 2747, \"'sect'\": 2748, \"'synonymous'\": 2749, \"'stressful'\": 2750, \"'gabriella'\": 2751, \"'troy'\": 2752, \"'squeeze'\": 2753, \"'spam'\": 2754, \"'messaging'\": 2755, \"'launch'\": 2756, \"'underwear'\": 2757, \"'mombrain'\": 2758, \"'toomuchgoingon'\": 2759, \"'longday'\": 2760, \"'hateful'\": 2761, \"'zika'\": 2762, \"'hoax'\": 2763, \"'deet'\": 2764, \"'binary'\": 2765, \"'chemical'\": 2766, \"'toxin'\": 2767, \"'neurological'\": 2768, \"'uscitizens'\": 2769, \"'insect'\": 2770, \"'mammal'\": 2771, \"'nominate'\": 2772, \"'sleeplessnight'\": 2773, \"'comfort'\": 2774, \"'analyze'\": 2775, \"'teens'\": 2776, \"'safely'\": 2777, \"'hannah'\": 2778, \"'mournful'\": 2779, \"'sarcasm'\": 2780, \"'uniform'\": 2781, \"'per'\": 2782, \"'se'\": 2783, \"'mike'\": 2784, \"'apologise'\": 2785, \"'except'\": 2786, \"'offended'\": 2787, \"'keyboard'\": 2788, \"'pitcher'\": 2789, \"'upload'\": 2790, \"'hmu'\": 2791, \"'surprising'\": 2792, \"'survivor'\": 2793, \"'finn'\": 2794, \"'spy'\": 2795, \"'followme'\": 2796, \"'loo'\": 2797, \"'hv'\": 2798, \"'east'\": 2799, \"'opposition'\": 2800, \"'bass'\": 2801, \"'vic'\": 2802, \"'oregon'\": 2803, \"'violent'\": 2804, \"'upgrade'\": 2805, \"'aaaaarrrrgghhh'\": 2806, \"'iwanttocancel'\": 2807, \"'guys'\": 2808, \"'bbcnews'\": 2809, \"'dilate'\": 2810, \"'dragon'\": 2811, \"'randomly'\": 2812, \"'dardanella'\": 2813, \"'poorthings'\": 2814, \"'assignment'\": 2815, \"'apprehensive'\": 2816, \"'slogan'\": 2817, \"'yourefired'\": 2818, \"'deflect'\": 2819, \"'meant'\": 2820, \"'thenicebot'\": 2821, \"'wipe'\": 2822, \"'hangry'\": 2823, \"'carr'\": 2824, \"'suspension'\": 2825, \"'reactivate'\": 2826, \"'violate'\": 2827, \"'pander'\": 2828, \"'icing'\": 2829, \"'skittle'\": 2830, \"'analogy'\": 2831, \"'differ'\": 2832, \"'offline'\": 2833, \"'firstdayoffall'\": 2834, \"'cab'\": 2835, \"'belly'\": 2836, \"'couldnt'\": 2837, \"'fnaf'\": 2838, \"'facetime'\": 2839, \"'suchagirl'\": 2840, \"'psychological'\": 2841, \"'ferguson'\": 2842, \"'bilal'\": 2843, \"'abood'\": 2844, \"'mesquite'\": 2845, \"'doings'\": 2846, \"'empathetic'\": 2847, \"'plain'\": 2848, \"'insensitive'\": 2849, \"'alarming'\": 2850, \"'played'\": 2851, \"'jumpstreet'\": 2852, \"'goodday'\": 2853, \"'faulty'\": 2854, \"'wks'\": 2855, \"'jury'\": 2856, \"'constipate'\": 2857, \"'individual'\": 2858, \"'showroom'\": 2859, \"'rocky'\": 2860, \"'remake'\": 2861, \"'taxi'\": 2862, \"'preordered'\": 2863, \"'pale'\": 2864, \"'solve'\": 2865, \"'cheryl'\": 2866, \"'foul'\": 2867, \"'strengthen'\": 2868, \"'admit'\": 2869, \"'convenient'\": 2870, \"'numb'\": 2871, \"'pete'\": 2872, \"'lmboo'\": 2873, \"'assign'\": 2874, \"'preach'\": 2875, \"'etep'\": 2876, \"'advocate'\": 2877, \"'md'\": 2878, \"'whoa'\": 2879, \"'matt'\": 2880, \"'luthansa'\": 2881, \"'frk'\": 2882, \"'fixthisgame'\": 2883, \"'sfvrefund'\": 2884, \"'gahh'\": 2885, \"'dept'\": 2886, \"'programme'\": 2887, \"'disconnect'\": 2888, \"'devotee'\": 2889, \"'tna'\": 2890, \"'hardyboys'\": 2891, \"'impactonpop'\": 2892, \"'hunger'\": 2893, \"'natalie'\": 2894, \"'maybeoneday'\": 2895, \"'hopefullyfunny'\": 2896, \"'fully'\": 2897, \"'goodbye'\": 2898, \"'remix'\": 2899, \"'treatcustomersfairly'\": 2900, \"'sheet'\": 2901, \"'ohio'\": 2902, \"'psychiatrist'\": 2903, \"'admin'\": 2904, \"'homely'\": 2905, \"'hesitation'\": 2906, \"'jar'\": 2907, \"'overall'\": 2908, \"'et'\": 2909, \"'contribute'\": 2910, \"'anxietyrelief'\": 2911, \"'openminded'\": 2912, \"'manager'\": 2913, \"'indiedev'\": 2914, \"'recluse'\": 2915, \"'caption'\": 2916, \"'cable'\": 2917, \"'principle'\": 2918, \"'klitschko'\": 2919, \"'policeshootings'\": 2920, \"'suggestion'\": 2921, \"'practical'\": 2922, \"'fantasy'\": 2923, \"'cripple'\": 2924, \"'vampire'\": 2925, \"'apocalypse'\": 2926, \"'td'\": 2927, \"'g'\": 2928, \"'constituent'\": 2929, \"'oriole'\": 2930, \"'yank'\": 2931, \"'strawberry'\": 2932, \"'scent'\": 2933, \"'damp'\": 2934, \"'brock'\": 2935, \"'cook'\": 2936, \"'uplift'\": 2937, \"'pillow'\": 2938, \"'chocolate'\": 2939, \"'soccer'\": 2940, \"'pottermore'\": 2941, \"'hufflepuff'\": 2942, \"'huh'\": 2943, \"'mile'\": 2944, \"'exemplary'\": 2945, \"'jk'\": 2946, \"'residentadvisor'\": 2947, \"'poorservice'\": 2948, \"'studio'\": 2949, \"'politeness'\": 2950, \"'darthvader'\": 2951, \"'inhaler'\": 2952, \"'flip'\": 2953, \"'funding'\": 2954, \"'relapse'\": 2955, \"'chew'\": 2956, \"'cow'\": 2957, \"'horrendous'\": 2958, \"'tan'\": 2959, \"'fruit'\": 2960, \"'building'\": 2961, \"'tnf'\": 2962, \"'spry'\": 2963, \"'adventure'\": 2964, \"'dense'\": 2965, \"'buoyant'\": 2966, \"'atleastihavebuffy'\": 2967, \"'technical'\": 2968, \"'suprised'\": 2969, \"'scientist'\": 2970, \"'assistant'\": 2971, \"'brian'\": 2972, \"'sporadic'\": 2973, \"'cope'\": 2974, \"'sane'\": 2975, \"'listening'\": 2976, \"'property'\": 2977, \"'mixed'\": 2978, \"'lower'\": 2979, \"'multitasking'\": 2980, \"'induce'\": 2981, \"'specifically'\": 2982, \"'atm'\": 2983, \"'hill'\": 2984, \"'gaming'\": 2985, \"'mat'\": 2986, \"'theres'\": 2987, \"'awhile'\": 2988, \"'privately'\": 2989, \"'rm'\": 2990, \"'watching'\": 2991, \"'thin'\": 2992, \"'mint'\": 2993, \"'pontefract'\": 2994, \"'monkhill'\": 2995, \"'rational'\": 2996, \"'glance'\": 2997, \"'al'\": 2998, \"'parody'\": 2999, \"'victory'\": 3000, \"'nappy'\": 3001, \"'aint'\": 3002, \"'hog'\": 3003, \"'titan'\": 3004, \"'sadderness'\": 3005, \"'moreofsad'\": 3006, \"'howdoestears'\": 3007, \"'whatislife'\": 3008, \"'deject'\": 3009, \"'prospect'\": 3010, \"'nature'\": 3011, \"'extent'\": 3012, \"'labor'\": 3013, \"'exam'\": 3014, \"'sunny'\": 3015, \"'pam'\": 3016, \"'hairy'\": 3017, \"'perilsoflivingalone'\": 3018, \"'grass'\": 3019, \"'ooooooooh'\": 3020, \"'uuuugggghhhhhhhhh'\": 3021, \"'scum'\": 3022, \"'velocity'\": 3023, \"'manner'\": 3024, \"'homie'\": 3025, \"'rocktheretweet'\": 3026, \"'mechanism'\": 3027, \"'plait'\": 3028, \"'morn'\": 3029, \"'stroppy'\": 3030, \"'cater'\": 3031, \"'be'\": 3032, \"'hoopjunkie'\": 3033, \"'caller'\": 3034, \"'candace'\": 3035, \"'dunno'\": 3036, \"'exit'\": 3037, \"'cricket'\": 3038, \"'mf'\": 3039, \"'modern'\": 3040, \"'divorce'\": 3041, \"'sweden'\": 3042, \"'bakes'\": 3043, \"'survive'\": 3044, \"'stair'\": 3045, \"'recognize'\": 3046, \"'greet'\": 3047, \"'departing'\": 3048, \"'inv'\": 3049, \"'labour'\": 3050, \"'narcissist'\": 3051, \"'milspeak'\": 3052, \"'edge'\": 3053, \"'heel'\": 3054, \"'leeds'\": 3055, \"'attendance'\": 3056, \"'crawl'\": 3057, \"'princesstaye'\": 3058, \"'disaster'\": 3059, \"'vega'\": 3060, \"'beg'\": 3061, \"'brand'\": 3062, \"'spine'\": 3063, \"'tit'\": 3064, \"'ave'\": 3065, \"'bare'\": 3066, \"'junk'\": 3067, \"'innocence'\": 3068, \"'admits'\": 3069, \"'qb'\": 3070, \"'fraction'\": 3071, \"'smiling'\": 3072, \"'ornot'\": 3073, \"'mcdonald'\": 3074, \"'reminds'\": 3075, \"'friends'\": 3076, \"'spit'\": 3077, \"'converse'\": 3078, \"'standard'\": 3079, \"'seol'\": 3080, \"'rly'\": 3081, \"'tmobile'\": 3082, \"'original'\": 3083, \"'waittime'\": 3084, \"'cigar'\": 3085, \"'carrick'\": 3086, \"'mou'\": 3087, \"'pursuit'\": 3088, \"'cereal'\": 3089, \"'decaf'\": 3090, \"'soy'\": 3091, \"'americano'\": 3092, \"'barista'\": 3093, \"'butterfly'\": 3094, \"'penis'\": 3095, \"'private'\": 3096, \"'meanwhile'\": 3097, \"'witch'\": 3098, \"'beauty'\": 3099, \"'slider'\": 3100, \"'slept'\": 3101, \"'site'\": 3102, \"'ik'\": 3103, \"'probability'\": 3104, \"'uspol'\": 3105, \"'unarmed'\": 3106, \"'sensitivity'\": 3107, \"'employee'\": 3108, \"'click'\": 3109, \"'pr'\": 3110, \"'prince'\": 3111, \"'misery'\": 3112, \"'german'\": 3113, \"'gray'\": 3114, \"'perspective'\": 3115, \"'sensor'\": 3116, \"'timid'\": 3117, \"'curiosity'\": 3118, \"'hmmm'\": 3119, \"'submit'\": 3120, \"'fresh'\": 3121, \"'matty'\": 3122, \"'dawson'\": 3123, \"'cousin'\": 3124, \"'panpiper'\": 3125, \"'toronto'\": 3126, \"'requirement'\": 3127, \"'hoop'\": 3128, \"'priest'\": 3129, \"'bang'\": 3130, \"'punish'\": 3131, \"'trophy'\": 3132, \"'lineman'\": 3133, \"'gettin'\": 3134, \"'moan'\": 3135, \"'horrormovies'\": 3136, \"'cn'\": 3137, \"'ratio'\": 3138, \"'restaurant'\": 3139, \"'fantastic'\": 3140, \"'talent'\": 3141, \"'quickly'\": 3142, \"'fortune'\": 3143, \"'ramble'\": 3144, \"'pinpoint'\": 3145, \"'strength'\": 3146, \"'designatedsurvivor'\": 3147, \"'initiative'\": 3148, \"'mercy'\": 3149, \"'forgiveness'\": 3150, \"'slushie'\": 3151, \"'livid'\": 3152, \"'producer'\": 3153, \"'visa'\": 3154, \"'showboating'\": 3155, \"'wince'\": 3156, \"'friedman'\": 3157, \"'clueless'\": 3158, \"'ding'\": 3159, \"'arch'\": 3160, \"'missus'\": 3161, \"'angryman'\": 3162, \"'pastor'\": 3163, \"'slough'\": 3164, \"'lifeontheroad'\": 3165, \"'typo'\": 3166, \"'happppy'\": 3167, \"'happppyyyyyy'\": 3168, \"'happppppyyyyy'\": 3169, \"'haaapppyyyy'\": 3170, \"'bdaygirl'\": 3171, \"'bend'\": 3172, \"'matthew'\": 3173, \"'marshmallow'\": 3174, \"'freespeech'\": 3175, \"'publish'\": 3176, \"'scifi'\": 3177, \"'chair'\": 3178, \"'boggart'\": 3179, \"'violation'\": 3180, \"'propose'\": 3181, \"'century'\": 3182, \"'irl'\": 3183, \"'among'\": 3184, \"'equally'\": 3185, \"'competitive'\": 3186, \"'rapid'\": 3187, \"'ibiza'\": 3188, \"'fearsome'\": 3189, \"'withdrawal'\": 3190, \"'meaindia'\": 3191, \"'background'\": 3192, \"'purple'\": 3193, \"'highlight'\": 3194, \"'minority'\": 3195, \"'disgrace'\": 3196, \"'lo'\": 3197, \"'tech'\": 3198, \"'sotired'\": 3199, \"'frozen'\": 3200, \"'presentation'\": 3201, \"'honey'\": 3202, \"'constitutional'\": 3203, \"'tasting'\": 3204, \"'whisky'\": 3205, \"'mm'\": 3206, \"'cadre'\": 3207, \"'accidentally'\": 3208, \"'stehr'\": 3209, \"'investigation'\": 3210, \"'forthwith'\": 3211, \"'direct'\": 3212, \"'openly'\": 3213, \"'riggedsystem'\": 3214, \"'oreillyfactor'\": 3215, \"'nc'\": 3216, \"'making'\": 3217, \"'brutal'\": 3218, \"'bizhour'\": 3219, \"'marblesinmouth'\": 3220, \"'gag'\": 3221, \"'formidable'\": 3222, \"'combination'\": 3223, \"'nelson'\": 3224, \"'mandela'\": 3225, \"'ouch'\": 3226, \"'liveliness'\": 3227, \"'hav'\": 3228, \"'swine'\": 3229, \"'damnit'\": 3230, \"'tickle'\": 3231, \"'confirm'\": 3232, \"'darn'\": 3233, \"'trial'\": 3234, \"'edition'\": 3235, \"'candle'\": 3236, \"'fa'\": 3237, \"'narcissistic'\": 3238, \"'inch'\": 3239, \"'thick'\": 3240, \"'ether'\": 3241, \"'snuggle'\": 3242, \"'firm'\": 3243, \"'dailyfeels'\": 3244, \"'cd'\": 3245, \"'massali'\": 3246, \"'whistle'\": 3247, \"'relief'\": 3248, \"'stool'\": 3249, \"'worstairline'\": 3250, \"'appauling'\": 3251, \"'beyondajoke'\": 3252, \"'wallet'\": 3253, \"'suffocate'\": 3254, \"'utd'\": 3255, \"'writerslife'\": 3256, \"'gpa'\": 3257, \"'trumpie'\": 3258, \"'quarter'\": 3259, \"'blargh'\": 3260, \"'tokyo'\": 3261, \"'log'\": 3262, \"'slagging'\": 3263, \"'laundry'\": 3264, \"'stranger'\": 3265, \"'fridge'\": 3266, \"'dirt'\": 3267, \"'melt'\": 3268, \"'peer'\": 3269, \"'annoyance'\": 3270, \"'foreign'\": 3271, \"'ima'\": 3272, \"'lewis'\": 3273, \"'who'\": 3274, \"'frustrating'\": 3275, \"'yal'\": 3276, \"'danish'\": 3277, \"'vanity'\": 3278, \"'evenxxs'\": 3279, \"'corporate'\": 3280, \"'lithuania'\": 3281, \"'gp'\": 3282, \"'unreliable'\": 3283, \"'samuel'\": 3284, \"'coin'\": 3285, \"'rider'\": 3286, \"'route'\": 3287, \"'rubbish'\": 3288, \"'fave'\": 3289, \"'coworker'\": 3290, \"'immense'\": 3291, \"'dinner'\": 3292, \"'bb'\": 3293, \"'drown'\": 3294, \"'falure'\": 3295, \"'amirite'\": 3296, \"'button'\": 3297, \"'innovation'\": 3298, \"'fuckery'\": 3299, \"'iphonephonehome'\": 3300, \"'zen'\": 3301, \"'dickpic'\": 3302, \"'cocktribute'\": 3303, \"'shove'\": 3304, \"'jolie'\": 3305, \"'amy'\": 3306, \"'divamagazine'\": 3307, \"'arse'\": 3308, \"'sock'\": 3309, \"'terrancecrutcher'\": 3310, \"'bbmichelle'\": 3311, \"'incident'\": 3312, \"'ourworld'\": 3313, \"'correction'\": 3314, \"'standing'\": 3315, \"'hero'\": 3316, \"'intimate'\": 3317, \"'satan'\": 3318, \"'few'\": 3319, \"'error'\": 3320, \"'approach'\": 3321, \"'pakistani'\": 3322, \"'errrr'\": 3323, \"'italy'\": 3324, \"'poster'\": 3325, \"'vision'\": 3326, \"'apologize'\": 3327, \"'dex'\": 3328, \"'pipe'\": 3329, \"'azerbaijan'\": 3330, \"'coworkers'\": 3331, \"'crappy'\": 3332, \"'irish'\": 3333, \"'driving'\": 3334, \"'dictator'\": 3335, \"'sharia'\": 3336, \"'polygamy'\": 3337, \"'vodka'\": 3338, \"'whataloadoftat'\": 3339, \"'explore'\": 3340, \"'symbolizes'\": 3341, \"'yelling'\": 3342, \"'shutup'\": 3343, \"'ryanair'\": 3344, \"'compensation'\": 3345, \"'yea'\": 3346, \"'mustard'\": 3347, \"'hostile'\": 3348, \"'lost'\": 3349, \"'merely'\": 3350, \"'none'\": 3351, \"'peep'\": 3352, \"'hermione'\": 3353, \"'ron'\": 3354, \"'decade'\": 3355, \"'hw'\": 3356, \"'marmite'\": 3357, \"'thomas'\": 3358, \"'aloneinthecity'\": 3359, \"'berry'\": 3360, \"'anime'\": 3361, \"'sum'\": 3362, \"'feud'\": 3363, \"'troll'\": 3364, \"'co'\": 3365, \"'endorse'\": 3366, \"'winner'\": 3367, \"'undying'\": 3368, \"'shite'\": 3369, \"'pen'\": 3370, \"'wont'\": 3371, \"'michael'\": 3372, \"'hegemonists'\": 3373, \"'stuck'\": 3374, \"'saudi'\": 3375, \"'financing'\": 3376, \"'israeli'\": 3377, \"'gentleman'\": 3378, \"'impression'\": 3379, \"'shoutdrive'\": 3380, \"'texting'\": 3381, \"'unacceptable'\": 3382, \"'picasso'\": 3383, \"'booth'\": 3384, \"'vibe'\": 3385, \"'somewhat'\": 3386, \"'steam'\": 3387, \"'port'\": 3388, \"'vice'\": 3389, \"'billie'\": 3390, \"'hire'\": 3391, \"'cum'\": 3392, \"'vengeance'\": 3393, \"'poison'\": 3394, \"'lettin'\": 3395, \"'comfortable'\": 3396, \"'reveal'\": 3397, \"'font'\": 3398, \"'jeremy'\": 3399, \"'praise'\": 3400, \"'ham'\": 3401, \"'disheartened'\": 3402, \"'noloyalty'\": 3403, \"'notimpressed'\": 3404, \"'profit'\": 3405, \"'bey'\": 3406, \"'rollin'\": 3407, \"'sip'\": 3408, \"'shatter'\": 3409, \"'massive'\": 3410, \"'intention'\": 3411, \"'connor'\": 3412, \"'image'\": 3413, \"'vale'\": 3414, \"'flamenco'\": 3415, \"'maximum'\": 3416, \"'stan'\": 3417, \"'pet'\": 3418, \"'snow'\": 3419, \"'dylan'\": 3420, \"'musician'\": 3421, \"'wound'\": 3422, \"'genuinely'\": 3423, \"'exhilarating'\": 3424, \"'honor'\": 3425, \"'innerconflict'\": 3426, \"'fame'\": 3427, \"'instinct'\": 3428, \"'fascist'\": 3429, \"'affront'\": 3430, \"'jen'\": 3431, \"'stare'\": 3432, \"'sharpen'\": 3433, \"'drag'\": 3434, \"'tease'\": 3435, \"'massif'\": 3436, \"'burger'\": 3437, \"'duck'\": 3438, \"'camera'\": 3439, \"'ankle'\": 3440, \"'tilt'\": 3441, \"'focused'\": 3442, \"'skype'\": 3443, \"'thus'\": 3444, \"'contention'\": 3445, \"'perch'\": 3446, \"'chain'\": 3447, \"'selfhelp'\": 3448, \"'justsaying'\": 3449, \"'idol'\": 3450, \"'rating'\": 3451, \"'thief'\": 3452, \"'investigate'\": 3453, \"'retirement'\": 3454, \"'noclue'\": 3455, \"'auction'\": 3456, \"'advance'\": 3457, \"'bloke'\": 3458, \"'loudly'\": 3459, \"'bbc'\": 3460, \"'coys'\": 3461, \"'pit'\": 3462, \"'promising'\": 3463, \"'callback'\": 3464, \"'epipen'\": 3465, \"'expand'\": 3466, \"'poisonous'\": 3467, \"'denial'\": 3468, \"'tune'\": 3469, \"'sword'\": 3470, \"'addair'\": 3471, \"'yourpushfactor'\": 3472, \"'francis'\": 3473, \"'satisfy'\": 3474, \"'puke'\": 3475, \"'athlete'\": 3476, \"'joyed'\": 3477, \"'hp'\": 3478, \"'fb'\": 3479, \"'sara'\": 3480, \"'freaking'\": 3481, \"'rhobh'\": 3482, \"'squad'\": 3483, \"'clap'\": 3484, \"'gcse'\": 3485, \"'tfw'\": 3486, \"'injure'\": 3487, \"'warrior'\": 3488, \"'championship'\": 3489, \"'loooooong'\": 3490, \"'sharif'\": 3491, \"'regardless'\": 3492, \"'socialmedia'\": 3493, \"'fricking'\": 3494, \"'six'\": 3495, \"'vulnerable'\": 3496, \"'grave'\": 3497, \"'bust'\": 3498, \"'thnx'\": 3499, \"'aware'\": 3500, \"'alarmist'\": 3501, \"'burhanwani'\": 3502, \"'tht'\": 3503, \"'mental'\": 3504, \"'bipolar'\": 3505, \"'engagement'\": 3506, \"'throat'\": 3507, \"'delusional'\": 3508, \"'sopranos'\": 3509, \"'joyless'\": 3510, \"'communication'\": 3511, \"'achieve'\": 3512, \"'commentary'\": 3513, \"'foreveralone'\": 3514, \"'corner'\": 3515, \"'dismay'\": 3516, \"'panicattacks'\": 3517, \"'impressive'\": 3518, \"'anna'\": 3519, \"'biblemotivate'\": 3520, \"'prominent'\": 3521, \"'exasperate'\": 3522, \"'bournemouth'\": 3523, \"'celebeffer'\": 3524, \"'beatles'\": 3525, \"'opera'\": 3526, \"'wisdom'\": 3527, \"'tone'\": 3528, \"'mt'\": 3529, \"'clan'\": 3530, \"'kpop'\": 3531, \"'corbyn'\": 3532, \"'smith'\": 3533, \"'shin'\": 3534, \"'looney'\": 3535, \"'toon'\": 3536, \"'partner'\": 3537, \"'shorty'\": 3538, \"'five'\": 3539, \"'ahead'\": 3540, \"'troyler'\": 3541, \"'therapy'\": 3542, \"'ballons'\": 3543, \"'adulthood'\": 3544, \"'miami'\": 3545, \"'mourinho'\": 3546, \"'equal'\": 3547, \"'flavor'\": 3548, \"'breakdown'\": 3549, \"'tomato'\": 3550, \"'tension'\": 3551, \"'luv'\": 3552, \"'whoever'\": 3553, \"'sandwich'\": 3554, \"'incredible'\": 3555, \"'creative'\": 3556, \"'pace'\": 3557, \"'mon'\": 3558, \"'frontier'\": 3559, \"'chose'\": 3560, \"'scam'\": 3561, \"'prob'\": 3562, \"'horribly'\": 3563, \"'acknowledge'\": 3564, \"'existence'\": 3565, \"'inquiry'\": 3566, \"'sexuality'\": 3567, \"'cos'\": 3568, \"'tub'\": 3569, \"'pollute'\": 3570, \"'alternative'\": 3571, \"'psychology'\": 3572, \"'akshay'\": 3573, \"'earpiece'\": 3574, \"'intrigue'\": 3575, \"'gameplay'\": 3576, \"'grad'\": 3577, \"'mpsvt'\": 3578, \"'various'\": 3579, \"'goth'\": 3580, \"'fearing'\": 3581, \"'solar'\": 3582, \"'inspiring'\": 3583, \"'remedy'\": 3584, \"'delivery'\": 3585, \"'djt'\": 3586, \"'yummymummiesau'\": 3587, \"'extinction'\": 3588, \"'accomplish'\": 3589, \"'covfefe'\": 3590, \"'aw'\": 3591, \"'bummer'\": 3592, \"'sea'\": 3593, \"'glum'\": 3594, \"'morata'\": 3595, \"'instagood'\": 3596, \"'collusion'\": 3597, \"'extremist'\": 3598, \"'abroad'\": 3599, \"'increasingly'\": 3600, \"'shook'\": 3601, \"'impeach'\": 3602, \"'grab'\": 3603, \"'nom'\": 3604, \"'compel'\": 3605, \"'bathroom'\": 3606, \"'crackle'\": 3607, \"'scalar'\": 3608, \"'dissapointed'\": 3609, \"'justify'\": 3610, \"'trouble'\": 3611, \"'connect'\": 3612, \"'illegal'\": 3613, \"'eps'\": 3614, \"'qld'\": 3615, \"'billy'\": 3616, \"'retail'\": 3617, \"'psalm'\": 3618, \"'ocd'\": 3619, \"'oath'\": 3620, \"'bachelorinparadise'\": 3621, \"'wth'\": 3622, \"'pickled'\": 3623, \"'kayleigh'\": 3624, \"'membership'\": 3625, \"'spade'\": 3626, \"'lawyer'\": 3627, \"'honeymoon'\": 3628, \"'wednesdaywisdom'\": 3629, \"'realdonaldtrump'\": 3630, \"'hunt'\": 3631, \"'lift'\": 3632, \"'oy'\": 3633, \"'confess'\": 3634, \"'plane'\": 3635, \"'judiciary'\": 3636, \"'mutual'\": 3637, \"'tom'\": 3638, \"'congress'\": 3639, \"'newborn'\": 3640, \"'pilgrim'\": 3641, \"'barbecue'\": 3642, \"'hahahaha'\": 3643, \"'directly'\": 3644, \"'flutter'\": 3645, \"'wonwoo'\": 3646, \"'relation'\": 3647, \"'tuesdaythoughts'\": 3648, \"'solemn'\": 3649, \"'mayweathervsmcgregor'\": 3650, \"'thorn'\": 3651, \"'dye'\": 3652, \"'logic'\": 3653, \"'bench'\": 3654, \"'explode'\": 3655, \"'addiction'\": 3656, \"'potus'\": 3657, \"'duty'\": 3658, \"'octopus'\": 3659, \"'satisfied'\": 3660, \"'pair'\": 3661, \"'raspberrypi'\": 3662, \"'lecturer'\": 3663, \"'yas'\": 3664, \"'rogue'\": 3665, \"'ear'\": 3666, \"'thx'\": 3667, \"'universe'\": 3668, \"'coverage'\": 3669, \"'measure'\": 3670, \"'resistance'\": 3671, \"'invasion'\": 3672, \"'contd'\": 3673, \"'sexting'\": 3674, \"'anyways'\": 3675, \"'nationalfrenchfryday'\": 3676, \"'eu'\": 3677, \"'urge'\": 3678, \"'european'\": 3679, \"'magnus'\": 3680, \"'snack'\": 3681, \"'thankful'\": 3682, \"'palestine'\": 3683, \"'cc'\": 3684, \"'abolish'\": 3685, \"'esp'\": 3686, \"'suit'\": 3687, \"'grisk'\": 3688, \"'proof'\": 3689, \"'ton'\": 3690, \"'entertain'\": 3691, \"'clever'\": 3692, \"'center'\": 3693, \"'lime'\": 3694, \"'tdf'\": 3695, \"'waist'\": 3696, \"'algae'\": 3697, \"'cancer'\": 3698, \"'heavily'\": 3699, \"'joint'\": 3700, \"'bogo'\": 3701, \"'punter'\": 3702, \"'anticipation'\": 3703, \"'cast'\": 3704, \"'giant'\": 3705, \"'cbb'\": 3706, \"'horrify'\": 3707, \"'xxoo'\": 3708, \"'dro'\": 3709, \"'funk'\": 3710, \"'mitchell'\": 3711, \"'allergy'\": 3712, \"'satisfaction'\": 3713, \"'sb'\": 3714, \"'crouch'\": 3715, \"'bcs'\": 3716, \"'swedish'\": 3717, \"'di'\": 3718, \"'jud'\": 3719, \"'heathrow'\": 3720, \"'analog'\": 3721, \"'smart'\": 3722, \"'occasion'\": 3723, \"'scale'\": 3724, \"'expo'\": 3725, \"'terrified'\": 3726, \"'ze'\": 3727, \"'tory'\": 3728, \"'turtle'\": 3729, \"'kdrama'\": 3730, \"'condemn'\": 3731, \"'sentiment'\": 3732, \"'payment'\": 3733, \"'joyce'\": 3734, \"'meyer'\": 3735, \"'atsu'\": 3736, \"'uwu'\": 3737, \"'rooneys'\": 3738, \"'untouchable'\": 3739, \"'depay'\": 3740, \"'ish'\": 3741, \"'pan'\": 3742, \"'highlighter'\": 3743, \"'stfu'\": 3744, \"'yearly'\": 3745, \"'returner'\": 3746, \"'tiller'\": 3747, \"'collab'\": 3748, \"'rapping'\": 3749, \"'prolly'\": 3750, \"'shouldofgonewithvirgin'\": 3751, \"'newyork'\": 3752, \"'activist'\": 3753, \"'demonstration'\": 3754, \"'headquarters'\": 3755, \"'export'\": 3756, \"'normy'\": 3757, \"'humping'\": 3758, \"'greatly'\": 3759, \"'strategically'\": 3760, \"'cower'\": 3761, \"'inevitable'\": 3762, \"'rescue'\": 3763, \"'uggh'\": 3764, \"'stretch'\": 3765, \"'tamra'\": 3766, \"'needstobeadmitted'\": 3767, \"'dependent'\": 3768, \"'circumstantial'\": 3769, \"'representation'\": 3770, \"'shrug'\": 3771, \"'orwellian'\": 3772, \"'fighting'\": 3773, \"'becz'\": 3774, \"'puzzle'\": 3775, \"'portland'\": 3776, \"'feodal'\": 3777, \"'correlative'\": 3778, \"'snorting'\": 3779, \"'xlzjyhg'\": 3780, \"'tractor'\": 3781, \"'youtubegaming'\": 3782, \"'addict'\": 3783, \"'ditto'\": 3784, \"'philippplein'\": 3785, \"'stunt'\": 3786, \"'londonevents'\": 3787, \"'preparation'\": 3788, \"'yawnoff'\": 3789, \"'pathological'\": 3790, \"'earring'\": 3791, \"'bennett'\": 3792, \"'faceyourfears'\": 3793, \"'lehrer'\": 3794, \"'ridiculously'\": 3795, \"'overweight'\": 3796, \"'galore'\": 3797, \"'flirt'\": 3798, \"'simper'\": 3799, \"'yuck'\": 3800, \"'trumpism'\": 3801, \"'likewise'\": 3802, \"'knowingly'\": 3803, \"'intentionally'\": 3804, \"'eish'\": 3805, \"'brings'\": 3806, \"'nje'\": 3807, \"'darkness'\": 3808, \"'lightbulb'\": 3809, \"'congreve'\": 3810, \"'turnd'\": 3811, \"'silvereliteleftbehind'\": 3812, \"'hike'\": 3813, \"'화양연화'\": 3814, \"'bump'\": 3815, \"'skepticism'\": 3816, \"'axis'\": 3817, \"'hub'\": 3818, \"'herewego'\": 3819, \"'dharmainitiative'\": 3820, \"'pelt'\": 3821, \"'vandalize'\": 3822, \"'truncate'\": 3823, \"'joes'\": 3824, \"'range'\": 3825, \"'instestines'\": 3826, \"'rednecks'\": 3827, \"'intellectually'\": 3828, \"'noooooo'\": 3829, \"'maryberry'\": 3830, \"'endofanera'\": 3831, \"'lameduck'\": 3832, \"'notallaboutthemoney'\": 3833, \"'dabbed'\": 3834, \"'anticipate'\": 3835, \"'isthereahelplineforthis'\": 3836, \"'keeper'\": 3837, \"'soak'\": 3838, \"'wet'\": 3839, \"'participating'\": 3840, \"'noam'\": 3841, \"'chomsky'\": 3842, \"'diego'\": 3843, \"'nimber'\": 3844, \"'cleaning'\": 3845, \"'worsethananatomicbomb'\": 3846, \"'accidentlyspillbeeronthecarpet'\": 3847, \"'fortunate'\": 3848, \"'ion'\": 3849, \"'cmode'\": 3850, \"'grimrail'\": 3851, \"'westminster'\": 3852, \"'inequality'\": 3853, \"'contained'\": 3854, \"'sustainability'\": 3855, \"'vergecon'\": 3856, \"'newgrandstrategy'\": 3857, \"'communitysleepcoach'\": 3858, \"'narcoleptic'\": 3859, \"'rockies'\": 3860, \"'dbacks'\": 3861, \"'combined'\": 3862, \"'preparedness'\": 3863, \"'mtv'\": 3864, \"'teenmom'\": 3865, \"'vestige'\": 3866, \"'shoal'\": 3867, \"'tracy'\": 3868, \"'chapman'\": 3869, \"'dayjob'\": 3870, \"'empath'\": 3871, \"'gosling'\": 3872, \"'eva'\": 3873, \"'mendes'\": 3874, \"'embarrassed'\": 3875, \"'knvfkkjg'\": 3876, \"'newmusic'\": 3877, \"'newsingle'\": 3878, \"'newalbum'\": 3879, \"'popmusic'\": 3880, \"'montreal'\": 3881, \"'punkrock'\": 3882, \"'postpunk'\": 3883, \"'brawndo'\": 3884, \"'idiocracytoday'\": 3885, \"'saturdaynightlive'\": 3886, \"'shilling'\": 3887, \"'rethink'\": 3888, \"'lab'\": 3889, \"'gove'\": 3890, \"'significantly'\": 3891, \"'parade'\": 3892, \"'weans'\": 3893, \"'jammies'\": 3894, \"'muscle'\": 3895, \"'muzzy'\": 3896, \"'cheesy'\": 3897, \"'gothcore'\": 3898, \"'spooky'\": 3899, \"'momlife'\": 3900, \"'gloriosa'\": 3901, \"'bazigaga'\": 3902, \"'rwanda'\": 3903, \"'peacebuilding'\": 3904, \"'scrap'\": 3905, \"'desgusting'\": 3906, \"'urgent'\": 3907, \"'childlike'\": 3908, \"'convos'\": 3909, \"'laurie'\": 3910, \"'hernandez'\": 3911, \"'retaliation'\": 3912, \"'huma'\": 3913, \"'allscumbags'\": 3914, \"'blasio'\": 3915, \"'giuliani'\": 3916, \"'motto'\": 3917, \"'profession'\": 3918, \"'bowel'\": 3919, \"'morgue'\": 3920, \"'reuters'\": 3921, \"'hating'\": 3922, \"'detest'\": 3923, \"'laureliver'\": 3924, \"'mmmm'\": 3925, \"'nothappy'\": 3926, \"'fullprice'\": 3927, \"'bestrides'\": 3928, \"'minuscule'\": 3929, \"'megaproject'\": 3930, \"'nlpoli'\": 3931, \"'chirpy'\": 3932, \"'springequinox'\": 3933, \"'autumnequinox'\": 3934, \"'thebeautyofbalance'\": 3935, \"'unnerve'\": 3936, \"'gleesome'\": 3937, \"'needsmoresleep'\": 3938, \"'echo'\": 3939, \"'reverb'\": 3940, \"'hassle'\": 3941, \"'exists'\": 3942, \"'namjoon'\": 3943, \"'thrill'\": 3944, \"'seam'\": 3945, \"'sua'\": 3946, \"'compromise'\": 3947, \"'alright'\": 3948, \"'donal'\": 3949, \"'óg'\": 3950, \"'cork'\": 3951, \"'dopey'\": 3952, \"'frank'\": 3953, \"'cult'\": 3954, \"'survival'\": 3955, \"'tee'\": 3956, \"'rogerfederershop'\": 3957, \"'roger'\": 3958, \"'federer'\": 3959, \"'rioting'\": 3960, \"'asshole'\": 3961, \"'hm'\": 3962, \"'pinafore'\": 3963, \"'hubby'\": 3964, \"'captureyourmind'\": 3965, \"'findgodnow'\": 3966, \"'turkish'\": 3967, \"'shade'\": 3968, \"'irruptive'\": 3969, \"'twelvemonth'\": 3970, \"'gobbler'\": 3971, \"'nephalism'\": 3972, \"'jihadist'\": 3973, \"'mayor'\": 3974, \"'sadiqkhan'\": 3975, \"'sauce'\": 3976, \"'wayward'\": 3977, \"'supernatural'\": 3978, \"'mfa'\": 3979, \"'gradschoolproblems'\": 3980, \"'someonetelltinafeytohireme'\": 3981, \"'riggs'\": 3982, \"'lolol'\": 3983, \"'edit'\": 3984, \"'productivityatitsfinest'\": 3985, \"'crossfire'\": 3986, \"'limb'\": 3987, \"'cobbler'\": 3988, \"'load'\": 3989, \"'gorre'\": 3990, \"'footballler'\": 3991, \"'armageddon'\": 3992, \"'usapleasedont'\": 3993, \"'basshunter'\": 3994, \"'bounty'\": 3995, \"'hunter'\": 3996, \"'collegelife'\": 3997, \"'supine'\": 3998, \"'sixwordstory'\": 3999, \"'borrow'\": 4000, \"'pax'\": 4001, \"'kkk'\": 4002, \"'wattch'\": 4003, \"'travelfail'\": 4004, \"'virgin'\": 4005, \"'virginaus'\": 4006, \"'etihad'\": 4007, \"'obvs'\": 4008, \"'manufacture'\": 4009, \"'burner'\": 4010, \"'maxlevelz'\": 4011, \"'dehydrate'\": 4012, \"'footy'\": 4013, \"'argentina'\": 4014, \"'poland'\": 4015, \"'contribution'\": 4016, \"'fmf'\": 4017, \"'protester'\": 4018, \"'reasoned'\": 4019, \"'disruption'\": 4020, \"'lunatic'\": 4021, \"'asylum'\": 4022, \"'flourish'\": 4023, \"'disapproves'\": 4024, \"'presidentialdebate'\": 4025, \"'orangehitler'\": 4026, \"'fluffy'\": 4027, \"'bon'\": 4028, \"'iver'\": 4029, \"'mull'\": 4030, \"'poc'\": 4031, \"'couscous'\": 4032, \"'booze'\": 4033, \"'caffeine'\": 4034, \"'oncoming'\": 4035, \"'vehs'\": 4036, \"'swerve'\": 4037, \"'section'\": 4038, \"'poems'\": 4039, \"'squirm'\": 4040, \"'reginald'\": 4041, \"'denny'\": 4042, \"'lobby'\": 4043, \"'stuartspecial'\": 4044, \"'cliff'\": 4045, \"'pto'\": 4046, \"'doneeeee'\": 4047, \"'knew'\": 4048, \"'pavel'\": 4049, \"'cackle'\": 4050, \"'thearchers'\": 4051, \"'constipation'\": 4052, \"'xt'\": 4053, \"'nova'\": 4054, \"'cowardliness'\": 4055, \"'blatant'\": 4056, \"'aqw'\": 4057, \"'transform'\": 4058, \"'kirby'\": 4059, \"'panther'\": 4060, \"'flat'\": 4061, \"'bollocked'\": 4062, \"'dedicate'\": 4063, \"'tenacious'\": 4064, \"'humbly'\": 4065, \"'spraypainting'\": 4066, \"'greenwichmarket'\": 4067, \"'lilylou'\": 4068, \"'benoakley'\": 4069, \"'naay'\": 4070, \"'filling'\": 4071, \"'gap'\": 4072, \"'haikuchallenge'\": 4073, \"'crisp'\": 4074, \"'nooneunderstands'\": 4075, \"'karev'\": 4076, \"'fazed'\": 4077, \"'aberdeen'\": 4078, \"'johnstone'\": 4079, \"'punt'\": 4080, \"'furthest'\": 4081, \"'unproductive'\": 4082, \"'tribez'\": 4083, \"'castlez'\": 4084, \"'bartolomeo'\": 4085, \"'useallthehotwatershower'\": 4086, \"'david'\": 4087, \"'gilmour'\": 4088, \"'gig'\": 4089, \"'mississippi'\": 4090, \"'pinkfloyd'\": 4091, \"'theblues'\": 4092, \"'davidgilmour'\": 4093, \"'tranquilizer'\": 4094, \"'intel'\": 4095, \"'lade'\": 4096, \"'hoody'\": 4097, \"'cheat'\": 4098, \"'readership'\": 4099, \"'gump'\": 4100, \"'consumate'\": 4101, \"'diplomat'\": 4102, \"'grimy'\": 4103, \"'musical'\": 4104, \"'thelionking'\": 4105, \"'influence'\": 4106, \"'williamshakespeare'\": 4107, \"'hamlet'\": 4108, \"'eltonjohn'\": 4109, \"'aa'\": 4110, \"'passage'\": 4111, \"'rudely'\": 4112, \"'snowdenmovie'\": 4113, \"'thriller'\": 4114, \"'upping'\": 4115, \"'apprehend'\": 4116, \"'charcoal'\": 4117, \"'ownership'\": 4118, \"'unzu'\": 4119, \"'handicap'\": 4120, \"'dodger'\": 4121, \"'agg'\": 4122, \"'tomboy'\": 4123, \"'haqqani'\": 4124, \"'wrestling'\": 4125, \"'jaymohrsports'\": 4126, \"'staystrong'\": 4127, \"'yourebeautiful'\": 4128, \"'kickinnnnn'\": 4129, \"'misty'\": 4130, \"'volleyball'\": 4131, \"'tambourine'\": 4132, \"'lyre'\": 4133, \"'forcibly'\": 4134, \"'proportion'\": 4135, \"'worst'\": 4136, \"'knowledge'\": 4137, \"'weekly'\": 4138, \"'jew'\": 4139, \"'flee'\": 4140, \"'persecution'\": 4141, \"'lestweforget'\": 4142, \"'trainee'\": 4143, \"'recruitment'\": 4144, \"'conclude'\": 4145, \"'wewait'\": 4146, \"'eng'\": 4147, \"'uhh'\": 4148, \"'meee'\": 4149, \"'moreisbetter'\": 4150, \"'voke'\": 4151, \"'deception'\": 4152, \"'gallery'\": 4153, \"'berl'\": 4154, \"'katznelson'\": 4155, \"'gran'\": 4156, \"'rawhide'\": 4157, \"'baritone'\": 4158, \"'egyptian'\": 4159, \"'brotherhood'\": 4160, \"'benchmark'\": 4161, \"'gift'\": 4162, \"'alex'\": 4163, \"'revells'\": 4164, \"'dirtypeople'\": 4165, \"'unintentional'\": 4166, \"'indicate'\": 4167, \"'devoid'\": 4168, \"'taco'\": 4169, \"'fckd'\": 4170, \"'justiceofpak'\": 4171, \"'publicly'\": 4172, \"'prisoned'\": 4173, \"'severe'\": 4174, \"'imediately'\": 4175, \"'writingtip'\": 4176, \"'wept'\": 4177, \"'rusty'\": 4178, \"'ramping'\": 4179, \"'perfume'\": 4180, \"'smokey'\": 4181, \"'ourhouse'\": 4182, \"'onejersey'\": 4183, \"'werealldevilsinside'\": 4184, \"'puck'\": 4185, \"'drops'\": 4186, \"'demolition'\": 4187, \"'meden'\": 4188, \"'dwts'\": 4189, \"'thas'\": 4190, \"'darker'\": 4191, \"'jewel'\": 4192, \"'moonlight'\": 4193, \"'telling'\": 4194, \"'jog'\": 4195, \"'beside'\": 4196, \"'cheek'\": 4197, \"'jasper'\": 4198, \"'belt'\": 4199, \"'aldo'\": 4200, \"'booty'\": 4201, \"'evaluation'\": 4202, \"'minimally'\": 4203, \"'parcc'\": 4204, \"'teaching'\": 4205, \"'cba'\": 4206, \"'ahahah'\": 4207, \"'southpark'\": 4208, \"'calculate'\": 4209, \"'trample'\": 4210, \"'dignity'\": 4211, \"'escalate'\": 4212, \"'confrontation'\": 4213, \"'dhoni'\": 4214, \"'bcoz'\": 4215, \"'calmness'\": 4216, \"'finisher'\": 4217, \"'miltirian'\": 4218, \"'humanbeing'\": 4219, \"'bitchass'\": 4220, \"'mucus'\": 4221, \"'neg'\": 4222, \"'mh'\": 4223, \"'teampaella'\": 4224, \"'fi'\": 4225, \"'crushed'\": 4226, \"'bone'\": 4227, \"'wicked'\": 4228, \"'welfarereform'\": 4229, \"'science'\": 4230, \"'cashew'\": 4231, \"'hemp'\": 4232, \"'dandelion'\": 4233, \"'yeller'\": 4234, \"'screamer'\": 4235, \"'reference'\": 4236, \"'suspect'\": 4237, \"'bombing'\": 4238, \"'omit'\": 4239, \"'journ'\": 4240, \"'moonshinesociety'\": 4241, \"'loft'\": 4242, \"'espn'\": 4243, \"'essay'\": 4244, \"'sjw'\": 4245, \"'sergiosarzedo'\": 4246, \"'yuuuhh'\": 4247, \"'clin'\": 4248, \"'prevmed'\": 4249, \"'ugghhh'\": 4250, \"'maternal'\": 4251, \"'grandmother'\": 4252, \"'conciseness'\": 4253, \"'stayunstoppable'\": 4254, \"'maintain'\": 4255, \"'hungary'\": 4256, \"'huffed'\": 4257, \"'tatinof'\": 4258, \"'tate'\": 4259, \"'willow'\": 4260, \"'activate'\": 4261, \"'merk'\": 4262, \"'jeepers'\": 4263, \"'creeper'\": 4264, \"'horrormoviesarebest'\": 4265, \"'jeffrey'\": 4266, \"'grapefruit'\": 4267, \"'squash'\": 4268, \"'haddon'\": 4269, \"'robinson'\": 4270, \"'jesusisthesubject'\": 4271, \"'baldwin'\": 4272, \"'pow'\": 4273, \"'enliven'\": 4274, \"'ourgirl'\": 4275, \"'brewer'\": 4276, \"'wasteland'\": 4277, \"'goofball'\": 4278, \"'enoughisenough'\": 4279, \"'ehhh'\": 4280, \"'shark'\": 4281, \"'maliciously'\": 4282, \"'creaking'\": 4283, \"'creak'\": 4284, \"'acid'\": 4285, \"'vessel'\": 4286, \"'warranty'\": 4287, \"'ripoff'\": 4288, \"'pathetically'\": 4289, \"'sympathy'\": 4290, \"'twirl'\": 4291, \"'moustache'\": 4292, \"'psychowasp'\": 4293, \"'surround'\": 4294, \"'redstate'\": 4295, \"'emoticon'\": 4296, \"'ji'\": 4297, \"'mosquito'\": 4298, \"'aggressive'\": 4299, \"'behaviour'\": 4300, \"'lmfao'\": 4301, \"'racepimp'\": 4302, \"'tamron'\": 4303, \"'libtard'\": 4304, \"'biasedmedia'\": 4305, \"'neverhillary'\": 4306, \"'ealingcomedies'\": 4307, \"'infectious'\": 4308, \"'wtvr'\": 4309, \"'gabe'\": 4310, \"'ghandi'\": 4311, \"'flinch'\": 4312, \"'litigious'\": 4313, \"'exec'\": 4314, \"'stefano'\": 4315, \"'fullofshit'\": 4316, \"'convo'\": 4317, \"'reel'\": 4318, \"'exploding'\": 4319, \"'reparation'\": 4320, \"'hammer'\": 4321, \"'modifier'\": 4322, \"'verification'\": 4323, \"'salon'\": 4324, \"'objectively'\": 4325, \"'sherri'\": 4326, \"'martel'\": 4327, \"'grown'\": 4328, \"'alcoholic'\": 4329, \"'etates'\": 4330, \"'islamexposed'\": 4331, \"'islambacon'\": 4332, \"'creativity'\": 4333, \"'introduce'\": 4334, \"'engulf'\": 4335, \"'planet'\": 4336, \"'abscess'\": 4337, \"'hook'\": 4338, \"'jazzholiday'\": 4339, \"'riesbrothers'\": 4340, \"'megan'\": 4341, \"'plug'\": 4342, \"'usatoday'\": 4343, \"'edward'\": 4344, \"'quartet'\": 4345, \"'laurel'\": 4346, \"'generally'\": 4347, \"'bgoodthepoet'\": 4348, \"'prayforme'\": 4349, \"'thisisagoddream'\": 4350, \"'heartracing'\": 4351, \"'motivate'\": 4352, \"'philosopher'\": 4353, \"'dj'\": 4354, \"'kyos'\": 4355, \"'csgo'\": 4356, \"'damnnit'\": 4357, \"'reward'\": 4358, \"'smutty'\": 4359, \"'consent'\": 4360, \"'trailer'\": 4361, \"'rhetoric'\": 4362, \"'confiaejce'\": 4363, \"'mcintyre'\": 4364, \"'tay'\": 4365, \"'hark'\": 4366, \"'wolfcreek'\": 4367, \"'stayathome'\": 4368, \"'dontvisit'\": 4369, \"'oppressive'\": 4370, \"'architecture'\": 4371, \"'uninteresting'\": 4372, \"'income'\": 4373, \"'trivial'\": 4374, \"'expansion'\": 4375, \"'americanhorrorstory'\": 4376, \"'ethic'\": 4377, \"'laziness'\": 4378, \"'hugeletdown'\": 4379, \"'identify'\": 4380, \"'losing'\": 4381, \"'bundle'\": 4382, \"'childood'\": 4383, \"'obnoxious'\": 4384, \"'normalize'\": 4385, \"'frog'\": 4386, \"'bradangelina'\": 4387, \"'rile'\": 4388, \"'stfuuu'\": 4389, \"'fur'\": 4390, \"'crony'\": 4391, \"'fodder'\": 4392, \"'mode'\": 4393, \"'fifa'\": 4394, \"'billclinton'\": 4395, \"'pile'\": 4396, \"'teamnicole'\": 4397, \"'emblem'\": 4398, \"'youarestrong'\": 4399, \"'youarearising'\": 4400, \"'pupper'\": 4401, \"'ripshawtylo'\": 4402, \"'patti'\": 4403, \"'stamp'\": 4404, \"'affection'\": 4405, \"'wiki'\": 4406, \"'lads'\": 4407, \"'betterwithsinnfein'\": 4408, \"'firmly'\": 4409, \"'grope'\": 4410, \"'digging'\": 4411, \"'extract'\": 4412, \"'fab'\": 4413, \"'evolve'\": 4414, \"'anti'\": 4415, \"'allo'\": 4416, \"'encryption'\": 4417, \"'default'\": 4418, \"'collegekills'\": 4419, \"'gore'\": 4420, \"'slash'\": 4421, \"'sith'\": 4422, \"'lying'\": 4423, \"'verb'\": 4424, \"'villaseñor'\": 4425, \"'waitingforexplanation'\": 4426, \"'bcwinechat'\": 4427, \"'cpd'\": 4428, \"'idiosyncrasy'\": 4429, \"'banobee'\": 4430, \"'fever'\": 4431, \"'doubt'\": 4432, \"'populace'\": 4433, \"'overseer'\": 4434, \"'joyannreid'\": 4435, \"'mutli'\": 4436, \"'directional'\": 4437, \"'mixing'\": 4438, \"'controversy'\": 4439, \"'conductor'\": 4440, \"'synthetic'\": 4441, \"'testosterone'\": 4442, \"'sexist'\": 4443, \"'helium'\": 4444, \"'ipca'\": 4445, \"'indulges'\": 4446, \"'stopcruelty'\": 4447, \"'horoscope'\": 4448, \"'meghan'\": 4449, \"'fundamental'\": 4450, \"'ii'\": 4451, \"'classical'\": 4452, \"'elkracken'\": 4453, \"'gottawearshades'\": 4454, \"'letsgoyankees'\": 4455, \"'university'\": 4456, \"'leopard'\": 4457, \"'spots'\": 4458, \"'tribe'\": 4459, \"'curry'\": 4460, \"'stange'\": 4461, \"'followback'\": 4462, \"'whining'\": 4463, \"'jst'\": 4464, \"'rona'\": 4465, \"'dhona'\": 4466, \"'blinddogradio'\": 4467, \"'durban'\": 4468, \"'africa'\": 4469, \"'surf'\": 4470, \"'stung'\": 4471, \"'sav'\": 4472, \"'define'\": 4473, \"'clouded'\": 4474, \"'phenomenon'\": 4475, \"'cbs'\": 4476, \"'afp'\": 4477, \"'imo'\": 4478, \"'ashland'\": 4479, \"'parch'\": 4480, \"'plant'\": 4481, \"'renewtherivalry'\": 4482, \"'imyourdaddy'\": 4483, \"'cantbeatme'\": 4484, \"'tater'\": 4485, \"'magnify'\": 4486, \"'stink'\": 4487, \"'birthdayyyyyy'\": 4488, \"'gideon'\": 4489, \"'occassionally'\": 4490, \"'tabitha'\": 4491, \"'daytime'\": 4492, \"'walker'\": 4493, \"'dashboard'\": 4494, \"'solate'\": 4495, \"'disabledlivesmatter'\": 4496, \"'skynews'\": 4497, \"'noooo'\": 4498, \"'nomorehammocks'\": 4499, \"'hive'\": 4500, \"'elder'\": 4501, \"'sooked'\": 4502, \"'smokeys'\": 4503, \"'wsjnordics'\": 4504, \"'الخفجي'\": 4505, \"'ef'\": 4506, \"'whichever'\": 4507, \"'davis'\": 4508, \"'blanchardstown'\": 4509, \"'spencer'\": 4510, \"'rockefeller'\": 4511, \"'reinstate'\": 4512, \"'roho'\": 4513, \"'needa'\": 4514, \"'np'\": 4515, \"'rum'\": 4516, \"'offalonehugots'\": 4517, \"'jb'\": 4518, \"'fay'\": 4519, \"'wifl'\": 4520, \"'supremacist'\": 4521, \"'terrorize'\": 4522, \"'preposterous'\": 4523, \"'nicholson'\": 4524, \"'joker'\": 4525, \"'ntfcvmufc'\": 4526, \"'theyre'\": 4527, \"'tierney'\": 4528, \"'defence'\": 4529, \"'goodbyesummer'\": 4530, \"'bathingsuitsforever'\": 4531, \"'untypical'\": 4532, \"'hffffhj'\": 4533, \"'banging'\": 4534, \"'edinburgh'\": 4535, \"'nosleep'\": 4536, \"'symmetry'\": 4537, \"'aesthetically'\": 4538, \"'pistol'\": 4539, \"'deaththekid'\": 4540, \"'buckynat'\": 4541, \"'clintwanda'\": 4542, \"'ornament'\": 4543, \"'wanted'\": 4544, \"'spektar'\": 4545, \"'panda'\": 4546, \"'jaws'\": 4547, \"'contactless'\": 4548, \"'kart'\": 4549, \"'xbeujgb'\": 4550, \"'trayvon'\": 4551, \"'sandrabland'\": 4552, \"'philando'\": 4553, \"'batonrouge'\": 4554, \"'michaelbrown'\": 4555, \"'ovet'\": 4556, \"'northcarolina'\": 4557, \"'deptch'\": 4558, \"'invalid'\": 4559, \"'glitch'\": 4560, \"'banger'\": 4561, \"'alias'\": 4562, \"'kzfqr'\": 4563, \"'indianarmedforces'\": 4564, \"'interference'\": 4565, \"'pastel'\": 4566, \"'balloon'\": 4567, \"'podcasts'\": 4568, \"'yvr'\": 4569, \"'missyou'\": 4570, \"'indifference'\": 4571, \"'implies'\": 4572, \"'smash'\": 4573, \"'abundance'\": 4574, \"'mischief'\": 4575, \"'appal'\": 4576, \"'dryer'\": 4577, \"'baaarissshhhhh'\": 4578, \"'prefect'\": 4579, \"'leo'\": 4580, \"'autumnalequinox'\": 4581, \"'wirral'\": 4582, \"'ban'\": 4583, \"'unlimited'\": 4584, \"'gleegoodbye'\": 4585, \"'glasgow'\": 4586, \"'prebooked'\": 4587, \"'internal'\": 4588, \"'terroristnation'\": 4589, \"'reporter'\": 4590, \"'fundraiser'\": 4591, \"'bald'\": 4592, \"'indiamissingindira'\": 4593, \"'overcome'\": 4594, \"'janecky'\": 4595, \"'chatter'\": 4596, \"'packing'\": 4597, \"'schneiderlin'\": 4598, \"'immune'\": 4599, \"'varsity'\": 4600, \"'cantstoplaughing'\": 4601, \"'spokeword'\": 4602, \"'quentin'\": 4603, \"'letts'\": 4604, \"'bbctw'\": 4605, \"'franglaise'\": 4606, \"'bradford'\": 4607, \"'flybe'\": 4608, \"'traveler'\": 4609, \"'fcking'\": 4610, \"'meanrikonabot'\": 4611, \"'uhhhhh'\": 4612, \"'interpretingall'\": 4613, \"'checkin'\": 4614, \"'srpt'\": 4615, \"'vip'\": 4616, \"'funsville'\": 4617, \"'abusive'\": 4618, \"'roof'\": 4619, \"'bronzy'\": 4620, \"'glowy'\": 4621, \"'drank'\": 4622, \"'screaming'\": 4623, \"'rattatas'\": 4624, \"'pokemongo'\": 4625, \"'frightened'\": 4626, \"'conservative'\": 4627, \"'cashier'\": 4628, \"'slack'\": 4629, \"'hauntedattraction'\": 4630, \"'squeak'\": 4631, \"'vigil'\": 4632, \"'metropolitan'\": 4633, \"'baptist'\": 4634, \"'terencecruther'\": 4635, \"'unruly'\": 4636, \"'nothanks'\": 4637, \"'flower'\": 4638, \"'dom'\": 4639, \"'notts'\": 4640, \"'county'\": 4641, \"'shimmy'\": 4642, \"'uriattacks'\": 4643, \"'aaahhhh'\": 4644, \"'soothe'\": 4645, \"'revolve'\": 4646, \"'evrn'\": 4647, \"'nawazfightsforkashmir'\": 4648, \"'alliance'\": 4649, \"'rohan'\": 4650, \"'juan'\": 4651, \"'wat'\": 4652, \"'curb'\": 4653, \"'terrencecrutcher'\": 4654, \"'colinkapernick'\": 4655, \"'pinch'\": 4656, \"'cardio'\": 4657, \"'mwahaha'\": 4658, \"'toldeo'\": 4659, \"'primary'\": 4660, \"'prescribe'\": 4661, \"'reject'\": 4662, \"'resettlement'\": 4663, \"'stoppickingonwomen'\": 4664, \"'dobetter'\": 4665, \"'birmingham'\": 4666, \"'hereford'\": 4667, \"'berniebrocialists'\": 4668, \"'swingish'\": 4669, \"'coaching'\": 4670, \"'farewell'\": 4671, \"'munich'\": 4672, \"'lyle'\": 4673, \"'petulant'\": 4674, \"'postrump'\": 4675, \"'enrique'\": 4676, \"'sub'\": 4677, \"'busquet'\": 4678, \"'ughh'\": 4679, \"'steamworks'\": 4680, \"'gamedev'\": 4681, \"'robbery'\": 4682, \"'harris'\": 4683, \"'emphasis'\": 4684, \"'guiding'\": 4685, \"'boxing'\": 4686, \"'schalke'\": 4687, \"'international'\": 4688, \"'pakis'\": 4689, \"'directtv'\": 4690, \"'classify'\": 4691, \"'bbfail'\": 4692, \"'antichrist'\": 4693, \"'independant'\": 4694, \"'mrrobot'\": 4695, \"'krusty'\": 4696, \"'krab'\": 4697, \"'australian'\": 4698, \"'werewolf'\": 4699, \"'authorlove'\": 4700, \"'fancypants'\": 4701, \"'saddler'\": 4702, \"'opt'\": 4703, \"'leather'\": 4704, \"'jacket'\": 4705, \"'ampalaya'\": 4706, \"'paitpaitanangpeg'\": 4707, \"'vest'\": 4708, \"'contagious'\": 4709, \"'harvey'\": 4710, \"'belonging'\": 4711, \"'smithrud'\": 4712, \"'indiansummer'\": 4713, \"'redzone'\": 4714, \"'lb'\": 4715, \"'flags'\": 4716, \"'ari'\": 4717, \"'wanttogobacktominehead'\": 4718, \"'repdelbene'\": 4719, \"'proceeding'\": 4720, \"'coincidentally'\": 4721, \"'ulzana'\": 4722, \"'brutally'\": 4723, \"'filmmaking'\": 4724, \"'srv'\": 4725, \"'approximately'\": 4726, \"'jimi'\": 4727, \"'guitar'\": 4728, \"'andriaprebles'\": 4729, \"'envelop'\": 4730, \"'vape'\": 4731, \"'urghh'\": 4732, \"'orton'\": 4733, \"'invaluable'\": 4734, \"'sq'\": 4735, \"'ft'\": 4736, \"'wide'\": 4737, \"'homestyle'\": 4738, \"'egg'\": 4739, \"'payet'\": 4740, \"'jan'\": 4741, \"'reflective'\": 4742, \"'bender'\": 4743, \"'lydiaaaa'\": 4744, \"'sexually'\": 4745, \"'mindblown'\": 4746, \"'setback'\": 4747, \"'madashell'\": 4748, \"'wheel'\": 4749, \"'polite'\": 4750, \"'thoughtfulthursday'\": 4751, \"'intermediary'\": 4752, \"'wisconsin'\": 4753, \"'recall'\": 4754, \"'accrington'\": 4755, \"'stanley'\": 4756, \"'iphones'\": 4757, \"'eta'\": 4758, \"'peiyophobilia'\": 4759, \"'tap'\": 4760, \"'haww'\": 4761, \"'bla'\": 4762, \"'balochistan'\": 4763, \"'kulbhoshan'\": 4764, \"'yadhav'\": 4765, \"'ttp'\": 4766, \"'indefensible'\": 4767, \"'blend'\": 4768, \"'shrine'\": 4769, \"'ray'\": 4770, \"'vine'\": 4771, \"'gum'\": 4772, \"'cycling'\": 4773, \"'calf'\": 4774, \"'garoppolo'\": 4775, \"'borderline'\": 4776, \"'firefighting'\": 4777, \"'chuck'\": 4778, \"'voiceover'\": 4779, \"'fuller'\": 4780, \"'hopkins'\": 4781, \"'cookie'\": 4782, \"'pup'\": 4783, \"'swimming'\": 4784, \"'churchill'\": 4785, \"'irontekfit'\": 4786, \"'yoga'\": 4787, \"'esvoxbox'\": 4788, \"'asktrumponequestion'\": 4789, \"'unpredictable'\": 4790, \"'lethal'\": 4791, \"'coordinator'\": 4792, \"'boltup'\": 4793, \"'recharge'\": 4794, \"'downstairs'\": 4795, \"'ea'\": 4796, \"'robot'\": 4797, \"'err'\": 4798, \"'mio'\": 4799, \"'brexit'\": 4800, \"'perilous'\": 4801, \"'wi'\": 4802, \"'sour'\": 4803, \"'psycho'\": 4804, \"'chopper'\": 4805, \"'closer'\": 4806, \"'nonsensical'\": 4807, \"'misdirect'\": 4808, \"'anxietymaybe'\": 4809, \"'missingfriends'\": 4810, \"'growingupsucks'\": 4811, \"'lostfriends'\": 4812, \"'wheresthetruefriends'\": 4813, \"'complication'\": 4814, \"'ingrain'\": 4815, \"'unlocks'\": 4816, \"'manup'\": 4817, \"'trudeau'\": 4818, \"'endulging'\": 4819, \"'ad'\": 4820, \"'hominem'\": 4821, \"'quanitfying'\": 4822, \"'compatibility'\": 4823, \"'hedonic'\": 4824, \"'volatility'\": 4825, \"'fibe'\": 4826, \"'arrange'\": 4827, \"'fedup'\": 4828, \"'dancer'\": 4829, \"'ruthann'\": 4830, \"'eatcake'\": 4831, \"'independent'\": 4832, \"'disco'\": 4833, \"'matoma'\": 4834, \"'becky'\": 4835, \"'magpie'\": 4836, \"'swoop'\": 4837, \"'batmantelltaleseries'\": 4838, \"'postcode'\": 4839, \"'titanwisdom'\": 4840, \"'ncfc'\": 4841, \"'bun'\": 4842, \"'withdraw'\": 4843, \"'jobinterview'\": 4844, \"'sickness'\": 4845, \"'popularization'\": 4846, \"'backfire'\": 4847, \"'cinematography'\": 4848, \"'xucqb'\": 4849, \"'gently'\": 4850, \"'madridistas'\": 4851, \"'cules'\": 4852, \"'fanbase'\": 4853, \"'freezer'\": 4854, \"'elated'\": 4855, \"'roblox'\": 4856, \"'termianted'\": 4857, \"'robloxgamer'\": 4858, \"'whenwillitstop'\": 4859, \"'howmanymoretimes'\": 4860, \"'fbi'\": 4861, \"'greedy'\": 4862, \"'mooching'\": 4863, \"'reyes'\": 4864, \"'steel'\": 4865, \"'claw'\": 4866, \"'flex'\": 4867, \"'dangerously'\": 4868, \"'utter'\": 4869, \"'criticise'\": 4870, \"'logical'\": 4871, \"'cave'\": 4872, \"'va'\": 4873, \"'ir'\": 4874, \"'amaity'\": 4875, \"'fallsongs'\": 4876, \"'legally'\": 4877, \"'crucial'\": 4878, \"'pk'\": 4879, \"'kal'\": 4880, \"'boshan'\": 4881, \"'involvement'\": 4882, \"'patton'\": 4883, \"'tried'\": 4884, \"'marlboro'\": 4885, \"'clutter'\": 4886, \"'ivebeenbusierwhyamioverwhelmed'\": 4887, \"'whypay'\": 4888, \"'slipper'\": 4889, \"'clash'\": 4890, \"'dame'\": 4891, \"'gameing'\": 4892, \"'yang'\": 4893, \"'sorta'\": 4894, \"'illiteracy'\": 4895, \"'inexpensive'\": 4896, \"'earn'\": 4897, \"'dreamer'\": 4898, \"'boro'\": 4899, \"'o'\": 4900, \"'steward'\": 4901, \"'rivertide'\": 4902, \"'suite'\": 4903, \"'seaside'\": 4904, \"'us'\": 4905, \"'ping'\": 4906, \"'fukc'\": 4907, \"'spectacle'\": 4908, \"'ernest'\": 4909, \"'hemingway'\": 4910, \"'holdin'\": 4911, \"'inpouring'\": 4912, \"'subsist'\": 4913, \"'quaint'\": 4914, \"'virtuoso'\": 4915, \"'induction'\": 4916, \"'everythings'\": 4917, \"'deciduous'\": 4918, \"'coniferous'\": 4919, \"'freshly'\": 4920, \"'royal'\": 4921, \"'rub'\": 4922, \"'woolwich'\": 4923, \"'jammygunnerscum'\": 4924, \"'le'\": 4925, \"'xdddd'\": 4926, \"'loner'\": 4927, \"'missing'\": 4928, \"'thegreeninferno'\": 4929, \"'ineedtherapy'\": 4930, \"'distance'\": 4931, \"'roids'\": 4932, \"'tonys'\": 4933, \"'hots'\": 4934, \"'uncooperative'\": 4935, \"'coping'\": 4936, \"'oops'\": 4937, \"'mlb'\": 4938, \"'futuristic'\": 4939, \"'tidy'\": 4940, \"'gameover'\": 4941, \"'glute'\": 4942, \"'squat'\": 4943, \"'technics'\": 4944, \"'symptomatize'\": 4945, \"'vrlfeyrn'\": 4946, \"'gangster'\": 4947, \"'yorkshire'\": 4948, \"'alton'\": 4949, \"'tower'\": 4950, \"'illegally'\": 4951, \"'niggas'\": 4952, \"'noheart'\": 4953, \"'tint'\": 4954, \"'proverb'\": 4955, \"'steiner'\": 4956, \"'yessir'\": 4957, \"'lundqvist'\": 4958, \"'donnie'\": 4959, \"'trumpeter'\": 4960, \"'vapid'\": 4961, \"'vacant'\": 4962, \"'viper'\": 4963, \"'slither'\": 4964, \"'jellylegs'\": 4965, \"'tr'\": 4966, \"'jungle'\": 4967, \"'bulushi'\": 4968, \"'processor'\": 4969, \"'nibble'\": 4970, \"'scorer'\": 4971, \"'vidar'\": 4972, \"'kjartansson'\": 4973, \"'dor'\": 4974, \"'micha'\": 4975, \"'yallamaccabi'\": 4976, \"'asf'\": 4977, \"'automatically'\": 4978, \"'professionalism'\": 4979, \"'provider'\": 4980, \"'phoneprovider'\": 4981, \"'badbusiness'\": 4982, \"'elouise'\": 4983, \"'littlesister'\": 4984, \"'superexcited'\": 4985, \"'misogynist'\": 4986, \"'psychopath'\": 4987, \"'conartist'\": 4988, \"'whereareugoing'\": 4989, \"'elite'\": 4990, \"'agin'\": 4991, \"'feic'\": 4992, \"'fucken'\": 4993, \"'havnt'\": 4994, \"'tyson'\": 4995, \"'don'\": 4996, \"'mikeandmolly'\": 4997, \"'parallel'\": 4998, \"'menforchoice'\": 4999, \"'havin'\": 5000, \"'bum'\": 5001, \"'itsagunalright'\": 5002, \"'ninaturner'\": 5003, \"'bernblade'\": 5004, \"'lisavikingstad'\": 5005, \"'whisper'\": 5006, \"'centerpiece'\": 5007, \"'overwhelming'\": 5008, \"'nyquil'\": 5009, \"'verse'\": 5010, \"'ekg'\": 5011, \"'actin'\": 5012, \"'ere'\": 5013, \"'header'\": 5014, \"'basketball'\": 5015, \"'prevelant'\": 5016, \"'laura'\": 5017, \"'constructive'\": 5018, \"'criticism'\": 5019, \"'retire'\": 5020, \"'heather'\": 5021, \"'sits'\": 5022, \"'andisbench'\": 5023, \"'sotoventures'\": 5024, \"'tab'\": 5025, \"'detachment'\": 5026, \"'mbc'\": 5027, \"'worm'\": 5028, \"'devon'\": 5029, \"'nihari'\": 5030, \"'zionist'\": 5031, \"'jewish'\": 5032, \"'unboxing'\": 5033, \"'staten'\": 5034, \"'patriot'\": 5035, \"'rookie'\": 5036, \"'jacoby'\": 5037, \"'brissett'\": 5038, \"'vs'\": 5039, \"'learning'\": 5040, \"'hudcomedy'\": 5041, \"'adamrowe'\": 5042, \"'slutfaceshlongnugget'\": 5043, \"'cleave'\": 5044, \"'pakistanmustpay'\": 5045, \"'physiatrists'\": 5046, \"'overhear'\": 5047, \"'salty'\": 5048, \"'fry'\": 5049, \"'phil'\": 5050, \"'webcast'\": 5051, \"'bway'\": 5052, \"'gershwin'\": 5053, \"'sheikhhasina'\": 5054, \"'urges'\": 5055, \"'unroot'\": 5056, \"'psa'\": 5057, \"'furrow'\": 5058, \"'redden'\": 5059, \"'unattractive'\": 5060, \"'wukong'\": 5061, \"'osler'\": 5062, \"'lodd'\": 5063, \"'eyematter'\": 5064, \"'skyfall'\": 5065, \"'insta'\": 5066, \"'polish'\": 5067, \"'baseball'\": 5068, \"'angle'\": 5069, \"'startasyoumeantogoon'\": 5070, \"'inha'\": 5071, \"'banter'\": 5072, \"'chilly'\": 5073, \"'congresscritters'\": 5074, \"'fanz'\": 5075, \"'secretly'\": 5076, \"'masculine'\": 5077, \"'morality'\": 5078, \"'transcendent'\": 5079, \"'leftover'\": 5080, \"'stability'\": 5081, \"'geopolitics'\": 5082, \"'korea'\": 5083, \"'vwo'\": 5084, \"'aleppo'\": 5085, \"'crossoverlife'\": 5086, \"'slutty'\": 5087, \"'bigotry'\": 5088, \"'anxietyproblems'\": 5089, \"'wallah'\": 5090, \"'steak'\": 5091, \"'supper'\": 5092, \"'philanthropy'\": 5093, \"'functional'\": 5094, \"'hssu'\": 5095, \"'julian'\": 5096, \"'cassablancas'\": 5097, \"'voidz'\": 5098, \"'recording'\": 5099, \"'severely'\": 5100, \"'badkarma'\": 5101, \"'aurora'\": 5102, \"'strongwomen'\": 5103, \"'weakmen'\": 5104, \"'consistency'\": 5105, \"'rough'\": 5106, \"'affective'\": 5107, \"'thebabybombers'\": 5108, \"'yankee'\": 5109, \"'yuppie'\": 5110, \"'progressive'\": 5111, \"'territorial'\": 5112, \"'hesananimal'\": 5113, \"'vitriolic'\": 5114, \"'congrats'\": 5115, \"'despise'\": 5116, \"'rebuke'\": 5117, \"'proverbs'\": 5118, \"'revision'\": 5119, \"'direction'\": 5120, \"'endlesspossibilities'\": 5121, \"'stunning'\": 5122, \"'stall'\": 5123, \"'incomprehension'\": 5124, \"'chicago'\": 5125, \"'wheres'\": 5126, \"'vein'\": 5127, \"'cupcake'\": 5128, \"'query'\": 5129, \"'meantime'\": 5130, \"'herothegreyhound'\": 5131, \"'greyhound'\": 5132, \"'kayaking'\": 5133, \"'sevylor'\": 5134, \"'inflatable'\": 5135, \"'kayak'\": 5136, \"'eyggjxml'\": 5137, \"'tatoos'\": 5138, \"'athletic'\": 5139, \"'durag'\": 5140, \"'garrett'\": 5141, \"'technician'\": 5142, \"'flail'\": 5143, \"'paw'\": 5144, \"'lemon'\": 5145, \"'judgelynntoler'\": 5146, \"'specter'\": 5147, \"'passport'\": 5148, \"'healingjustice'\": 5149, \"'entity'\": 5150, \"'speaking'\": 5151, \"'quatrain'\": 5152, \"'vigilant'\": 5153, \"'complexptsd'\": 5154, \"'postpone'\": 5155, \"'twenty'\": 5156, \"'concur'\": 5157, \"'session'\": 5158, \"'expire'\": 5159, \"'proven'\": 5160, \"'parcel'\": 5161, \"'poorcustomerservice'\": 5162, \"'defensive'\": 5163, \"'pajamas'\": 5164, \"'sweetheart'\": 5165, \"'spur'\": 5166, \"'commentator'\": 5167, \"'mauricio'\": 5168, \"'pochettino'\": 5169, \"'sudden'\": 5170, \"'surge'\": 5171, \"'qualify'\": 5172, \"'employment'\": 5173, \"'accomplishment'\": 5174, \"'messageboard'\": 5175, \"'airplane'\": 5176, \"'americanairlines'\": 5177, \"'americanairlinessucks'\": 5178, \"'aateam'\": 5179, \"'firstworldproblems'\": 5180, \"'viral'\": 5181, \"'ballet'\": 5182, \"'wrongfully'\": 5183, \"'pointe'\": 5184, \"'rocklandcounty'\": 5185, \"'ravis'\": 5186, \"'suffern'\": 5187, \"'chef'\": 5188, \"'appetizer'\": 5189, \"'conundrum'\": 5190, \"'abysmal'\": 5191, \"'frivolity'\": 5192, \"'italian'\": 5193, \"'stupefy'\": 5194, \"'roland'\": 5195, \"'bainton'\": 5196, \"'luther'\": 5197, \"'reformationday'\": 5198, \"'owe'\": 5199, \"'hiding'\": 5200, \"'overdue'\": 5201, \"'accuse'\": 5202, \"'gazillion'\": 5203, \"'parrot'\": 5204, \"'mega'\": 5205, \"'solution'\": 5206, \"'criminal'\": 5207, \"'confimation'\": 5208, \"'inbreds'\": 5209, \"'barca'\": 5210, \"'glory'\": 5211, \"'wptmain'\": 5212, \"'undifferentiated'\": 5213, \"'patent'\": 5214, \"'patron'\": 5215, \"'braininess'\": 5216, \"'whyanewg'\": 5217, \"'situ'\": 5218, \"'snitch'\": 5219, \"'differs'\": 5220, \"'bedifferent'\": 5221, \"'westgate'\": 5222, \"'nairobi'\": 5223, \"'blairwitch'\": 5224, \"'blairwitchproject'\": 5225, \"'fogo'\": 5226, \"'pe'\": 5227, \"'destroyer'\": 5228, \"'shanghai'\": 5229, \"'pampa'\": 5230, \"'dingle'\": 5231, \"'uudqujcia'\": 5232, \"'device'\": 5233, \"'teles'\": 5234, \"'called'\": 5235, \"'cardiac'\": 5236, \"'medchat'\": 5237, \"'worldwide'\": 5238, \"'twooo'\": 5239, \"'painting'\": 5240, \"'orange'\": 5241, \"'baker'\": 5242, \"'sulky'\": 5243, \"'dyson'\": 5244, \"'flashback'\": 5245, \"'worship'\": 5246, \"'kendrick'\": 5247, \"'tesco'\": 5248, \"'electron'\": 5249, \"'eric'\": 5250, \"'revel'\": 5251, \"'gabriel'\": 5252, \"'frowning'\": 5253, \"'conciousness'\": 5254, \"'painful'\": 5255, \"'elliot'\": 5256, \"'kickoff'\": 5257, \"'jumpship'\": 5258, \"'unprofessional'\": 5259, \"'whathappenedtocustomerservice'\": 5260, \"'greatness'\": 5261, \"'stove'\": 5262, \"'skeptical'\": 5263, \"'charlotteriot'\": 5264, \"'parris'\": 5265, \"'jin'\": 5266, \"'princejinyoungday'\": 5267, \"'happyjinyoungday'\": 5268, \"'alexandria'\": 5269, \"'goddard'\": 5270, \"'deric'\": 5271, \"'purely'\": 5272, \"'fishin'\": 5273, \"'expedition'\": 5274, \"'terencecutcher'\": 5275, \"'onthe'\": 5276, \"'helicopter'\": 5277, \"'determined'\": 5278, \"'beasts'\": 5279, \"'restrained'\": 5280, \"'token'\": 5281, \"'glasgowgirls'\": 5282, \"'uproarious'\": 5283, \"'uplifting'\": 5284, \"'oompa'\": 5285, \"'loompa'\": 5286, \"'presidenttrump'\": 5287, \"'relaxationiskey'\": 5288, \"'phedophiliac'\": 5289, \"'ptsd'\": 5290, \"'boob'\": 5291, \"'tatenashi'\": 5292, \"'youtubers'\": 5293, \"'cell'\": 5294, \"'cucks'\": 5295, \"'harambe'\": 5296, \"'swan'\": 5297, \"'ashamed'\": 5298, \"'ally'\": 5299, \"'sioux'\": 5300, \"'valley'\": 5301, \"'dell'\": 5302, \"'twd'\": 5303, \"'deephouse'\": 5304, \"'fawn'\": 5305, \"'mindset'\": 5306, \"'philosophy'\": 5307, \"'thoughtsbecomethings'\": 5308, \"'lifehacks'\": 5309, \"'pleasert'\": 5310, \"'problemsolving'\": 5311, \"'aspect'\": 5312, \"'consciousness'\": 5313, \"'attachment'\": 5314, \"'apathy'\": 5315, \"'sentimentality'\": 5316, \"'henderson'\": 5317, \"'seenitbefore'\": 5318, \"'sobriety'\": 5319, \"'cardiff'\": 5320, \"'onus'\": 5321, \"'colada'\": 5322, \"'starburst'\": 5323, \"'memorable'\": 5324, \"'sentient'\": 5325, \"'gn'\": 5326, \"'strand'\": 5327, \"'maself'\": 5328, \"'gaff'\": 5329, \"'ukip'\": 5330, \"'underrated'\": 5331, \"'wit'\": 5332, \"'bravado'\": 5333, \"'vols'\": 5334, \"'fl'\": 5335, \"'makingamurderer'\": 5336, \"'brendan'\": 5337, \"'reallife'\": 5338, \"'frustrates'\": 5339, \"'misplace'\": 5340, \"'assembly'\": 5341, \"'cone'\": 5342, \"'georgia'\": 5343, \"'secondary'\": 5344, \"'drain'\": 5345, \"'needtosleepforhours'\": 5346, \"'nutella'\": 5347, \"'nots'\": 5348, \"'ivory'\": 5349, \"'propensity'\": 5350, \"'fuuuuuuuck'\": 5351, \"'stageschool'\": 5352, \"'flatters'\": 5353, \"'embarrassment'\": 5354, \"'hahahah'\": 5355, \"'lem'\": 5356, \"'rearrange'\": 5357, \"'seep'\": 5358, \"'precious'\": 5359, \"'monica'\": 5360, \"'regularly'\": 5361, \"'hardy'\": 5362, \"'brooke'\": 5363, \"'gundlach'\": 5364, \"'protects'\": 5365, \"'discriminate'\": 5366, \"'generates'\": 5367, \"'bind'\": 5368, \"'context'\": 5369, \"'scottish'\": 5370, \"'accent'\": 5371, \"'dufftown'\": 5372, \"'murraymcdavid'\": 5373, \"'dram'\": 5374, \"'donalds'\": 5375, \"'rehoi'\": 5376, \"'aja'\": 5377, \"'picnic'\": 5378, \"'bettertogether'\": 5379, \"'def'\": 5380, \"'drone'\": 5381, \"'src'\": 5382, \"'deployment'\": 5383, \"'ku'\": 5384, \"'macom'\": 5385, \"'evenmoreblind'\": 5386, \"'screech'\": 5387, \"'entice'\": 5388, \"'deaf'\": 5389, \"'clt'\": 5390, \"'playoff'\": 5391, \"'standuptocancer'\": 5392, \"'needhelp'\": 5393, \"'larry'\": 5394, \"'sander'\": 5395, \"'morons'\": 5396, \"'fu'\": 5397, \"'chop'\": 5398, \"'robinhoodhour'\": 5399, \"'bizitalk'\": 5400, \"'southyorkshire'\": 5401, \"'mansfieldhour'\": 5402, \"'sheffieldhour'\": 5403, \"'nottshour'\": 5404, \"'hialeshia'\": 5405, \"'casuals'\": 5406, \"'faved'\": 5407, \"'eft'\": 5408, \"'tool'\": 5409, \"'curtis'\": 5410, \"'pereira'\": 5411, \"'biz'\": 5412, \"'awh'\": 5413, \"'cheese'\": 5414, \"'lovemysleep'\": 5415, \"'hamstring'\": 5416, \"'assault'\": 5417, \"'thine'\": 5418, \"'chd'\": 5419, \"'weirdwednesday'\": 5420, \"'sack'\": 5421, \"'battery'\": 5422, \"'rebuild'\": 5423, \"'whatsoever'\": 5424, \"'phew'\": 5425, \"'efl'\": 5426, \"'aniston'\": 5427, \"'soywax'\": 5428, \"'limited'\": 5429, \"'grin'\": 5430, \"'orconservative'\": 5431, \"'sprightly'\": 5432, \"'lengthen'\": 5433, \"'seo'\": 5434, \"'wgj'\": 5435, \"'malik'\": 5436, \"'potential'\": 5437, \"'steer'\": 5438, \"'gu'\": 5439, \"'belief'\": 5440, \"'treadlines'\": 5441, \"'deadline'\": 5442, \"'luckii'\": 5443, \"'shennan'\": 5444, \"'beware'\": 5445, \"'noah'\": 5446, \"'ark'\": 5447, \"'feelz'\": 5448, \"'nominatebunkface'\": 5449, \"'craigen'\": 5450, \"'quarterback'\": 5451, \"'geometry'\": 5452, \"'canning'\": 5453, \"'andrew'\": 5454, \"'anu'\": 5455, \"'customerexperience'\": 5456, \"'rhyme'\": 5457, \"'kardashians'\": 5458, \"'caste'\": 5459, \"'village'\": 5460, \"'chaudhry'\": 5461, \"'lordderply'\": 5462, \"'yugioh'\": 5463, \"'snowgang'\": 5464, \"'princess'\": 5465, \"'fitness'\": 5466, \"'bodyposi'\": 5467, \"'whitegirlwednesday'\": 5468, \"'ftw'\": 5469, \"'drained'\": 5470, \"'comedic'\": 5471, \"'modernfamily'\": 5472, \"'liam'\": 5473, \"'distant'\": 5474, \"'will'\": 5475, \"'uncontrollable'\": 5476, \"'grumble'\": 5477, \"'atop'\": 5478, \"'sushi'\": 5479, \"'defiantly'\": 5480, \"'gesture'\": 5481, \"'lifeguard'\": 5482, \"'swimmer'\": 5483, \"'vc'\": 5484, \"'cushion'\": 5485, \"'liquor'\": 5486, \"'shamefull'\": 5487, \"'unequal'\": 5488, \"'worrying'\": 5489, \"'shitworldforourkids'\": 5490, \"'lvg'\": 5491, \"'overtime'\": 5492, \"'writerproblems'\": 5493, \"'gra'\": 5494, \"'erykah'\": 5495, \"'badu'\": 5496, \"'kin'\": 5497, \"'dpt'\": 5498, \"'discouraged'\": 5499, \"'redundant'\": 5500, \"'nyssaalghul'\": 5501, \"'scan'\": 5502, \"'elphie'\": 5503, \"'grimmerie'\": 5504, \"'drift'\": 5505, \"'boutta'\": 5506, \"'mono'\": 5507, \"'apps'\": 5508, \"'underneath'\": 5509, \"'pierce'\": 5510, \"'armour'\": 5511, \"'numbness'\": 5512, \"'heavyheart'\": 5513, \"'amerikkka'\": 5514, \"'kkkops'\": 5515, \"'dragoness'\": 5516, \"'nostril'\": 5517, \"'nod'\": 5518, \"'engage'\": 5519, \"'landlord'\": 5520, \"'cryptic'\": 5521, \"'unclecamscabin'\": 5522, \"'electro'\": 5523, \"'captivate'\": 5524, \"'poetic'\": 5525, \"'exciting'\": 5526, \"'ctid'\": 5527, \"'mommagrendel'\": 5528, \"'returned'\": 5529, \"'mcdanno'\": 5530, \"'rep'\": 5531, \"'slice'\": 5532, \"'cube'\": 5533, \"'judy'\": 5534, \"'sponsorship'\": 5535, \"'recovery'\": 5536, \"'cantconacon'\": 5537, \"'filmmaker'\": 5538, \"'journalism'\": 5539, \"'anyyyyone'\": 5540, \"'otisredding'\": 5541, \"'conduct'\": 5542, \"'anonymously'\": 5543, \"'vsvplou'\": 5544, \"'pastry'\": 5545, \"'dive'\": 5546, \"'murky'\": 5547, \"'keithscott'\": 5548, \"'warrant'\": 5549, \"'tragedy'\": 5550, \"'presidential'\": 5551, \"'tvgirl'\": 5552, \"'melancholic'\": 5553, \"'ooh'\": 5554, \"'hygge'\": 5555, \"'jasmine'\": 5556, \"'wick'\": 5557, \"'flick'\": 5558, \"'scarf'\": 5559, \"'noble'\": 5560, \"'immodest'\": 5561, \"'backyard'\": 5562, \"'defender'\": 5563, \"'dunk'\": 5564, \"'mexico'\": 5565, \"'diss'\": 5566, \"'drake'\": 5567, \"'rihanna'\": 5568, \"'chemistry'\": 5569, \"'katherine'\": 5570, \"'catfish'\": 5571, \"'dyke'\": 5572, \"'rarely'\": 5573, \"'selasi'\": 5574, \"'gerard'\": 5575, \"'mooncup'\": 5576, \"'hallucination'\": 5577, \"'square'\": 5578, \"'beckett'\": 5579, \"'bain'\": 5580, \"'cash'\": 5581, \"'pound'\": 5582, \"'sunbed'\": 5583, \"'successful'\": 5584, \"'moto'\": 5585, \"'kg'\": 5586, \"'glen'\": 5587, \"'queensbury'\": 5588, \"'morrison'\": 5589, \"'festoon'\": 5590, \"'piano'\": 5591, \"'nexttt'\": 5592, \"'hoy'\": 5593, \"'brazy'\": 5594, \"'giroud'\": 5595, \"'beard'\": 5596, \"'fatloss'\": 5597, \"'brew'\": 5598, \"'desication'\": 5599, \"'perfection'\": 5600, \"'kennen'\": 5601, \"'senile'\": 5602, \"'recently'\": 5603, \"'shes'\": 5604, \"'papercuts'\": 5605, \"'stub'\": 5606, \"'toe'\": 5607, \"'sec'\": 5608, \"'middleeast'\": 5609, \"'jumin'\": 5610, \"'patience'\": 5611, \"'afterlife'\": 5612, \"'nooooooooooooooooooooo'\": 5613, \"'mischievous'\": 5614, \"'nerd'\": 5615, \"'nickel'\": 5616, \"'earhole'\": 5617, \"'york'\": 5618, \"'boxer'\": 5619, \"'commando'\": 5620, \"'starbucks'\": 5621, \"'liberated'\": 5622, \"'cal'\": 5623, \"'delhi'\": 5624, \"'acrid'\": 5625, \"'po'\": 5626, \"'freezing'\": 5627, \"'throughout'\": 5628, \"'apologist'\": 5629, \"'inadvertently'\": 5630, \"'mindless'\": 5631, \"'beast'\": 5632, \"'elphaba'\": 5633, \"'aggravation'\": 5634, \"'pitched'\": 5635, \"'cappuccino'\": 5636, \"'layer'\": 5637, \"'misinformation'\": 5638, \"'concession'\": 5639, \"'shortsightedness'\": 5640, \"'spar'\": 5641, \"'hilt'\": 5642, \"'icy'\": 5643, \"'unfortunate'\": 5644, \"'khloe'\": 5645, \"'besides'\": 5646, \"'cognitive'\": 5647, \"'dissonance'\": 5648, \"'morgs'\": 5649, \"'rachel'\": 5650, \"'pole'\": 5651, \"'rapeseed'\": 5652, \"'oil'\": 5653, \"'bitcoin'\": 5654, \"'olympic'\": 5655, \"'neverquit'\": 5656, \"'dreambig'\": 5657, \"'teamtto'\": 5658, \"'attractive'\": 5659, \"'brodcast'\": 5660, \"'donking'\": 5661, \"'cavalierly'\": 5662, \"'thedemocrats'\": 5663, \"'loving'\": 5664, \"'onision'\": 5665, \"'plymouth'\": 5666, \"'whu'\": 5667, \"'afc'\": 5668, \"'dilemma'\": 5669, \"'blaiming'\": 5670, \"'endorsement'\": 5671, \"'becouse'\": 5672, \"'cleanse'\": 5673, \"'characteristic'\": 5674, \"'activism'\": 5675, \"'equity'\": 5676, \"'benefit'\": 5677, \"'jkuvmvqxy'\": 5678, \"'offering'\": 5679, \"'palace'\": 5680, \"'martyrsnotbeggars'\": 5681, \"'adrian'\": 5682, \"'pouting'\": 5683, \"'hanger'\": 5684, \"'hashtags'\": 5685, \"'complains'\": 5686, \"'realist'\": 5687, \"'adjust'\": 5688, \"'sail'\": 5689, \"'arthur'\": 5690, \"'ignite'\": 5691, \"'doggy'\": 5692, \"'barrack'\": 5693, \"'gws'\": 5694, \"'jag'\": 5695, \"'goldmedal'\": 5696, \"'wrongproduct'\": 5697, \"'shed'\": 5698, \"'entrenepuers'\": 5699, \"'ups'\": 5700, \"'sme'\": 5701, \"'proactive'\": 5702, \"'accountancy'\": 5703, \"'crew'\": 5704, \"'gorgeous'\": 5705, \"'newbie'\": 5706, \"'malice'\": 5707, \"'sibling'\": 5708, \"'estrange'\": 5709, \"'misplaced'\": 5710, \"'sleepnumber'\": 5711, \"'unimpressive'\": 5712, \"'worn'\": 5713, \"'colinkaepernick'\": 5714, \"'unjust'\": 5715, \"'carolina'\": 5716, \"'speakout'\": 5717, \"'afaik'\": 5718, \"'midst'\": 5719, \"'createsyria'\": 5720, \"'talkingpeace'\": 5721, \"'buildingpeace'\": 5722, \"'southend'\": 5723, \"'jayme'\": 5724, \"'rodrigo'\": 5725, \"'duterte'\": 5726, \"'vincent'\": 5727, \"'hattrick'\": 5728, \"'baku'\": 5729, \"'prevent'\": 5730, \"'armenian'\": 5731, \"'chusssss'\": 5732, \"'eventual'\": 5733, \"'destruction'\": 5734, \"'sherlock'\": 5735, \"'holmes'\": 5736, \"'makeover'\": 5737, \"'ewr'\": 5738, \"'unitedairlines'\": 5739, \"'bow'\": 5740, \"'oligodendroglioma'\": 5741, \"'curious'\": 5742, \"'disdain'\": 5743, \"'crinkle'\": 5744, \"'bonnie'\": 5745, \"'belle'\": 5746, \"'absurd'\": 5747, \"'wakeupcall'\": 5748, \"'verge'\": 5749, \"'down'\": 5750, \"'uncle'\": 5751, \"'remus'\": 5752, \"'foh'\": 5753, \"'theydontlikeyoueither'\": 5754, \"'unwoke'\": 5755, \"'sleepissues'\": 5756, \"'narcolepsy'\": 5757, \"'intensely'\": 5758, \"'turnover'\": 5759, \"'akon'\": 5760, \"'bantz'\": 5761, \"'notch'\": 5762, \"'cisco'\": 5763, \"'io'\": 5764, \"'vulnerability'\": 5765, \"'patch'\": 5766, \"'osha'\": 5767, \"'military'\": 5768, \"'eachother'\": 5769, \"'wrinkle'\": 5770, \"'owen'\": 5771, \"'garriott'\": 5772, \"'natong'\": 5773, \"'duha'\": 5774, \"'plate'\": 5775, \"'communism'\": 5776, \"'prevail'\": 5777, \"'wholly'\": 5778, \"'capo'\": 5779, \"'ollafest'\": 5780, \"'cowboy'\": 5781, \"'toomuchhype'\": 5782, \"'mediocrity'\": 5783, \"'advise'\": 5784, \"'yiu'\": 5785, \"'willxbe'\": 5786, \"'froa'\": 5787, \"'unavoidable'\": 5788, \"'kikmessage'\": 5789, \"'boredaf'\": 5790, \"'snapchatme'\": 5791, \"'countrygirl'\": 5792, \"'evident'\": 5793, \"'sufc'\": 5794, \"'marcos'\": 5795, \"'hearted'\": 5796, \"'homosexuality'\": 5797, \"'christianity'\": 5798, \"'foursquare'\": 5799, \"'kipling'\": 5800, \"'derbyshire'\": 5801, \"'recognise'\": 5802, \"'freepizza'\": 5803, \"'shamble'\": 5804, \"'fiddle'\": 5805, \"'debacle'\": 5806, \"'yuk'\": 5807, \"'happily'\": 5808, \"'unprovoked'\": 5809, \"'stategames'\": 5810, \"'captain'\": 5811, \"'shootthegerman'\": 5812, \"'unwittingly'\": 5813, \"'ferocious'\": 5814, \"'reusable'\": 5815, \"'temperament'\": 5816, \"'hissyfits'\": 5817, \"'ravenclaw'\": 5818, \"'shouldhavebeenhufflepuff'\": 5819, \"'rhabdo'\": 5820, \"'metro'\": 5821, \"'lrt'\": 5822, \"'walterdale'\": 5823, \"'yeg'\": 5824, \"'aye'\": 5825, \"'brief'\": 5826, \"'hashtag'\": 5827, \"'unsubscribed'\": 5828, \"'avanquest'\": 5829, \"'software'\": 5830, \"'tgit'\": 5831, \"'illusion'\": 5832, \"'ladygaga'\": 5833, \"'iscalming'\": 5834, \"'mysoul'\": 5835, \"'hesitantly'\": 5836, \"'brush'\": 5837, \"'manga'\": 5838, \"'overdone'\": 5839, \"'downhearted'\": 5840, \"'consumer'\": 5841, \"'survey'\": 5842, \"'ovth'\": 5843, \"'tomourssuck'\": 5844, \"'prayinsnotcancer'\": 5845, \"'burslem'\": 5846, \"'looooool'\": 5847, \"'supply'\": 5848, \"'unfollow'\": 5849, \"'trolling'\": 5850, \"'collateral'\": 5851, \"'bigman'\": 5852, \"'comparison'\": 5853, \"'emulate'\": 5854, \"'loveet'\": 5855, \"'mild'\": 5856, \"'shouldofvotedfornicole'\": 5857, \"'blinder'\": 5858, \"'youfm'\": 5859, \"'tg'\": 5860, \"'clemvsgt'\": 5861, \"'convict'\": 5862, \"'trp'\": 5863, \"'tread'\": 5864, \"'homilyhour'\": 5865, \"'cx'\": 5866, \"'relate'\": 5867, \"'lakis'\": 5868, \"'cyprus'\": 5869, \"'friedrich'\": 5870, \"'nietzsche'\": 5871, \"'friedrichnietzsche'\": 5872, \"'nffc'\": 5873, \"'mucho'\": 5874, \"'lib'\": 5875, \"'timetogrind'\": 5876, \"'countryside'\": 5877, \"'snore'\": 5878, \"'tl'\": 5879, \"'boredom'\": 5880, \"'disgracefulesin'\": 5881, \"'esinscountdown'\": 5882, \"'persuasion'\": 5883, \"'awkwardly'\": 5884, \"'pedal'\": 5885, \"'nutter'\": 5886, \"'impulsive'\": 5887, \"'critic'\": 5888, \"'opponent'\": 5889, \"'voxconversations'\": 5890, \"'aarp'\": 5891, \"'s'\": 5892, \"'belie'\": 5893, \"'liking'\": 5894, \"'dis'\": 5895, \"'bls'\": 5896, \"'blake'\": 5897, \"'lia'\": 5898, \"'litany'\": 5899, \"'primarily'\": 5900, \"'lessens'\": 5901, \"'remo'\": 5902, \"'undesirable'\": 5903, \"'darren'\": 5904, \"'exclusivity'\": 5905, \"'label'\": 5906, \"'devy'\": 5907, \"'gestort'\": 5908, \"'aber'\": 5909, \"'geil'\": 5910, \"'flirting'\": 5911, \"'inactive'\": 5912, \"'macos'\": 5913, \"'squeal'\": 5914, \"'relentlessly'\": 5915, \"'optimistic'\": 5916, \"'disposition'\": 5917, \"'grate'\": 5918, \"'alan'\": 5919, \"'duff'\": 5920, \"'foundational'\": 5921, \"'dosomething'\": 5922, \"'thankyou'\": 5923, \"'wholeworld'\": 5924, \"'afew'\": 5925, \"'audio'\": 5926, \"'arab'\": 5927, \"'basis'\": 5928, \"'multimillionaire'\": 5929, \"'brat'\": 5930, \"'starter'\": 5931, \"'semi'\": 5932, \"'auto'\": 5933, \"'wah'\": 5934, \"'frm'\": 5935, \"'soundtrack'\": 5936, \"'backtoreality'\": 5937, \"'litigator'\": 5938, \"'trumppuppet'\": 5939, \"'felon'\": 5940, \"'nigt'\": 5941, \"'grandad'\": 5942, \"'hometown'\": 5943, \"'speakinh'\": 5944, \"'termination'\": 5945, \"'heartbreak'\": 5946, \"'srry'\": 5947, \"'chestnut'\": 5948, \"'caballero'\": 5949, \"'vitals'\": 5950, \"'vivid'\": 5951, \"'noel'\": 5952, \"'edmonds'\": 5953, \"'reckons'\": 5954, \"'uncertainty'\": 5955, \"'div'\": 5956, \"'leictershireaway'\": 5957, \"'therey'\": 5958, \"'raisingtheboss'\": 5959, \"'oligarchs'\": 5960, \"'thee'\": 5961, \"'joshua'\": 5962, \"'thrive'\": 5963, \"'traditionalist'\": 5964, \"'allergic'\": 5965, \"'wyd'\": 5966, \"'immediate'\": 5967, \"'gps'\": 5968, \"'googlemaps'\": 5969, \"'blondmoment'\": 5970, \"'makin'\": 5971, \"'endless'\": 5972, \"'siguemeytesigo'\": 5973, \"'venezuela'\": 5974, \"'lowe'\": 5975, \"'testimony'\": 5976, \"'fellowship'\": 5977, \"'gospel'\": 5978, \"'exited'\": 5979, \"'pround'\": 5980, \"'colleen'\": 5981, \"'earnest'\": 5982, \"'netizen'\": 5983, \"'niall'\": 5984, \"'legitimate'\": 5985, \"'luca'\": 5986, \"'sences'\": 5987, \"'olive'\": 5988, \"'southampton'\": 5989, \"'shantosh'\": 5990, \"'milton'\": 5991, \"'disclose'\": 5992, \"'cholroform'\": 5993, \"'aghast'\": 5994, \"'prioritise'\": 5995, \"'evidently'\": 5996, \"'norm'\": 5997, \"'lawsuit'\": 5998, \"'nascar'\": 5999, \"'accommodate'\": 6000, \"'kai'\": 6001, \"'ridicule'\": 6002, \"'saddness'\": 6003, \"'afterellen'\": 6004, \"'shitsucks'\": 6005, \"'blackish'\": 6006, \"'ewu'\": 6007, \"'lament'\": 6008, \"'poem'\": 6009, \"'intentional'\": 6010, \"'systemic'\": 6011, \"'rugby'\": 6012, \"'rooster'\": 6013, \"'nrl'\": 6014, \"'daft'\": 6015, \"'grayson'\": 6016, \"'criminalize'\": 6017, \"'diesel'\": 6018, \"'lacan'\": 6019, \"'infant'\": 6020, \"'thisbhuge'\": 6021, \"'afford'\": 6022, \"'sangria'\": 6023, \"'tantalize'\": 6024, \"'tapas'\": 6025, \"'minutesfromhom'\": 6026, \"'silverlake'\": 6027, \"'floated'\": 6028, \"'hungover'\": 6029, \"'faced'\": 6030, \"'thorpe'\": 6031, \"'welp'\": 6032, \"'dutch'\": 6033, \"'stopbullying'\": 6034, \"'eaxh'\": 6035, \"'lovewins'\": 6036, \"'widely'\": 6037, \"'accountability'\": 6038, \"'cali'\": 6039, \"'unbelievably'\": 6040, \"'ot'\": 6041, \"'pauline'\": 6042, \"'epistle'\": 6043, \"'countless'\": 6044, \"'pjs'\": 6045, \"'prowess'\": 6046, \"'phenomenal'\": 6047, \"'珞'\": 6048, \"'lmaooo'\": 6049, \"'rockin'\": 6050, \"'singin'\": 6051, \"'lpco'\": 6052, \"'klassic'\": 6053, \"'classicrock'\": 6054, \"'klassicrock'\": 6055, \"'rocknroll'\": 6056, \"'onlineradio'\": 6057, \"'instrument'\": 6058, \"'bbq'\": 6059, \"'reluctantly'\": 6060, \"'biiitttccchhhhhh'\": 6061, \"'ahsaftershow'\": 6062, \"'mamasitas'\": 6063, \"'hunk'\": 6064, \"'ridge'\": 6065, \"'oelrichs'\": 6066, \"'outthere'\": 6067, \"'inthedark'\": 6068, \"'eh'\": 6069, \"'cactus'\": 6070, \"'wcw'\": 6071, \"'griffin'\": 6072, \"'breakfast'\": 6073, \"'lakeside'\": 6074, \"'ciara'\": 6075, \"'asks'\": 6076, \"'julie'\": 6077, \"'claire'\": 6078, \"'bolt'\": 6079, \"'honk'\": 6080, \"'keeptalkin'\": 6081, \"'wreckinso'\": 6082, \"'brandonmanitoba'\": 6083, \"'pencil'\": 6084, \"'profiling'\": 6085, \"'edt'\": 6086, \"'monsoonuk'\": 6087, \"'fufill'\": 6088, \"'moretears'\": 6089, \"'chalk'\": 6090, \"'notation'\": 6091, \"'entree'\": 6092, \"'inasmuch'\": 6093, \"'corinthian'\": 6094, \"'branding'\": 6095, \"'arwuevfqv'\": 6096, \"'caress'\": 6097, \"'lick'\": 6098, \"'veggie'\": 6099, \"'develop'\": 6100, \"'charisma'\": 6101, \"'coke'\": 6102, \"'paycheck'\": 6103, \"'estate'\": 6104, \"'wrist'\": 6105, \"'float'\": 6106, \"'overpower'\": 6107, \"'nerfed'\": 6108, \"'prisoner'\": 6109, \"'beck'\": 6110, \"'decoration'\": 6111, \"'ravi'\": 6112, \"'vixx'\": 6113, \"'unmatched'\": 6114, \"'specialist'\": 6115, \"'title'\": 6116, \"'basslessons'\": 6117, \"'groove'\": 6118, \"'meaningful'\": 6119, \"'pawn'\": 6120, \"'chaotic'\": 6121, \"'noseriously'\": 6122, \"'ghastinoir'\": 6123, \"'toofaced'\": 6124, \"'ig'\": 6125, \"'archie'\": 6126, \"'futile'\": 6127, \"'battlefield'\": 6128, \"'showcase'\": 6129, \"'frisco'\": 6130, \"'tx'\": 6131, \"'kgb'\": 6132, \"'cas'\": 6133, \"'leafyszerker'\": 6134, \"'odi'\": 6135, \"'hitter'\": 6136, \"'shutupphilsimms'\": 6137, \"'vids'\": 6138, \"'financial'\": 6139, \"'theft'\": 6140, \"'icantholdmybreaththatlong'\": 6141, \"'inglorious'\": 6142, \"'distinguish'\": 6143, \"'joviality'\": 6144, \"'vawyzad'\": 6145, \"'slag'\": 6146, \"'compelling'\": 6147, \"'blockade'\": 6148, \"'starving'\": 6149, \"'yemen'\": 6150, \"'dosomethingpoliticans'\": 6151, \"'broad'\": 6152, \"'aviataube'\": 6153, \"'pitt'\": 6154, \"'trashy'\": 6155, \"'modicum'\": 6156, \"'backbone'\": 6157, \"'kenny'\": 6158, \"'occurs'\": 6159, \"'pap'\": 6160, \"'progrm'\": 6161, \"'rebate'\": 6162, \"'gopoversight'\": 6163, \"'mylan'\": 6164, \"'adder'\": 6165, \"'radical'\": 6166, \"'surrender'\": 6167, \"'visible'\": 6168, \"'aww'\": 6169, \"'virtually'\": 6170, \"'inferno'\": 6171, \"'driven'\": 6172, \"'gerrard'\": 6173, \"'modric'\": 6174, \"'bernabéu'\": 6175, \"'viallreal'\": 6176, \"'ukedchat'\": 6177, \"'ms'\": 6178, \"'remainer'\": 6179, \"'funereal'\": 6180, \"'foyer'\": 6181, \"'moscow'\": 6182, \"'fortify'\": 6183, \"'jd'\": 6184, \"'villa'\": 6185, \"'unreal'\": 6186, \"'hyper'\": 6187, \"'predator'\": 6188, \"'heckler'\": 6189, \"'cakeclubhour'\": 6190, \"'fairly'\": 6191, \"'updated'\": 6192, \"'imessage'\": 6193, \"'misogynistic'\": 6194, \"'chickflick'\": 6195, \"'comethefuckonbridget'\": 6196, \"'puerto'\": 6197, \"'rican'\": 6198, \"'taino'\": 6199, \"'targeted'\": 6200, \"'sorethroat'\": 6201, \"'fallweather'\": 6202, \"'carletonuniversity'\": 6203, \"'ottawa'\": 6204, \"'amyah'\": 6205, \"'classmate'\": 6206, \"'hallelujah'\": 6207, \"'kapernick'\": 6208, \"'kneel'\": 6209, \"'fuking'\": 6210, \"'shady'\": 6211, \"'jongdae'\": 6212, \"'rumour'\": 6213, \"'girlfriend'\": 6214, \"'wgm'\": 6215, \"'maddie'\": 6216, \"'shuck'\": 6217, \"'fancam'\": 6218, \"'scfc'\": 6219, \"'tbptv'\": 6220, \"'thunder'\": 6221, \"'shew'\": 6222, \"'greenville'\": 6223, \"'judgement'\": 6224, \"'sway'\": 6225, \"'realm'\": 6226, \"'knowing'\": 6227, \"'sagin'\": 6228, \"'booming'\": 6229, \"'oblivious'\": 6230, \"'territory'\": 6231, \"'derange'\": 6232, \"'leafy'\": 6233, \"'roast'\": 6234, \"'pokemon'\": 6235, \"'mebbe'\": 6236, \"'ew'\": 6237, \"'crookedcourt'\": 6238, \"'killing'\": 6239, \"'petits'\": 6240, \"'hayes'\": 6241, \"'komisarjevsky'\": 6242, \"'haddrell'\": 6243, \"'sep'\": 6244, \"'tunbridgewells'\": 6245, \"'streatham'\": 6246, \"'cmn'\": 6247, \"'junc'\": 6248, \"'biological'\": 6249, \"'counting'\": 6250, \"'stem'\": 6251, \"'impend'\": 6252, \"'dann'\": 6253, \"'aka'\": 6254, \"'django'\": 6255, \"'unchain'\": 6256, \"'titter'\": 6257, \"'indvsnz'\": 6258, \"'hatebeinglate'\": 6259, \"'dk'\": 6260, \"'surprisingly'\": 6261, \"'dp'\": 6262, \"'takeabreak'\": 6263, \"'surfer'\": 6264, \"'vacuum'\": 6265, \"'biology'\": 6266, \"'department'\": 6267, \"'graham'\": 6268, \"'brownie'\": 6269, \"'spill'\": 6270, \"'thier'\": 6271, \"'sadnnes'\": 6272, \"'oi'\": 6273, \"'grindah'\": 6274, \"'hahahahahahaha'\": 6275, \"'nightlife'\": 6276, \"'nightlifeent'\": 6277, \"'gatewayarch'\": 6278, \"'stlouis'\": 6279, \"'washingtonave'\": 6280, \"'embrace'\": 6281, \"'imply'\": 6282, \"'connivers'\": 6283, \"'working'\": 6284, \"'ponder'\": 6285, \"'transgender'\": 6286, \"'loki'\": 6287, \"'automatic'\": 6288, \"'worldsapp'\": 6289, \"'appsworld'\": 6290, \"'boycott'\": 6291, \"'pecan'\": 6292, \"'shawarma'\": 6293, \"'frisk'\": 6294, \"'deblasio'\": 6295, \"'rein'\": 6296, \"'loughborough'\": 6297, \"'tinge'\": 6298, \"'bsg'\": 6299, \"'consistent'\": 6300, \"'yawn'\": 6301, \"'overdose'\": 6302, \"'scritching'\": 6303, \"'amndbots'\": 6304, \"'wag'\": 6305, \"'tail'\": 6306, \"'frisbee'\": 6307, \"'miley'\": 6308, \"'alicia'\": 6309, \"'contestant'\": 6310, \"'therewillbeblood'\": 6311, \"'kernel'\": 6312, \"'sweating'\": 6313, \"'sneeze'\": 6314, \"'hiccup'\": 6315, \"'snot'\": 6316, \"'chilli'\": 6317, \"'nell'\": 6318, \"'nanny'\": 6319, \"'appreciation'\": 6320, \"'relaxed'\": 6321, \"'eliza'\": 6322, \"'neals'\": 6323, \"'makeamericasafeagain'\": 6324, \"'refuge'\": 6325, \"'hireling'\": 6326, \"'stk'\": 6327, \"'slim'\": 6328, \"'thatsmyluck'\": 6329, \"'associate'\": 6330, \"'conflate'\": 6331, \"'dyslexia'\": 6332, \"'richards'\": 6333, \"'firsttweetever'\": 6334, \"'sippin'\": 6335, \"'hotchocolate'\": 6336, \"'hellloooootwitter'\": 6337, \"'facebookisforfamily'\": 6338, \"'voteyourconscience'\": 6339, \"'succumb'\": 6340, \"'hillaryclinton'\": 6341, \"'patriotact'\": 6342, \"'platform'\": 6343, \"'officialy'\": 6344, \"'hizbul'\": 6345, \"'cardinal'\": 6346, \"'fibromyalgia'\": 6347, \"'overwhelmed'\": 6348, \"'lysol'\": 6349, \"'febreeze'\": 6350, \"'factory'\": 6351, \"'dreamboys'\": 6352, \"'dispel'\": 6353, \"'cohen'\": 6354, \"'ecosystem'\": 6355, \"'going'\": 6356, \"'importance'\": 6357, \"'arsene'\": 6358, \"'crock'\": 6359, \"'indiemusic'\": 6360, \"'customerservicefail'\": 6361, \"'cudi'\": 6362, \"'travis'\": 6363, \"'distraught'\": 6364, \"'trainer'\": 6365, \"'soulless'\": 6366, \"'identical'\": 6367, \"'consumerism'\": 6368, \"'anychance'\": 6369, \"'thiza'\": 6370, \"'nurse'\": 6371, \"'dent'\": 6372, \"'hail'\": 6373, \"'reclaim'\": 6374, \"'cluboftheyear'\": 6375, \"'hipster'\": 6376, \"'grape'\": 6377, \"'citizen'\": 6378, \"'yf'\": 6379, \"'confidence'\": 6380, \"'heyyyy'\": 6381, \"'impotent'\": 6382, \"'efficient'\": 6383, \"'redefine'\": 6384, \"'acount'\": 6385, \"'sabr'\": 6386, \"'bible'\": 6387, \"'whore'\": 6388, \"'unfulfilled'\": 6389, \"'horseman'\": 6390, \"'synth'\": 6391, \"'backing'\": 6392, \"'depresspop'\": 6393, \"'alt'\": 6394, \"'fuckingmeup'\": 6395, \"'stupendous'\": 6396, \"'memphis'\": 6397, \"'nationalsecurity'\": 6398, \"'deuce'\": 6399, \"'kanye'\": 6400, \"'unprepared'\": 6401, \"'protocol'\": 6402, \"'ap'\": 6403, \"'productive'\": 6404, \"'gb'\": 6405, \"'kalil'\": 6406, \"'asset'\": 6407, \"'granger'\": 6408, \"'zales'\": 6409, \"'grizzly'\": 6410, \"'scatter'\": 6411, \"'inyourneighborhoodnotdc'\": 6412, \"'hoe'\": 6413, \"'hellorhighwater'\": 6414, \"'gripping'\": 6415, \"'broccoli'\": 6416, \"'parenting'\": 6417, \"'sta'\": 6418, \"'redheadteen'\": 6419, \"'boldandbeautiful'\": 6420, \"'schkeuditz'\": 6421, \"'strongly'\": 6422, \"'heh'\": 6423, \"'chappy'\": 6424, \"'cureforinsomnia'\": 6425, \"'definition'\": 6426, \"'vandalism'\": 6427, \"'battered'\": 6428, \"'convinced'\": 6429, \"'tasers'\": 6430, \"'immobilize'\": 6431, \"'taser'\": 6432, \"'harry'\": 6433, \"'discriminatory'\": 6434, \"'mandate'\": 6435, \"'cigarette'\": 6436, \"'saf'\": 6437, \"'tolerate'\": 6438, \"'fails'\": 6439, \"'inhuman'\": 6440, \"'tgmbnquee'\": 6441, \"'simonnricketts'\": 6442, \"'hypocritical'\": 6443, \"'monalisa'\": 6444, \"'thejail'\": 6445, \"'selenagomez'\": 6446, \"'revival'\": 6447, \"'applemusic'\": 6448, \"'truck'\": 6449, \"'glove'\": 6450, \"'hbu'\": 6451, \"'reassure'\": 6452, \"'wing'\": 6453, \"'trumppence'\": 6454, \"'censored'\": 6455, \"'strumbellas'\": 6456, \"'censorship'\": 6457, \"'luvvvv'\": 6458, \"'theanswer'\": 6459, \"'spiritu'\": 6460, \"'extreme'\": 6461, \"'liver'\": 6462, \"'haunting'\": 6463, \"'genre'\": 6464, \"'crimewatch'\": 6465, \"'desk'\": 6466, \"'philadelphia'\": 6467, \"'sharpton'\": 6468, \"'thefive'\": 6469, \"'tilli'\": 6470, \"'ole'\": 6471, \"'tmrw'\": 6472, \"'flake'\": 6473, \"'tattooing'\": 6474, \"'remarkable'\": 6475, \"'raging'\": 6476, \"'obnoxiously'\": 6477, \"'complaining'\": 6478, \"'upsetting'\": 6479, \"'letdown'\": 6480, \"'worldpeaceday'\": 6481, \"'organ'\": 6482, \"'sooooo'\": 6483, \"'gratitude'\": 6484, \"'amidst'\": 6485, \"'fixer'\": 6486, \"'turnt'\": 6487, \"'ruint'\": 6488, \"'firesauce'\": 6489, \"'hotsauce'\": 6490, \"'mildsauce'\": 6491, \"'getsauced'\": 6492, \"'champagnedreams'\": 6493, \"'riteing'\": 6494, \"'wots'\": 6495, \"'happond'\": 6496, \"'plese'\": 6497, \"'deed'\": 6498, \"'gurls'\": 6499, \"'liverpool'\": 6500, \"'anfield'\": 6501, \"'wavy'\": 6502, \"'cheeseburger'\": 6503, \"'mcdonalds'\": 6504, \"'aspie'\": 6505, \"'despondent'\": 6506, \"'creator'\": 6507, \"'bacheloretteau'\": 6508, \"'zoolander'\": 6509, \"'samvrhys'\": 6510, \"'probs'\": 6511, \"'fresher'\": 6512, \"'islamophobic'\": 6513, \"'fellaini'\": 6514, \"'dfs'\": 6515, \"'sims'\": 6516, \"'dual'\": 6517, \"'sim'\": 6518, \"'od'\": 6519, \"'aidy'\": 6520, \"'physic'\": 6521, \"'tristan'\": 6522, \"'plaster'\": 6523, \"'diminishes'\": 6524, \"'parks'\": 6525, \"'anthony'\": 6526, \"'dubai'\": 6527, \"'firework'\": 6528, \"'moisturize'\": 6529, \"'elbow'\": 6530, \"'possess'\": 6531, \"'undergraduate'\": 6532, \"'nojobsinbiology'\": 6533, \"'uofw'\": 6534, \"'beating'\": 6535, \"'optic'\": 6536, \"'toussaintromain'\": 6537, \"'banana'\": 6538, \"'chia'\": 6539, \"'buddy'\": 6540, \"'essence'\": 6541, \"'proficiency'\": 6542, \"'pikxb'\": 6543, \"'whereismyfurniture'\": 6544, \"'ripkara'\": 6545, \"'dissociating'\": 6546, \"'roy'\": 6547, \"'pawpaw'\": 6548, \"'mackinonns'\": 6549, \"'mitt'\": 6550, \"'silky'\": 6551, \"'teamna'\": 6552, \"'spanish'\": 6553, \"'floss'\": 6554, \"'heartbeat'\": 6555, \"'furry'\": 6556, \"'ozzie'\": 6557, \"'creamy'\": 6558, \"'pesto'\": 6559, \"'pasta'\": 6560, \"'grilled'\": 6561, \"'asparagus'\": 6562, \"'moving'\": 6563, \"'fredsirieix'\": 6564, \"'peckham'\": 6565, \"'guru'\": 6566, \"'ceo'\": 6567, \"'charity'\": 6568, \"'reasonably'\": 6569, \"'crudely'\": 6570, \"'mexican'\": 6571, \"'preschool'\": 6572, \"'welfare'\": 6573, \"'allllat'\": 6574, \"'shaker'\": 6575, \"'clench'\": 6576, \"'digest'\": 6577, \"'porridge'\": 6578, \"'hated'\": 6579, \"'showmance'\": 6580, \"'uglycry'\": 6581, \"'archangelsummit'\": 6582, \"'nhlnycsweepstakes'\": 6583, \"'jade'\": 6584, \"'assess'\": 6585, \"'tenderhearted'\": 6586, \"'invigorate'\": 6587, \"'everythin'\": 6588, \"'earphone'\": 6589, \"'sg'\": 6590, \"'fattening'\": 6591, \"'coronary'\": 6592, \"'soloist'\": 6593, \"'dl'\": 6594, \"'sarwar'\": 6595, \"'breed'\": 6596, \"'waltzwithbashir'\": 6597, \"'lebanon'\": 6598, \"'transmission'\": 6599, \"'gobsmacked'\": 6600, \"'goksfillyourhouseforfree'\": 6601, \"'retitled'\": 6602, \"'repaint'\": 6603, \"'whaaaooo'\": 6604, \"'balotelli'\": 6605, \"'ie'\": 6606, \"'focal'\": 6607, \"'violentextremism'\": 6608, \"'occasional'\": 6609, \"'rashford'\": 6610, \"'unfailingly'\": 6611, \"'maker'\": 6612, \"'geo'\": 6613, \"'capable'\": 6614, \"'dave'\": 6615, \"'beginning'\": 6616, \"'register'\": 6617, \"'halifax'\": 6618, \"'permission'\": 6619, \"'anatomy'\": 6620, \"'germ'\": 6621, \"'doj'\": 6622, \"'adultingistheworst'\": 6623, \"'aico'\": 6624, \"'immolation'\": 6625, \"'succeed'\": 6626, \"'akt'\": 6627, \"'dint'\": 6628, \"'sacred'\": 6629, \"'campaignin'\": 6630, \"'mankind'\": 6631, \"'sif'\": 6632, \"'locke'\": 6633, \"'アニメ'\": 6634, \"'alcohol'\": 6635, \"'flare'\": 6636, \"'garageband'\": 6637, \"'staid'\": 6638, \"'ott'\": 6639, \"'hawking'\": 6640, \"'approaching'\": 6641, \"'idgi'\": 6642, \"'alleged'\": 6643, \"'troop'\": 6644, \"'missingyou'\": 6645, \"'autodealerlive'\": 6646, \"'hurry'\": 6647, \"'inject'\": 6648, \"'yous'\": 6649, \"'shitlib'\": 6650, \"'pimp'\": 6651, \"'scaredy'\": 6652, \"'nfl'\": 6653, \"'phrase'\": 6654, \"'shittalking'\": 6655, \"'occasionally'\": 6656, \"'nsfw'\": 6657, \"'army'\": 6658, \"'tagsforlikes'\": 6659, \"'tflers'\": 6660, \"'tweegram'\": 6661, \"'jumanji'\": 6662, \"'kevin'\": 6663, \"'hart'\": 6664, \"'thisisaterribleidea'\": 6665, \"'temporada'\": 6666, \"'categ'\": 6667, \"'obc'\": 6668, \"'nill'\": 6669, \"'minimize'\": 6670, \"'fut'\": 6671, \"'unchecked'\": 6672, \"'artefact'\": 6673, \"'blizzard'\": 6674, \"'lifeisbeautiful'\": 6675, \"'livewithpurpose'\": 6676, \"'singlegirlproblems'\": 6677, \"'yh'\": 6678, \"'mixture'\": 6679, \"'sewage'\": 6680, \"'gross'\": 6681, \"'getoffthetrain'\": 6682, \"'smelly'\": 6683, \"'anthonyweiner'\": 6684, \"'distraction'\": 6685, \"'selection'\": 6686, \"'nodapl'\": 6687, \"'thumper'\": 6688, \"'mcternan'\": 6689, \"'syrinx'\": 6690, \"'notebook'\": 6691, \"'shadow'\": 6692, \"'goosebump'\": 6693, \"'hr'\": 6694, \"'youraffair'\": 6695, \"'messageme'\": 6696, \"'textme'\": 6697, \"'tradepics'\": 6698, \"'tripadvisor'\": 6699, \"'granddesigns'\": 6700, \"'wibbly'\": 6701, \"'wobbly'\": 6702, \"'plantation'\": 6703, \"'worstenemy'\": 6704, \"'thinktoomuch'\": 6705, \"'motherland'\": 6706, \"'buzzing'\": 6707, \"'cheeky'\": 6708, \"'squashie'\": 6709, \"'expac'\": 6710, \"'unfollowed'\": 6711, \"'ahut'\": 6712, \"'insurance'\": 6713, \"'tm'\": 6714, \"'tms'\": 6715, \"'zandu'\": 6716, \"'balm'\": 6717, \"'billradkeradio'\": 6718, \"'aspire'\": 6719, \"'olympia'\": 6720, \"'kuowrecord'\": 6721, \"'parentsofaddicts'\": 6722, \"'wellness'\": 6723, \"'anon'\": 6724, \"'speaker'\": 6725, \"'bower'\": 6726, \"'incur'\": 6727, \"'lily'\": 6728, \"'northampton'\": 6729, \"'arround'\": 6730, \"'unexpectedly'\": 6731, \"'vent'\": 6732, \"'doorjamb'\": 6733, \"'designer'\": 6734, \"'luis'\": 6735, \"'scorning'\": 6736, \"'detention'\": 6737, \"'resettle'\": 6738, \"'asylumseekers'\": 6739, \"'manus'\": 6740, \"'nauru'\": 6741, \"'deceive'\": 6742, \"'ominous'\": 6743, \"'indoor'\": 6744, \"'jape'\": 6745, \"'used'\": 6746, \"'teufel'\": 6747, \"'sooner'\": 6748, \"'mets'\": 6749, \"'thirdbasecoach'\": 6750, \"'lgm'\": 6751, \"'gloria'\": 6752, \"'thoughtful'\": 6753, \"'malaysian'\": 6754, \"'suspected'\": 6755, \"'malaysia'\": 6756, \"'depravity'\": 6757, \"'medication'\": 6758, \"'unrest'\": 6759, \"'confesses'\": 6760, \"'buzzinnnnnn'\": 6761, \"'wae'\": 6762, \"'nutt'\": 6763, \"'dain'\": 6764, \"'married'\": 6765, \"'nopanicattack'\": 6766, \"'bridgetjonesbaby'\": 6767, \"'bridget'\": 6768, \"'teammark'\": 6769, \"'entry'\": 6770, \"'germantownbroncos'\": 6771, \"'lilleague'\": 6772, \"'popwarner'\": 6773, \"'broncos'\": 6774, \"'usafootball'\": 6775, \"'annemarieiam'\": 6776, \"'started'\": 6777, \"'homefronttherevolution'\": 6778, \"'wasteofmoney'\": 6779, \"'shallowness'\": 6780, \"'deppression'\": 6781, \"'trauma'\": 6782, \"'accident'\": 6783, \"'rin'\": 6784, \"'melodramatic'\": 6785, \"'cmbyn'\": 6786, \"'august'\": 6787, \"'miff'\": 6788, \"'donovan'\": 6789, \"'mute'\": 6790, \"'optimize'\": 6791, \"'bein'\": 6792, \"'disorder'\": 6793, \"'nmu'\": 6794, \"'ought'\": 6795, \"'msm'\": 6796, \"'legal'\": 6797, \"'longdistancerelationship'\": 6798, \"'unhappiness'\": 6799, \"'spank'\": 6800, \"'deathly'\": 6801, \"'greysanatomy'\": 6802, \"'temp'\": 6803, \"'meditating'\": 6804, \"'weightlessness'\": 6805, \"'sheridan'\": 6806, \"'facepalm'\": 6807, \"'tonguetied'\": 6808, \"'carl'\": 6809, \"'smear'\": 6810, \"'pension'\": 6811, \"'sectarianism'\": 6812, \"'hurryup'\": 6813, \"'yukwon'\": 6814, \"'zico'\": 6815, \"'judgment'\": 6816, \"'goodservice'\": 6817, \"'machaaaa'\": 6818, \"'murah'\": 6819, \"'rezeki'\": 6820, \"'selalu'\": 6821, \"'rumor'\": 6822, \"'wellendowed'\": 6823, \"'notsomuch'\": 6824, \"'gaypeople'\": 6825, \"'sowhat'\": 6826, \"'pmln'\": 6827, \"'gameovernawaz'\": 6828, \"'quell'\": 6829, \"'ayuku'\": 6830, \"'doubleviz'\": 6831, \"'huhu'\": 6832, \"'kak'\": 6833, \"'loyalty'\": 6834, \"'nomotivation'\": 6835, \"'rainyday'\": 6836, \"'cram'\": 6837, \"'proclaims'\": 6838, \"'branch'\": 6839, \"'cabell'\": 6840, \"'sox'\": 6841, \"'onhere'\": 6842, \"'baseman'\": 6843, \"'occupy'\": 6844, \"'toll'\": 6845, \"'collection'\": 6846, \"'permanently'\": 6847, \"'babe'\": 6848, \"'overheard'\": 6849, \"'bigly'\": 6850, \"'trustnoone'\": 6851, \"'hahaaa'\": 6852, \"'lel'\": 6853, \"'cid'\": 6854, \"'gabranths'\": 6855, \"'maura'\": 6856, \"'rankin'\": 6857, \"'canthandlethetruth'\": 6858, \"'gorkas'\": 6859, \"'unhinge'\": 6860, \"'mri'\": 6861, \"'neuro'\": 6862, \"'mssucks'\": 6863, \"'healthcarefail'\": 6864, \"'socialanxiety'\": 6865, \"'reduction'\": 6866, \"'viewership'\": 6867, \"'ajplus'\": 6868, \"'sebstian'\": 6869, \"'gorka'\": 6870, \"'deflecting'\": 6871, \"'pleasant'\": 6872, \"'partnership'\": 6873, \"'reap'\": 6874, \"'harvest'\": 6875, \"'niv'\": 6876, \"'kyungsoo'\": 6877, \"'instant'\": 6878, \"'tessie'\": 6879, \"'dropkick'\": 6880, \"'fyi'\": 6881, \"'mph'\": 6882, \"'interact'\": 6883, \"'itsbeensolong'\": 6884, \"'sterilise'\": 6885, \"'loosewomen'\": 6886, \"'unnecessary'\": 6887, \"'wopstar'\": 6888, \"'lycklig'\": 6889, \"'födelsedag'\": 6890, \"'öland'\": 6891, \"'estimated'\": 6892, \"'weed'\": 6893, \"'adams'\": 6894, \"'reaaaally'\": 6895, \"'mima'\": 6896, \"'subscrib'\": 6897, \"'anada'\": 6898, \"'stream'\": 6899, \"'overcast'\": 6900, \"'rainy'\": 6901, \"'lodge'\": 6902, \"'gea'\": 6903, \"'wahhabism'\": 6904, \"'photoeveryday'\": 6905, \"'picoftheday'\": 6906, \"'course'\": 6907, \"'blessedandgrateful'\": 6908, \"'tide'\": 6909, \"'antifa'\": 6910, \"'spectrum'\": 6911, \"'basement'\": 6912, \"'zima'\": 6913, \"'typing'\": 6914, \"'tightly'\": 6915, \"'medicate'\": 6916, \"'sardonyx'\": 6917, \"'skill'\": 6918, \"'encourage'\": 6919, \"'youaregoingdown'\": 6920, \"'candide'\": 6921, \"'bestofallpossibleworlds'\": 6922, \"'intimidated'\": 6923, \"'tingle'\": 6924, \"'incessant'\": 6925, \"'clicking'\": 6926, \"'lemar'\": 6927, \"'coy'\": 6928, \"'yoyo'\": 6929, \"'motherinlaw'\": 6930, \"'fitofrage'\": 6931, \"'donny'\": 6932, \"'jet'\": 6933, \"'numerous'\": 6934, \"'bpdproblems'\": 6935, \"'keeptalkingmh'\": 6936, \"'screenshots'\": 6937, \"'microscope'\": 6938, \"'bu'\": 6939, \"'imgonnakillya'\": 6940, \"'ballroom'\": 6941, \"'timer'\": 6942, \"'primitive'\": 6943, \"'snorted'\": 6944, \"'outtake'\": 6945, \"'duo'\": 6946, \"'prdct'\": 6947, \"'surroundings'\": 6948, \"'tutorship'\": 6949, \"'enjoyingthelastfewdays'\": 6950, \"'newchallanges'\": 6951, \"'feck'\": 6952, \"'goddess'\": 6953, \"'maltese'\": 6954, \"'sore'\": 6955, \"'ganguly'\": 6956, \"'kohli'\": 6957, \"'dada'\": 6958, \"'shld'\": 6959, \"'unforgiveness'\": 6960, \"'swiss'\": 6961, \"'dontflyba'\": 6962, \"'infatuate'\": 6963, \"'resuscitate'\": 6964, \"'routine'\": 6965, \"'mould'\": 6966, \"'undecided'\": 6967, \"'sideman'\": 6968, \"'incipient'\": 6969, \"'faggotry'\": 6970, \"'quivering'\": 6971, \"'puckering'\": 6972, \"'deepak'\": 6973, \"'chopra'\": 6974, \"'procrastinate'\": 6975, \"'derek'\": 6976, \"'humble'\": 6977, \"'oreo'\": 6978, \"'detector'\": 6979, \"'beeping'\": 6980, \"'crackmeup'\": 6981, \"'coalgate'\": 6982, \"'parliament'\": 6983, \"'mumbai'\": 6984, \"'input'\": 6985, \"'fuckfuckfuck'\": 6986, \"'lucha'\": 6987, \"'stateoforigin'\": 6988, \"'nswblues'\": 6989, \"'nsw'\": 6990, \"'cuzzo'\": 6991, \"'keepgrinding'\": 6992, \"'frogfearfriday'\": 6993, \"'nuclear'\": 6994, \"'scottishopenherochallenge'\": 6995, \"'flame'\": 6996, \"'tense'\": 6997, \"'totalsolareclipse'\": 6998, \"'glimpse'\": 6999, \"'circling'\": 7000, \"'presently'\": 7001, \"'palpitation'\": 7002, \"'merge'\": 7003, \"'volume'\": 7004, \"'marvingaye'\": 7005, \"'meangirls'\": 7006, \"'badnews'\": 7007, \"'jerrrrrr'\": 7008, \"'stab'\": 7009, \"'hehehee'\": 7010, \"'aj'\": 7011, \"'il'\": 7012, \"'vulva'\": 7013, \"'hobi'\": 7014, \"'communal'\": 7015, \"'cowardice'\": 7016, \"'hong'\": 7017, \"'kong'\": 7018, \"'lynchistan'\": 7019, \"'provication'\": 7020, \"'qualified'\": 7021, \"'gameofthones'\": 7022, \"'twiggy'\": 7023, \"'agency'\": 7024, \"'ego'\": 7025, \"'arniel'\": 7026, \"'bleep'\": 7027, \"'catnap'\": 7028, \"'khadr'\": 7029, \"'settlement'\": 7030, \"'unwillingness'\": 7031, \"'responsibility'\": 7032, \"'senate'\": 7033, \"'dealer'\": 7034, \"'jumper'\": 7035, \"'colder'\": 7036, \"'danny'\": 7037, \"'rhino'\": 7038, \"'denounce'\": 7039, \"'communalism'\": 7040, \"'fw'\": 7041, \"'neat'\": 7042, \"'slowness'\": 7043, \"'catastrophic'\": 7044, \"'fueling'\": 7045, \"'suffered'\": 7046, \"'iwanttodie'\": 7047, \"'lifewithoutcolor'\": 7048, \"'hurl'\": 7049, \"'thoughtoftheday'\": 7050, \"'multiplier'\": 7051, \"'colin'\": 7052, \"'powell'\": 7053, \"'danielhive'\": 7054, \"'republic'\": 7055, \"'patchouli'\": 7056, \"'compensate'\": 7057, \"'bigcar'\": 7058, \"'tinypenis'\": 7059, \"'roadrage'\": 7060, \"'breastfeeding'\": 7061, \"'dumbass'\": 7062, \"'douse'\": 7063, \"'cologne'\": 7064, \"'feminism'\": 7065, \"'storyline'\": 7066, \"'perish'\": 7067, \"'kindle'\": 7068, \"'meaningless'\": 7069, \"'agoraphobia'\": 7070, \"'neck'\": 7071, \"'corgi'\": 7072, \"'sunderland'\": 7073, \"'murphy'\": 7074, \"'zany'\": 7075, \"'pf'\": 7076, \"'hogan'\": 7077, \"'ohnowhatisyoudoingbaby'\": 7078, \"'central'\": 7079, \"'accom'\": 7080, \"'plse'\": 7081, \"'lone'\": 7082, \"'gal'\": 7083, \"'taxis'\": 7084, \"'loveislove'\": 7085, \"'an'\": 7086, \"'afrd'\": 7087, \"'stpng'\": 7088, \"'wn'\": 7089, \"'whol'\": 7090, \"'stndng'\": 7091, \"'unsubstantiated'\": 7092, \"'filter'\": 7093, \"'canwegetaghostfilter'\": 7094, \"'ghostfilter'\": 7095, \"'retweet'\": 7096, \"'anthracite'\": 7097, \"'worthwhile'\": 7098, \"'victoria'\": 7099, \"'bognor'\": 7100, \"'southernfail'\": 7101, \"'que'\": 7102, \"'knowledgeable'\": 7103, \"'behold'\": 7104, \"'objectivity'\": 7105, \"'empathy'\": 7106, \"'thoughtfulness'\": 7107, \"'mea'\": 7108, \"'johnny'\": 7109, \"'tcmparty'\": 7110, \"'freddie'\": 7111, \"'unnerved'\": 7112, \"'ninjawarriorau'\": 7113, \"'lakshmi'\": 7114, \"'sophisticated'\": 7115, \"'snoopy'\": 7116, \"'feeel'\": 7117, \"'naughty'\": 7118, \"'naughymind'\": 7119, \"'moveon'\": 7120, \"'archive'\": 7121, \"'strikeforce'\": 7122, \"'ronda'\": 7123, \"'rousey'\": 7124, \"'mayhemmiller'\": 7125, \"'rondarousey'\": 7126, \"'canalside'\": 7127, \"'htafc'\": 7128, \"'unleash'\": 7129, \"'hiatus'\": 7130, \"'afshdkflckakdbwi'\": 7131, \"'yessss'\": 7132, \"'epi'\": 7133, \"'frigging'\": 7134, \"'hamez'\": 7135, \"'nan'\": 7136, \"'hayworth'\": 7137, \"'jungkook'\": 7138, \"'cutest'\": 7139, \"'dodgy'\": 7140, \"'fringe'\": 7141, \"'nophotos'\": 7142, \"'thankgoodness'\": 7143, \"'betterblonde'\": 7144, \"'robert'\": 7145, \"'solidarity'\": 7146, \"'hinduphobic'\": 7147, \"'legitimacy'\": 7148, \"'croydonparkhotel'\": 7149, \"'worseservice'\": 7150, \"'rudestaff'\": 7151, \"'readytodrive'\": 7152, \"'corin'\": 7153, \"'tucker'\": 7154, \"'rem'\": 7155, \"'waahhhhh'\": 7156, \"'june'\": 7157, \"'riddace'\": 7158, \"'charles'\": 7159, \"'plt'\": 7160, \"'biryani'\": 7161, \"'yum'\": 7162, \"'ddlg'\": 7163, \"'abdl'\": 7164, \"'chgl'\": 7165, \"'sakura'\": 7166, \"'restlessness'\": 7167, \"'jocelyn'\": 7168, \"'alice'\": 7169, \"'rendition'\": 7170, \"'allstargame'\": 7171, \"'dani'\": 7172, \"'alves'\": 7173, \"'psg'\": 7174, \"'coal'\": 7175, \"'miner'\": 7176, \"'union'\": 7177, \"'cyberattacks'\": 7178, \"'bizman'\": 7179, \"'becos'\": 7180, \"'su'\": 7181, \"'shun'\": 7182, \"'wildcat'\": 7183, \"'dre'\": 7184, \"'overlook'\": 7185, \"'swindon'\": 7186, \"'bleak'\": 7187, \"'blister'\": 7188, \"'sandal'\": 7189, \"'barefoot'\": 7190, \"'youre'\": 7191, \"'libertyseeds'\": 7192, \"'lizcrokin'\": 7193, \"'maga'\": 7194, \"'cersei'\": 7195, \"'jordan'\": 7196, \"'arya'\": 7197, \"'homyghad'\": 7198, \"'daniel'\": 7199, \"'smdh'\": 7200, \"'worstvet'\": 7201, \"'litter'\": 7202, \"'srsly'\": 7203, \"'lyt'\": 7204, \"'aswell'\": 7205, \"'shameless'\": 7206, \"'den'\": 7207, \"'realtalk'\": 7208, \"'speakin'\": 7209, \"'equalise'\": 7210, \"'raucous'\": 7211, \"'applause'\": 7212, \"'pd'\": 7213, \"'radicalization'\": 7214, \"'hysterical'\": 7215, \"'clerk'\": 7216, \"'laughoutloud'\": 7217, \"'cozart'\": 7218, \"'cincysports'\": 7219, \"'drawer'\": 7220, \"'mico'\": 7221, \"'chan'\": 7222, \"'girlswithdreads'\": 7223, \"'donkey'\": 7224, \"'watson'\": 7225, \"'motivationalquote'\": 7226, \"'stephenhawking'\": 7227, \"'emojis'\": 7228, \"'inners'\": 7229, \"'seeker'\": 7230, \"'uhlmann'\": 7231, \"'arouse'\": 7232, \"'clipper'\": 7233, \"'lyftnow'\": 7234, \"'jalepenos'\": 7235, \"'lawyered'\": 7236, \"'skull'\": 7237, \"'spatter'\": 7238, \"'stain'\": 7239, \"'terminate'\": 7240, \"'bratty'\": 7241, \"'infantile'\": 7242, \"'resurrection'\": 7243, \"'sideshow'\": 7244, \"'collectible'\": 7245, \"'abomination'\": 7246, \"'reform'\": 7247, \"'rac'\": 7248, \"'bigapple'\": 7249, \"'njtransit'\": 7250, \"'khakis'\": 7251, \"'whiteshirt'\": 7252, \"'maybeblue'\": 7253, \"'brownshoes'\": 7254, \"'macys'\": 7255, \"'jealousyet'\": 7256, \"'bbs'\": 7257, \"'shave'\": 7258, \"'showerthoughts'\": 7259, \"'baleno'\": 7260, \"'servicing'\": 7261, \"'buying'\": 7262, \"'strapless'\": 7263, \"'hough'\": 7264, \"'headphone'\": 7265, \"'hardly'\": 7266, \"'carlsbad'\": 7267, \"'rouladen'\": 7268, \"'getdtl'\": 7269, \"'ldnont'\": 7270, \"'chaucer'\": 7271, \"'marienbad'\": 7272, \"'shutthefuckup'\": 7273, \"'fart'\": 7274, \"'yass'\": 7275, \"'splendid'\": 7276, \"'isolation'\": 7277, \"'quake'\": 7278, \"'cleo'\": 7279, \"'mk'\": 7280, \"'mirthful'\": 7281, \"'lovetosavemoney'\": 7282, \"'manarino'\": 7283, \"'afterwards'\": 7284, \"'superpower'\": 7285, \"'palette'\": 7286, \"'pleasantly'\": 7287, \"'kissmarc'\": 7288, \"'heated'\": 7289, \"'thailand'\": 7290, \"'exploit'\": 7291, \"'goodyear'\": 7292, \"'slurpee'\": 7293, \"'appt'\": 7294, \"'wuts'\": 7295, \"'rite'\": 7296, \"'amazonprimeday'\": 7297, \"'broke'\": 7298, \"'uncontrollably'\": 7299, \"'bandwidth'\": 7300, \"'reedemed'\": 7301, \"'elimination'\": 7302, \"'mahoney'\": 7303, \"'roadtomahoney'\": 7304, \"'horrifying'\": 7305, \"'crystal'\": 7306, \"'loveisland'\": 7307, \"'passionate'\": 7308, \"'narendra'\": 7309, \"'manmohan'\": 7310, \"'singh'\": 7311, \"'quicken'\": 7312, \"'unbearable'\": 7313, \"'recommend'\": 7314, \"'scalp'\": 7315, \"'parting'\": 7316, \"'heeeeeey'\": 7317, \"'shilaaang'\": 7318, \"'nashville'\": 7319, \"'tikka'\": 7320, \"'masala'\": 7321, \"'cauliflower'\": 7322, \"'pea'\": 7323, \"'tweeter'\": 7324, \"'appreciated'\": 7325, \"'monsterbrawl'\": 7326, \"'needtobefined'\": 7327, \"'sand'\": 7328, \"'reagan'\": 7329, \"'unlike'\": 7330, \"'democrap'\": 7331, \"'obstruct'\": 7332, \"'rif'\": 7333, \"'chateaubriand'\": 7334, \"'gravedigger'\": 7335, \"'groundhog'\": 7336, \"'blink'\": 7337, \"'kjdsahk'\": 7338, \"'ty'\": 7339, \"'savage'\": 7340, \"'prof'\": 7341, \"'sole'\": 7342, \"'abraham'\": 7343, \"'lincoln'\": 7344, \"'nonresistance'\": 7345, \"'coming'\": 7346, \"'bluetick'\": 7347, \"'imprisonment'\": 7348, \"'socialist'\": 7349, \"'iv'\": 7350, \"'filmming'\": 7351, \"'actorslife'\": 7352, \"'actresslife'\": 7353, \"'actress'\": 7354, \"'ken'\": 7355, \"'lefty'\": 7356, \"'propagandist'\": 7357, \"'gleeforever'\": 7358, \"'dreamscometrue'\": 7359, \"'dontstopbelieving'\": 7360, \"'gleecast'\": 7361, \"'awareness'\": 7362, \"'thurber'\": 7363, \"'pang'\": 7364, \"'firstlove'\": 7365, \"'lovehurts'\": 7366, \"'nit'\": 7367, \"'manu'\": 7368, \"'stride'\": 7369, \"'spec'\": 7370, \"'goodevening'\": 7371, \"'crockpot'\": 7372, \"'getinmybelly'\": 7373, \"'kashmiriyat'\": 7374, \"'minister'\": 7375, \"'spokesman'\": 7376, \"'weigh'\": 7377, \"'ee'\": 7378, \"'impressed'\": 7379, \"'password'\": 7380, \"'merkel'\": 7381, \"'bid'\": 7382, \"'disrespecter'\": 7383, \"'journal'\": 7384, \"'dishwasher'\": 7385, \"'await'\": 7386, \"'th'\": 7387, \"'ironic'\": 7388, \"'scandalous'\": 7389, \"'altontowers'\": 7390, \"'psycologists'\": 7391, \"'defendant'\": 7392, \"'methadone'\": 7393, \"'swansmags'\": 7394, \"'indie'\": 7395, \"'devs'\": 7396, \"'macron'\": 7397, \"'clarity'\": 7398, \"'liberallogic'\": 7399, \"'roach'\": 7400, \"'digitaltechnology'\": 7401, \"'rodeo'\": 7402, \"'gale'\": 7403, \"'moi'\": 7404, \"'jkjk'\": 7405, \"'justajoke'\": 7406, \"'sicknotweak'\": 7407, \"'kodak'\": 7408, \"'ihatetuesdays'\": 7409, \"'ffffff'\": 7410, \"'astounded'\": 7411, \"'narrator'\": 7412, \"'octopi'\": 7413, \"'congressman'\": 7414, \"'repealandreplace'\": 7415, \"'healthcare'\": 7416, \"'personalassistant'\": 7417, \"'interestingly'\": 7418, \"'repchriscollins'\": 7419, \"'whitesupremacists'\": 7420, \"'goodpeople'\": 7421, \"'honer'\": 7422, \"'cory'\": 7423, \"'monteith'\": 7424, \"'hundson'\": 7425, \"'wath'\": 7426, \"'corymonteith'\": 7427, \"'gleam'\": 7428, \"'maymac'\": 7429, \"'wembley'\": 7430, \"'familiar'\": 7431, \"'theearlyshow'\": 7432, \"'bby'\": 7433, \"'kokobop'\": 7434, \"'exo'\": 7435, \"'singapore'\": 7436, \"'accompany'\": 7437, \"'afridi'\": 7438, \"'medal'\": 7439, \"'innuendo'\": 7440, \"'smearing'\": 7441, \"'famjam'\": 7442, \"'recipe'\": 7443, \"'kara'\": 7444, \"'dragonsonthewall'\": 7445, \"'더쇼'\": 7446, \"'니가하면'\": 7447, \"'rthrc'\": 7448, \"'ifyoudo'\": 7449, \"'treeq'\": 7450, \"'prematurely'\": 7451, \"'vienna'\": 7452, \"'ghassemlou'\": 7453, \"'iran'\": 7454, \"'twitterkurds'\": 7455, \"'pi'\": 7456, \"'brokenheart'\": 7457, \"'effort'\": 7458, \"'fucknugget'\": 7459, \"'deserved'\": 7460, \"'floyd'\": 7461, \"'temperature'\": 7462, \"'firsttimemum'\": 7463, \"'firsttimemom'\": 7464, \"'sickbaby'\": 7465, \"'minecraft'\": 7466, \"'bret'\": 7467, \"'ily'\": 7468, \"'disrespect'\": 7469, \"'solitary'\": 7470, \"'retreat'\": 7471, \"'unlucky'\": 7472, \"'tendency'\": 7473, \"'nite'\": 7474, \"'thag'\": 7475, \"'professional'\": 7476, \"'gambler'\": 7477, \"'wager'\": 7478, \"'superhero'\": 7479, \"'introvert'\": 7480, \"'plumbing'\": 7481, \"'thecatsandiarehiding'\": 7482, \"'miguel'\": 7483, \"'bossbaby'\": 7484, \"'wizard'\": 7485, \"'lotr'\": 7486, \"'ease'\": 7487, \"'hardship'\": 7488, \"'democratic'\": 7489, \"'australianninjawarrior'\": 7490, \"'laughingsohard'\": 7491, \"'dnc'\": 7492, \"'ukrainecollusion'\": 7493, \"'hahahahahahahah'\": 7494, \"'newmarket'\": 7495, \"'mildred'\": 7496, \"'peraon'\": 7497, \"'summary'\": 7498, \"'phoenixprotests'\": 7499, \"'phoenixrally'\": 7500, \"'swag'\": 7501, \"'guide'\": 7502, \"'neopet'\": 7503, \"'harrison'\": 7504, \"'ford'\": 7505, \"'krispy'\": 7506, \"'kreme'\": 7507, \"'museum'\": 7508, \"'stratford'\": 7509, \"'sebastiangorka'\": 7510, \"'unwatchable'\": 7511, \"'despicable'\": 7512, \"'nothuman'\": 7513, \"'vomitinducing'\": 7514, \"'ensues'\": 7515, \"'unsettling'\": 7516, \"'conquer'\": 7517, \"'nook'\": 7518, \"'provenance'\": 7519, \"'perceive'\": 7520, \"'treatment'\": 7521, \"'antonio'\": 7522, \"'conte'\": 7523, \"'lukaku'\": 7524, \"'rodriguez'\": 7525, \"'scotland'\": 7526, \"'koran'\": 7527, \"'halal'\": 7528, \"'negotiation'\": 7529, \"'qpr'\": 7530, \"'legging'\": 7531, \"'infj'\": 7532, \"'verifiable'\": 7533, \"'methinks'\": 7534, \"'amarnath'\": 7535, \"'yatra'\": 7536, \"'graf'\": 7537, \"'weep'\": 7538, \"'rib'\": 7539, \"'spinal'\": 7540, \"'cord'\": 7541, \"'christy'\": 7542, \"'marvel'\": 7543, \"'reprogram'\": 7544, \"'dimity'\": 7545, \"'frock'\": 7546, \"'polly'\": 7547, \"'shaw'\": 7548, \"'cbgb'\": 7549, \"'biwott'\": 7550, \"'alyssa'\": 7551, \"'ivanka'\": 7552, \"'ato'\": 7553, \"'privacylaws'\": 7554, \"'approval'\": 7555, \"'pokémon'\": 7556, \"'concede'\": 7557, \"'awoke'\": 7558, \"'unicode'\": 7559, \"'normalization'\": 7560, \"'matlakala'\": 7561, \"'invent'\": 7562, \"'kidfood'\": 7563, \"'chickennuggets'\": 7564, \"'bi'\": 7565, \"'gaysnap'\": 7566, \"'hornysnap'\": 7567, \"'snapchatgay'\": 7568, \"'snapchathorny'\": 7569, \"'gaysnapchat'\": 7570, \"'hornysnapchat'\": 7571, \"'snapgay'\": 7572, \"'hence'\": 7573, \"'drove'\": 7574, \"'malia'\": 7575, \"'kyle'\": 7576, \"'tyler'\": 7577, \"'closet'\": 7578, \"'chromecast'\": 7579, \"'macbooks'\": 7580, \"'manslaughter'\": 7581, \"'thathorriblesuicidegame'\": 7582, \"'sosick'\": 7583, \"'killingme'\": 7584, \"'frick'\": 7585, \"'lovin'\": 7586, \"'portrayal'\": 7587, \"'rancher'\": 7588, \"'climb'\": 7589, \"'peedalittle'\": 7590, \"'galaxy'\": 7591, \"'eatery'\": 7592, \"'nonstoplies'\": 7593, \"'dieinginhere'\": 7594, \"'suceed'\": 7595, \"'boredtodeath'\": 7596, \"'snapsex'\": 7597, \"'chaud'\": 7598, \"'blueberry'\": 7599, \"'kc'\": 7600, \"'diagnose'\": 7601, \"'illness'\": 7602, \"'ailment'\": 7603, \"'chemist'\": 7604, \"'guest'\": 7605, \"'enjoyable'\": 7606, \"'slight'\": 7607, \"'ssbola'\": 7608, \"'fighter'\": 7609, \"'gatekeeper'\": 7610, \"'ufc'\": 7611, \"'jonjones'\": 7612, \"'kanna'\": 7613, \"'jay'\": 7614, \"'z'\": 7615, \"'ure'\": 7616, \"'covertly'\": 7617, \"'punishment'\": 7618, \"'fujoshi'\": 7619, \"'thisisntmyjob'\": 7620, \"'gravity'\": 7621, \"'junior'\": 7622, \"'fuckup'\": 7623, \"'eyeball'\": 7624, \"'irreparableharm'\": 7625, \"'transport'\": 7626, \"'twohourwait'\": 7627, \"'nohelp'\": 7628, \"'import'\": 7629, \"'japan'\": 7630, \"'webster'\": 7631, \"'introductory'\": 7632, \"'momonfire'\": 7633, \"'banal'\": 7634, \"'tennis'\": 7635, \"'donjr'\": 7636, \"'robgoldstoneemail'\": 7637, \"'element'\": 7638, \"'annie'\": 7639, \"'balsamic'\": 7640, \"'bighearted'\": 7641, \"'jalf'\": 7642, \"'unafraid'\": 7643, \"'reader'\": 7644, \"'interpreter'\": 7645, \"'teo'\": 7646, \"'les'\": 7647, \"'unrelated'\": 7648, \"'crème'\": 7649, \"'fraîche'\": 7650, \"'randy'\": 7651, \"'obsession'\": 7652, \"'rejoin'\": 7653, \"'bane'\": 7654, \"'teary'\": 7655, \"'downfall'\": 7656, \"'tiring'\": 7657, \"'fort'\": 7658, \"'location'\": 7659, \"'badservice'\": 7660, \"'negatively'\": 7661, \"'guptas'\": 7662, \"'pouch'\": 7663, \"'healthy'\": 7664, \"'sunglass'\": 7665, \"'evacuation'\": 7666, \"'alert'\": 7667, \"'development'\": 7668, \"'forecast'\": 7669, \"'wot'\": 7670, \"'oo'\": 7671, \"'uncomfortable'\": 7672, \"'unfailing'\": 7673, \"'homeless'\": 7674, \"'louis'\": 7675, \"'gobrowns'\": 7676, \"'gliese'\": 7677, \"'enable'\": 7678, \"'reanimate'\": 7679, \"'saul'\": 7680, \"'leak'\": 7681, \"'panelist'\": 7682, \"'lnp'\": 7683, \"'hypocrite'\": 7684, \"'mamon'\": 7685, \"'wh'\": 7686, \"'nationality'\": 7687, \"'harden'\": 7688, \"'temptation'\": 7689, \"'wilderness'\": 7690, \"'kjv'\": 7691, \"'binge'\": 7692, \"'obsess'\": 7693, \"'kirks'\": 7694, \"'lhhreunion'\": 7695, \"'akp'\": 7696, \"'tsk'\": 7697, \"'ncaa'\": 7698, \"'committee'\": 7699, \"'poly'\": 7700, \"'whr'\": 7701, \"'relax'\": 7702, \"'abit'\": 7703, \"'tutorial'\": 7704, \"'tonne'\": 7705, \"'ergh'\": 7706, \"'andnervous'\": 7707, \"'manoeuvre'\": 7708, \"'colorfabb'\": 7709, \"'ngen'\": 7710, \"'filament'\": 7711, \"'fragile'\": 7712, \"'legged'\": 7713, \"'sample'\": 7714, \"'articulate'\": 7715, \"'render'\": 7716, \"'mnuchinwife'\": 7717, \"'louiselinton'\": 7718, \"'artistic'\": 7719, \"'baywatch'\": 7720, \"'friggin'\": 7721, \"'delightful'\": 7722, \"'pnc'\": 7723, \"'goingforit'\": 7724, \"'trek'\": 7725, \"'gobble'\": 7726, \"'caroline'\": 7727, \"'whinging'\": 7728, \"'unlikeable'\": 7729, \"'smarta'\": 7730, \"'farrah'\": 7731, \"'dr'\": 7732, \"'drew'\": 7733, \"'teenmomog'\": 7734, \"'firefighter'\": 7735, \"'harassment'\": 7736, \"'nifrs'\": 7737, \"'whatsupwiththat'\": 7738, \"'adidas'\": 7739, \"'suppress'\": 7740, \"'oliver'\": 7741, \"'viewer'\": 7742, \"'fcc'\": 7743, \"'laborious'\": 7744, \"'toothache'\": 7745, \"'phobia'\": 7746, \"'poke'\": 7747, \"'grillby'\": 7748, \"'imwearingyourshirt'\": 7749, \"'humbleandkind'\": 7750, \"'timmcgraw'\": 7751, \"'wqmx'\": 7752, \"'feeble'\": 7753, \"'saint'\": 7754, \"'oswald'\": 7755, \"'tyranny'\": 7756, \"'jefferson'\": 7757, \"'pendeja'\": 7758, \"'sensible'\": 7759, \"'parnab'\": 7760, \"'fucк'\": 7761, \"'womensbodies'\": 7762, \"'xxx'\": 7763, \"'doug'\": 7764, \"'beattie'\": 7765, \"'afghan'\": 7766, \"'oval'\": 7767, \"'dumbasastick'\": 7768, \"'whipped'\": 7769, \"'dust'\": 7770, \"'matcha'\": 7771, \"'straw'\": 7772, \"'andy'\": 7773, \"'rd'\": 7774, \"'atp'\": 7775, \"'amaranthyatra'\": 7776, \"'shamless'\": 7777, \"'activity'\": 7778, \"'accountable'\": 7779, \"'florida'\": 7780, \"'turkey'\": 7781, \"'tetri'\": 7782, \"'awkwardorgy'\": 7783, \"'occupational'\": 7784, \"'blah'\": 7785, \"'tstsststsststss'\": 7786, \"'ttv'\": 7787, \"'aiadmkmerger'\": 7788, \"'honest'\": 7789, \"'layout'\": 7790, \"'coma'\": 7791, \"'correct'\": 7792, \"'pinot'\": 7793, \"'grigio'\": 7794, \"'makingamericastupid'\": 7795, \"'tored'\": 7796, \"'shitshow'\": 7797, \"'specs'\": 7798, \"'fowl'\": 7799, \"'wordsofwisdom'\": 7800, \"'karaoke'\": 7801, \"'britney'\": 7802, \"'kyadondo'\": 7803, \"'loved'\": 7804, \"'hahahahahhahahahaahgahaha'\": 7805, \"'geraldo'\": 7806, \"'effortless'\": 7807, \"'intelligent'\": 7808, \"'entertainment'\": 7809, \"'fabulous'\": 7810, \"'hugely'\": 7811, \"'lucrative'\": 7812, \"'praisefox'\": 7813, \"'lee'\": 7814, \"'jaewon'\": 7815, \"'grill'\": 7816, \"'halibut'\": 7817, \"'basil'\": 7818, \"'crust'\": 7819, \"'lobster'\": 7820, \"'coulis'\": 7821, \"'seafood'\": 7822, \"'sniff'\": 7823, \"'yer'\": 7824, \"'vatican'\": 7825, \"'orgy'\": 7826, \"'getyourchequebookoutchairman'\": 7827, \"'ant'\": 7828, \"'iammommabearhearmeroar'\": 7829, \"'happens'\": 7830, \"'nodered'\": 7831, \"'iot'\": 7832, \"'sunshinecoast'\": 7833, \"'mechwarrioronline'\": 7834, \"'treason'\": 7835, \"'boatload'\": 7836, \"'snapper'\": 7837, \"'mackerel'\": 7838, \"'aransas'\": 7839, \"'fish'\": 7840, \"'feast'\": 7841, \"'ang'\": 7842, \"'ni'\": 7843, \"'viserion'\": 7844, \"'stresseating'\": 7845, \"'massage'\": 7846, \"'prudencemabele'\": 7847, \"'afrifem'\": 7848, \"'alistairburtuk'\": 7849, \"'dfid'\": 7850, \"'fcoqs'\": 7851, \"'mystic'\": 7852, \"'messenger'\": 7853, \"'angst'\": 7854, \"'mysticmessenger'\": 7855, \"'statistic'\": 7856, \"'preemptive'\": 7857, \"'photoshopped'\": 7858, \"'chanbaek'\": 7859, \"'lea'\": 7860, \"'tragic'\": 7861, \"'nunna'\": 7862, \"'siwon'\": 7863, \"'amanda'\": 7864, \"'coker'\": 7865, \"'bicycling'\": 7866, \"'amandacoker'\": 7867, \"'capital'\": 7868, \"'fried'\": 7869, \"'frie'\": 7870, \"'butheremails'\": 7871, \"'kremlin'\": 7872, \"'iron'\": 7873, \"'coat'\": 7874, \"'follo'\": 7875, \"'mcnabb'\": 7876, \"'rhythm'\": 7877, \"'talkstoomuch'\": 7878, \"'adoption'\": 7879, \"'exposure'\": 7880, \"'adopter'\": 7881, \"'warehouse'\": 7882, \"'concrete'\": 7883, \"'相互フォロー'\": 7884, \"'figuremeout'\": 7885, \"'promila'\": 7886, \"'aunty'\": 7887, \"'nest'\": 7888, \"'toxic'\": 7889, \"'methane'\": 7890, \"'backtrack'\": 7891, \"'china'\": 7892, \"'vienesse'\": 7893, \"'whirl'\": 7894, \"'cameroon'\": 7895, \"'mosul'\": 7896, \"'libya'\": 7897, \"'egypt'\": 7898, \"'sinai'\": 7899, \"'feheroes'\": 7900, \"'unit'\": 7901, \"'flippin'\": 7902, \"'substitute'\": 7903, \"'chunk'\": 7904, \"'antarctic'\": 7905, \"'wale'\": 7906, \"'airports'\": 7907, \"'gcc'\": 7908, \"'bholenath'\": 7909, \"'ne'\": 7910, \"'apna'\": 7911, \"'gussa'\": 7912, \"'toh'\": 7913, \"'nikaalna'\": 7914, \"'hai'\": 7915, \"'ragegrafix'\": 7916, \"'whitewalkers'\": 7917, \"'hmmmm'\": 7918, \"'donaldtrumpjr'\": 7919, \"'mtg'\": 7920, \"'trumpdossier'\": 7921, \"'blackmail'\": 7922, \"'putinspuppet'\": 7923, \"'ludlow'\": 7924, \"'unrealistic'\": 7925, \"'yuko'\": 7926, \"'known'\": 7927, \"'dimply'\": 7928, \"'squirrel'\": 7929, \"'oshimayuko'\": 7930, \"'playground'\": 7931, \"'stupidreasonstousetimetravel'\": 7932, \"'gethelp'\": 7933, \"'kask'\": 7934, \"'aero'\": 7935, \"'helmet'\": 7936, \"'healthandsafety'\": 7937, \"'solána'\": 7938, \"'closed'\": 7939, \"'sperm'\": 7940, \"'couch'\": 7941, \"'soros'\": 7942, \"'filled'\": 7943, \"'killerspresale'\": 7944, \"'brandkrk'\": 7945, \"'helpless'\": 7946, \"'shameonbhakts'\": 7947, \"'audacity'\": 7948, \"'rampant'\": 7949, \"'lulu'\": 7950, \"'abuser'\": 7951, \"'monitor'\": 7952, \"'pc'\": 7953, \"'longing'\": 7954, \"'gamers'\": 7955, \"'penguin'\": 7956, \"'ocean'\": 7957, \"'reef'\": 7958, \"'amirighttho'\": 7959, \"'pagod'\": 7960, \"'inexplicably'\": 7961, \"'impenetrable'\": 7962, \"'kms'\": 7963, \"'wink'\": 7964, \"'crushing'\": 7965, \"'dejected'\": 7966, \"'paypal'\": 7967, \"'helpmeout'\": 7968, \"'helpme'\": 7969, \"'isaiah'\": 7970, \"'ireland'\": 7971, \"'delaney'\": 7972, \"'chad'\": 7973, \"'sarah'\": 7974, \"'ngi'\": 7975, \"'iloveyou'\": 7976, \"'layoff'\": 7977, \"'rewatched'\": 7978, \"'gravityfalls'\": 7979, \"'fanboying'\": 7980, \"'yeahscience'\": 7981, \"'mornin'\": 7982, \"'phantom'\": 7983, \"'hottie'\": 7984, \"'therefore'\": 7985, \"'aside'\": 7986, \"'jeremyvine'\": 7987, \"'tediously'\": 7988, \"'mekka'\": 7989, \"'madina'\": 7990, \"'dikling'\": 7991, \"'comical'\": 7992, \"'negotiate'\": 7993, \"'rand'\": 7994, \"'grabbing'\": 7995, \"'diabolical'\": 7996, \"'sized'\": 7997, \"'eunice'\": 7998, \"'disrespectful'\": 7999, \"'thrown'\": 8000, \"'batter'\": 8001, \"'frangipani'\": 8002, \"'motherfucking'\": 8003, \"'biggestcrybabyinhistory'\": 8004, \"'fogging'\": 8005, \"'bpe'\": 8006, \"'hypothetically'\": 8007, \"'unasked'\": 8008, \"'unanswered'\": 8009, \"'grandparent'\": 8010, \"'myroots'\": 8011, \"'abuelitos'\": 8012, \"'fabinho'\": 8013, \"'cultural'\": 8014, \"'credibility'\": 8015, \"'merciful'\": 8016, \"'mlballstargame'\": 8017, \"'wrongnotes'\": 8018, \"'outoftune'\": 8019, \"'seldom'\": 8020, \"'protector'\": 8021, \"'sleeper'\": 8022, \"'willtnt'\": 8023, \"'missedyou'\": 8024, \"'arena'\": 8025, \"'seas'\": 8026, \"'ń'\": 8027, \"'ilovejesus'\": 8028, \"'struck'\": 8029, \"'presence'\": 8030, \"'ninnukori'\": 8031, \"'thor'\": 8032, \"'puny'\": 8033, \"'endangered'\": 8034, \"'specie'\": 8035, \"'rewrite'\": 8036, \"'servant'\": 8037, \"'hughes'\": 8038, \"'shone'\": 8039, \"'seduction'\": 8040, \"'discreet'\": 8041, \"'frankly'\": 8042, \"'yip'\": 8043, \"'coz'\": 8044, \"'huffy'\": 8045, \"'chubby'\": 8046, \"'friendsforever'\": 8047, \"'mothafuckas'\": 8048, \"'summarize'\": 8049, \"'aman'\": 8050, \"'norwood'\": 8051, \"'field'\": 8052, \"'resource'\": 8053, \"'php'\": 8054, \"'promo'\": 8055, \"'titanic'\": 8056, \"'mtpdaily'\": 8057, \"'umm'\": 8058, \"'ifeelyourpain'\": 8059, \"'notmypresident'\": 8060, \"'humanist'\": 8061, \"'sailor'\": 8062, \"'isnt'\": 8063, \"'vegetable'\": 8064, \"'urbanfarm'\": 8065, \"'popular'\": 8066, \"'etsy'\": 8067, \"'handmadehour'\": 8068, \"'djkhaled'\": 8069, \"'comp'\": 8070, \"'trumpofhiphop'\": 8071, \"'darling'\": 8072, \"'hubbie'\": 8073, \"'shocked'\": 8074, \"'sosad'\": 8075, \"'karamadai'\": 8076, \"'ranganatha'\": 8077, \"'pallikondeeswarar'\": 8078, \"'shiva'\": 8079, \"'avl'\": 8080, \"'maria'\": 8081, \"'chili'\": 8082, \"'powder'\": 8083, \"'cinnamon'\": 8084, \"'endoftheworld'\": 8085, \"'dontleaveusjustyet'\": 8086, \"'inequity'\": 8087, \"'irrational'\": 8088, \"'vendor'\": 8089, \"'emigrate'\": 8090, \"'worstgovernmentever'\": 8091, \"'quad'\": 8092, \"'bandit'\": 8093, \"'cubs'\": 8094, \"'organist'\": 8095, \"'miz'\": 8096, \"'flourishing'\": 8097, \"'justtattooofus'\": 8098, \"'empowering'\": 8099, \"'ache'\": 8100, \"'noisy'\": 8101, \"'norespect'\": 8102, \"'bigbuilding'\": 8103, \"'killinginthenameof'\": 8104, \"'anxiousness'\": 8105, \"'doglovers'\": 8106, \"'cyclist'\": 8107, \"'cussing'\": 8108, \"'charm'\": 8109, \"'bulwell'\": 8110, \"'saddens'\": 8111, \"'twist'\": 8112, \"'alway'\": 8113, \"'faketweets'\": 8114, \"'tuned'\": 8115, \"'stagefright'\": 8116, \"'taffia'\": 8117, \"'knife'\": 8118, \"'chang'\": 8119, \"'waela'\": 8120, \"'lotha'\": 8121, \"'ligrr'\": 8122, \"'npd'\": 8123, \"'sling'\": 8124, \"'cocky'\": 8125, \"'pmdd'\": 8126, \"'trumprally'\": 8127, \"'divisive'\": 8128, \"'incoherent'\": 8129, \"'arizonan'\": 8130, \"'sincerely'\": 8131, \"'hetero'\": 8132, \"'decider'\": 8133, \"'gandhi'\": 8134, \"'genuine'\": 8135, \"'emojimovie'\": 8136, \"'midnightpremeire'\": 8137, \"'comey'\": 8138, \"'ghd'\": 8139, \"'straighter'\": 8140, \"'skyq'\": 8141, \"'majka'\": 8142, \"'theappledoesntfallfarfromthetree'\": 8143, \"'cbbfinal'\": 8144, \"'mccain'\": 8145, \"'isto'\": 8146, \"'plague'\": 8147, \"'unlawful'\": 8148, \"'aim'\": 8149, \"'snatch'\": 8150, \"'beanie'\": 8151, \"'ukvi'\": 8152, \"'exorbitant'\": 8153, \"'prestige'\": 8154, \"'nothingburgers'\": 8155, \"'foaming'\": 8156, \"'colleague'\": 8157, \"'lisbon'\": 8158, \"'omegaflightstore'\": 8159, \"'length'\": 8160, \"'gnawing'\": 8161, \"'produce'\": 8162, \"'jeer'\": 8163, \"'brit'\": 8164, \"'milestone'\": 8165, \"'demario'\": 8166, \"'allegation'\": 8167, \"'sexualassault'\": 8168, \"'kay'\": 8169, \"'miamibryce'\": 8170, \"'dak'\": 8171, \"'prescott'\": 8172, \"'asg'\": 8173, \"'grippedbyfear'\": 8174, \"'fearfearfear'\": 8175, \"'rba'\": 8176, \"'pero'\": 8177, \"'ga'\": 8178, \"'hum'\": 8179, \"'overprice'\": 8180, \"'harlow'\": 8181, \"'passive'\": 8182, \"'smoker'\": 8183, \"'cig'\": 8184, \"'packet'\": 8185, \"'sadthought'\": 8186, \"'dismayed'\": 8187, \"'ignominious'\": 8188, \"'digital'\": 8189, \"'ikr'\": 8190, \"'mentor'\": 8191, \"'laughing'\": 8192, \"'annoying'\": 8193, \"'introvertproblems'\": 8194, \"'cress'\": 8195, \"'thorne'\": 8196, \"'lunar'\": 8197, \"'chronicle'\": 8198, \"'arc'\": 8199, \"'row'\": 8200, \"'whatpart'\": 8201, \"'moist'\": 8202, \"'shitservice'\": 8203, \"'niece'\": 8204, \"'inlaw'\": 8205, \"'wallofsilence'\": 8206, \"'casper'\": 8207, \"'wyoming'\": 8208, \"'totality'\": 8209, \"'ostrogoth'\": 8210, \"'coon'\": 8211, \"'blackhatematters'\": 8212, \"'gh'\": 8213, \"'jason'\": 8214, \"'sonny'\": 8215, \"'billymiller'\": 8216, \"'hpe'\": 8217, \"'orufreshmenadvice'\": 8218, \"'summertime'\": 8219, \"'vindictive'\": 8220, \"'refill'\": 8221, \"'desert'\": 8222, \"'lazysis'\": 8223, \"'moody'\": 8224, \"'taxpayer'\": 8225, \"'waisted'\": 8226, \"'alarmclock'\": 8227, \"'zion'\": 8228, \"'picky'\": 8229, \"'finance'\": 8230, \"'nigeria'\": 8231, \"'incriminate'\": 8232, \"'felony'\": 8233, \"'poncho'\": 8234, \"'siward'\": 8235, \"'blunt'\": 8236, \"'macduffwasgoing'\": 8237, \"'publication'\": 8238, \"'riley'\": 8239, \"'finalgirls'\": 8240, \"'homeland'\": 8241, \"'gibraltar'\": 8242, \"'tale'\": 8243, \"'foretelling'\": 8244, \"'religious'\": 8245, \"'inuit'\": 8246, \"'roswell'\": 8247, \"'montrezl'\": 8248, \"'harrell'\": 8249, \"'meteorologist'\": 8250, \"'darkerside'\": 8251, \"'wasteoftime'\": 8252, \"'printing'\": 8253, \"'meniscus'\": 8254, \"'maniacal'\": 8255, \"'reasoning'\": 8256, \"'depressionawareness'\": 8257, \"'jurono'\": 8258, \"'hooked'\": 8259, \"'cantturnitoff'\": 8260, \"'susceptible'\": 8261, \"'dub'\": 8262, \"'weightlift'\": 8263, \"'poorly'\": 8264, \"'elle'\": 8265, \"'perverse'\": 8266, \"'humour'\": 8267, \"'isabelle'\": 8268, \"'huppert'\": 8269, \"'elledvd'\": 8270, \"'illicit'\": 8271, \"'tobacco'\": 8272, \"'untobaccocontrol'\": 8273, \"'stance'\": 8274, \"'huddle'\": 8275, \"'haiku'\": 8276, \"'villain'\": 8277, \"'kim'\": 8278, \"'prefer'\": 8279, \"'quiver'\": 8280, \"'claim'\": 8281, \"'mysterious'\": 8282, \"'talkative'\": 8283, \"'munchies'\": 8284, \"'alpacas'\": 8285, \"'edible'\": 8286, \"'whatthefac'\": 8287, \"'salientfac'\": 8288, \"'duduk'\": 8289, \"'dengan'\": 8290, \"'anak'\": 8291, \"'sepupu'\": 8292, \"'dah'\": 8293, \"'menguji'\": 8294, \"'kesabaran'\": 8295, \"'crown'\": 8296, \"'kiddy'\": 8297, \"'strict'\": 8298, \"'desperate'\": 8299, \"'jeremiah'\": 8300, \"'justbreath'\": 8301, \"'heisable'\": 8302, \"'dazzle'\": 8303, \"'orb'\": 8304, \"'jo'\": 8305, \"'peppa'\": 8306, \"'vid'\": 8307, \"'handy'\": 8308, \"'ol'\": 8309, \"'lov'\": 8310, \"'sm'\": 8311, \"'sagasofsundry'\": 8312, \"'everyside'\": 8313, \"'perplexed'\": 8314, \"'persecute'\": 8315, \"'forsake'\": 8316, \"'television'\": 8317, \"'jaredkushner'\": 8318, \"'ivankatrump'\": 8319, \"'senioradvisors'\": 8320, \"'caregiver'\": 8321, \"'moderate'\": 8322, \"'outburst'\": 8323, \"'mil'\": 8324, \"'mummy'\": 8325, \"'neveragain'\": 8326, \"'bryzzo'\": 8327, \"'ksr'\": 8328, \"'aradionatural'\": 8329, \"'hurting'\": 8330, \"'zhe'\": 8331, \"'ho'\": 8332, \"'hoh'\": 8333, \"'zhat'\": 8334, \"'yaaaaaaaaaaaas'\": 8335, \"'scotty'\": 8336, \"'sinclair'\": 8337, \"'envy'\": 8338, \"'blac'\": 8339, \"'chyna'\": 8340, \"'whiteman'\": 8341, \"'adam'\": 8342, \"'sandler'\": 8343, \"'heartwarming'\": 8344, \"'ancestry'\": 8345, \"'queenslandvsnsw'\": 8346, \"'hayneplane'\": 8347, \"'ideology'\": 8348, \"'incompetence'\": 8349, \"'fella'\": 8350, \"'comeback'\": 8351, \"'viscerally'\": 8352, \"'sesame'\": 8353, \"'geek'\": 8354, \"'npr'\": 8355, \"'huffpostpol'\": 8356, \"'nyt'\": 8357, \"'wapo'\": 8358, \"'msnbc'\": 8359, \"'lordoftherings'\": 8360, \"'par'\": 8361, \"'nate'\": 8362, \"'diaz'\": 8363, \"'ko'\": 8364, \"'nobetterfeelingthan'\": 8365, \"'teeter'\": 8366, \"'muggymike'\": 8367, \"'treasonous'\": 8368, \"'scandal'\": 8369, \"'sen'\": 8370, \"'contentment'\": 8371, \"'carefree'\": 8372, \"'idontknow'\": 8373, \"'insightsbs'\": 8374, \"'clifford'\": 8375, \"'tulius'\": 8376, \"'cicero'\": 8377, \"'jellyfish'\": 8378, \"'yeon'\": 8379, \"'dara'\": 8380, \"'thetimeofgreatsorrowisover'\": 8381, \"'derron'\": 8382, \"'brighter'\": 8383, \"'tou'\": 8384, \"'annoyingly'\": 8385, \"'vague'\": 8386, \"'aaaaaaaaaagh'\": 8387, \"'fearmongering'\": 8388, \"'roster'\": 8389, \"'bonnieraitt'\": 8390, \"'bizarre'\": 8391, \"'tiredoflife'\": 8392, \"'placard'\": 8393, \"'active'\": 8394, \"'outrageous'\": 8395, \"'kaiserchiefs'\": 8396, \"'deny'\": 8397, \"'ngo'\": 8398, \"'separatist'\": 8399, \"'refrigerator'\": 8400, \"'blitz'\": 8401, \"'goooooooooooooooooooooddddddddddd'\": 8402, \"'ahhhhh'\": 8403, \"'twitterfume'\": 8404, \"'cite'\": 8405, \"'babri'\": 8406, \"'rajnathsingh'\": 8407, \"'ninda'\": 8408, \"'amply'\": 8409, \"'kenneth'\": 8410, \"'prostitute'\": 8411, \"'afresh'\": 8412, \"'concerned'\": 8413, \"'coa'\": 8414, \"'pur'\": 8415, \"'mojito'\": 8416, \"'nationalmojitoday'\": 8417, \"'smarter'\": 8418, \"'blinker'\": 8419, \"'gruelling'\": 8420, \"'editor'\": 8421, \"'austrian'\": 8422, \"'loml'\": 8423, \"'booking'\": 8424, \"'straightforward'\": 8425, \"'eclipseday'\": 8426, \"'falter'\": 8427, \"'katli'\": 8428, \"'coreymontheith'\": 8429, \"'wank'\": 8430, \"'fetish'\": 8431, \"'surveillance'\": 8432, \"'burrito'\": 8433, \"'daunting'\": 8434, \"'xanax'\": 8435, \"'warm'\": 8436, \"'unsaid'\": 8437, \"'downside'\": 8438, \"'rice'\": 8439, \"'crispies'\": 8440, \"'jock'\": 8441, \"'loc'\": 8442, \"'pmo'\": 8443, \"'warfools'\": 8444, \"'nuke'\": 8445, \"'lostinthemoment'\": 8446, \"'zayuuum'\": 8447, \"'tatas'\": 8448, \"'lbvs'\": 8449, \"'cog'\": 8450, \"'molly'\": 8451, \"'mollyoutherewreckinghomes'\": 8452, \"'repeatcycle'\": 8453, \"'gobbing'\": 8454, \"'braindead'\": 8455, \"'gobbers'\": 8456, \"'gdi'\": 8457, \"'mannerism'\": 8458, \"'duna'\": 8459, \"'hysterically'\": 8460, \"'bangladeshi'\": 8461, \"'savehindusinhindustan'\": 8462, \"'counter'\": 8463, \"'imm'\": 8464, \"'wherry'\": 8465, \"'pnp'\": 8466, \"'sincere'\": 8467, \"'holder'\": 8468, \"'quietly'\": 8469, \"'adequate'\": 8470, \"'tuesdaymotivation'\": 8471, \"'hangout'\": 8472, \"'mah'\": 8473, \"'bessy'\": 8474, \"'tmi'\": 8475, \"'dearly'\": 8476, \"'pldt'\": 8477, \"'sometime'\": 8478, \"'tenth'\": 8479, \"'workplace'\": 8480, \"'consequrnces'\": 8481, \"'defin'\": 8482, \"'monopoly'\": 8483, \"'manhattan'\": 8484, \"'broflake'\": 8485, \"'andymurray'\": 8486, \"'provocating'\": 8487, \"'pollen'\": 8488, \"'organisation'\": 8489, \"'royle'\": 8490, \"'virgo'\": 8491, \"'harmonize'\": 8492, \"'kushner'\": 8493, \"'badsleep'\": 8494, \"'mainevent'\": 8495, \"'tourn'\": 8496, \"'cardroom'\": 8497, \"'limpedpot'\": 8498, \"'familypot'\": 8499, \"'polkish'\": 8500, \"'enlighten'\": 8501, \"'dailycraig'\": 8502, \"'heartbroken'\": 8503, \"'alec'\": 8504, \"'orchard'\": 8505, \"'picker'\": 8506, \"'accordingly'\": 8507, \"'downcast'\": 8508, \"'lyttleton'\": 8509, \"'management'\": 8510, \"'repent'\": 8511, \"'villalta'\": 8512, \"'pretibial'\": 8513, \"'oedema'\": 8514, \"'astro'\": 8515, \"'goijng'\": 8516, \"'lvoe'\": 8517, \"'taylor'\": 8518, \"'yoongi'\": 8519, \"'disillusion'\": 8520, \"'trumpjr'\": 8521, \"'baffle'\": 8522, \"'poet'\": 8523, \"'heatwave'\": 8524, \"'anal'\": 8525, \"'bigbooty'\": 8526, \"'bobs'\": 8527, \"'blowjob'\": 8528, \"'lacazette'\": 8529, \"'klopp'\": 8530, \"'snowman'\": 8531, \"'mafia'\": 8532, \"'atty'\": 8533, \"'disgraceful'\": 8534, \"'govern'\": 8535, \"'foe'\": 8536, \"'ao'\": 8537, \"'cryinginmysleep'\": 8538, \"'bodysuit'\": 8539, \"'shaft'\": 8540, \"'abrasion'\": 8541, \"'panty'\": 8542, \"'theoldsideshift'\": 8543, \"'humansoflatecapitalism'\": 8544}\n"
          ],
          "name": "stdout"
        }
      ]
    },
    {
      "cell_type": "code",
      "metadata": {
        "colab": {
          "base_uri": "https://localhost:8080/",
          "height": 198
        },
        "id": "7gX3SHaVJvLy",
        "outputId": "e08a7cbd-9f58-44e0-d7ae-e250a56d7684"
      },
      "source": [
        "df.head()"
      ],
      "execution_count": 61,
      "outputs": [
        {
          "output_type": "execute_result",
          "data": {
            "text/html": [
              "<div>\n",
              "<style scoped>\n",
              "    .dataframe tbody tr th:only-of-type {\n",
              "        vertical-align: middle;\n",
              "    }\n",
              "\n",
              "    .dataframe tbody tr th {\n",
              "        vertical-align: top;\n",
              "    }\n",
              "\n",
              "    .dataframe thead th {\n",
              "        text-align: right;\n",
              "    }\n",
              "</style>\n",
              "<table border=\"1\" class=\"dataframe\">\n",
              "  <thead>\n",
              "    <tr style=\"text-align: right;\">\n",
              "      <th></th>\n",
              "      <th>Text</th>\n",
              "      <th>Label</th>\n",
              "      <th>Text_Final</th>\n",
              "    </tr>\n",
              "  </thead>\n",
              "  <tbody>\n",
              "    <tr>\n",
              "      <th>0</th>\n",
              "      <td>[“, worry, is, a, down, payment, on, a, proble...</td>\n",
              "      <td>2</td>\n",
              "      <td>['worry', 'payment', 'problem', 'may', 'never'...</td>\n",
              "    </tr>\n",
              "    <tr>\n",
              "      <th>1</th>\n",
              "      <td>[my, roommate, :, it, 's, okay, that, we, ca, ...</td>\n",
              "      <td>0</td>\n",
              "      <td>['roommate', 'okay', 'ca', 'spell', 'autocorre...</td>\n",
              "    </tr>\n",
              "    <tr>\n",
              "      <th>2</th>\n",
              "      <td>[no, but, that, 's, so, cute, ., atsu, was, pr...</td>\n",
              "      <td>1</td>\n",
              "      <td>['cute', 'atsu', 'probably', 'shy', 'photo', '...</td>\n",
              "    </tr>\n",
              "    <tr>\n",
              "      <th>3</th>\n",
              "      <td>[rooneys, fucking, untouchable, is, n't, he, ?...</td>\n",
              "      <td>0</td>\n",
              "      <td>['rooneys', 'fuck', 'untouchable', 'fuck', 'dr...</td>\n",
              "    </tr>\n",
              "    <tr>\n",
              "      <th>4</th>\n",
              "      <td>[it, 's, pretty, depressing, when, u, hit, pan...</td>\n",
              "      <td>3</td>\n",
              "      <td>['pretty', 'depress', 'u', 'hit', 'pan', 'ur',...</td>\n",
              "    </tr>\n",
              "  </tbody>\n",
              "</table>\n",
              "</div>"
            ],
            "text/plain": [
              "                                                Text  ...                                         Text_Final\n",
              "0  [“, worry, is, a, down, payment, on, a, proble...  ...  ['worry', 'payment', 'problem', 'may', 'never'...\n",
              "1  [my, roommate, :, it, 's, okay, that, we, ca, ...  ...  ['roommate', 'okay', 'ca', 'spell', 'autocorre...\n",
              "2  [no, but, that, 's, so, cute, ., atsu, was, pr...  ...  ['cute', 'atsu', 'probably', 'shy', 'photo', '...\n",
              "3  [rooneys, fucking, untouchable, is, n't, he, ?...  ...  ['rooneys', 'fuck', 'untouchable', 'fuck', 'dr...\n",
              "4  [it, 's, pretty, depressing, when, u, hit, pan...  ...  ['pretty', 'depress', 'u', 'hit', 'pan', 'ur',...\n",
              "\n",
              "[5 rows x 3 columns]"
            ]
          },
          "metadata": {
            "tags": []
          },
          "execution_count": 61
        }
      ]
    },
    {
      "cell_type": "code",
      "metadata": {
        "colab": {
          "base_uri": "https://localhost:8080/",
          "height": 198
        },
        "id": "GHjOgK4xSVlM",
        "outputId": "1d08b7f1-70bd-4edf-fd07-68395eca73b4"
      },
      "source": [
        "df1.head()"
      ],
      "execution_count": 62,
      "outputs": [
        {
          "output_type": "execute_result",
          "data": {
            "text/html": [
              "<div>\n",
              "<style scoped>\n",
              "    .dataframe tbody tr th:only-of-type {\n",
              "        vertical-align: middle;\n",
              "    }\n",
              "\n",
              "    .dataframe tbody tr th {\n",
              "        vertical-align: top;\n",
              "    }\n",
              "\n",
              "    .dataframe thead th {\n",
              "        text-align: right;\n",
              "    }\n",
              "</style>\n",
              "<table border=\"1\" class=\"dataframe\">\n",
              "  <thead>\n",
              "    <tr style=\"text-align: right;\">\n",
              "      <th></th>\n",
              "      <th>Text</th>\n",
              "      <th>Label</th>\n",
              "      <th>Text_Final</th>\n",
              "    </tr>\n",
              "  </thead>\n",
              "  <tbody>\n",
              "    <tr>\n",
              "      <th>0</th>\n",
              "      <td>[#, deppression, is, real, ., partners, w/, #,...</td>\n",
              "      <td>3</td>\n",
              "      <td>['deppression', 'real', 'partner', 'depressed'...</td>\n",
              "    </tr>\n",
              "    <tr>\n",
              "      <th>1</th>\n",
              "      <td>[@, user, interesting, choice, of, words, ...,...</td>\n",
              "      <td>0</td>\n",
              "      <td>['user', 'interesting', 'choice', 'word', 'con...</td>\n",
              "    </tr>\n",
              "    <tr>\n",
              "      <th>2</th>\n",
              "      <td>[my, visit, to, hospital, for, care, triggered...</td>\n",
              "      <td>3</td>\n",
              "      <td>['visit', 'hospital', 'care', 'trigger', 'trau...</td>\n",
              "    </tr>\n",
              "    <tr>\n",
              "      <th>3</th>\n",
              "      <td>[@, user, welcome, to, #, mpsvt, !, we, are, d...</td>\n",
              "      <td>1</td>\n",
              "      <td>['user', 'welcome', 'mpsvt', 'delight', 'grate...</td>\n",
              "    </tr>\n",
              "    <tr>\n",
              "      <th>4</th>\n",
              "      <td>[what, makes, you, feel, #, joyful, ?]</td>\n",
              "      <td>1</td>\n",
              "      <td>['make', 'feel', 'joyful']</td>\n",
              "    </tr>\n",
              "  </tbody>\n",
              "</table>\n",
              "</div>"
            ],
            "text/plain": [
              "                                                Text  ...                                         Text_Final\n",
              "0  [#, deppression, is, real, ., partners, w/, #,...  ...  ['deppression', 'real', 'partner', 'depressed'...\n",
              "1  [@, user, interesting, choice, of, words, ...,...  ...  ['user', 'interesting', 'choice', 'word', 'con...\n",
              "2  [my, visit, to, hospital, for, care, triggered...  ...  ['visit', 'hospital', 'care', 'trigger', 'trau...\n",
              "3  [@, user, welcome, to, #, mpsvt, !, we, are, d...  ...  ['user', 'welcome', 'mpsvt', 'delight', 'grate...\n",
              "4             [what, makes, you, feel, #, joyful, ?]  ...                         ['make', 'feel', 'joyful']\n",
              "\n",
              "[5 rows x 3 columns]"
            ]
          },
          "metadata": {
            "tags": []
          },
          "execution_count": 62
        }
      ]
    },
    {
      "cell_type": "code",
      "metadata": {
        "id": "U5B4NTE3JD_e"
      },
      "source": [
        "X_train = tokenizer.texts_to_sequences(df['Text_Final'].values)\r\n",
        "X_test = tokenizer.texts_to_sequences(df1['Text_Final'].values)"
      ],
      "execution_count": 63,
      "outputs": []
    },
    {
      "cell_type": "code",
      "metadata": {
        "colab": {
          "base_uri": "https://localhost:8080/"
        },
        "id": "41a6LPp7Jd0T",
        "outputId": "bced5bc9-812f-445b-f714-170583dff458"
      },
      "source": [
        "X_train[3], X_train[1], X_test[1], X_test[3]"
      ],
      "execution_count": 64,
      "outputs": [
        {
          "output_type": "execute_result",
          "data": {
            "text/plain": [
              "([3738, 32, 3739, 32, 282, 3740, 16, 1427, 3741, 148],\n",
              " [1425, 349, 31, 1776, 1426, 88, 2368],\n",
              " [1, 1290, 802, 146, 3232, 520, 1750, 60, 191, 432, 548, 28],\n",
              " [1, 985, 3578, 417, 1201, 3578, 624])"
            ]
          },
          "metadata": {
            "tags": []
          },
          "execution_count": 64
        }
      ]
    },
    {
      "cell_type": "code",
      "metadata": {
        "colab": {
          "base_uri": "https://localhost:8080/"
        },
        "id": "6LeWqKE3KPwX",
        "outputId": "e8c24411-5875-4718-ef7a-a9e0d805e858"
      },
      "source": [
        "X_train = pad_sequences(X_train, maxlen=MAX_SEQUENCE_LENGTH)\r\n",
        "X_test = pad_sequences(X_test, maxlen=MAX_SEQUENCE_LENGTH)\r\n",
        "print('Shape of data tensor:', X_train.shape)\r\n",
        "print('Shape of data tensor:', X_test.shape)"
      ],
      "execution_count": 65,
      "outputs": [
        {
          "output_type": "stream",
          "text": [
            "Shape of data tensor: (3257, 18)\n",
            "Shape of data tensor: (1421, 18)\n"
          ],
          "name": "stdout"
        }
      ]
    },
    {
      "cell_type": "code",
      "metadata": {
        "colab": {
          "base_uri": "https://localhost:8080/"
        },
        "id": "q1D6dS98K7ju",
        "outputId": "87c86c72-a35c-4673-c52c-b4e3810a8d80"
      },
      "source": [
        "X_train[1,:], X_test[1,:]"
      ],
      "execution_count": 66,
      "outputs": [
        {
          "output_type": "execute_result",
          "data": {
            "text/plain": [
              "(array([   0,    0,    0,    0,    0,    0,    0,    0,    0,    0,    0,\n",
              "        1425,  349,   31, 1776, 1426,   88, 2368], dtype=int32),\n",
              " array([   0,    0,    0,    0,    0,    0,    1, 1290,  802,  146, 3232,\n",
              "         520, 1750,   60,  191,  432,  548,   28], dtype=int32))"
            ]
          },
          "metadata": {
            "tags": []
          },
          "execution_count": 66
        }
      ]
    },
    {
      "cell_type": "code",
      "metadata": {
        "colab": {
          "base_uri": "https://localhost:8080/"
        },
        "id": "DF5cRnh9fqJY",
        "outputId": "0a66d1ea-8da6-4b7b-fa87-80dfceb1b425"
      },
      "source": [
        "X_train[:,3], X_test[:,3]"
      ],
      "execution_count": 67,
      "outputs": [
        {
          "output_type": "execute_result",
          "data": {
            "text/plain": [
              "(array([0, 0, 0, ..., 0, 0, 0], dtype=int32),\n",
              " array([160,   0,   0, ...,   0,   0,   0], dtype=int32))"
            ]
          },
          "metadata": {
            "tags": []
          },
          "execution_count": 67
        }
      ]
    },
    {
      "cell_type": "code",
      "metadata": {
        "id": "M4GQe1_EDRN1"
      },
      "source": [
        "df= pd.get_dummies(df, columns= ['Label'])"
      ],
      "execution_count": 68,
      "outputs": []
    },
    {
      "cell_type": "code",
      "metadata": {
        "id": "np6fgAkbEXkJ"
      },
      "source": [
        "out_test= df1['Label'].values\r\n",
        "df1= pd.get_dummies(df1, columns= ['Label'])"
      ],
      "execution_count": 69,
      "outputs": []
    },
    {
      "cell_type": "code",
      "metadata": {
        "colab": {
          "base_uri": "https://localhost:8080/",
          "height": 198
        },
        "id": "KEgTnYp3FlQE",
        "outputId": "f5f16984-637c-492c-e732-bb1645be64b3"
      },
      "source": [
        "df.head()"
      ],
      "execution_count": 70,
      "outputs": [
        {
          "output_type": "execute_result",
          "data": {
            "text/html": [
              "<div>\n",
              "<style scoped>\n",
              "    .dataframe tbody tr th:only-of-type {\n",
              "        vertical-align: middle;\n",
              "    }\n",
              "\n",
              "    .dataframe tbody tr th {\n",
              "        vertical-align: top;\n",
              "    }\n",
              "\n",
              "    .dataframe thead th {\n",
              "        text-align: right;\n",
              "    }\n",
              "</style>\n",
              "<table border=\"1\" class=\"dataframe\">\n",
              "  <thead>\n",
              "    <tr style=\"text-align: right;\">\n",
              "      <th></th>\n",
              "      <th>Text</th>\n",
              "      <th>Text_Final</th>\n",
              "      <th>Label_0</th>\n",
              "      <th>Label_1</th>\n",
              "      <th>Label_2</th>\n",
              "      <th>Label_3</th>\n",
              "    </tr>\n",
              "  </thead>\n",
              "  <tbody>\n",
              "    <tr>\n",
              "      <th>0</th>\n",
              "      <td>[“, worry, is, a, down, payment, on, a, proble...</td>\n",
              "      <td>['worry', 'payment', 'problem', 'may', 'never'...</td>\n",
              "      <td>0</td>\n",
              "      <td>0</td>\n",
              "      <td>1</td>\n",
              "      <td>0</td>\n",
              "    </tr>\n",
              "    <tr>\n",
              "      <th>1</th>\n",
              "      <td>[my, roommate, :, it, 's, okay, that, we, ca, ...</td>\n",
              "      <td>['roommate', 'okay', 'ca', 'spell', 'autocorre...</td>\n",
              "      <td>1</td>\n",
              "      <td>0</td>\n",
              "      <td>0</td>\n",
              "      <td>0</td>\n",
              "    </tr>\n",
              "    <tr>\n",
              "      <th>2</th>\n",
              "      <td>[no, but, that, 's, so, cute, ., atsu, was, pr...</td>\n",
              "      <td>['cute', 'atsu', 'probably', 'shy', 'photo', '...</td>\n",
              "      <td>0</td>\n",
              "      <td>1</td>\n",
              "      <td>0</td>\n",
              "      <td>0</td>\n",
              "    </tr>\n",
              "    <tr>\n",
              "      <th>3</th>\n",
              "      <td>[rooneys, fucking, untouchable, is, n't, he, ?...</td>\n",
              "      <td>['rooneys', 'fuck', 'untouchable', 'fuck', 'dr...</td>\n",
              "      <td>1</td>\n",
              "      <td>0</td>\n",
              "      <td>0</td>\n",
              "      <td>0</td>\n",
              "    </tr>\n",
              "    <tr>\n",
              "      <th>4</th>\n",
              "      <td>[it, 's, pretty, depressing, when, u, hit, pan...</td>\n",
              "      <td>['pretty', 'depress', 'u', 'hit', 'pan', 'ur',...</td>\n",
              "      <td>0</td>\n",
              "      <td>0</td>\n",
              "      <td>0</td>\n",
              "      <td>1</td>\n",
              "    </tr>\n",
              "  </tbody>\n",
              "</table>\n",
              "</div>"
            ],
            "text/plain": [
              "                                                Text  ... Label_3\n",
              "0  [“, worry, is, a, down, payment, on, a, proble...  ...       0\n",
              "1  [my, roommate, :, it, 's, okay, that, we, ca, ...  ...       0\n",
              "2  [no, but, that, 's, so, cute, ., atsu, was, pr...  ...       0\n",
              "3  [rooneys, fucking, untouchable, is, n't, he, ?...  ...       0\n",
              "4  [it, 's, pretty, depressing, when, u, hit, pan...  ...       1\n",
              "\n",
              "[5 rows x 6 columns]"
            ]
          },
          "metadata": {
            "tags": []
          },
          "execution_count": 70
        }
      ]
    },
    {
      "cell_type": "code",
      "metadata": {
        "colab": {
          "base_uri": "https://localhost:8080/",
          "height": 198
        },
        "id": "_4K_4zt9J4dS",
        "outputId": "0a6fc867-624e-4942-8e11-5117bde173f3"
      },
      "source": [
        "df1.head()"
      ],
      "execution_count": 71,
      "outputs": [
        {
          "output_type": "execute_result",
          "data": {
            "text/html": [
              "<div>\n",
              "<style scoped>\n",
              "    .dataframe tbody tr th:only-of-type {\n",
              "        vertical-align: middle;\n",
              "    }\n",
              "\n",
              "    .dataframe tbody tr th {\n",
              "        vertical-align: top;\n",
              "    }\n",
              "\n",
              "    .dataframe thead th {\n",
              "        text-align: right;\n",
              "    }\n",
              "</style>\n",
              "<table border=\"1\" class=\"dataframe\">\n",
              "  <thead>\n",
              "    <tr style=\"text-align: right;\">\n",
              "      <th></th>\n",
              "      <th>Text</th>\n",
              "      <th>Text_Final</th>\n",
              "      <th>Label_0</th>\n",
              "      <th>Label_1</th>\n",
              "      <th>Label_2</th>\n",
              "      <th>Label_3</th>\n",
              "    </tr>\n",
              "  </thead>\n",
              "  <tbody>\n",
              "    <tr>\n",
              "      <th>0</th>\n",
              "      <td>[#, deppression, is, real, ., partners, w/, #,...</td>\n",
              "      <td>['deppression', 'real', 'partner', 'depressed'...</td>\n",
              "      <td>0</td>\n",
              "      <td>0</td>\n",
              "      <td>0</td>\n",
              "      <td>1</td>\n",
              "    </tr>\n",
              "    <tr>\n",
              "      <th>1</th>\n",
              "      <td>[@, user, interesting, choice, of, words, ...,...</td>\n",
              "      <td>['user', 'interesting', 'choice', 'word', 'con...</td>\n",
              "      <td>1</td>\n",
              "      <td>0</td>\n",
              "      <td>0</td>\n",
              "      <td>0</td>\n",
              "    </tr>\n",
              "    <tr>\n",
              "      <th>2</th>\n",
              "      <td>[my, visit, to, hospital, for, care, triggered...</td>\n",
              "      <td>['visit', 'hospital', 'care', 'trigger', 'trau...</td>\n",
              "      <td>0</td>\n",
              "      <td>0</td>\n",
              "      <td>0</td>\n",
              "      <td>1</td>\n",
              "    </tr>\n",
              "    <tr>\n",
              "      <th>3</th>\n",
              "      <td>[@, user, welcome, to, #, mpsvt, !, we, are, d...</td>\n",
              "      <td>['user', 'welcome', 'mpsvt', 'delight', 'grate...</td>\n",
              "      <td>0</td>\n",
              "      <td>1</td>\n",
              "      <td>0</td>\n",
              "      <td>0</td>\n",
              "    </tr>\n",
              "    <tr>\n",
              "      <th>4</th>\n",
              "      <td>[what, makes, you, feel, #, joyful, ?]</td>\n",
              "      <td>['make', 'feel', 'joyful']</td>\n",
              "      <td>0</td>\n",
              "      <td>1</td>\n",
              "      <td>0</td>\n",
              "      <td>0</td>\n",
              "    </tr>\n",
              "  </tbody>\n",
              "</table>\n",
              "</div>"
            ],
            "text/plain": [
              "                                                Text  ... Label_3\n",
              "0  [#, deppression, is, real, ., partners, w/, #,...  ...       1\n",
              "1  [@, user, interesting, choice, of, words, ...,...  ...       0\n",
              "2  [my, visit, to, hospital, for, care, triggered...  ...       1\n",
              "3  [@, user, welcome, to, #, mpsvt, !, we, are, d...  ...       0\n",
              "4             [what, makes, you, feel, #, joyful, ?]  ...       0\n",
              "\n",
              "[5 rows x 6 columns]"
            ]
          },
          "metadata": {
            "tags": []
          },
          "execution_count": 71
        }
      ]
    },
    {
      "cell_type": "code",
      "metadata": {
        "id": "eO8LsVlpEjve"
      },
      "source": [
        "Labels_=['Label_0','Label_1','Label_2','Label_3']"
      ],
      "execution_count": 72,
      "outputs": []
    },
    {
      "cell_type": "code",
      "metadata": {
        "id": "TKdW_95nL8TY"
      },
      "source": [
        "y_train= df[Labels_].values\r\n",
        "y_test= df1[Labels_].values"
      ],
      "execution_count": 73,
      "outputs": []
    },
    {
      "cell_type": "code",
      "metadata": {
        "colab": {
          "base_uri": "https://localhost:8080/"
        },
        "id": "WkmWeBs0FvMf",
        "outputId": "77f891c4-8846-46ae-b663-6f0587371b89"
      },
      "source": [
        "print(y_train[0,:])"
      ],
      "execution_count": 74,
      "outputs": [
        {
          "output_type": "stream",
          "text": [
            "[0 0 1 0]\n"
          ],
          "name": "stdout"
        }
      ]
    },
    {
      "cell_type": "code",
      "metadata": {
        "colab": {
          "base_uri": "https://localhost:8080/"
        },
        "id": "QVscbQaJ98DH",
        "outputId": "6dc9da58-2c66-413e-8b6a-8972c350d58e"
      },
      "source": [
        "print(y_train[0:10])"
      ],
      "execution_count": 75,
      "outputs": [
        {
          "output_type": "stream",
          "text": [
            "[[0 0 1 0]\n",
            " [1 0 0 0]\n",
            " [0 1 0 0]\n",
            " [1 0 0 0]\n",
            " [0 0 0 1]\n",
            " [1 0 0 0]\n",
            " [0 0 0 1]\n",
            " [0 1 0 0]\n",
            " [1 0 0 0]\n",
            " [1 0 0 0]]\n"
          ],
          "name": "stdout"
        }
      ]
    },
    {
      "cell_type": "code",
      "metadata": {
        "colab": {
          "base_uri": "https://localhost:8080/"
        },
        "id": "NNaMyC4_ZWxX",
        "outputId": "7c055fc2-70d5-4951-e87e-33a5be0c4755"
      },
      "source": [
        "model = Sequential()\r\n",
        "model.add(Embedding(MAX_NB_WORDS, EMBEDDING_DIM, input_length=X_train.shape[1]))\r\n",
        "model.add(SpatialDropout1D(0.2))\r\n",
        "model.add(Bidirectional(LSTM(100, dropout=0.2, recurrent_dropout=0.2)))\r\n",
        "model.add(Dense(4, activation='softmax'))\r\n",
        "model.compile(loss='categorical_crossentropy', optimizer='adam', metrics=['accuracy'])\r\n",
        "\r\n",
        "epochs = 10\r\n",
        "batch_size = 64\r\n",
        "\r\n",
        "history = model.fit(X_train, y_train, epochs=epochs, batch_size=batch_size, validation_split=0.1)\r\n"
      ],
      "execution_count": 112,
      "outputs": [
        {
          "output_type": "stream",
          "text": [
            "Epoch 1/10\n",
            "46/46 [==============================] - 11s 130ms/step - loss: 1.3041 - accuracy: 0.4236 - val_loss: 1.2423 - val_accuracy: 0.4202\n",
            "Epoch 2/10\n",
            "46/46 [==============================] - 5s 119ms/step - loss: 1.1076 - accuracy: 0.5250 - val_loss: 0.9680 - val_accuracy: 0.6564\n",
            "Epoch 3/10\n",
            "46/46 [==============================] - 5s 118ms/step - loss: 0.5695 - accuracy: 0.7912 - val_loss: 0.8360 - val_accuracy: 0.6994\n",
            "Epoch 4/10\n",
            "46/46 [==============================] - 5s 117ms/step - loss: 0.2390 - accuracy: 0.9323 - val_loss: 1.0294 - val_accuracy: 0.6810\n",
            "Epoch 5/10\n",
            "46/46 [==============================] - 5s 116ms/step - loss: 0.1136 - accuracy: 0.9686 - val_loss: 1.1758 - val_accuracy: 0.6748\n",
            "Epoch 6/10\n",
            "46/46 [==============================] - 5s 117ms/step - loss: 0.0921 - accuracy: 0.9744 - val_loss: 1.2524 - val_accuracy: 0.6748\n",
            "Epoch 7/10\n",
            "46/46 [==============================] - 5s 116ms/step - loss: 0.0596 - accuracy: 0.9789 - val_loss: 1.2977 - val_accuracy: 0.6840\n",
            "Epoch 8/10\n",
            "46/46 [==============================] - 5s 116ms/step - loss: 0.0607 - accuracy: 0.9822 - val_loss: 1.3096 - val_accuracy: 0.6748\n",
            "Epoch 9/10\n",
            "46/46 [==============================] - 5s 117ms/step - loss: 0.0462 - accuracy: 0.9873 - val_loss: 1.5242 - val_accuracy: 0.6718\n",
            "Epoch 10/10\n",
            "46/46 [==============================] - 5s 116ms/step - loss: 0.0401 - accuracy: 0.9833 - val_loss: 1.2265 - val_accuracy: 0.6656\n"
          ],
          "name": "stdout"
        }
      ]
    },
    {
      "cell_type": "code",
      "metadata": {
        "colab": {
          "base_uri": "https://localhost:8080/"
        },
        "id": "Z1Z0H2eGkvgq",
        "outputId": "246d8ab0-4bfd-4948-d7d3-3f75446f05ab"
      },
      "source": [
        "accr = model.evaluate(X_test,y_test)\r\n",
        "print('Test set\\n  Loss: {:0.3f}\\n  Accuracy: {:0.3f}'.format(accr[0],accr[1]))"
      ],
      "execution_count": 106,
      "outputs": [
        {
          "output_type": "stream",
          "text": [
            "45/45 [==============================] - 1s 11ms/step - loss: 1.7504 - accuracy: 0.6545\n",
            "Test set\n",
            "  Loss: 1.750\n",
            "  Accuracy: 0.654\n"
          ],
          "name": "stdout"
        }
      ]
    },
    {
      "cell_type": "code",
      "metadata": {
        "id": "K8XXlpG3ckOk"
      },
      "source": [
        "y_pred = model.predict(X_test)"
      ],
      "execution_count": 107,
      "outputs": []
    },
    {
      "cell_type": "code",
      "metadata": {
        "colab": {
          "base_uri": "https://localhost:8080/"
        },
        "id": "1fHA9tEH-a7P",
        "outputId": "bf61f2aa-586d-42b2-c1d0-a77c0e7784ac"
      },
      "source": [
        "print(y_pred[1,:])"
      ],
      "execution_count": 108,
      "outputs": [
        {
          "output_type": "stream",
          "text": [
            "[0.9803761  0.00407825 0.00201478 0.01353079]\n"
          ],
          "name": "stdout"
        }
      ]
    },
    {
      "cell_type": "code",
      "metadata": {
        "id": "gAGVO_S9XKXQ"
      },
      "source": [
        "out_pred= [np.argmax(y_pred[i,:]) for i in range(y_pred.shape[0])]"
      ],
      "execution_count": 109,
      "outputs": []
    },
    {
      "cell_type": "code",
      "metadata": {
        "colab": {
          "base_uri": "https://localhost:8080/"
        },
        "id": "nS61lhhrZ8IO",
        "outputId": "93db6a2a-d365-4bde-8325-3dc3ab135611"
      },
      "source": [
        "out_test=out_test.astype(np.int32)\r\n",
        "out_pred= np.array(out_pred)\r\n",
        "print(out_pred[1:10]), print(out_test[1:10])"
      ],
      "execution_count": 110,
      "outputs": [
        {
          "output_type": "stream",
          "text": [
            "[0 3 1 1 3 3 3 0 0]\n",
            "[0 3 1 1 0 3 3 3 0]\n"
          ],
          "name": "stdout"
        },
        {
          "output_type": "execute_result",
          "data": {
            "text/plain": [
              "(None, None)"
            ]
          },
          "metadata": {
            "tags": []
          },
          "execution_count": 110
        }
      ]
    },
    {
      "cell_type": "code",
      "metadata": {
        "colab": {
          "base_uri": "https://localhost:8080/"
        },
        "id": "NqYLQWpdax0B",
        "outputId": "b74c19a2-8c6c-49c7-9f02-17c57f4c959a"
      },
      "source": [
        "from sklearn.metrics import f1_score\r\n",
        "print(\"F1 Score -> \",f1_score(out_pred, out_test, average='macro')*100)"
      ],
      "execution_count": 111,
      "outputs": [
        {
          "output_type": "stream",
          "text": [
            "F1 Score ->  57.84827034078128\n"
          ],
          "name": "stdout"
        }
      ]
    }
  ]
}