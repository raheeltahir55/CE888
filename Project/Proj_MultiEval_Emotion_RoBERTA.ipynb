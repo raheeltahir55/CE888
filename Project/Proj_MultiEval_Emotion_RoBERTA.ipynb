{
  "nbformat": 4,
  "nbformat_minor": 0,
  "metadata": {
    "colab": {
      "name": "Proj_MultiEval_Emotion_RoBERTA.ipynb",
      "provenance": [],
      "collapsed_sections": [],
      "authorship_tag": "ABX9TyNY49Ii0kABP/9rpoRoGV8t",
      "include_colab_link": true
    },
    "kernelspec": {
      "name": "python3",
      "display_name": "Python 3"
    },
    "language_info": {
      "name": "python"
    },
    "accelerator": "GPU",
    "widgets": {
      "application/vnd.jupyter.widget-state+json": {
        "00ad0cc31230499690f6a8fa649c9fee": {
          "model_module": "@jupyter-widgets/controls",
          "model_name": "HBoxModel",
          "state": {
            "_view_name": "HBoxView",
            "_dom_classes": [],
            "_model_name": "HBoxModel",
            "_view_module": "@jupyter-widgets/controls",
            "_model_module_version": "1.5.0",
            "_view_count": null,
            "_view_module_version": "1.5.0",
            "box_style": "",
            "layout": "IPY_MODEL_6e04220985ec4982b1e2ad41994056f2",
            "_model_module": "@jupyter-widgets/controls",
            "children": [
              "IPY_MODEL_85bad9d3b99240faaa549a778aa9e0d6",
              "IPY_MODEL_b425c3ce15894189ba68e38eef5efcb6"
            ]
          }
        },
        "6e04220985ec4982b1e2ad41994056f2": {
          "model_module": "@jupyter-widgets/base",
          "model_name": "LayoutModel",
          "state": {
            "_view_name": "LayoutView",
            "grid_template_rows": null,
            "right": null,
            "justify_content": null,
            "_view_module": "@jupyter-widgets/base",
            "overflow": null,
            "_model_module_version": "1.2.0",
            "_view_count": null,
            "flex_flow": null,
            "width": null,
            "min_width": null,
            "border": null,
            "align_items": null,
            "bottom": null,
            "_model_module": "@jupyter-widgets/base",
            "top": null,
            "grid_column": null,
            "overflow_y": null,
            "overflow_x": null,
            "grid_auto_flow": null,
            "grid_area": null,
            "grid_template_columns": null,
            "flex": null,
            "_model_name": "LayoutModel",
            "justify_items": null,
            "grid_row": null,
            "max_height": null,
            "align_content": null,
            "visibility": null,
            "align_self": null,
            "height": null,
            "min_height": null,
            "padding": null,
            "grid_auto_rows": null,
            "grid_gap": null,
            "max_width": null,
            "order": null,
            "_view_module_version": "1.2.0",
            "grid_template_areas": null,
            "object_position": null,
            "object_fit": null,
            "grid_auto_columns": null,
            "margin": null,
            "display": null,
            "left": null
          }
        },
        "85bad9d3b99240faaa549a778aa9e0d6": {
          "model_module": "@jupyter-widgets/controls",
          "model_name": "FloatProgressModel",
          "state": {
            "_view_name": "ProgressView",
            "style": "IPY_MODEL_d65542e9161341bbb0acb3fd23bd4a8e",
            "_dom_classes": [],
            "description": "Downloading: 100%",
            "_model_name": "FloatProgressModel",
            "bar_style": "success",
            "max": 570,
            "_view_module": "@jupyter-widgets/controls",
            "_model_module_version": "1.5.0",
            "value": 570,
            "_view_count": null,
            "_view_module_version": "1.5.0",
            "orientation": "horizontal",
            "min": 0,
            "description_tooltip": null,
            "_model_module": "@jupyter-widgets/controls",
            "layout": "IPY_MODEL_bcdd6353c4ad4773aeb82a10d53baf87"
          }
        },
        "b425c3ce15894189ba68e38eef5efcb6": {
          "model_module": "@jupyter-widgets/controls",
          "model_name": "HTMLModel",
          "state": {
            "_view_name": "HTMLView",
            "style": "IPY_MODEL_e98cf102ed7948cab9011c8cf21d36ca",
            "_dom_classes": [],
            "description": "",
            "_model_name": "HTMLModel",
            "placeholder": "​",
            "_view_module": "@jupyter-widgets/controls",
            "_model_module_version": "1.5.0",
            "value": " 570/570 [00:00&lt;00:00, 5.72kB/s]",
            "_view_count": null,
            "_view_module_version": "1.5.0",
            "description_tooltip": null,
            "_model_module": "@jupyter-widgets/controls",
            "layout": "IPY_MODEL_cdc0f8aaa7d54b9482435a5542eb1c55"
          }
        },
        "d65542e9161341bbb0acb3fd23bd4a8e": {
          "model_module": "@jupyter-widgets/controls",
          "model_name": "ProgressStyleModel",
          "state": {
            "_view_name": "StyleView",
            "_model_name": "ProgressStyleModel",
            "description_width": "initial",
            "_view_module": "@jupyter-widgets/base",
            "_model_module_version": "1.5.0",
            "_view_count": null,
            "_view_module_version": "1.2.0",
            "bar_color": null,
            "_model_module": "@jupyter-widgets/controls"
          }
        },
        "bcdd6353c4ad4773aeb82a10d53baf87": {
          "model_module": "@jupyter-widgets/base",
          "model_name": "LayoutModel",
          "state": {
            "_view_name": "LayoutView",
            "grid_template_rows": null,
            "right": null,
            "justify_content": null,
            "_view_module": "@jupyter-widgets/base",
            "overflow": null,
            "_model_module_version": "1.2.0",
            "_view_count": null,
            "flex_flow": null,
            "width": null,
            "min_width": null,
            "border": null,
            "align_items": null,
            "bottom": null,
            "_model_module": "@jupyter-widgets/base",
            "top": null,
            "grid_column": null,
            "overflow_y": null,
            "overflow_x": null,
            "grid_auto_flow": null,
            "grid_area": null,
            "grid_template_columns": null,
            "flex": null,
            "_model_name": "LayoutModel",
            "justify_items": null,
            "grid_row": null,
            "max_height": null,
            "align_content": null,
            "visibility": null,
            "align_self": null,
            "height": null,
            "min_height": null,
            "padding": null,
            "grid_auto_rows": null,
            "grid_gap": null,
            "max_width": null,
            "order": null,
            "_view_module_version": "1.2.0",
            "grid_template_areas": null,
            "object_position": null,
            "object_fit": null,
            "grid_auto_columns": null,
            "margin": null,
            "display": null,
            "left": null
          }
        },
        "e98cf102ed7948cab9011c8cf21d36ca": {
          "model_module": "@jupyter-widgets/controls",
          "model_name": "DescriptionStyleModel",
          "state": {
            "_view_name": "StyleView",
            "_model_name": "DescriptionStyleModel",
            "description_width": "",
            "_view_module": "@jupyter-widgets/base",
            "_model_module_version": "1.5.0",
            "_view_count": null,
            "_view_module_version": "1.2.0",
            "_model_module": "@jupyter-widgets/controls"
          }
        },
        "cdc0f8aaa7d54b9482435a5542eb1c55": {
          "model_module": "@jupyter-widgets/base",
          "model_name": "LayoutModel",
          "state": {
            "_view_name": "LayoutView",
            "grid_template_rows": null,
            "right": null,
            "justify_content": null,
            "_view_module": "@jupyter-widgets/base",
            "overflow": null,
            "_model_module_version": "1.2.0",
            "_view_count": null,
            "flex_flow": null,
            "width": null,
            "min_width": null,
            "border": null,
            "align_items": null,
            "bottom": null,
            "_model_module": "@jupyter-widgets/base",
            "top": null,
            "grid_column": null,
            "overflow_y": null,
            "overflow_x": null,
            "grid_auto_flow": null,
            "grid_area": null,
            "grid_template_columns": null,
            "flex": null,
            "_model_name": "LayoutModel",
            "justify_items": null,
            "grid_row": null,
            "max_height": null,
            "align_content": null,
            "visibility": null,
            "align_self": null,
            "height": null,
            "min_height": null,
            "padding": null,
            "grid_auto_rows": null,
            "grid_gap": null,
            "max_width": null,
            "order": null,
            "_view_module_version": "1.2.0",
            "grid_template_areas": null,
            "object_position": null,
            "object_fit": null,
            "grid_auto_columns": null,
            "margin": null,
            "display": null,
            "left": null
          }
        },
        "0a20bd3effdc4fb69dcaf40642a91b10": {
          "model_module": "@jupyter-widgets/controls",
          "model_name": "HBoxModel",
          "state": {
            "_view_name": "HBoxView",
            "_dom_classes": [],
            "_model_name": "HBoxModel",
            "_view_module": "@jupyter-widgets/controls",
            "_model_module_version": "1.5.0",
            "_view_count": null,
            "_view_module_version": "1.5.0",
            "box_style": "",
            "layout": "IPY_MODEL_8bc10b407b8b4e639a60a37581468811",
            "_model_module": "@jupyter-widgets/controls",
            "children": [
              "IPY_MODEL_4faf2c3721534f9a9c70655088750234",
              "IPY_MODEL_68a863057c53489f8744f9c537915b8a"
            ]
          }
        },
        "8bc10b407b8b4e639a60a37581468811": {
          "model_module": "@jupyter-widgets/base",
          "model_name": "LayoutModel",
          "state": {
            "_view_name": "LayoutView",
            "grid_template_rows": null,
            "right": null,
            "justify_content": null,
            "_view_module": "@jupyter-widgets/base",
            "overflow": null,
            "_model_module_version": "1.2.0",
            "_view_count": null,
            "flex_flow": null,
            "width": null,
            "min_width": null,
            "border": null,
            "align_items": null,
            "bottom": null,
            "_model_module": "@jupyter-widgets/base",
            "top": null,
            "grid_column": null,
            "overflow_y": null,
            "overflow_x": null,
            "grid_auto_flow": null,
            "grid_area": null,
            "grid_template_columns": null,
            "flex": null,
            "_model_name": "LayoutModel",
            "justify_items": null,
            "grid_row": null,
            "max_height": null,
            "align_content": null,
            "visibility": null,
            "align_self": null,
            "height": null,
            "min_height": null,
            "padding": null,
            "grid_auto_rows": null,
            "grid_gap": null,
            "max_width": null,
            "order": null,
            "_view_module_version": "1.2.0",
            "grid_template_areas": null,
            "object_position": null,
            "object_fit": null,
            "grid_auto_columns": null,
            "margin": null,
            "display": null,
            "left": null
          }
        },
        "4faf2c3721534f9a9c70655088750234": {
          "model_module": "@jupyter-widgets/controls",
          "model_name": "FloatProgressModel",
          "state": {
            "_view_name": "ProgressView",
            "style": "IPY_MODEL_b8f9720297b64f7dac2365c49799fa3a",
            "_dom_classes": [],
            "description": "Downloading: 100%",
            "_model_name": "FloatProgressModel",
            "bar_style": "success",
            "max": 231508,
            "_view_module": "@jupyter-widgets/controls",
            "_model_module_version": "1.5.0",
            "value": 231508,
            "_view_count": null,
            "_view_module_version": "1.5.0",
            "orientation": "horizontal",
            "min": 0,
            "description_tooltip": null,
            "_model_module": "@jupyter-widgets/controls",
            "layout": "IPY_MODEL_2bf8913bf9484e5eaa02e7c61cca143d"
          }
        },
        "68a863057c53489f8744f9c537915b8a": {
          "model_module": "@jupyter-widgets/controls",
          "model_name": "HTMLModel",
          "state": {
            "_view_name": "HTMLView",
            "style": "IPY_MODEL_0f66d57992e74422b85cd586b290a1d6",
            "_dom_classes": [],
            "description": "",
            "_model_name": "HTMLModel",
            "placeholder": "​",
            "_view_module": "@jupyter-widgets/controls",
            "_model_module_version": "1.5.0",
            "value": " 232k/232k [00:32&lt;00:00, 7.15kB/s]",
            "_view_count": null,
            "_view_module_version": "1.5.0",
            "description_tooltip": null,
            "_model_module": "@jupyter-widgets/controls",
            "layout": "IPY_MODEL_8814f85116c640779aec40594168706f"
          }
        },
        "b8f9720297b64f7dac2365c49799fa3a": {
          "model_module": "@jupyter-widgets/controls",
          "model_name": "ProgressStyleModel",
          "state": {
            "_view_name": "StyleView",
            "_model_name": "ProgressStyleModel",
            "description_width": "initial",
            "_view_module": "@jupyter-widgets/base",
            "_model_module_version": "1.5.0",
            "_view_count": null,
            "_view_module_version": "1.2.0",
            "bar_color": null,
            "_model_module": "@jupyter-widgets/controls"
          }
        },
        "2bf8913bf9484e5eaa02e7c61cca143d": {
          "model_module": "@jupyter-widgets/base",
          "model_name": "LayoutModel",
          "state": {
            "_view_name": "LayoutView",
            "grid_template_rows": null,
            "right": null,
            "justify_content": null,
            "_view_module": "@jupyter-widgets/base",
            "overflow": null,
            "_model_module_version": "1.2.0",
            "_view_count": null,
            "flex_flow": null,
            "width": null,
            "min_width": null,
            "border": null,
            "align_items": null,
            "bottom": null,
            "_model_module": "@jupyter-widgets/base",
            "top": null,
            "grid_column": null,
            "overflow_y": null,
            "overflow_x": null,
            "grid_auto_flow": null,
            "grid_area": null,
            "grid_template_columns": null,
            "flex": null,
            "_model_name": "LayoutModel",
            "justify_items": null,
            "grid_row": null,
            "max_height": null,
            "align_content": null,
            "visibility": null,
            "align_self": null,
            "height": null,
            "min_height": null,
            "padding": null,
            "grid_auto_rows": null,
            "grid_gap": null,
            "max_width": null,
            "order": null,
            "_view_module_version": "1.2.0",
            "grid_template_areas": null,
            "object_position": null,
            "object_fit": null,
            "grid_auto_columns": null,
            "margin": null,
            "display": null,
            "left": null
          }
        },
        "0f66d57992e74422b85cd586b290a1d6": {
          "model_module": "@jupyter-widgets/controls",
          "model_name": "DescriptionStyleModel",
          "state": {
            "_view_name": "StyleView",
            "_model_name": "DescriptionStyleModel",
            "description_width": "",
            "_view_module": "@jupyter-widgets/base",
            "_model_module_version": "1.5.0",
            "_view_count": null,
            "_view_module_version": "1.2.0",
            "_model_module": "@jupyter-widgets/controls"
          }
        },
        "8814f85116c640779aec40594168706f": {
          "model_module": "@jupyter-widgets/base",
          "model_name": "LayoutModel",
          "state": {
            "_view_name": "LayoutView",
            "grid_template_rows": null,
            "right": null,
            "justify_content": null,
            "_view_module": "@jupyter-widgets/base",
            "overflow": null,
            "_model_module_version": "1.2.0",
            "_view_count": null,
            "flex_flow": null,
            "width": null,
            "min_width": null,
            "border": null,
            "align_items": null,
            "bottom": null,
            "_model_module": "@jupyter-widgets/base",
            "top": null,
            "grid_column": null,
            "overflow_y": null,
            "overflow_x": null,
            "grid_auto_flow": null,
            "grid_area": null,
            "grid_template_columns": null,
            "flex": null,
            "_model_name": "LayoutModel",
            "justify_items": null,
            "grid_row": null,
            "max_height": null,
            "align_content": null,
            "visibility": null,
            "align_self": null,
            "height": null,
            "min_height": null,
            "padding": null,
            "grid_auto_rows": null,
            "grid_gap": null,
            "max_width": null,
            "order": null,
            "_view_module_version": "1.2.0",
            "grid_template_areas": null,
            "object_position": null,
            "object_fit": null,
            "grid_auto_columns": null,
            "margin": null,
            "display": null,
            "left": null
          }
        },
        "db6fb0132aac45fe99c32ffb8adb977e": {
          "model_module": "@jupyter-widgets/controls",
          "model_name": "HBoxModel",
          "state": {
            "_view_name": "HBoxView",
            "_dom_classes": [],
            "_model_name": "HBoxModel",
            "_view_module": "@jupyter-widgets/controls",
            "_model_module_version": "1.5.0",
            "_view_count": null,
            "_view_module_version": "1.5.0",
            "box_style": "",
            "layout": "IPY_MODEL_1747a3bd4513481b8c1bdcb4d002b0c1",
            "_model_module": "@jupyter-widgets/controls",
            "children": [
              "IPY_MODEL_76285324d7ae4d6ca5d721a333906954",
              "IPY_MODEL_3e77c6bc04d6406f8838cf0d3b25e5a2"
            ]
          }
        },
        "1747a3bd4513481b8c1bdcb4d002b0c1": {
          "model_module": "@jupyter-widgets/base",
          "model_name": "LayoutModel",
          "state": {
            "_view_name": "LayoutView",
            "grid_template_rows": null,
            "right": null,
            "justify_content": null,
            "_view_module": "@jupyter-widgets/base",
            "overflow": null,
            "_model_module_version": "1.2.0",
            "_view_count": null,
            "flex_flow": null,
            "width": null,
            "min_width": null,
            "border": null,
            "align_items": null,
            "bottom": null,
            "_model_module": "@jupyter-widgets/base",
            "top": null,
            "grid_column": null,
            "overflow_y": null,
            "overflow_x": null,
            "grid_auto_flow": null,
            "grid_area": null,
            "grid_template_columns": null,
            "flex": null,
            "_model_name": "LayoutModel",
            "justify_items": null,
            "grid_row": null,
            "max_height": null,
            "align_content": null,
            "visibility": null,
            "align_self": null,
            "height": null,
            "min_height": null,
            "padding": null,
            "grid_auto_rows": null,
            "grid_gap": null,
            "max_width": null,
            "order": null,
            "_view_module_version": "1.2.0",
            "grid_template_areas": null,
            "object_position": null,
            "object_fit": null,
            "grid_auto_columns": null,
            "margin": null,
            "display": null,
            "left": null
          }
        },
        "76285324d7ae4d6ca5d721a333906954": {
          "model_module": "@jupyter-widgets/controls",
          "model_name": "FloatProgressModel",
          "state": {
            "_view_name": "ProgressView",
            "style": "IPY_MODEL_1b7617872d034e658cb58e1d04bb0c28",
            "_dom_classes": [],
            "description": "Downloading: 100%",
            "_model_name": "FloatProgressModel",
            "bar_style": "success",
            "max": 466062,
            "_view_module": "@jupyter-widgets/controls",
            "_model_module_version": "1.5.0",
            "value": 466062,
            "_view_count": null,
            "_view_module_version": "1.5.0",
            "orientation": "horizontal",
            "min": 0,
            "description_tooltip": null,
            "_model_module": "@jupyter-widgets/controls",
            "layout": "IPY_MODEL_6b89111af14e4097a53d07702761eebf"
          }
        },
        "3e77c6bc04d6406f8838cf0d3b25e5a2": {
          "model_module": "@jupyter-widgets/controls",
          "model_name": "HTMLModel",
          "state": {
            "_view_name": "HTMLView",
            "style": "IPY_MODEL_70644e9a36524d67a9cd4ef21d7feaf4",
            "_dom_classes": [],
            "description": "",
            "_model_name": "HTMLModel",
            "placeholder": "​",
            "_view_module": "@jupyter-widgets/controls",
            "_model_module_version": "1.5.0",
            "value": " 466k/466k [00:00&lt;00:00, 3.22MB/s]",
            "_view_count": null,
            "_view_module_version": "1.5.0",
            "description_tooltip": null,
            "_model_module": "@jupyter-widgets/controls",
            "layout": "IPY_MODEL_642bd9f3945e478eb85a5c26057ffcd8"
          }
        },
        "1b7617872d034e658cb58e1d04bb0c28": {
          "model_module": "@jupyter-widgets/controls",
          "model_name": "ProgressStyleModel",
          "state": {
            "_view_name": "StyleView",
            "_model_name": "ProgressStyleModel",
            "description_width": "initial",
            "_view_module": "@jupyter-widgets/base",
            "_model_module_version": "1.5.0",
            "_view_count": null,
            "_view_module_version": "1.2.0",
            "bar_color": null,
            "_model_module": "@jupyter-widgets/controls"
          }
        },
        "6b89111af14e4097a53d07702761eebf": {
          "model_module": "@jupyter-widgets/base",
          "model_name": "LayoutModel",
          "state": {
            "_view_name": "LayoutView",
            "grid_template_rows": null,
            "right": null,
            "justify_content": null,
            "_view_module": "@jupyter-widgets/base",
            "overflow": null,
            "_model_module_version": "1.2.0",
            "_view_count": null,
            "flex_flow": null,
            "width": null,
            "min_width": null,
            "border": null,
            "align_items": null,
            "bottom": null,
            "_model_module": "@jupyter-widgets/base",
            "top": null,
            "grid_column": null,
            "overflow_y": null,
            "overflow_x": null,
            "grid_auto_flow": null,
            "grid_area": null,
            "grid_template_columns": null,
            "flex": null,
            "_model_name": "LayoutModel",
            "justify_items": null,
            "grid_row": null,
            "max_height": null,
            "align_content": null,
            "visibility": null,
            "align_self": null,
            "height": null,
            "min_height": null,
            "padding": null,
            "grid_auto_rows": null,
            "grid_gap": null,
            "max_width": null,
            "order": null,
            "_view_module_version": "1.2.0",
            "grid_template_areas": null,
            "object_position": null,
            "object_fit": null,
            "grid_auto_columns": null,
            "margin": null,
            "display": null,
            "left": null
          }
        },
        "70644e9a36524d67a9cd4ef21d7feaf4": {
          "model_module": "@jupyter-widgets/controls",
          "model_name": "DescriptionStyleModel",
          "state": {
            "_view_name": "StyleView",
            "_model_name": "DescriptionStyleModel",
            "description_width": "",
            "_view_module": "@jupyter-widgets/base",
            "_model_module_version": "1.5.0",
            "_view_count": null,
            "_view_module_version": "1.2.0",
            "_model_module": "@jupyter-widgets/controls"
          }
        },
        "642bd9f3945e478eb85a5c26057ffcd8": {
          "model_module": "@jupyter-widgets/base",
          "model_name": "LayoutModel",
          "state": {
            "_view_name": "LayoutView",
            "grid_template_rows": null,
            "right": null,
            "justify_content": null,
            "_view_module": "@jupyter-widgets/base",
            "overflow": null,
            "_model_module_version": "1.2.0",
            "_view_count": null,
            "flex_flow": null,
            "width": null,
            "min_width": null,
            "border": null,
            "align_items": null,
            "bottom": null,
            "_model_module": "@jupyter-widgets/base",
            "top": null,
            "grid_column": null,
            "overflow_y": null,
            "overflow_x": null,
            "grid_auto_flow": null,
            "grid_area": null,
            "grid_template_columns": null,
            "flex": null,
            "_model_name": "LayoutModel",
            "justify_items": null,
            "grid_row": null,
            "max_height": null,
            "align_content": null,
            "visibility": null,
            "align_self": null,
            "height": null,
            "min_height": null,
            "padding": null,
            "grid_auto_rows": null,
            "grid_gap": null,
            "max_width": null,
            "order": null,
            "_view_module_version": "1.2.0",
            "grid_template_areas": null,
            "object_position": null,
            "object_fit": null,
            "grid_auto_columns": null,
            "margin": null,
            "display": null,
            "left": null
          }
        },
        "7c689a3c5ec0497db5330f881c6e95ca": {
          "model_module": "@jupyter-widgets/controls",
          "model_name": "HBoxModel",
          "state": {
            "_view_name": "HBoxView",
            "_dom_classes": [],
            "_model_name": "HBoxModel",
            "_view_module": "@jupyter-widgets/controls",
            "_model_module_version": "1.5.0",
            "_view_count": null,
            "_view_module_version": "1.5.0",
            "box_style": "",
            "layout": "IPY_MODEL_5d69dafa2141454aae4d8001d1ad760e",
            "_model_module": "@jupyter-widgets/controls",
            "children": [
              "IPY_MODEL_d737aa411c6f4e339fa2a87b157230f6",
              "IPY_MODEL_dc712a40975047539abde5571f2c7115"
            ]
          }
        },
        "5d69dafa2141454aae4d8001d1ad760e": {
          "model_module": "@jupyter-widgets/base",
          "model_name": "LayoutModel",
          "state": {
            "_view_name": "LayoutView",
            "grid_template_rows": null,
            "right": null,
            "justify_content": null,
            "_view_module": "@jupyter-widgets/base",
            "overflow": null,
            "_model_module_version": "1.2.0",
            "_view_count": null,
            "flex_flow": null,
            "width": null,
            "min_width": null,
            "border": null,
            "align_items": null,
            "bottom": null,
            "_model_module": "@jupyter-widgets/base",
            "top": null,
            "grid_column": null,
            "overflow_y": null,
            "overflow_x": null,
            "grid_auto_flow": null,
            "grid_area": null,
            "grid_template_columns": null,
            "flex": null,
            "_model_name": "LayoutModel",
            "justify_items": null,
            "grid_row": null,
            "max_height": null,
            "align_content": null,
            "visibility": null,
            "align_self": null,
            "height": null,
            "min_height": null,
            "padding": null,
            "grid_auto_rows": null,
            "grid_gap": null,
            "max_width": null,
            "order": null,
            "_view_module_version": "1.2.0",
            "grid_template_areas": null,
            "object_position": null,
            "object_fit": null,
            "grid_auto_columns": null,
            "margin": null,
            "display": null,
            "left": null
          }
        },
        "d737aa411c6f4e339fa2a87b157230f6": {
          "model_module": "@jupyter-widgets/controls",
          "model_name": "FloatProgressModel",
          "state": {
            "_view_name": "ProgressView",
            "style": "IPY_MODEL_87c5c262c42144e68f05ba6144e41824",
            "_dom_classes": [],
            "description": "Downloading: 100%",
            "_model_name": "FloatProgressModel",
            "bar_style": "success",
            "max": 28,
            "_view_module": "@jupyter-widgets/controls",
            "_model_module_version": "1.5.0",
            "value": 28,
            "_view_count": null,
            "_view_module_version": "1.5.0",
            "orientation": "horizontal",
            "min": 0,
            "description_tooltip": null,
            "_model_module": "@jupyter-widgets/controls",
            "layout": "IPY_MODEL_0257e052d4f4465f830eb344144c4662"
          }
        },
        "dc712a40975047539abde5571f2c7115": {
          "model_module": "@jupyter-widgets/controls",
          "model_name": "HTMLModel",
          "state": {
            "_view_name": "HTMLView",
            "style": "IPY_MODEL_c314f4e88b3a474098c68fb4d6d8df64",
            "_dom_classes": [],
            "description": "",
            "_model_name": "HTMLModel",
            "placeholder": "​",
            "_view_module": "@jupyter-widgets/controls",
            "_model_module_version": "1.5.0",
            "value": " 28.0/28.0 [00:32&lt;00:00, 1.15s/B]",
            "_view_count": null,
            "_view_module_version": "1.5.0",
            "description_tooltip": null,
            "_model_module": "@jupyter-widgets/controls",
            "layout": "IPY_MODEL_db4fe99d2adc4fbea4494fe75b3157c8"
          }
        },
        "87c5c262c42144e68f05ba6144e41824": {
          "model_module": "@jupyter-widgets/controls",
          "model_name": "ProgressStyleModel",
          "state": {
            "_view_name": "StyleView",
            "_model_name": "ProgressStyleModel",
            "description_width": "initial",
            "_view_module": "@jupyter-widgets/base",
            "_model_module_version": "1.5.0",
            "_view_count": null,
            "_view_module_version": "1.2.0",
            "bar_color": null,
            "_model_module": "@jupyter-widgets/controls"
          }
        },
        "0257e052d4f4465f830eb344144c4662": {
          "model_module": "@jupyter-widgets/base",
          "model_name": "LayoutModel",
          "state": {
            "_view_name": "LayoutView",
            "grid_template_rows": null,
            "right": null,
            "justify_content": null,
            "_view_module": "@jupyter-widgets/base",
            "overflow": null,
            "_model_module_version": "1.2.0",
            "_view_count": null,
            "flex_flow": null,
            "width": null,
            "min_width": null,
            "border": null,
            "align_items": null,
            "bottom": null,
            "_model_module": "@jupyter-widgets/base",
            "top": null,
            "grid_column": null,
            "overflow_y": null,
            "overflow_x": null,
            "grid_auto_flow": null,
            "grid_area": null,
            "grid_template_columns": null,
            "flex": null,
            "_model_name": "LayoutModel",
            "justify_items": null,
            "grid_row": null,
            "max_height": null,
            "align_content": null,
            "visibility": null,
            "align_self": null,
            "height": null,
            "min_height": null,
            "padding": null,
            "grid_auto_rows": null,
            "grid_gap": null,
            "max_width": null,
            "order": null,
            "_view_module_version": "1.2.0",
            "grid_template_areas": null,
            "object_position": null,
            "object_fit": null,
            "grid_auto_columns": null,
            "margin": null,
            "display": null,
            "left": null
          }
        },
        "c314f4e88b3a474098c68fb4d6d8df64": {
          "model_module": "@jupyter-widgets/controls",
          "model_name": "DescriptionStyleModel",
          "state": {
            "_view_name": "StyleView",
            "_model_name": "DescriptionStyleModel",
            "description_width": "",
            "_view_module": "@jupyter-widgets/base",
            "_model_module_version": "1.5.0",
            "_view_count": null,
            "_view_module_version": "1.2.0",
            "_model_module": "@jupyter-widgets/controls"
          }
        },
        "db4fe99d2adc4fbea4494fe75b3157c8": {
          "model_module": "@jupyter-widgets/base",
          "model_name": "LayoutModel",
          "state": {
            "_view_name": "LayoutView",
            "grid_template_rows": null,
            "right": null,
            "justify_content": null,
            "_view_module": "@jupyter-widgets/base",
            "overflow": null,
            "_model_module_version": "1.2.0",
            "_view_count": null,
            "flex_flow": null,
            "width": null,
            "min_width": null,
            "border": null,
            "align_items": null,
            "bottom": null,
            "_model_module": "@jupyter-widgets/base",
            "top": null,
            "grid_column": null,
            "overflow_y": null,
            "overflow_x": null,
            "grid_auto_flow": null,
            "grid_area": null,
            "grid_template_columns": null,
            "flex": null,
            "_model_name": "LayoutModel",
            "justify_items": null,
            "grid_row": null,
            "max_height": null,
            "align_content": null,
            "visibility": null,
            "align_self": null,
            "height": null,
            "min_height": null,
            "padding": null,
            "grid_auto_rows": null,
            "grid_gap": null,
            "max_width": null,
            "order": null,
            "_view_module_version": "1.2.0",
            "grid_template_areas": null,
            "object_position": null,
            "object_fit": null,
            "grid_auto_columns": null,
            "margin": null,
            "display": null,
            "left": null
          }
        },
        "4d1143f0d570450ba49690070f2c3eaa": {
          "model_module": "@jupyter-widgets/controls",
          "model_name": "HBoxModel",
          "state": {
            "_view_name": "HBoxView",
            "_dom_classes": [],
            "_model_name": "HBoxModel",
            "_view_module": "@jupyter-widgets/controls",
            "_model_module_version": "1.5.0",
            "_view_count": null,
            "_view_module_version": "1.5.0",
            "box_style": "",
            "layout": "IPY_MODEL_53335c18429442d69c30d503e66e5503",
            "_model_module": "@jupyter-widgets/controls",
            "children": [
              "IPY_MODEL_6c294a3564d14eb49abd72a5f87fd1b4",
              "IPY_MODEL_c2271628b6de405d86fdf8d1166fe8e2"
            ]
          }
        },
        "53335c18429442d69c30d503e66e5503": {
          "model_module": "@jupyter-widgets/base",
          "model_name": "LayoutModel",
          "state": {
            "_view_name": "LayoutView",
            "grid_template_rows": null,
            "right": null,
            "justify_content": null,
            "_view_module": "@jupyter-widgets/base",
            "overflow": null,
            "_model_module_version": "1.2.0",
            "_view_count": null,
            "flex_flow": null,
            "width": null,
            "min_width": null,
            "border": null,
            "align_items": null,
            "bottom": null,
            "_model_module": "@jupyter-widgets/base",
            "top": null,
            "grid_column": null,
            "overflow_y": null,
            "overflow_x": null,
            "grid_auto_flow": null,
            "grid_area": null,
            "grid_template_columns": null,
            "flex": null,
            "_model_name": "LayoutModel",
            "justify_items": null,
            "grid_row": null,
            "max_height": null,
            "align_content": null,
            "visibility": null,
            "align_self": null,
            "height": null,
            "min_height": null,
            "padding": null,
            "grid_auto_rows": null,
            "grid_gap": null,
            "max_width": null,
            "order": null,
            "_view_module_version": "1.2.0",
            "grid_template_areas": null,
            "object_position": null,
            "object_fit": null,
            "grid_auto_columns": null,
            "margin": null,
            "display": null,
            "left": null
          }
        },
        "6c294a3564d14eb49abd72a5f87fd1b4": {
          "model_module": "@jupyter-widgets/controls",
          "model_name": "FloatProgressModel",
          "state": {
            "_view_name": "ProgressView",
            "style": "IPY_MODEL_5ee0cbfedd054b6a9f748b1055be2cb1",
            "_dom_classes": [],
            "description": "Downloading: 100%",
            "_model_name": "FloatProgressModel",
            "bar_style": "success",
            "max": 440473133,
            "_view_module": "@jupyter-widgets/controls",
            "_model_module_version": "1.5.0",
            "value": 440473133,
            "_view_count": null,
            "_view_module_version": "1.5.0",
            "orientation": "horizontal",
            "min": 0,
            "description_tooltip": null,
            "_model_module": "@jupyter-widgets/controls",
            "layout": "IPY_MODEL_75cd8df1eda54f8ca82fb3a24801f1a0"
          }
        },
        "c2271628b6de405d86fdf8d1166fe8e2": {
          "model_module": "@jupyter-widgets/controls",
          "model_name": "HTMLModel",
          "state": {
            "_view_name": "HTMLView",
            "style": "IPY_MODEL_7a3a13462a004fcda00cf475a7cc395f",
            "_dom_classes": [],
            "description": "",
            "_model_name": "HTMLModel",
            "placeholder": "​",
            "_view_module": "@jupyter-widgets/controls",
            "_model_module_version": "1.5.0",
            "value": " 440M/440M [00:08&lt;00:00, 51.6MB/s]",
            "_view_count": null,
            "_view_module_version": "1.5.0",
            "description_tooltip": null,
            "_model_module": "@jupyter-widgets/controls",
            "layout": "IPY_MODEL_7936542100cb477fad73cab07a586104"
          }
        },
        "5ee0cbfedd054b6a9f748b1055be2cb1": {
          "model_module": "@jupyter-widgets/controls",
          "model_name": "ProgressStyleModel",
          "state": {
            "_view_name": "StyleView",
            "_model_name": "ProgressStyleModel",
            "description_width": "initial",
            "_view_module": "@jupyter-widgets/base",
            "_model_module_version": "1.5.0",
            "_view_count": null,
            "_view_module_version": "1.2.0",
            "bar_color": null,
            "_model_module": "@jupyter-widgets/controls"
          }
        },
        "75cd8df1eda54f8ca82fb3a24801f1a0": {
          "model_module": "@jupyter-widgets/base",
          "model_name": "LayoutModel",
          "state": {
            "_view_name": "LayoutView",
            "grid_template_rows": null,
            "right": null,
            "justify_content": null,
            "_view_module": "@jupyter-widgets/base",
            "overflow": null,
            "_model_module_version": "1.2.0",
            "_view_count": null,
            "flex_flow": null,
            "width": null,
            "min_width": null,
            "border": null,
            "align_items": null,
            "bottom": null,
            "_model_module": "@jupyter-widgets/base",
            "top": null,
            "grid_column": null,
            "overflow_y": null,
            "overflow_x": null,
            "grid_auto_flow": null,
            "grid_area": null,
            "grid_template_columns": null,
            "flex": null,
            "_model_name": "LayoutModel",
            "justify_items": null,
            "grid_row": null,
            "max_height": null,
            "align_content": null,
            "visibility": null,
            "align_self": null,
            "height": null,
            "min_height": null,
            "padding": null,
            "grid_auto_rows": null,
            "grid_gap": null,
            "max_width": null,
            "order": null,
            "_view_module_version": "1.2.0",
            "grid_template_areas": null,
            "object_position": null,
            "object_fit": null,
            "grid_auto_columns": null,
            "margin": null,
            "display": null,
            "left": null
          }
        },
        "7a3a13462a004fcda00cf475a7cc395f": {
          "model_module": "@jupyter-widgets/controls",
          "model_name": "DescriptionStyleModel",
          "state": {
            "_view_name": "StyleView",
            "_model_name": "DescriptionStyleModel",
            "description_width": "",
            "_view_module": "@jupyter-widgets/base",
            "_model_module_version": "1.5.0",
            "_view_count": null,
            "_view_module_version": "1.2.0",
            "_model_module": "@jupyter-widgets/controls"
          }
        },
        "7936542100cb477fad73cab07a586104": {
          "model_module": "@jupyter-widgets/base",
          "model_name": "LayoutModel",
          "state": {
            "_view_name": "LayoutView",
            "grid_template_rows": null,
            "right": null,
            "justify_content": null,
            "_view_module": "@jupyter-widgets/base",
            "overflow": null,
            "_model_module_version": "1.2.0",
            "_view_count": null,
            "flex_flow": null,
            "width": null,
            "min_width": null,
            "border": null,
            "align_items": null,
            "bottom": null,
            "_model_module": "@jupyter-widgets/base",
            "top": null,
            "grid_column": null,
            "overflow_y": null,
            "overflow_x": null,
            "grid_auto_flow": null,
            "grid_area": null,
            "grid_template_columns": null,
            "flex": null,
            "_model_name": "LayoutModel",
            "justify_items": null,
            "grid_row": null,
            "max_height": null,
            "align_content": null,
            "visibility": null,
            "align_self": null,
            "height": null,
            "min_height": null,
            "padding": null,
            "grid_auto_rows": null,
            "grid_gap": null,
            "max_width": null,
            "order": null,
            "_view_module_version": "1.2.0",
            "grid_template_areas": null,
            "object_position": null,
            "object_fit": null,
            "grid_auto_columns": null,
            "margin": null,
            "display": null,
            "left": null
          }
        },
        "b6e7d48478c24ce9a8b2e2bbe1cb8eb2": {
          "model_module": "@jupyter-widgets/controls",
          "model_name": "HBoxModel",
          "state": {
            "_view_name": "HBoxView",
            "_dom_classes": [],
            "_model_name": "HBoxModel",
            "_view_module": "@jupyter-widgets/controls",
            "_model_module_version": "1.5.0",
            "_view_count": null,
            "_view_module_version": "1.5.0",
            "box_style": "",
            "layout": "IPY_MODEL_1cc5cc0e74bf4b3dbd8cf098e5f1a1d0",
            "_model_module": "@jupyter-widgets/controls",
            "children": [
              "IPY_MODEL_e985681a16d84ad8988205b2fe08a7c6",
              "IPY_MODEL_906d94e7c5e04ed68ef5099af9f10f6e"
            ]
          }
        },
        "1cc5cc0e74bf4b3dbd8cf098e5f1a1d0": {
          "model_module": "@jupyter-widgets/base",
          "model_name": "LayoutModel",
          "state": {
            "_view_name": "LayoutView",
            "grid_template_rows": null,
            "right": null,
            "justify_content": null,
            "_view_module": "@jupyter-widgets/base",
            "overflow": null,
            "_model_module_version": "1.2.0",
            "_view_count": null,
            "flex_flow": null,
            "width": null,
            "min_width": null,
            "border": null,
            "align_items": null,
            "bottom": null,
            "_model_module": "@jupyter-widgets/base",
            "top": null,
            "grid_column": null,
            "overflow_y": null,
            "overflow_x": null,
            "grid_auto_flow": null,
            "grid_area": null,
            "grid_template_columns": null,
            "flex": null,
            "_model_name": "LayoutModel",
            "justify_items": null,
            "grid_row": null,
            "max_height": null,
            "align_content": null,
            "visibility": null,
            "align_self": null,
            "height": null,
            "min_height": null,
            "padding": null,
            "grid_auto_rows": null,
            "grid_gap": null,
            "max_width": null,
            "order": null,
            "_view_module_version": "1.2.0",
            "grid_template_areas": null,
            "object_position": null,
            "object_fit": null,
            "grid_auto_columns": null,
            "margin": null,
            "display": null,
            "left": null
          }
        },
        "e985681a16d84ad8988205b2fe08a7c6": {
          "model_module": "@jupyter-widgets/controls",
          "model_name": "FloatProgressModel",
          "state": {
            "_view_name": "ProgressView",
            "style": "IPY_MODEL_3c0f38dc753847a682dd2203a4464433",
            "_dom_classes": [],
            "description": "Downloading: 100%",
            "_model_name": "FloatProgressModel",
            "bar_style": "success",
            "max": 779,
            "_view_module": "@jupyter-widgets/controls",
            "_model_module_version": "1.5.0",
            "value": 779,
            "_view_count": null,
            "_view_module_version": "1.5.0",
            "orientation": "horizontal",
            "min": 0,
            "description_tooltip": null,
            "_model_module": "@jupyter-widgets/controls",
            "layout": "IPY_MODEL_a90b264113eb43ba869a917d048ba1db"
          }
        },
        "906d94e7c5e04ed68ef5099af9f10f6e": {
          "model_module": "@jupyter-widgets/controls",
          "model_name": "HTMLModel",
          "state": {
            "_view_name": "HTMLView",
            "style": "IPY_MODEL_21bce74035c4461e8b878b15c755daa2",
            "_dom_classes": [],
            "description": "",
            "_model_name": "HTMLModel",
            "placeholder": "​",
            "_view_module": "@jupyter-widgets/controls",
            "_model_module_version": "1.5.0",
            "value": " 779/779 [00:00&lt;00:00, 1.74kB/s]",
            "_view_count": null,
            "_view_module_version": "1.5.0",
            "description_tooltip": null,
            "_model_module": "@jupyter-widgets/controls",
            "layout": "IPY_MODEL_e4c9e55c4be24687a66010d51d0f60de"
          }
        },
        "3c0f38dc753847a682dd2203a4464433": {
          "model_module": "@jupyter-widgets/controls",
          "model_name": "ProgressStyleModel",
          "state": {
            "_view_name": "StyleView",
            "_model_name": "ProgressStyleModel",
            "description_width": "initial",
            "_view_module": "@jupyter-widgets/base",
            "_model_module_version": "1.5.0",
            "_view_count": null,
            "_view_module_version": "1.2.0",
            "bar_color": null,
            "_model_module": "@jupyter-widgets/controls"
          }
        },
        "a90b264113eb43ba869a917d048ba1db": {
          "model_module": "@jupyter-widgets/base",
          "model_name": "LayoutModel",
          "state": {
            "_view_name": "LayoutView",
            "grid_template_rows": null,
            "right": null,
            "justify_content": null,
            "_view_module": "@jupyter-widgets/base",
            "overflow": null,
            "_model_module_version": "1.2.0",
            "_view_count": null,
            "flex_flow": null,
            "width": null,
            "min_width": null,
            "border": null,
            "align_items": null,
            "bottom": null,
            "_model_module": "@jupyter-widgets/base",
            "top": null,
            "grid_column": null,
            "overflow_y": null,
            "overflow_x": null,
            "grid_auto_flow": null,
            "grid_area": null,
            "grid_template_columns": null,
            "flex": null,
            "_model_name": "LayoutModel",
            "justify_items": null,
            "grid_row": null,
            "max_height": null,
            "align_content": null,
            "visibility": null,
            "align_self": null,
            "height": null,
            "min_height": null,
            "padding": null,
            "grid_auto_rows": null,
            "grid_gap": null,
            "max_width": null,
            "order": null,
            "_view_module_version": "1.2.0",
            "grid_template_areas": null,
            "object_position": null,
            "object_fit": null,
            "grid_auto_columns": null,
            "margin": null,
            "display": null,
            "left": null
          }
        },
        "21bce74035c4461e8b878b15c755daa2": {
          "model_module": "@jupyter-widgets/controls",
          "model_name": "DescriptionStyleModel",
          "state": {
            "_view_name": "StyleView",
            "_model_name": "DescriptionStyleModel",
            "description_width": "",
            "_view_module": "@jupyter-widgets/base",
            "_model_module_version": "1.5.0",
            "_view_count": null,
            "_view_module_version": "1.2.0",
            "_model_module": "@jupyter-widgets/controls"
          }
        },
        "e4c9e55c4be24687a66010d51d0f60de": {
          "model_module": "@jupyter-widgets/base",
          "model_name": "LayoutModel",
          "state": {
            "_view_name": "LayoutView",
            "grid_template_rows": null,
            "right": null,
            "justify_content": null,
            "_view_module": "@jupyter-widgets/base",
            "overflow": null,
            "_model_module_version": "1.2.0",
            "_view_count": null,
            "flex_flow": null,
            "width": null,
            "min_width": null,
            "border": null,
            "align_items": null,
            "bottom": null,
            "_model_module": "@jupyter-widgets/base",
            "top": null,
            "grid_column": null,
            "overflow_y": null,
            "overflow_x": null,
            "grid_auto_flow": null,
            "grid_area": null,
            "grid_template_columns": null,
            "flex": null,
            "_model_name": "LayoutModel",
            "justify_items": null,
            "grid_row": null,
            "max_height": null,
            "align_content": null,
            "visibility": null,
            "align_self": null,
            "height": null,
            "min_height": null,
            "padding": null,
            "grid_auto_rows": null,
            "grid_gap": null,
            "max_width": null,
            "order": null,
            "_view_module_version": "1.2.0",
            "grid_template_areas": null,
            "object_position": null,
            "object_fit": null,
            "grid_auto_columns": null,
            "margin": null,
            "display": null,
            "left": null
          }
        },
        "0ab901ce0e724c8c9b00d2b940b38800": {
          "model_module": "@jupyter-widgets/controls",
          "model_name": "HBoxModel",
          "state": {
            "_view_name": "HBoxView",
            "_dom_classes": [],
            "_model_name": "HBoxModel",
            "_view_module": "@jupyter-widgets/controls",
            "_model_module_version": "1.5.0",
            "_view_count": null,
            "_view_module_version": "1.5.0",
            "box_style": "",
            "layout": "IPY_MODEL_01dd693e81da4c72acbe2e467425711b",
            "_model_module": "@jupyter-widgets/controls",
            "children": [
              "IPY_MODEL_4f5ddedd37984cde887bdc3b3e84fe04",
              "IPY_MODEL_55dba4302a1d40f0bc36d9305a962d3b"
            ]
          }
        },
        "01dd693e81da4c72acbe2e467425711b": {
          "model_module": "@jupyter-widgets/base",
          "model_name": "LayoutModel",
          "state": {
            "_view_name": "LayoutView",
            "grid_template_rows": null,
            "right": null,
            "justify_content": null,
            "_view_module": "@jupyter-widgets/base",
            "overflow": null,
            "_model_module_version": "1.2.0",
            "_view_count": null,
            "flex_flow": null,
            "width": null,
            "min_width": null,
            "border": null,
            "align_items": null,
            "bottom": null,
            "_model_module": "@jupyter-widgets/base",
            "top": null,
            "grid_column": null,
            "overflow_y": null,
            "overflow_x": null,
            "grid_auto_flow": null,
            "grid_area": null,
            "grid_template_columns": null,
            "flex": null,
            "_model_name": "LayoutModel",
            "justify_items": null,
            "grid_row": null,
            "max_height": null,
            "align_content": null,
            "visibility": null,
            "align_self": null,
            "height": null,
            "min_height": null,
            "padding": null,
            "grid_auto_rows": null,
            "grid_gap": null,
            "max_width": null,
            "order": null,
            "_view_module_version": "1.2.0",
            "grid_template_areas": null,
            "object_position": null,
            "object_fit": null,
            "grid_auto_columns": null,
            "margin": null,
            "display": null,
            "left": null
          }
        },
        "4f5ddedd37984cde887bdc3b3e84fe04": {
          "model_module": "@jupyter-widgets/controls",
          "model_name": "FloatProgressModel",
          "state": {
            "_view_name": "ProgressView",
            "style": "IPY_MODEL_b1d8b9acabbc4ab7847d733dcef45fa7",
            "_dom_classes": [],
            "description": "Downloading: 100%",
            "_model_name": "FloatProgressModel",
            "bar_style": "success",
            "max": 898822,
            "_view_module": "@jupyter-widgets/controls",
            "_model_module_version": "1.5.0",
            "value": 898822,
            "_view_count": null,
            "_view_module_version": "1.5.0",
            "orientation": "horizontal",
            "min": 0,
            "description_tooltip": null,
            "_model_module": "@jupyter-widgets/controls",
            "layout": "IPY_MODEL_767eda5bdac54bf28d698571b60e10d1"
          }
        },
        "55dba4302a1d40f0bc36d9305a962d3b": {
          "model_module": "@jupyter-widgets/controls",
          "model_name": "HTMLModel",
          "state": {
            "_view_name": "HTMLView",
            "style": "IPY_MODEL_979d968c84b84a1b8f9fe8c15d2e1583",
            "_dom_classes": [],
            "description": "",
            "_model_name": "HTMLModel",
            "placeholder": "​",
            "_view_module": "@jupyter-widgets/controls",
            "_model_module_version": "1.5.0",
            "value": " 899k/899k [00:00&lt;00:00, 6.99MB/s]",
            "_view_count": null,
            "_view_module_version": "1.5.0",
            "description_tooltip": null,
            "_model_module": "@jupyter-widgets/controls",
            "layout": "IPY_MODEL_afb2475db473476cbdd1332e8ecb2c1e"
          }
        },
        "b1d8b9acabbc4ab7847d733dcef45fa7": {
          "model_module": "@jupyter-widgets/controls",
          "model_name": "ProgressStyleModel",
          "state": {
            "_view_name": "StyleView",
            "_model_name": "ProgressStyleModel",
            "description_width": "initial",
            "_view_module": "@jupyter-widgets/base",
            "_model_module_version": "1.5.0",
            "_view_count": null,
            "_view_module_version": "1.2.0",
            "bar_color": null,
            "_model_module": "@jupyter-widgets/controls"
          }
        },
        "767eda5bdac54bf28d698571b60e10d1": {
          "model_module": "@jupyter-widgets/base",
          "model_name": "LayoutModel",
          "state": {
            "_view_name": "LayoutView",
            "grid_template_rows": null,
            "right": null,
            "justify_content": null,
            "_view_module": "@jupyter-widgets/base",
            "overflow": null,
            "_model_module_version": "1.2.0",
            "_view_count": null,
            "flex_flow": null,
            "width": null,
            "min_width": null,
            "border": null,
            "align_items": null,
            "bottom": null,
            "_model_module": "@jupyter-widgets/base",
            "top": null,
            "grid_column": null,
            "overflow_y": null,
            "overflow_x": null,
            "grid_auto_flow": null,
            "grid_area": null,
            "grid_template_columns": null,
            "flex": null,
            "_model_name": "LayoutModel",
            "justify_items": null,
            "grid_row": null,
            "max_height": null,
            "align_content": null,
            "visibility": null,
            "align_self": null,
            "height": null,
            "min_height": null,
            "padding": null,
            "grid_auto_rows": null,
            "grid_gap": null,
            "max_width": null,
            "order": null,
            "_view_module_version": "1.2.0",
            "grid_template_areas": null,
            "object_position": null,
            "object_fit": null,
            "grid_auto_columns": null,
            "margin": null,
            "display": null,
            "left": null
          }
        },
        "979d968c84b84a1b8f9fe8c15d2e1583": {
          "model_module": "@jupyter-widgets/controls",
          "model_name": "DescriptionStyleModel",
          "state": {
            "_view_name": "StyleView",
            "_model_name": "DescriptionStyleModel",
            "description_width": "",
            "_view_module": "@jupyter-widgets/base",
            "_model_module_version": "1.5.0",
            "_view_count": null,
            "_view_module_version": "1.2.0",
            "_model_module": "@jupyter-widgets/controls"
          }
        },
        "afb2475db473476cbdd1332e8ecb2c1e": {
          "model_module": "@jupyter-widgets/base",
          "model_name": "LayoutModel",
          "state": {
            "_view_name": "LayoutView",
            "grid_template_rows": null,
            "right": null,
            "justify_content": null,
            "_view_module": "@jupyter-widgets/base",
            "overflow": null,
            "_model_module_version": "1.2.0",
            "_view_count": null,
            "flex_flow": null,
            "width": null,
            "min_width": null,
            "border": null,
            "align_items": null,
            "bottom": null,
            "_model_module": "@jupyter-widgets/base",
            "top": null,
            "grid_column": null,
            "overflow_y": null,
            "overflow_x": null,
            "grid_auto_flow": null,
            "grid_area": null,
            "grid_template_columns": null,
            "flex": null,
            "_model_name": "LayoutModel",
            "justify_items": null,
            "grid_row": null,
            "max_height": null,
            "align_content": null,
            "visibility": null,
            "align_self": null,
            "height": null,
            "min_height": null,
            "padding": null,
            "grid_auto_rows": null,
            "grid_gap": null,
            "max_width": null,
            "order": null,
            "_view_module_version": "1.2.0",
            "grid_template_areas": null,
            "object_position": null,
            "object_fit": null,
            "grid_auto_columns": null,
            "margin": null,
            "display": null,
            "left": null
          }
        },
        "056169b832d94095a922058f4c2dc295": {
          "model_module": "@jupyter-widgets/controls",
          "model_name": "HBoxModel",
          "state": {
            "_view_name": "HBoxView",
            "_dom_classes": [],
            "_model_name": "HBoxModel",
            "_view_module": "@jupyter-widgets/controls",
            "_model_module_version": "1.5.0",
            "_view_count": null,
            "_view_module_version": "1.5.0",
            "box_style": "",
            "layout": "IPY_MODEL_f348cc212b854b81bc0f09b02c5fc20c",
            "_model_module": "@jupyter-widgets/controls",
            "children": [
              "IPY_MODEL_86594c508f294637874ebfccb2ba198c",
              "IPY_MODEL_a7e0f27402d74d65b935d5e6234caf97"
            ]
          }
        },
        "f348cc212b854b81bc0f09b02c5fc20c": {
          "model_module": "@jupyter-widgets/base",
          "model_name": "LayoutModel",
          "state": {
            "_view_name": "LayoutView",
            "grid_template_rows": null,
            "right": null,
            "justify_content": null,
            "_view_module": "@jupyter-widgets/base",
            "overflow": null,
            "_model_module_version": "1.2.0",
            "_view_count": null,
            "flex_flow": null,
            "width": null,
            "min_width": null,
            "border": null,
            "align_items": null,
            "bottom": null,
            "_model_module": "@jupyter-widgets/base",
            "top": null,
            "grid_column": null,
            "overflow_y": null,
            "overflow_x": null,
            "grid_auto_flow": null,
            "grid_area": null,
            "grid_template_columns": null,
            "flex": null,
            "_model_name": "LayoutModel",
            "justify_items": null,
            "grid_row": null,
            "max_height": null,
            "align_content": null,
            "visibility": null,
            "align_self": null,
            "height": null,
            "min_height": null,
            "padding": null,
            "grid_auto_rows": null,
            "grid_gap": null,
            "max_width": null,
            "order": null,
            "_view_module_version": "1.2.0",
            "grid_template_areas": null,
            "object_position": null,
            "object_fit": null,
            "grid_auto_columns": null,
            "margin": null,
            "display": null,
            "left": null
          }
        },
        "86594c508f294637874ebfccb2ba198c": {
          "model_module": "@jupyter-widgets/controls",
          "model_name": "FloatProgressModel",
          "state": {
            "_view_name": "ProgressView",
            "style": "IPY_MODEL_c4426498fc2e433ab43ad21b4506c6f8",
            "_dom_classes": [],
            "description": "Downloading: 100%",
            "_model_name": "FloatProgressModel",
            "bar_style": "success",
            "max": 456318,
            "_view_module": "@jupyter-widgets/controls",
            "_model_module_version": "1.5.0",
            "value": 456318,
            "_view_count": null,
            "_view_module_version": "1.5.0",
            "orientation": "horizontal",
            "min": 0,
            "description_tooltip": null,
            "_model_module": "@jupyter-widgets/controls",
            "layout": "IPY_MODEL_6680bbacc66a4660b52d1553b279d7c2"
          }
        },
        "a7e0f27402d74d65b935d5e6234caf97": {
          "model_module": "@jupyter-widgets/controls",
          "model_name": "HTMLModel",
          "state": {
            "_view_name": "HTMLView",
            "style": "IPY_MODEL_c729b6ef70af4009b8d1ea75c8587839",
            "_dom_classes": [],
            "description": "",
            "_model_name": "HTMLModel",
            "placeholder": "​",
            "_view_module": "@jupyter-widgets/controls",
            "_model_module_version": "1.5.0",
            "value": " 456k/456k [00:00&lt;00:00, 1.90MB/s]",
            "_view_count": null,
            "_view_module_version": "1.5.0",
            "description_tooltip": null,
            "_model_module": "@jupyter-widgets/controls",
            "layout": "IPY_MODEL_14923d64f48142b5ac62817838e190db"
          }
        },
        "c4426498fc2e433ab43ad21b4506c6f8": {
          "model_module": "@jupyter-widgets/controls",
          "model_name": "ProgressStyleModel",
          "state": {
            "_view_name": "StyleView",
            "_model_name": "ProgressStyleModel",
            "description_width": "initial",
            "_view_module": "@jupyter-widgets/base",
            "_model_module_version": "1.5.0",
            "_view_count": null,
            "_view_module_version": "1.2.0",
            "bar_color": null,
            "_model_module": "@jupyter-widgets/controls"
          }
        },
        "6680bbacc66a4660b52d1553b279d7c2": {
          "model_module": "@jupyter-widgets/base",
          "model_name": "LayoutModel",
          "state": {
            "_view_name": "LayoutView",
            "grid_template_rows": null,
            "right": null,
            "justify_content": null,
            "_view_module": "@jupyter-widgets/base",
            "overflow": null,
            "_model_module_version": "1.2.0",
            "_view_count": null,
            "flex_flow": null,
            "width": null,
            "min_width": null,
            "border": null,
            "align_items": null,
            "bottom": null,
            "_model_module": "@jupyter-widgets/base",
            "top": null,
            "grid_column": null,
            "overflow_y": null,
            "overflow_x": null,
            "grid_auto_flow": null,
            "grid_area": null,
            "grid_template_columns": null,
            "flex": null,
            "_model_name": "LayoutModel",
            "justify_items": null,
            "grid_row": null,
            "max_height": null,
            "align_content": null,
            "visibility": null,
            "align_self": null,
            "height": null,
            "min_height": null,
            "padding": null,
            "grid_auto_rows": null,
            "grid_gap": null,
            "max_width": null,
            "order": null,
            "_view_module_version": "1.2.0",
            "grid_template_areas": null,
            "object_position": null,
            "object_fit": null,
            "grid_auto_columns": null,
            "margin": null,
            "display": null,
            "left": null
          }
        },
        "c729b6ef70af4009b8d1ea75c8587839": {
          "model_module": "@jupyter-widgets/controls",
          "model_name": "DescriptionStyleModel",
          "state": {
            "_view_name": "StyleView",
            "_model_name": "DescriptionStyleModel",
            "description_width": "",
            "_view_module": "@jupyter-widgets/base",
            "_model_module_version": "1.5.0",
            "_view_count": null,
            "_view_module_version": "1.2.0",
            "_model_module": "@jupyter-widgets/controls"
          }
        },
        "14923d64f48142b5ac62817838e190db": {
          "model_module": "@jupyter-widgets/base",
          "model_name": "LayoutModel",
          "state": {
            "_view_name": "LayoutView",
            "grid_template_rows": null,
            "right": null,
            "justify_content": null,
            "_view_module": "@jupyter-widgets/base",
            "overflow": null,
            "_model_module_version": "1.2.0",
            "_view_count": null,
            "flex_flow": null,
            "width": null,
            "min_width": null,
            "border": null,
            "align_items": null,
            "bottom": null,
            "_model_module": "@jupyter-widgets/base",
            "top": null,
            "grid_column": null,
            "overflow_y": null,
            "overflow_x": null,
            "grid_auto_flow": null,
            "grid_area": null,
            "grid_template_columns": null,
            "flex": null,
            "_model_name": "LayoutModel",
            "justify_items": null,
            "grid_row": null,
            "max_height": null,
            "align_content": null,
            "visibility": null,
            "align_self": null,
            "height": null,
            "min_height": null,
            "padding": null,
            "grid_auto_rows": null,
            "grid_gap": null,
            "max_width": null,
            "order": null,
            "_view_module_version": "1.2.0",
            "grid_template_areas": null,
            "object_position": null,
            "object_fit": null,
            "grid_auto_columns": null,
            "margin": null,
            "display": null,
            "left": null
          }
        },
        "dcd8a27a71914f0fb073d4d6e55e7027": {
          "model_module": "@jupyter-widgets/controls",
          "model_name": "HBoxModel",
          "state": {
            "_view_name": "HBoxView",
            "_dom_classes": [],
            "_model_name": "HBoxModel",
            "_view_module": "@jupyter-widgets/controls",
            "_model_module_version": "1.5.0",
            "_view_count": null,
            "_view_module_version": "1.5.0",
            "box_style": "",
            "layout": "IPY_MODEL_43798071509040e988dafbcd17983f9c",
            "_model_module": "@jupyter-widgets/controls",
            "children": [
              "IPY_MODEL_6fdb7f83d56440579440983761915efa",
              "IPY_MODEL_be424217b1bd4c8f99dcc591419e3b67"
            ]
          }
        },
        "43798071509040e988dafbcd17983f9c": {
          "model_module": "@jupyter-widgets/base",
          "model_name": "LayoutModel",
          "state": {
            "_view_name": "LayoutView",
            "grid_template_rows": null,
            "right": null,
            "justify_content": null,
            "_view_module": "@jupyter-widgets/base",
            "overflow": null,
            "_model_module_version": "1.2.0",
            "_view_count": null,
            "flex_flow": null,
            "width": null,
            "min_width": null,
            "border": null,
            "align_items": null,
            "bottom": null,
            "_model_module": "@jupyter-widgets/base",
            "top": null,
            "grid_column": null,
            "overflow_y": null,
            "overflow_x": null,
            "grid_auto_flow": null,
            "grid_area": null,
            "grid_template_columns": null,
            "flex": null,
            "_model_name": "LayoutModel",
            "justify_items": null,
            "grid_row": null,
            "max_height": null,
            "align_content": null,
            "visibility": null,
            "align_self": null,
            "height": null,
            "min_height": null,
            "padding": null,
            "grid_auto_rows": null,
            "grid_gap": null,
            "max_width": null,
            "order": null,
            "_view_module_version": "1.2.0",
            "grid_template_areas": null,
            "object_position": null,
            "object_fit": null,
            "grid_auto_columns": null,
            "margin": null,
            "display": null,
            "left": null
          }
        },
        "6fdb7f83d56440579440983761915efa": {
          "model_module": "@jupyter-widgets/controls",
          "model_name": "FloatProgressModel",
          "state": {
            "_view_name": "ProgressView",
            "style": "IPY_MODEL_1665211c59044cbc9a5b0809b383a887",
            "_dom_classes": [],
            "description": "Downloading: 100%",
            "_model_name": "FloatProgressModel",
            "bar_style": "success",
            "max": 150,
            "_view_module": "@jupyter-widgets/controls",
            "_model_module_version": "1.5.0",
            "value": 150,
            "_view_count": null,
            "_view_module_version": "1.5.0",
            "orientation": "horizontal",
            "min": 0,
            "description_tooltip": null,
            "_model_module": "@jupyter-widgets/controls",
            "layout": "IPY_MODEL_e7cf9ac95c074003bb960afe1bc01566"
          }
        },
        "be424217b1bd4c8f99dcc591419e3b67": {
          "model_module": "@jupyter-widgets/controls",
          "model_name": "HTMLModel",
          "state": {
            "_view_name": "HTMLView",
            "style": "IPY_MODEL_e571989e6bbd4487b88f3ebd5814cf77",
            "_dom_classes": [],
            "description": "",
            "_model_name": "HTMLModel",
            "placeholder": "​",
            "_view_module": "@jupyter-widgets/controls",
            "_model_module_version": "1.5.0",
            "value": " 150/150 [00:00&lt;00:00, 1.32kB/s]",
            "_view_count": null,
            "_view_module_version": "1.5.0",
            "description_tooltip": null,
            "_model_module": "@jupyter-widgets/controls",
            "layout": "IPY_MODEL_d7ac7015e26e49d1a750fa8b6fc0ec5c"
          }
        },
        "1665211c59044cbc9a5b0809b383a887": {
          "model_module": "@jupyter-widgets/controls",
          "model_name": "ProgressStyleModel",
          "state": {
            "_view_name": "StyleView",
            "_model_name": "ProgressStyleModel",
            "description_width": "initial",
            "_view_module": "@jupyter-widgets/base",
            "_model_module_version": "1.5.0",
            "_view_count": null,
            "_view_module_version": "1.2.0",
            "bar_color": null,
            "_model_module": "@jupyter-widgets/controls"
          }
        },
        "e7cf9ac95c074003bb960afe1bc01566": {
          "model_module": "@jupyter-widgets/base",
          "model_name": "LayoutModel",
          "state": {
            "_view_name": "LayoutView",
            "grid_template_rows": null,
            "right": null,
            "justify_content": null,
            "_view_module": "@jupyter-widgets/base",
            "overflow": null,
            "_model_module_version": "1.2.0",
            "_view_count": null,
            "flex_flow": null,
            "width": null,
            "min_width": null,
            "border": null,
            "align_items": null,
            "bottom": null,
            "_model_module": "@jupyter-widgets/base",
            "top": null,
            "grid_column": null,
            "overflow_y": null,
            "overflow_x": null,
            "grid_auto_flow": null,
            "grid_area": null,
            "grid_template_columns": null,
            "flex": null,
            "_model_name": "LayoutModel",
            "justify_items": null,
            "grid_row": null,
            "max_height": null,
            "align_content": null,
            "visibility": null,
            "align_self": null,
            "height": null,
            "min_height": null,
            "padding": null,
            "grid_auto_rows": null,
            "grid_gap": null,
            "max_width": null,
            "order": null,
            "_view_module_version": "1.2.0",
            "grid_template_areas": null,
            "object_position": null,
            "object_fit": null,
            "grid_auto_columns": null,
            "margin": null,
            "display": null,
            "left": null
          }
        },
        "e571989e6bbd4487b88f3ebd5814cf77": {
          "model_module": "@jupyter-widgets/controls",
          "model_name": "DescriptionStyleModel",
          "state": {
            "_view_name": "StyleView",
            "_model_name": "DescriptionStyleModel",
            "description_width": "",
            "_view_module": "@jupyter-widgets/base",
            "_model_module_version": "1.5.0",
            "_view_count": null,
            "_view_module_version": "1.2.0",
            "_model_module": "@jupyter-widgets/controls"
          }
        },
        "d7ac7015e26e49d1a750fa8b6fc0ec5c": {
          "model_module": "@jupyter-widgets/base",
          "model_name": "LayoutModel",
          "state": {
            "_view_name": "LayoutView",
            "grid_template_rows": null,
            "right": null,
            "justify_content": null,
            "_view_module": "@jupyter-widgets/base",
            "overflow": null,
            "_model_module_version": "1.2.0",
            "_view_count": null,
            "flex_flow": null,
            "width": null,
            "min_width": null,
            "border": null,
            "align_items": null,
            "bottom": null,
            "_model_module": "@jupyter-widgets/base",
            "top": null,
            "grid_column": null,
            "overflow_y": null,
            "overflow_x": null,
            "grid_auto_flow": null,
            "grid_area": null,
            "grid_template_columns": null,
            "flex": null,
            "_model_name": "LayoutModel",
            "justify_items": null,
            "grid_row": null,
            "max_height": null,
            "align_content": null,
            "visibility": null,
            "align_self": null,
            "height": null,
            "min_height": null,
            "padding": null,
            "grid_auto_rows": null,
            "grid_gap": null,
            "max_width": null,
            "order": null,
            "_view_module_version": "1.2.0",
            "grid_template_areas": null,
            "object_position": null,
            "object_fit": null,
            "grid_auto_columns": null,
            "margin": null,
            "display": null,
            "left": null
          }
        },
        "41b1bdc2ac21448493c06908f975c178": {
          "model_module": "@jupyter-widgets/controls",
          "model_name": "HBoxModel",
          "state": {
            "_view_name": "HBoxView",
            "_dom_classes": [],
            "_model_name": "HBoxModel",
            "_view_module": "@jupyter-widgets/controls",
            "_model_module_version": "1.5.0",
            "_view_count": null,
            "_view_module_version": "1.5.0",
            "box_style": "",
            "layout": "IPY_MODEL_288f3cbd6e5f495b84407b31ab085b60",
            "_model_module": "@jupyter-widgets/controls",
            "children": [
              "IPY_MODEL_c26f3e0ad6bc4493a904c42d48c1385c",
              "IPY_MODEL_7432a1b60dc34dfb88dca8dd15b12c97"
            ]
          }
        },
        "288f3cbd6e5f495b84407b31ab085b60": {
          "model_module": "@jupyter-widgets/base",
          "model_name": "LayoutModel",
          "state": {
            "_view_name": "LayoutView",
            "grid_template_rows": null,
            "right": null,
            "justify_content": null,
            "_view_module": "@jupyter-widgets/base",
            "overflow": null,
            "_model_module_version": "1.2.0",
            "_view_count": null,
            "flex_flow": null,
            "width": null,
            "min_width": null,
            "border": null,
            "align_items": null,
            "bottom": null,
            "_model_module": "@jupyter-widgets/base",
            "top": null,
            "grid_column": null,
            "overflow_y": null,
            "overflow_x": null,
            "grid_auto_flow": null,
            "grid_area": null,
            "grid_template_columns": null,
            "flex": null,
            "_model_name": "LayoutModel",
            "justify_items": null,
            "grid_row": null,
            "max_height": null,
            "align_content": null,
            "visibility": null,
            "align_self": null,
            "height": null,
            "min_height": null,
            "padding": null,
            "grid_auto_rows": null,
            "grid_gap": null,
            "max_width": null,
            "order": null,
            "_view_module_version": "1.2.0",
            "grid_template_areas": null,
            "object_position": null,
            "object_fit": null,
            "grid_auto_columns": null,
            "margin": null,
            "display": null,
            "left": null
          }
        },
        "c26f3e0ad6bc4493a904c42d48c1385c": {
          "model_module": "@jupyter-widgets/controls",
          "model_name": "FloatProgressModel",
          "state": {
            "_view_name": "ProgressView",
            "style": "IPY_MODEL_63f3107c0b184997bcc78351455eb8dd",
            "_dom_classes": [],
            "description": "Downloading: 100%",
            "_model_name": "FloatProgressModel",
            "bar_style": "success",
            "max": 498682569,
            "_view_module": "@jupyter-widgets/controls",
            "_model_module_version": "1.5.0",
            "value": 498682569,
            "_view_count": null,
            "_view_module_version": "1.5.0",
            "orientation": "horizontal",
            "min": 0,
            "description_tooltip": null,
            "_model_module": "@jupyter-widgets/controls",
            "layout": "IPY_MODEL_2f1860a4ef734b02b5f886614619bd73"
          }
        },
        "7432a1b60dc34dfb88dca8dd15b12c97": {
          "model_module": "@jupyter-widgets/controls",
          "model_name": "HTMLModel",
          "state": {
            "_view_name": "HTMLView",
            "style": "IPY_MODEL_e44ae82334ce4efcb27d90b700e31b9a",
            "_dom_classes": [],
            "description": "",
            "_model_name": "HTMLModel",
            "placeholder": "​",
            "_view_module": "@jupyter-widgets/controls",
            "_model_module_version": "1.5.0",
            "value": " 499M/499M [00:12&lt;00:00, 41.4MB/s]",
            "_view_count": null,
            "_view_module_version": "1.5.0",
            "description_tooltip": null,
            "_model_module": "@jupyter-widgets/controls",
            "layout": "IPY_MODEL_6046a0e09a804aa68b161834f6a9a9bf"
          }
        },
        "63f3107c0b184997bcc78351455eb8dd": {
          "model_module": "@jupyter-widgets/controls",
          "model_name": "ProgressStyleModel",
          "state": {
            "_view_name": "StyleView",
            "_model_name": "ProgressStyleModel",
            "description_width": "initial",
            "_view_module": "@jupyter-widgets/base",
            "_model_module_version": "1.5.0",
            "_view_count": null,
            "_view_module_version": "1.2.0",
            "bar_color": null,
            "_model_module": "@jupyter-widgets/controls"
          }
        },
        "2f1860a4ef734b02b5f886614619bd73": {
          "model_module": "@jupyter-widgets/base",
          "model_name": "LayoutModel",
          "state": {
            "_view_name": "LayoutView",
            "grid_template_rows": null,
            "right": null,
            "justify_content": null,
            "_view_module": "@jupyter-widgets/base",
            "overflow": null,
            "_model_module_version": "1.2.0",
            "_view_count": null,
            "flex_flow": null,
            "width": null,
            "min_width": null,
            "border": null,
            "align_items": null,
            "bottom": null,
            "_model_module": "@jupyter-widgets/base",
            "top": null,
            "grid_column": null,
            "overflow_y": null,
            "overflow_x": null,
            "grid_auto_flow": null,
            "grid_area": null,
            "grid_template_columns": null,
            "flex": null,
            "_model_name": "LayoutModel",
            "justify_items": null,
            "grid_row": null,
            "max_height": null,
            "align_content": null,
            "visibility": null,
            "align_self": null,
            "height": null,
            "min_height": null,
            "padding": null,
            "grid_auto_rows": null,
            "grid_gap": null,
            "max_width": null,
            "order": null,
            "_view_module_version": "1.2.0",
            "grid_template_areas": null,
            "object_position": null,
            "object_fit": null,
            "grid_auto_columns": null,
            "margin": null,
            "display": null,
            "left": null
          }
        },
        "e44ae82334ce4efcb27d90b700e31b9a": {
          "model_module": "@jupyter-widgets/controls",
          "model_name": "DescriptionStyleModel",
          "state": {
            "_view_name": "StyleView",
            "_model_name": "DescriptionStyleModel",
            "description_width": "",
            "_view_module": "@jupyter-widgets/base",
            "_model_module_version": "1.5.0",
            "_view_count": null,
            "_view_module_version": "1.2.0",
            "_model_module": "@jupyter-widgets/controls"
          }
        },
        "6046a0e09a804aa68b161834f6a9a9bf": {
          "model_module": "@jupyter-widgets/base",
          "model_name": "LayoutModel",
          "state": {
            "_view_name": "LayoutView",
            "grid_template_rows": null,
            "right": null,
            "justify_content": null,
            "_view_module": "@jupyter-widgets/base",
            "overflow": null,
            "_model_module_version": "1.2.0",
            "_view_count": null,
            "flex_flow": null,
            "width": null,
            "min_width": null,
            "border": null,
            "align_items": null,
            "bottom": null,
            "_model_module": "@jupyter-widgets/base",
            "top": null,
            "grid_column": null,
            "overflow_y": null,
            "overflow_x": null,
            "grid_auto_flow": null,
            "grid_area": null,
            "grid_template_columns": null,
            "flex": null,
            "_model_name": "LayoutModel",
            "justify_items": null,
            "grid_row": null,
            "max_height": null,
            "align_content": null,
            "visibility": null,
            "align_self": null,
            "height": null,
            "min_height": null,
            "padding": null,
            "grid_auto_rows": null,
            "grid_gap": null,
            "max_width": null,
            "order": null,
            "_view_module_version": "1.2.0",
            "grid_template_areas": null,
            "object_position": null,
            "object_fit": null,
            "grid_auto_columns": null,
            "margin": null,
            "display": null,
            "left": null
          }
        },
        "4b61581eb9704a078aaba92cd71f8005": {
          "model_module": "@jupyter-widgets/controls",
          "model_name": "HBoxModel",
          "state": {
            "_view_name": "HBoxView",
            "_dom_classes": [],
            "_model_name": "HBoxModel",
            "_view_module": "@jupyter-widgets/controls",
            "_model_module_version": "1.5.0",
            "_view_count": null,
            "_view_module_version": "1.5.0",
            "box_style": "",
            "layout": "IPY_MODEL_263be51bd874406e86a3893378ff017c",
            "_model_module": "@jupyter-widgets/controls",
            "children": [
              "IPY_MODEL_8572f3cb4c934552a799f82d417655c5",
              "IPY_MODEL_b2f89b7e10d24751ab9b954bb46d8d20"
            ]
          }
        },
        "263be51bd874406e86a3893378ff017c": {
          "model_module": "@jupyter-widgets/base",
          "model_name": "LayoutModel",
          "state": {
            "_view_name": "LayoutView",
            "grid_template_rows": null,
            "right": null,
            "justify_content": null,
            "_view_module": "@jupyter-widgets/base",
            "overflow": null,
            "_model_module_version": "1.2.0",
            "_view_count": null,
            "flex_flow": null,
            "width": null,
            "min_width": null,
            "border": null,
            "align_items": null,
            "bottom": null,
            "_model_module": "@jupyter-widgets/base",
            "top": null,
            "grid_column": null,
            "overflow_y": null,
            "overflow_x": null,
            "grid_auto_flow": null,
            "grid_area": null,
            "grid_template_columns": null,
            "flex": null,
            "_model_name": "LayoutModel",
            "justify_items": null,
            "grid_row": null,
            "max_height": null,
            "align_content": null,
            "visibility": null,
            "align_self": null,
            "height": null,
            "min_height": null,
            "padding": null,
            "grid_auto_rows": null,
            "grid_gap": null,
            "max_width": null,
            "order": null,
            "_view_module_version": "1.2.0",
            "grid_template_areas": null,
            "object_position": null,
            "object_fit": null,
            "grid_auto_columns": null,
            "margin": null,
            "display": null,
            "left": null
          }
        },
        "8572f3cb4c934552a799f82d417655c5": {
          "model_module": "@jupyter-widgets/controls",
          "model_name": "FloatProgressModel",
          "state": {
            "_view_name": "ProgressView",
            "style": "IPY_MODEL_eaaa89d6c97d4857a3c67e8e1725e9ad",
            "_dom_classes": [],
            "description": "Downloading: 100%",
            "_model_name": "FloatProgressModel",
            "bar_style": "success",
            "max": 498679497,
            "_view_module": "@jupyter-widgets/controls",
            "_model_module_version": "1.5.0",
            "value": 498679497,
            "_view_count": null,
            "_view_module_version": "1.5.0",
            "orientation": "horizontal",
            "min": 0,
            "description_tooltip": null,
            "_model_module": "@jupyter-widgets/controls",
            "layout": "IPY_MODEL_4e8677e04f5040978ace691e41a84f2d"
          }
        },
        "b2f89b7e10d24751ab9b954bb46d8d20": {
          "model_module": "@jupyter-widgets/controls",
          "model_name": "HTMLModel",
          "state": {
            "_view_name": "HTMLView",
            "style": "IPY_MODEL_bffcaa1782f04f93a7b20a951bc50439",
            "_dom_classes": [],
            "description": "",
            "_model_name": "HTMLModel",
            "placeholder": "​",
            "_view_module": "@jupyter-widgets/controls",
            "_model_module_version": "1.5.0",
            "value": " 499M/499M [04:30&lt;00:00, 1.84MB/s]",
            "_view_count": null,
            "_view_module_version": "1.5.0",
            "description_tooltip": null,
            "_model_module": "@jupyter-widgets/controls",
            "layout": "IPY_MODEL_2f9d88d1566946efb3aca9ef77a7964a"
          }
        },
        "eaaa89d6c97d4857a3c67e8e1725e9ad": {
          "model_module": "@jupyter-widgets/controls",
          "model_name": "ProgressStyleModel",
          "state": {
            "_view_name": "StyleView",
            "_model_name": "ProgressStyleModel",
            "description_width": "initial",
            "_view_module": "@jupyter-widgets/base",
            "_model_module_version": "1.5.0",
            "_view_count": null,
            "_view_module_version": "1.2.0",
            "bar_color": null,
            "_model_module": "@jupyter-widgets/controls"
          }
        },
        "4e8677e04f5040978ace691e41a84f2d": {
          "model_module": "@jupyter-widgets/base",
          "model_name": "LayoutModel",
          "state": {
            "_view_name": "LayoutView",
            "grid_template_rows": null,
            "right": null,
            "justify_content": null,
            "_view_module": "@jupyter-widgets/base",
            "overflow": null,
            "_model_module_version": "1.2.0",
            "_view_count": null,
            "flex_flow": null,
            "width": null,
            "min_width": null,
            "border": null,
            "align_items": null,
            "bottom": null,
            "_model_module": "@jupyter-widgets/base",
            "top": null,
            "grid_column": null,
            "overflow_y": null,
            "overflow_x": null,
            "grid_auto_flow": null,
            "grid_area": null,
            "grid_template_columns": null,
            "flex": null,
            "_model_name": "LayoutModel",
            "justify_items": null,
            "grid_row": null,
            "max_height": null,
            "align_content": null,
            "visibility": null,
            "align_self": null,
            "height": null,
            "min_height": null,
            "padding": null,
            "grid_auto_rows": null,
            "grid_gap": null,
            "max_width": null,
            "order": null,
            "_view_module_version": "1.2.0",
            "grid_template_areas": null,
            "object_position": null,
            "object_fit": null,
            "grid_auto_columns": null,
            "margin": null,
            "display": null,
            "left": null
          }
        },
        "bffcaa1782f04f93a7b20a951bc50439": {
          "model_module": "@jupyter-widgets/controls",
          "model_name": "DescriptionStyleModel",
          "state": {
            "_view_name": "StyleView",
            "_model_name": "DescriptionStyleModel",
            "description_width": "",
            "_view_module": "@jupyter-widgets/base",
            "_model_module_version": "1.5.0",
            "_view_count": null,
            "_view_module_version": "1.2.0",
            "_model_module": "@jupyter-widgets/controls"
          }
        },
        "2f9d88d1566946efb3aca9ef77a7964a": {
          "model_module": "@jupyter-widgets/base",
          "model_name": "LayoutModel",
          "state": {
            "_view_name": "LayoutView",
            "grid_template_rows": null,
            "right": null,
            "justify_content": null,
            "_view_module": "@jupyter-widgets/base",
            "overflow": null,
            "_model_module_version": "1.2.0",
            "_view_count": null,
            "flex_flow": null,
            "width": null,
            "min_width": null,
            "border": null,
            "align_items": null,
            "bottom": null,
            "_model_module": "@jupyter-widgets/base",
            "top": null,
            "grid_column": null,
            "overflow_y": null,
            "overflow_x": null,
            "grid_auto_flow": null,
            "grid_area": null,
            "grid_template_columns": null,
            "flex": null,
            "_model_name": "LayoutModel",
            "justify_items": null,
            "grid_row": null,
            "max_height": null,
            "align_content": null,
            "visibility": null,
            "align_self": null,
            "height": null,
            "min_height": null,
            "padding": null,
            "grid_auto_rows": null,
            "grid_gap": null,
            "max_width": null,
            "order": null,
            "_view_module_version": "1.2.0",
            "grid_template_areas": null,
            "object_position": null,
            "object_fit": null,
            "grid_auto_columns": null,
            "margin": null,
            "display": null,
            "left": null
          }
        }
      }
    }
  },
  "cells": [
    {
      "cell_type": "markdown",
      "metadata": {
        "id": "view-in-github",
        "colab_type": "text"
      },
      "source": [
        "<a href=\"https://colab.research.google.com/github/raheeltahir55/CE888/blob/main/Project/Proj_MultiEval_Emotion_RoBERTA.ipynb\" target=\"_parent\"><img src=\"https://colab.research.google.com/assets/colab-badge.svg\" alt=\"Open In Colab\"/></a>"
      ]
    },
    {
      "cell_type": "code",
      "metadata": {
        "colab": {
          "base_uri": "https://localhost:8080/"
        },
        "id": "mYYQnLEhM0vZ",
        "outputId": "a800376f-15ee-4707-fde4-c00529681cb8"
      },
      "source": [
        "!pip install transformers"
      ],
      "execution_count": 1,
      "outputs": [
        {
          "output_type": "stream",
          "text": [
            "Collecting transformers\n",
            "\u001b[?25l  Downloading https://files.pythonhosted.org/packages/d8/b2/57495b5309f09fa501866e225c84532d1fd89536ea62406b2181933fb418/transformers-4.5.1-py3-none-any.whl (2.1MB)\n",
            "\r\u001b[K     |▏                               | 10kB 22.7MB/s eta 0:00:01\r\u001b[K     |▎                               | 20kB 30.3MB/s eta 0:00:01\r\u001b[K     |▌                               | 30kB 20.1MB/s eta 0:00:01\r\u001b[K     |▋                               | 40kB 23.1MB/s eta 0:00:01\r\u001b[K     |▉                               | 51kB 25.4MB/s eta 0:00:01\r\u001b[K     |█                               | 61kB 28.1MB/s eta 0:00:01\r\u001b[K     |█▏                              | 71kB 19.5MB/s eta 0:00:01\r\u001b[K     |█▎                              | 81kB 20.5MB/s eta 0:00:01\r\u001b[K     |█▍                              | 92kB 19.4MB/s eta 0:00:01\r\u001b[K     |█▋                              | 102kB 20.7MB/s eta 0:00:01\r\u001b[K     |█▊                              | 112kB 20.7MB/s eta 0:00:01\r\u001b[K     |██                              | 122kB 20.7MB/s eta 0:00:01\r\u001b[K     |██                              | 133kB 20.7MB/s eta 0:00:01\r\u001b[K     |██▎                             | 143kB 20.7MB/s eta 0:00:01\r\u001b[K     |██▍                             | 153kB 20.7MB/s eta 0:00:01\r\u001b[K     |██▌                             | 163kB 20.7MB/s eta 0:00:01\r\u001b[K     |██▊                             | 174kB 20.7MB/s eta 0:00:01\r\u001b[K     |██▉                             | 184kB 20.7MB/s eta 0:00:01\r\u001b[K     |███                             | 194kB 20.7MB/s eta 0:00:01\r\u001b[K     |███▏                            | 204kB 20.7MB/s eta 0:00:01\r\u001b[K     |███▍                            | 215kB 20.7MB/s eta 0:00:01\r\u001b[K     |███▌                            | 225kB 20.7MB/s eta 0:00:01\r\u001b[K     |███▋                            | 235kB 20.7MB/s eta 0:00:01\r\u001b[K     |███▉                            | 245kB 20.7MB/s eta 0:00:01\r\u001b[K     |████                            | 256kB 20.7MB/s eta 0:00:01\r\u001b[K     |████▏                           | 266kB 20.7MB/s eta 0:00:01\r\u001b[K     |████▎                           | 276kB 20.7MB/s eta 0:00:01\r\u001b[K     |████▌                           | 286kB 20.7MB/s eta 0:00:01\r\u001b[K     |████▋                           | 296kB 20.7MB/s eta 0:00:01\r\u001b[K     |████▊                           | 307kB 20.7MB/s eta 0:00:01\r\u001b[K     |█████                           | 317kB 20.7MB/s eta 0:00:01\r\u001b[K     |█████                           | 327kB 20.7MB/s eta 0:00:01\r\u001b[K     |█████▎                          | 337kB 20.7MB/s eta 0:00:01\r\u001b[K     |█████▍                          | 348kB 20.7MB/s eta 0:00:01\r\u001b[K     |█████▋                          | 358kB 20.7MB/s eta 0:00:01\r\u001b[K     |█████▊                          | 368kB 20.7MB/s eta 0:00:01\r\u001b[K     |█████▉                          | 378kB 20.7MB/s eta 0:00:01\r\u001b[K     |██████                          | 389kB 20.7MB/s eta 0:00:01\r\u001b[K     |██████▏                         | 399kB 20.7MB/s eta 0:00:01\r\u001b[K     |██████▍                         | 409kB 20.7MB/s eta 0:00:01\r\u001b[K     |██████▌                         | 419kB 20.7MB/s eta 0:00:01\r\u001b[K     |██████▊                         | 430kB 20.7MB/s eta 0:00:01\r\u001b[K     |██████▉                         | 440kB 20.7MB/s eta 0:00:01\r\u001b[K     |███████                         | 450kB 20.7MB/s eta 0:00:01\r\u001b[K     |███████▏                        | 460kB 20.7MB/s eta 0:00:01\r\u001b[K     |███████▎                        | 471kB 20.7MB/s eta 0:00:01\r\u001b[K     |███████▌                        | 481kB 20.7MB/s eta 0:00:01\r\u001b[K     |███████▋                        | 491kB 20.7MB/s eta 0:00:01\r\u001b[K     |███████▉                        | 501kB 20.7MB/s eta 0:00:01\r\u001b[K     |████████                        | 512kB 20.7MB/s eta 0:00:01\r\u001b[K     |████████                        | 522kB 20.7MB/s eta 0:00:01\r\u001b[K     |████████▎                       | 532kB 20.7MB/s eta 0:00:01\r\u001b[K     |████████▍                       | 542kB 20.7MB/s eta 0:00:01\r\u001b[K     |████████▋                       | 552kB 20.7MB/s eta 0:00:01\r\u001b[K     |████████▊                       | 563kB 20.7MB/s eta 0:00:01\r\u001b[K     |█████████                       | 573kB 20.7MB/s eta 0:00:01\r\u001b[K     |█████████                       | 583kB 20.7MB/s eta 0:00:01\r\u001b[K     |█████████▎                      | 593kB 20.7MB/s eta 0:00:01\r\u001b[K     |█████████▍                      | 604kB 20.7MB/s eta 0:00:01\r\u001b[K     |█████████▌                      | 614kB 20.7MB/s eta 0:00:01\r\u001b[K     |█████████▊                      | 624kB 20.7MB/s eta 0:00:01\r\u001b[K     |█████████▉                      | 634kB 20.7MB/s eta 0:00:01\r\u001b[K     |██████████                      | 645kB 20.7MB/s eta 0:00:01\r\u001b[K     |██████████▏                     | 655kB 20.7MB/s eta 0:00:01\r\u001b[K     |██████████▍                     | 665kB 20.7MB/s eta 0:00:01\r\u001b[K     |██████████▌                     | 675kB 20.7MB/s eta 0:00:01\r\u001b[K     |██████████▋                     | 686kB 20.7MB/s eta 0:00:01\r\u001b[K     |██████████▉                     | 696kB 20.7MB/s eta 0:00:01\r\u001b[K     |███████████                     | 706kB 20.7MB/s eta 0:00:01\r\u001b[K     |███████████▏                    | 716kB 20.7MB/s eta 0:00:01\r\u001b[K     |███████████▎                    | 727kB 20.7MB/s eta 0:00:01\r\u001b[K     |███████████▌                    | 737kB 20.7MB/s eta 0:00:01\r\u001b[K     |███████████▋                    | 747kB 20.7MB/s eta 0:00:01\r\u001b[K     |███████████▊                    | 757kB 20.7MB/s eta 0:00:01\r\u001b[K     |████████████                    | 768kB 20.7MB/s eta 0:00:01\r\u001b[K     |████████████                    | 778kB 20.7MB/s eta 0:00:01\r\u001b[K     |████████████▎                   | 788kB 20.7MB/s eta 0:00:01\r\u001b[K     |████████████▍                   | 798kB 20.7MB/s eta 0:00:01\r\u001b[K     |████████████▋                   | 808kB 20.7MB/s eta 0:00:01\r\u001b[K     |████████████▊                   | 819kB 20.7MB/s eta 0:00:01\r\u001b[K     |████████████▉                   | 829kB 20.7MB/s eta 0:00:01\r\u001b[K     |█████████████                   | 839kB 20.7MB/s eta 0:00:01\r\u001b[K     |█████████████▏                  | 849kB 20.7MB/s eta 0:00:01\r\u001b[K     |█████████████▍                  | 860kB 20.7MB/s eta 0:00:01\r\u001b[K     |█████████████▌                  | 870kB 20.7MB/s eta 0:00:01\r\u001b[K     |█████████████▊                  | 880kB 20.7MB/s eta 0:00:01\r\u001b[K     |█████████████▉                  | 890kB 20.7MB/s eta 0:00:01\r\u001b[K     |██████████████                  | 901kB 20.7MB/s eta 0:00:01\r\u001b[K     |██████████████▏                 | 911kB 20.7MB/s eta 0:00:01\r\u001b[K     |██████████████▎                 | 921kB 20.7MB/s eta 0:00:01\r\u001b[K     |██████████████▌                 | 931kB 20.7MB/s eta 0:00:01\r\u001b[K     |██████████████▋                 | 942kB 20.7MB/s eta 0:00:01\r\u001b[K     |██████████████▉                 | 952kB 20.7MB/s eta 0:00:01\r\u001b[K     |███████████████                 | 962kB 20.7MB/s eta 0:00:01\r\u001b[K     |███████████████                 | 972kB 20.7MB/s eta 0:00:01\r\u001b[K     |███████████████▎                | 983kB 20.7MB/s eta 0:00:01\r\u001b[K     |███████████████▍                | 993kB 20.7MB/s eta 0:00:01\r\u001b[K     |███████████████▋                | 1.0MB 20.7MB/s eta 0:00:01\r\u001b[K     |███████████████▊                | 1.0MB 20.7MB/s eta 0:00:01\r\u001b[K     |████████████████                | 1.0MB 20.7MB/s eta 0:00:01\r\u001b[K     |████████████████                | 1.0MB 20.7MB/s eta 0:00:01\r\u001b[K     |████████████████▏               | 1.0MB 20.7MB/s eta 0:00:01\r\u001b[K     |████████████████▍               | 1.1MB 20.7MB/s eta 0:00:01\r\u001b[K     |████████████████▌               | 1.1MB 20.7MB/s eta 0:00:01\r\u001b[K     |████████████████▊               | 1.1MB 20.7MB/s eta 0:00:01\r\u001b[K     |████████████████▉               | 1.1MB 20.7MB/s eta 0:00:01\r\u001b[K     |█████████████████               | 1.1MB 20.7MB/s eta 0:00:01\r\u001b[K     |█████████████████▏              | 1.1MB 20.7MB/s eta 0:00:01\r\u001b[K     |█████████████████▍              | 1.1MB 20.7MB/s eta 0:00:01\r\u001b[K     |█████████████████▌              | 1.1MB 20.7MB/s eta 0:00:01\r\u001b[K     |█████████████████▋              | 1.1MB 20.7MB/s eta 0:00:01\r\u001b[K     |█████████████████▉              | 1.1MB 20.7MB/s eta 0:00:01\r\u001b[K     |██████████████████              | 1.2MB 20.7MB/s eta 0:00:01\r\u001b[K     |██████████████████▏             | 1.2MB 20.7MB/s eta 0:00:01\r\u001b[K     |██████████████████▎             | 1.2MB 20.7MB/s eta 0:00:01\r\u001b[K     |██████████████████▌             | 1.2MB 20.7MB/s eta 0:00:01\r\u001b[K     |██████████████████▋             | 1.2MB 20.7MB/s eta 0:00:01\r\u001b[K     |██████████████████▊             | 1.2MB 20.7MB/s eta 0:00:01\r\u001b[K     |███████████████████             | 1.2MB 20.7MB/s eta 0:00:01\r\u001b[K     |███████████████████             | 1.2MB 20.7MB/s eta 0:00:01\r\u001b[K     |███████████████████▎            | 1.2MB 20.7MB/s eta 0:00:01\r\u001b[K     |███████████████████▍            | 1.2MB 20.7MB/s eta 0:00:01\r\u001b[K     |███████████████████▋            | 1.3MB 20.7MB/s eta 0:00:01\r\u001b[K     |███████████████████▊            | 1.3MB 20.7MB/s eta 0:00:01\r\u001b[K     |███████████████████▉            | 1.3MB 20.7MB/s eta 0:00:01\r\u001b[K     |████████████████████            | 1.3MB 20.7MB/s eta 0:00:01\r\u001b[K     |████████████████████▏           | 1.3MB 20.7MB/s eta 0:00:01\r\u001b[K     |████████████████████▍           | 1.3MB 20.7MB/s eta 0:00:01\r\u001b[K     |████████████████████▌           | 1.3MB 20.7MB/s eta 0:00:01\r\u001b[K     |████████████████████▊           | 1.3MB 20.7MB/s eta 0:00:01\r\u001b[K     |████████████████████▉           | 1.3MB 20.7MB/s eta 0:00:01\r\u001b[K     |█████████████████████           | 1.4MB 20.7MB/s eta 0:00:01\r\u001b[K     |█████████████████████▏          | 1.4MB 20.7MB/s eta 0:00:01\r\u001b[K     |█████████████████████▎          | 1.4MB 20.7MB/s eta 0:00:01\r\u001b[K     |█████████████████████▌          | 1.4MB 20.7MB/s eta 0:00:01\r\u001b[K     |█████████████████████▋          | 1.4MB 20.7MB/s eta 0:00:01\r\u001b[K     |█████████████████████▉          | 1.4MB 20.7MB/s eta 0:00:01\r\u001b[K     |██████████████████████          | 1.4MB 20.7MB/s eta 0:00:01\r\u001b[K     |██████████████████████          | 1.4MB 20.7MB/s eta 0:00:01\r\u001b[K     |██████████████████████▎         | 1.4MB 20.7MB/s eta 0:00:01\r\u001b[K     |██████████████████████▍         | 1.4MB 20.7MB/s eta 0:00:01\r\u001b[K     |██████████████████████▋         | 1.5MB 20.7MB/s eta 0:00:01\r\u001b[K     |██████████████████████▊         | 1.5MB 20.7MB/s eta 0:00:01\r\u001b[K     |███████████████████████         | 1.5MB 20.7MB/s eta 0:00:01\r\u001b[K     |███████████████████████         | 1.5MB 20.7MB/s eta 0:00:01\r\u001b[K     |███████████████████████▏        | 1.5MB 20.7MB/s eta 0:00:01\r\u001b[K     |███████████████████████▍        | 1.5MB 20.7MB/s eta 0:00:01\r\u001b[K     |███████████████████████▌        | 1.5MB 20.7MB/s eta 0:00:01\r\u001b[K     |███████████████████████▊        | 1.5MB 20.7MB/s eta 0:00:01\r\u001b[K     |███████████████████████▉        | 1.5MB 20.7MB/s eta 0:00:01\r\u001b[K     |████████████████████████        | 1.5MB 20.7MB/s eta 0:00:01\r\u001b[K     |████████████████████████▏       | 1.6MB 20.7MB/s eta 0:00:01\r\u001b[K     |████████████████████████▎       | 1.6MB 20.7MB/s eta 0:00:01\r\u001b[K     |████████████████████████▌       | 1.6MB 20.7MB/s eta 0:00:01\r\u001b[K     |████████████████████████▋       | 1.6MB 20.7MB/s eta 0:00:01\r\u001b[K     |████████████████████████▉       | 1.6MB 20.7MB/s eta 0:00:01\r\u001b[K     |█████████████████████████       | 1.6MB 20.7MB/s eta 0:00:01\r\u001b[K     |█████████████████████████▏      | 1.6MB 20.7MB/s eta 0:00:01\r\u001b[K     |█████████████████████████▎      | 1.6MB 20.7MB/s eta 0:00:01\r\u001b[K     |█████████████████████████▍      | 1.6MB 20.7MB/s eta 0:00:01\r\u001b[K     |█████████████████████████▋      | 1.6MB 20.7MB/s eta 0:00:01\r\u001b[K     |█████████████████████████▊      | 1.7MB 20.7MB/s eta 0:00:01\r\u001b[K     |██████████████████████████      | 1.7MB 20.7MB/s eta 0:00:01\r\u001b[K     |██████████████████████████      | 1.7MB 20.7MB/s eta 0:00:01\r\u001b[K     |██████████████████████████▎     | 1.7MB 20.7MB/s eta 0:00:01\r\u001b[K     |██████████████████████████▍     | 1.7MB 20.7MB/s eta 0:00:01\r\u001b[K     |██████████████████████████▋     | 1.7MB 20.7MB/s eta 0:00:01\r\u001b[K     |██████████████████████████▊     | 1.7MB 20.7MB/s eta 0:00:01\r\u001b[K     |██████████████████████████▉     | 1.7MB 20.7MB/s eta 0:00:01\r\u001b[K     |███████████████████████████     | 1.7MB 20.7MB/s eta 0:00:01\r\u001b[K     |███████████████████████████▏    | 1.8MB 20.7MB/s eta 0:00:01\r\u001b[K     |███████████████████████████▍    | 1.8MB 20.7MB/s eta 0:00:01\r\u001b[K     |███████████████████████████▌    | 1.8MB 20.7MB/s eta 0:00:01\r\u001b[K     |███████████████████████████▊    | 1.8MB 20.7MB/s eta 0:00:01\r\u001b[K     |███████████████████████████▉    | 1.8MB 20.7MB/s eta 0:00:01\r\u001b[K     |████████████████████████████    | 1.8MB 20.7MB/s eta 0:00:01\r\u001b[K     |████████████████████████████▏   | 1.8MB 20.7MB/s eta 0:00:01\r\u001b[K     |████████████████████████████▎   | 1.8MB 20.7MB/s eta 0:00:01\r\u001b[K     |████████████████████████████▌   | 1.8MB 20.7MB/s eta 0:00:01\r\u001b[K     |████████████████████████████▋   | 1.8MB 20.7MB/s eta 0:00:01\r\u001b[K     |████████████████████████████▉   | 1.9MB 20.7MB/s eta 0:00:01\r\u001b[K     |█████████████████████████████   | 1.9MB 20.7MB/s eta 0:00:01\r\u001b[K     |█████████████████████████████   | 1.9MB 20.7MB/s eta 0:00:01\r\u001b[K     |█████████████████████████████▎  | 1.9MB 20.7MB/s eta 0:00:01\r\u001b[K     |█████████████████████████████▍  | 1.9MB 20.7MB/s eta 0:00:01\r\u001b[K     |█████████████████████████████▋  | 1.9MB 20.7MB/s eta 0:00:01\r\u001b[K     |█████████████████████████████▊  | 1.9MB 20.7MB/s eta 0:00:01\r\u001b[K     |██████████████████████████████  | 1.9MB 20.7MB/s eta 0:00:01\r\u001b[K     |██████████████████████████████  | 1.9MB 20.7MB/s eta 0:00:01\r\u001b[K     |██████████████████████████████▏ | 1.9MB 20.7MB/s eta 0:00:01\r\u001b[K     |██████████████████████████████▍ | 2.0MB 20.7MB/s eta 0:00:01\r\u001b[K     |██████████████████████████████▌ | 2.0MB 20.7MB/s eta 0:00:01\r\u001b[K     |██████████████████████████████▊ | 2.0MB 20.7MB/s eta 0:00:01\r\u001b[K     |██████████████████████████████▉ | 2.0MB 20.7MB/s eta 0:00:01\r\u001b[K     |███████████████████████████████ | 2.0MB 20.7MB/s eta 0:00:01\r\u001b[K     |███████████████████████████████▏| 2.0MB 20.7MB/s eta 0:00:01\r\u001b[K     |███████████████████████████████▎| 2.0MB 20.7MB/s eta 0:00:01\r\u001b[K     |███████████████████████████████▌| 2.0MB 20.7MB/s eta 0:00:01\r\u001b[K     |███████████████████████████████▋| 2.0MB 20.7MB/s eta 0:00:01\r\u001b[K     |███████████████████████████████▉| 2.0MB 20.7MB/s eta 0:00:01\r\u001b[K     |████████████████████████████████| 2.1MB 20.7MB/s eta 0:00:01\r\u001b[K     |████████████████████████████████| 2.1MB 20.7MB/s \n",
            "\u001b[?25hRequirement already satisfied: filelock in /usr/local/lib/python3.7/dist-packages (from transformers) (3.0.12)\n",
            "Requirement already satisfied: importlib-metadata; python_version < \"3.8\" in /usr/local/lib/python3.7/dist-packages (from transformers) (3.10.1)\n",
            "Requirement already satisfied: packaging in /usr/local/lib/python3.7/dist-packages (from transformers) (20.9)\n",
            "Requirement already satisfied: requests in /usr/local/lib/python3.7/dist-packages (from transformers) (2.23.0)\n",
            "Requirement already satisfied: numpy>=1.17 in /usr/local/lib/python3.7/dist-packages (from transformers) (1.19.5)\n",
            "Requirement already satisfied: regex!=2019.12.17 in /usr/local/lib/python3.7/dist-packages (from transformers) (2019.12.20)\n",
            "Requirement already satisfied: tqdm>=4.27 in /usr/local/lib/python3.7/dist-packages (from transformers) (4.41.1)\n",
            "Collecting tokenizers<0.11,>=0.10.1\n",
            "\u001b[?25l  Downloading https://files.pythonhosted.org/packages/ae/04/5b870f26a858552025a62f1649c20d29d2672c02ff3c3fb4c688ca46467a/tokenizers-0.10.2-cp37-cp37m-manylinux2010_x86_64.whl (3.3MB)\n",
            "\u001b[K     |████████████████████████████████| 3.3MB 52.4MB/s \n",
            "\u001b[?25hCollecting sacremoses\n",
            "\u001b[?25l  Downloading https://files.pythonhosted.org/packages/75/ee/67241dc87f266093c533a2d4d3d69438e57d7a90abb216fa076e7d475d4a/sacremoses-0.0.45-py3-none-any.whl (895kB)\n",
            "\u001b[K     |████████████████████████████████| 901kB 51.8MB/s \n",
            "\u001b[?25hRequirement already satisfied: zipp>=0.5 in /usr/local/lib/python3.7/dist-packages (from importlib-metadata; python_version < \"3.8\"->transformers) (3.4.1)\n",
            "Requirement already satisfied: typing-extensions>=3.6.4; python_version < \"3.8\" in /usr/local/lib/python3.7/dist-packages (from importlib-metadata; python_version < \"3.8\"->transformers) (3.7.4.3)\n",
            "Requirement already satisfied: pyparsing>=2.0.2 in /usr/local/lib/python3.7/dist-packages (from packaging->transformers) (2.4.7)\n",
            "Requirement already satisfied: idna<3,>=2.5 in /usr/local/lib/python3.7/dist-packages (from requests->transformers) (2.10)\n",
            "Requirement already satisfied: certifi>=2017.4.17 in /usr/local/lib/python3.7/dist-packages (from requests->transformers) (2020.12.5)\n",
            "Requirement already satisfied: urllib3!=1.25.0,!=1.25.1,<1.26,>=1.21.1 in /usr/local/lib/python3.7/dist-packages (from requests->transformers) (1.24.3)\n",
            "Requirement already satisfied: chardet<4,>=3.0.2 in /usr/local/lib/python3.7/dist-packages (from requests->transformers) (3.0.4)\n",
            "Requirement already satisfied: joblib in /usr/local/lib/python3.7/dist-packages (from sacremoses->transformers) (1.0.1)\n",
            "Requirement already satisfied: six in /usr/local/lib/python3.7/dist-packages (from sacremoses->transformers) (1.15.0)\n",
            "Requirement already satisfied: click in /usr/local/lib/python3.7/dist-packages (from sacremoses->transformers) (7.1.2)\n",
            "Installing collected packages: tokenizers, sacremoses, transformers\n",
            "Successfully installed sacremoses-0.0.45 tokenizers-0.10.2 transformers-4.5.1\n"
          ],
          "name": "stdout"
        }
      ]
    },
    {
      "cell_type": "code",
      "metadata": {
        "id": "CLB1tHFswJLH"
      },
      "source": [
        "### EMOTION####\n",
        "import pandas as pd\n",
        "import numpy as np\n",
        "from nltk.tokenize import word_tokenize\n",
        "from nltk import pos_tag\n",
        "from nltk.corpus import stopwords\n",
        "from nltk.stem import WordNetLemmatizer\n",
        "from sklearn.preprocessing import LabelEncoder\n",
        "from collections import defaultdict\n",
        "from nltk.corpus import wordnet as wn\n",
        "from sklearn.feature_extraction.text import TfidfVectorizer\n",
        "from sklearn import model_selection, naive_bayes, svm\n",
        "from sklearn.metrics import accuracy_score\n",
        "from sklearn.metrics import f1_score\n",
        "from sklearn.metrics import recall_score\n",
        "import io\n",
        "import requests"
      ],
      "execution_count": 2,
      "outputs": []
    },
    {
      "cell_type": "code",
      "metadata": {
        "id": "iaiW3pAq2rAT"
      },
      "source": [
        "from transformers import AutoModelForSequenceClassification\n",
        "from transformers import TFAutoModelForSequenceClassification\n",
        "from transformers import AutoTokenizer\n",
        "import numpy as np\n",
        "from scipy.special import softmax\n",
        "import csv\n",
        "import urllib.request"
      ],
      "execution_count": 3,
      "outputs": []
    },
    {
      "cell_type": "code",
      "metadata": {
        "colab": {
          "base_uri": "https://localhost:8080/"
        },
        "id": "eG7gp9IarnyF",
        "outputId": "ff9ec49e-a51b-4b32-f9a5-162fc32dd441"
      },
      "source": [
        "import nltk\n",
        "nltk.download('punkt')\n",
        "nltk.download('wordnet')\n",
        "nltk.download('averaged_perceptron_tagger')\n",
        "nltk.download('stopwords')"
      ],
      "execution_count": 4,
      "outputs": [
        {
          "output_type": "stream",
          "text": [
            "[nltk_data] Downloading package punkt to /root/nltk_data...\n",
            "[nltk_data]   Unzipping tokenizers/punkt.zip.\n",
            "[nltk_data] Downloading package wordnet to /root/nltk_data...\n",
            "[nltk_data]   Unzipping corpora/wordnet.zip.\n",
            "[nltk_data] Downloading package averaged_perceptron_tagger to\n",
            "[nltk_data]     /root/nltk_data...\n",
            "[nltk_data]   Unzipping taggers/averaged_perceptron_tagger.zip.\n",
            "[nltk_data] Downloading package stopwords to /root/nltk_data...\n",
            "[nltk_data]   Unzipping corpora/stopwords.zip.\n"
          ],
          "name": "stdout"
        },
        {
          "output_type": "execute_result",
          "data": {
            "text/plain": [
              "True"
            ]
          },
          "metadata": {
            "tags": []
          },
          "execution_count": 4
        }
      ]
    },
    {
      "cell_type": "code",
      "metadata": {
        "colab": {
          "base_uri": "https://localhost:8080/"
        },
        "id": "JRl8K442sOBX",
        "outputId": "b0eac53a-14df-43b1-8711-5b836865f648"
      },
      "source": [
        "pip install nlpaug"
      ],
      "execution_count": 5,
      "outputs": [
        {
          "output_type": "stream",
          "text": [
            "Collecting nlpaug\n",
            "\u001b[?25l  Downloading https://files.pythonhosted.org/packages/eb/f8/b11caecdd19aa2b1b2cb46c6cbbec692abd621aad884e653e459a8546add/nlpaug-1.1.3-py3-none-any.whl (394kB)\n",
            "\r\u001b[K     |▉                               | 10kB 23.7MB/s eta 0:00:01\r\u001b[K     |█▋                              | 20kB 29.9MB/s eta 0:00:01\r\u001b[K     |██▌                             | 30kB 21.4MB/s eta 0:00:01\r\u001b[K     |███▎                            | 40kB 24.6MB/s eta 0:00:01\r\u001b[K     |████▏                           | 51kB 24.5MB/s eta 0:00:01\r\u001b[K     |█████                           | 61kB 26.6MB/s eta 0:00:01\r\u001b[K     |█████▉                          | 71kB 19.1MB/s eta 0:00:01\r\u001b[K     |██████▋                         | 81kB 19.6MB/s eta 0:00:01\r\u001b[K     |███████▌                        | 92kB 18.4MB/s eta 0:00:01\r\u001b[K     |████████▎                       | 102kB 19.3MB/s eta 0:00:01\r\u001b[K     |█████████▏                      | 112kB 19.3MB/s eta 0:00:01\r\u001b[K     |██████████                      | 122kB 19.3MB/s eta 0:00:01\r\u001b[K     |██████████▉                     | 133kB 19.3MB/s eta 0:00:01\r\u001b[K     |███████████▋                    | 143kB 19.3MB/s eta 0:00:01\r\u001b[K     |████████████▌                   | 153kB 19.3MB/s eta 0:00:01\r\u001b[K     |█████████████▎                  | 163kB 19.3MB/s eta 0:00:01\r\u001b[K     |██████████████▏                 | 174kB 19.3MB/s eta 0:00:01\r\u001b[K     |███████████████                 | 184kB 19.3MB/s eta 0:00:01\r\u001b[K     |███████████████▉                | 194kB 19.3MB/s eta 0:00:01\r\u001b[K     |████████████████▋               | 204kB 19.3MB/s eta 0:00:01\r\u001b[K     |█████████████████▌              | 215kB 19.3MB/s eta 0:00:01\r\u001b[K     |██████████████████▎             | 225kB 19.3MB/s eta 0:00:01\r\u001b[K     |███████████████████▏            | 235kB 19.3MB/s eta 0:00:01\r\u001b[K     |████████████████████            | 245kB 19.3MB/s eta 0:00:01\r\u001b[K     |████████████████████▉           | 256kB 19.3MB/s eta 0:00:01\r\u001b[K     |█████████████████████▋          | 266kB 19.3MB/s eta 0:00:01\r\u001b[K     |██████████████████████▌         | 276kB 19.3MB/s eta 0:00:01\r\u001b[K     |███████████████████████▎        | 286kB 19.3MB/s eta 0:00:01\r\u001b[K     |████████████████████████        | 296kB 19.3MB/s eta 0:00:01\r\u001b[K     |█████████████████████████       | 307kB 19.3MB/s eta 0:00:01\r\u001b[K     |█████████████████████████▊      | 317kB 19.3MB/s eta 0:00:01\r\u001b[K     |██████████████████████████▋     | 327kB 19.3MB/s eta 0:00:01\r\u001b[K     |███████████████████████████▍    | 337kB 19.3MB/s eta 0:00:01\r\u001b[K     |████████████████████████████▎   | 348kB 19.3MB/s eta 0:00:01\r\u001b[K     |█████████████████████████████   | 358kB 19.3MB/s eta 0:00:01\r\u001b[K     |██████████████████████████████  | 368kB 19.3MB/s eta 0:00:01\r\u001b[K     |██████████████████████████████▊ | 378kB 19.3MB/s eta 0:00:01\r\u001b[K     |███████████████████████████████▋| 389kB 19.3MB/s eta 0:00:01\r\u001b[K     |████████████████████████████████| 399kB 19.3MB/s \n",
            "\u001b[?25hInstalling collected packages: nlpaug\n",
            "Successfully installed nlpaug-1.1.3\n"
          ],
          "name": "stdout"
        }
      ]
    },
    {
      "cell_type": "code",
      "metadata": {
        "id": "KImNECWFsSJx"
      },
      "source": [
        "pip install torch>=1.6.0 transformers>=4.0.0"
      ],
      "execution_count": 6,
      "outputs": []
    },
    {
      "cell_type": "code",
      "metadata": {
        "id": "CAvEIFMdsbqY"
      },
      "source": [
        "import nlpaug.augmenter.char as nac\n",
        "import nlpaug.augmenter.word as naw\n",
        "import nlpaug.augmenter.sentence as nas\n",
        "import nlpaug.flow as naf\n",
        "\n",
        "from nlpaug.util import Action"
      ],
      "execution_count": 7,
      "outputs": []
    },
    {
      "cell_type": "code",
      "metadata": {
        "id": "j1XPHaB0wzBd"
      },
      "source": [
        "r= requests.get('https://raw.githubusercontent.com/cardiffnlp/tweeteval/main/datasets/emotion/test_text.txt', allow_redirects= True)\n",
        "open('test_text.txt', 'wb').write(r.content)\n",
        "example1 = \"/content/test_text.txt\"\n",
        "with open(example1, \"r\") as file1:\n",
        "    data = file1.readlines()"
      ],
      "execution_count": 8,
      "outputs": []
    },
    {
      "cell_type": "code",
      "metadata": {
        "id": "6yafBVXFxxwt"
      },
      "source": [
        "r= requests.get('https://raw.githubusercontent.com/cardiffnlp/tweeteval/main/datasets/emotion/test_labels.txt', allow_redirects= True)\n",
        "open('test_labels.txt', 'wb').write(r.content)\n",
        "example1 = \"/content/test_labels.txt\"\n",
        "with open(example1, \"r\") as file1:\n",
        "    data1 = file1.readlines()"
      ],
      "execution_count": 9,
      "outputs": []
    },
    {
      "cell_type": "code",
      "metadata": {
        "id": "h9vmwyBGyzb-"
      },
      "source": [
        "data= [data[i].strip() for i in range(len(data))]\n",
        "data1= [data1[i].strip() for i in range(len(data1))]"
      ],
      "execution_count": 10,
      "outputs": []
    },
    {
      "cell_type": "code",
      "metadata": {
        "colab": {
          "base_uri": "https://localhost:8080/"
        },
        "id": "a8SAWmqSzUfH",
        "outputId": "a4c1bae7-17cb-4e1b-a234-70c921befac6"
      },
      "source": [
        "true_label= np.array(data1).astype(np.int32)\n",
        "print(true_label)"
      ],
      "execution_count": 11,
      "outputs": [
        {
          "output_type": "stream",
          "text": [
            "[3 0 3 ... 0 0 1]\n"
          ],
          "name": "stdout"
        }
      ]
    },
    {
      "cell_type": "code",
      "metadata": {
        "id": "jKosXxJ2OVEq"
      },
      "source": [
        "# Preprocess text (username and link placeholders)\n",
        "def preprocess(text):\n",
        "    new_text = []\n",
        "\n",
        "    for t in text.split(\" \"):\n",
        "        t = '@user' if t.startswith('@') and len(t) > 1 else t\n",
        "        t = 'http' if t.startswith('http') else t\n",
        "        new_text.append(t)\n",
        "    return \" \".join(new_text)"
      ],
      "execution_count": 12,
      "outputs": []
    },
    {
      "cell_type": "code",
      "metadata": {
        "id": "eviwCmje2wL2"
      },
      "source": [
        "data=[preprocess(data[i]) for i in range(len(data))]"
      ],
      "execution_count": 13,
      "outputs": []
    },
    {
      "cell_type": "code",
      "metadata": {
        "colab": {
          "base_uri": "https://localhost:8080/",
          "height": 262,
          "referenced_widgets": [
            "00ad0cc31230499690f6a8fa649c9fee",
            "6e04220985ec4982b1e2ad41994056f2",
            "85bad9d3b99240faaa549a778aa9e0d6",
            "b425c3ce15894189ba68e38eef5efcb6",
            "d65542e9161341bbb0acb3fd23bd4a8e",
            "bcdd6353c4ad4773aeb82a10d53baf87",
            "e98cf102ed7948cab9011c8cf21d36ca",
            "cdc0f8aaa7d54b9482435a5542eb1c55",
            "0a20bd3effdc4fb69dcaf40642a91b10",
            "8bc10b407b8b4e639a60a37581468811",
            "4faf2c3721534f9a9c70655088750234",
            "68a863057c53489f8744f9c537915b8a",
            "b8f9720297b64f7dac2365c49799fa3a",
            "2bf8913bf9484e5eaa02e7c61cca143d",
            "0f66d57992e74422b85cd586b290a1d6",
            "8814f85116c640779aec40594168706f",
            "db6fb0132aac45fe99c32ffb8adb977e",
            "1747a3bd4513481b8c1bdcb4d002b0c1",
            "76285324d7ae4d6ca5d721a333906954",
            "3e77c6bc04d6406f8838cf0d3b25e5a2",
            "1b7617872d034e658cb58e1d04bb0c28",
            "6b89111af14e4097a53d07702761eebf",
            "70644e9a36524d67a9cd4ef21d7feaf4",
            "642bd9f3945e478eb85a5c26057ffcd8",
            "7c689a3c5ec0497db5330f881c6e95ca",
            "5d69dafa2141454aae4d8001d1ad760e",
            "d737aa411c6f4e339fa2a87b157230f6",
            "dc712a40975047539abde5571f2c7115",
            "87c5c262c42144e68f05ba6144e41824",
            "0257e052d4f4465f830eb344144c4662",
            "c314f4e88b3a474098c68fb4d6d8df64",
            "db4fe99d2adc4fbea4494fe75b3157c8",
            "4d1143f0d570450ba49690070f2c3eaa",
            "53335c18429442d69c30d503e66e5503",
            "6c294a3564d14eb49abd72a5f87fd1b4",
            "c2271628b6de405d86fdf8d1166fe8e2",
            "5ee0cbfedd054b6a9f748b1055be2cb1",
            "75cd8df1eda54f8ca82fb3a24801f1a0",
            "7a3a13462a004fcda00cf475a7cc395f",
            "7936542100cb477fad73cab07a586104"
          ]
        },
        "id": "kY-QGs02skD6",
        "outputId": "a9d63f0a-dfaa-41df-b2e4-2df137e7d7c5"
      },
      "source": [
        "aug = naw.ContextualWordEmbsAug(\n",
        "    model_path='bert-base-uncased', action=\"substitute\")"
      ],
      "execution_count": 14,
      "outputs": [
        {
          "output_type": "display_data",
          "data": {
            "application/vnd.jupyter.widget-view+json": {
              "model_id": "00ad0cc31230499690f6a8fa649c9fee",
              "version_minor": 0,
              "version_major": 2
            },
            "text/plain": [
              "HBox(children=(FloatProgress(value=0.0, description='Downloading', max=570.0, style=ProgressStyle(description_…"
            ]
          },
          "metadata": {
            "tags": []
          }
        },
        {
          "output_type": "stream",
          "text": [
            "\n"
          ],
          "name": "stdout"
        },
        {
          "output_type": "display_data",
          "data": {
            "application/vnd.jupyter.widget-view+json": {
              "model_id": "0a20bd3effdc4fb69dcaf40642a91b10",
              "version_minor": 0,
              "version_major": 2
            },
            "text/plain": [
              "HBox(children=(FloatProgress(value=0.0, description='Downloading', max=231508.0, style=ProgressStyle(descripti…"
            ]
          },
          "metadata": {
            "tags": []
          }
        },
        {
          "output_type": "stream",
          "text": [
            "\n"
          ],
          "name": "stdout"
        },
        {
          "output_type": "display_data",
          "data": {
            "application/vnd.jupyter.widget-view+json": {
              "model_id": "db6fb0132aac45fe99c32ffb8adb977e",
              "version_minor": 0,
              "version_major": 2
            },
            "text/plain": [
              "HBox(children=(FloatProgress(value=0.0, description='Downloading', max=466062.0, style=ProgressStyle(descripti…"
            ]
          },
          "metadata": {
            "tags": []
          }
        },
        {
          "output_type": "stream",
          "text": [
            "\n"
          ],
          "name": "stdout"
        },
        {
          "output_type": "display_data",
          "data": {
            "application/vnd.jupyter.widget-view+json": {
              "model_id": "7c689a3c5ec0497db5330f881c6e95ca",
              "version_minor": 0,
              "version_major": 2
            },
            "text/plain": [
              "HBox(children=(FloatProgress(value=0.0, description='Downloading', max=28.0, style=ProgressStyle(description_w…"
            ]
          },
          "metadata": {
            "tags": []
          }
        },
        {
          "output_type": "stream",
          "text": [
            "\n"
          ],
          "name": "stdout"
        },
        {
          "output_type": "display_data",
          "data": {
            "application/vnd.jupyter.widget-view+json": {
              "model_id": "4d1143f0d570450ba49690070f2c3eaa",
              "version_minor": 0,
              "version_major": 2
            },
            "text/plain": [
              "HBox(children=(FloatProgress(value=0.0, description='Downloading', max=440473133.0, style=ProgressStyle(descri…"
            ]
          },
          "metadata": {
            "tags": []
          }
        },
        {
          "output_type": "stream",
          "text": [
            "\n"
          ],
          "name": "stdout"
        }
      ]
    },
    {
      "cell_type": "code",
      "metadata": {
        "colab": {
          "base_uri": "https://localhost:8080/",
          "height": 213,
          "referenced_widgets": [
            "b6e7d48478c24ce9a8b2e2bbe1cb8eb2",
            "1cc5cc0e74bf4b3dbd8cf098e5f1a1d0",
            "e985681a16d84ad8988205b2fe08a7c6",
            "906d94e7c5e04ed68ef5099af9f10f6e",
            "3c0f38dc753847a682dd2203a4464433",
            "a90b264113eb43ba869a917d048ba1db",
            "21bce74035c4461e8b878b15c755daa2",
            "e4c9e55c4be24687a66010d51d0f60de",
            "0ab901ce0e724c8c9b00d2b940b38800",
            "01dd693e81da4c72acbe2e467425711b",
            "4f5ddedd37984cde887bdc3b3e84fe04",
            "55dba4302a1d40f0bc36d9305a962d3b",
            "b1d8b9acabbc4ab7847d733dcef45fa7",
            "767eda5bdac54bf28d698571b60e10d1",
            "979d968c84b84a1b8f9fe8c15d2e1583",
            "afb2475db473476cbdd1332e8ecb2c1e",
            "056169b832d94095a922058f4c2dc295",
            "f348cc212b854b81bc0f09b02c5fc20c",
            "86594c508f294637874ebfccb2ba198c",
            "a7e0f27402d74d65b935d5e6234caf97",
            "c4426498fc2e433ab43ad21b4506c6f8",
            "6680bbacc66a4660b52d1553b279d7c2",
            "c729b6ef70af4009b8d1ea75c8587839",
            "14923d64f48142b5ac62817838e190db",
            "dcd8a27a71914f0fb073d4d6e55e7027",
            "43798071509040e988dafbcd17983f9c",
            "6fdb7f83d56440579440983761915efa",
            "be424217b1bd4c8f99dcc591419e3b67",
            "1665211c59044cbc9a5b0809b383a887",
            "e7cf9ac95c074003bb960afe1bc01566",
            "e571989e6bbd4487b88f3ebd5814cf77",
            "d7ac7015e26e49d1a750fa8b6fc0ec5c"
          ]
        },
        "id": "WUObRwzKObm8",
        "outputId": "60c9a412-ddb7-4b7d-eda9-b69e8686f60b"
      },
      "source": [
        "# Tasks:\n",
        "# emoji, emotion, hate, irony, offensive, sentiment\n",
        "# stance/abortion, stance/atheism, stance/climate, stance/feminist, stance/hillary\n",
        "\n",
        "task='emotion'\n",
        "MODEL = f\"cardiffnlp/twitter-roberta-base-{task}\"\n",
        "# MODEL = f\"cardiffnlp/bertweet-base-{task}\"\n",
        "\n",
        "tokenizer = AutoTokenizer.from_pretrained(MODEL)"
      ],
      "execution_count": 15,
      "outputs": [
        {
          "output_type": "display_data",
          "data": {
            "application/vnd.jupyter.widget-view+json": {
              "model_id": "b6e7d48478c24ce9a8b2e2bbe1cb8eb2",
              "version_minor": 0,
              "version_major": 2
            },
            "text/plain": [
              "HBox(children=(FloatProgress(value=0.0, description='Downloading', max=779.0, style=ProgressStyle(description_…"
            ]
          },
          "metadata": {
            "tags": []
          }
        },
        {
          "output_type": "stream",
          "text": [
            "\n"
          ],
          "name": "stdout"
        },
        {
          "output_type": "display_data",
          "data": {
            "application/vnd.jupyter.widget-view+json": {
              "model_id": "0ab901ce0e724c8c9b00d2b940b38800",
              "version_minor": 0,
              "version_major": 2
            },
            "text/plain": [
              "HBox(children=(FloatProgress(value=0.0, description='Downloading', max=898822.0, style=ProgressStyle(descripti…"
            ]
          },
          "metadata": {
            "tags": []
          }
        },
        {
          "output_type": "stream",
          "text": [
            "\n"
          ],
          "name": "stdout"
        },
        {
          "output_type": "display_data",
          "data": {
            "application/vnd.jupyter.widget-view+json": {
              "model_id": "056169b832d94095a922058f4c2dc295",
              "version_minor": 0,
              "version_major": 2
            },
            "text/plain": [
              "HBox(children=(FloatProgress(value=0.0, description='Downloading', max=456318.0, style=ProgressStyle(descripti…"
            ]
          },
          "metadata": {
            "tags": []
          }
        },
        {
          "output_type": "stream",
          "text": [
            "\n"
          ],
          "name": "stdout"
        },
        {
          "output_type": "display_data",
          "data": {
            "application/vnd.jupyter.widget-view+json": {
              "model_id": "dcd8a27a71914f0fb073d4d6e55e7027",
              "version_minor": 0,
              "version_major": 2
            },
            "text/plain": [
              "HBox(children=(FloatProgress(value=0.0, description='Downloading', max=150.0, style=ProgressStyle(description_…"
            ]
          },
          "metadata": {
            "tags": []
          }
        },
        {
          "output_type": "stream",
          "text": [
            "\n"
          ],
          "name": "stdout"
        }
      ]
    },
    {
      "cell_type": "code",
      "metadata": {
        "id": "eIohtGwirjhb"
      },
      "source": [
        "tag_map = defaultdict(lambda : wn.NOUN)\n",
        "tag_map['J'] = wn.ADJ\n",
        "tag_map['V'] = wn.VERB\n",
        "tag_map['R'] = wn.ADV"
      ],
      "execution_count": 16,
      "outputs": []
    },
    {
      "cell_type": "code",
      "metadata": {
        "id": "6EgZWLlT3aOb",
        "colab": {
          "base_uri": "https://localhost:8080/",
          "height": 66,
          "referenced_widgets": [
            "41b1bdc2ac21448493c06908f975c178",
            "288f3cbd6e5f495b84407b31ab085b60",
            "c26f3e0ad6bc4493a904c42d48c1385c",
            "7432a1b60dc34dfb88dca8dd15b12c97",
            "63f3107c0b184997bcc78351455eb8dd",
            "2f1860a4ef734b02b5f886614619bd73",
            "e44ae82334ce4efcb27d90b700e31b9a",
            "6046a0e09a804aa68b161834f6a9a9bf"
          ]
        },
        "outputId": "da9b8705-cfce-4eb6-b49b-f2b5e7562792"
      },
      "source": [
        "# PT\n",
        "model = AutoModelForSequenceClassification.from_pretrained(MODEL)\n",
        "model.save_pretrained(MODEL)\n",
        "pred_label= []\n",
        "\n",
        "for text in data:\n",
        "  encoded_input = tokenizer(text, return_tensors='pt')\n",
        "  output = model(**encoded_input)\n",
        "  scores = output[0][0].detach().numpy()\n",
        "  scores = softmax(scores)\n",
        "  pred= np.argmax(scores)\n",
        "  pred_label.append(pred)"
      ],
      "execution_count": 17,
      "outputs": [
        {
          "output_type": "display_data",
          "data": {
            "application/vnd.jupyter.widget-view+json": {
              "model_id": "41b1bdc2ac21448493c06908f975c178",
              "version_minor": 0,
              "version_major": 2
            },
            "text/plain": [
              "HBox(children=(FloatProgress(value=0.0, description='Downloading', max=498682569.0, style=ProgressStyle(descri…"
            ]
          },
          "metadata": {
            "tags": []
          }
        },
        {
          "output_type": "stream",
          "text": [
            "\n"
          ],
          "name": "stdout"
        }
      ]
    },
    {
      "cell_type": "code",
      "metadata": {
        "id": "1k6ERqJlFV_e"
      },
      "source": [
        "pred_label= np.array(pred_label)"
      ],
      "execution_count": 18,
      "outputs": []
    },
    {
      "cell_type": "code",
      "metadata": {
        "colab": {
          "base_uri": "https://localhost:8080/"
        },
        "id": "hzQCl_QcFMZ5",
        "outputId": "e8f0f9b3-9df8-4e1d-9026-bb81fa636863"
      },
      "source": [
        "print(\"F1 Score -> \",f1_score(pred_label, true_label, average='macro')*100)"
      ],
      "execution_count": 19,
      "outputs": [
        {
          "output_type": "stream",
          "text": [
            "F1 Score ->  79.8272412305532\n"
          ],
          "name": "stdout"
        }
      ]
    },
    {
      "cell_type": "code",
      "metadata": {
        "id": "5PUGmle0PrEA"
      },
      "source": [
        "# download label mapping\n",
        "labels=[]\n",
        "mapping_link = f\"https://raw.githubusercontent.com/cardiffnlp/tweeteval/main/datasets/{task}/mapping.txt\"\n",
        "with urllib.request.urlopen(mapping_link) as f:\n",
        "    html = f.read().decode('utf-8').split(\"\\n\")\n",
        "    csvreader = csv.reader(html, delimiter='\\t')\n",
        "labels = [row[1] for row in csvreader if len(row) > 1]"
      ],
      "execution_count": null,
      "outputs": []
    },
    {
      "cell_type": "code",
      "metadata": {
        "colab": {
          "base_uri": "https://localhost:8080/",
          "height": 66,
          "referenced_widgets": [
            "4b61581eb9704a078aaba92cd71f8005",
            "263be51bd874406e86a3893378ff017c",
            "8572f3cb4c934552a799f82d417655c5",
            "b2f89b7e10d24751ab9b954bb46d8d20",
            "eaaa89d6c97d4857a3c67e8e1725e9ad",
            "4e8677e04f5040978ace691e41a84f2d",
            "bffcaa1782f04f93a7b20a951bc50439",
            "2f9d88d1566946efb3aca9ef77a7964a"
          ]
        },
        "id": "s55x4KnsUDG3",
        "outputId": "20c16880-8c96-49e6-e1d8-1c157a338a88"
      },
      "source": [
        "# PT\n",
        "model = AutoModelForSequenceClassification.from_pretrained(MODEL)\n",
        "model.save_pretrained(MODEL)\n",
        "\n",
        "text = \"Good work hi how are you? hello mate?\"\n",
        "text = preprocess(text)\n",
        "encoded_input = tokenizer(text, return_tensors='pt')\n",
        "output = model(**encoded_input)\n",
        "scores = output[0][0].detach().numpy()\n",
        "scores = softmax(scores)\n",
        "\n",
        "# # TF\n",
        "# model = TFAutoModelForSequenceClassification.from_pretrained(MODEL)\n",
        "# model.save_pretrained(MODEL)\n",
        "\n",
        "# text = \"Good night 😊\"\n",
        "# encoded_input = tokenizer(text, return_tensors='tf')\n",
        "# output = model(encoded_input)\n",
        "# scores = output[0][0].numpy()\n",
        "# scores = softmax(scores)"
      ],
      "execution_count": null,
      "outputs": [
        {
          "output_type": "display_data",
          "data": {
            "application/vnd.jupyter.widget-view+json": {
              "model_id": "4b61581eb9704a078aaba92cd71f8005",
              "version_minor": 0,
              "version_major": 2
            },
            "text/plain": [
              "HBox(children=(FloatProgress(value=0.0, description='Downloading', max=498679497.0, style=ProgressStyle(descri…"
            ]
          },
          "metadata": {
            "tags": []
          }
        },
        {
          "output_type": "stream",
          "text": [
            "\n"
          ],
          "name": "stdout"
        }
      ]
    },
    {
      "cell_type": "code",
      "metadata": {
        "colab": {
          "base_uri": "https://localhost:8080/",
          "height": 35
        },
        "id": "yisKUv06ZYK6",
        "outputId": "ae762c13-2fa0-43f5-d8f2-bf5e7a948431"
      },
      "source": [
        "separator=' '\n",
        "text =['good','work','hi', 'how', 'are', 'you']\n",
        "separator.join(text)"
      ],
      "execution_count": null,
      "outputs": [
        {
          "output_type": "execute_result",
          "data": {
            "application/vnd.google.colaboratory.intrinsic+json": {
              "type": "string"
            },
            "text/plain": [
              "'good work hi how are you'"
            ]
          },
          "metadata": {
            "tags": []
          },
          "execution_count": 15
        }
      ]
    },
    {
      "cell_type": "code",
      "metadata": {
        "colab": {
          "base_uri": "https://localhost:8080/"
        },
        "id": "T3dMRPg5Uv7j",
        "outputId": "f10b9e01-3842-4718-9cba-b17952cd57e8"
      },
      "source": [
        "print(encoded_input)"
      ],
      "execution_count": null,
      "outputs": [
        {
          "output_type": "stream",
          "text": [
            "{'input_ids': tensor([[    0, 29042,    28,   655,    98,  6161,   114,    47,   115,   638,\n",
            "          6081,     9,   286,   571, 12367, 22164,   787, 12105,   787, 12105,\n",
            "           849,   424, 22736,     2]]), 'attention_mask': tensor([[1, 1, 1, 1, 1, 1, 1, 1, 1, 1, 1, 1, 1, 1, 1, 1, 1, 1, 1, 1, 1, 1, 1, 1]])}\n"
          ],
          "name": "stdout"
        }
      ]
    },
    {
      "cell_type": "code",
      "metadata": {
        "colab": {
          "base_uri": "https://localhost:8080/"
        },
        "id": "g5TxSn5dUP72",
        "outputId": "b9211494-cc41-4f6d-bdd2-cdc0751fbf48"
      },
      "source": [
        "print(scores)"
      ],
      "execution_count": null,
      "outputs": [
        {
          "output_type": "stream",
          "text": [
            "[0.00730037 0.04755703 0.9451425 ]\n"
          ],
          "name": "stdout"
        }
      ]
    },
    {
      "cell_type": "code",
      "metadata": {
        "id": "Madau5WcNs9v"
      },
      "source": [
        "ranking = np.argsort(scores)\n",
        "ranking = ranking[::-1]\n",
        "for i in range(scores.shape[0]):\n",
        "    l = labels[ranking[i]]\n",
        "    s = scores[ranking[i]]\n",
        "    print(f\"{i+1}) {l} {np.round(float(s), 4)}\")"
      ],
      "execution_count": null,
      "outputs": []
    }
  ]
}