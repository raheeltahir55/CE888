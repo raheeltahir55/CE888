{
  "nbformat": 4,
  "nbformat_minor": 0,
  "metadata": {
    "colab": {
      "name": "Proj_MultiEval_Emotion_TL.ipynb",
      "provenance": [],
      "collapsed_sections": [],
      "mount_file_id": "15RAwDVD-Wbdr5W02Yn8iwH2vfDSV_qze",
      "authorship_tag": "ABX9TyMgrr8rezsbkCc7OMLd+A6p",
      "include_colab_link": true
    },
    "kernelspec": {
      "name": "python3",
      "display_name": "Python 3"
    },
    "accelerator": "GPU",
    "widgets": {
      "application/vnd.jupyter.widget-state+json": {
        "9e7969299cd04dd182e14a9459956869": {
          "model_module": "@jupyter-widgets/controls",
          "model_name": "HBoxModel",
          "state": {
            "_view_name": "HBoxView",
            "_dom_classes": [],
            "_model_name": "HBoxModel",
            "_view_module": "@jupyter-widgets/controls",
            "_model_module_version": "1.5.0",
            "_view_count": null,
            "_view_module_version": "1.5.0",
            "box_style": "",
            "layout": "IPY_MODEL_dcfce2833d9b41ba9a03d825fc296708",
            "_model_module": "@jupyter-widgets/controls",
            "children": [
              "IPY_MODEL_133aec7e31b9432295a056208d3d3bef",
              "IPY_MODEL_55b5999bcc6e4d99b7708983cd7dc4c4"
            ]
          }
        },
        "dcfce2833d9b41ba9a03d825fc296708": {
          "model_module": "@jupyter-widgets/base",
          "model_name": "LayoutModel",
          "state": {
            "_view_name": "LayoutView",
            "grid_template_rows": null,
            "right": null,
            "justify_content": null,
            "_view_module": "@jupyter-widgets/base",
            "overflow": null,
            "_model_module_version": "1.2.0",
            "_view_count": null,
            "flex_flow": null,
            "width": null,
            "min_width": null,
            "border": null,
            "align_items": null,
            "bottom": null,
            "_model_module": "@jupyter-widgets/base",
            "top": null,
            "grid_column": null,
            "overflow_y": null,
            "overflow_x": null,
            "grid_auto_flow": null,
            "grid_area": null,
            "grid_template_columns": null,
            "flex": null,
            "_model_name": "LayoutModel",
            "justify_items": null,
            "grid_row": null,
            "max_height": null,
            "align_content": null,
            "visibility": null,
            "align_self": null,
            "height": null,
            "min_height": null,
            "padding": null,
            "grid_auto_rows": null,
            "grid_gap": null,
            "max_width": null,
            "order": null,
            "_view_module_version": "1.2.0",
            "grid_template_areas": null,
            "object_position": null,
            "object_fit": null,
            "grid_auto_columns": null,
            "margin": null,
            "display": null,
            "left": null
          }
        },
        "133aec7e31b9432295a056208d3d3bef": {
          "model_module": "@jupyter-widgets/controls",
          "model_name": "FloatProgressModel",
          "state": {
            "_view_name": "ProgressView",
            "style": "IPY_MODEL_c0612dbfc73742a7855c8a3ea87400af",
            "_dom_classes": [],
            "description": "Downloading: 100%",
            "_model_name": "FloatProgressModel",
            "bar_style": "success",
            "max": 570,
            "_view_module": "@jupyter-widgets/controls",
            "_model_module_version": "1.5.0",
            "value": 570,
            "_view_count": null,
            "_view_module_version": "1.5.0",
            "orientation": "horizontal",
            "min": 0,
            "description_tooltip": null,
            "_model_module": "@jupyter-widgets/controls",
            "layout": "IPY_MODEL_e9fa3434ff434aa6a6027c566a6648e0"
          }
        },
        "55b5999bcc6e4d99b7708983cd7dc4c4": {
          "model_module": "@jupyter-widgets/controls",
          "model_name": "HTMLModel",
          "state": {
            "_view_name": "HTMLView",
            "style": "IPY_MODEL_630f4e0686714ed2a20b90f2d37e71f0",
            "_dom_classes": [],
            "description": "",
            "_model_name": "HTMLModel",
            "placeholder": "​",
            "_view_module": "@jupyter-widgets/controls",
            "_model_module_version": "1.5.0",
            "value": " 570/570 [00:09&lt;00:00, 62.5B/s]",
            "_view_count": null,
            "_view_module_version": "1.5.0",
            "description_tooltip": null,
            "_model_module": "@jupyter-widgets/controls",
            "layout": "IPY_MODEL_e0059fcfd3dc4c8faeafa1b081da0d57"
          }
        },
        "c0612dbfc73742a7855c8a3ea87400af": {
          "model_module": "@jupyter-widgets/controls",
          "model_name": "ProgressStyleModel",
          "state": {
            "_view_name": "StyleView",
            "_model_name": "ProgressStyleModel",
            "description_width": "initial",
            "_view_module": "@jupyter-widgets/base",
            "_model_module_version": "1.5.0",
            "_view_count": null,
            "_view_module_version": "1.2.0",
            "bar_color": null,
            "_model_module": "@jupyter-widgets/controls"
          }
        },
        "e9fa3434ff434aa6a6027c566a6648e0": {
          "model_module": "@jupyter-widgets/base",
          "model_name": "LayoutModel",
          "state": {
            "_view_name": "LayoutView",
            "grid_template_rows": null,
            "right": null,
            "justify_content": null,
            "_view_module": "@jupyter-widgets/base",
            "overflow": null,
            "_model_module_version": "1.2.0",
            "_view_count": null,
            "flex_flow": null,
            "width": null,
            "min_width": null,
            "border": null,
            "align_items": null,
            "bottom": null,
            "_model_module": "@jupyter-widgets/base",
            "top": null,
            "grid_column": null,
            "overflow_y": null,
            "overflow_x": null,
            "grid_auto_flow": null,
            "grid_area": null,
            "grid_template_columns": null,
            "flex": null,
            "_model_name": "LayoutModel",
            "justify_items": null,
            "grid_row": null,
            "max_height": null,
            "align_content": null,
            "visibility": null,
            "align_self": null,
            "height": null,
            "min_height": null,
            "padding": null,
            "grid_auto_rows": null,
            "grid_gap": null,
            "max_width": null,
            "order": null,
            "_view_module_version": "1.2.0",
            "grid_template_areas": null,
            "object_position": null,
            "object_fit": null,
            "grid_auto_columns": null,
            "margin": null,
            "display": null,
            "left": null
          }
        },
        "630f4e0686714ed2a20b90f2d37e71f0": {
          "model_module": "@jupyter-widgets/controls",
          "model_name": "DescriptionStyleModel",
          "state": {
            "_view_name": "StyleView",
            "_model_name": "DescriptionStyleModel",
            "description_width": "",
            "_view_module": "@jupyter-widgets/base",
            "_model_module_version": "1.5.0",
            "_view_count": null,
            "_view_module_version": "1.2.0",
            "_model_module": "@jupyter-widgets/controls"
          }
        },
        "e0059fcfd3dc4c8faeafa1b081da0d57": {
          "model_module": "@jupyter-widgets/base",
          "model_name": "LayoutModel",
          "state": {
            "_view_name": "LayoutView",
            "grid_template_rows": null,
            "right": null,
            "justify_content": null,
            "_view_module": "@jupyter-widgets/base",
            "overflow": null,
            "_model_module_version": "1.2.0",
            "_view_count": null,
            "flex_flow": null,
            "width": null,
            "min_width": null,
            "border": null,
            "align_items": null,
            "bottom": null,
            "_model_module": "@jupyter-widgets/base",
            "top": null,
            "grid_column": null,
            "overflow_y": null,
            "overflow_x": null,
            "grid_auto_flow": null,
            "grid_area": null,
            "grid_template_columns": null,
            "flex": null,
            "_model_name": "LayoutModel",
            "justify_items": null,
            "grid_row": null,
            "max_height": null,
            "align_content": null,
            "visibility": null,
            "align_self": null,
            "height": null,
            "min_height": null,
            "padding": null,
            "grid_auto_rows": null,
            "grid_gap": null,
            "max_width": null,
            "order": null,
            "_view_module_version": "1.2.0",
            "grid_template_areas": null,
            "object_position": null,
            "object_fit": null,
            "grid_auto_columns": null,
            "margin": null,
            "display": null,
            "left": null
          }
        },
        "b8825cf951824961873a259d3b65f7bf": {
          "model_module": "@jupyter-widgets/controls",
          "model_name": "HBoxModel",
          "state": {
            "_view_name": "HBoxView",
            "_dom_classes": [],
            "_model_name": "HBoxModel",
            "_view_module": "@jupyter-widgets/controls",
            "_model_module_version": "1.5.0",
            "_view_count": null,
            "_view_module_version": "1.5.0",
            "box_style": "",
            "layout": "IPY_MODEL_661bec6704cf436d9e3cf3d42fd68347",
            "_model_module": "@jupyter-widgets/controls",
            "children": [
              "IPY_MODEL_8407d398a022470d816f7336413a0065",
              "IPY_MODEL_c5129c00910c4b65a63e3a5e35c3333a"
            ]
          }
        },
        "661bec6704cf436d9e3cf3d42fd68347": {
          "model_module": "@jupyter-widgets/base",
          "model_name": "LayoutModel",
          "state": {
            "_view_name": "LayoutView",
            "grid_template_rows": null,
            "right": null,
            "justify_content": null,
            "_view_module": "@jupyter-widgets/base",
            "overflow": null,
            "_model_module_version": "1.2.0",
            "_view_count": null,
            "flex_flow": null,
            "width": null,
            "min_width": null,
            "border": null,
            "align_items": null,
            "bottom": null,
            "_model_module": "@jupyter-widgets/base",
            "top": null,
            "grid_column": null,
            "overflow_y": null,
            "overflow_x": null,
            "grid_auto_flow": null,
            "grid_area": null,
            "grid_template_columns": null,
            "flex": null,
            "_model_name": "LayoutModel",
            "justify_items": null,
            "grid_row": null,
            "max_height": null,
            "align_content": null,
            "visibility": null,
            "align_self": null,
            "height": null,
            "min_height": null,
            "padding": null,
            "grid_auto_rows": null,
            "grid_gap": null,
            "max_width": null,
            "order": null,
            "_view_module_version": "1.2.0",
            "grid_template_areas": null,
            "object_position": null,
            "object_fit": null,
            "grid_auto_columns": null,
            "margin": null,
            "display": null,
            "left": null
          }
        },
        "8407d398a022470d816f7336413a0065": {
          "model_module": "@jupyter-widgets/controls",
          "model_name": "FloatProgressModel",
          "state": {
            "_view_name": "ProgressView",
            "style": "IPY_MODEL_c86734e36d364a58beb18ba221bb4f74",
            "_dom_classes": [],
            "description": "Downloading: 100%",
            "_model_name": "FloatProgressModel",
            "bar_style": "success",
            "max": 231508,
            "_view_module": "@jupyter-widgets/controls",
            "_model_module_version": "1.5.0",
            "value": 231508,
            "_view_count": null,
            "_view_module_version": "1.5.0",
            "orientation": "horizontal",
            "min": 0,
            "description_tooltip": null,
            "_model_module": "@jupyter-widgets/controls",
            "layout": "IPY_MODEL_1389c958516a46c2b35d53ffd9cd11b6"
          }
        },
        "c5129c00910c4b65a63e3a5e35c3333a": {
          "model_module": "@jupyter-widgets/controls",
          "model_name": "HTMLModel",
          "state": {
            "_view_name": "HTMLView",
            "style": "IPY_MODEL_fde06ec8252f442481e00a75fa52873b",
            "_dom_classes": [],
            "description": "",
            "_model_name": "HTMLModel",
            "placeholder": "​",
            "_view_module": "@jupyter-widgets/controls",
            "_model_module_version": "1.5.0",
            "value": " 232k/232k [00:00&lt;00:00, 1.97MB/s]",
            "_view_count": null,
            "_view_module_version": "1.5.0",
            "description_tooltip": null,
            "_model_module": "@jupyter-widgets/controls",
            "layout": "IPY_MODEL_930db90620cd438fba4854d9e9863765"
          }
        },
        "c86734e36d364a58beb18ba221bb4f74": {
          "model_module": "@jupyter-widgets/controls",
          "model_name": "ProgressStyleModel",
          "state": {
            "_view_name": "StyleView",
            "_model_name": "ProgressStyleModel",
            "description_width": "initial",
            "_view_module": "@jupyter-widgets/base",
            "_model_module_version": "1.5.0",
            "_view_count": null,
            "_view_module_version": "1.2.0",
            "bar_color": null,
            "_model_module": "@jupyter-widgets/controls"
          }
        },
        "1389c958516a46c2b35d53ffd9cd11b6": {
          "model_module": "@jupyter-widgets/base",
          "model_name": "LayoutModel",
          "state": {
            "_view_name": "LayoutView",
            "grid_template_rows": null,
            "right": null,
            "justify_content": null,
            "_view_module": "@jupyter-widgets/base",
            "overflow": null,
            "_model_module_version": "1.2.0",
            "_view_count": null,
            "flex_flow": null,
            "width": null,
            "min_width": null,
            "border": null,
            "align_items": null,
            "bottom": null,
            "_model_module": "@jupyter-widgets/base",
            "top": null,
            "grid_column": null,
            "overflow_y": null,
            "overflow_x": null,
            "grid_auto_flow": null,
            "grid_area": null,
            "grid_template_columns": null,
            "flex": null,
            "_model_name": "LayoutModel",
            "justify_items": null,
            "grid_row": null,
            "max_height": null,
            "align_content": null,
            "visibility": null,
            "align_self": null,
            "height": null,
            "min_height": null,
            "padding": null,
            "grid_auto_rows": null,
            "grid_gap": null,
            "max_width": null,
            "order": null,
            "_view_module_version": "1.2.0",
            "grid_template_areas": null,
            "object_position": null,
            "object_fit": null,
            "grid_auto_columns": null,
            "margin": null,
            "display": null,
            "left": null
          }
        },
        "fde06ec8252f442481e00a75fa52873b": {
          "model_module": "@jupyter-widgets/controls",
          "model_name": "DescriptionStyleModel",
          "state": {
            "_view_name": "StyleView",
            "_model_name": "DescriptionStyleModel",
            "description_width": "",
            "_view_module": "@jupyter-widgets/base",
            "_model_module_version": "1.5.0",
            "_view_count": null,
            "_view_module_version": "1.2.0",
            "_model_module": "@jupyter-widgets/controls"
          }
        },
        "930db90620cd438fba4854d9e9863765": {
          "model_module": "@jupyter-widgets/base",
          "model_name": "LayoutModel",
          "state": {
            "_view_name": "LayoutView",
            "grid_template_rows": null,
            "right": null,
            "justify_content": null,
            "_view_module": "@jupyter-widgets/base",
            "overflow": null,
            "_model_module_version": "1.2.0",
            "_view_count": null,
            "flex_flow": null,
            "width": null,
            "min_width": null,
            "border": null,
            "align_items": null,
            "bottom": null,
            "_model_module": "@jupyter-widgets/base",
            "top": null,
            "grid_column": null,
            "overflow_y": null,
            "overflow_x": null,
            "grid_auto_flow": null,
            "grid_area": null,
            "grid_template_columns": null,
            "flex": null,
            "_model_name": "LayoutModel",
            "justify_items": null,
            "grid_row": null,
            "max_height": null,
            "align_content": null,
            "visibility": null,
            "align_self": null,
            "height": null,
            "min_height": null,
            "padding": null,
            "grid_auto_rows": null,
            "grid_gap": null,
            "max_width": null,
            "order": null,
            "_view_module_version": "1.2.0",
            "grid_template_areas": null,
            "object_position": null,
            "object_fit": null,
            "grid_auto_columns": null,
            "margin": null,
            "display": null,
            "left": null
          }
        },
        "a04aa53af8b9488eb51be22a8a9d96f1": {
          "model_module": "@jupyter-widgets/controls",
          "model_name": "HBoxModel",
          "state": {
            "_view_name": "HBoxView",
            "_dom_classes": [],
            "_model_name": "HBoxModel",
            "_view_module": "@jupyter-widgets/controls",
            "_model_module_version": "1.5.0",
            "_view_count": null,
            "_view_module_version": "1.5.0",
            "box_style": "",
            "layout": "IPY_MODEL_b66b2bc10a1b43cbb15a72e468cc17da",
            "_model_module": "@jupyter-widgets/controls",
            "children": [
              "IPY_MODEL_a6702f75a8b54158884ab1d4b66936b4",
              "IPY_MODEL_4628e438cc9445e4b42b96ed42e3d7ab"
            ]
          }
        },
        "b66b2bc10a1b43cbb15a72e468cc17da": {
          "model_module": "@jupyter-widgets/base",
          "model_name": "LayoutModel",
          "state": {
            "_view_name": "LayoutView",
            "grid_template_rows": null,
            "right": null,
            "justify_content": null,
            "_view_module": "@jupyter-widgets/base",
            "overflow": null,
            "_model_module_version": "1.2.0",
            "_view_count": null,
            "flex_flow": null,
            "width": null,
            "min_width": null,
            "border": null,
            "align_items": null,
            "bottom": null,
            "_model_module": "@jupyter-widgets/base",
            "top": null,
            "grid_column": null,
            "overflow_y": null,
            "overflow_x": null,
            "grid_auto_flow": null,
            "grid_area": null,
            "grid_template_columns": null,
            "flex": null,
            "_model_name": "LayoutModel",
            "justify_items": null,
            "grid_row": null,
            "max_height": null,
            "align_content": null,
            "visibility": null,
            "align_self": null,
            "height": null,
            "min_height": null,
            "padding": null,
            "grid_auto_rows": null,
            "grid_gap": null,
            "max_width": null,
            "order": null,
            "_view_module_version": "1.2.0",
            "grid_template_areas": null,
            "object_position": null,
            "object_fit": null,
            "grid_auto_columns": null,
            "margin": null,
            "display": null,
            "left": null
          }
        },
        "a6702f75a8b54158884ab1d4b66936b4": {
          "model_module": "@jupyter-widgets/controls",
          "model_name": "FloatProgressModel",
          "state": {
            "_view_name": "ProgressView",
            "style": "IPY_MODEL_e80e941986f445469b1b6b75f404e345",
            "_dom_classes": [],
            "description": "Downloading: 100%",
            "_model_name": "FloatProgressModel",
            "bar_style": "success",
            "max": 466062,
            "_view_module": "@jupyter-widgets/controls",
            "_model_module_version": "1.5.0",
            "value": 466062,
            "_view_count": null,
            "_view_module_version": "1.5.0",
            "orientation": "horizontal",
            "min": 0,
            "description_tooltip": null,
            "_model_module": "@jupyter-widgets/controls",
            "layout": "IPY_MODEL_873e691754f44765a0b2646e7bd5a6cf"
          }
        },
        "4628e438cc9445e4b42b96ed42e3d7ab": {
          "model_module": "@jupyter-widgets/controls",
          "model_name": "HTMLModel",
          "state": {
            "_view_name": "HTMLView",
            "style": "IPY_MODEL_a1c4f8a646984c82a2a3a083e117a9f8",
            "_dom_classes": [],
            "description": "",
            "_model_name": "HTMLModel",
            "placeholder": "​",
            "_view_module": "@jupyter-widgets/controls",
            "_model_module_version": "1.5.0",
            "value": " 466k/466k [00:08&lt;00:00, 52.3kB/s]",
            "_view_count": null,
            "_view_module_version": "1.5.0",
            "description_tooltip": null,
            "_model_module": "@jupyter-widgets/controls",
            "layout": "IPY_MODEL_42566963ff8a49709c63ba2cd6230ee9"
          }
        },
        "e80e941986f445469b1b6b75f404e345": {
          "model_module": "@jupyter-widgets/controls",
          "model_name": "ProgressStyleModel",
          "state": {
            "_view_name": "StyleView",
            "_model_name": "ProgressStyleModel",
            "description_width": "initial",
            "_view_module": "@jupyter-widgets/base",
            "_model_module_version": "1.5.0",
            "_view_count": null,
            "_view_module_version": "1.2.0",
            "bar_color": null,
            "_model_module": "@jupyter-widgets/controls"
          }
        },
        "873e691754f44765a0b2646e7bd5a6cf": {
          "model_module": "@jupyter-widgets/base",
          "model_name": "LayoutModel",
          "state": {
            "_view_name": "LayoutView",
            "grid_template_rows": null,
            "right": null,
            "justify_content": null,
            "_view_module": "@jupyter-widgets/base",
            "overflow": null,
            "_model_module_version": "1.2.0",
            "_view_count": null,
            "flex_flow": null,
            "width": null,
            "min_width": null,
            "border": null,
            "align_items": null,
            "bottom": null,
            "_model_module": "@jupyter-widgets/base",
            "top": null,
            "grid_column": null,
            "overflow_y": null,
            "overflow_x": null,
            "grid_auto_flow": null,
            "grid_area": null,
            "grid_template_columns": null,
            "flex": null,
            "_model_name": "LayoutModel",
            "justify_items": null,
            "grid_row": null,
            "max_height": null,
            "align_content": null,
            "visibility": null,
            "align_self": null,
            "height": null,
            "min_height": null,
            "padding": null,
            "grid_auto_rows": null,
            "grid_gap": null,
            "max_width": null,
            "order": null,
            "_view_module_version": "1.2.0",
            "grid_template_areas": null,
            "object_position": null,
            "object_fit": null,
            "grid_auto_columns": null,
            "margin": null,
            "display": null,
            "left": null
          }
        },
        "a1c4f8a646984c82a2a3a083e117a9f8": {
          "model_module": "@jupyter-widgets/controls",
          "model_name": "DescriptionStyleModel",
          "state": {
            "_view_name": "StyleView",
            "_model_name": "DescriptionStyleModel",
            "description_width": "",
            "_view_module": "@jupyter-widgets/base",
            "_model_module_version": "1.5.0",
            "_view_count": null,
            "_view_module_version": "1.2.0",
            "_model_module": "@jupyter-widgets/controls"
          }
        },
        "42566963ff8a49709c63ba2cd6230ee9": {
          "model_module": "@jupyter-widgets/base",
          "model_name": "LayoutModel",
          "state": {
            "_view_name": "LayoutView",
            "grid_template_rows": null,
            "right": null,
            "justify_content": null,
            "_view_module": "@jupyter-widgets/base",
            "overflow": null,
            "_model_module_version": "1.2.0",
            "_view_count": null,
            "flex_flow": null,
            "width": null,
            "min_width": null,
            "border": null,
            "align_items": null,
            "bottom": null,
            "_model_module": "@jupyter-widgets/base",
            "top": null,
            "grid_column": null,
            "overflow_y": null,
            "overflow_x": null,
            "grid_auto_flow": null,
            "grid_area": null,
            "grid_template_columns": null,
            "flex": null,
            "_model_name": "LayoutModel",
            "justify_items": null,
            "grid_row": null,
            "max_height": null,
            "align_content": null,
            "visibility": null,
            "align_self": null,
            "height": null,
            "min_height": null,
            "padding": null,
            "grid_auto_rows": null,
            "grid_gap": null,
            "max_width": null,
            "order": null,
            "_view_module_version": "1.2.0",
            "grid_template_areas": null,
            "object_position": null,
            "object_fit": null,
            "grid_auto_columns": null,
            "margin": null,
            "display": null,
            "left": null
          }
        },
        "10ee9ec483d54075b23ae1723dc93087": {
          "model_module": "@jupyter-widgets/controls",
          "model_name": "HBoxModel",
          "state": {
            "_view_name": "HBoxView",
            "_dom_classes": [],
            "_model_name": "HBoxModel",
            "_view_module": "@jupyter-widgets/controls",
            "_model_module_version": "1.5.0",
            "_view_count": null,
            "_view_module_version": "1.5.0",
            "box_style": "",
            "layout": "IPY_MODEL_8a4c5980559243abad13e19c4f6706ab",
            "_model_module": "@jupyter-widgets/controls",
            "children": [
              "IPY_MODEL_546845a12d394b95b6206576b218ec39",
              "IPY_MODEL_e73d148b06ab42e9944197b2a98404ae"
            ]
          }
        },
        "8a4c5980559243abad13e19c4f6706ab": {
          "model_module": "@jupyter-widgets/base",
          "model_name": "LayoutModel",
          "state": {
            "_view_name": "LayoutView",
            "grid_template_rows": null,
            "right": null,
            "justify_content": null,
            "_view_module": "@jupyter-widgets/base",
            "overflow": null,
            "_model_module_version": "1.2.0",
            "_view_count": null,
            "flex_flow": null,
            "width": null,
            "min_width": null,
            "border": null,
            "align_items": null,
            "bottom": null,
            "_model_module": "@jupyter-widgets/base",
            "top": null,
            "grid_column": null,
            "overflow_y": null,
            "overflow_x": null,
            "grid_auto_flow": null,
            "grid_area": null,
            "grid_template_columns": null,
            "flex": null,
            "_model_name": "LayoutModel",
            "justify_items": null,
            "grid_row": null,
            "max_height": null,
            "align_content": null,
            "visibility": null,
            "align_self": null,
            "height": null,
            "min_height": null,
            "padding": null,
            "grid_auto_rows": null,
            "grid_gap": null,
            "max_width": null,
            "order": null,
            "_view_module_version": "1.2.0",
            "grid_template_areas": null,
            "object_position": null,
            "object_fit": null,
            "grid_auto_columns": null,
            "margin": null,
            "display": null,
            "left": null
          }
        },
        "546845a12d394b95b6206576b218ec39": {
          "model_module": "@jupyter-widgets/controls",
          "model_name": "FloatProgressModel",
          "state": {
            "_view_name": "ProgressView",
            "style": "IPY_MODEL_dbbaa6070d574ae997ca8e6a7470a53c",
            "_dom_classes": [],
            "description": "Downloading: 100%",
            "_model_name": "FloatProgressModel",
            "bar_style": "success",
            "max": 28,
            "_view_module": "@jupyter-widgets/controls",
            "_model_module_version": "1.5.0",
            "value": 28,
            "_view_count": null,
            "_view_module_version": "1.5.0",
            "orientation": "horizontal",
            "min": 0,
            "description_tooltip": null,
            "_model_module": "@jupyter-widgets/controls",
            "layout": "IPY_MODEL_404440b183ab4b2b830b4d7a7029f5d5"
          }
        },
        "e73d148b06ab42e9944197b2a98404ae": {
          "model_module": "@jupyter-widgets/controls",
          "model_name": "HTMLModel",
          "state": {
            "_view_name": "HTMLView",
            "style": "IPY_MODEL_bda2810af8a44b59b019fad0fc117679",
            "_dom_classes": [],
            "description": "",
            "_model_name": "HTMLModel",
            "placeholder": "​",
            "_view_module": "@jupyter-widgets/controls",
            "_model_module_version": "1.5.0",
            "value": " 28.0/28.0 [00:00&lt;00:00, 102B/s]",
            "_view_count": null,
            "_view_module_version": "1.5.0",
            "description_tooltip": null,
            "_model_module": "@jupyter-widgets/controls",
            "layout": "IPY_MODEL_133de1ad283c4366ade41cb78f051162"
          }
        },
        "dbbaa6070d574ae997ca8e6a7470a53c": {
          "model_module": "@jupyter-widgets/controls",
          "model_name": "ProgressStyleModel",
          "state": {
            "_view_name": "StyleView",
            "_model_name": "ProgressStyleModel",
            "description_width": "initial",
            "_view_module": "@jupyter-widgets/base",
            "_model_module_version": "1.5.0",
            "_view_count": null,
            "_view_module_version": "1.2.0",
            "bar_color": null,
            "_model_module": "@jupyter-widgets/controls"
          }
        },
        "404440b183ab4b2b830b4d7a7029f5d5": {
          "model_module": "@jupyter-widgets/base",
          "model_name": "LayoutModel",
          "state": {
            "_view_name": "LayoutView",
            "grid_template_rows": null,
            "right": null,
            "justify_content": null,
            "_view_module": "@jupyter-widgets/base",
            "overflow": null,
            "_model_module_version": "1.2.0",
            "_view_count": null,
            "flex_flow": null,
            "width": null,
            "min_width": null,
            "border": null,
            "align_items": null,
            "bottom": null,
            "_model_module": "@jupyter-widgets/base",
            "top": null,
            "grid_column": null,
            "overflow_y": null,
            "overflow_x": null,
            "grid_auto_flow": null,
            "grid_area": null,
            "grid_template_columns": null,
            "flex": null,
            "_model_name": "LayoutModel",
            "justify_items": null,
            "grid_row": null,
            "max_height": null,
            "align_content": null,
            "visibility": null,
            "align_self": null,
            "height": null,
            "min_height": null,
            "padding": null,
            "grid_auto_rows": null,
            "grid_gap": null,
            "max_width": null,
            "order": null,
            "_view_module_version": "1.2.0",
            "grid_template_areas": null,
            "object_position": null,
            "object_fit": null,
            "grid_auto_columns": null,
            "margin": null,
            "display": null,
            "left": null
          }
        },
        "bda2810af8a44b59b019fad0fc117679": {
          "model_module": "@jupyter-widgets/controls",
          "model_name": "DescriptionStyleModel",
          "state": {
            "_view_name": "StyleView",
            "_model_name": "DescriptionStyleModel",
            "description_width": "",
            "_view_module": "@jupyter-widgets/base",
            "_model_module_version": "1.5.0",
            "_view_count": null,
            "_view_module_version": "1.2.0",
            "_model_module": "@jupyter-widgets/controls"
          }
        },
        "133de1ad283c4366ade41cb78f051162": {
          "model_module": "@jupyter-widgets/base",
          "model_name": "LayoutModel",
          "state": {
            "_view_name": "LayoutView",
            "grid_template_rows": null,
            "right": null,
            "justify_content": null,
            "_view_module": "@jupyter-widgets/base",
            "overflow": null,
            "_model_module_version": "1.2.0",
            "_view_count": null,
            "flex_flow": null,
            "width": null,
            "min_width": null,
            "border": null,
            "align_items": null,
            "bottom": null,
            "_model_module": "@jupyter-widgets/base",
            "top": null,
            "grid_column": null,
            "overflow_y": null,
            "overflow_x": null,
            "grid_auto_flow": null,
            "grid_area": null,
            "grid_template_columns": null,
            "flex": null,
            "_model_name": "LayoutModel",
            "justify_items": null,
            "grid_row": null,
            "max_height": null,
            "align_content": null,
            "visibility": null,
            "align_self": null,
            "height": null,
            "min_height": null,
            "padding": null,
            "grid_auto_rows": null,
            "grid_gap": null,
            "max_width": null,
            "order": null,
            "_view_module_version": "1.2.0",
            "grid_template_areas": null,
            "object_position": null,
            "object_fit": null,
            "grid_auto_columns": null,
            "margin": null,
            "display": null,
            "left": null
          }
        },
        "736b803f0bb04536ae2620e88e03a3a6": {
          "model_module": "@jupyter-widgets/controls",
          "model_name": "HBoxModel",
          "state": {
            "_view_name": "HBoxView",
            "_dom_classes": [],
            "_model_name": "HBoxModel",
            "_view_module": "@jupyter-widgets/controls",
            "_model_module_version": "1.5.0",
            "_view_count": null,
            "_view_module_version": "1.5.0",
            "box_style": "",
            "layout": "IPY_MODEL_e7b0ca2c477e4a5584505ca22253787b",
            "_model_module": "@jupyter-widgets/controls",
            "children": [
              "IPY_MODEL_b96751320ff54952aa1d41454b8c11d6",
              "IPY_MODEL_a08c10fc3e0b4c0b9b52fce8c8131163"
            ]
          }
        },
        "e7b0ca2c477e4a5584505ca22253787b": {
          "model_module": "@jupyter-widgets/base",
          "model_name": "LayoutModel",
          "state": {
            "_view_name": "LayoutView",
            "grid_template_rows": null,
            "right": null,
            "justify_content": null,
            "_view_module": "@jupyter-widgets/base",
            "overflow": null,
            "_model_module_version": "1.2.0",
            "_view_count": null,
            "flex_flow": null,
            "width": null,
            "min_width": null,
            "border": null,
            "align_items": null,
            "bottom": null,
            "_model_module": "@jupyter-widgets/base",
            "top": null,
            "grid_column": null,
            "overflow_y": null,
            "overflow_x": null,
            "grid_auto_flow": null,
            "grid_area": null,
            "grid_template_columns": null,
            "flex": null,
            "_model_name": "LayoutModel",
            "justify_items": null,
            "grid_row": null,
            "max_height": null,
            "align_content": null,
            "visibility": null,
            "align_self": null,
            "height": null,
            "min_height": null,
            "padding": null,
            "grid_auto_rows": null,
            "grid_gap": null,
            "max_width": null,
            "order": null,
            "_view_module_version": "1.2.0",
            "grid_template_areas": null,
            "object_position": null,
            "object_fit": null,
            "grid_auto_columns": null,
            "margin": null,
            "display": null,
            "left": null
          }
        },
        "b96751320ff54952aa1d41454b8c11d6": {
          "model_module": "@jupyter-widgets/controls",
          "model_name": "FloatProgressModel",
          "state": {
            "_view_name": "ProgressView",
            "style": "IPY_MODEL_9c85e4ece43742d4af94814565c0ed62",
            "_dom_classes": [],
            "description": "Downloading: 100%",
            "_model_name": "FloatProgressModel",
            "bar_style": "success",
            "max": 440473133,
            "_view_module": "@jupyter-widgets/controls",
            "_model_module_version": "1.5.0",
            "value": 440473133,
            "_view_count": null,
            "_view_module_version": "1.5.0",
            "orientation": "horizontal",
            "min": 0,
            "description_tooltip": null,
            "_model_module": "@jupyter-widgets/controls",
            "layout": "IPY_MODEL_6b471e7d9d8c473ca1ed10826ab1ee68"
          }
        },
        "a08c10fc3e0b4c0b9b52fce8c8131163": {
          "model_module": "@jupyter-widgets/controls",
          "model_name": "HTMLModel",
          "state": {
            "_view_name": "HTMLView",
            "style": "IPY_MODEL_e768998b6892411cb24391aad492c81b",
            "_dom_classes": [],
            "description": "",
            "_model_name": "HTMLModel",
            "placeholder": "​",
            "_view_module": "@jupyter-widgets/controls",
            "_model_module_version": "1.5.0",
            "value": " 440M/440M [00:08&lt;00:00, 51.8MB/s]",
            "_view_count": null,
            "_view_module_version": "1.5.0",
            "description_tooltip": null,
            "_model_module": "@jupyter-widgets/controls",
            "layout": "IPY_MODEL_cea781bc87ae4b6ba5e9c0fec03a109b"
          }
        },
        "9c85e4ece43742d4af94814565c0ed62": {
          "model_module": "@jupyter-widgets/controls",
          "model_name": "ProgressStyleModel",
          "state": {
            "_view_name": "StyleView",
            "_model_name": "ProgressStyleModel",
            "description_width": "initial",
            "_view_module": "@jupyter-widgets/base",
            "_model_module_version": "1.5.0",
            "_view_count": null,
            "_view_module_version": "1.2.0",
            "bar_color": null,
            "_model_module": "@jupyter-widgets/controls"
          }
        },
        "6b471e7d9d8c473ca1ed10826ab1ee68": {
          "model_module": "@jupyter-widgets/base",
          "model_name": "LayoutModel",
          "state": {
            "_view_name": "LayoutView",
            "grid_template_rows": null,
            "right": null,
            "justify_content": null,
            "_view_module": "@jupyter-widgets/base",
            "overflow": null,
            "_model_module_version": "1.2.0",
            "_view_count": null,
            "flex_flow": null,
            "width": null,
            "min_width": null,
            "border": null,
            "align_items": null,
            "bottom": null,
            "_model_module": "@jupyter-widgets/base",
            "top": null,
            "grid_column": null,
            "overflow_y": null,
            "overflow_x": null,
            "grid_auto_flow": null,
            "grid_area": null,
            "grid_template_columns": null,
            "flex": null,
            "_model_name": "LayoutModel",
            "justify_items": null,
            "grid_row": null,
            "max_height": null,
            "align_content": null,
            "visibility": null,
            "align_self": null,
            "height": null,
            "min_height": null,
            "padding": null,
            "grid_auto_rows": null,
            "grid_gap": null,
            "max_width": null,
            "order": null,
            "_view_module_version": "1.2.0",
            "grid_template_areas": null,
            "object_position": null,
            "object_fit": null,
            "grid_auto_columns": null,
            "margin": null,
            "display": null,
            "left": null
          }
        },
        "e768998b6892411cb24391aad492c81b": {
          "model_module": "@jupyter-widgets/controls",
          "model_name": "DescriptionStyleModel",
          "state": {
            "_view_name": "StyleView",
            "_model_name": "DescriptionStyleModel",
            "description_width": "",
            "_view_module": "@jupyter-widgets/base",
            "_model_module_version": "1.5.0",
            "_view_count": null,
            "_view_module_version": "1.2.0",
            "_model_module": "@jupyter-widgets/controls"
          }
        },
        "cea781bc87ae4b6ba5e9c0fec03a109b": {
          "model_module": "@jupyter-widgets/base",
          "model_name": "LayoutModel",
          "state": {
            "_view_name": "LayoutView",
            "grid_template_rows": null,
            "right": null,
            "justify_content": null,
            "_view_module": "@jupyter-widgets/base",
            "overflow": null,
            "_model_module_version": "1.2.0",
            "_view_count": null,
            "flex_flow": null,
            "width": null,
            "min_width": null,
            "border": null,
            "align_items": null,
            "bottom": null,
            "_model_module": "@jupyter-widgets/base",
            "top": null,
            "grid_column": null,
            "overflow_y": null,
            "overflow_x": null,
            "grid_auto_flow": null,
            "grid_area": null,
            "grid_template_columns": null,
            "flex": null,
            "_model_name": "LayoutModel",
            "justify_items": null,
            "grid_row": null,
            "max_height": null,
            "align_content": null,
            "visibility": null,
            "align_self": null,
            "height": null,
            "min_height": null,
            "padding": null,
            "grid_auto_rows": null,
            "grid_gap": null,
            "max_width": null,
            "order": null,
            "_view_module_version": "1.2.0",
            "grid_template_areas": null,
            "object_position": null,
            "object_fit": null,
            "grid_auto_columns": null,
            "margin": null,
            "display": null,
            "left": null
          }
        }
      }
    }
  },
  "cells": [
    {
      "cell_type": "markdown",
      "metadata": {
        "id": "view-in-github",
        "colab_type": "text"
      },
      "source": [
        "<a href=\"https://colab.research.google.com/github/raheeltahir55/CE888/blob/main/Project/Proj_MultiEval_Emotion_TL.ipynb\" target=\"_parent\"><img src=\"https://colab.research.google.com/assets/colab-badge.svg\" alt=\"Open In Colab\"/></a>"
      ]
    },
    {
      "cell_type": "code",
      "metadata": {
        "id": "JQ7vqH0BfqMy"
      },
      "source": [
        "### EMOTION ####\n",
        "import pandas as pd\n",
        "import numpy as np\n",
        "from nltk.tokenize import word_tokenize\n",
        "from nltk import pos_tag\n",
        "from nltk.corpus import stopwords\n",
        "from nltk.stem import WordNetLemmatizer\n",
        "from sklearn.preprocessing import LabelEncoder\n",
        "from collections import defaultdict\n",
        "from nltk.corpus import wordnet as wn\n",
        "from sklearn.feature_extraction.text import TfidfVectorizer\n",
        "from sklearn import model_selection, naive_bayes, svm\n",
        "from sklearn.metrics import accuracy_score\n",
        "from sklearn.metrics import recall_score\n",
        "import io\n",
        "import requests\n",
        "import zipfile"
      ],
      "execution_count": 1,
      "outputs": []
    },
    {
      "cell_type": "code",
      "metadata": {
        "id": "U230YMeABsU7"
      },
      "source": [
        "import keras\n",
        "from keras.models import Sequential\n",
        "from keras.layers import Dense\n",
        "from keras.layers import LSTM\n",
        "from keras.layers.embeddings import Embedding\n",
        "from keras.preprocessing import sequence\n",
        "from keras.preprocessing.text import Tokenizer\n",
        "from keras_preprocessing.sequence import pad_sequences\n",
        "from keras.layers import SpatialDropout1D\n",
        "import tensorflow as tf\n",
        "from keras.layers import Bidirectional\n",
        "from keras.models import load_model"
      ],
      "execution_count": 2,
      "outputs": []
    },
    {
      "cell_type": "code",
      "metadata": {
        "colab": {
          "base_uri": "https://localhost:8080/"
        },
        "id": "HTeol4-uH_uN",
        "outputId": "0a9f3342-1721-4a15-90d0-cd81b0f4cd99"
      },
      "source": [
        "import nltk\n",
        "nltk.download('punkt')\n",
        "nltk.download('wordnet')\n",
        "nltk.download('averaged_perceptron_tagger')\n",
        "nltk.download('stopwords')"
      ],
      "execution_count": 3,
      "outputs": [
        {
          "output_type": "stream",
          "text": [
            "[nltk_data] Downloading package punkt to /root/nltk_data...\n",
            "[nltk_data]   Unzipping tokenizers/punkt.zip.\n",
            "[nltk_data] Downloading package wordnet to /root/nltk_data...\n",
            "[nltk_data]   Unzipping corpora/wordnet.zip.\n",
            "[nltk_data] Downloading package averaged_perceptron_tagger to\n",
            "[nltk_data]     /root/nltk_data...\n",
            "[nltk_data]   Unzipping taggers/averaged_perceptron_tagger.zip.\n",
            "[nltk_data] Downloading package stopwords to /root/nltk_data...\n",
            "[nltk_data]   Unzipping corpora/stopwords.zip.\n"
          ],
          "name": "stdout"
        },
        {
          "output_type": "execute_result",
          "data": {
            "text/plain": [
              "True"
            ]
          },
          "metadata": {
            "tags": []
          },
          "execution_count": 3
        }
      ]
    },
    {
      "cell_type": "code",
      "metadata": {
        "colab": {
          "base_uri": "https://localhost:8080/"
        },
        "id": "opN-HvgwWQEH",
        "outputId": "31f8528f-964d-4cc9-bea5-b23f716e6db8"
      },
      "source": [
        "pip install nlpaug"
      ],
      "execution_count": 4,
      "outputs": [
        {
          "output_type": "stream",
          "text": [
            "Collecting nlpaug\n",
            "\u001b[?25l  Downloading https://files.pythonhosted.org/packages/eb/f8/b11caecdd19aa2b1b2cb46c6cbbec692abd621aad884e653e459a8546add/nlpaug-1.1.3-py3-none-any.whl (394kB)\n",
            "\r\u001b[K     |▉                               | 10kB 24.1MB/s eta 0:00:01\r\u001b[K     |█▋                              | 20kB 31.0MB/s eta 0:00:01\r\u001b[K     |██▌                             | 30kB 22.6MB/s eta 0:00:01\r\u001b[K     |███▎                            | 40kB 26.1MB/s eta 0:00:01\r\u001b[K     |████▏                           | 51kB 25.1MB/s eta 0:00:01\r\u001b[K     |█████                           | 61kB 27.9MB/s eta 0:00:01\r\u001b[K     |█████▉                          | 71kB 18.8MB/s eta 0:00:01\r\u001b[K     |██████▋                         | 81kB 19.7MB/s eta 0:00:01\r\u001b[K     |███████▌                        | 92kB 18.4MB/s eta 0:00:01\r\u001b[K     |████████▎                       | 102kB 18.5MB/s eta 0:00:01\r\u001b[K     |█████████▏                      | 112kB 18.5MB/s eta 0:00:01\r\u001b[K     |██████████                      | 122kB 18.5MB/s eta 0:00:01\r\u001b[K     |██████████▉                     | 133kB 18.5MB/s eta 0:00:01\r\u001b[K     |███████████▋                    | 143kB 18.5MB/s eta 0:00:01\r\u001b[K     |████████████▌                   | 153kB 18.5MB/s eta 0:00:01\r\u001b[K     |█████████████▎                  | 163kB 18.5MB/s eta 0:00:01\r\u001b[K     |██████████████▏                 | 174kB 18.5MB/s eta 0:00:01\r\u001b[K     |███████████████                 | 184kB 18.5MB/s eta 0:00:01\r\u001b[K     |███████████████▉                | 194kB 18.5MB/s eta 0:00:01\r\u001b[K     |████████████████▋               | 204kB 18.5MB/s eta 0:00:01\r\u001b[K     |█████████████████▌              | 215kB 18.5MB/s eta 0:00:01\r\u001b[K     |██████████████████▎             | 225kB 18.5MB/s eta 0:00:01\r\u001b[K     |███████████████████▏            | 235kB 18.5MB/s eta 0:00:01\r\u001b[K     |████████████████████            | 245kB 18.5MB/s eta 0:00:01\r\u001b[K     |████████████████████▉           | 256kB 18.5MB/s eta 0:00:01\r\u001b[K     |█████████████████████▋          | 266kB 18.5MB/s eta 0:00:01\r\u001b[K     |██████████████████████▌         | 276kB 18.5MB/s eta 0:00:01\r\u001b[K     |███████████████████████▎        | 286kB 18.5MB/s eta 0:00:01\r\u001b[K     |████████████████████████        | 296kB 18.5MB/s eta 0:00:01\r\u001b[K     |█████████████████████████       | 307kB 18.5MB/s eta 0:00:01\r\u001b[K     |█████████████████████████▊      | 317kB 18.5MB/s eta 0:00:01\r\u001b[K     |██████████████████████████▋     | 327kB 18.5MB/s eta 0:00:01\r\u001b[K     |███████████████████████████▍    | 337kB 18.5MB/s eta 0:00:01\r\u001b[K     |████████████████████████████▎   | 348kB 18.5MB/s eta 0:00:01\r\u001b[K     |█████████████████████████████   | 358kB 18.5MB/s eta 0:00:01\r\u001b[K     |██████████████████████████████  | 368kB 18.5MB/s eta 0:00:01\r\u001b[K     |██████████████████████████████▊ | 378kB 18.5MB/s eta 0:00:01\r\u001b[K     |███████████████████████████████▋| 389kB 18.5MB/s eta 0:00:01\r\u001b[K     |████████████████████████████████| 399kB 18.5MB/s \n",
            "\u001b[?25hInstalling collected packages: nlpaug\n",
            "Successfully installed nlpaug-1.1.3\n"
          ],
          "name": "stdout"
        }
      ]
    },
    {
      "cell_type": "code",
      "metadata": {
        "id": "j1nNybhwVAQW"
      },
      "source": [
        "pip install torch>=1.6.0 transformers>=4.0.0"
      ],
      "execution_count": 5,
      "outputs": []
    },
    {
      "cell_type": "code",
      "metadata": {
        "id": "sP6acIWaWURY"
      },
      "source": [
        "import nlpaug.augmenter.char as nac\n",
        "import nlpaug.augmenter.word as naw\n",
        "import nlpaug.augmenter.sentence as nas\n",
        "import nlpaug.flow as naf\n",
        "\n",
        "from nlpaug.util import Action"
      ],
      "execution_count": 6,
      "outputs": []
    },
    {
      "cell_type": "code",
      "metadata": {
        "id": "ekQ_w-l4hqbA"
      },
      "source": [
        "r= requests.get('https://raw.githubusercontent.com/cardiffnlp/tweeteval/main/datasets/emotion/train_text.txt', allow_redirects= True)\n",
        "open('train_text.txt', 'wb').write(r.content)\n",
        "example1 = \"/content/train_text.txt\"\n",
        "with open(example1, \"r\") as file1:\n",
        "    data = file1.readlines()"
      ],
      "execution_count": 7,
      "outputs": []
    },
    {
      "cell_type": "code",
      "metadata": {
        "id": "PF-O14MGkVle"
      },
      "source": [
        "r= requests.get('https://raw.githubusercontent.com/cardiffnlp/tweeteval/main/datasets/emotion/train_labels.txt', allow_redirects= True)\n",
        "open('train_labels.txt', 'wb').write(r.content)\n",
        "example1 = \"/content/train_labels.txt\"\n",
        "with open(example1, \"r\") as file1:\n",
        "    data1 = file1.readlines()"
      ],
      "execution_count": 8,
      "outputs": []
    },
    {
      "cell_type": "code",
      "metadata": {
        "id": "xK90mgBImGvA"
      },
      "source": [
        "r= requests.get('https://raw.githubusercontent.com/cardiffnlp/tweeteval/main/datasets/emotion/test_text.txt', allow_redirects= True)\n",
        "open('test_text.txt', 'wb').write(r.content)\n",
        "example1 = \"/content/test_text.txt\"\n",
        "with open(example1, \"r\") as file1:\n",
        "    data2 = file1.readlines()"
      ],
      "execution_count": 9,
      "outputs": []
    },
    {
      "cell_type": "code",
      "metadata": {
        "id": "mp7l2InYmKX-"
      },
      "source": [
        "r= requests.get('https://raw.githubusercontent.com/cardiffnlp/tweeteval/main/datasets/emotion/test_labels.txt', allow_redirects= True)\n",
        "open('test_labels.txt', 'wb').write(r.content)\n",
        "example1 = \"/content/test_labels.txt\"\n",
        "with open(example1, \"r\") as file1:\n",
        "    data3 = file1.readlines()"
      ],
      "execution_count": 10,
      "outputs": []
    },
    {
      "cell_type": "code",
      "metadata": {
        "id": "OEuWkvpAyIca"
      },
      "source": [
        "r= requests.get('https://raw.githubusercontent.com/cardiffnlp/tweeteval/main/datasets/emotion/val_text.txt', allow_redirects= True)\n",
        "open('val_text.txt', 'wb').write(r.content)\n",
        "example1 = \"/content/val_text.txt\"\n",
        "with open(example1, \"r\") as file1:\n",
        "    data4 = file1.readlines()"
      ],
      "execution_count": 11,
      "outputs": []
    },
    {
      "cell_type": "code",
      "metadata": {
        "id": "z9DSftBQyI29"
      },
      "source": [
        "r= requests.get('https://raw.githubusercontent.com/cardiffnlp/tweeteval/main/datasets/emotion/val_labels.txt', allow_redirects= True)\n",
        "open('val_labels.txt', 'wb').write(r.content)\n",
        "example1 = \"/content/val_labels.txt\"\n",
        "with open(example1, \"r\") as file1:\n",
        "    data5 = file1.readlines()"
      ],
      "execution_count": 12,
      "outputs": []
    },
    {
      "cell_type": "code",
      "metadata": {
        "id": "8aznNiGZmKrn"
      },
      "source": [
        "data= [data[i].strip() for i in range(len(data))]\n",
        "data1= [data1[i].strip() for i in range(len(data1))]\n",
        "data2= [data2[i].strip() for i in range(len(data2))]\n",
        "data3= [data3[i].strip() for i in range(len(data3))]\n",
        "data4= [data4[i].strip() for i in range(len(data4))]\n",
        "data5= [data5[i].strip() for i in range(len(data5))]"
      ],
      "execution_count": 13,
      "outputs": []
    },
    {
      "cell_type": "code",
      "metadata": {
        "colab": {
          "base_uri": "https://localhost:8080/",
          "height": 204
        },
        "id": "V3E8Ugn-tniG",
        "outputId": "a8014c31-85c1-4400-a174-15aa33d39f70"
      },
      "source": [
        "## df is dataframe for training\n",
        "\n",
        "df= pd.DataFrame()\n",
        "for index in range(len(data)):\n",
        "  df.loc[index, 'Text']=data[index]\n",
        "for index in range(len(data1)):\n",
        "  df.loc[index, 'Label']=data1[index]\n",
        "df.head()"
      ],
      "execution_count": 14,
      "outputs": [
        {
          "output_type": "execute_result",
          "data": {
            "text/html": [
              "<div>\n",
              "<style scoped>\n",
              "    .dataframe tbody tr th:only-of-type {\n",
              "        vertical-align: middle;\n",
              "    }\n",
              "\n",
              "    .dataframe tbody tr th {\n",
              "        vertical-align: top;\n",
              "    }\n",
              "\n",
              "    .dataframe thead th {\n",
              "        text-align: right;\n",
              "    }\n",
              "</style>\n",
              "<table border=\"1\" class=\"dataframe\">\n",
              "  <thead>\n",
              "    <tr style=\"text-align: right;\">\n",
              "      <th></th>\n",
              "      <th>Text</th>\n",
              "      <th>Label</th>\n",
              "    </tr>\n",
              "  </thead>\n",
              "  <tbody>\n",
              "    <tr>\n",
              "      <th>0</th>\n",
              "      <td>“Worry is a down payment on a problem you may ...</td>\n",
              "      <td>2</td>\n",
              "    </tr>\n",
              "    <tr>\n",
              "      <th>1</th>\n",
              "      <td>My roommate: it's okay that we can't spell bec...</td>\n",
              "      <td>0</td>\n",
              "    </tr>\n",
              "    <tr>\n",
              "      <th>2</th>\n",
              "      <td>No but that's so cute. Atsu was probably shy a...</td>\n",
              "      <td>1</td>\n",
              "    </tr>\n",
              "    <tr>\n",
              "      <th>3</th>\n",
              "      <td>Rooneys fucking untouchable isn't he? Been fuc...</td>\n",
              "      <td>0</td>\n",
              "    </tr>\n",
              "    <tr>\n",
              "      <th>4</th>\n",
              "      <td>it's pretty depressing when u hit pan on ur fa...</td>\n",
              "      <td>3</td>\n",
              "    </tr>\n",
              "  </tbody>\n",
              "</table>\n",
              "</div>"
            ],
            "text/plain": [
              "                                                Text Label\n",
              "0  “Worry is a down payment on a problem you may ...     2\n",
              "1  My roommate: it's okay that we can't spell bec...     0\n",
              "2  No but that's so cute. Atsu was probably shy a...     1\n",
              "3  Rooneys fucking untouchable isn't he? Been fuc...     0\n",
              "4  it's pretty depressing when u hit pan on ur fa...     3"
            ]
          },
          "metadata": {
            "tags": []
          },
          "execution_count": 14
        }
      ]
    },
    {
      "cell_type": "code",
      "metadata": {
        "colab": {
          "base_uri": "https://localhost:8080/",
          "height": 204
        },
        "id": "6_yOT1deEIv_",
        "outputId": "0ef8f98b-d1a5-4e37-87f8-68b358daa7c0"
      },
      "source": [
        "## df1 is dataframe for test\n",
        "\n",
        "df1= pd.DataFrame()\n",
        "for index in range(len(data2)):\n",
        "  df1.loc[index, 'Text']=data2[index]\n",
        "for index in range(len(data3)):\n",
        "  df1.loc[index, 'Label']=data3[index]\n",
        "df1.head()"
      ],
      "execution_count": 15,
      "outputs": [
        {
          "output_type": "execute_result",
          "data": {
            "text/html": [
              "<div>\n",
              "<style scoped>\n",
              "    .dataframe tbody tr th:only-of-type {\n",
              "        vertical-align: middle;\n",
              "    }\n",
              "\n",
              "    .dataframe tbody tr th {\n",
              "        vertical-align: top;\n",
              "    }\n",
              "\n",
              "    .dataframe thead th {\n",
              "        text-align: right;\n",
              "    }\n",
              "</style>\n",
              "<table border=\"1\" class=\"dataframe\">\n",
              "  <thead>\n",
              "    <tr style=\"text-align: right;\">\n",
              "      <th></th>\n",
              "      <th>Text</th>\n",
              "      <th>Label</th>\n",
              "    </tr>\n",
              "  </thead>\n",
              "  <tbody>\n",
              "    <tr>\n",
              "      <th>0</th>\n",
              "      <td>#Deppression is real. Partners w/ #depressed p...</td>\n",
              "      <td>3</td>\n",
              "    </tr>\n",
              "    <tr>\n",
              "      <th>1</th>\n",
              "      <td>@user Interesting choice of words... Are you c...</td>\n",
              "      <td>0</td>\n",
              "    </tr>\n",
              "    <tr>\n",
              "      <th>2</th>\n",
              "      <td>My visit to hospital for care triggered #traum...</td>\n",
              "      <td>3</td>\n",
              "    </tr>\n",
              "    <tr>\n",
              "      <th>3</th>\n",
              "      <td>@user Welcome to #MPSVT! We are delighted to h...</td>\n",
              "      <td>1</td>\n",
              "    </tr>\n",
              "    <tr>\n",
              "      <th>4</th>\n",
              "      <td>What makes you feel #joyful?</td>\n",
              "      <td>1</td>\n",
              "    </tr>\n",
              "  </tbody>\n",
              "</table>\n",
              "</div>"
            ],
            "text/plain": [
              "                                                Text Label\n",
              "0  #Deppression is real. Partners w/ #depressed p...     3\n",
              "1  @user Interesting choice of words... Are you c...     0\n",
              "2  My visit to hospital for care triggered #traum...     3\n",
              "3  @user Welcome to #MPSVT! We are delighted to h...     1\n",
              "4                       What makes you feel #joyful?     1"
            ]
          },
          "metadata": {
            "tags": []
          },
          "execution_count": 15
        }
      ]
    },
    {
      "cell_type": "code",
      "metadata": {
        "colab": {
          "base_uri": "https://localhost:8080/",
          "height": 204
        },
        "id": "lYGBFiZpzKx_",
        "outputId": "2f87fd84-6a81-436a-b7fb-146855a28f85"
      },
      "source": [
        "## df2 is dataframe for validation\n",
        "\n",
        "df2= pd.DataFrame()\n",
        "for index in range(len(data4)):\n",
        "  df2.loc[index, 'Text']=data4[index]\n",
        "for index in range(len(data5)):\n",
        "  df2.loc[index, 'Label']=data5[index]\n",
        "df2.head()"
      ],
      "execution_count": 16,
      "outputs": [
        {
          "output_type": "execute_result",
          "data": {
            "text/html": [
              "<div>\n",
              "<style scoped>\n",
              "    .dataframe tbody tr th:only-of-type {\n",
              "        vertical-align: middle;\n",
              "    }\n",
              "\n",
              "    .dataframe tbody tr th {\n",
              "        vertical-align: top;\n",
              "    }\n",
              "\n",
              "    .dataframe thead th {\n",
              "        text-align: right;\n",
              "    }\n",
              "</style>\n",
              "<table border=\"1\" class=\"dataframe\">\n",
              "  <thead>\n",
              "    <tr style=\"text-align: right;\">\n",
              "      <th></th>\n",
              "      <th>Text</th>\n",
              "      <th>Label</th>\n",
              "    </tr>\n",
              "  </thead>\n",
              "  <tbody>\n",
              "    <tr>\n",
              "      <th>0</th>\n",
              "      <td>@user @user Oh, hidden revenge and anger...I r...</td>\n",
              "      <td>0</td>\n",
              "    </tr>\n",
              "    <tr>\n",
              "      <th>1</th>\n",
              "      <td>if not then #teamchristine bc all tana has don...</td>\n",
              "      <td>0</td>\n",
              "    </tr>\n",
              "    <tr>\n",
              "      <th>2</th>\n",
              "      <td>Hey @user #Fields in #skibbereen give your onl...</td>\n",
              "      <td>0</td>\n",
              "    </tr>\n",
              "    <tr>\n",
              "      <th>3</th>\n",
              "      <td>Why have #Emmerdale had to rob #robron of havi...</td>\n",
              "      <td>0</td>\n",
              "    </tr>\n",
              "    <tr>\n",
              "      <th>4</th>\n",
              "      <td>@user I would like to hear a podcast of you go...</td>\n",
              "      <td>0</td>\n",
              "    </tr>\n",
              "  </tbody>\n",
              "</table>\n",
              "</div>"
            ],
            "text/plain": [
              "                                                Text Label\n",
              "0  @user @user Oh, hidden revenge and anger...I r...     0\n",
              "1  if not then #teamchristine bc all tana has don...     0\n",
              "2  Hey @user #Fields in #skibbereen give your onl...     0\n",
              "3  Why have #Emmerdale had to rob #robron of havi...     0\n",
              "4  @user I would like to hear a podcast of you go...     0"
            ]
          },
          "metadata": {
            "tags": []
          },
          "execution_count": 16
        }
      ]
    },
    {
      "cell_type": "code",
      "metadata": {
        "id": "2Mq9TK7gIXAn"
      },
      "source": [
        "# WordNetLemmatizer requires Pos tags to understand if the word is noun or verb or adjective etc. By default it is set to Noun\n",
        "tag_map = defaultdict(lambda : wn.NOUN)\n",
        "tag_map['J'] = wn.ADJ\n",
        "tag_map['V'] = wn.VERB\n",
        "tag_map['R'] = wn.ADV"
      ],
      "execution_count": 17,
      "outputs": []
    },
    {
      "cell_type": "code",
      "metadata": {
        "id": "jHwAf3W7XS9H",
        "colab": {
          "base_uri": "https://localhost:8080/",
          "height": 262,
          "referenced_widgets": [
            "9e7969299cd04dd182e14a9459956869",
            "dcfce2833d9b41ba9a03d825fc296708",
            "133aec7e31b9432295a056208d3d3bef",
            "55b5999bcc6e4d99b7708983cd7dc4c4",
            "c0612dbfc73742a7855c8a3ea87400af",
            "e9fa3434ff434aa6a6027c566a6648e0",
            "630f4e0686714ed2a20b90f2d37e71f0",
            "e0059fcfd3dc4c8faeafa1b081da0d57",
            "b8825cf951824961873a259d3b65f7bf",
            "661bec6704cf436d9e3cf3d42fd68347",
            "8407d398a022470d816f7336413a0065",
            "c5129c00910c4b65a63e3a5e35c3333a",
            "c86734e36d364a58beb18ba221bb4f74",
            "1389c958516a46c2b35d53ffd9cd11b6",
            "fde06ec8252f442481e00a75fa52873b",
            "930db90620cd438fba4854d9e9863765",
            "a04aa53af8b9488eb51be22a8a9d96f1",
            "b66b2bc10a1b43cbb15a72e468cc17da",
            "a6702f75a8b54158884ab1d4b66936b4",
            "4628e438cc9445e4b42b96ed42e3d7ab",
            "e80e941986f445469b1b6b75f404e345",
            "873e691754f44765a0b2646e7bd5a6cf",
            "a1c4f8a646984c82a2a3a083e117a9f8",
            "42566963ff8a49709c63ba2cd6230ee9",
            "10ee9ec483d54075b23ae1723dc93087",
            "8a4c5980559243abad13e19c4f6706ab",
            "546845a12d394b95b6206576b218ec39",
            "e73d148b06ab42e9944197b2a98404ae",
            "dbbaa6070d574ae997ca8e6a7470a53c",
            "404440b183ab4b2b830b4d7a7029f5d5",
            "bda2810af8a44b59b019fad0fc117679",
            "133de1ad283c4366ade41cb78f051162",
            "736b803f0bb04536ae2620e88e03a3a6",
            "e7b0ca2c477e4a5584505ca22253787b",
            "b96751320ff54952aa1d41454b8c11d6",
            "a08c10fc3e0b4c0b9b52fce8c8131163",
            "9c85e4ece43742d4af94814565c0ed62",
            "6b471e7d9d8c473ca1ed10826ab1ee68",
            "e768998b6892411cb24391aad492c81b",
            "cea781bc87ae4b6ba5e9c0fec03a109b"
          ]
        },
        "outputId": "7e7480a8-185c-4d27-e05c-b517018d33e0"
      },
      "source": [
        "aug = naw.ContextualWordEmbsAug(\n",
        "    model_path='bert-base-uncased', action=\"substitute\")"
      ],
      "execution_count": 18,
      "outputs": [
        {
          "output_type": "display_data",
          "data": {
            "application/vnd.jupyter.widget-view+json": {
              "model_id": "9e7969299cd04dd182e14a9459956869",
              "version_minor": 0,
              "version_major": 2
            },
            "text/plain": [
              "HBox(children=(FloatProgress(value=0.0, description='Downloading', max=570.0, style=ProgressStyle(description_…"
            ]
          },
          "metadata": {
            "tags": []
          }
        },
        {
          "output_type": "stream",
          "text": [
            "\n"
          ],
          "name": "stdout"
        },
        {
          "output_type": "display_data",
          "data": {
            "application/vnd.jupyter.widget-view+json": {
              "model_id": "b8825cf951824961873a259d3b65f7bf",
              "version_minor": 0,
              "version_major": 2
            },
            "text/plain": [
              "HBox(children=(FloatProgress(value=0.0, description='Downloading', max=231508.0, style=ProgressStyle(descripti…"
            ]
          },
          "metadata": {
            "tags": []
          }
        },
        {
          "output_type": "stream",
          "text": [
            "\n"
          ],
          "name": "stdout"
        },
        {
          "output_type": "display_data",
          "data": {
            "application/vnd.jupyter.widget-view+json": {
              "model_id": "a04aa53af8b9488eb51be22a8a9d96f1",
              "version_minor": 0,
              "version_major": 2
            },
            "text/plain": [
              "HBox(children=(FloatProgress(value=0.0, description='Downloading', max=466062.0, style=ProgressStyle(descripti…"
            ]
          },
          "metadata": {
            "tags": []
          }
        },
        {
          "output_type": "stream",
          "text": [
            "\n"
          ],
          "name": "stdout"
        },
        {
          "output_type": "display_data",
          "data": {
            "application/vnd.jupyter.widget-view+json": {
              "model_id": "10ee9ec483d54075b23ae1723dc93087",
              "version_minor": 0,
              "version_major": 2
            },
            "text/plain": [
              "HBox(children=(FloatProgress(value=0.0, description='Downloading', max=28.0, style=ProgressStyle(description_w…"
            ]
          },
          "metadata": {
            "tags": []
          }
        },
        {
          "output_type": "stream",
          "text": [
            "\n"
          ],
          "name": "stdout"
        },
        {
          "output_type": "display_data",
          "data": {
            "application/vnd.jupyter.widget-view+json": {
              "model_id": "736b803f0bb04536ae2620e88e03a3a6",
              "version_minor": 0,
              "version_major": 2
            },
            "text/plain": [
              "HBox(children=(FloatProgress(value=0.0, description='Downloading', max=440473133.0, style=ProgressStyle(descri…"
            ]
          },
          "metadata": {
            "tags": []
          }
        },
        {
          "output_type": "stream",
          "text": [
            "\n"
          ],
          "name": "stdout"
        }
      ]
    },
    {
      "cell_type": "code",
      "metadata": {
        "id": "h-ceCAubep1e"
      },
      "source": [
        "# # model_type: word2vec, glove or fasttext\n",
        "# aug_w2v = naw.WordEmbsAug(\n",
        "# #     model_type='word2vec', model_path='../input/nlpword2vecembeddingspretrained/GoogleNews-vectors-negative300.bin',\n",
        "#     model_type='glove', model_path='/content/glove.6B.100d.txt',\n",
        "#     action=\"substitute\")"
      ],
      "execution_count": null,
      "outputs": []
    },
    {
      "cell_type": "code",
      "metadata": {
        "id": "fWZEsXoNevsZ"
      },
      "source": [
        "# llist= [aug_w2v.augment(entry) for entry in df2['Text']]"
      ],
      "execution_count": null,
      "outputs": []
    },
    {
      "cell_type": "code",
      "metadata": {
        "id": "FQcgjQZzaIrq"
      },
      "source": [
        "df= pd.concat([df, df2], ignore_index= True)"
      ],
      "execution_count": 20,
      "outputs": []
    },
    {
      "cell_type": "code",
      "metadata": {
        "id": "f9sFWygpEwY_"
      },
      "source": [
        "Text_Train= []\n",
        "Text_Final= []\n",
        "# Step - a : Remove blank rows if any.\n",
        "\n",
        "df.dropna(inplace=True)\n",
        "\n",
        "# df['Text'] = [aug.augment(entry) for entry in df['Text']]\n",
        "\n",
        "# Step - b : Change all the text to lower case.\n",
        "df['Text'] = [entry.lower() for entry in df['Text']]\n",
        "\n",
        "# Step - c : Tokenization : In this each entry in the corpus will be broken into set of words\n",
        "df['Text']= [word_tokenize(entry) for entry in df['Text']]\n",
        "\n",
        "for index,entry in enumerate(df['Text']):\n",
        "    # Declaring Empty List to store the words that follow the rules for this step\n",
        "    Final_words = []\n",
        "    # Initializing WordNetLemmatizer()\n",
        "    word_Lemmatized = WordNetLemmatizer()\n",
        "    # pos_tag function below will provide the 'tag' i.e if the word is Noun(N) or Verb(V) or something else.\n",
        "    for word, tag in pos_tag(entry):\n",
        "        # Below condition is to check for Stop words and consider only alphabets\n",
        "        if word not in stopwords.words('english') and word.isalpha():\n",
        "            word_Final = word_Lemmatized.lemmatize(word,tag_map[tag[0]])\n",
        "            Final_words.append(word_Final)\n",
        "    # The final processed set of words for each iteration will be stored in 'text_final'\n",
        "    df.loc[index,'Text_Final'] = str(Final_words) \n",
        "    Text_Train.append(Final_words)\n",
        "    Text_Final.append(Final_words)"
      ],
      "execution_count": 21,
      "outputs": []
    },
    {
      "cell_type": "code",
      "metadata": {
        "id": "e74uCTfnEjhW"
      },
      "source": [
        "Text_Test= []\n",
        "# Step - a : Remove blank rows if any.\n",
        "\n",
        "#df1['Text']= df1['Text'].astype(str)\n",
        "df1.dropna(inplace=True)\n",
        "\n",
        "# Step - b : Change all the text to lower case. \n",
        "df1['Text'] = [entry.lower() for entry in df1['Text']]\n",
        "\n",
        "# Step - c : Tokenization : In this each entry in the corpus will be broken into set of words\n",
        "df1['Text']= [word_tokenize(entry) for entry in df1['Text']]\n",
        "\n",
        "for index,entry in enumerate(df1['Text']):\n",
        "    # Declaring Empty List to store the words that follow the rules for this step\n",
        "    Final_words = []\n",
        "    # Initializing WordNetLemmatizer()\n",
        "    word_Lemmatized = WordNetLemmatizer()\n",
        "    # pos_tag function below will provide the 'tag' i.e if the word is Noun(N) or Verb(V) or something else.\n",
        "    for word, tag in pos_tag(entry):\n",
        "        # Below condition is to check for Stop words and consider only alphabets\n",
        "        if word not in stopwords.words('english') and word.isalpha():\n",
        "            word_Final = word_Lemmatized.lemmatize(word,tag_map[tag[0]])\n",
        "            Final_words.append(word_Final)\n",
        "    # The final processed set of words for each iteration will be stored in 'text_final'\n",
        "    df1.loc[index,'Text_Final'] = str(Final_words)\n",
        "    Text_Test.append(Final_words)"
      ],
      "execution_count": 22,
      "outputs": []
    },
    {
      "cell_type": "code",
      "metadata": {
        "id": "g2UT-NzGuAdP"
      },
      "source": [
        "Text_Final.extend(Text_Test)"
      ],
      "execution_count": 23,
      "outputs": []
    },
    {
      "cell_type": "code",
      "metadata": {
        "colab": {
          "base_uri": "https://localhost:8080/"
        },
        "id": "opaq2TZm1Wib",
        "outputId": "e30e8096-d9e7-475d-f719-c32d9207bc7d"
      },
      "source": [
        "print(len(Text_Final))"
      ],
      "execution_count": 24,
      "outputs": [
        {
          "output_type": "stream",
          "text": [
            "5052\n"
          ],
          "name": "stdout"
        }
      ]
    },
    {
      "cell_type": "code",
      "metadata": {
        "id": "pbjoh7QvXM_h",
        "colab": {
          "base_uri": "https://localhost:8080/"
        },
        "outputId": "0c87482c-8c70-4efb-a3ad-067c00899a70"
      },
      "source": [
        "t_df= pd.concat([df, df1])\n",
        "t_df['Label'].value_counts()"
      ],
      "execution_count": 25,
      "outputs": [
        {
          "output_type": "execute_result",
          "data": {
            "text/plain": [
              "0    2118\n",
              "3    1326\n",
              "1    1163\n",
              "2     445\n",
              "Name: Label, dtype: int64"
            ]
          },
          "metadata": {
            "tags": []
          },
          "execution_count": 25
        }
      ]
    },
    {
      "cell_type": "code",
      "metadata": {
        "colab": {
          "base_uri": "https://localhost:8080/"
        },
        "id": "OboL4xcWAy-L",
        "outputId": "126d6f0c-bcb1-4cde-f787-be345693ea4c"
      },
      "source": [
        "df['Label'].value_counts()"
      ],
      "execution_count": 26,
      "outputs": [
        {
          "output_type": "execute_result",
          "data": {
            "text/plain": [
              "0    1560\n",
              "3     944\n",
              "1     805\n",
              "2     322\n",
              "Name: Label, dtype: int64"
            ]
          },
          "metadata": {
            "tags": []
          },
          "execution_count": 26
        }
      ]
    },
    {
      "cell_type": "code",
      "metadata": {
        "colab": {
          "base_uri": "https://localhost:8080/"
        },
        "id": "glZiJcBd5pNd",
        "outputId": "ddbc101e-2bac-46d0-c9c9-07959287183e"
      },
      "source": [
        "df1['Label'].value_counts()"
      ],
      "execution_count": 27,
      "outputs": [
        {
          "output_type": "execute_result",
          "data": {
            "text/plain": [
              "0    558\n",
              "3    382\n",
              "1    358\n",
              "2    123\n",
              "Name: Label, dtype: int64"
            ]
          },
          "metadata": {
            "tags": []
          },
          "execution_count": 27
        }
      ]
    },
    {
      "cell_type": "code",
      "metadata": {
        "id": "x2k4gUC0FLO7"
      },
      "source": [
        "# The maximum number of words to be used. (most frequent)\n",
        "MAX_NB_WORDS = 10000\n",
        "# Max number of words in each tweet.\n",
        "MAX_SEQUENCE_LENGTH = 20\n",
        "# This is fixed.\n",
        "EMBEDDING_DIM = 300\n",
        "\n",
        "tokenizer = Tokenizer(num_words=MAX_NB_WORDS, filters='!\"#$%&()*+,-./:;<=>?@[\\]^_`{|}~', lower=True)\n",
        "tokenizer.fit_on_texts(Text_Final)\n",
        "word_index = tokenizer.word_index"
      ],
      "execution_count": 28,
      "outputs": []
    },
    {
      "cell_type": "code",
      "metadata": {
        "colab": {
          "base_uri": "https://localhost:8080/"
        },
        "id": "c98-P6X9GN41",
        "outputId": "9152ef41-8dc9-4290-d40d-7636c150bbdf"
      },
      "source": [
        "print('Found %s unique tokens.' % len(word_index))"
      ],
      "execution_count": 29,
      "outputs": [
        {
          "output_type": "stream",
          "text": [
            "Found 8987 unique tokens.\n"
          ],
          "name": "stdout"
        }
      ]
    },
    {
      "cell_type": "code",
      "metadata": {
        "colab": {
          "base_uri": "https://localhost:8080/"
        },
        "id": "xfza8wEYIzpI",
        "outputId": "306027dc-0519-4530-e76a-fbeb425d7d9a"
      },
      "source": [
        "print(word_index)"
      ],
      "execution_count": 30,
      "outputs": [
        {
          "output_type": "stream",
          "text": [
            "{'user': 1, 'get': 2, 'like': 3, 'go': 4, 'amp': 5, 'make': 6, 'u': 7, 'people': 8, 'one': 9, 'know': 10, 'think': 11, 'day': 12, 'love': 13, 'time': 14, 'say': 15, 'look': 16, 'want': 17, 'feel': 18, 'see': 19, 'sad': 20, 'need': 21, 'would': 22, 'really': 23, 'good': 24, 'watch': 25, 'bad': 26, 'take': 27, 'even': 28, 'back': 29, 'ca': 30, 'fuck': 31, 'still': 32, 'today': 33, 'work': 34, 'fear': 35, 'lose': 36, 'thing': 37, 'start': 38, 'life': 39, 'never': 40, 'let': 41, 'angry': 42, 'someone': 43, 'come': 44, 'happy': 45, 'much': 46, 'try': 47, 'depression': 48, 'way': 49, 'year': 50, 'well': 51, 'right': 52, 'tell': 53, 'man': 54, 'new': 55, 'use': 56, 'could': 57, 'sadness': 58, 'play': 59, 'find': 60, 'give': 61, 'ever': 62, 'terrorism': 63, 'im': 64, 'na': 65, 'anger': 66, 'awful': 67, 'stop': 68, 'rage': 69, 'fume': 70, 'smile': 71, 'last': 72, 'always': 73, 'leave': 74, 'shit': 75, 'anxiety': 76, 'call': 77, 'night': 78, 'cry': 79, 'talk': 80, 'bully': 81, 'outrage': 82, 'guy': 83, 'offend': 84, 'terrible': 85, 'horrible': 86, 'little': 87, 'every': 88, 'great': 89, 'lol': 90, 'first': 91, 'something': 92, 'depress': 93, 'big': 94, 'help': 95, 'game': 96, 'nightmare': 97, 'blue': 98, 'trump': 99, 'wait': 100, 'show': 101, 'afraid': 102, 'terror': 103, 'oh': 104, 'hilarious': 105, 'hope': 106, 'best': 107, 'hate': 108, 'worry': 109, 'shock': 110, 'miss': 111, 'please': 112, 'friend': 113, 'ask': 114, 'keep': 115, 'week': 116, 'shake': 117, 'happen': 118, 'god': 119, 'die': 120, 'break': 121, 'home': 122, 'old': 123, 'revenge': 124, 'face': 125, 'world': 126, 'black': 127, 'serious': 128, 'mean': 129, 'amazing': 130, 'horror': 131, 'end': 132, 'live': 133, 'kill': 134, 'hold': 135, 'person': 136, 'another': 137, 'next': 138, 'nothing': 139, 'attack': 140, 'ur': 141, 'snap': 142, 'many': 143, 'away': 144, 'heart': 145, 'word': 146, 'hard': 147, 'put': 148, 'funny': 149, 'laugh': 150, 'tonight': 151, 'bitter': 152, 'furious': 153, 'turn': 154, 'also': 155, 'stay': 156, 'wan': 157, 'sleep': 158, 'hear': 159, 'birthday': 160, 'nervous': 161, 'girl': 162, 'service': 163, 'kid': 164, 'point': 165, 'real': 166, 'may': 167, 'panic': 168, 'long': 169, 'dream': 170, 'woman': 171, 'tweet': 172, 'twitter': 173, 'dark': 174, 'actually': 175, 'hell': 176, 'thanks': 177, 'hour': 178, 'without': 179, 'run': 180, 'literally': 181, 'change': 182, 'cheer': 183, 'team': 184, 'n': 185, 'around': 186, 'yet': 187, 'already': 188, 'month': 189, 'maybe': 190, 'sorry': 191, 'anything': 192, 'rag': 193, 'sadly': 194, 'wrong': 195, 'burn': 196, 'wish': 197, 'alarm': 198, 'do': 199, 'bit': 200, 'music': 201, 'house': 202, 'discourage': 203, 'phone': 204, 'war': 205, 'everyone': 206, 'family': 207, 'customer': 208, 'glee': 209, 'part': 210, 'follow': 211, 'pay': 212, 'bc': 213, 'pretty': 214, 'gon': 215, 'seriously': 216, 'quote': 217, 'tomorrow': 218, 'two': 219, 'though': 220, 'morning': 221, 'cause': 222, 'insult': 223, 'crap': 224, 'fucking': 225, 'despair': 226, 'post': 227, 'hand': 228, 'thank': 229, 'optimism': 230, 'remember': 231, 'buy': 232, 'mind': 233, 'unhappy': 234, 'job': 235, 'enough': 236, 'mad': 237, 'might': 238, 'head': 239, 'sober': 240, 'lot': 241, 'believe': 242, 'fury': 243, 'wow': 244, 'irritate': 245, 'listen': 246, 'since': 247, 'seem': 248, 'fact': 249, 'moment': 250, 'grim': 251, 'lie': 252, 'news': 253, 'dreadful': 254, 'whole': 255, 'wo': 256, 'annoy': 257, 'police': 258, 'as': 259, 'move': 260, 'half': 261, 'problem': 262, 'joke': 263, 'everything': 264, 'mourn': 265, 'late': 266, 'gt': 267, 'place': 268, 'broadcast': 269, 'sure': 270, 'child': 271, 'boy': 272, 'name': 273, 'wrath': 274, 'anyone': 275, 'india': 276, 'concern': 277, 'sink': 278, 'pout': 279, 'tear': 280, 'movie': 281, 'book': 282, 'musically': 283, 'pakistan': 284, 'state': 285, 'money': 286, 'send': 287, 'free': 288, 'read': 289, 'dread': 290, 'gbbo': 291, 'burst': 292, 'hatred': 293, 'care': 294, 'write': 295, 'dont': 296, 'mom': 297, 'shy': 298, 'eat': 299, 'horrific': 300, 'become': 301, 'win': 302, 'bring': 303, 'lively': 304, 'wake': 305, 'snapchat': 306, 'fight': 307, 'sit': 308, 'death': 309, 'ticket': 310, 'yeah': 311, 'offense': 312, 'sound': 313, 'probably': 314, 'fire': 315, 'order': 316, 'kind': 317, 'dull': 318, 'school': 319, 'eye': 320, 'sting': 321, 'support': 322, 'awe': 323, 'tv': 324, 'understand': 325, 'video': 326, 'close': 327, 'issue': 328, 'idea': 329, 'cant': 330, 'okay': 331, 'full': 332, 'gloomy': 333, 'sometimes': 334, 'side': 335, 'rejoice': 336, 'absolutely': 337, 'country': 338, 'season': 339, 'hurt': 340, 'damn': 341, 'yes': 342, 'speak': 343, 'fan': 344, 'hit': 345, 'story': 346, 'suppose': 347, 'rest': 348, 'beautiful': 349, 'laughter': 350, 'minute': 351, 'weary': 352, 'hey': 353, 'saw': 354, 'top': 355, 'instead': 356, 'meet': 357, 'fun': 358, 'dog': 359, 'scar': 360, 'expect': 361, 'wonder': 362, 'white': 363, 'online': 364, 'horrid': 365, 'else': 366, 'grudge': 367, 'omg': 368, 'truth': 369, 'player': 370, 'spend': 371, 'learn': 372, 'threaten': 373, 'feeling': 374, 'forget': 375, 'terrorist': 376, 'intimidate': 377, 'soul': 378, 'american': 379, 'question': 380, 'poor': 381, 'least': 382, 'ha': 383, 'class': 384, 'pic': 385, 'piss': 386, 'vote': 387, 'thought': 388, 'drop': 389, 'episode': 390, 'age': 391, 'walk': 392, 'either': 393, 'v': 394, 'car': 395, 'test': 396, 'relentless': 397, 'alone': 398, 'must': 399, 'haunt': 400, 'frown': 401, 'stupid': 402, 'reason': 403, 'restless': 404, 'men': 405, 'fall': 406, 'bitch': 407, 'sick': 408, 'outside': 409, 'realize': 410, 'open': 411, 'soon': 412, 'deal': 413, 'america': 414, 'human': 415, 'experience': 416, 'hair': 417, 'awesome': 418, 'boil': 419, 'wtf': 420, 'blood': 421, 'threat': 422, 'destroy': 423, 'protest': 424, 'interview': 425, 'past': 426, 'ppl': 427, 'almost': 428, 'store': 429, 'act': 430, 'chance': 431, 'lt': 432, 'ago': 433, 'future': 434, 'rabid': 435, 'stand': 436, 'holiday': 437, 'red': 438, 'pessimist': 439, 'high': 440, 'stuff': 441, 'delight': 442, 'honestly': 443, 'matter': 444, 'bed': 445, 'finally': 446, 'fake': 447, 'hillary': 448, 'terrify': 449, 'room': 450, 'together': 451, 'flight': 452, 'racism': 453, 'r': 454, 'lmao': 455, 'second': 456, 'ok': 457, 'tantrum': 458, 'rather': 459, 'true': 460, 'sign': 461, 'king': 462, 'inside': 463, 'early': 464, 'scare': 465, 'safe': 466, 'drive': 467, 'cover': 468, 'dude': 469, 'grow': 470, 'kinda': 471, 'guess': 472, 'shoot': 473, 'match': 474, 'president': 475, 'city': 476, 'party': 477, 'throw': 478, 'swear': 479, 'pine': 480, 'medium': 481, 'light': 482, 'drink': 483, 'ai': 484, 'excite': 485, 'fiery': 486, 'force': 487, 'bright': 488, 'mine': 489, 'felt': 490, 'brother': 491, 'decide': 492, 'hilarity': 493, 'lip': 494, 'level': 495, 'imagine': 496, 'glad': 497, 'racist': 498, 'sort': 499, 'history': 500, 'muslim': 501, 'finish': 502, 'ta': 503, 'lonely': 504, 'mistake': 505, 'ball': 506, 'cop': 507, 'pick': 508, 'front': 509, 'evening': 510, 'door': 511, 'others': 512, 'train': 513, 'hot': 514, 'email': 515, 'baby': 516, 'far': 517, 'food': 518, 'add': 519, 'tired': 520, 'body': 521, 'ready': 522, 'voice': 523, 'action': 524, 'eclipse': 525, 'cute': 526, 'breezy': 527, 'growl': 528, 'low': 529, 'playful': 530, 'amaze': 531, 'forever': 532, 'sing': 533, 'goal': 534, 'b': 535, 'joyful': 536, 'short': 537, 'adorable': 538, 'road': 539, 'wear': 540, 'power': 541, 'ruin': 542, 'website': 543, 'forward': 544, 'madden': 545, 'nice': 546, 'peace': 547, 'depressed': 548, 'dear': 549, 'bus': 550, 'left': 551, 'towards': 552, 'provoke': 553, 'ugh': 554, 'film': 555, 'pain': 556, 'key': 557, 'wonderful': 558, 'lord': 559, 'contact': 560, 'ya': 561, 'w': 562, 'set': 563, 'idiot': 564, 'plan': 565, 'opinion': 566, 'mood': 567, 'picture': 568, 'government': 569, 'weak': 570, 'resent': 571, 'piece': 572, 'infuriate': 573, 'within': 574, 'dad': 575, 'express': 576, 'blow': 577, 'pull': 578, 'cut': 579, 'bless': 580, 'cheery': 581, 'struggle': 582, 'gun': 583, 'smh': 584, 'jump': 585, 'lead': 586, 'dead': 587, 'control': 588, 'yo': 589, 'dm': 590, 'answer': 591, 'able': 592, 'tho': 593, 'success': 594, 'return': 595, 'lack': 596, 'obviously': 597, 'record': 598, 'upset': 599, 'super': 600, 'water': 601, 'brilliant': 602, 'depressing': 603, 'college': 604, 'fill': 605, 'dry': 606, 'agree': 607, 'happiness': 608, 'straight': 609, 'deserve': 610, 'begin': 611, 'air': 612, 'attempt': 613, 'resentment': 614, 'sense': 615, 'smoke': 616, 'huff': 617, 'truly': 618, 'folk': 619, 'rip': 620, 'situation': 621, 'adult': 622, 'relationship': 623, 'card': 624, 'business': 625, 'catch': 626, 'dumb': 627, 'bet': 628, 'blame': 629, 'often': 630, 'network': 631, 'internet': 632, 'price': 633, 'smell': 634, 'nigga': 635, 'heartbreaking': 636, 'respect': 637, 'near': 638, 'paul': 639, 'faith': 640, 'anymore': 641, 'sparkle': 642, 'respond': 643, 'suck': 644, 'bore': 645, 'stick': 646, 'earth': 647, 'line': 648, 'excited': 649, 'cat': 650, 'usa': 651, 'self': 652, 'view': 653, 'star': 654, 'lady': 655, 'clown': 656, 'mhchat': 657, 'accept': 658, 'plus': 659, 'easy': 660, 'nope': 661, 'rule': 662, 'race': 663, 'levity': 664, 'summer': 665, 'account': 666, 'sweet': 667, 'shot': 668, 'optimist': 669, 'crime': 670, 'create': 671, 'sister': 672, 'whatever': 673, 'step': 674, 'less': 675, 'friday': 676, 'scary': 677, 'enjoy': 678, 'trash': 679, 'social': 680, 'cool': 681, 'feed': 682, 'terrific': 683, 'block': 684, 'exactly': 685, 'animate': 686, 'song': 687, 'till': 688, 'deep': 689, 'john': 690, 'check': 691, 'fuckin': 692, 'afternoon': 693, 'gleeful': 694, 'avoid': 695, 'park': 696, 'haha': 697, 'joy': 698, 'hang': 699, 'clear': 700, 'beat': 701, 'later': 702, 'extra': 703, 'hi': 704, 'info': 705, 'weather': 706, 'irritated': 707, 'delicious': 708, 'worth': 709, 'definitely': 710, 'bunch': 711, 'rock': 712, 'driver': 713, 'final': 714, 'yesterday': 715, 'steal': 716, 'favorite': 717, 'crash': 718, 'grieve': 719, 'blind': 720, 'tip': 721, 'living': 722, 'somebody': 723, 'form': 724, 'press': 725, 'perfect': 726, 'negative': 727, 'character': 728, 'fast': 729, 'continue': 730, 'join': 731, 'three': 732, 'son': 733, 'islam': 734, 'opportunity': 735, 'upon': 736, 'cloud': 737, 'parent': 738, 'bear': 739, 'russia': 740, 'box': 741, 'political': 742, 'member': 743, 'sun': 744, 'pop': 745, 'app': 746, 'jesus': 747, 'promise': 748, 'milk': 749, 'culture': 750, 'cross': 751, 'floor': 752, 'nicole': 753, 'offer': 754, 'weird': 755, 'pizza': 756, 'tiff': 757, 'update': 758, 'cold': 759, 'case': 760, 'choose': 761, 'evil': 762, 'teach': 763, 'mouth': 764, 'fuming': 765, 'chirp': 766, 'mother': 767, 'cunt': 768, 'x': 769, 'kik': 770, 'taste': 771, 'track': 772, 'bro': 773, 'important': 774, 'giggle': 775, 'miserable': 776, 'result': 777, 'remind': 778, 'min': 779, 'address': 780, 'brown': 781, 'otherwise': 782, 'local': 783, 'sir': 784, 'annoyed': 785, 'include': 786, 'photo': 787, 'album': 788, 'drug': 789, 'anyway': 790, 'nd': 791, 'article': 792, 'loss': 793, 'kick': 794, 'mess': 795, 'everybody': 796, 'bee': 797, 'debate': 798, 'aggravate': 799, 'yr': 800, 'focus': 801, 'reality': 802, 'mark': 803, 'bar': 804, 'brain': 805, 'process': 806, 'texan': 807, 'shut': 808, 'ride': 809, 'policy': 810, 'window': 811, 'mate': 812, 'charge': 813, 'comment': 814, 'carry': 815, 'lay': 816, 'hide': 817, 'incense': 818, 'charlotte': 819, 'date': 820, 'shall': 821, 'weekend': 822, 'bill': 823, 'sell': 824, 'exhilarate': 825, 'million': 826, 'fine': 827, 'assume': 828, 'coffee': 829, 'dick': 830, 'absolute': 831, 'united': 832, 'rn': 833, 'arrive': 834, 'officer': 835, 'ignore': 836, 'draw': 837, 'hat': 838, 'bloody': 839, 'chat': 840, 'apparently': 841, 'behind': 842, 'allow': 843, 'kiss': 844, 'garbage': 845, 'obama': 846, 'nation': 847, 'trust': 848, 'insecure': 849, 'beyond': 850, 'ring': 851, 'different': 852, 'strong': 853, 'radio': 854, 'scene': 855, 'queue': 856, 'reach': 857, 'silence': 858, 'irate': 859, 'provocation': 860, 'comedy': 861, 'leg': 862, 'pure': 863, 'channel': 864, 'idk': 865, 'sex': 866, 'foot': 867, 'build': 868, 'choice': 869, 'machine': 870, 'fail': 871, 'dismal': 872, 'somewhere': 873, 'finger': 874, 'small': 875, 'sale': 876, 'sky': 877, 'religion': 878, 'arsehole': 879, 'pak': 880, 'save': 881, 'difference': 882, 'manchester': 883, 'treat': 884, 'normal': 885, 'pride': 886, 'roll': 887, 'val': 888, 'suggest': 889, 'teacher': 890, 'bottle': 891, 'deliver': 892, 'replace': 893, 'seek': 894, 'entire': 895, 'russian': 896, 'cheerfully': 897, 'centre': 898, 'memory': 899, 'major': 900, 'loser': 901, 'note': 902, 'wall': 903, 'gloom': 904, 'current': 905, 'ridiculous': 906, 'fashion': 907, 'elate': 908, 'type': 909, 'number': 910, 'loot': 911, 'mirth': 912, 'page': 913, 'version': 914, 'murder': 915, 'style': 916, 'affliction': 917, 'clearly': 918, 'animated': 919, 'shudder': 920, 'animal': 921, 'office': 922, 'receive': 923, 'pressure': 924, 'gay': 925, 'rooney': 926, 'lil': 927, 'chicken': 928, 'sunk': 929, 'decision': 930, 'hahaha': 931, 'em': 932, 'arm': 933, 'cam': 934, 'rush': 935, 'figure': 936, 'bullshit': 937, 'main': 938, 'ill': 939, 'hearty': 940, 'shame': 941, 'rojo': 942, 'weapon': 943, 'thousand': 944, 'across': 945, 'community': 946, 'campaign': 947, 'dire': 948, 'scream': 949, 'seat': 950, 'young': 951, 'study': 952, 'bag': 953, 'monster': 954, 'defense': 955, 'value': 956, 'busy': 957, 'delete': 958, 'trip': 959, 'revolt': 960, 'exist': 961, 'af': 962, 'amount': 963, 'zero': 964, 'excitement': 965, 'pls': 966, 'station': 967, 'waste': 968, 'message': 969, 'lunch': 970, 'ex': 971, 'facebook': 972, 'code': 973, 'chris': 974, 'christ': 975, 'appreciate': 976, 'reply': 977, 'pussy': 978, 'regret': 979, 'indian': 980, 'pathetic': 981, 'clinton': 982, 'f': 983, 'stress': 984, 'leader': 985, 'btw': 986, 'response': 987, 'rise': 988, 'bored': 989, 'quite': 990, 'announce': 991, 'divide': 992, 'heyday': 993, 'distract': 994, 'worried': 995, 'bout': 996, 'despite': 997, 'north': 998, 'rapper': 999, 'involve': 1000, 'advice': 1001, 'spot': 1002, 'huge': 1003, 'ability': 1004, 'wife': 1005, 'broken': 1006, 'id': 1007, 'neighbor': 1008, 'group': 1009, 'franchise': 1010, 'rude': 1011, 'govt': 1012, 'due': 1013, 'list': 1014, 'drunk': 1015, 'purpose': 1016, 'exhaust': 1017, 'fuel': 1018, 'violence': 1019, 'appear': 1020, 'round': 1021, 'useless': 1022, 'unga': 1023, 'dangerous': 1024, 'grind': 1025, 'moon': 1026, 'series': 1027, 'tire': 1028, 'church': 1029, 'slow': 1030, 'mufc': 1031, 'completely': 1032, 'statement': 1033, 'energy': 1034, 'push': 1035, 'text': 1036, 'emotion': 1037, 'secret': 1038, 'suffer': 1039, 'challenge': 1040, 'touch': 1041, 'simple': 1042, 'nearly': 1043, 'dollar': 1044, 'james': 1045, 'michelle': 1046, 'shitty': 1047, 'everyday': 1048, 'welcome': 1049, 'ghost': 1050, 'release': 1051, 'complain': 1052, 'shocking': 1053, 'target': 1054, 'cheap': 1055, 'legit': 1056, 'option': 1057, 'middle': 1058, 'street': 1059, 'irritation': 1060, 'degree': 1061, 'charlotteprotest': 1062, 'hesitate': 1063, 'argument': 1064, 'freak': 1065, 'kashmir': 1066, 'event': 1067, 'sport': 1068, 'nude': 1069, 'refer': 1070, 'temper': 1071, 'daughter': 1072, 'disgust': 1073, 'source': 1074, 'everywhere': 1075, 'fright': 1076, 'consider': 1077, 'clean': 1078, 'ignorance': 1079, 'cantsleep': 1080, 'joyous': 1081, 'prayer': 1082, 'boring': 1083, 'strike': 1084, 'hath': 1085, 'whenever': 1086, 'exact': 1087, 'victim': 1088, 'chase': 1089, 'sulk': 1090, 'scared': 1091, 'tea': 1092, 'poll': 1093, 'disappointment': 1094, 'cnn': 1095, 'bliss': 1096, 'grateful': 1097, 'disappointing': 1098, 'leadership': 1099, 'singing': 1100, 'calm': 1101, 'possible': 1102, 'responsible': 1103, 'politics': 1104, 'bakewell': 1105, 'dance': 1106, 'mope': 1107, 'certain': 1108, 'nobody': 1109, 'request': 1110, 'holy': 1111, 'fix': 1112, 'positive': 1113, 'single': 1114, 'space': 1115, 'tiny': 1116, 'confused': 1117, 'refugee': 1118, 'cheerful': 1119, 'ref': 1120, 'wild': 1121, 'upside': 1122, 'doctor': 1123, 'rich': 1124, 'typical': 1125, 'dress': 1126, 'link': 1127, 'monday': 1128, 'dishearten': 1129, 'fit': 1130, 'bomb': 1131, 'club': 1132, 'student': 1133, 'george': 1134, 'apart': 1135, 'foam': 1136, 'intimidation': 1137, 'alternate': 1138, 'highly': 1139, 'company': 1140, 'art': 1141, 'pig': 1142, 'punch': 1143, 'download': 1144, 'celtic': 1145, 'usual': 1146, 'netflix': 1147, 'inner': 1148, 'trap': 1149, 'spirit': 1150, 'refuse': 1151, 'pun': 1152, 'naked': 1153, 'football': 1154, 'boiling': 1155, 'riot': 1156, 'design': 1157, 'fly': 1158, 'present': 1159, 'etc': 1160, 'instagram': 1161, 'grade': 1162, 'score': 1163, 'inflame': 1164, 'proud': 1165, 'husband': 1166, 'tf': 1167, 'data': 1168, 'term': 1169, 'saturday': 1170, 'nut': 1171, 'complaint': 1172, 'pray': 1173, 'sofa': 1174, 'constantly': 1175, 'interesting': 1176, 'loud': 1177, 'kitchen': 1178, 'chuckle': 1179, 'voter': 1180, 'sentence': 1181, 'journey': 1182, 'conversation': 1183, 'dentist': 1184, 'stage': 1185, 'jam': 1186, 'jazz': 1187, 'canada': 1188, 'rap': 1189, 'alive': 1190, 'pass': 1191, 'tax': 1192, 'tbh': 1193, 'collect': 1194, 'butter': 1195, 'rape': 1196, 'gate': 1197, 'storm': 1198, 'reverse': 1199, 'chelsea': 1200, 'mum': 1201, 'cancel': 1202, 'rain': 1203, 'animosity': 1204, 'unbelievable': 1205, 'excuse': 1206, 'abt': 1207, 'candice': 1208, 'midnight': 1209, 'rid': 1210, 'explain': 1211, 'coach': 1212, 'penny': 1213, 'cuz': 1214, 'fearful': 1215, 'host': 1216, 'mary': 1217, 'horny': 1218, 'breathe': 1219, 'gym': 1220, 'bother': 1221, 'pack': 1222, 'breathless': 1223, 'mix': 1224, 'spider': 1225, 'cock': 1226, 'sexy': 1227, 'blessing': 1228, 'heard': 1229, 'inspire': 1230, 'indignation': 1231, 'manage': 1232, 'tough': 1233, 'pour': 1234, 'jovial': 1235, 'cream': 1236, 'un': 1237, 'suicide': 1238, 'stomach': 1239, 'island': 1240, 'wee': 1241, 'nasty': 1242, 'four': 1243, 'worthless': 1244, 'con': 1245, 'available': 1246, 'average': 1247, 'report': 1248, 'mentalhealth': 1249, 'concert': 1250, 'bye': 1251, 'public': 1252, 'although': 1253, 'lately': 1254, 'likely': 1255, 'propaganda': 1256, 'writer': 1257, 'follower': 1258, 'fest': 1259, 'forgive': 1260, 'failure': 1261, 'size': 1262, 'fox': 1263, 'product': 1264, 'especially': 1265, 'scrum': 1266, 'attention': 1267, 'affect': 1268, 'crazy': 1269, 'conflict': 1270, 'spread': 1271, 'dirty': 1272, 'area': 1273, 'tremendous': 1274, 'trade': 1275, 'yummy': 1276, 'amarnathterrorattack': 1277, 'recent': 1278, 'base': 1279, 'righteous': 1280, 'angel': 1281, 'population': 1282, 'youtube': 1283, 'hug': 1284, 'scorn': 1285, 'random': 1286, 'spent': 1287, 'ff': 1288, 'bridge': 1289, 'green': 1290, 'tag': 1291, 'justice': 1292, 'system': 1293, 'non': 1294, 'position': 1295, 'education': 1296, 'bubble': 1297, 'dash': 1298, 'wave': 1299, 'invite': 1300, 'town': 1301, 'dislike': 1302, 'houston': 1303, 'sadden': 1304, 'wind': 1305, 'peter': 1306, 'client': 1307, 'favor': 1308, 'swallow': 1309, 'gut': 1310, 'sam': 1311, 'burning': 1312, 'luck': 1313, 'visit': 1314, 'putin': 1315, 'commit': 1316, 'wine': 1317, 'ffs': 1318, 'tulsa': 1319, 'distrust': 1320, 'premiere': 1321, 'election': 1322, 'wrap': 1323, 'drinking': 1324, 'meal': 1325, 'difficulty': 1326, 'rob': 1327, 'male': 1328, 'instantly': 1329, 'fret': 1330, 'jr': 1331, 'board': 1332, 'glass': 1333, 'joey': 1334, 'basically': 1335, 'feature': 1336, 'cage': 1337, 'cup': 1338, 'nail': 1339, 'color': 1340, 'ruffle': 1341, 'prove': 1342, 'juggle': 1343, 'punny': 1344, 'concept': 1345, 'practice': 1346, 'tube': 1347, 'pleasure': 1348, 'plastic': 1349, 'swap': 1350, 'court': 1351, 'frustration': 1352, 'indeed': 1353, 'paper': 1354, 'lock': 1355, 'whats': 1356, 'engineer': 1357, 'anywhere': 1358, 'female': 1359, 'sparkling': 1360, 'easily': 1361, 'somehow': 1362, 'quit': 1363, 'smack': 1364, 'twice': 1365, 'daily': 1366, 'isi': 1367, 'commercial': 1368, 'curse': 1369, 'ten': 1370, 'harm': 1371, 'gas': 1372, 'father': 1373, 'mob': 1374, 'corrupt': 1375, 'hut': 1376, 'sat': 1377, 'yay': 1378, 'christmas': 1379, 'via': 1380, 'reading': 1381, 'gender': 1382, 'priority': 1383, 'reaper': 1384, 'screen': 1385, 'asleep': 1386, 'common': 1387, 'chill': 1388, 'wood': 1389, 'la': 1390, 'lucky': 1391, 'server': 1392, 'sacrifice': 1393, 'forest': 1394, 'access': 1395, 'share': 1396, 'personal': 1397, 'q': 1398, 'teeth': 1399, 'yall': 1400, 'liberal': 1401, 'jack': 1402, 'twin': 1403, 'pitch': 1404, 'iraq': 1405, 'texas': 1406, 'injustice': 1407, 'lit': 1408, 'k': 1409, 'affair': 1410, 'tremble': 1411, 'fam': 1412, 'frustrated': 1413, 'bt': 1414, 'october': 1415, 'complete': 1416, 'injury': 1417, 'global': 1418, 'gold': 1419, 'tart': 1420, 'marry': 1421, 'kikme': 1422, 'snapme': 1423, 'performance': 1424, 'along': 1425, 'bite': 1426, 'tongue': 1427, 'silent': 1428, 'remain': 1429, 'hospital': 1430, 'magical': 1431, 'handle': 1432, 'false': 1433, 'bug': 1434, 'hop': 1435, 'snarl': 1436, 'nose': 1437, 'harder': 1438, 'realise': 1439, 'l': 1440, 'emo': 1441, 'teamfollowback': 1442, 'max': 1443, 'security': 1444, 'ground': 1445, 'spin': 1446, 'liar': 1447, 'environment': 1448, 'physically': 1449, 'origin': 1450, 'plot': 1451, 'jean': 1452, 'soldier': 1453, 'customerservice': 1454, 'certainly': 1455, 'c': 1456, 'total': 1457, 'topic': 1458, 'emoji': 1459, 'couple': 1460, 'paint': 1461, 'immediately': 1462, 'defeat': 1463, 'bottom': 1464, 'proper': 1465, 'skin': 1466, 'gain': 1467, 'award': 1468, 'interest': 1469, 'staff': 1470, 'danger': 1471, 'law': 1472, 'shop': 1473, 'airline': 1474, 'pretend': 1475, 'islamic': 1476, 'bash': 1477, 'pool': 1478, 'minus': 1479, 'ice': 1480, 'aaron': 1481, 'kardashian': 1482, 'soooo': 1483, 'impossible': 1484, 'thinking': 1485, 'awake': 1486, 'empty': 1487, 'uk': 1488, 'tuesday': 1489, 'forth': 1490, 'condition': 1491, 'shift': 1492, 'si': 1493, 'september': 1494, 'fund': 1495, 'lane': 1496, 'witness': 1497, 'momma': 1498, 'hmm': 1499, 'special': 1500, 'reminder': 1501, 'streak': 1502, 'hindu': 1503, 'lyft': 1504, 'motivation': 1505, 'roommate': 1506, 'autocorrect': 1507, 'decent': 1508, 'favourite': 1509, 'hopeful': 1510, 'embarrass': 1511, 'demand': 1512, 'celebrity': 1513, 'hater': 1514, 'med': 1515, 'difficult': 1516, 'yellow': 1517, 'ranger': 1518, 'asian': 1519, 'invest': 1520, 'switch': 1521, 'ep': 1522, 'demon': 1523, 'atmosphere': 1524, 'harass': 1525, 'subway': 1526, 'surprise': 1527, 'gutted': 1528, 'prejudice': 1529, 'fat': 1530, 'repeat': 1531, 'wire': 1532, 'agent': 1533, 'spain': 1534, 'boot': 1535, 'disney': 1536, 'discover': 1537, 'peoplelikemebecause': 1538, 'angrily': 1539, 'item': 1540, 'uber': 1541, 'carpet': 1542, 'cost': 1543, 'arrogance': 1544, 'national': 1545, 'flag': 1546, 'pity': 1547, 'atrocious': 1548, 'role': 1549, 'appointment': 1550, 'officially': 1551, 'childhood': 1552, 'offensive': 1553, 'hack': 1554, 'ryan': 1555, 'mini': 1556, 'anybody': 1557, 'notice': 1558, 'cure': 1559, 'birth': 1560, 'twain': 1561, 'champ': 1562, 'health': 1563, 'expensive': 1564, 'civil': 1565, 'blast': 1566, 'retweets': 1567, 'sydney': 1568, 'grand': 1569, 'constant': 1570, 'lovely': 1571, 'comic': 1572, 'prison': 1573, 'gaga': 1574, 'didnt': 1575, 'sleepy': 1576, 'p': 1577, 'adrenaline': 1578, 'ugly': 1579, 'soft': 1580, 'droop': 1581, 'exhilaration': 1582, 'london': 1583, 'drama': 1584, 'lethalweapon': 1585, 'react': 1586, 'uri': 1587, 'stock': 1588, 'fellow': 1589, 'delay': 1590, 'band': 1591, 'nevertrump': 1592, 'interested': 1593, 'traffic': 1594, 'bean': 1595, 'onion': 1596, 'package': 1597, 'tree': 1598, 'williams': 1599, 'freedom': 1600, 'coupon': 1601, 'karma': 1602, 'girls': 1603, 'sedate': 1604, 'faux': 1605, 'double': 1606, 'sunshine': 1607, 'depth': 1608, 'hockey': 1609, 'da': 1610, 'donation': 1611, 'ignorant': 1612, 'count': 1613, 'currently': 1614, 'appearance': 1615, 'chronic': 1616, 'noise': 1617, 'method': 1618, 'europe': 1619, 'eventually': 1620, 'wash': 1621, 'bank': 1622, 'gotham': 1623, 'semester': 1624, 'daunt': 1625, 'defend': 1626, 'sensitive': 1627, 'personally': 1628, 'permanent': 1629, 'mission': 1630, 'glow': 1631, 'tie': 1632, 'emotional': 1633, 'screw': 1634, 'majority': 1635, 'creepy': 1636, 'awkward': 1637, 'daddy': 1638, 'bribe': 1639, 'personality': 1640, 'quiet': 1641, 'scrub': 1642, 'third': 1643, 'english': 1644, 'sleepless': 1645, 'asap': 1646, 'status': 1647, 'crowd': 1648, 'epic': 1649, 'whose': 1650, 'disturb': 1651, 'anxious': 1652, 'mask': 1653, 'neighborhood': 1654, 'bos': 1655, 'johnson': 1656, 'google': 1657, 'democracy': 1658, 'mass': 1659, 'detail': 1660, 'shameful': 1661, 'celebrate': 1662, 'raise': 1663, 'sunday': 1664, 'everytime': 1665, 'large': 1666, 'bastard': 1667, 'winter': 1668, 'chart': 1669, 'clock': 1670, 'sake': 1671, 'australia': 1672, 'sixth': 1673, 'gear': 1674, 'ahs': 1675, 'copy': 1676, 'pal': 1677, 'moses': 1678, 'library': 1679, 'abortion': 1680, 'peanut': 1681, 'thigh': 1682, 'kurt': 1683, 'launch': 1684, 'halfway': 1685, 'alien': 1686, 'zombie': 1687, 'file': 1688, 'classic': 1689, 'fml': 1690, 'comfort': 1691, 'haircut': 1692, 'grief': 1693, 'clue': 1694, 'generation': 1695, 'hello': 1696, 'mirror': 1697, 'mindfulness': 1698, 'plz': 1699, 'surprised': 1700, 'skinny': 1701, 'frighten': 1702, 'humor': 1703, 'supporter': 1704, 'disabled': 1705, 'jail': 1706, 'fr': 1707, 'pissed': 1708, 'longer': 1709, 'cake': 1710, 'gif': 1711, 'bob': 1712, 'stressed': 1713, 'bot': 1714, 'escape': 1715, 'fed': 1716, 'nawazsharif': 1717, 'pie': 1718, 'neighbour': 1719, 'travel': 1720, 'patient': 1721, 'confident': 1722, 'canadian': 1723, 'provide': 1724, 'sheer': 1725, 'makeup': 1726, 'whilst': 1727, 'donald': 1728, 'wwe': 1729, 'root': 1730, 'loathe': 1731, 'fault': 1732, 'scowl': 1733, 'sue': 1734, 'mel': 1735, 'porn': 1736, 'bayern': 1737, 'society': 1738, 'inconsolable': 1739, 'rant': 1740, 'mention': 1741, 'pm': 1742, 'speech': 1743, 'bias': 1744, 'indignant': 1745, 'league': 1746, 'raid': 1747, 'ortiz': 1748, 'tribute': 1749, 'owner': 1750, 'devil': 1751, 'willing': 1752, 'melancholy': 1753, 'cow': 1754, 'havent': 1755, 'lover': 1756, 'bday': 1757, 'ive': 1758, 'desire': 1759, 'flu': 1760, 'unfortunately': 1761, 'quick': 1762, 'kitten': 1763, 'wise': 1764, 'iphone': 1765, 'gameface': 1766, 'height': 1767, 'enjoyment': 1768, 'juz': 1769, 'pill': 1770, 'scott': 1771, 'vile': 1772, 'goin': 1773, 'fraud': 1774, 'surely': 1775, 'shape': 1776, 'doom': 1777, 'tony': 1778, 'obvious': 1779, 'unknown': 1780, 'basic': 1781, 'astound': 1782, 'nap': 1783, 'expectation': 1784, 'lean': 1785, 'meeting': 1786, 'toilet': 1787, 'beer': 1788, 'suspicion': 1789, 'pause': 1790, 'airport': 1791, 'icq': 1792, 'nowhere': 1793, 'shoe': 1794, 'abuse': 1795, 'circle': 1796, 'quickly': 1797, 'smooth': 1798, 'arrest': 1799, 'sin': 1800, 'yikes': 1801, 'irrelevant': 1802, 'gosh': 1803, 'attach': 1804, 'marshmallow': 1805, 'hundred': 1806, 'crush': 1807, 'japanese': 1808, 'shawty': 1809, 'documentary': 1810, 'slam': 1811, 'review': 1812, 'hotel': 1813, 'blog': 1814, 'amen': 1815, 'pleasing': 1816, 'prime': 1817, 'laptop': 1818, 'unite': 1819, 'simply': 1820, 'jerk': 1821, 'existential': 1822, 'apology': 1823, 'israel': 1824, 'reaction': 1825, 'amazon': 1826, 'innocent': 1827, 'trend': 1828, 'outta': 1829, 'ghastly': 1830, 'hatered': 1831, 'talented': 1832, 'sooo': 1833, 'button': 1834, 'spoil': 1835, 'lame': 1836, 'neither': 1837, 'hypocrisy': 1838, 'separate': 1839, 'clothes': 1840, 'serve': 1841, 'economy': 1842, 'meaning': 1843, 'stupidity': 1844, 'stadium': 1845, 'damage': 1846, 'twat': 1847, 'protect': 1848, 'stans': 1849, 'behave': 1850, 'slightly': 1851, 'consequence': 1852, 'hire': 1853, 'gop': 1854, 'rate': 1855, 'poetry': 1856, 'frustrate': 1857, 'lesson': 1858, 'ect': 1859, 'expression': 1860, 'buck': 1861, 'credit': 1862, 'disappoint': 1863, 'fist': 1864, 'language': 1865, 'camp': 1866, 'mentally': 1867, 'displeasure': 1868, 'shoulder': 1869, 'chaos': 1870, 'prepare': 1871, 'sorrow': 1872, 'burden': 1873, 'compare': 1874, 'afghanistan': 1875, 'incredible': 1876, 'szn': 1877, 'warn': 1878, 'fair': 1879, 'fee': 1880, 'grumpy': 1881, 'devastate': 1882, 'delivery': 1883, 'bitterness': 1884, 'usually': 1885, 'awesomeness': 1886, 'plane': 1887, 'amuse': 1888, 'dissapointed': 1889, 'deeply': 1890, 'improve': 1891, 'seven': 1892, 'gang': 1893, 'colour': 1894, 'crow': 1895, 'pus': 1896, 'spell': 1897, 'pregnant': 1898, 'transition': 1899, 'broadband': 1900, 'several': 1901, 'muppet': 1902, 'stalker': 1903, 'negativity': 1904, 'risk': 1905, 'hollywood': 1906, 'irony': 1907, 'nah': 1908, 'urself': 1909, 'misogyny': 1910, 'sa': 1911, 'stephen': 1912, 'courage': 1913, 'racial': 1914, 'earlier': 1915, 'bcuz': 1916, 'someday': 1917, 'bts': 1918, 'totally': 1919, 'dam': 1920, 'peak': 1921, 'mountain': 1922, 'exterior': 1923, 'hopelessness': 1924, 'anxietyprobz': 1925, 'speed': 1926, 'fav': 1927, 'poop': 1928, 'pocket': 1929, 'potato': 1930, 'replacement': 1931, 'economic': 1932, 'engine': 1933, 'joel': 1934, 'amendment': 1935, 'instructor': 1936, 'puppy': 1937, 'atlanta': 1938, 'nl': 1939, 'funeral': 1940, 'fancy': 1941, 'relative': 1942, 'genocide': 1943, 'ustinov': 1944, 'fandom': 1945, 'toast': 1946, 'fool': 1947, 'oppose': 1948, 'genius': 1949, 'pensive': 1950, 'however': 1951, 'autumn': 1952, 'chiropractor': 1953, 'silly': 1954, 'threesome': 1955, 'lackadaisical': 1956, 'grocery': 1957, 'acc': 1958, 'starting': 1959, 'coincidence': 1960, 'elect': 1961, 'heaviness': 1962, 'cyber': 1963, 'incredibly': 1964, 'script': 1965, 'acceptable': 1966, 'aid': 1967, 'worker': 1968, 'amwriting': 1969, 'singer': 1970, 'brad': 1971, 'condolence': 1972, 'jc': 1973, 'promote': 1974, 'lyric': 1975, 'snake': 1976, 'blanket': 1977, 'possibly': 1978, 'thumb': 1979, 'disappointed': 1980, 'garlic': 1981, 'beneath': 1982, 'reflect': 1983, 'yell': 1984, 'umbrage': 1985, 'mail': 1986, 'opposite': 1987, 'relieve': 1988, 'jose': 1989, 'remove': 1990, 'contract': 1991, 'slowly': 1992, 'content': 1993, 'bin': 1994, 'signal': 1995, 'november': 1996, 'badly': 1997, 'woke': 1998, 'parking': 1999, 'awestruck': 2000, 'admire': 2001, 'wednesday': 2002, 'silver': 2003, 'bullet': 2004, 'projection': 2005, 'perception': 2006, 'growth': 2007, 'feminist': 2008, 'mighty': 2009, 'doesnt': 2010, 'appeal': 2011, 'lash': 2012, 'sponsor': 2013, 'damper': 2014, 'breath': 2015, 'magazine': 2016, 'sullen': 2017, 'dish': 2018, 'cease': 2019, 'jubilant': 2020, 'boyfriend': 2021, 'whip': 2022, 'espresso': 2023, 'dreamornightmare': 2024, 'official': 2025, 'market': 2026, 'batman': 2027, 'impress': 2028, 'fiction': 2029, 'research': 2030, 'headline': 2031, 'kerry': 2032, 'chief': 2033, 'terrorstatepak': 2034, 'impact': 2035, 'inspiration': 2036, 'author': 2037, 'appropriate': 2038, 'task': 2039, 'hoco': 2040, 'attract': 2041, 'taurus': 2042, 'bigot': 2043, 'nowadays': 2044, 'puff': 2045, 'jeez': 2046, 'mop': 2047, 'jealous': 2048, 'eval': 2049, 'training': 2050, 'toddler': 2051, 'wreck': 2052, 'rare': 2053, 'regard': 2054, 'conscience': 2055, 'incite': 2056, 'boys': 2057, 'tryna': 2058, 'shower': 2059, 'loneliness': 2060, 'medicine': 2061, 'pervert': 2062, 'effect': 2063, 'nyc': 2064, 'nj': 2065, 'dancing': 2066, 'chick': 2067, 'insomnia': 2068, 'notfair': 2069, 'helpful': 2070, 'tolerance': 2071, 'jeff': 2072, 'shout': 2073, 'sweat': 2074, 'british': 2075, 'determine': 2076, 'cod': 2077, 'steele': 2078, 'olympics': 2079, 'rudeness': 2080, 'search': 2081, 'scroll': 2082, 'aflcatsswans': 2083, 'goddamn': 2084, 'headache': 2085, 'program': 2086, 'display': 2087, 'dt': 2088, 'universal': 2089, 'hun': 2090, 'shaking': 2091, 'regular': 2092, 'professor': 2093, 'barrier': 2094, 'overnight': 2095, 'kit': 2096, 'pt': 2097, 'rt': 2098, 'intense': 2099, 'knock': 2100, 'substance': 2101, 'stifle': 2102, 'valid': 2103, 'pot': 2104, 'basket': 2105, 'barely': 2106, 'contest': 2107, 'revelation': 2108, 'plenty': 2109, 'thru': 2110, 'whether': 2111, 'toy': 2112, 'guilty': 2113, 'binary': 2114, 'insect': 2115, 'draft': 2116, 'marcus': 2117, 'zone': 2118, 'terencecrutcher': 2119, 'pessimism': 2120, 'per': 2121, 'candidate': 2122, 'mostly': 2123, 'except': 2124, 'sol': 2125, 'sexism': 2126, 'din': 2127, 'africa': 2128, 'define': 2129, 'guys': 2130, 'christie': 2131, 'rueful': 2132, 'butt': 2133, 'jimmy': 2134, 'hype': 2135, 'internationaldayofpeace': 2136, 'bake': 2137, 'fell': 2138, 'ship': 2139, 'canon': 2140, 'jaunty': 2141, 'vacation': 2142, 'immigrant': 2143, 'apple': 2144, 'initially': 2145, 'bbfinale': 2146, 'pale': 2147, 'cuddle': 2148, 'land': 2149, 'nephew': 2150, 'meme': 2151, 'lake': 2152, 'similar': 2153, 'hitler': 2154, 'germany': 2155, 'famous': 2156, 'lag': 2157, 'extremeworld': 2158, 'thursday': 2159, 'fade': 2160, 'brendon': 2161, 'halloween': 2162, 'yep': 2163, 'fond': 2164, 'lecture': 2165, 'shoutout': 2166, 'cramp': 2167, 'vet': 2168, 'gifs': 2169, 'carriage': 2170, 'commute': 2171, 'jar': 2172, 'protection': 2173, 'tour': 2174, 'general': 2175, 'caption': 2176, 'hustle': 2177, 'vampire': 2178, 'anniversary': 2179, 'dat': 2180, 'organization': 2181, 'noodle': 2182, 'mo': 2183, 'unable': 2184, 'loyal': 2185, 'jk': 2186, 'studio': 2187, 'advantage': 2188, 'discuss': 2189, 'require': 2190, 'project': 2191, 'tall': 2192, 'nawaz': 2193, 'superb': 2194, 'powerful': 2195, 'onto': 2196, 'swim': 2197, 'protein': 2198, 'charger': 2199, 'spray': 2200, 'selfie': 2201, 'tactic': 2202, 'wasnt': 2203, 'wifi': 2204, 'seed': 2205, 'enemy': 2206, 'odds': 2207, 'awhile': 2208, 'angelina': 2209, 'adopt': 2210, 'thread': 2211, 'killme': 2212, 'shooting': 2213, 'apartment': 2214, 'pundit': 2215, 'de': 2216, 'raw': 2217, 'blissful': 2218, 'intelligence': 2219, 'sent': 2220, 'patronus': 2221, 'nature': 2222, 'exam': 2223, 'cloudy': 2224, 'rent': 2225, 'letter': 2226, 'toward': 2227, 'diet': 2228, 'grass': 2229, 'shirt': 2230, 'french': 2231, 'jersey': 2232, 'guard': 2233, 'thug': 2234, 'mf': 2235, 'marriage': 2236, 'ccot': 2237, 'playing': 2238, 'industry': 2239, 'being': 2240, 'refund': 2241, 'labour': 2242, 'justly': 2243, 'natural': 2244, 'thats': 2245, 'brand': 2246, 'relevant': 2247, 'palestinian': 2248, 'ny': 2249, 'solo': 2250, 'fry': 2251, 'spit': 2252, 'chest': 2253, 'cap': 2254, 'original': 2255, 'net': 2256, 'discipline': 2257, 'climatechange': 2258, 'multitude': 2259, 'syria': 2260, 'heat': 2261, 'private': 2262, 'meanwhile': 2263, 'strange': 2264, 'iranian': 2265, 'beauty': 2266, 'gen': 2267, 'mall': 2268, 'ik': 2269, 'crack': 2270, 'realistic': 2271, 'click': 2272, 'merriment': 2273, 'scratch': 2274, 'hmmm': 2275, 'nerve': 2276, 'shiver': 2277, 'gossip': 2278, 'stoke': 2279, 'river': 2280, 'cooky': 2281, 'model': 2282, 'solid': 2283, 'restaurant': 2284, 'own': 2285, 'saga': 2286, 'producer': 2287, 'careful': 2288, 'simon': 2289, 'tournament': 2290, 'loose': 2291, 'donate': 2292, 'constitution': 2293, 'suicidal': 2294, 'rank': 2295, 'youth': 2296, 'civilian': 2297, 'evolution': 2298, 'lion': 2299, 'transfer': 2300, 'senior': 2301, 'tumblr': 2302, 'actual': 2303, 'prick': 2304, 'beef': 2305, 'tech': 2306, 'dare': 2307, 'safety': 2308, 'ummm': 2309, 'forlorn': 2310, 'bs': 2311, 'judge': 2312, 'anytime': 2313, 'mic': 2314, 'bat': 2315, 'pov': 2316, 'mandela': 2317, 'corridor': 2318, 'actor': 2319, 'sutton': 2320, 'firm': 2321, 'flow': 2322, 'relief': 2323, 'therapist': 2324, 'lisa': 2325, 'log': 2326, 'talkin': 2327, 'petty': 2328, 'england': 2329, 'heck': 2330, 'feather': 2331, 'dreary': 2332, 'intend': 2333, 'ultimately': 2334, 'tragedy': 2335, 'goofy': 2336, 'pose': 2337, 'blm': 2338, 'acrylic': 2339, 'faint': 2340, 'attitude': 2341, 'brave': 2342, 'accessibility': 2343, 'uploaded': 2344, 'cumtribute': 2345, 'e': 2346, 'rlly': 2347, 'congratulation': 2348, 'rose': 2349, 'oil': 2350, 'bush': 2351, 'revolution': 2352, 'error': 2353, 'camden': 2354, 'commitment': 2355, 'rioter': 2356, 'politician': 2357, 'perhaps': 2358, 'departure': 2359, 'ye': 2360, 'attend': 2361, 'conclusion': 2362, 'tremor': 2363, 'slide': 2364, 'assistance': 2365, 'nervousness': 2366, 'wedding': 2367, 'bf': 2368, 'mr': 2369, 'trigger': 2370, 'grey': 2371, 'criticize': 2372, 'artist': 2373, 'slap': 2374, 'flint': 2375, 'pa': 2376, 'speechless': 2377, 'drill': 2378, 'gunna': 2379, 'honesty': 2380, 'heavy': 2381, 'vengeance': 2382, 'west': 2383, 'manutd': 2384, 'profit': 2385, 'queen': 2386, 'specific': 2387, 'tattoo': 2388, 'image': 2389, 'function': 2390, 'genuinely': 2391, 'beach': 2392, 'drag': 2393, 'tease': 2394, 'camera': 2395, 'slip': 2396, 'rating': 2397, 'thief': 2398, 'debut': 2399, 'multiple': 2400, 'madrid': 2401, 'tune': 2402, 'void': 2403, 'thursdaythoughts': 2404, 'republican': 2405, 'foster': 2406, 'shady': 2407, 'fb': 2408, 'wt': 2409, 'rat': 2410, 'permit': 2411, 'insane': 2412, 'six': 2413, 'math': 2414, 'cruel': 2415, 'democrat': 2416, 'throat': 2417, 'wenger': 2418, 'joyless': 2419, 'argue': 2420, 'emergency': 2421, 'shin': 2422, 'almond': 2423, 'buddy': 2424, 'sept': 2425, 'south': 2426, 'whiskey': 2427, 'luv': 2428, 'sandwich': 2429, 'bird': 2430, 'photooftheday': 2431, 'cos': 2432, 'tub': 2433, 'psychology': 2434, 'sigh': 2435, 'feign': 2436, 'flaw': 2437, 'explode': 2438, 'robert': 2439, 'trouble': 2440, 'treason': 2441, 'ear': 2442, 'retweet': 2443, 'cc': 2444, 'qld': 2445, 'inspiring': 2446, 'funk': 2447, 'snack': 2448, 'horrify': 2449, 'bathroom': 2450, 'pc': 2451, 'european': 2452, 'charm': 2453, 'cbb': 2454, 'potus': 2455, 'symptom': 2456, 'authority': 2457, 'lazy': 2458, 'conference': 2459, 'sight': 2460, 'dems': 2461, 'ah': 2462, 'positivity': 2463, 'fourth': 2464, 'enrage': 2465, 'notinmyname': 2466, 'necessary': 2467, 'primeday': 2468, 'modi': 2469, 'teen': 2470, 'cm': 2471, 'mcgregor': 2472, 'hopefully': 2473, 'mayweather': 2474, 'july': 2475, 'boom': 2476, 'hrc': 2477, 'avon': 2478, 'deliberate': 2479, 'ensure': 2480, 'flatter': 2481, 'excellent': 2482, 'gameofthrones': 2483, 'lawn': 2484, 'garden': 2485, 'yen': 2486, 'firstworldprobs': 2487, 'cherry': 2488, 'exhausted': 2489, 'prolly': 2490, 'teef': 2491, 'baloch': 2492, 'profile': 2493, 'delusion': 2494, 'stayed': 2495, 'stretch': 2496, 'imagination': 2497, 'swing': 2498, 'essentially': 2499, 'gleek': 2500, 'jorge': 2501, 'describe': 2502, 'cheerleader': 2503, 'subject': 2504, 'derby': 2505, 'useful': 2506, 'romero': 2507, 'grant': 2508, 'jim': 2509, 'william': 2510, 'flt': 2511, 'pas': 2512, 'trilogy': 2513, 'mv': 2514, 'prudence': 2515, 'theme': 2516, 'outlet': 2517, 'rewatching': 2518, 'xph': 2519, 'foundation': 2520, 'siva': 2521, 'fragment': 2522, 'fellwinters': 2523, 'limit': 2524, 'passion': 2525, 'xx': 2526, 'stone': 2527, 'gather': 2528, 'xd': 2529, 'gf': 2530, 'joe': 2531, 'pant': 2532, 'shopping': 2533, 'theory': 2534, 'hip': 2535, 'thisisus': 2536, 'apprehension': 2537, 'destine': 2538, 'deatheaters': 2539, 'wet': 2540, 'san': 2541, 'equality': 2542, 'cheerchick': 2543, 'jeep': 2544, 'jeepgirl': 2545, 'idriveajeep': 2546, 'jeepjeep': 2547, 'assure': 2548, 'increase': 2549, 'existent': 2550, 'louder': 2551, 'anthem': 2552, 'understanding': 2553, 'circumstance': 2554, 'odd': 2555, 'tape': 2556, 'meldonium': 2557, 'kidney': 2558, 'blackmarket': 2559, 'whydidiwatchthat': 2560, 'throwback': 2561, 'lifetime': 2562, 'sike': 2563, 'rut': 2564, 'needmotivation': 2565, 'quality': 2566, 'he': 2567, 'inform': 2568, 'associative': 2569, 'astros': 2570, 'nick': 2571, 'retard': 2572, 'afl': 2573, 'cheerfulness': 2574, 'windy': 2575, 'bike': 2576, 'foolish': 2577, 'weiner': 2578, 'historically': 2579, 'resist': 2580, 'morgue': 2581, 'vengeful': 2582, 'behavior': 2583, 'federal': 2584, 'bureaucrat': 2585, 'director': 2586, 'cub': 2587, 'amal': 2588, 'clooney': 2589, 'prosecute': 2590, 'blair': 2591, 'obrien': 2592, 'swift': 2593, 'habit': 2594, 'wasted': 2595, 'chamber': 2596, 'thrill': 2597, 'alright': 2598, 'pump': 2599, 'battle': 2600, 'properly': 2601, 'uriattack': 2602, 'backward': 2603, 'pat': 2604, 'belichick': 2605, 'willynilly': 2606, 'blacklivesmatter': 2607, 'hubby': 2608, 'objective': 2609, 'visitor': 2610, 'bojack': 2611, 'flesh': 2612, 'pro': 2613, 'table': 2614, 'burkeramsey': 2615, 'swung': 2616, 'jonbenet': 2617, 'golf': 2618, 'previously': 2619, 'nooooo': 2620, 'bell': 2621, 'muslims': 2622, 'information': 2623, 'minimum': 2624, 'appendix': 2625, 'bugger': 2626, 'lunatic': 2627, 'gud': 2628, 'cooking': 2629, 'skip': 2630, 'coward': 2631, 'petition': 2632, 'ceremony': 2633, 'obstruction': 2634, 'section': 2635, 'grasp': 2636, 'doe': 2637, 'winston': 2638, 'ian': 2639, 'charlie': 2640, 'ideologically': 2641, 'bankrupt': 2642, 'opportunistic': 2643, 'establishment': 2644, 'hole': 2645, 'blatant': 2646, 'competition': 2647, 'detailed': 2648, 'panel': 2649, 'elephant': 2650, 'wrestle': 2651, 'quoteoftheday': 2652, 'flat': 2653, 'starve': 2654, 'hungry': 2655, 'cringe': 2656, 'osama': 2657, 'laden': 2658, 'contain': 2659, 'heaven': 2660, 'declare': 2661, 'gadot': 2662, 'ivan': 2663, 'allen': 2664, 'blvd': 2665, 'atltraffic': 2666, 'crisp': 2667, 'purchase': 2668, 'unfair': 2669, 'chavs': 2670, 'mcfc': 2671, 'reflection': 2672, 'ksudsm': 2673, 'ksu': 2674, 'recruiter': 2675, 'tumble': 2676, 'gradschool': 2677, 'st': 2678, 'stumble': 2679, 'encounter': 2680, 'passenger': 2681, 'meter': 2682, 'compliment': 2683, 'mississippi': 2684, 'alloa': 2685, 'sucker': 2686, 'horse': 2687, 'incurable': 2688, 'std': 2689, 'pregnancy': 2690, 'forlife': 2691, 'weirdsmells': 2692, 'howl': 2693, 'cursed': 2694, 'eternal': 2695, 'regulation': 2696, 'certified': 2697, 'tunnel': 2698, 'factor': 2699, 'rudely': 2700, 'bibleverse': 2701, 'girly': 2702, 'harbor': 2703, 'evidence': 2704, 'moor': 2705, 'migraine': 2706, 'hangover': 2707, 'gad': 2708, 'empire': 2709, 'bae': 2710, 'smarties': 2711, 'lid': 2712, 'naive': 2713, 'ou': 2714, 'obamalegacy': 2715, 'syrian': 2716, 'christian': 2717, 'graduate': 2718, 'android': 2719, 'buggy': 2720, 'sporadically': 2721, 'involved': 2722, 'massiah': 2723, 'pretentious': 2724, 'towel': 2725, 'easyjet': 2726, 'alwaysdelayed': 2727, 'administration': 2728, 'animation': 2729, 'avoidmmt': 2730, 'mid': 2731, 'lest': 2732, 'alex': 2733, 'addition': 2734, 'bowl': 2735, 'jeezus': 2736, 'resolve': 2737, 'amateur': 2738, 'njdevils': 2739, 'scorpio': 2740, 'secretary': 2741, 'festival': 2742, 'darker': 2743, 'maturity': 2744, 'relocate': 2745, 'dig': 2746, 'eyebrow': 2747, 'resort': 2748, 'weakness': 2749, 'cb': 2750, 'whaaaat': 2751, 'effective': 2752, 'wisewords': 2753, 'choke': 2754, 'movement': 2755, 'sugar': 2756, 'dc': 2757, 'espn': 2758, 'itnevergoes': 2759, 'clayton': 2760, 'disease': 2761, 'jealousy': 2762, 'map': 2763, 'boost': 2764, 'badger': 2765, 'horrorfilm': 2766, 'twitch': 2767, 'lololol': 2768, 'maine': 2769, 'humorous': 2770, 'master': 2771, 'confusion': 2772, 'juror': 2773, 'newton': 2774, 'smrtruinslives': 2775, 'landscape': 2776, 'desolate': 2777, 'particular': 2778, 'shark': 2779, 'moth': 2780, 'diver': 2781, 'chrome': 2782, 'keithlamontscott': 2783, 'buzz': 2784, 'mentality': 2785, 'hysteria': 2786, 'monger': 2787, 'oligarchy': 2788, 'lingys': 2789, 'pretendinghesok': 2790, 'ruok': 2791, 'vehicle': 2792, 'disgusted': 2793, 'tiger': 2794, 'cancelled': 2795, 'extend': 2796, 'smackdown': 2797, 'sohurt': 2798, 'hall': 2799, 'clip': 2800, 'unless': 2801, 'chipotle': 2802, 'campus': 2803, 'flinch': 2804, 'indignity': 2805, 'hijack': 2806, 'lgbt': 2807, 'hammer': 2808, 'referee': 2809, 'candy': 2810, 'corn': 2811, 'depend': 2812, 'senator': 2813, 'cheering': 2814, 'ethan': 2815, 'planet': 2816, 'explosion': 2817, 'tooth': 2818, 'recommended': 2819, 'kendall': 2820, 'jenner': 2821, 'forgot': 2822, 'career': 2823, 'csgo': 2824, 'madness': 2825, 'convince': 2826, 'warning': 2827, 'nike': 2828, 'barb': 2829, 'narley': 2830, 'trailer': 2831, 'flatmate': 2832, 'overwhelm': 2833, 'lonley': 2834, 'startingover': 2835, 'progress': 2836, 'houvsne': 2837, 'igotbetterthingstodotonightthandie': 2838, 'thoroughly': 2839, 'finale': 2840, 'xbox': 2841, 'physical': 2842, 'underlie': 2843, 'extremely': 2844, 'blithe': 2845, 'mdw': 2846, 'layover': 2847, 'slc': 2848, 'bail': 2849, 'wannagetaway': 2850, 'mode': 2851, 'reservation': 2852, 'avatar': 2853, 'quinn': 2854, 'motivationalquotes': 2855, 'nana': 2856, 'freshman': 2857, 'animalrights': 2858, 'gordon': 2859, 'dying': 2860, 'lads': 2861, 'whahibbi': 2862, 'sect': 2863, 'synonymous': 2864, 'stressful': 2865, 'gabriella': 2866, 'troy': 2867, 'squeeze': 2868, 'fab': 2869, 'spam': 2870, 'messaging': 2871, 'default': 2872, 'underwear': 2873, 'mombrain': 2874, 'toomuchgoingon': 2875, 'longday': 2876, 'hateful': 2877, 'zika': 2878, 'hoax': 2879, 'deet': 2880, 'chemical': 2881, 'toxin': 2882, 'neurological': 2883, 'uscitizens': 2884, 'mammal': 2885, 'nominate': 2886, 'sleeplessnight': 2887, 'analyze': 2888, 'teens': 2889, 'safely': 2890, 'hannah': 2891, 'mournful': 2892, 'sarcasm': 2893, 'doubt': 2894, 'uniform': 2895, 'se': 2896, 'mike': 2897, 'apologise': 2898, 'offended': 2899, 'keyboard': 2900, 'pitcher': 2901, 'upload': 2902, 'hmu': 2903, 'surprising': 2904, 'survivor': 2905, 'finn': 2906, 'spy': 2907, 'followme': 2908, 'loo': 2909, 'hv': 2910, 'east': 2911, 'opposition': 2912, 'bass': 2913, 'vic': 2914, 'oregon': 2915, 'violent': 2916, 'upgrade': 2917, 'aaaaarrrrgghhh': 2918, 'iwanttocancel': 2919, 'bbcnews': 2920, 'noooo': 2921, 'dilate': 2922, 'dragon': 2923, 'randomly': 2924, 'dardanella': 2925, 'poorthings': 2926, 'assignment': 2927, 'apprehensive': 2928, 'slogan': 2929, 'yourefired': 2930, 'deflect': 2931, 'meant': 2932, 'thenicebot': 2933, 'wipe': 2934, 'hangry': 2935, 'carr': 2936, 'suspension': 2937, 'reactivate': 2938, 'violate': 2939, 'pander': 2940, 'icing': 2941, 'skittle': 2942, 'analogy': 2943, 'differ': 2944, 'offline': 2945, 'firstdayoffall': 2946, 'edinburgh': 2947, 'cab': 2948, 'belly': 2949, 'couldnt': 2950, 'fnaf': 2951, 'facetime': 2952, 'suchagirl': 2953, 'panda': 2954, 'psychological': 2955, 'ferguson': 2956, 'bilal': 2957, 'abood': 2958, 'mesquite': 2959, 'doings': 2960, 'empathetic': 2961, 'plain': 2962, 'insensitive': 2963, 'alarming': 2964, 'interference': 2965, 'played': 2966, 'jumpstreet': 2967, 'goodday': 2968, 'smash': 2969, 'faulty': 2970, 'wks': 2971, 'jury': 2972, 'constipate': 2973, 'individual': 2974, 'showroom': 2975, 'rocky': 2976, 'remake': 2977, 'taxi': 2978, 'preordered': 2979, 'solve': 2980, 'cheryl': 2981, 'foul': 2982, 'strengthen': 2983, 'admit': 2984, 'convenient': 2985, 'numb': 2986, 'pete': 2987, 'lmboo': 2988, 'assign': 2989, 'preach': 2990, 'etep': 2991, 'advocate': 2992, 'md': 2993, 'whoa': 2994, 'matt': 2995, 'luthansa': 2996, 'frk': 2997, 'fixthisgame': 2998, 'sfvrefund': 2999, 'gahh': 3000, 'dept': 3001, 'roof': 3002, 'programme': 3003, 'disconnect': 3004, 'devotee': 3005, 'tna': 3006, 'hardyboys': 3007, 'impactonpop': 3008, 'hunger': 3009, 'natalie': 3010, 'maybeoneday': 3011, 'hopefullyfunny': 3012, 'fully': 3013, 'goodbye': 3014, 'remix': 3015, 'treatcustomersfairly': 3016, 'sheet': 3017, 'ohio': 3018, 'psychiatrist': 3019, 'admin': 3020, 'homely': 3021, 'hesitation': 3022, 'overall': 3023, 'et': 3024, 'contribute': 3025, 'anxietyrelief': 3026, 'openminded': 3027, 'manager': 3028, 'indiedev': 3029, 'recluse': 3030, 'cable': 3031, 'principle': 3032, 'klitschko': 3033, 'policeshootings': 3034, 'suggestion': 3035, 'practical': 3036, 'fantasy': 3037, 'cripple': 3038, 'leather': 3039, 'apocalypse': 3040, 'td': 3041, 'g': 3042, 'constituent': 3043, 'oriole': 3044, 'yank': 3045, 'strawberry': 3046, 'scent': 3047, 'damp': 3048, 'brock': 3049, 'cook': 3050, 'uplift': 3051, 'pillow': 3052, 'chocolate': 3053, 'soccer': 3054, 'pottermore': 3055, 'hufflepuff': 3056, 'huh': 3057, 'mile': 3058, 'exemplary': 3059, 'residentadvisor': 3060, 'poorservice': 3061, 'politeness': 3062, 'darthvader': 3063, 'inhaler': 3064, 'flip': 3065, 'funding': 3066, 'blend': 3067, 'ray': 3068, 'relapse': 3069, 'chew': 3070, 'horrendous': 3071, 'tan': 3072, 'fruit': 3073, 'building': 3074, 'tnf': 3075, 'spry': 3076, 'adventure': 3077, 'dense': 3078, 'buoyant': 3079, 'atleastihavebuffy': 3080, 'technical': 3081, 'suprised': 3082, 'scientist': 3083, 'assistant': 3084, 'brian': 3085, 'sporadic': 3086, 'cope': 3087, 'sane': 3088, 'listening': 3089, 'chopper': 3090, 'property': 3091, 'mixed': 3092, 'lower': 3093, 'multitasking': 3094, 'induce': 3095, 'specifically': 3096, 'atm': 3097, 'hill': 3098, 'magpie': 3099, 'gaming': 3100, 'mat': 3101, 'theres': 3102, 'privately': 3103, 'rm': 3104, 'watching': 3105, 'thin': 3106, 'mint': 3107, 'pontefract': 3108, 'monkhill': 3109, 'dangerously': 3110, 'rational': 3111, 'glance': 3112, 'al': 3113, 'parody': 3114, 'victory': 3115, 'nappy': 3116, 'aint': 3117, 'hog': 3118, 'titan': 3119, 'sadderness': 3120, 'moreofsad': 3121, 'howdoestears': 3122, 'whatislife': 3123, 'deject': 3124, 'prospect': 3125, 'extent': 3126, 'labor': 3127, 'sunny': 3128, 'pam': 3129, 'hairy': 3130, 'perilsoflivingalone': 3131, 'ooooooooh': 3132, 'uuuugggghhhhhhhhh': 3133, 'scum': 3134, 'velocity': 3135, 'manner': 3136, 'homie': 3137, 'rocktheretweet': 3138, 'mechanism': 3139, 'plait': 3140, 'morn': 3141, 'stroppy': 3142, 'cater': 3143, 'be': 3144, 'hoopjunkie': 3145, 'caller': 3146, 'candace': 3147, 'dunno': 3148, 'exit': 3149, 'cricket': 3150, 'modern': 3151, 'divorce': 3152, 'sweden': 3153, 'bakes': 3154, 'survive': 3155, 'stair': 3156, 'recognize': 3157, 'greet': 3158, 'departing': 3159, 'inv': 3160, 'narcissist': 3161, 'milspeak': 3162, 'edge': 3163, 'heel': 3164, 'leeds': 3165, 'attendance': 3166, 'crawl': 3167, 'princesstaye': 3168, 'disaster': 3169, 'vega': 3170, 'beg': 3171, 'spine': 3172, 'tit': 3173, 'ave': 3174, 'bare': 3175, 'junk': 3176, 'innocence': 3177, 'admits': 3178, 'qb': 3179, 'fraction': 3180, 'smiling': 3181, 'ornot': 3182, 'mcdonald': 3183, 'reminds': 3184, 'friends': 3185, 'insta': 3186, 'converse': 3187, 'standard': 3188, 'seol': 3189, 'rly': 3190, 'tmobile': 3191, 'waittime': 3192, 'cigar': 3193, 'carrick': 3194, 'mou': 3195, 'pursuit': 3196, 'cereal': 3197, 'decaf': 3198, 'soy': 3199, 'americano': 3200, 'barista': 3201, 'butterfly': 3202, 'penis': 3203, 'witch': 3204, 'slider': 3205, 'slept': 3206, 'site': 3207, 'proverbs': 3208, 'probability': 3209, 'uspol': 3210, 'unarmed': 3211, 'sensitivity': 3212, 'employee': 3213, 'pr': 3214, 'prince': 3215, 'misery': 3216, 'german': 3217, 'gray': 3218, 'perspective': 3219, 'sensor': 3220, 'timid': 3221, 'curiosity': 3222, 'speaking': 3223, 'submit': 3224, 'fresh': 3225, 'sudden': 3226, 'matty': 3227, 'dawson': 3228, 'cousin': 3229, 'panpiper': 3230, 'toronto': 3231, 'firstworldproblems': 3232, 'requirement': 3233, 'hoop': 3234, 'priest': 3235, 'bang': 3236, 'punish': 3237, 'trophy': 3238, 'lineman': 3239, 'gettin': 3240, 'moan': 3241, 'horrormovies': 3242, 'cn': 3243, 'ratio': 3244, 'fantastic': 3245, 'talent': 3246, 'fortune': 3247, 'ramble': 3248, 'pinpoint': 3249, 'strength': 3250, 'designatedsurvivor': 3251, 'initiative': 3252, 'mercy': 3253, 'forgiveness': 3254, 'slushie': 3255, 'livid': 3256, 'visa': 3257, 'showboating': 3258, 'wince': 3259, 'friedman': 3260, 'clueless': 3261, 'ding': 3262, 'arch': 3263, 'missus': 3264, 'angryman': 3265, 'pastor': 3266, 'slough': 3267, 'lifeontheroad': 3268, 'typo': 3269, 'happppy': 3270, 'happppyyyyyy': 3271, 'happppppyyyyy': 3272, 'haaapppyyyy': 3273, 'bdaygirl': 3274, 'bend': 3275, 'matthew': 3276, 'freespeech': 3277, 'publish': 3278, 'scifi': 3279, 'chair': 3280, 'boggart': 3281, 'violation': 3282, 'propose': 3283, 'century': 3284, 'irl': 3285, 'among': 3286, 'equally': 3287, 'competitive': 3288, 'rapid': 3289, 'ibiza': 3290, 'fearsome': 3291, 'withdrawal': 3292, 'meaindia': 3293, 'background': 3294, 'purple': 3295, 'highlight': 3296, 'minority': 3297, 'disgrace': 3298, 'lo': 3299, 'underrated': 3300, 'secondary': 3301, 'sotired': 3302, 'frozen': 3303, 'presentation': 3304, 'honey': 3305, 'constitutional': 3306, 'discriminate': 3307, 'tasting': 3308, 'whisky': 3309, 'mm': 3310, 'cadre': 3311, 'accidentally': 3312, 'stehr': 3313, 'investigation': 3314, 'forthwith': 3315, 'direct': 3316, 'openly': 3317, 'riggedsystem': 3318, 'oreillyfactor': 3319, 'deaf': 3320, 'nc': 3321, 'making': 3322, 'brutal': 3323, 'bizhour': 3324, 'marblesinmouth': 3325, 'gag': 3326, 'formidable': 3327, 'combination': 3328, 'nelson': 3329, 'ouch': 3330, 'liveliness': 3331, 'hav': 3332, 'swine': 3333, 'damnit': 3334, 'tickle': 3335, 'confirm': 3336, 'darn': 3337, 'trial': 3338, 'edition': 3339, 'candle': 3340, 'fa': 3341, 'narcissistic': 3342, 'inch': 3343, 'thick': 3344, 'beware': 3345, 'ether': 3346, 'snuggle': 3347, 'dailyfeels': 3348, 'cd': 3349, 'massali': 3350, 'whistle': 3351, 'stool': 3352, 'worstairline': 3353, 'appauling': 3354, 'beyondajoke': 3355, 'wallet': 3356, 'suffocate': 3357, 'utd': 3358, 'writerslife': 3359, 'gpa': 3360, 'scan': 3361, 'trumpie': 3362, 'quarter': 3363, 'blargh': 3364, 'tokyo': 3365, 'slagging': 3366, 'laundry': 3367, 'stranger': 3368, 'fridge': 3369, 'dirt': 3370, 'slice': 3371, 'melt': 3372, 'presidential': 3373, 'peer': 3374, 'annoyance': 3375, 'foreign': 3376, 'ima': 3377, 'lewis': 3378, 'who': 3379, 'catfish': 3380, 'frustrating': 3381, 'yal': 3382, 'danish': 3383, 'vanity': 3384, 'evenxxs': 3385, 'corporate': 3386, 'lithuania': 3387, 'gp': 3388, 'unreliable': 3389, 'square': 3390, 'samuel': 3391, 'pound': 3392, 'coin': 3393, 'rider': 3394, 'route': 3395, 'rubbish': 3396, 'fave': 3397, 'coworker': 3398, 'immense': 3399, 'dinner': 3400, 'bb': 3401, 'drown': 3402, 'falure': 3403, 'amirite': 3404, 'toe': 3405, 'innovation': 3406, 'fuckery': 3407, 'iphonephonehome': 3408, 'zen': 3409, 'dickpic': 3410, 'cocktribute': 3411, 'shove': 3412, 'jolie': 3413, 'amy': 3414, 'divamagazine': 3415, 'arse': 3416, 'sock': 3417, 'terrancecrutcher': 3418, 'bbmichelle': 3419, 'besides': 3420, 'incident': 3421, 'ourworld': 3422, 'olympic': 3423, 'correction': 3424, 'standing': 3425, 'hero': 3426, 'thedemocrats': 3427, 'intimate': 3428, 'satan': 3429, 'few': 3430, 'approach': 3431, 'pakistani': 3432, 'errrr': 3433, 'italy': 3434, 'poster': 3435, 'vision': 3436, 'apologize': 3437, 'dex': 3438, 'pipe': 3439, 'azerbaijan': 3440, 'coworkers': 3441, 'crappy': 3442, 'irish': 3443, 'driving': 3444, 'dictator': 3445, 'sharia': 3446, 'polygamy': 3447, 'vodka': 3448, 'whataloadoftat': 3449, 'explore': 3450, 'symbolizes': 3451, 'yelling': 3452, 'shutup': 3453, 'ryanair': 3454, 'compensation': 3455, 'yea': 3456, 'mustard': 3457, 'hostile': 3458, 'lost': 3459, 'merely': 3460, 'none': 3461, 'peep': 3462, 'hermione': 3463, 'ron': 3464, 'decade': 3465, 'hw': 3466, 'marmite': 3467, 'thomas': 3468, 'aloneinthecity': 3469, 'berry': 3470, 'recognise': 3471, 'brief': 3472, 'anime': 3473, 'survey': 3474, 'sum': 3475, 'feud': 3476, 'troll': 3477, 'co': 3478, 'endorse': 3479, 'winner': 3480, 'undying': 3481, 'shite': 3482, 'pen': 3483, 'wont': 3484, 'michael': 3485, 'hegemonists': 3486, 'stuck': 3487, 'saudi': 3488, 'financing': 3489, 'israeli': 3490, 'gentleman': 3491, 'impression': 3492, 'shoutdrive': 3493, 'texting': 3494, 'unacceptable': 3495, 'picasso': 3496, 'booth': 3497, 'vibe': 3498, 'somewhat': 3499, 'steam': 3500, 'port': 3501, 'vice': 3502, 'billie': 3503, 'backtoreality': 3504, 'cum': 3505, 'poison': 3506, 'joshua': 3507, 'lettin': 3508, 'comfortable': 3509, 'reveal': 3510, 'font': 3511, 'jeremy': 3512, 'praise': 3513, 'legitimate': 3514, 'ham': 3515, 'disheartened': 3516, 'noloyalty': 3517, 'notimpressed': 3518, 'bey': 3519, 'rollin': 3520, 'sip': 3521, 'shatter': 3522, 'massive': 3523, 'intention': 3524, 'connor': 3525, 'vale': 3526, 'flamenco': 3527, 'maximum': 3528, 'stan': 3529, 'pet': 3530, 'cali': 3531, 'snow': 3532, 'dylan': 3533, 'musician': 3534, 'wound': 3535, 'exhilarating': 3536, 'honor': 3537, 'innerconflict': 3538, 'fame': 3539, 'instinct': 3540, 'fascist': 3541, 'affront': 3542, 'breakfast': 3543, 'jen': 3544, 'stare': 3545, 'honk': 3546, 'sharpen': 3547, 'massif': 3548, 'burger': 3549, 'duck': 3550, 'ankle': 3551, 'tilt': 3552, 'focused': 3553, 'skype': 3554, 'thus': 3555, 'contention': 3556, 'perch': 3557, 'chain': 3558, 'selfhelp': 3559, 'justsaying': 3560, 'idol': 3561, 'vids': 3562, 'investigate': 3563, 'retirement': 3564, 'noclue': 3565, 'auction': 3566, 'advance': 3567, 'bloke': 3568, 'loudly': 3569, 'bbc': 3570, 'coys': 3571, 'kenny': 3572, 'pit': 3573, 'promising': 3574, 'callback': 3575, 'epipen': 3576, 'expand': 3577, 'poisonous': 3578, 'denial': 3579, 'sword': 3580, 'addair': 3581, 'yourpushfactor': 3582, 'francis': 3583, 'satisfy': 3584, 'puke': 3585, 'athlete': 3586, 'joyed': 3587, 'hp': 3588, 'sara': 3589, 'freaking': 3590, 'rhobh': 3591, 'squad': 3592, 'clap': 3593, 'gcse': 3594, 'tfw': 3595, 'injure': 3596, 'warrior': 3597, 'championship': 3598, 'loooooong': 3599, 'sharif': 3600, 'regardless': 3601, 'socialmedia': 3602, 'fricking': 3603, 'vulnerable': 3604, 'grave': 3605, 'bust': 3606, 'thnx': 3607, 'aware': 3608, 'alarmist': 3609, 'burhanwani': 3610, 'tht': 3611, 'mental': 3612, 'bipolar': 3613, 'engagement': 3614, 'delusional': 3615, 'sopranos': 3616, 'communication': 3617, 'achieve': 3618, 'commentary': 3619, 'foreveralone': 3620, 'corner': 3621, 'dismay': 3622, 'panicattacks': 3623, 'impressive': 3624, 'unfulfilled': 3625, 'anna': 3626, 'biblemotivate': 3627, 'prominent': 3628, 'exasperate': 3629, 'bournemouth': 3630, 'celebeffer': 3631, 'beatles': 3632, 'opera': 3633, 'wisdom': 3634, 'tone': 3635, 'mt': 3636, 'clan': 3637, 'kpop': 3638, 'corbyn': 3639, 'smith': 3640, 'looney': 3641, 'toon': 3642, 'partner': 3643, 'shorty': 3644, 'cheeseburger': 3645, 'five': 3646, 'ahead': 3647, 'troyler': 3648, 'therapy': 3649, 'ballons': 3650, 'adulthood': 3651, 'miami': 3652, 'mourinho': 3653, 'equal': 3654, 'flavor': 3655, 'breakdown': 3656, 'tomato': 3657, 'tension': 3658, 'whoever': 3659, 'assess': 3660, 'creative': 3661, 'pace': 3662, 'capable': 3663, 'mon': 3664, 'frontier': 3665, 'chose': 3666, 'scam': 3667, 'prob': 3668, 'horribly': 3669, 'acknowledge': 3670, 'existence': 3671, 'inquiry': 3672, 'army': 3673, 'sexuality': 3674, 'pollute': 3675, 'shadow': 3676, 'alternative': 3677, 'akshay': 3678, 'earpiece': 3679, 'broncos': 3680, 'intrigue': 3681, 'gameplay': 3682, 'grad': 3683, 'field': 3684, 'cashback': 3685, 'genuine': 3686, 'phobia': 3687, 'irrational': 3688, 'aversion': 3689, 'tinder': 3690, 'capital': 3691, 'august': 3692, 'wyoming': 3693, 'su': 3694, 'privacy': 3695, 'gh': 3696, 'shell': 3697, 'input': 3698, 'wh': 3699, 'jet': 3700, 'identity': 3701, 'digital': 3702, 'phoenixrally': 3703, 'treatment': 3704, 'bby': 3705, 'oliver': 3706, 'loveisland': 3707, 'utterly': 3708, 'correct': 3709, 'blac': 3710, 'dearly': 3711, 'zion': 3712, 'ash': 3713, 'activity': 3714, 'artistic': 3715, 'broke': 3716, 'iron': 3717, 'stateoforigin': 3718, 'nswblues': 3719, 'filter': 3720, 'awareness': 3721, 'perverse': 3722, 'prefer': 3723, 'baywatch': 3724, 'dnc': 3725, 'conte': 3726, 'annoys': 3727, 'kissmarc': 3728, 'numerous': 3729, 'gorka': 3730, 'lee': 3731, 'knife': 3732, 'coy': 3733, 'cultural': 3734, 'sm': 3735, 'sakura': 3736, 'squirrel': 3737, 'molly': 3738, 'deny': 3739, 'sarah': 3740, 'chad': 3741, 'moody': 3742, 'afridi': 3743, 'harrison': 3744, 'ford': 3745, 'hypocrite': 3746, 'chyna': 3747, 'terminate': 3748, 'dust': 3749, 'exo': 3750, 'period': 3751, 'accountable': 3752, 'mosul': 3753, 'mpsvt': 3754, 'various': 3755, 'goth': 3756, 'fearing': 3757, 'solar': 3758, 'remedy': 3759, 'djt': 3760, 'yummymummiesau': 3761, 'extinction': 3762, 'accomplish': 3763, 'covfefe': 3764, 'aw': 3765, 'bummer': 3766, 'sea': 3767, 'glum': 3768, 'morata': 3769, 'instagood': 3770, 'collusion': 3771, 'extremist': 3772, 'abroad': 3773, 'increasingly': 3774, 'shook': 3775, 'impeach': 3776, 'grab': 3777, 'nom': 3778, 'compel': 3779, 'crackle': 3780, 'scalar': 3781, 'justify': 3782, 'connect': 3783, 'illegal': 3784, 'eps': 3785, 'billy': 3786, 'retail': 3787, 'psalm': 3788, 'ocd': 3789, 'oath': 3790, 'bachelorinparadise': 3791, 'wth': 3792, 'pickled': 3793, 'kayleigh': 3794, 'membership': 3795, 'spade': 3796, 'lawyer': 3797, 'honeymoon': 3798, 'wednesdaywisdom': 3799, 'realdonaldtrump': 3800, 'hunt': 3801, 'lift': 3802, 'oy': 3803, 'confess': 3804, 'judiciary': 3805, 'mutual': 3806, 'tom': 3807, 'congress': 3808, 'newborn': 3809, 'pilgrim': 3810, 'barbecue': 3811, 'hahahaha': 3812, 'directly': 3813, 'flutter': 3814, 'wonwoo': 3815, 'relation': 3816, 'tuesdaythoughts': 3817, 'solemn': 3818, 'mayweathervsmcgregor': 3819, 'thorn': 3820, 'dye': 3821, 'logic': 3822, 'bench': 3823, 'addiction': 3824, 'duty': 3825, 'octopus': 3826, 'satisfied': 3827, 'pair': 3828, 'raspberrypi': 3829, 'lecturer': 3830, 'yas': 3831, 'rogue': 3832, 'thx': 3833, 'universe': 3834, 'coverage': 3835, 'measure': 3836, 'resistance': 3837, 'invasion': 3838, 'contd': 3839, 'sexting': 3840, 'anyways': 3841, 'nationalfrenchfryday': 3842, 'eu': 3843, 'urge': 3844, 'magnus': 3845, 'thankful': 3846, 'palestine': 3847, 'abolish': 3848, 'esp': 3849, 'suit': 3850, 'grisk': 3851, 'proof': 3852, 'ton': 3853, 'entertain': 3854, 'clever': 3855, 'center': 3856, 'lime': 3857, 'tdf': 3858, 'waist': 3859, 'algae': 3860, 'cancer': 3861, 'heavily': 3862, 'joint': 3863, 'bogo': 3864, 'punter': 3865, 'anticipation': 3866, 'cast': 3867, 'giant': 3868, 'xxoo': 3869, 'dro': 3870, 'mitchell': 3871, 'allergy': 3872, 'satisfaction': 3873, 'sb': 3874, 'crouch': 3875, 'bcs': 3876, 'swedish': 3877, 'di': 3878, 'jud': 3879, 'heathrow': 3880, 'analog': 3881, 'smart': 3882, 'occasion': 3883, 'scale': 3884, 'expo': 3885, 'terrified': 3886, 'ze': 3887, 'tory': 3888, 'turtle': 3889, 'kdrama': 3890, 'condemn': 3891, 'sentiment': 3892, 'payment': 3893, 'joyce': 3894, 'meyer': 3895, 'atsu': 3896, 'uwu': 3897, 'rooneys': 3898, 'untouchable': 3899, 'depay': 3900, 'ish': 3901, 'pan': 3902, 'highlighter': 3903, 'stfu': 3904, 'yearly': 3905, 'returner': 3906, 'tiller': 3907, 'collab': 3908, 'rapping': 3909, 'shouldofgonewithvirgin': 3910, 'newyork': 3911, 'activist': 3912, 'demonstration': 3913, 'headquarters': 3914, 'export': 3915, 'normy': 3916, 'humping': 3917, 'greatly': 3918, 'strategically': 3919, 'cower': 3920, 'inevitable': 3921, 'rescue': 3922, 'uggh': 3923, 'tamra': 3924, 'needstobeadmitted': 3925, 'dependent': 3926, 'circumstantial': 3927, 'representation': 3928, 'shrug': 3929, 'orwellian': 3930, 'fighting': 3931, 'becz': 3932, 'puzzle': 3933, 'portland': 3934, 'feodal': 3935, 'correlative': 3936, 'snorting': 3937, 'xlzjyhg': 3938, 'tractor': 3939, 'youtubegaming': 3940, 'addict': 3941, 'ditto': 3942, 'philippplein': 3943, 'stunt': 3944, 'londonevents': 3945, 'preparation': 3946, 'yawnoff': 3947, 'pathological': 3948, 'earring': 3949, 'bennett': 3950, 'faceyourfears': 3951, 'lehrer': 3952, 'ridiculously': 3953, 'overweight': 3954, 'galore': 3955, 'flirt': 3956, 'simper': 3957, 'yuck': 3958, 'trumpism': 3959, 'likewise': 3960, 'knowingly': 3961, 'intentionally': 3962, 'eish': 3963, 'brings': 3964, 'nje': 3965, 'darkness': 3966, 'lightbulb': 3967, 'congreve': 3968, 'turnd': 3969, 'silvereliteleftbehind': 3970, 'hike': 3971, '화양연화': 3972, 'bump': 3973, 'skepticism': 3974, 'axis': 3975, 'hub': 3976, 'herewego': 3977, 'dharmainitiative': 3978, 'pelt': 3979, 'vandalize': 3980, 'truncate': 3981, 'joes': 3982, 'range': 3983, 'instestines': 3984, 'rednecks': 3985, 'intellectually': 3986, 'noooooo': 3987, 'maryberry': 3988, 'endofanera': 3989, 'lameduck': 3990, 'notallaboutthemoney': 3991, 'dabbed': 3992, 'anticipate': 3993, 'isthereahelplineforthis': 3994, 'keeper': 3995, 'soak': 3996, 'participating': 3997, 'noam': 3998, 'chomsky': 3999, 'diego': 4000, 'nimber': 4001, 'cleaning': 4002, 'worsethananatomicbomb': 4003, 'accidentlyspillbeeronthecarpet': 4004, 'fortunate': 4005, 'ion': 4006, 'cmode': 4007, 'grimrail': 4008, 'westminster': 4009, 'inequality': 4010, 'contained': 4011, 'sustainability': 4012, 'vergecon': 4013, 'newgrandstrategy': 4014, 'communitysleepcoach': 4015, 'narcoleptic': 4016, 'rockies': 4017, 'dbacks': 4018, 'combined': 4019, 'preparedness': 4020, 'mtv': 4021, 'teenmom': 4022, 'vestige': 4023, 'shoal': 4024, 'tracy': 4025, 'chapman': 4026, 'dayjob': 4027, 'empath': 4028, 'gosling': 4029, 'eva': 4030, 'mendes': 4031, 'embarrassed': 4032, 'knvfkkjg': 4033, 'newmusic': 4034, 'newsingle': 4035, 'newalbum': 4036, 'popmusic': 4037, 'montreal': 4038, 'punkrock': 4039, 'postpunk': 4040, 'brawndo': 4041, 'idiocracytoday': 4042, 'saturdaynightlive': 4043, 'shilling': 4044, 'rethink': 4045, 'lab': 4046, 'gove': 4047, 'significantly': 4048, 'parade': 4049, 'weans': 4050, 'jammies': 4051, 'muscle': 4052, 'muzzy': 4053, 'cheesy': 4054, 'gothcore': 4055, 'spooky': 4056, 'momlife': 4057, 'gloriosa': 4058, 'bazigaga': 4059, 'rwanda': 4060, 'peacebuilding': 4061, 'scrap': 4062, 'desgusting': 4063, 'urgent': 4064, 'childlike': 4065, 'convos': 4066, 'laurie': 4067, 'hernandez': 4068, 'retaliation': 4069, 'huma': 4070, 'allscumbags': 4071, 'blasio': 4072, 'giuliani': 4073, 'motto': 4074, 'profession': 4075, 'bowel': 4076, 'reuters': 4077, 'hating': 4078, 'detest': 4079, 'laureliver': 4080, 'mmmm': 4081, 'nothappy': 4082, 'fullprice': 4083, 'bestrides': 4084, 'minuscule': 4085, 'megaproject': 4086, 'nlpoli': 4087, 'chirpy': 4088, 'springequinox': 4089, 'autumnequinox': 4090, 'thebeautyofbalance': 4091, 'unnerve': 4092, 'gleesome': 4093, 'needsmoresleep': 4094, 'echo': 4095, 'reverb': 4096, 'hassle': 4097, 'exists': 4098, 'namjoon': 4099, 'seam': 4100, 'sua': 4101, 'compromise': 4102, 'donal': 4103, 'óg': 4104, 'cork': 4105, 'dopey': 4106, 'frank': 4107, 'cult': 4108, 'survival': 4109, 'tee': 4110, 'rogerfederershop': 4111, 'roger': 4112, 'federer': 4113, 'rioting': 4114, 'asshole': 4115, 'hm': 4116, 'pinafore': 4117, 'captureyourmind': 4118, 'findgodnow': 4119, 'turkish': 4120, 'shade': 4121, 'irruptive': 4122, 'twelvemonth': 4123, 'gobbler': 4124, 'nephalism': 4125, 'jihadist': 4126, 'mayor': 4127, 'sadiqkhan': 4128, 'sauce': 4129, 'wayward': 4130, 'supernatural': 4131, 'mfa': 4132, 'gradschoolproblems': 4133, 'someonetelltinafeytohireme': 4134, 'riggs': 4135, 'lolol': 4136, 'edit': 4137, 'productivityatitsfinest': 4138, 'crossfire': 4139, 'limb': 4140, 'cobbler': 4141, 'load': 4142, 'gorre': 4143, 'footballler': 4144, 'armageddon': 4145, 'usapleasedont': 4146, 'basshunter': 4147, 'bounty': 4148, 'hunter': 4149, 'collegelife': 4150, 'supine': 4151, 'sixwordstory': 4152, 'borrow': 4153, 'pax': 4154, 'kkk': 4155, 'wattch': 4156, 'travelfail': 4157, 'virgin': 4158, 'virginaus': 4159, 'etihad': 4160, 'obvs': 4161, 'manufacture': 4162, 'burner': 4163, 'maxlevelz': 4164, 'dehydrate': 4165, 'footy': 4166, 'argentina': 4167, 'poland': 4168, 'contribution': 4169, 'fmf': 4170, 'protester': 4171, 'reasoned': 4172, 'disruption': 4173, 'asylum': 4174, 'flourish': 4175, 'disapproves': 4176, 'presidentialdebate': 4177, 'orangehitler': 4178, 'fluffy': 4179, 'bon': 4180, 'iver': 4181, 'mull': 4182, 'poc': 4183, 'couscous': 4184, 'booze': 4185, 'caffeine': 4186, 'oncoming': 4187, 'vehs': 4188, 'swerve': 4189, 'poems': 4190, 'squirm': 4191, 'reginald': 4192, 'denny': 4193, 'lobby': 4194, 'stuartspecial': 4195, 'cliff': 4196, 'pto': 4197, 'doneeeee': 4198, 'knew': 4199, 'pavel': 4200, 'cackle': 4201, 'thearchers': 4202, 'constipation': 4203, 'xt': 4204, 'nova': 4205, 'cowardliness': 4206, 'aqw': 4207, 'transform': 4208, 'kirby': 4209, 'panther': 4210, 'bollocked': 4211, 'dedicate': 4212, 'tenacious': 4213, 'humbly': 4214, 'spraypainting': 4215, 'greenwichmarket': 4216, 'lilylou': 4217, 'benoakley': 4218, 'naay': 4219, 'filling': 4220, 'gap': 4221, 'haikuchallenge': 4222, 'nooneunderstands': 4223, 'karev': 4224, 'fazed': 4225, 'aberdeen': 4226, 'johnstone': 4227, 'punt': 4228, 'furthest': 4229, 'unproductive': 4230, 'tribez': 4231, 'castlez': 4232, 'bartolomeo': 4233, 'useallthehotwatershower': 4234, 'david': 4235, 'gilmour': 4236, 'gig': 4237, 'pinkfloyd': 4238, 'theblues': 4239, 'davidgilmour': 4240, 'tranquilizer': 4241, 'intel': 4242, 'lade': 4243, 'hoody': 4244, 'cheat': 4245, 'readership': 4246, 'gump': 4247, 'consumate': 4248, 'diplomat': 4249, 'grimy': 4250, 'musical': 4251, 'thelionking': 4252, 'influence': 4253, 'williamshakespeare': 4254, 'hamlet': 4255, 'eltonjohn': 4256, 'aa': 4257, 'passage': 4258, 'snowdenmovie': 4259, 'thriller': 4260, 'upping': 4261, 'apprehend': 4262, 'charcoal': 4263, 'ownership': 4264, 'unzu': 4265, 'handicap': 4266, 'dodger': 4267, 'agg': 4268, 'tomboy': 4269, 'haqqani': 4270, 'wrestling': 4271, 'jaymohrsports': 4272, 'staystrong': 4273, 'yourebeautiful': 4274, 'kickinnnnn': 4275, 'misty': 4276, 'volleyball': 4277, 'tambourine': 4278, 'lyre': 4279, 'forcibly': 4280, 'proportion': 4281, 'worst': 4282, 'knowledge': 4283, 'weekly': 4284, 'jew': 4285, 'flee': 4286, 'persecution': 4287, 'lestweforget': 4288, 'trainee': 4289, 'recruitment': 4290, 'conclude': 4291, 'wewait': 4292, 'eng': 4293, 'uhh': 4294, 'meee': 4295, 'moreisbetter': 4296, 'voke': 4297, 'deception': 4298, 'gallery': 4299, 'berl': 4300, 'katznelson': 4301, 'gran': 4302, 'rawhide': 4303, 'baritone': 4304, 'egyptian': 4305, 'brotherhood': 4306, 'benchmark': 4307, 'gift': 4308, 'revells': 4309, 'dirtypeople': 4310, 'unintentional': 4311, 'indicate': 4312, 'devoid': 4313, 'taco': 4314, 'fckd': 4315, 'justiceofpak': 4316, 'publicly': 4317, 'prisoned': 4318, 'severe': 4319, 'imediately': 4320, 'writingtip': 4321, 'wept': 4322, 'rusty': 4323, 'ramping': 4324, 'perfume': 4325, 'smokey': 4326, 'ourhouse': 4327, 'onejersey': 4328, 'werealldevilsinside': 4329, 'puck': 4330, 'drops': 4331, 'demolition': 4332, 'meden': 4333, 'dwts': 4334, 'thas': 4335, 'jewel': 4336, 'moonlight': 4337, 'telling': 4338, 'jog': 4339, 'beside': 4340, 'cheek': 4341, 'jasper': 4342, 'belt': 4343, 'aldo': 4344, 'booty': 4345, 'evaluation': 4346, 'minimally': 4347, 'parcc': 4348, 'teaching': 4349, 'cba': 4350, 'ahahah': 4351, 'southpark': 4352, 'calculate': 4353, 'trample': 4354, 'dignity': 4355, 'escalate': 4356, 'confrontation': 4357, 'dhoni': 4358, 'bcoz': 4359, 'calmness': 4360, 'finisher': 4361, 'miltirian': 4362, 'humanbeing': 4363, 'bitchass': 4364, 'mucus': 4365, 'neg': 4366, 'mh': 4367, 'teampaella': 4368, 'fi': 4369, 'crushed': 4370, 'bone': 4371, 'wicked': 4372, 'welfarereform': 4373, 'science': 4374, 'cashew': 4375, 'hemp': 4376, 'dandelion': 4377, 'yeller': 4378, 'screamer': 4379, 'reference': 4380, 'suspect': 4381, 'bombing': 4382, 'omit': 4383, 'journ': 4384, 'moonshinesociety': 4385, 'loft': 4386, 'essay': 4387, 'sjw': 4388, 'sergiosarzedo': 4389, 'yuuuhh': 4390, 'clin': 4391, 'prevmed': 4392, 'ugghhh': 4393, 'maternal': 4394, 'grandmother': 4395, 'conciseness': 4396, 'stayunstoppable': 4397, 'maintain': 4398, 'hungary': 4399, 'huffed': 4400, 'tatinof': 4401, 'tate': 4402, 'willow': 4403, 'activate': 4404, 'merk': 4405, 'jeepers': 4406, 'creeper': 4407, 'horrormoviesarebest': 4408, 'jeffrey': 4409, 'grapefruit': 4410, 'squash': 4411, 'haddon': 4412, 'robinson': 4413, 'jesusisthesubject': 4414, 'baldwin': 4415, 'pow': 4416, 'enliven': 4417, 'ourgirl': 4418, 'brewer': 4419, 'wasteland': 4420, 'goofball': 4421, 'enoughisenough': 4422, 'ehhh': 4423, 'maliciously': 4424, 'creaking': 4425, 'creak': 4426, 'acid': 4427, 'vessel': 4428, 'warranty': 4429, 'ripoff': 4430, 'pathetically': 4431, 'sympathy': 4432, 'twirl': 4433, 'moustache': 4434, 'psychowasp': 4435, 'surround': 4436, 'redstate': 4437, 'emoticon': 4438, 'ji': 4439, 'mosquito': 4440, 'aggressive': 4441, 'behaviour': 4442, 'lmfao': 4443, 'racepimp': 4444, 'tamron': 4445, 'libtard': 4446, 'biasedmedia': 4447, 'neverhillary': 4448, 'ealingcomedies': 4449, 'infectious': 4450, 'wtvr': 4451, 'gabe': 4452, 'ghandi': 4453, 'litigious': 4454, 'exec': 4455, 'stefano': 4456, 'fullofshit': 4457, 'convo': 4458, 'reel': 4459, 'exploding': 4460, 'reparation': 4461, 'modifier': 4462, 'verification': 4463, 'salon': 4464, 'objectively': 4465, 'sherri': 4466, 'martel': 4467, 'grown': 4468, 'alcoholic': 4469, 'etates': 4470, 'islamexposed': 4471, 'islambacon': 4472, 'creativity': 4473, 'introduce': 4474, 'engulf': 4475, 'abscess': 4476, 'hook': 4477, 'jazzholiday': 4478, 'riesbrothers': 4479, 'megan': 4480, 'plug': 4481, 'usatoday': 4482, 'edward': 4483, 'quartet': 4484, 'laurel': 4485, 'generally': 4486, 'bgoodthepoet': 4487, 'prayforme': 4488, 'thisisagoddream': 4489, 'heartracing': 4490, 'motivate': 4491, 'philosopher': 4492, 'dj': 4493, 'kyos': 4494, 'damnnit': 4495, 'reward': 4496, 'smutty': 4497, 'consent': 4498, 'rhetoric': 4499, 'confiaejce': 4500, 'mcintyre': 4501, 'tay': 4502, 'hark': 4503, 'wolfcreek': 4504, 'stayathome': 4505, 'dontvisit': 4506, 'oppressive': 4507, 'architecture': 4508, 'uninteresting': 4509, 'income': 4510, 'trivial': 4511, 'expansion': 4512, 'americanhorrorstory': 4513, 'ethic': 4514, 'laziness': 4515, 'hugeletdown': 4516, 'identify': 4517, 'losing': 4518, 'bundle': 4519, 'childood': 4520, 'obnoxious': 4521, 'normalize': 4522, 'frog': 4523, 'bradangelina': 4524, 'rile': 4525, 'stfuuu': 4526, 'fur': 4527, 'crony': 4528, 'fodder': 4529, 'fifa': 4530, 'billclinton': 4531, 'pile': 4532, 'teamnicole': 4533, 'emblem': 4534, 'youarestrong': 4535, 'youarearising': 4536, 'pupper': 4537, 'ripshawtylo': 4538, 'patti': 4539, 'stamp': 4540, 'affection': 4541, 'wiki': 4542, 'betterwithsinnfein': 4543, 'firmly': 4544, 'grope': 4545, 'digging': 4546, 'extract': 4547, 'evolve': 4548, 'anti': 4549, 'allo': 4550, 'encryption': 4551, 'collegekills': 4552, 'gore': 4553, 'slash': 4554, 'sith': 4555, 'lying': 4556, 'verb': 4557, 'villaseñor': 4558, 'waitingforexplanation': 4559, 'bcwinechat': 4560, 'cpd': 4561, 'idiosyncrasy': 4562, 'banobee': 4563, 'fever': 4564, 'populace': 4565, 'overseer': 4566, 'joyannreid': 4567, 'mutli': 4568, 'directional': 4569, 'mixing': 4570, 'controversy': 4571, 'conductor': 4572, 'synthetic': 4573, 'testosterone': 4574, 'sexist': 4575, 'helium': 4576, 'ipca': 4577, 'indulges': 4578, 'stopcruelty': 4579, 'horoscope': 4580, 'meghan': 4581, 'fundamental': 4582, 'ii': 4583, 'classical': 4584, 'elkracken': 4585, 'gottawearshades': 4586, 'letsgoyankees': 4587, 'university': 4588, 'leopard': 4589, 'spots': 4590, 'tribe': 4591, 'curry': 4592, 'stange': 4593, 'followback': 4594, 'whining': 4595, 'jst': 4596, 'rona': 4597, 'dhona': 4598, 'blinddogradio': 4599, 'durban': 4600, 'surf': 4601, 'stung': 4602, 'sav': 4603, 'clouded': 4604, 'phenomenon': 4605, 'cbs': 4606, 'afp': 4607, 'imo': 4608, 'ashland': 4609, 'parch': 4610, 'plant': 4611, 'renewtherivalry': 4612, 'imyourdaddy': 4613, 'cantbeatme': 4614, 'tater': 4615, 'magnify': 4616, 'stink': 4617, 'birthdayyyyyy': 4618, 'gideon': 4619, 'occassionally': 4620, 'tabitha': 4621, 'daytime': 4622, 'walker': 4623, 'dashboard': 4624, 'solate': 4625, 'disabledlivesmatter': 4626, 'skynews': 4627, 'nomorehammocks': 4628, 'hive': 4629, 'elder': 4630, 'sooked': 4631, 'smokeys': 4632, 'wsjnordics': 4633, 'الخفجي': 4634, 'ef': 4635, 'whichever': 4636, 'davis': 4637, 'blanchardstown': 4638, 'spencer': 4639, 'rockefeller': 4640, 'reinstate': 4641, 'roho': 4642, 'needa': 4643, 'np': 4644, 'rum': 4645, 'offalonehugots': 4646, 'jb': 4647, 'fay': 4648, 'wifl': 4649, 'supremacist': 4650, 'terrorize': 4651, 'preposterous': 4652, 'nicholson': 4653, 'joker': 4654, 'ntfcvmufc': 4655, 'theyre': 4656, 'tierney': 4657, 'defence': 4658, 'goodbyesummer': 4659, 'bathingsuitsforever': 4660, 'untypical': 4661, 'hffffhj': 4662, 'banging': 4663, 'nosleep': 4664, 'symmetry': 4665, 'aesthetically': 4666, 'pistol': 4667, 'deaththekid': 4668, 'buckynat': 4669, 'clintwanda': 4670, 'ornament': 4671, 'wanted': 4672, 'spektar': 4673, 'jaws': 4674, 'contactless': 4675, 'kart': 4676, 'xbeujgb': 4677, 'trayvon': 4678, 'sandrabland': 4679, 'philando': 4680, 'batonrouge': 4681, 'michaelbrown': 4682, 'ovet': 4683, 'northcarolina': 4684, 'deptch': 4685, 'invalid': 4686, 'glitch': 4687, 'banger': 4688, 'alias': 4689, 'kzfqr': 4690, 'indianarmedforces': 4691, 'pastel': 4692, 'balloon': 4693, 'podcasts': 4694, 'yvr': 4695, 'missyou': 4696, 'indifference': 4697, 'implies': 4698, 'abundance': 4699, 'mischief': 4700, 'appal': 4701, 'dryer': 4702, 'baaarissshhhhh': 4703, 'prefect': 4704, 'leo': 4705, 'autumnalequinox': 4706, 'wirral': 4707, 'ban': 4708, 'unlimited': 4709, 'gleegoodbye': 4710, 'glasgow': 4711, 'prebooked': 4712, 'internal': 4713, 'terroristnation': 4714, 'reporter': 4715, 'fundraiser': 4716, 'bald': 4717, 'indiamissingindira': 4718, 'overcome': 4719, 'janecky': 4720, 'chatter': 4721, 'packing': 4722, 'schneiderlin': 4723, 'immune': 4724, 'varsity': 4725, 'cantstoplaughing': 4726, 'spokeword': 4727, 'quentin': 4728, 'letts': 4729, 'bbctw': 4730, 'franglaise': 4731, 'bradford': 4732, 'flybe': 4733, 'traveler': 4734, 'fcking': 4735, 'meanrikonabot': 4736, 'uhhhhh': 4737, 'interpretingall': 4738, 'checkin': 4739, 'srpt': 4740, 'vip': 4741, 'funsville': 4742, 'abusive': 4743, 'bronzy': 4744, 'glowy': 4745, 'drank': 4746, 'screaming': 4747, 'rattatas': 4748, 'pokemongo': 4749, 'frightened': 4750, 'conservative': 4751, 'cashier': 4752, 'slack': 4753, 'hauntedattraction': 4754, 'squeak': 4755, 'vigil': 4756, 'metropolitan': 4757, 'baptist': 4758, 'terencecruther': 4759, 'unruly': 4760, 'nothanks': 4761, 'flower': 4762, 'dom': 4763, 'notts': 4764, 'county': 4765, 'shimmy': 4766, 'uriattacks': 4767, 'aaahhhh': 4768, 'soothe': 4769, 'revolve': 4770, 'evrn': 4771, 'nawazfightsforkashmir': 4772, 'alliance': 4773, 'rohan': 4774, 'juan': 4775, 'wat': 4776, 'curb': 4777, 'terrencecrutcher': 4778, 'colinkapernick': 4779, 'pinch': 4780, 'cardio': 4781, 'mwahaha': 4782, 'toldeo': 4783, 'primary': 4784, 'prescribe': 4785, 'reject': 4786, 'resettlement': 4787, 'stoppickingonwomen': 4788, 'dobetter': 4789, 'birmingham': 4790, 'hereford': 4791, 'berniebrocialists': 4792, 'swingish': 4793, 'coaching': 4794, 'farewell': 4795, 'munich': 4796, 'lyle': 4797, 'petulant': 4798, 'postrump': 4799, 'enrique': 4800, 'sub': 4801, 'busquet': 4802, 'ughh': 4803, 'steamworks': 4804, 'gamedev': 4805, 'robbery': 4806, 'harris': 4807, 'emphasis': 4808, 'guiding': 4809, 'boxing': 4810, 'schalke': 4811, 'international': 4812, 'pakis': 4813, 'directtv': 4814, 'classify': 4815, 'bbfail': 4816, 'antichrist': 4817, 'independant': 4818, 'mrrobot': 4819, 'krusty': 4820, 'krab': 4821, 'australian': 4822, 'werewolf': 4823, 'authorlove': 4824, 'fancypants': 4825, 'saddler': 4826, 'opt': 4827, 'jacket': 4828, 'ampalaya': 4829, 'paitpaitanangpeg': 4830, 'vest': 4831, 'contagious': 4832, 'harvey': 4833, 'belonging': 4834, 'smithrud': 4835, 'indiansummer': 4836, 'redzone': 4837, 'lb': 4838, 'flags': 4839, 'ari': 4840, 'wanttogobacktominehead': 4841, 'repdelbene': 4842, 'proceeding': 4843, 'coincidentally': 4844, 'ulzana': 4845, 'brutally': 4846, 'filmmaking': 4847, 'srv': 4848, 'approximately': 4849, 'jimi': 4850, 'guitar': 4851, 'andriaprebles': 4852, 'envelop': 4853, 'vape': 4854, 'urghh': 4855, 'orton': 4856, 'invaluable': 4857, 'sq': 4858, 'ft': 4859, 'wide': 4860, 'homestyle': 4861, 'egg': 4862, 'payet': 4863, 'jan': 4864, 'reflective': 4865, 'bender': 4866, 'lydiaaaa': 4867, 'sexually': 4868, 'mindblown': 4869, 'setback': 4870, 'madashell': 4871, 'wheel': 4872, 'polite': 4873, 'thoughtfulthursday': 4874, 'intermediary': 4875, 'wisconsin': 4876, 'recall': 4877, 'accrington': 4878, 'stanley': 4879, 'iphones': 4880, 'eta': 4881, 'peiyophobilia': 4882, 'tap': 4883, 'haww': 4884, 'bla': 4885, 'balochistan': 4886, 'kulbhoshan': 4887, 'yadhav': 4888, 'ttp': 4889, 'indefensible': 4890, 'shrine': 4891, 'vine': 4892, 'gum': 4893, 'cycling': 4894, 'calf': 4895, 'garoppolo': 4896, 'borderline': 4897, 'firefighting': 4898, 'chuck': 4899, 'voiceover': 4900, 'fuller': 4901, 'hopkins': 4902, 'cookie': 4903, 'pup': 4904, 'swimming': 4905, 'churchill': 4906, 'irontekfit': 4907, 'yoga': 4908, 'esvoxbox': 4909, 'asktrumponequestion': 4910, 'unpredictable': 4911, 'lethal': 4912, 'coordinator': 4913, 'boltup': 4914, 'recharge': 4915, 'downstairs': 4916, 'ea': 4917, 'robot': 4918, 'err': 4919, 'mio': 4920, 'brexit': 4921, 'perilous': 4922, 'wi': 4923, 'sour': 4924, 'psycho': 4925, 'closer': 4926, 'nonsensical': 4927, 'misdirect': 4928, 'anxietymaybe': 4929, 'missingfriends': 4930, 'growingupsucks': 4931, 'lostfriends': 4932, 'wheresthetruefriends': 4933, 'complication': 4934, 'ingrain': 4935, 'unlocks': 4936, 'manup': 4937, 'trudeau': 4938, 'endulging': 4939, 'ad': 4940, 'hominem': 4941, 'quanitfying': 4942, 'compatibility': 4943, 'hedonic': 4944, 'volatility': 4945, 'fibe': 4946, 'arrange': 4947, 'fedup': 4948, 'dancer': 4949, 'ruthann': 4950, 'eatcake': 4951, 'independent': 4952, 'disco': 4953, 'matoma': 4954, 'becky': 4955, 'swoop': 4956, 'batmantelltaleseries': 4957, 'postcode': 4958, 'titanwisdom': 4959, 'ncfc': 4960, 'bun': 4961, 'withdraw': 4962, 'jobinterview': 4963, 'sickness': 4964, 'popularization': 4965, 'backfire': 4966, 'cinematography': 4967, 'xucqb': 4968, 'gently': 4969, 'madridistas': 4970, 'cules': 4971, 'fanbase': 4972, 'freezer': 4973, 'elated': 4974, 'roblox': 4975, 'termianted': 4976, 'robloxgamer': 4977, 'whenwillitstop': 4978, 'howmanymoretimes': 4979, 'fbi': 4980, 'greedy': 4981, 'mooching': 4982, 'reyes': 4983, 'steel': 4984, 'claw': 4985, 'flex': 4986, 'utter': 4987, 'criticise': 4988, 'logical': 4989, 'cave': 4990, 'va': 4991, 'ir': 4992, 'amaity': 4993, 'fallsongs': 4994, 'legally': 4995, 'crucial': 4996, 'pk': 4997, 'kal': 4998, 'boshan': 4999, 'involvement': 5000, 'patton': 5001, 'tried': 5002, 'marlboro': 5003, 'clutter': 5004, 'ivebeenbusierwhyamioverwhelmed': 5005, 'whypay': 5006, 'slipper': 5007, 'clash': 5008, 'dame': 5009, 'gameing': 5010, 'yang': 5011, 'sorta': 5012, 'illiteracy': 5013, 'inexpensive': 5014, 'earn': 5015, 'dreamer': 5016, 'boro': 5017, 'o': 5018, 'steward': 5019, 'rivertide': 5020, 'suite': 5021, 'seaside': 5022, 'us': 5023, 'ping': 5024, 'fukc': 5025, 'spectacle': 5026, 'ernest': 5027, 'hemingway': 5028, 'holdin': 5029, 'inpouring': 5030, 'subsist': 5031, 'quaint': 5032, 'virtuoso': 5033, 'induction': 5034, 'everythings': 5035, 'deciduous': 5036, 'coniferous': 5037, 'freshly': 5038, 'royal': 5039, 'rub': 5040, 'woolwich': 5041, 'jammygunnerscum': 5042, 'le': 5043, 'xdddd': 5044, 'loner': 5045, 'missing': 5046, 'thegreeninferno': 5047, 'ineedtherapy': 5048, 'distance': 5049, 'roids': 5050, 'tonys': 5051, 'hots': 5052, 'uncooperative': 5053, 'coping': 5054, 'oops': 5055, 'mlb': 5056, 'futuristic': 5057, 'tidy': 5058, 'gameover': 5059, 'glute': 5060, 'squat': 5061, 'technics': 5062, 'symptomatize': 5063, 'vrlfeyrn': 5064, 'gangster': 5065, 'yorkshire': 5066, 'alton': 5067, 'tower': 5068, 'illegally': 5069, 'niggas': 5070, 'noheart': 5071, 'tint': 5072, 'proverb': 5073, 'steiner': 5074, 'yessir': 5075, 'lundqvist': 5076, 'donnie': 5077, 'trumpeter': 5078, 'vapid': 5079, 'vacant': 5080, 'viper': 5081, 'slither': 5082, 'jellylegs': 5083, 'tr': 5084, 'jungle': 5085, 'bulushi': 5086, 'processor': 5087, 'nibble': 5088, 'scorer': 5089, 'vidar': 5090, 'kjartansson': 5091, 'dor': 5092, 'micha': 5093, 'yallamaccabi': 5094, 'asf': 5095, 'automatically': 5096, 'professionalism': 5097, 'provider': 5098, 'phoneprovider': 5099, 'badbusiness': 5100, 'elouise': 5101, 'littlesister': 5102, 'superexcited': 5103, 'misogynist': 5104, 'psychopath': 5105, 'conartist': 5106, 'whereareugoing': 5107, 'elite': 5108, 'agin': 5109, 'feic': 5110, 'fucken': 5111, 'havnt': 5112, 'tyson': 5113, 'don': 5114, 'mikeandmolly': 5115, 'parallel': 5116, 'menforchoice': 5117, 'havin': 5118, 'bum': 5119, 'itsagunalright': 5120, 'ninaturner': 5121, 'bernblade': 5122, 'lisavikingstad': 5123, 'whisper': 5124, 'centerpiece': 5125, 'overwhelming': 5126, 'nyquil': 5127, 'verse': 5128, 'ekg': 5129, 'actin': 5130, 'ere': 5131, 'header': 5132, 'basketball': 5133, 'prevelant': 5134, 'laura': 5135, 'constructive': 5136, 'criticism': 5137, 'retire': 5138, 'heather': 5139, 'sits': 5140, 'andisbench': 5141, 'sotoventures': 5142, 'tab': 5143, 'detachment': 5144, 'mbc': 5145, 'worm': 5146, 'devon': 5147, 'nihari': 5148, 'zionist': 5149, 'jewish': 5150, 'unboxing': 5151, 'staten': 5152, 'patriot': 5153, 'rookie': 5154, 'jacoby': 5155, 'brissett': 5156, 'vs': 5157, 'learning': 5158, 'hudcomedy': 5159, 'adamrowe': 5160, 'slutfaceshlongnugget': 5161, 'cleave': 5162, 'pakistanmustpay': 5163, 'physiatrists': 5164, 'overhear': 5165, 'salty': 5166, 'phil': 5167, 'webcast': 5168, 'bway': 5169, 'gershwin': 5170, 'sheikhhasina': 5171, 'urges': 5172, 'unroot': 5173, 'psa': 5174, 'furrow': 5175, 'redden': 5176, 'unattractive': 5177, 'wukong': 5178, 'osler': 5179, 'lodd': 5180, 'eyematter': 5181, 'skyfall': 5182, 'polish': 5183, 'baseball': 5184, 'angle': 5185, 'startasyoumeantogoon': 5186, 'inha': 5187, 'banter': 5188, 'chilly': 5189, 'congresscritters': 5190, 'fanz': 5191, 'secretly': 5192, 'masculine': 5193, 'morality': 5194, 'transcendent': 5195, 'leftover': 5196, 'stability': 5197, 'geopolitics': 5198, 'korea': 5199, 'vwo': 5200, 'aleppo': 5201, 'crossoverlife': 5202, 'slutty': 5203, 'bigotry': 5204, 'anxietyproblems': 5205, 'wallah': 5206, 'steak': 5207, 'supper': 5208, 'philanthropy': 5209, 'functional': 5210, 'hssu': 5211, 'julian': 5212, 'cassablancas': 5213, 'voidz': 5214, 'recording': 5215, 'severely': 5216, 'badkarma': 5217, 'aurora': 5218, 'strongwomen': 5219, 'weakmen': 5220, 'consistency': 5221, 'rough': 5222, 'affective': 5223, 'thebabybombers': 5224, 'yankee': 5225, 'yuppie': 5226, 'progressive': 5227, 'territorial': 5228, 'hesananimal': 5229, 'vitriolic': 5230, 'congrats': 5231, 'despise': 5232, 'rebuke': 5233, 'revision': 5234, 'direction': 5235, 'endlesspossibilities': 5236, 'stunning': 5237, 'stall': 5238, 'incomprehension': 5239, 'chicago': 5240, 'wheres': 5241, 'vein': 5242, 'cupcake': 5243, 'query': 5244, 'meantime': 5245, 'herothegreyhound': 5246, 'greyhound': 5247, 'kayaking': 5248, 'sevylor': 5249, 'inflatable': 5250, 'kayak': 5251, 'eyggjxml': 5252, 'tatoos': 5253, 'athletic': 5254, 'durag': 5255, 'garrett': 5256, 'technician': 5257, 'flail': 5258, 'paw': 5259, 'lemon': 5260, 'judgelynntoler': 5261, 'specter': 5262, 'passport': 5263, 'healingjustice': 5264, 'entity': 5265, 'quatrain': 5266, 'vigilant': 5267, 'complexptsd': 5268, 'postpone': 5269, 'twenty': 5270, 'concur': 5271, 'session': 5272, 'expire': 5273, 'proven': 5274, 'parcel': 5275, 'poorcustomerservice': 5276, 'defensive': 5277, 'pajamas': 5278, 'sweetheart': 5279, 'spur': 5280, 'commentator': 5281, 'mauricio': 5282, 'pochettino': 5283, 'surge': 5284, 'qualify': 5285, 'employment': 5286, 'accomplishment': 5287, 'messageboard': 5288, 'airplane': 5289, 'americanairlines': 5290, 'americanairlinessucks': 5291, 'aateam': 5292, 'viral': 5293, 'ballet': 5294, 'wrongfully': 5295, 'pointe': 5296, 'rocklandcounty': 5297, 'ravis': 5298, 'suffern': 5299, 'chef': 5300, 'appetizer': 5301, 'conundrum': 5302, 'abysmal': 5303, 'frivolity': 5304, 'italian': 5305, 'stupefy': 5306, 'roland': 5307, 'bainton': 5308, 'luther': 5309, 'reformationday': 5310, 'owe': 5311, 'hiding': 5312, 'overdue': 5313, 'accuse': 5314, 'gazillion': 5315, 'parrot': 5316, 'mega': 5317, 'solution': 5318, 'criminal': 5319, 'confimation': 5320, 'inbreds': 5321, 'barca': 5322, 'glory': 5323, 'wptmain': 5324, 'undifferentiated': 5325, 'patent': 5326, 'patron': 5327, 'braininess': 5328, 'whyanewg': 5329, 'situ': 5330, 'snitch': 5331, 'differs': 5332, 'bedifferent': 5333, 'westgate': 5334, 'nairobi': 5335, 'blairwitch': 5336, 'blairwitchproject': 5337, 'fogo': 5338, 'pe': 5339, 'destroyer': 5340, 'shanghai': 5341, 'pampa': 5342, 'dingle': 5343, 'uudqujcia': 5344, 'device': 5345, 'teles': 5346, 'called': 5347, 'cardiac': 5348, 'medchat': 5349, 'worldwide': 5350, 'twooo': 5351, 'painting': 5352, 'orange': 5353, 'baker': 5354, 'sulky': 5355, 'dyson': 5356, 'flashback': 5357, 'worship': 5358, 'kendrick': 5359, 'tesco': 5360, 'electron': 5361, 'eric': 5362, 'revel': 5363, 'gabriel': 5364, 'frowning': 5365, 'conciousness': 5366, 'painful': 5367, 'elliot': 5368, 'kickoff': 5369, 'jumpship': 5370, 'unprofessional': 5371, 'whathappenedtocustomerservice': 5372, 'greatness': 5373, 'stove': 5374, 'skeptical': 5375, 'charlotteriot': 5376, 'parris': 5377, 'jin': 5378, 'princejinyoungday': 5379, 'happyjinyoungday': 5380, 'alexandria': 5381, 'goddard': 5382, 'deric': 5383, 'purely': 5384, 'fishin': 5385, 'expedition': 5386, 'terencecutcher': 5387, 'onthe': 5388, 'helicopter': 5389, 'determined': 5390, 'beasts': 5391, 'restrained': 5392, 'token': 5393, 'glasgowgirls': 5394, 'uproarious': 5395, 'uplifting': 5396, 'oompa': 5397, 'loompa': 5398, 'presidenttrump': 5399, 'relaxationiskey': 5400, 'phedophiliac': 5401, 'ptsd': 5402, 'boob': 5403, 'tatenashi': 5404, 'youtubers': 5405, 'cell': 5406, 'cucks': 5407, 'harambe': 5408, 'swan': 5409, 'ashamed': 5410, 'ally': 5411, 'sioux': 5412, 'valley': 5413, 'dell': 5414, 'twd': 5415, 'deephouse': 5416, 'fawn': 5417, 'mindset': 5418, 'philosophy': 5419, 'thoughtsbecomethings': 5420, 'lifehacks': 5421, 'pleasert': 5422, 'problemsolving': 5423, 'aspect': 5424, 'consciousness': 5425, 'attachment': 5426, 'apathy': 5427, 'sentimentality': 5428, 'henderson': 5429, 'seenitbefore': 5430, 'sobriety': 5431, 'cardiff': 5432, 'onus': 5433, 'colada': 5434, 'starburst': 5435, 'memorable': 5436, 'sentient': 5437, 'gn': 5438, 'strand': 5439, 'maself': 5440, 'gaff': 5441, 'ukip': 5442, 'wit': 5443, 'bravado': 5444, 'vols': 5445, 'fl': 5446, 'makingamurderer': 5447, 'brendan': 5448, 'reallife': 5449, 'frustrates': 5450, 'misplace': 5451, 'assembly': 5452, 'cone': 5453, 'georgia': 5454, 'drain': 5455, 'needtosleepforhours': 5456, 'nutella': 5457, 'nots': 5458, 'ivory': 5459, 'propensity': 5460, 'fuuuuuuuck': 5461, 'stageschool': 5462, 'flatters': 5463, 'embarrassment': 5464, 'hahahah': 5465, 'lem': 5466, 'rearrange': 5467, 'seep': 5468, 'precious': 5469, 'monica': 5470, 'regularly': 5471, 'hardy': 5472, 'brooke': 5473, 'gundlach': 5474, 'protects': 5475, 'generates': 5476, 'bind': 5477, 'context': 5478, 'scottish': 5479, 'accent': 5480, 'dufftown': 5481, 'murraymcdavid': 5482, 'dram': 5483, 'donalds': 5484, 'rehoi': 5485, 'aja': 5486, 'picnic': 5487, 'bettertogether': 5488, 'def': 5489, 'drone': 5490, 'src': 5491, 'deployment': 5492, 'ku': 5493, 'macom': 5494, 'evenmoreblind': 5495, 'screech': 5496, 'entice': 5497, 'clt': 5498, 'playoff': 5499, 'standuptocancer': 5500, 'needhelp': 5501, 'larry': 5502, 'sander': 5503, 'morons': 5504, 'fu': 5505, 'chop': 5506, 'robinhoodhour': 5507, 'bizitalk': 5508, 'southyorkshire': 5509, 'mansfieldhour': 5510, 'sheffieldhour': 5511, 'nottshour': 5512, 'hialeshia': 5513, 'casuals': 5514, 'faved': 5515, 'eft': 5516, 'tool': 5517, 'curtis': 5518, 'pereira': 5519, 'biz': 5520, 'awh': 5521, 'cheese': 5522, 'lovemysleep': 5523, 'hamstring': 5524, 'assault': 5525, 'thine': 5526, 'chd': 5527, 'weirdwednesday': 5528, 'sack': 5529, 'battery': 5530, 'rebuild': 5531, 'whatsoever': 5532, 'phew': 5533, 'efl': 5534, 'aniston': 5535, 'soywax': 5536, 'limited': 5537, 'grin': 5538, 'orconservative': 5539, 'sprightly': 5540, 'lengthen': 5541, 'seo': 5542, 'wgj': 5543, 'malik': 5544, 'potential': 5545, 'steer': 5546, 'gu': 5547, 'belief': 5548, 'treadlines': 5549, 'deadline': 5550, 'luckii': 5551, 'shennan': 5552, 'noah': 5553, 'ark': 5554, 'feelz': 5555, 'nominatebunkface': 5556, 'craigen': 5557, 'quarterback': 5558, 'geometry': 5559, 'canning': 5560, 'andrew': 5561, 'anu': 5562, 'customerexperience': 5563, 'rhyme': 5564, 'kardashians': 5565, 'caste': 5566, 'village': 5567, 'chaudhry': 5568, 'lordderply': 5569, 'yugioh': 5570, 'snowgang': 5571, 'princess': 5572, 'fitness': 5573, 'bodyposi': 5574, 'whitegirlwednesday': 5575, 'ftw': 5576, 'drained': 5577, 'comedic': 5578, 'modernfamily': 5579, 'liam': 5580, 'distant': 5581, 'will': 5582, 'uncontrollable': 5583, 'grumble': 5584, 'atop': 5585, 'sushi': 5586, 'defiantly': 5587, 'gesture': 5588, 'lifeguard': 5589, 'swimmer': 5590, 'vc': 5591, 'cushion': 5592, 'liquor': 5593, 'shamefull': 5594, 'unequal': 5595, 'worrying': 5596, 'shitworldforourkids': 5597, 'lvg': 5598, 'overtime': 5599, 'writerproblems': 5600, 'gra': 5601, 'erykah': 5602, 'badu': 5603, 'kin': 5604, 'dpt': 5605, 'discouraged': 5606, 'redundant': 5607, 'nyssaalghul': 5608, 'elphie': 5609, 'grimmerie': 5610, 'drift': 5611, 'boutta': 5612, 'mono': 5613, 'apps': 5614, 'underneath': 5615, 'pierce': 5616, 'armour': 5617, 'numbness': 5618, 'heavyheart': 5619, 'amerikkka': 5620, 'kkkops': 5621, 'dragoness': 5622, 'nostril': 5623, 'nod': 5624, 'engage': 5625, 'landlord': 5626, 'cryptic': 5627, 'unclecamscabin': 5628, 'electro': 5629, 'captivate': 5630, 'poetic': 5631, 'exciting': 5632, 'ctid': 5633, 'mommagrendel': 5634, 'returned': 5635, 'mcdanno': 5636, 'rep': 5637, 'cube': 5638, 'judy': 5639, 'sponsorship': 5640, 'recovery': 5641, 'cantconacon': 5642, 'filmmaker': 5643, 'journalism': 5644, 'anyyyyone': 5645, 'otisredding': 5646, 'conduct': 5647, 'anonymously': 5648, 'vsvplou': 5649, 'pastry': 5650, 'dive': 5651, 'murky': 5652, 'keithscott': 5653, 'warrant': 5654, 'tvgirl': 5655, 'melancholic': 5656, 'ooh': 5657, 'hygge': 5658, 'jasmine': 5659, 'wick': 5660, 'flick': 5661, 'scarf': 5662, 'noble': 5663, 'immodest': 5664, 'backyard': 5665, 'defender': 5666, 'dunk': 5667, 'mexico': 5668, 'diss': 5669, 'drake': 5670, 'rihanna': 5671, 'chemistry': 5672, 'katherine': 5673, 'dyke': 5674, 'rarely': 5675, 'selasi': 5676, 'gerard': 5677, 'mooncup': 5678, 'hallucination': 5679, 'beckett': 5680, 'bain': 5681, 'cash': 5682, 'sunbed': 5683, 'successful': 5684, 'moto': 5685, 'kg': 5686, 'glen': 5687, 'queensbury': 5688, 'morrison': 5689, 'festoon': 5690, 'piano': 5691, 'nexttt': 5692, 'hoy': 5693, 'brazy': 5694, 'giroud': 5695, 'beard': 5696, 'fatloss': 5697, 'brew': 5698, 'desication': 5699, 'perfection': 5700, 'kennen': 5701, 'senile': 5702, 'recently': 5703, 'shes': 5704, 'papercuts': 5705, 'stub': 5706, 'sec': 5707, 'middleeast': 5708, 'jumin': 5709, 'patience': 5710, 'afterlife': 5711, 'nooooooooooooooooooooo': 5712, 'mischievous': 5713, 'nerd': 5714, 'nickel': 5715, 'earhole': 5716, 'york': 5717, 'boxer': 5718, 'commando': 5719, 'starbucks': 5720, 'liberated': 5721, 'cal': 5722, 'delhi': 5723, 'acrid': 5724, 'po': 5725, 'freezing': 5726, 'throughout': 5727, 'apologist': 5728, 'inadvertently': 5729, 'mindless': 5730, 'beast': 5731, 'elphaba': 5732, 'aggravation': 5733, 'pitched': 5734, 'cappuccino': 5735, 'layer': 5736, 'misinformation': 5737, 'concession': 5738, 'shortsightedness': 5739, 'spar': 5740, 'hilt': 5741, 'icy': 5742, 'unfortunate': 5743, 'khloe': 5744, 'cognitive': 5745, 'dissonance': 5746, 'morgs': 5747, 'rachel': 5748, 'pole': 5749, 'rapeseed': 5750, 'bitcoin': 5751, 'neverquit': 5752, 'dreambig': 5753, 'teamtto': 5754, 'attractive': 5755, 'brodcast': 5756, 'donking': 5757, 'cavalierly': 5758, 'loving': 5759, 'onision': 5760, 'plymouth': 5761, 'whu': 5762, 'afc': 5763, 'dilemma': 5764, 'blaiming': 5765, 'endorsement': 5766, 'becouse': 5767, 'cleanse': 5768, 'characteristic': 5769, 'activism': 5770, 'equity': 5771, 'benefit': 5772, 'jkuvmvqxy': 5773, 'offering': 5774, 'palace': 5775, 'martyrsnotbeggars': 5776, 'adrian': 5777, 'pouting': 5778, 'hanger': 5779, 'hashtags': 5780, 'complains': 5781, 'realist': 5782, 'adjust': 5783, 'sail': 5784, 'arthur': 5785, 'ignite': 5786, 'doggy': 5787, 'barrack': 5788, 'gws': 5789, 'jag': 5790, 'goldmedal': 5791, 'wrongproduct': 5792, 'shed': 5793, 'entrenepuers': 5794, 'ups': 5795, 'sme': 5796, 'proactive': 5797, 'accountancy': 5798, 'crew': 5799, 'gorgeous': 5800, 'newbie': 5801, 'malice': 5802, 'sibling': 5803, 'estrange': 5804, 'misplaced': 5805, 'sleepnumber': 5806, 'unimpressive': 5807, 'worn': 5808, 'colinkaepernick': 5809, 'unjust': 5810, 'carolina': 5811, 'speakout': 5812, 'afaik': 5813, 'midst': 5814, 'createsyria': 5815, 'talkingpeace': 5816, 'buildingpeace': 5817, 'southend': 5818, 'jayme': 5819, 'rodrigo': 5820, 'duterte': 5821, 'vincent': 5822, 'hattrick': 5823, 'baku': 5824, 'prevent': 5825, 'armenian': 5826, 'chusssss': 5827, 'eventual': 5828, 'destruction': 5829, 'sherlock': 5830, 'holmes': 5831, 'makeover': 5832, 'ewr': 5833, 'unitedairlines': 5834, 'bow': 5835, 'oligodendroglioma': 5836, 'curious': 5837, 'disdain': 5838, 'crinkle': 5839, 'bonnie': 5840, 'belle': 5841, 'absurd': 5842, 'wakeupcall': 5843, 'verge': 5844, 'down': 5845, 'uncle': 5846, 'remus': 5847, 'foh': 5848, 'theydontlikeyoueither': 5849, 'unwoke': 5850, 'sleepissues': 5851, 'narcolepsy': 5852, 'intensely': 5853, 'turnover': 5854, 'akon': 5855, 'bantz': 5856, 'notch': 5857, 'cisco': 5858, 'io': 5859, 'vulnerability': 5860, 'patch': 5861, 'osha': 5862, 'military': 5863, 'eachother': 5864, 'wrinkle': 5865, 'owen': 5866, 'garriott': 5867, 'natong': 5868, 'duha': 5869, 'plate': 5870, 'communism': 5871, 'prevail': 5872, 'wholly': 5873, 'capo': 5874, 'ollafest': 5875, 'cowboy': 5876, 'toomuchhype': 5877, 'mediocrity': 5878, 'advise': 5879, 'yiu': 5880, 'willxbe': 5881, 'froa': 5882, 'unavoidable': 5883, 'kikmessage': 5884, 'boredaf': 5885, 'snapchatme': 5886, 'countrygirl': 5887, 'evident': 5888, 'sufc': 5889, 'marcos': 5890, 'hearted': 5891, 'homosexuality': 5892, 'christianity': 5893, 'foursquare': 5894, 'kipling': 5895, 'derbyshire': 5896, 'freepizza': 5897, 'shamble': 5898, 'fiddle': 5899, 'debacle': 5900, 'yuk': 5901, 'happily': 5902, 'unprovoked': 5903, 'stategames': 5904, 'captain': 5905, 'shootthegerman': 5906, 'unwittingly': 5907, 'ferocious': 5908, 'reusable': 5909, 'temperament': 5910, 'hissyfits': 5911, 'ravenclaw': 5912, 'shouldhavebeenhufflepuff': 5913, 'rhabdo': 5914, 'metro': 5915, 'lrt': 5916, 'walterdale': 5917, 'yeg': 5918, 'aye': 5919, 'hashtag': 5920, 'unsubscribed': 5921, 'avanquest': 5922, 'software': 5923, 'tgit': 5924, 'illusion': 5925, 'ladygaga': 5926, 'iscalming': 5927, 'mysoul': 5928, 'hesitantly': 5929, 'brush': 5930, 'manga': 5931, 'overdone': 5932, 'downhearted': 5933, 'consumer': 5934, 'ovth': 5935, 'tomourssuck': 5936, 'prayinsnotcancer': 5937, 'burslem': 5938, 'looooool': 5939, 'supply': 5940, 'unfollow': 5941, 'trolling': 5942, 'collateral': 5943, 'bigman': 5944, 'comparison': 5945, 'emulate': 5946, 'loveet': 5947, 'mild': 5948, 'shouldofvotedfornicole': 5949, 'blinder': 5950, 'youfm': 5951, 'tg': 5952, 'clemvsgt': 5953, 'convict': 5954, 'trp': 5955, 'tread': 5956, 'homilyhour': 5957, 'cx': 5958, 'relate': 5959, 'lakis': 5960, 'cyprus': 5961, 'friedrich': 5962, 'nietzsche': 5963, 'friedrichnietzsche': 5964, 'nffc': 5965, 'mucho': 5966, 'lib': 5967, 'timetogrind': 5968, 'countryside': 5969, 'snore': 5970, 'tl': 5971, 'boredom': 5972, 'disgracefulesin': 5973, 'esinscountdown': 5974, 'persuasion': 5975, 'awkwardly': 5976, 'pedal': 5977, 'nutter': 5978, 'impulsive': 5979, 'critic': 5980, 'opponent': 5981, 'voxconversations': 5982, 'aarp': 5983, 's': 5984, 'belie': 5985, 'liking': 5986, 'dis': 5987, 'bls': 5988, 'blake': 5989, 'lia': 5990, 'litany': 5991, 'primarily': 5992, 'lessens': 5993, 'remo': 5994, 'undesirable': 5995, 'darren': 5996, 'exclusivity': 5997, 'label': 5998, 'devy': 5999, 'gestort': 6000, 'aber': 6001, 'geil': 6002, 'flirting': 6003, 'inactive': 6004, 'macos': 6005, 'squeal': 6006, 'relentlessly': 6007, 'optimistic': 6008, 'disposition': 6009, 'grate': 6010, 'alan': 6011, 'duff': 6012, 'foundational': 6013, 'dosomething': 6014, 'thankyou': 6015, 'wholeworld': 6016, 'afew': 6017, 'audio': 6018, 'arab': 6019, 'basis': 6020, 'multimillionaire': 6021, 'brat': 6022, 'starter': 6023, 'semi': 6024, 'auto': 6025, 'wah': 6026, 'frm': 6027, 'soundtrack': 6028, 'litigator': 6029, 'trumppuppet': 6030, 'felon': 6031, 'nigt': 6032, 'grandad': 6033, 'hometown': 6034, 'speakinh': 6035, 'termination': 6036, 'heartbreak': 6037, 'srry': 6038, 'chestnut': 6039, 'caballero': 6040, 'vitals': 6041, 'vivid': 6042, 'noel': 6043, 'edmonds': 6044, 'reckons': 6045, 'uncertainty': 6046, 'div': 6047, 'leictershireaway': 6048, 'therey': 6049, 'raisingtheboss': 6050, 'oligarchs': 6051, 'thee': 6052, 'thrive': 6053, 'traditionalist': 6054, 'allergic': 6055, 'wyd': 6056, 'immediate': 6057, 'gps': 6058, 'googlemaps': 6059, 'blondmoment': 6060, 'makin': 6061, 'endless': 6062, 'siguemeytesigo': 6063, 'venezuela': 6064, 'lowe': 6065, 'testimony': 6066, 'fellowship': 6067, 'gospel': 6068, 'exited': 6069, 'pround': 6070, 'colleen': 6071, 'earnest': 6072, 'netizen': 6073, 'niall': 6074, 'luca': 6075, 'sences': 6076, 'olive': 6077, 'southampton': 6078, 'shantosh': 6079, 'milton': 6080, 'disclose': 6081, 'cholroform': 6082, 'aghast': 6083, 'prioritise': 6084, 'evidently': 6085, 'norm': 6086, 'lawsuit': 6087, 'nascar': 6088, 'accommodate': 6089, 'kai': 6090, 'ridicule': 6091, 'saddness': 6092, 'afterellen': 6093, 'shitsucks': 6094, 'blackish': 6095, 'ewu': 6096, 'lament': 6097, 'poem': 6098, 'intentional': 6099, 'systemic': 6100, 'rugby': 6101, 'rooster': 6102, 'nrl': 6103, 'daft': 6104, 'grayson': 6105, 'criminalize': 6106, 'diesel': 6107, 'lacan': 6108, 'infant': 6109, 'thisbhuge': 6110, 'afford': 6111, 'sangria': 6112, 'tantalize': 6113, 'tapas': 6114, 'minutesfromhom': 6115, 'silverlake': 6116, 'floated': 6117, 'hungover': 6118, 'faced': 6119, 'thorpe': 6120, 'welp': 6121, 'dutch': 6122, 'stopbullying': 6123, 'eaxh': 6124, 'lovewins': 6125, 'widely': 6126, 'accountability': 6127, 'unbelievably': 6128, 'ot': 6129, 'pauline': 6130, 'epistle': 6131, 'countless': 6132, 'pjs': 6133, 'prowess': 6134, 'phenomenal': 6135, '珞': 6136, 'lmaooo': 6137, 'rockin': 6138, 'singin': 6139, 'lpco': 6140, 'klassic': 6141, 'classicrock': 6142, 'klassicrock': 6143, 'rocknroll': 6144, 'onlineradio': 6145, 'instrument': 6146, 'bbq': 6147, 'reluctantly': 6148, 'biiitttccchhhhhh': 6149, 'ahsaftershow': 6150, 'mamasitas': 6151, 'hunk': 6152, 'ridge': 6153, 'oelrichs': 6154, 'outthere': 6155, 'inthedark': 6156, 'eh': 6157, 'cactus': 6158, 'wcw': 6159, 'griffin': 6160, 'lakeside': 6161, 'ciara': 6162, 'asks': 6163, 'julie': 6164, 'claire': 6165, 'bolt': 6166, 'keeptalkin': 6167, 'wreckinso': 6168, 'brandonmanitoba': 6169, 'pencil': 6170, 'profiling': 6171, 'edt': 6172, 'monsoonuk': 6173, 'fufill': 6174, 'moretears': 6175, 'chalk': 6176, 'notation': 6177, 'entree': 6178, 'inasmuch': 6179, 'corinthian': 6180, 'branding': 6181, 'arwuevfqv': 6182, 'caress': 6183, 'lick': 6184, 'veggie': 6185, 'develop': 6186, 'charisma': 6187, 'coke': 6188, 'paycheck': 6189, 'estate': 6190, 'wrist': 6191, 'float': 6192, 'overpower': 6193, 'nerfed': 6194, 'prisoner': 6195, 'beck': 6196, 'decoration': 6197, 'ravi': 6198, 'vixx': 6199, 'unmatched': 6200, 'specialist': 6201, 'title': 6202, 'basslessons': 6203, 'groove': 6204, 'meaningful': 6205, 'pawn': 6206, 'chaotic': 6207, 'noseriously': 6208, 'ghastinoir': 6209, 'toofaced': 6210, 'ig': 6211, 'archie': 6212, 'futile': 6213, 'battlefield': 6214, 'showcase': 6215, 'frisco': 6216, 'tx': 6217, 'kgb': 6218, 'cas': 6219, 'leafyszerker': 6220, 'odi': 6221, 'hitter': 6222, 'shutupphilsimms': 6223, 'financial': 6224, 'theft': 6225, 'icantholdmybreaththatlong': 6226, 'inglorious': 6227, 'distinguish': 6228, 'joviality': 6229, 'vawyzad': 6230, 'slag': 6231, 'compelling': 6232, 'blockade': 6233, 'starving': 6234, 'yemen': 6235, 'dosomethingpoliticans': 6236, 'broad': 6237, 'aviataube': 6238, 'pitt': 6239, 'trashy': 6240, 'modicum': 6241, 'backbone': 6242, 'occurs': 6243, 'pap': 6244, 'progrm': 6245, 'rebate': 6246, 'gopoversight': 6247, 'mylan': 6248, 'adder': 6249, 'radical': 6250, 'surrender': 6251, 'visible': 6252, 'aww': 6253, 'virtually': 6254, 'inferno': 6255, 'driven': 6256, 'gerrard': 6257, 'modric': 6258, 'bernabéu': 6259, 'viallreal': 6260, 'ukedchat': 6261, 'ms': 6262, 'remainer': 6263, 'funereal': 6264, 'foyer': 6265, 'moscow': 6266, 'fortify': 6267, 'jd': 6268, 'villa': 6269, 'unreal': 6270, 'hyper': 6271, 'predator': 6272, 'heckler': 6273, 'cakeclubhour': 6274, 'fairly': 6275, 'updated': 6276, 'imessage': 6277, 'misogynistic': 6278, 'chickflick': 6279, 'comethefuckonbridget': 6280, 'puerto': 6281, 'rican': 6282, 'taino': 6283, 'targeted': 6284, 'sorethroat': 6285, 'fallweather': 6286, 'carletonuniversity': 6287, 'ottawa': 6288, 'amyah': 6289, 'classmate': 6290, 'hallelujah': 6291, 'kapernick': 6292, 'kneel': 6293, 'fuking': 6294, 'jongdae': 6295, 'rumour': 6296, 'girlfriend': 6297, 'wgm': 6298, 'maddie': 6299, 'shuck': 6300, 'fancam': 6301, 'scfc': 6302, 'tbptv': 6303, 'thunder': 6304, 'shew': 6305, 'greenville': 6306, 'judgement': 6307, 'sway': 6308, 'realm': 6309, 'knowing': 6310, 'sagin': 6311, 'booming': 6312, 'oblivious': 6313, 'territory': 6314, 'derange': 6315, 'leafy': 6316, 'roast': 6317, 'pokemon': 6318, 'mebbe': 6319, 'ew': 6320, 'crookedcourt': 6321, 'killing': 6322, 'petits': 6323, 'hayes': 6324, 'komisarjevsky': 6325, 'haddrell': 6326, 'sep': 6327, 'tunbridgewells': 6328, 'streatham': 6329, 'cmn': 6330, 'junc': 6331, 'biological': 6332, 'counting': 6333, 'stem': 6334, 'impend': 6335, 'dann': 6336, 'aka': 6337, 'django': 6338, 'unchain': 6339, 'titter': 6340, 'indvsnz': 6341, 'hatebeinglate': 6342, 'dk': 6343, 'surprisingly': 6344, 'dp': 6345, 'takeabreak': 6346, 'surfer': 6347, 'vacuum': 6348, 'biology': 6349, 'department': 6350, 'graham': 6351, 'brownie': 6352, 'spill': 6353, 'thier': 6354, 'sadnnes': 6355, 'oi': 6356, 'grindah': 6357, 'hahahahahahaha': 6358, 'nightlife': 6359, 'nightlifeent': 6360, 'gatewayarch': 6361, 'stlouis': 6362, 'washingtonave': 6363, 'embrace': 6364, 'imply': 6365, 'connivers': 6366, 'working': 6367, 'ponder': 6368, 'transgender': 6369, 'loki': 6370, 'automatic': 6371, 'worldsapp': 6372, 'appsworld': 6373, 'boycott': 6374, 'pecan': 6375, 'shawarma': 6376, 'frisk': 6377, 'deblasio': 6378, 'rein': 6379, 'loughborough': 6380, 'tinge': 6381, 'bsg': 6382, 'consistent': 6383, 'yawn': 6384, 'overdose': 6385, 'scritching': 6386, 'amndbots': 6387, 'wag': 6388, 'tail': 6389, 'frisbee': 6390, 'miley': 6391, 'alicia': 6392, 'contestant': 6393, 'therewillbeblood': 6394, 'kernel': 6395, 'sweating': 6396, 'sneeze': 6397, 'hiccup': 6398, 'snot': 6399, 'chilli': 6400, 'nell': 6401, 'nanny': 6402, 'appreciation': 6403, 'relaxed': 6404, 'eliza': 6405, 'neals': 6406, 'makeamericasafeagain': 6407, 'refuge': 6408, 'hireling': 6409, 'stk': 6410, 'slim': 6411, 'thatsmyluck': 6412, 'associate': 6413, 'conflate': 6414, 'dyslexia': 6415, 'richards': 6416, 'firsttweetever': 6417, 'sippin': 6418, 'hotchocolate': 6419, 'hellloooootwitter': 6420, 'facebookisforfamily': 6421, 'voteyourconscience': 6422, 'succumb': 6423, 'hillaryclinton': 6424, 'patriotact': 6425, 'platform': 6426, 'officialy': 6427, 'hizbul': 6428, 'cardinal': 6429, 'fibromyalgia': 6430, 'overwhelmed': 6431, 'lysol': 6432, 'febreeze': 6433, 'factory': 6434, 'dreamboys': 6435, 'dispel': 6436, 'cohen': 6437, 'ecosystem': 6438, 'going': 6439, 'importance': 6440, 'arsene': 6441, 'crock': 6442, 'indiemusic': 6443, 'customerservicefail': 6444, 'cudi': 6445, 'travis': 6446, 'distraught': 6447, 'trainer': 6448, 'soulless': 6449, 'identical': 6450, 'consumerism': 6451, 'anychance': 6452, 'thiza': 6453, 'nurse': 6454, 'dent': 6455, 'hail': 6456, 'reclaim': 6457, 'cluboftheyear': 6458, 'hipster': 6459, 'grape': 6460, 'citizen': 6461, 'yf': 6462, 'confidence': 6463, 'heyyyy': 6464, 'impotent': 6465, 'efficient': 6466, 'redefine': 6467, 'acount': 6468, 'sabr': 6469, 'bible': 6470, 'whore': 6471, 'horseman': 6472, 'synth': 6473, 'backing': 6474, 'depresspop': 6475, 'alt': 6476, 'fuckingmeup': 6477, 'stupendous': 6478, 'memphis': 6479, 'nationalsecurity': 6480, 'deuce': 6481, 'kanye': 6482, 'unprepared': 6483, 'protocol': 6484, 'ap': 6485, 'productive': 6486, 'gb': 6487, 'kalil': 6488, 'asset': 6489, 'granger': 6490, 'zales': 6491, 'grizzly': 6492, 'scatter': 6493, 'inyourneighborhoodnotdc': 6494, 'hoe': 6495, 'hellorhighwater': 6496, 'gripping': 6497, 'broccoli': 6498, 'parenting': 6499, 'sta': 6500, 'redheadteen': 6501, 'boldandbeautiful': 6502, 'schkeuditz': 6503, 'strongly': 6504, 'heh': 6505, 'chappy': 6506, 'cureforinsomnia': 6507, 'definition': 6508, 'vandalism': 6509, 'battered': 6510, 'convinced': 6511, 'tasers': 6512, 'immobilize': 6513, 'taser': 6514, 'harry': 6515, 'discriminatory': 6516, 'mandate': 6517, 'cigarette': 6518, 'saf': 6519, 'tolerate': 6520, 'fails': 6521, 'inhuman': 6522, 'tgmbnquee': 6523, 'simonnricketts': 6524, 'hypocritical': 6525, 'monalisa': 6526, 'thejail': 6527, 'selenagomez': 6528, 'revival': 6529, 'applemusic': 6530, 'truck': 6531, 'glove': 6532, 'hbu': 6533, 'reassure': 6534, 'wing': 6535, 'trumppence': 6536, 'censored': 6537, 'strumbellas': 6538, 'censorship': 6539, 'luvvvv': 6540, 'theanswer': 6541, 'spiritu': 6542, 'extreme': 6543, 'liver': 6544, 'haunting': 6545, 'genre': 6546, 'crimewatch': 6547, 'desk': 6548, 'philadelphia': 6549, 'sharpton': 6550, 'thefive': 6551, 'tilli': 6552, 'ole': 6553, 'tmrw': 6554, 'flake': 6555, 'tattooing': 6556, 'remarkable': 6557, 'raging': 6558, 'obnoxiously': 6559, 'complaining': 6560, 'upsetting': 6561, 'letdown': 6562, 'worldpeaceday': 6563, 'organ': 6564, 'sooooo': 6565, 'gratitude': 6566, 'amidst': 6567, 'fixer': 6568, 'turnt': 6569, 'ruint': 6570, 'firesauce': 6571, 'hotsauce': 6572, 'mildsauce': 6573, 'getsauced': 6574, 'champagnedreams': 6575, 'riteing': 6576, 'wots': 6577, 'happond': 6578, 'plese': 6579, 'deed': 6580, 'gurls': 6581, 'liverpool': 6582, 'anfield': 6583, 'wavy': 6584, 'mcdonalds': 6585, 'aspie': 6586, 'despondent': 6587, 'creator': 6588, 'bacheloretteau': 6589, 'zoolander': 6590, 'samvrhys': 6591, 'probs': 6592, 'fresher': 6593, 'islamophobic': 6594, 'fellaini': 6595, 'dfs': 6596, 'sims': 6597, 'dual': 6598, 'sim': 6599, 'od': 6600, 'aidy': 6601, 'physic': 6602, 'tristan': 6603, 'plaster': 6604, 'diminishes': 6605, 'parks': 6606, 'anthony': 6607, 'dubai': 6608, 'firework': 6609, 'moisturize': 6610, 'elbow': 6611, 'possess': 6612, 'undergraduate': 6613, 'nojobsinbiology': 6614, 'uofw': 6615, 'beating': 6616, 'optic': 6617, 'toussaintromain': 6618, 'banana': 6619, 'chia': 6620, 'essence': 6621, 'proficiency': 6622, 'pikxb': 6623, 'whereismyfurniture': 6624, 'ripkara': 6625, 'dissociating': 6626, 'roy': 6627, 'pawpaw': 6628, 'mackinonns': 6629, 'mitt': 6630, 'silky': 6631, 'teamna': 6632, 'spanish': 6633, 'floss': 6634, 'heartbeat': 6635, 'furry': 6636, 'ozzie': 6637, 'creamy': 6638, 'pesto': 6639, 'pasta': 6640, 'grilled': 6641, 'asparagus': 6642, 'moving': 6643, 'fredsirieix': 6644, 'peckham': 6645, 'guru': 6646, 'ceo': 6647, 'charity': 6648, 'reasonably': 6649, 'crudely': 6650, 'mexican': 6651, 'preschool': 6652, 'welfare': 6653, 'allllat': 6654, 'shaker': 6655, 'clench': 6656, 'digest': 6657, 'porridge': 6658, 'hated': 6659, 'showmance': 6660, 'uglycry': 6661, 'archangelsummit': 6662, 'nhlnycsweepstakes': 6663, 'jade': 6664, 'tenderhearted': 6665, 'invigorate': 6666, 'everythin': 6667, 'earphone': 6668, 'sg': 6669, 'fattening': 6670, 'coronary': 6671, 'soloist': 6672, 'dl': 6673, 'sarwar': 6674, 'breed': 6675, 'waltzwithbashir': 6676, 'lebanon': 6677, 'transmission': 6678, 'gobsmacked': 6679, 'goksfillyourhouseforfree': 6680, 'retitled': 6681, 'repaint': 6682, 'whaaaooo': 6683, 'balotelli': 6684, 'ie': 6685, 'focal': 6686, 'violentextremism': 6687, 'occasional': 6688, 'rashford': 6689, 'unfailingly': 6690, 'maker': 6691, 'geo': 6692, 'dave': 6693, 'beginning': 6694, 'register': 6695, 'halifax': 6696, 'permission': 6697, 'anatomy': 6698, 'germ': 6699, 'doj': 6700, 'adultingistheworst': 6701, 'aico': 6702, 'immolation': 6703, 'succeed': 6704, 'akt': 6705, 'dint': 6706, 'sacred': 6707, 'campaignin': 6708, 'mankind': 6709, 'sif': 6710, 'locke': 6711, 'アニメ': 6712, 'alcohol': 6713, 'flare': 6714, 'garageband': 6715, 'staid': 6716, 'ott': 6717, 'hawking': 6718, 'approaching': 6719, 'idgi': 6720, 'alleged': 6721, 'troop': 6722, 'missingyou': 6723, 'autodealerlive': 6724, 'hurry': 6725, 'inject': 6726, 'yous': 6727, 'shitlib': 6728, 'pimp': 6729, 'scaredy': 6730, 'nfl': 6731, 'phrase': 6732, 'shittalking': 6733, 'occasionally': 6734, 'nsfw': 6735, 'tagsforlikes': 6736, 'tflers': 6737, 'tweegram': 6738, 'jumanji': 6739, 'kevin': 6740, 'hart': 6741, 'thisisaterribleidea': 6742, 'temporada': 6743, 'categ': 6744, 'obc': 6745, 'nill': 6746, 'minimize': 6747, 'fut': 6748, 'unchecked': 6749, 'artefact': 6750, 'blizzard': 6751, 'lifeisbeautiful': 6752, 'livewithpurpose': 6753, 'singlegirlproblems': 6754, 'yh': 6755, 'mixture': 6756, 'sewage': 6757, 'gross': 6758, 'getoffthetrain': 6759, 'smelly': 6760, 'anthonyweiner': 6761, 'distraction': 6762, 'selection': 6763, 'nodapl': 6764, 'thumper': 6765, 'mcternan': 6766, 'syrinx': 6767, 'notebook': 6768, 'goosebump': 6769, 'hr': 6770, 'youraffair': 6771, 'messageme': 6772, 'textme': 6773, 'tradepics': 6774, 'tripadvisor': 6775, 'granddesigns': 6776, 'wibbly': 6777, 'wobbly': 6778, 'plantation': 6779, 'worstenemy': 6780, 'thinktoomuch': 6781, 'motherland': 6782, 'buzzing': 6783, 'cheeky': 6784, 'squashie': 6785, 'expac': 6786, 'unfollowed': 6787, 'ahut': 6788, 'insurance': 6789, 'tm': 6790, 'tms': 6791, 'zandu': 6792, 'balm': 6793, 'billradkeradio': 6794, 'aspire': 6795, 'olympia': 6796, 'kuowrecord': 6797, 'parentsofaddicts': 6798, 'wellness': 6799, 'anon': 6800, 'speaker': 6801, 'bower': 6802, 'incur': 6803, 'lily': 6804, 'northampton': 6805, 'arround': 6806, 'unexpectedly': 6807, 'vent': 6808, 'doorjamb': 6809, 'designer': 6810, 'luis': 6811, 'scorning': 6812, 'detention': 6813, 'resettle': 6814, 'asylumseekers': 6815, 'manus': 6816, 'nauru': 6817, 'deceive': 6818, 'ominous': 6819, 'indoor': 6820, 'jape': 6821, 'used': 6822, 'teufel': 6823, 'sooner': 6824, 'mets': 6825, 'thirdbasecoach': 6826, 'lgm': 6827, 'gloria': 6828, 'thoughtful': 6829, 'malaysian': 6830, 'suspected': 6831, 'malaysia': 6832, 'depravity': 6833, 'medication': 6834, 'unrest': 6835, 'confesses': 6836, 'buzzinnnnnn': 6837, 'wae': 6838, 'nutt': 6839, 'dain': 6840, 'married': 6841, 'nopanicattack': 6842, 'bridgetjonesbaby': 6843, 'bridget': 6844, 'teammark': 6845, 'entry': 6846, 'germantownbroncos': 6847, 'lilleague': 6848, 'popwarner': 6849, 'usafootball': 6850, 'annemarieiam': 6851, 'started': 6852, 'homefronttherevolution': 6853, 'wasteofmoney': 6854, 'shallowness': 6855, 'hidden': 6856, 'rememberthe': 6857, 'rebut': 6858, 'teamchristine': 6859, 'tana': 6860, 'begging': 6861, 'skibbereen': 6862, 'emmerdale': 6863, 'robron': 6864, 'sl': 6865, 'podcast': 6866, 'refute': 6867, 'pussified': 6868, 'catacombs': 6869, 'wander': 6870, 'rue': 6871, 'madman': 6872, 'ripbiwott': 6873, 'oukos': 6874, 'retweeting': 6875, 'grammatical': 6876, 'mybad': 6877, 'supremely': 6878, 'datphan': 6879, 'soup': 6880, 'impeachtrump': 6881, 'spews': 6882, 'nuclearcodes': 6883, 'bonus': 6884, 'frightening': 6885, 'beyondthesphereofreasonabledoubt': 6886, 'pissy': 6887, 'thts': 6888, 'cantshakethis': 6889, 'theresistance': 6890, 'civildisobedience': 6891, 'lockhimup': 6892, 'ofa': 6893, 'analysis': 6894, 'cnbc': 6895, 'occur': 6896, 'lindsey': 6897, 'vonn': 6898, 'courseness': 6899, 'iwannacryy': 6900, 'halppp': 6901, 'synonym': 6902, 'distaste': 6903, 'charlii': 6904, 'cadance': 6905, 'larsen': 6906, 'distressed': 6907, 'wildlife': 6908, 'tgt': 6909, 'truthbomb': 6910, 'wimbledon': 6911, 'snowflake': 6912, 'tryit': 6913, 'batch': 6914, 'presume': 6915, 'richness': 6916, 'poorness': 6917, 'santosh': 6918, 'kalwar': 6919, 'hopkinsville': 6920, 'ky': 6921, 'eclipseacrossamerica': 6922, 'edgar': 6923, 'cayce': 6924, 'organise': 6925, 'thereof': 6926, 'incompetent': 6927, 'nopoint': 6928, 'massiveeyeroll': 6929, 'newark': 6930, 'kiosk': 6931, 'jaw': 6932, 'jeong': 6933, 'seunghoon': 6934, 'hahahahahahahahaha': 6935, 'hawaii': 6936, 'wating': 6937, 'willb': 6938, 'dey': 6939, 'rift': 6940, 'hommie': 6941, 'davido': 6942, 'vital': 6943, 'tequila': 6944, 'energetic': 6945, 'dancehall': 6946, 'disguise': 6947, 'prolific': 6948, 'lawrence': 6949, 'paragraph': 6950, 'summercamp': 6951, 'thomsonholidays': 6952, 'command': 6953, 'combine': 6954, 'execute': 6955, 'resilient': 6956, 'groovy': 6957, 'politicallycorrect': 6958, 'ethical': 6959, 'moral': 6960, 'streaks': 6961, 'photography': 6962, 'depp': 6963, 'climate': 6964, 'fanatic': 6965, 'guzzling': 6966, 'banish': 6967, 'somber': 6968, 'belong': 6969, 'chocolates': 6970, 'doesntdeservethem': 6971, 'mightbedead': 6972, 'april': 6973, 'thirteen': 6974, 'orwell': 6975, 'cowan': 6976, 'slimebag': 6977, 'feckin': 6978, 'tram': 6979, 'zain': 6980, 'behavour': 6981, 'vitara': 6982, 'brunei': 6983, 'hiya': 6984, 'pin': 6985, 'romance': 6986, 'wattpad': 6987, 'crabbe': 6988, 'welsh': 6989, 'tourism': 6990, 'ed': 6991, 'umbrella': 6992, 'pave': 6993, 'ksones': 6994, 'isones': 6995, 'rejection': 6996, 'indisciplined': 6997, 'grom': 6998, 'noon': 6999, 'vend': 7000, 'wheresthefunny': 7001, 'ipad': 7002, 'deplorables': 7003, 'denigrate': 7004, 'johnmccain': 7005, 'glioblastoma': 7006, 'incites': 7007, 'zanele': 7008, 'shortly': 7009, 'wetindeyhappen': 7010, 'satire': 7011, 'pidgin': 7012, 'staytuned': 7013, 'premiumtalkstation': 7014, 'snapmap': 7015, 'twitterpoll': 7016, 'technology': 7017, 'cnnmoney': 7018, 'eduardo': 7019, 'jeffee': 7020, 'pink': 7021, 'pointless': 7022, 'internship': 7023, 'remover': 7024, 'insulate': 7025, 'inept': 7026, 'nytimes': 7027, 'theo': 7028, 'tyla': 7029, 'ct': 7030, 'lump': 7031, 'pre': 7032, 'arcadian': 7033, 'wolf': 7034, 'blitzer': 7035, 'astronaut': 7036, 'crook': 7037, 'wanker': 7038, 'richbutgarbo': 7039, 'ruth': 7040, 'youngsta': 7041, 'beloved': 7042, 'avenge': 7043, 'unto': 7044, 'ooc': 7045, 'todd': 7046, 'peplamb': 7047, 'stevenfurtick': 7048, 'console': 7049, 'questionable': 7050, 'jenny': 7051, 'fangirl': 7052, 'mediocre': 7053, 'throne': 7054, 'spoiler': 7055, 'caleb': 7056, 'hypo': 7057, 'manic': 7058, 'nofriends': 7059, 'needfreinds': 7060, 'chatty': 7061, 'makefriend': 7062, 'ejaculate': 7063, 'nsd': 7064, 'girlpowertuesday': 7065, 'leviticus': 7066, 'stumbling': 7067, 'fergie': 7068, 'empowerment': 7069, 'pupil': 7070, 'horacemann': 7071, 'discount': 7072, 'interrupt': 7073, 'imaginable': 7074, 'ugggg': 7075, 'fakenews': 7076, 'arabnationalism': 7077, 'duane': 7078, 'allman': 7079, 'stevie': 7080, 'vaughan': 7081, 'legend': 7082, 'kylie': 7083, 'lagos': 7084, 'owambe': 7085, 'lace': 7086, 'gele': 7087, 'amala': 7088, 'nkaissery': 7089, 'jubilee': 7090, 'venus': 7091, 'flytrap': 7092, 'religionofpeace': 7093, 'hast': 7094, 'thou': 7095, 'thy': 7096, 'configuration': 7097, 'queensland': 7098, 'maroon': 7099, 'taekook': 7100, 'listing': 7101, 'primadonna': 7102, 'duckface': 7103, 'playlist': 7104, 'omniscience': 7105, 'loveisand': 7106, 'dumping': 7107, 'olivia': 7108, 'understatement': 7109, 'shine': 7110, 'marker': 7111, 'hijacked': 7112, 'relegate': 7113, 'punk': 7114, 'panderific': 7115, 'theorionsound': 7116, 'oli': 7117, 'cuddly': 7118, 'pma': 7119, 'stodgy': 7120, 'chorus': 7121, 'description': 7122, 'marlie': 7123, 'packer': 7124, 'davidflatman': 7125, 'victimhood': 7126, 'okja': 7127, 'beautifull': 7128, 'mustwatch': 7129, 'scrotus': 7130, 'nada': 7131, 'wretched': 7132, 'offspring': 7133, 'h': 7134, 'agile': 7135, 'grandma': 7136, 'sayin': 7137, 'objectlesson': 7138, 'doomsday': 7139, 'marines': 7140, 'abate': 7141, 'lotion': 7142, 'bouquet': 7143, 'lavender': 7144, 'toasted': 7145, 'literary': 7146, 'tradition': 7147, 'ifonlypeoplewould': 7148, 'humanity': 7149, 'mothernature': 7150, 'sewer': 7151, 'welding': 7152, 'shield': 7153, 'cart': 7154, 'housing': 7155, 'epsom': 7156, 'ewell': 7157, 'upto': 7158, 'cllrs': 7159, 'absent': 7160, 'paradise': 7161, 'unwell': 7162, 'missyoumommybear': 7163, 'intruder': 7164, 'lolz': 7165, 'clog': 7166, 'plunger': 7167, 'incase': 7168, 'dsm': 7169, 'berger': 7170, 'itunes': 7171, 'digitakt': 7172, 'marathon': 7173, 'madeforlove': 7174, 'buyer': 7175, 'sellers': 7176, 'jaygerrr': 7177, 'russianhacking': 7178, 'coulda': 7179, 'interviewwithavampire': 7180, 'annerice': 7181, 'ilovevamps': 7182, 'bedtime': 7183, 'lou': 7184, 'reed': 7185, 'transformer': 7186, 'sebestian': 7187, 'arrogant': 7188, 'wassup': 7189, 'insanity': 7190, 'leftwingnutjob': 7191, 'partial': 7192, 'kennedy': 7193, 'agt': 7194, 'sob': 7195, 'terrifying': 7196, 'philippine': 7197, 'jio': 7198, 'assist': 7199, 'rahul': 7200, 'roam': 7201, 'teampet': 7202, 'alaina': 7203, 'quickandeasyfood': 7204, 'overground': 7205, 'eternally': 7206, 'simulator': 7207, 'bih': 7208, 'bbn': 7209, 'guilt': 7210, 'rainbowsixsiege': 7211, 'exposed': 7212, 'expose': 7213, 'eeeeekkkk': 7214, 'sachet': 7215, 'loveyourlifestyle': 7216, 'daidouji': 7217, 'tomoyo': 7218, 'cardcaptor': 7219, 'traitor': 7220, 'shakespeare': 7221, 'appetite': 7222, 'chooseaside': 7223, 'highschool': 7224, 'mylife': 7225, 'awak': 7226, 'brimstone': 7227, 'restructure': 7228, 'troye': 7229, 'indy': 7230, 'greatful': 7231, 'schade': 7232, 'dammit': 7233, 'thekeeperoflostthings': 7234, 'weave': 7235, 'magic': 7236, 'abyss': 7237, 'alonzo': 7238, 'mistrust': 7239, 'verdict': 7240, 'lassie': 7241, 'unique': 7242, 'overpopulation': 7243, 'starvation': 7244, 'tribalism': 7245, 'destroying': 7246, 'zapper': 7247, 'thingy': 7248, 'dumbledore': 7249, 'phd': 7250, 'eesav': 7251, 'gattiga': 7252, 'devour': 7253, 'ahu': 7254, 'usn': 7255, 'spew': 7256, 'indiaagainstislamists': 7257, 'radicalislam': 7258, 'posse': 7259, 'uproot': 7260, 'cu': 7261, 'plottin': 7262, 'paymaster': 7263, 'mᴬkes': 7264, 'rowan': 7265, 'atkinson': 7266, 'anandobrahma': 7267, 'srinivasreddy': 7268, 'toomuch': 7269, 'erc': 7270, 'diva': 7271, 'panteez': 7272, 'secure': 7273, 'thetalk': 7274, 'fallfashion': 7275, 'instyle': 7276, 'wwiii': 7277, 'cooker': 7278, 'nomess': 7279, 'sunglassesneeded': 7280, 'tannery': 7281, 'processing': 7282, 'whitehouse': 7283, 'precedent': 7284, 'presidency': 7285, 'chutiya': 7286, 'deshdrohi': 7287, 'bath': 7288, 'deppression': 7289, 'trauma': 7290, 'accident': 7291, 'rin': 7292, 'melodramatic': 7293, 'cmbyn': 7294, 'miff': 7295, 'donovan': 7296, 'mute': 7297, 'optimize': 7298, 'bein': 7299, 'disorder': 7300, 'nmu': 7301, 'ought': 7302, 'msm': 7303, 'legal': 7304, 'longdistancerelationship': 7305, 'unhappiness': 7306, 'spank': 7307, 'deathly': 7308, 'greysanatomy': 7309, 'temp': 7310, 'meditating': 7311, 'weightlessness': 7312, 'sheridan': 7313, 'facepalm': 7314, 'tonguetied': 7315, 'carl': 7316, 'smear': 7317, 'pension': 7318, 'sectarianism': 7319, 'hurryup': 7320, 'yukwon': 7321, 'zico': 7322, 'judgment': 7323, 'goodservice': 7324, 'machaaaa': 7325, 'murah': 7326, 'rezeki': 7327, 'selalu': 7328, 'rumor': 7329, 'wellendowed': 7330, 'notsomuch': 7331, 'gaypeople': 7332, 'sowhat': 7333, 'pmln': 7334, 'gameovernawaz': 7335, 'quell': 7336, 'ayuku': 7337, 'doubleviz': 7338, 'huhu': 7339, 'kak': 7340, 'loyalty': 7341, 'nomotivation': 7342, 'rainyday': 7343, 'cram': 7344, 'proclaims': 7345, 'branch': 7346, 'cabell': 7347, 'sox': 7348, 'onhere': 7349, 'baseman': 7350, 'occupy': 7351, 'toll': 7352, 'collection': 7353, 'permanently': 7354, 'babe': 7355, 'overheard': 7356, 'bigly': 7357, 'trustnoone': 7358, 'hahaaa': 7359, 'lel': 7360, 'cid': 7361, 'gabranths': 7362, 'maura': 7363, 'rankin': 7364, 'canthandlethetruth': 7365, 'gorkas': 7366, 'unhinge': 7367, 'mri': 7368, 'neuro': 7369, 'mssucks': 7370, 'healthcarefail': 7371, 'socialanxiety': 7372, 'reduction': 7373, 'viewership': 7374, 'ajplus': 7375, 'sebstian': 7376, 'deflecting': 7377, 'pleasant': 7378, 'partnership': 7379, 'reap': 7380, 'harvest': 7381, 'niv': 7382, 'kyungsoo': 7383, 'instant': 7384, 'tessie': 7385, 'dropkick': 7386, 'fyi': 7387, 'mph': 7388, 'interact': 7389, 'itsbeensolong': 7390, 'sterilise': 7391, 'loosewomen': 7392, 'unnecessary': 7393, 'wopstar': 7394, 'lycklig': 7395, 'födelsedag': 7396, 'öland': 7397, 'estimated': 7398, 'weed': 7399, 'adams': 7400, 'reaaaally': 7401, 'mima': 7402, 'subscrib': 7403, 'anada': 7404, 'stream': 7405, 'overcast': 7406, 'rainy': 7407, 'lodge': 7408, 'gea': 7409, 'wahhabism': 7410, 'photoeveryday': 7411, 'picoftheday': 7412, 'course': 7413, 'blessedandgrateful': 7414, 'tide': 7415, 'antifa': 7416, 'spectrum': 7417, 'basement': 7418, 'zima': 7419, 'typing': 7420, 'tightly': 7421, 'medicate': 7422, 'sardonyx': 7423, 'skill': 7424, 'encourage': 7425, 'youaregoingdown': 7426, 'candide': 7427, 'bestofallpossibleworlds': 7428, 'intimidated': 7429, 'tingle': 7430, 'incessant': 7431, 'clicking': 7432, 'lemar': 7433, 'yoyo': 7434, 'motherinlaw': 7435, 'fitofrage': 7436, 'donny': 7437, 'bpdproblems': 7438, 'keeptalkingmh': 7439, 'screenshots': 7440, 'microscope': 7441, 'bu': 7442, 'imgonnakillya': 7443, 'ballroom': 7444, 'timer': 7445, 'primitive': 7446, 'snorted': 7447, 'outtake': 7448, 'duo': 7449, 'prdct': 7450, 'surroundings': 7451, 'tutorship': 7452, 'enjoyingthelastfewdays': 7453, 'newchallanges': 7454, 'feck': 7455, 'goddess': 7456, 'maltese': 7457, 'sore': 7458, 'ganguly': 7459, 'kohli': 7460, 'dada': 7461, 'shld': 7462, 'unforgiveness': 7463, 'swiss': 7464, 'dontflyba': 7465, 'infatuate': 7466, 'resuscitate': 7467, 'routine': 7468, 'mould': 7469, 'undecided': 7470, 'sideman': 7471, 'incipient': 7472, 'faggotry': 7473, 'quivering': 7474, 'puckering': 7475, 'deepak': 7476, 'chopra': 7477, 'procrastinate': 7478, 'derek': 7479, 'humble': 7480, 'oreo': 7481, 'detector': 7482, 'beeping': 7483, 'crackmeup': 7484, 'coalgate': 7485, 'parliament': 7486, 'mumbai': 7487, 'fuckfuckfuck': 7488, 'lucha': 7489, 'nsw': 7490, 'cuzzo': 7491, 'keepgrinding': 7492, 'frogfearfriday': 7493, 'nuclear': 7494, 'scottishopenherochallenge': 7495, 'flame': 7496, 'tense': 7497, 'totalsolareclipse': 7498, 'glimpse': 7499, 'circling': 7500, 'presently': 7501, 'palpitation': 7502, 'merge': 7503, 'volume': 7504, 'marvingaye': 7505, 'meangirls': 7506, 'badnews': 7507, 'jerrrrrr': 7508, 'stab': 7509, 'hehehee': 7510, 'aj': 7511, 'il': 7512, 'vulva': 7513, 'hobi': 7514, 'communal': 7515, 'cowardice': 7516, 'hong': 7517, 'kong': 7518, 'lynchistan': 7519, 'provication': 7520, 'qualified': 7521, 'gameofthones': 7522, 'twiggy': 7523, 'agency': 7524, 'ego': 7525, 'arniel': 7526, 'bleep': 7527, 'catnap': 7528, 'khadr': 7529, 'settlement': 7530, 'unwillingness': 7531, 'responsibility': 7532, 'senate': 7533, 'dealer': 7534, 'jumper': 7535, 'colder': 7536, 'danny': 7537, 'rhino': 7538, 'denounce': 7539, 'communalism': 7540, 'fw': 7541, 'neat': 7542, 'slowness': 7543, 'catastrophic': 7544, 'fueling': 7545, 'suffered': 7546, 'iwanttodie': 7547, 'lifewithoutcolor': 7548, 'hurl': 7549, 'thoughtoftheday': 7550, 'multiplier': 7551, 'colin': 7552, 'powell': 7553, 'danielhive': 7554, 'republic': 7555, 'patchouli': 7556, 'compensate': 7557, 'bigcar': 7558, 'tinypenis': 7559, 'roadrage': 7560, 'breastfeeding': 7561, 'dumbass': 7562, 'douse': 7563, 'cologne': 7564, 'feminism': 7565, 'storyline': 7566, 'perish': 7567, 'kindle': 7568, 'meaningless': 7569, 'agoraphobia': 7570, 'neck': 7571, 'corgi': 7572, 'sunderland': 7573, 'murphy': 7574, 'zany': 7575, 'pf': 7576, 'hogan': 7577, 'ohnowhatisyoudoingbaby': 7578, 'central': 7579, 'accom': 7580, 'plse': 7581, 'lone': 7582, 'gal': 7583, 'taxis': 7584, 'loveislove': 7585, 'an': 7586, 'afrd': 7587, 'stpng': 7588, 'wn': 7589, 'whol': 7590, 'stndng': 7591, 'unsubstantiated': 7592, 'canwegetaghostfilter': 7593, 'ghostfilter': 7594, 'anthracite': 7595, 'worthwhile': 7596, 'victoria': 7597, 'bognor': 7598, 'southernfail': 7599, 'que': 7600, 'knowledgeable': 7601, 'behold': 7602, 'objectivity': 7603, 'empathy': 7604, 'thoughtfulness': 7605, 'mea': 7606, 'johnny': 7607, 'tcmparty': 7608, 'freddie': 7609, 'unnerved': 7610, 'ninjawarriorau': 7611, 'lakshmi': 7612, 'sophisticated': 7613, 'snoopy': 7614, 'feeel': 7615, 'naughty': 7616, 'naughymind': 7617, 'moveon': 7618, 'archive': 7619, 'strikeforce': 7620, 'ronda': 7621, 'rousey': 7622, 'mayhemmiller': 7623, 'rondarousey': 7624, 'canalside': 7625, 'htafc': 7626, 'unleash': 7627, 'hiatus': 7628, 'afshdkflckakdbwi': 7629, 'yessss': 7630, 'epi': 7631, 'frigging': 7632, 'hamez': 7633, 'nan': 7634, 'hayworth': 7635, 'jungkook': 7636, 'cutest': 7637, 'dodgy': 7638, 'fringe': 7639, 'nophotos': 7640, 'thankgoodness': 7641, 'betterblonde': 7642, 'solidarity': 7643, 'hinduphobic': 7644, 'legitimacy': 7645, 'croydonparkhotel': 7646, 'worseservice': 7647, 'rudestaff': 7648, 'readytodrive': 7649, 'corin': 7650, 'tucker': 7651, 'rem': 7652, 'waahhhhh': 7653, 'june': 7654, 'riddace': 7655, 'charles': 7656, 'plt': 7657, 'biryani': 7658, 'yum': 7659, 'ddlg': 7660, 'abdl': 7661, 'chgl': 7662, 'restlessness': 7663, 'jocelyn': 7664, 'alice': 7665, 'rendition': 7666, 'allstargame': 7667, 'dani': 7668, 'alves': 7669, 'psg': 7670, 'coal': 7671, 'miner': 7672, 'union': 7673, 'cyberattacks': 7674, 'bizman': 7675, 'becos': 7676, 'shun': 7677, 'wildcat': 7678, 'dre': 7679, 'overlook': 7680, 'swindon': 7681, 'bleak': 7682, 'blister': 7683, 'sandal': 7684, 'barefoot': 7685, 'youre': 7686, 'libertyseeds': 7687, 'lizcrokin': 7688, 'maga': 7689, 'cersei': 7690, 'jordan': 7691, 'arya': 7692, 'homyghad': 7693, 'daniel': 7694, 'smdh': 7695, 'worstvet': 7696, 'litter': 7697, 'srsly': 7698, 'lyt': 7699, 'aswell': 7700, 'shameless': 7701, 'den': 7702, 'realtalk': 7703, 'speakin': 7704, 'equalise': 7705, 'raucous': 7706, 'applause': 7707, 'pd': 7708, 'radicalization': 7709, 'hysterical': 7710, 'clerk': 7711, 'laughoutloud': 7712, 'cozart': 7713, 'cincysports': 7714, 'drawer': 7715, 'mico': 7716, 'chan': 7717, 'girlswithdreads': 7718, 'donkey': 7719, 'watson': 7720, 'motivationalquote': 7721, 'stephenhawking': 7722, 'emojis': 7723, 'inners': 7724, 'seeker': 7725, 'uhlmann': 7726, 'arouse': 7727, 'clipper': 7728, 'lyftnow': 7729, 'jalepenos': 7730, 'lawyered': 7731, 'skull': 7732, 'spatter': 7733, 'stain': 7734, 'bratty': 7735, 'infantile': 7736, 'resurrection': 7737, 'sideshow': 7738, 'collectible': 7739, 'abomination': 7740, 'reform': 7741, 'rac': 7742, 'bigapple': 7743, 'njtransit': 7744, 'khakis': 7745, 'whiteshirt': 7746, 'maybeblue': 7747, 'brownshoes': 7748, 'macys': 7749, 'jealousyet': 7750, 'bbs': 7751, 'shave': 7752, 'showerthoughts': 7753, 'baleno': 7754, 'servicing': 7755, 'buying': 7756, 'strapless': 7757, 'hough': 7758, 'headphone': 7759, 'hardly': 7760, 'carlsbad': 7761, 'rouladen': 7762, 'getdtl': 7763, 'ldnont': 7764, 'chaucer': 7765, 'marienbad': 7766, 'shutthefuckup': 7767, 'fart': 7768, 'yass': 7769, 'splendid': 7770, 'isolation': 7771, 'quake': 7772, 'cleo': 7773, 'mk': 7774, 'mirthful': 7775, 'lovetosavemoney': 7776, 'manarino': 7777, 'afterwards': 7778, 'superpower': 7779, 'palette': 7780, 'pleasantly': 7781, 'heated': 7782, 'thailand': 7783, 'exploit': 7784, 'goodyear': 7785, 'slurpee': 7786, 'appt': 7787, 'wuts': 7788, 'rite': 7789, 'amazonprimeday': 7790, 'uncontrollably': 7791, 'bandwidth': 7792, 'reedemed': 7793, 'elimination': 7794, 'mahoney': 7795, 'roadtomahoney': 7796, 'horrifying': 7797, 'crystal': 7798, 'passionate': 7799, 'narendra': 7800, 'manmohan': 7801, 'singh': 7802, 'quicken': 7803, 'unbearable': 7804, 'recommend': 7805, 'scalp': 7806, 'parting': 7807, 'heeeeeey': 7808, 'shilaaang': 7809, 'nashville': 7810, 'tikka': 7811, 'masala': 7812, 'cauliflower': 7813, 'pea': 7814, 'tweeter': 7815, 'appreciated': 7816, 'monsterbrawl': 7817, 'needtobefined': 7818, 'sand': 7819, 'reagan': 7820, 'unlike': 7821, 'democrap': 7822, 'obstruct': 7823, 'rif': 7824, 'chateaubriand': 7825, 'gravedigger': 7826, 'groundhog': 7827, 'blink': 7828, 'kjdsahk': 7829, 'ty': 7830, 'savage': 7831, 'prof': 7832, 'sole': 7833, 'abraham': 7834, 'lincoln': 7835, 'nonresistance': 7836, 'coming': 7837, 'bluetick': 7838, 'imprisonment': 7839, 'socialist': 7840, 'iv': 7841, 'filmming': 7842, 'actorslife': 7843, 'actresslife': 7844, 'actress': 7845, 'ken': 7846, 'lefty': 7847, 'propagandist': 7848, 'gleeforever': 7849, 'dreamscometrue': 7850, 'dontstopbelieving': 7851, 'gleecast': 7852, 'thurber': 7853, 'pang': 7854, 'firstlove': 7855, 'lovehurts': 7856, 'nit': 7857, 'manu': 7858, 'stride': 7859, 'spec': 7860, 'goodevening': 7861, 'crockpot': 7862, 'getinmybelly': 7863, 'kashmiriyat': 7864, 'minister': 7865, 'spokesman': 7866, 'weigh': 7867, 'ee': 7868, 'impressed': 7869, 'password': 7870, 'merkel': 7871, 'bid': 7872, 'disrespecter': 7873, 'journal': 7874, 'dishwasher': 7875, 'await': 7876, 'th': 7877, 'ironic': 7878, 'scandalous': 7879, 'altontowers': 7880, 'psycologists': 7881, 'defendant': 7882, 'methadone': 7883, 'swansmags': 7884, 'indie': 7885, 'devs': 7886, 'macron': 7887, 'clarity': 7888, 'liberallogic': 7889, 'roach': 7890, 'digitaltechnology': 7891, 'rodeo': 7892, 'gale': 7893, 'moi': 7894, 'jkjk': 7895, 'justajoke': 7896, 'sicknotweak': 7897, 'kodak': 7898, 'ihatetuesdays': 7899, 'ffffff': 7900, 'astounded': 7901, 'narrator': 7902, 'octopi': 7903, 'congressman': 7904, 'repealandreplace': 7905, 'healthcare': 7906, 'personalassistant': 7907, 'interestingly': 7908, 'repchriscollins': 7909, 'whitesupremacists': 7910, 'goodpeople': 7911, 'honer': 7912, 'cory': 7913, 'monteith': 7914, 'hundson': 7915, 'wath': 7916, 'corymonteith': 7917, 'gleam': 7918, 'maymac': 7919, 'wembley': 7920, 'familiar': 7921, 'theearlyshow': 7922, 'kokobop': 7923, 'singapore': 7924, 'accompany': 7925, 'medal': 7926, 'innuendo': 7927, 'smearing': 7928, 'famjam': 7929, 'recipe': 7930, 'kara': 7931, 'dragonsonthewall': 7932, '더쇼': 7933, '니가하면': 7934, 'rthrc': 7935, 'ifyoudo': 7936, 'treeq': 7937, 'prematurely': 7938, 'vienna': 7939, 'ghassemlou': 7940, 'iran': 7941, 'twitterkurds': 7942, 'pi': 7943, 'brokenheart': 7944, 'effort': 7945, 'fucknugget': 7946, 'deserved': 7947, 'floyd': 7948, 'temperature': 7949, 'firsttimemum': 7950, 'firsttimemom': 7951, 'sickbaby': 7952, 'minecraft': 7953, 'bret': 7954, 'ily': 7955, 'disrespect': 7956, 'solitary': 7957, 'retreat': 7958, 'unlucky': 7959, 'tendency': 7960, 'nite': 7961, 'thag': 7962, 'professional': 7963, 'gambler': 7964, 'wager': 7965, 'superhero': 7966, 'introvert': 7967, 'plumbing': 7968, 'thecatsandiarehiding': 7969, 'miguel': 7970, 'bossbaby': 7971, 'wizard': 7972, 'lotr': 7973, 'ease': 7974, 'hardship': 7975, 'democratic': 7976, 'australianninjawarrior': 7977, 'laughingsohard': 7978, 'ukrainecollusion': 7979, 'hahahahahahahah': 7980, 'newmarket': 7981, 'mildred': 7982, 'peraon': 7983, 'summary': 7984, 'phoenixprotests': 7985, 'swag': 7986, 'guide': 7987, 'neopet': 7988, 'krispy': 7989, 'kreme': 7990, 'museum': 7991, 'stratford': 7992, 'sebastiangorka': 7993, 'unwatchable': 7994, 'despicable': 7995, 'nothuman': 7996, 'vomitinducing': 7997, 'ensues': 7998, 'unsettling': 7999, 'conquer': 8000, 'nook': 8001, 'provenance': 8002, 'perceive': 8003, 'antonio': 8004, 'lukaku': 8005, 'rodriguez': 8006, 'scotland': 8007, 'koran': 8008, 'halal': 8009, 'negotiation': 8010, 'qpr': 8011, 'legging': 8012, 'infj': 8013, 'verifiable': 8014, 'methinks': 8015, 'amarnath': 8016, 'yatra': 8017, 'graf': 8018, 'weep': 8019, 'rib': 8020, 'spinal': 8021, 'cord': 8022, 'christy': 8023, 'marvel': 8024, 'reprogram': 8025, 'dimity': 8026, 'frock': 8027, 'polly': 8028, 'shaw': 8029, 'cbgb': 8030, 'biwott': 8031, 'alyssa': 8032, 'ivanka': 8033, 'ato': 8034, 'privacylaws': 8035, 'approval': 8036, 'pokémon': 8037, 'concede': 8038, 'awoke': 8039, 'unicode': 8040, 'normalization': 8041, 'matlakala': 8042, 'invent': 8043, 'kidfood': 8044, 'chickennuggets': 8045, 'bi': 8046, 'gaysnap': 8047, 'hornysnap': 8048, 'snapchatgay': 8049, 'snapchathorny': 8050, 'gaysnapchat': 8051, 'hornysnapchat': 8052, 'snapgay': 8053, 'hence': 8054, 'drove': 8055, 'malia': 8056, 'kyle': 8057, 'tyler': 8058, 'closet': 8059, 'chromecast': 8060, 'macbooks': 8061, 'manslaughter': 8062, 'thathorriblesuicidegame': 8063, 'sosick': 8064, 'killingme': 8065, 'frick': 8066, 'lovin': 8067, 'portrayal': 8068, 'rancher': 8069, 'climb': 8070, 'peedalittle': 8071, 'galaxy': 8072, 'eatery': 8073, 'nonstoplies': 8074, 'dieinginhere': 8075, 'suceed': 8076, 'boredtodeath': 8077, 'snapsex': 8078, 'chaud': 8079, 'blueberry': 8080, 'kc': 8081, 'diagnose': 8082, 'illness': 8083, 'ailment': 8084, 'chemist': 8085, 'guest': 8086, 'enjoyable': 8087, 'slight': 8088, 'ssbola': 8089, 'fighter': 8090, 'gatekeeper': 8091, 'ufc': 8092, 'jonjones': 8093, 'kanna': 8094, 'jay': 8095, 'z': 8096, 'ure': 8097, 'covertly': 8098, 'punishment': 8099, 'fujoshi': 8100, 'thisisntmyjob': 8101, 'gravity': 8102, 'junior': 8103, 'fuckup': 8104, 'eyeball': 8105, 'irreparableharm': 8106, 'transport': 8107, 'twohourwait': 8108, 'nohelp': 8109, 'import': 8110, 'japan': 8111, 'webster': 8112, 'introductory': 8113, 'momonfire': 8114, 'banal': 8115, 'tennis': 8116, 'donjr': 8117, 'robgoldstoneemail': 8118, 'element': 8119, 'annie': 8120, 'balsamic': 8121, 'bighearted': 8122, 'jalf': 8123, 'unafraid': 8124, 'reader': 8125, 'interpreter': 8126, 'teo': 8127, 'les': 8128, 'unrelated': 8129, 'crème': 8130, 'fraîche': 8131, 'randy': 8132, 'obsession': 8133, 'rejoin': 8134, 'bane': 8135, 'teary': 8136, 'downfall': 8137, 'tiring': 8138, 'fort': 8139, 'location': 8140, 'badservice': 8141, 'negatively': 8142, 'guptas': 8143, 'pouch': 8144, 'healthy': 8145, 'sunglass': 8146, 'evacuation': 8147, 'alert': 8148, 'development': 8149, 'forecast': 8150, 'wot': 8151, 'oo': 8152, 'uncomfortable': 8153, 'unfailing': 8154, 'homeless': 8155, 'louis': 8156, 'gobrowns': 8157, 'gliese': 8158, 'enable': 8159, 'reanimate': 8160, 'saul': 8161, 'leak': 8162, 'panelist': 8163, 'lnp': 8164, 'mamon': 8165, 'nationality': 8166, 'harden': 8167, 'temptation': 8168, 'wilderness': 8169, 'kjv': 8170, 'binge': 8171, 'obsess': 8172, 'kirks': 8173, 'lhhreunion': 8174, 'akp': 8175, 'tsk': 8176, 'ncaa': 8177, 'committee': 8178, 'poly': 8179, 'whr': 8180, 'relax': 8181, 'abit': 8182, 'tutorial': 8183, 'tonne': 8184, 'ergh': 8185, 'andnervous': 8186, 'manoeuvre': 8187, 'colorfabb': 8188, 'ngen': 8189, 'filament': 8190, 'fragile': 8191, 'legged': 8192, 'sample': 8193, 'articulate': 8194, 'render': 8195, 'mnuchinwife': 8196, 'louiselinton': 8197, 'friggin': 8198, 'delightful': 8199, 'pnc': 8200, 'goingforit': 8201, 'trek': 8202, 'gobble': 8203, 'caroline': 8204, 'whinging': 8205, 'unlikeable': 8206, 'smarta': 8207, 'farrah': 8208, 'dr': 8209, 'drew': 8210, 'teenmomog': 8211, 'firefighter': 8212, 'harassment': 8213, 'nifrs': 8214, 'whatsupwiththat': 8215, 'adidas': 8216, 'suppress': 8217, 'viewer': 8218, 'fcc': 8219, 'laborious': 8220, 'toothache': 8221, 'poke': 8222, 'grillby': 8223, 'imwearingyourshirt': 8224, 'humbleandkind': 8225, 'timmcgraw': 8226, 'wqmx': 8227, 'feeble': 8228, 'saint': 8229, 'oswald': 8230, 'tyranny': 8231, 'jefferson': 8232, 'pendeja': 8233, 'sensible': 8234, 'parnab': 8235, 'fucк': 8236, 'womensbodies': 8237, 'xxx': 8238, 'doug': 8239, 'beattie': 8240, 'afghan': 8241, 'oval': 8242, 'dumbasastick': 8243, 'whipped': 8244, 'matcha': 8245, 'straw': 8246, 'andy': 8247, 'rd': 8248, 'atp': 8249, 'amaranthyatra': 8250, 'shamless': 8251, 'florida': 8252, 'turkey': 8253, 'tetri': 8254, 'awkwardorgy': 8255, 'occupational': 8256, 'blah': 8257, 'tstsststsststss': 8258, 'ttv': 8259, 'aiadmkmerger': 8260, 'honest': 8261, 'layout': 8262, 'coma': 8263, 'pinot': 8264, 'grigio': 8265, 'makingamericastupid': 8266, 'tored': 8267, 'shitshow': 8268, 'specs': 8269, 'fowl': 8270, 'wordsofwisdom': 8271, 'karaoke': 8272, 'britney': 8273, 'kyadondo': 8274, 'loved': 8275, 'hahahahahhahahahaahgahaha': 8276, 'geraldo': 8277, 'effortless': 8278, 'intelligent': 8279, 'entertainment': 8280, 'fabulous': 8281, 'hugely': 8282, 'lucrative': 8283, 'praisefox': 8284, 'jaewon': 8285, 'grill': 8286, 'halibut': 8287, 'basil': 8288, 'crust': 8289, 'lobster': 8290, 'coulis': 8291, 'seafood': 8292, 'sniff': 8293, 'yer': 8294, 'vatican': 8295, 'orgy': 8296, 'getyourchequebookoutchairman': 8297, 'ant': 8298, 'iammommabearhearmeroar': 8299, 'happens': 8300, 'nodered': 8301, 'iot': 8302, 'sunshinecoast': 8303, 'mechwarrioronline': 8304, 'boatload': 8305, 'snapper': 8306, 'mackerel': 8307, 'aransas': 8308, 'fish': 8309, 'feast': 8310, 'ang': 8311, 'ni': 8312, 'viserion': 8313, 'stresseating': 8314, 'massage': 8315, 'prudencemabele': 8316, 'afrifem': 8317, 'alistairburtuk': 8318, 'dfid': 8319, 'fcoqs': 8320, 'mystic': 8321, 'messenger': 8322, 'angst': 8323, 'mysticmessenger': 8324, 'statistic': 8325, 'preemptive': 8326, 'photoshopped': 8327, 'chanbaek': 8328, 'lea': 8329, 'tragic': 8330, 'nunna': 8331, 'siwon': 8332, 'amanda': 8333, 'coker': 8334, 'bicycling': 8335, 'amandacoker': 8336, 'fried': 8337, 'frie': 8338, 'butheremails': 8339, 'kremlin': 8340, 'coat': 8341, 'follo': 8342, 'mcnabb': 8343, 'rhythm': 8344, 'talkstoomuch': 8345, 'adoption': 8346, 'exposure': 8347, 'adopter': 8348, 'warehouse': 8349, 'concrete': 8350, '相互フォロー': 8351, 'figuremeout': 8352, 'promila': 8353, 'aunty': 8354, 'nest': 8355, 'toxic': 8356, 'methane': 8357, 'backtrack': 8358, 'china': 8359, 'vienesse': 8360, 'whirl': 8361, 'cameroon': 8362, 'libya': 8363, 'egypt': 8364, 'sinai': 8365, 'feheroes': 8366, 'unit': 8367, 'flippin': 8368, 'substitute': 8369, 'chunk': 8370, 'antarctic': 8371, 'wale': 8372, 'airports': 8373, 'gcc': 8374, 'bholenath': 8375, 'ne': 8376, 'apna': 8377, 'gussa': 8378, 'toh': 8379, 'nikaalna': 8380, 'hai': 8381, 'ragegrafix': 8382, 'whitewalkers': 8383, 'hmmmm': 8384, 'donaldtrumpjr': 8385, 'mtg': 8386, 'trumpdossier': 8387, 'blackmail': 8388, 'putinspuppet': 8389, 'ludlow': 8390, 'unrealistic': 8391, 'yuko': 8392, 'known': 8393, 'dimply': 8394, 'oshimayuko': 8395, 'playground': 8396, 'stupidreasonstousetimetravel': 8397, 'gethelp': 8398, 'kask': 8399, 'aero': 8400, 'helmet': 8401, 'healthandsafety': 8402, 'solána': 8403, 'closed': 8404, 'sperm': 8405, 'couch': 8406, 'soros': 8407, 'filled': 8408, 'killerspresale': 8409, 'brandkrk': 8410, 'helpless': 8411, 'shameonbhakts': 8412, 'audacity': 8413, 'rampant': 8414, 'lulu': 8415, 'abuser': 8416, 'monitor': 8417, 'longing': 8418, 'gamers': 8419, 'penguin': 8420, 'ocean': 8421, 'reef': 8422, 'amirighttho': 8423, 'pagod': 8424, 'inexplicably': 8425, 'impenetrable': 8426, 'kms': 8427, 'wink': 8428, 'crushing': 8429, 'dejected': 8430, 'paypal': 8431, 'helpmeout': 8432, 'helpme': 8433, 'isaiah': 8434, 'ireland': 8435, 'delaney': 8436, 'ngi': 8437, 'iloveyou': 8438, 'layoff': 8439, 'rewatched': 8440, 'gravityfalls': 8441, 'fanboying': 8442, 'yeahscience': 8443, 'mornin': 8444, 'phantom': 8445, 'hottie': 8446, 'therefore': 8447, 'aside': 8448, 'jeremyvine': 8449, 'tediously': 8450, 'mekka': 8451, 'madina': 8452, 'dikling': 8453, 'comical': 8454, 'negotiate': 8455, 'rand': 8456, 'grabbing': 8457, 'diabolical': 8458, 'sized': 8459, 'eunice': 8460, 'disrespectful': 8461, 'thrown': 8462, 'batter': 8463, 'frangipani': 8464, 'motherfucking': 8465, 'biggestcrybabyinhistory': 8466, 'fogging': 8467, 'bpe': 8468, 'hypothetically': 8469, 'unasked': 8470, 'unanswered': 8471, 'grandparent': 8472, 'myroots': 8473, 'abuelitos': 8474, 'fabinho': 8475, 'credibility': 8476, 'merciful': 8477, 'mlballstargame': 8478, 'wrongnotes': 8479, 'outoftune': 8480, 'seldom': 8481, 'protector': 8482, 'sleeper': 8483, 'willtnt': 8484, 'missedyou': 8485, 'arena': 8486, 'seas': 8487, 'ń': 8488, 'ilovejesus': 8489, 'struck': 8490, 'presence': 8491, 'ninnukori': 8492, 'thor': 8493, 'puny': 8494, 'endangered': 8495, 'specie': 8496, 'rewrite': 8497, 'servant': 8498, 'hughes': 8499, 'shone': 8500, 'seduction': 8501, 'discreet': 8502, 'frankly': 8503, 'yip': 8504, 'coz': 8505, 'huffy': 8506, 'chubby': 8507, 'friendsforever': 8508, 'mothafuckas': 8509, 'summarize': 8510, 'aman': 8511, 'norwood': 8512, 'resource': 8513, 'php': 8514, 'promo': 8515, 'titanic': 8516, 'mtpdaily': 8517, 'umm': 8518, 'ifeelyourpain': 8519, 'notmypresident': 8520, 'humanist': 8521, 'sailor': 8522, 'isnt': 8523, 'vegetable': 8524, 'urbanfarm': 8525, 'popular': 8526, 'etsy': 8527, 'handmadehour': 8528, 'djkhaled': 8529, 'comp': 8530, 'trumpofhiphop': 8531, 'darling': 8532, 'hubbie': 8533, 'shocked': 8534, 'sosad': 8535, 'karamadai': 8536, 'ranganatha': 8537, 'pallikondeeswarar': 8538, 'shiva': 8539, 'avl': 8540, 'maria': 8541, 'chili': 8542, 'powder': 8543, 'cinnamon': 8544, 'endoftheworld': 8545, 'dontleaveusjustyet': 8546, 'inequity': 8547, 'vendor': 8548, 'emigrate': 8549, 'worstgovernmentever': 8550, 'quad': 8551, 'bandit': 8552, 'cubs': 8553, 'organist': 8554, 'miz': 8555, 'flourishing': 8556, 'justtattooofus': 8557, 'empowering': 8558, 'ache': 8559, 'noisy': 8560, 'norespect': 8561, 'bigbuilding': 8562, 'killinginthenameof': 8563, 'anxiousness': 8564, 'doglovers': 8565, 'cyclist': 8566, 'cussing': 8567, 'bulwell': 8568, 'saddens': 8569, 'twist': 8570, 'alway': 8571, 'faketweets': 8572, 'tuned': 8573, 'stagefright': 8574, 'taffia': 8575, 'chang': 8576, 'waela': 8577, 'lotha': 8578, 'ligrr': 8579, 'npd': 8580, 'sling': 8581, 'cocky': 8582, 'pmdd': 8583, 'trumprally': 8584, 'divisive': 8585, 'incoherent': 8586, 'arizonan': 8587, 'sincerely': 8588, 'hetero': 8589, 'decider': 8590, 'gandhi': 8591, 'emojimovie': 8592, 'midnightpremeire': 8593, 'comey': 8594, 'ghd': 8595, 'straighter': 8596, 'skyq': 8597, 'majka': 8598, 'theappledoesntfallfarfromthetree': 8599, 'cbbfinal': 8600, 'mccain': 8601, 'isto': 8602, 'plague': 8603, 'unlawful': 8604, 'aim': 8605, 'snatch': 8606, 'beanie': 8607, 'ukvi': 8608, 'exorbitant': 8609, 'prestige': 8610, 'nothingburgers': 8611, 'foaming': 8612, 'colleague': 8613, 'lisbon': 8614, 'omegaflightstore': 8615, 'length': 8616, 'gnawing': 8617, 'produce': 8618, 'jeer': 8619, 'brit': 8620, 'milestone': 8621, 'demario': 8622, 'allegation': 8623, 'sexualassault': 8624, 'kay': 8625, 'miamibryce': 8626, 'dak': 8627, 'prescott': 8628, 'asg': 8629, 'grippedbyfear': 8630, 'fearfearfear': 8631, 'rba': 8632, 'pero': 8633, 'ga': 8634, 'hum': 8635, 'overprice': 8636, 'harlow': 8637, 'passive': 8638, 'smoker': 8639, 'cig': 8640, 'packet': 8641, 'sadthought': 8642, 'dismayed': 8643, 'ignominious': 8644, 'ikr': 8645, 'mentor': 8646, 'laughing': 8647, 'annoying': 8648, 'introvertproblems': 8649, 'cress': 8650, 'thorne': 8651, 'lunar': 8652, 'chronicle': 8653, 'arc': 8654, 'row': 8655, 'whatpart': 8656, 'moist': 8657, 'shitservice': 8658, 'niece': 8659, 'inlaw': 8660, 'wallofsilence': 8661, 'casper': 8662, 'totality': 8663, 'ostrogoth': 8664, 'coon': 8665, 'blackhatematters': 8666, 'jason': 8667, 'sonny': 8668, 'billymiller': 8669, 'hpe': 8670, 'orufreshmenadvice': 8671, 'summertime': 8672, 'vindictive': 8673, 'refill': 8674, 'desert': 8675, 'lazysis': 8676, 'taxpayer': 8677, 'waisted': 8678, 'alarmclock': 8679, 'picky': 8680, 'finance': 8681, 'nigeria': 8682, 'incriminate': 8683, 'felony': 8684, 'poncho': 8685, 'siward': 8686, 'blunt': 8687, 'macduffwasgoing': 8688, 'publication': 8689, 'riley': 8690, 'finalgirls': 8691, 'homeland': 8692, 'gibraltar': 8693, 'tale': 8694, 'foretelling': 8695, 'religious': 8696, 'inuit': 8697, 'roswell': 8698, 'montrezl': 8699, 'harrell': 8700, 'meteorologist': 8701, 'darkerside': 8702, 'wasteoftime': 8703, 'printing': 8704, 'meniscus': 8705, 'maniacal': 8706, 'reasoning': 8707, 'depressionawareness': 8708, 'jurono': 8709, 'hooked': 8710, 'cantturnitoff': 8711, 'susceptible': 8712, 'dub': 8713, 'weightlift': 8714, 'poorly': 8715, 'elle': 8716, 'humour': 8717, 'isabelle': 8718, 'huppert': 8719, 'elledvd': 8720, 'illicit': 8721, 'tobacco': 8722, 'untobaccocontrol': 8723, 'stance': 8724, 'huddle': 8725, 'haiku': 8726, 'villain': 8727, 'kim': 8728, 'quiver': 8729, 'claim': 8730, 'mysterious': 8731, 'talkative': 8732, 'munchies': 8733, 'alpacas': 8734, 'edible': 8735, 'whatthefac': 8736, 'salientfac': 8737, 'duduk': 8738, 'dengan': 8739, 'anak': 8740, 'sepupu': 8741, 'dah': 8742, 'menguji': 8743, 'kesabaran': 8744, 'crown': 8745, 'kiddy': 8746, 'strict': 8747, 'desperate': 8748, 'jeremiah': 8749, 'justbreath': 8750, 'heisable': 8751, 'dazzle': 8752, 'orb': 8753, 'jo': 8754, 'peppa': 8755, 'vid': 8756, 'handy': 8757, 'ol': 8758, 'lov': 8759, 'sagasofsundry': 8760, 'everyside': 8761, 'perplexed': 8762, 'persecute': 8763, 'forsake': 8764, 'television': 8765, 'jaredkushner': 8766, 'ivankatrump': 8767, 'senioradvisors': 8768, 'caregiver': 8769, 'moderate': 8770, 'outburst': 8771, 'mil': 8772, 'mummy': 8773, 'neveragain': 8774, 'bryzzo': 8775, 'ksr': 8776, 'aradionatural': 8777, 'hurting': 8778, 'zhe': 8779, 'ho': 8780, 'hoh': 8781, 'zhat': 8782, 'yaaaaaaaaaaaas': 8783, 'scotty': 8784, 'sinclair': 8785, 'envy': 8786, 'whiteman': 8787, 'adam': 8788, 'sandler': 8789, 'heartwarming': 8790, 'ancestry': 8791, 'queenslandvsnsw': 8792, 'hayneplane': 8793, 'ideology': 8794, 'incompetence': 8795, 'fella': 8796, 'comeback': 8797, 'viscerally': 8798, 'sesame': 8799, 'geek': 8800, 'npr': 8801, 'huffpostpol': 8802, 'nyt': 8803, 'wapo': 8804, 'msnbc': 8805, 'lordoftherings': 8806, 'par': 8807, 'nate': 8808, 'diaz': 8809, 'ko': 8810, 'nobetterfeelingthan': 8811, 'teeter': 8812, 'muggymike': 8813, 'treasonous': 8814, 'scandal': 8815, 'sen': 8816, 'contentment': 8817, 'carefree': 8818, 'idontknow': 8819, 'insightsbs': 8820, 'clifford': 8821, 'tulius': 8822, 'cicero': 8823, 'jellyfish': 8824, 'yeon': 8825, 'dara': 8826, 'thetimeofgreatsorrowisover': 8827, 'derron': 8828, 'brighter': 8829, 'tou': 8830, 'annoyingly': 8831, 'vague': 8832, 'aaaaaaaaaagh': 8833, 'fearmongering': 8834, 'roster': 8835, 'bonnieraitt': 8836, 'bizarre': 8837, 'tiredoflife': 8838, 'placard': 8839, 'active': 8840, 'outrageous': 8841, 'kaiserchiefs': 8842, 'ngo': 8843, 'separatist': 8844, 'refrigerator': 8845, 'blitz': 8846, 'goooooooooooooooooooooddddddddddd': 8847, 'ahhhhh': 8848, 'twitterfume': 8849, 'cite': 8850, 'babri': 8851, 'rajnathsingh': 8852, 'ninda': 8853, 'amply': 8854, 'kenneth': 8855, 'prostitute': 8856, 'afresh': 8857, 'concerned': 8858, 'coa': 8859, 'pur': 8860, 'mojito': 8861, 'nationalmojitoday': 8862, 'smarter': 8863, 'blinker': 8864, 'gruelling': 8865, 'editor': 8866, 'austrian': 8867, 'loml': 8868, 'booking': 8869, 'straightforward': 8870, 'eclipseday': 8871, 'falter': 8872, 'katli': 8873, 'coreymontheith': 8874, 'wank': 8875, 'fetish': 8876, 'surveillance': 8877, 'burrito': 8878, 'daunting': 8879, 'xanax': 8880, 'warm': 8881, 'unsaid': 8882, 'downside': 8883, 'rice': 8884, 'crispies': 8885, 'jock': 8886, 'loc': 8887, 'pmo': 8888, 'warfools': 8889, 'nuke': 8890, 'lostinthemoment': 8891, 'zayuuum': 8892, 'tatas': 8893, 'lbvs': 8894, 'cog': 8895, 'mollyoutherewreckinghomes': 8896, 'repeatcycle': 8897, 'gobbing': 8898, 'braindead': 8899, 'gobbers': 8900, 'gdi': 8901, 'mannerism': 8902, 'duna': 8903, 'hysterically': 8904, 'bangladeshi': 8905, 'savehindusinhindustan': 8906, 'counter': 8907, 'imm': 8908, 'wherry': 8909, 'pnp': 8910, 'sincere': 8911, 'holder': 8912, 'quietly': 8913, 'adequate': 8914, 'tuesdaymotivation': 8915, 'hangout': 8916, 'mah': 8917, 'bessy': 8918, 'tmi': 8919, 'pldt': 8920, 'sometime': 8921, 'tenth': 8922, 'workplace': 8923, 'consequrnces': 8924, 'defin': 8925, 'monopoly': 8926, 'manhattan': 8927, 'broflake': 8928, 'andymurray': 8929, 'provocating': 8930, 'pollen': 8931, 'organisation': 8932, 'royle': 8933, 'virgo': 8934, 'harmonize': 8935, 'kushner': 8936, 'badsleep': 8937, 'mainevent': 8938, 'tourn': 8939, 'cardroom': 8940, 'limpedpot': 8941, 'familypot': 8942, 'polkish': 8943, 'enlighten': 8944, 'dailycraig': 8945, 'heartbroken': 8946, 'alec': 8947, 'orchard': 8948, 'picker': 8949, 'accordingly': 8950, 'downcast': 8951, 'lyttleton': 8952, 'management': 8953, 'repent': 8954, 'villalta': 8955, 'pretibial': 8956, 'oedema': 8957, 'astro': 8958, 'goijng': 8959, 'lvoe': 8960, 'taylor': 8961, 'yoongi': 8962, 'disillusion': 8963, 'trumpjr': 8964, 'baffle': 8965, 'poet': 8966, 'heatwave': 8967, 'anal': 8968, 'bigbooty': 8969, 'bobs': 8970, 'blowjob': 8971, 'lacazette': 8972, 'klopp': 8973, 'snowman': 8974, 'mafia': 8975, 'atty': 8976, 'disgraceful': 8977, 'govern': 8978, 'foe': 8979, 'ao': 8980, 'cryinginmysleep': 8981, 'bodysuit': 8982, 'shaft': 8983, 'abrasion': 8984, 'panty': 8985, 'theoldsideshift': 8986, 'humansoflatecapitalism': 8987}\n"
          ],
          "name": "stdout"
        }
      ]
    },
    {
      "cell_type": "code",
      "metadata": {
        "colab": {
          "base_uri": "https://localhost:8080/",
          "height": 204
        },
        "id": "7gX3SHaVJvLy",
        "outputId": "3c825f63-9402-45f0-b31c-12668f53efe1"
      },
      "source": [
        "df.head()"
      ],
      "execution_count": 31,
      "outputs": [
        {
          "output_type": "execute_result",
          "data": {
            "text/html": [
              "<div>\n",
              "<style scoped>\n",
              "    .dataframe tbody tr th:only-of-type {\n",
              "        vertical-align: middle;\n",
              "    }\n",
              "\n",
              "    .dataframe tbody tr th {\n",
              "        vertical-align: top;\n",
              "    }\n",
              "\n",
              "    .dataframe thead th {\n",
              "        text-align: right;\n",
              "    }\n",
              "</style>\n",
              "<table border=\"1\" class=\"dataframe\">\n",
              "  <thead>\n",
              "    <tr style=\"text-align: right;\">\n",
              "      <th></th>\n",
              "      <th>Text</th>\n",
              "      <th>Label</th>\n",
              "      <th>Text_Final</th>\n",
              "    </tr>\n",
              "  </thead>\n",
              "  <tbody>\n",
              "    <tr>\n",
              "      <th>0</th>\n",
              "      <td>[“, worry, is, a, down, payment, on, a, proble...</td>\n",
              "      <td>2</td>\n",
              "      <td>['worry', 'payment', 'problem', 'may', 'never'...</td>\n",
              "    </tr>\n",
              "    <tr>\n",
              "      <th>1</th>\n",
              "      <td>[my, roommate, :, it, 's, okay, that, we, ca, ...</td>\n",
              "      <td>0</td>\n",
              "      <td>['roommate', 'okay', 'ca', 'spell', 'autocorre...</td>\n",
              "    </tr>\n",
              "    <tr>\n",
              "      <th>2</th>\n",
              "      <td>[no, but, that, 's, so, cute, ., atsu, was, pr...</td>\n",
              "      <td>1</td>\n",
              "      <td>['cute', 'atsu', 'probably', 'shy', 'photo', '...</td>\n",
              "    </tr>\n",
              "    <tr>\n",
              "      <th>3</th>\n",
              "      <td>[rooneys, fucking, untouchable, is, n't, he, ?...</td>\n",
              "      <td>0</td>\n",
              "      <td>['rooneys', 'fuck', 'untouchable', 'fuck', 'dr...</td>\n",
              "    </tr>\n",
              "    <tr>\n",
              "      <th>4</th>\n",
              "      <td>[it, 's, pretty, depressing, when, u, hit, pan...</td>\n",
              "      <td>3</td>\n",
              "      <td>['pretty', 'depress', 'u', 'hit', 'pan', 'ur',...</td>\n",
              "    </tr>\n",
              "  </tbody>\n",
              "</table>\n",
              "</div>"
            ],
            "text/plain": [
              "                                                Text  ...                                         Text_Final\n",
              "0  [“, worry, is, a, down, payment, on, a, proble...  ...  ['worry', 'payment', 'problem', 'may', 'never'...\n",
              "1  [my, roommate, :, it, 's, okay, that, we, ca, ...  ...  ['roommate', 'okay', 'ca', 'spell', 'autocorre...\n",
              "2  [no, but, that, 's, so, cute, ., atsu, was, pr...  ...  ['cute', 'atsu', 'probably', 'shy', 'photo', '...\n",
              "3  [rooneys, fucking, untouchable, is, n't, he, ?...  ...  ['rooneys', 'fuck', 'untouchable', 'fuck', 'dr...\n",
              "4  [it, 's, pretty, depressing, when, u, hit, pan...  ...  ['pretty', 'depress', 'u', 'hit', 'pan', 'ur',...\n",
              "\n",
              "[5 rows x 3 columns]"
            ]
          },
          "metadata": {
            "tags": []
          },
          "execution_count": 31
        }
      ]
    },
    {
      "cell_type": "code",
      "metadata": {
        "colab": {
          "base_uri": "https://localhost:8080/",
          "height": 204
        },
        "id": "GHjOgK4xSVlM",
        "outputId": "3f5eda1c-be40-492f-9e87-c91c89a6c400"
      },
      "source": [
        "df1.head()"
      ],
      "execution_count": 32,
      "outputs": [
        {
          "output_type": "execute_result",
          "data": {
            "text/html": [
              "<div>\n",
              "<style scoped>\n",
              "    .dataframe tbody tr th:only-of-type {\n",
              "        vertical-align: middle;\n",
              "    }\n",
              "\n",
              "    .dataframe tbody tr th {\n",
              "        vertical-align: top;\n",
              "    }\n",
              "\n",
              "    .dataframe thead th {\n",
              "        text-align: right;\n",
              "    }\n",
              "</style>\n",
              "<table border=\"1\" class=\"dataframe\">\n",
              "  <thead>\n",
              "    <tr style=\"text-align: right;\">\n",
              "      <th></th>\n",
              "      <th>Text</th>\n",
              "      <th>Label</th>\n",
              "      <th>Text_Final</th>\n",
              "    </tr>\n",
              "  </thead>\n",
              "  <tbody>\n",
              "    <tr>\n",
              "      <th>0</th>\n",
              "      <td>[#, deppression, is, real, ., partners, w/, #,...</td>\n",
              "      <td>3</td>\n",
              "      <td>['deppression', 'real', 'partner', 'depressed'...</td>\n",
              "    </tr>\n",
              "    <tr>\n",
              "      <th>1</th>\n",
              "      <td>[@, user, interesting, choice, of, words, ...,...</td>\n",
              "      <td>0</td>\n",
              "      <td>['user', 'interesting', 'choice', 'word', 'con...</td>\n",
              "    </tr>\n",
              "    <tr>\n",
              "      <th>2</th>\n",
              "      <td>[my, visit, to, hospital, for, care, triggered...</td>\n",
              "      <td>3</td>\n",
              "      <td>['visit', 'hospital', 'care', 'trigger', 'trau...</td>\n",
              "    </tr>\n",
              "    <tr>\n",
              "      <th>3</th>\n",
              "      <td>[@, user, welcome, to, #, mpsvt, !, we, are, d...</td>\n",
              "      <td>1</td>\n",
              "      <td>['user', 'welcome', 'mpsvt', 'delight', 'grate...</td>\n",
              "    </tr>\n",
              "    <tr>\n",
              "      <th>4</th>\n",
              "      <td>[what, makes, you, feel, #, joyful, ?]</td>\n",
              "      <td>1</td>\n",
              "      <td>['make', 'feel', 'joyful']</td>\n",
              "    </tr>\n",
              "  </tbody>\n",
              "</table>\n",
              "</div>"
            ],
            "text/plain": [
              "                                                Text  ...                                         Text_Final\n",
              "0  [#, deppression, is, real, ., partners, w/, #,...  ...  ['deppression', 'real', 'partner', 'depressed'...\n",
              "1  [@, user, interesting, choice, of, words, ...,...  ...  ['user', 'interesting', 'choice', 'word', 'con...\n",
              "2  [my, visit, to, hospital, for, care, triggered...  ...  ['visit', 'hospital', 'care', 'trigger', 'trau...\n",
              "3  [@, user, welcome, to, #, mpsvt, !, we, are, d...  ...  ['user', 'welcome', 'mpsvt', 'delight', 'grate...\n",
              "4             [what, makes, you, feel, #, joyful, ?]  ...                         ['make', 'feel', 'joyful']\n",
              "\n",
              "[5 rows x 3 columns]"
            ]
          },
          "metadata": {
            "tags": []
          },
          "execution_count": 32
        }
      ]
    },
    {
      "cell_type": "code",
      "metadata": {
        "id": "U5B4NTE3JD_e"
      },
      "source": [
        "X_train = tokenizer.texts_to_sequences(Text_Train)\n",
        "X_test = tokenizer.texts_to_sequences(Text_Test)"
      ],
      "execution_count": 33,
      "outputs": []
    },
    {
      "cell_type": "code",
      "metadata": {
        "colab": {
          "base_uri": "https://localhost:8080/"
        },
        "id": "41a6LPp7Jd0T",
        "outputId": "c8835ce2-8d70-40a0-c315-9a53ccbb7d9f"
      },
      "source": [
        "X_train[3], X_train[1], X_test[1], X_test[3]"
      ],
      "execution_count": 34,
      "outputs": [
        {
          "output_type": "execute_result",
          "data": {
            "text/plain": [
              "([3898, 31, 3899, 31, 254, 3900, 16, 1508, 3901, 151],\n",
              " [1506, 331, 30, 1897, 1507, 85, 2487],\n",
              " [1, 1176, 869, 146, 3336, 569, 1495, 63, 200, 411, 511, 32],\n",
              " [1, 1049, 3754, 442, 1097, 3754, 623])"
            ]
          },
          "metadata": {
            "tags": []
          },
          "execution_count": 34
        }
      ]
    },
    {
      "cell_type": "code",
      "metadata": {
        "id": "6LeWqKE3KPwX"
      },
      "source": [
        "X_train = pad_sequences(X_train, maxlen=MAX_SEQUENCE_LENGTH)\n",
        "X_test = pad_sequences(X_test, maxlen=MAX_SEQUENCE_LENGTH)"
      ],
      "execution_count": 35,
      "outputs": []
    },
    {
      "cell_type": "code",
      "metadata": {
        "colab": {
          "base_uri": "https://localhost:8080/"
        },
        "id": "jGEBg9ln2esQ",
        "outputId": "cfe91ce1-0ea1-42ff-c0f0-fc9146602d9d"
      },
      "source": [
        "X_train= np.array(X_train)\n",
        "X_test= np.array(X_test)\n",
        "print('Shape of data tensor:', X_train.shape)\n",
        "print('Shape of data tensor:', X_test.shape)"
      ],
      "execution_count": 36,
      "outputs": [
        {
          "output_type": "stream",
          "text": [
            "Shape of data tensor: (3631, 20)\n",
            "Shape of data tensor: (1421, 20)\n"
          ],
          "name": "stdout"
        }
      ]
    },
    {
      "cell_type": "code",
      "metadata": {
        "colab": {
          "base_uri": "https://localhost:8080/"
        },
        "id": "q1D6dS98K7ju",
        "outputId": "a619a08b-8542-43e4-ed19-f3ab11bab1d9"
      },
      "source": [
        "X_train[1,:], X_test[1,:]"
      ],
      "execution_count": 37,
      "outputs": [
        {
          "output_type": "execute_result",
          "data": {
            "text/plain": [
              "(array([   0,    0,    0,    0,    0,    0,    0,    0,    0,    0,    0,\n",
              "           0,    0, 1506,  331,   30, 1897, 1507,   85, 2487], dtype=int32),\n",
              " array([   0,    0,    0,    0,    0,    0,    0,    0,    1, 1176,  869,\n",
              "         146, 3336,  569, 1495,   63,  200,  411,  511,   32], dtype=int32))"
            ]
          },
          "metadata": {
            "tags": []
          },
          "execution_count": 37
        }
      ]
    },
    {
      "cell_type": "code",
      "metadata": {
        "colab": {
          "base_uri": "https://localhost:8080/"
        },
        "id": "DF5cRnh9fqJY",
        "outputId": "51e9f09d-eed3-410d-ce08-c2c2206bd58d"
      },
      "source": [
        "X_train[:,3], X_test[:,3]"
      ],
      "execution_count": 38,
      "outputs": [
        {
          "output_type": "execute_result",
          "data": {
            "text/plain": [
              "(array([0, 0, 0, ..., 0, 0, 0], dtype=int32),\n",
              " array([0, 0, 0, ..., 0, 0, 0], dtype=int32))"
            ]
          },
          "metadata": {
            "tags": []
          },
          "execution_count": 38
        }
      ]
    },
    {
      "cell_type": "code",
      "metadata": {
        "id": "M4GQe1_EDRN1"
      },
      "source": [
        "df= pd.get_dummies(df, columns= ['Label'])"
      ],
      "execution_count": 39,
      "outputs": []
    },
    {
      "cell_type": "code",
      "metadata": {
        "id": "np6fgAkbEXkJ"
      },
      "source": [
        "out_test= df1['Label'].values\n",
        "df1= pd.get_dummies(df1, columns= ['Label'])"
      ],
      "execution_count": 40,
      "outputs": []
    },
    {
      "cell_type": "code",
      "metadata": {
        "colab": {
          "base_uri": "https://localhost:8080/",
          "height": 204
        },
        "id": "KEgTnYp3FlQE",
        "outputId": "91476a91-ed94-4102-f0ae-3b820f73897b"
      },
      "source": [
        "df.head()"
      ],
      "execution_count": 41,
      "outputs": [
        {
          "output_type": "execute_result",
          "data": {
            "text/html": [
              "<div>\n",
              "<style scoped>\n",
              "    .dataframe tbody tr th:only-of-type {\n",
              "        vertical-align: middle;\n",
              "    }\n",
              "\n",
              "    .dataframe tbody tr th {\n",
              "        vertical-align: top;\n",
              "    }\n",
              "\n",
              "    .dataframe thead th {\n",
              "        text-align: right;\n",
              "    }\n",
              "</style>\n",
              "<table border=\"1\" class=\"dataframe\">\n",
              "  <thead>\n",
              "    <tr style=\"text-align: right;\">\n",
              "      <th></th>\n",
              "      <th>Text</th>\n",
              "      <th>Text_Final</th>\n",
              "      <th>Label_0</th>\n",
              "      <th>Label_1</th>\n",
              "      <th>Label_2</th>\n",
              "      <th>Label_3</th>\n",
              "    </tr>\n",
              "  </thead>\n",
              "  <tbody>\n",
              "    <tr>\n",
              "      <th>0</th>\n",
              "      <td>[“, worry, is, a, down, payment, on, a, proble...</td>\n",
              "      <td>['worry', 'payment', 'problem', 'may', 'never'...</td>\n",
              "      <td>0</td>\n",
              "      <td>0</td>\n",
              "      <td>1</td>\n",
              "      <td>0</td>\n",
              "    </tr>\n",
              "    <tr>\n",
              "      <th>1</th>\n",
              "      <td>[my, roommate, :, it, 's, okay, that, we, ca, ...</td>\n",
              "      <td>['roommate', 'okay', 'ca', 'spell', 'autocorre...</td>\n",
              "      <td>1</td>\n",
              "      <td>0</td>\n",
              "      <td>0</td>\n",
              "      <td>0</td>\n",
              "    </tr>\n",
              "    <tr>\n",
              "      <th>2</th>\n",
              "      <td>[no, but, that, 's, so, cute, ., atsu, was, pr...</td>\n",
              "      <td>['cute', 'atsu', 'probably', 'shy', 'photo', '...</td>\n",
              "      <td>0</td>\n",
              "      <td>1</td>\n",
              "      <td>0</td>\n",
              "      <td>0</td>\n",
              "    </tr>\n",
              "    <tr>\n",
              "      <th>3</th>\n",
              "      <td>[rooneys, fucking, untouchable, is, n't, he, ?...</td>\n",
              "      <td>['rooneys', 'fuck', 'untouchable', 'fuck', 'dr...</td>\n",
              "      <td>1</td>\n",
              "      <td>0</td>\n",
              "      <td>0</td>\n",
              "      <td>0</td>\n",
              "    </tr>\n",
              "    <tr>\n",
              "      <th>4</th>\n",
              "      <td>[it, 's, pretty, depressing, when, u, hit, pan...</td>\n",
              "      <td>['pretty', 'depress', 'u', 'hit', 'pan', 'ur',...</td>\n",
              "      <td>0</td>\n",
              "      <td>0</td>\n",
              "      <td>0</td>\n",
              "      <td>1</td>\n",
              "    </tr>\n",
              "  </tbody>\n",
              "</table>\n",
              "</div>"
            ],
            "text/plain": [
              "                                                Text  ... Label_3\n",
              "0  [“, worry, is, a, down, payment, on, a, proble...  ...       0\n",
              "1  [my, roommate, :, it, 's, okay, that, we, ca, ...  ...       0\n",
              "2  [no, but, that, 's, so, cute, ., atsu, was, pr...  ...       0\n",
              "3  [rooneys, fucking, untouchable, is, n't, he, ?...  ...       0\n",
              "4  [it, 's, pretty, depressing, when, u, hit, pan...  ...       1\n",
              "\n",
              "[5 rows x 6 columns]"
            ]
          },
          "metadata": {
            "tags": []
          },
          "execution_count": 41
        }
      ]
    },
    {
      "cell_type": "code",
      "metadata": {
        "colab": {
          "base_uri": "https://localhost:8080/",
          "height": 204
        },
        "id": "_4K_4zt9J4dS",
        "outputId": "be3290ce-c395-45b9-9359-2c0556344cc7"
      },
      "source": [
        "df1.head()"
      ],
      "execution_count": 42,
      "outputs": [
        {
          "output_type": "execute_result",
          "data": {
            "text/html": [
              "<div>\n",
              "<style scoped>\n",
              "    .dataframe tbody tr th:only-of-type {\n",
              "        vertical-align: middle;\n",
              "    }\n",
              "\n",
              "    .dataframe tbody tr th {\n",
              "        vertical-align: top;\n",
              "    }\n",
              "\n",
              "    .dataframe thead th {\n",
              "        text-align: right;\n",
              "    }\n",
              "</style>\n",
              "<table border=\"1\" class=\"dataframe\">\n",
              "  <thead>\n",
              "    <tr style=\"text-align: right;\">\n",
              "      <th></th>\n",
              "      <th>Text</th>\n",
              "      <th>Text_Final</th>\n",
              "      <th>Label_0</th>\n",
              "      <th>Label_1</th>\n",
              "      <th>Label_2</th>\n",
              "      <th>Label_3</th>\n",
              "    </tr>\n",
              "  </thead>\n",
              "  <tbody>\n",
              "    <tr>\n",
              "      <th>0</th>\n",
              "      <td>[#, deppression, is, real, ., partners, w/, #,...</td>\n",
              "      <td>['deppression', 'real', 'partner', 'depressed'...</td>\n",
              "      <td>0</td>\n",
              "      <td>0</td>\n",
              "      <td>0</td>\n",
              "      <td>1</td>\n",
              "    </tr>\n",
              "    <tr>\n",
              "      <th>1</th>\n",
              "      <td>[@, user, interesting, choice, of, words, ...,...</td>\n",
              "      <td>['user', 'interesting', 'choice', 'word', 'con...</td>\n",
              "      <td>1</td>\n",
              "      <td>0</td>\n",
              "      <td>0</td>\n",
              "      <td>0</td>\n",
              "    </tr>\n",
              "    <tr>\n",
              "      <th>2</th>\n",
              "      <td>[my, visit, to, hospital, for, care, triggered...</td>\n",
              "      <td>['visit', 'hospital', 'care', 'trigger', 'trau...</td>\n",
              "      <td>0</td>\n",
              "      <td>0</td>\n",
              "      <td>0</td>\n",
              "      <td>1</td>\n",
              "    </tr>\n",
              "    <tr>\n",
              "      <th>3</th>\n",
              "      <td>[@, user, welcome, to, #, mpsvt, !, we, are, d...</td>\n",
              "      <td>['user', 'welcome', 'mpsvt', 'delight', 'grate...</td>\n",
              "      <td>0</td>\n",
              "      <td>1</td>\n",
              "      <td>0</td>\n",
              "      <td>0</td>\n",
              "    </tr>\n",
              "    <tr>\n",
              "      <th>4</th>\n",
              "      <td>[what, makes, you, feel, #, joyful, ?]</td>\n",
              "      <td>['make', 'feel', 'joyful']</td>\n",
              "      <td>0</td>\n",
              "      <td>1</td>\n",
              "      <td>0</td>\n",
              "      <td>0</td>\n",
              "    </tr>\n",
              "  </tbody>\n",
              "</table>\n",
              "</div>"
            ],
            "text/plain": [
              "                                                Text  ... Label_3\n",
              "0  [#, deppression, is, real, ., partners, w/, #,...  ...       1\n",
              "1  [@, user, interesting, choice, of, words, ...,...  ...       0\n",
              "2  [my, visit, to, hospital, for, care, triggered...  ...       1\n",
              "3  [@, user, welcome, to, #, mpsvt, !, we, are, d...  ...       0\n",
              "4             [what, makes, you, feel, #, joyful, ?]  ...       0\n",
              "\n",
              "[5 rows x 6 columns]"
            ]
          },
          "metadata": {
            "tags": []
          },
          "execution_count": 42
        }
      ]
    },
    {
      "cell_type": "code",
      "metadata": {
        "id": "eO8LsVlpEjve"
      },
      "source": [
        "Labels_=['Label_0','Label_1','Label_2','Label_3']"
      ],
      "execution_count": 43,
      "outputs": []
    },
    {
      "cell_type": "code",
      "metadata": {
        "id": "TKdW_95nL8TY"
      },
      "source": [
        "y_train= df[Labels_].values\n",
        "y_test= df1[Labels_].values"
      ],
      "execution_count": 44,
      "outputs": []
    },
    {
      "cell_type": "code",
      "metadata": {
        "colab": {
          "base_uri": "https://localhost:8080/"
        },
        "id": "WkmWeBs0FvMf",
        "outputId": "12d59ecd-5b36-4fcb-b0c5-4fd6227db933"
      },
      "source": [
        "print(y_train[0,:])"
      ],
      "execution_count": 45,
      "outputs": [
        {
          "output_type": "stream",
          "text": [
            "[0 0 1 0]\n"
          ],
          "name": "stdout"
        }
      ]
    },
    {
      "cell_type": "code",
      "metadata": {
        "colab": {
          "base_uri": "https://localhost:8080/"
        },
        "id": "QVscbQaJ98DH",
        "outputId": "d32a909b-5b5d-4c75-bc4f-e549bf81eab0"
      },
      "source": [
        "print(y_train[0:10])"
      ],
      "execution_count": 46,
      "outputs": [
        {
          "output_type": "stream",
          "text": [
            "[[0 0 1 0]\n",
            " [1 0 0 0]\n",
            " [0 1 0 0]\n",
            " [1 0 0 0]\n",
            " [0 0 0 1]\n",
            " [1 0 0 0]\n",
            " [0 0 0 1]\n",
            " [0 1 0 0]\n",
            " [1 0 0 0]\n",
            " [1 0 0 0]]\n"
          ],
          "name": "stdout"
        }
      ]
    },
    {
      "cell_type": "code",
      "metadata": {
        "id": "ojv-xBefmTMe",
        "colab": {
          "base_uri": "https://localhost:8080/"
        },
        "outputId": "e4ca7194-7f60-4ffc-ca4c-fcbb3922b66f"
      },
      "source": [
        "!wget http://nlp.stanford.edu/data/glove.6B.zip\n",
        "!unzip glove.6B.zip"
      ],
      "execution_count": null,
      "outputs": [
        {
          "output_type": "stream",
          "text": [
            "--2021-04-25 14:30:53--  http://nlp.stanford.edu/data/glove.6B.zip\n",
            "Resolving nlp.stanford.edu (nlp.stanford.edu)... 171.64.67.140\n",
            "Connecting to nlp.stanford.edu (nlp.stanford.edu)|171.64.67.140|:80... connected.\n",
            "HTTP request sent, awaiting response... 302 Found\n",
            "Location: https://nlp.stanford.edu/data/glove.6B.zip [following]\n",
            "--2021-04-25 14:30:54--  https://nlp.stanford.edu/data/glove.6B.zip\n",
            "Connecting to nlp.stanford.edu (nlp.stanford.edu)|171.64.67.140|:443... connected.\n",
            "HTTP request sent, awaiting response... 301 Moved Permanently\n",
            "Location: http://downloads.cs.stanford.edu/nlp/data/glove.6B.zip [following]\n",
            "--2021-04-25 14:30:54--  http://downloads.cs.stanford.edu/nlp/data/glove.6B.zip\n",
            "Resolving downloads.cs.stanford.edu (downloads.cs.stanford.edu)... 171.64.64.22\n",
            "Connecting to downloads.cs.stanford.edu (downloads.cs.stanford.edu)|171.64.64.22|:80... connected.\n",
            "HTTP request sent, awaiting response... 200 OK\n",
            "Length: 862182613 (822M) [application/zip]\n",
            "Saving to: ‘glove.6B.zip’\n",
            "\n",
            "glove.6B.zip        100%[===================>] 822.24M  5.05MB/s    in 2m 46s  \n",
            "\n",
            "2021-04-25 14:33:40 (4.97 MB/s) - ‘glove.6B.zip’ saved [862182613/862182613]\n",
            "\n",
            "Archive:  glove.6B.zip\n",
            "  inflating: glove.6B.50d.txt        \n",
            "  inflating: glove.6B.100d.txt       \n",
            "  inflating: glove.6B.200d.txt       \n",
            "  inflating: glove.6B.300d.txt       \n"
          ],
          "name": "stdout"
        }
      ]
    },
    {
      "cell_type": "code",
      "metadata": {
        "id": "tyR8ssaLmTuC"
      },
      "source": [
        "GLOVE_EMB = '/content/glove.6B.300d.txt'\n",
        "EMBEDDING_DIM = 300\n",
        "LR = 1e-3"
      ],
      "execution_count": 50,
      "outputs": []
    },
    {
      "cell_type": "code",
      "metadata": {
        "id": "aDVwBDnrJ7oo"
      },
      "source": [
        "url= \"https://dl.fbaipublicfiles.com/fasttext/vectors-english/wiki-news-300d-1M.vec.zip\"\n",
        "r=requests.get(url)\n",
        "z=zipfile.ZipFile(io.BytesIO(r.content))\n",
        "z.extractall()"
      ],
      "execution_count": 48,
      "outputs": []
    },
    {
      "cell_type": "code",
      "metadata": {
        "colab": {
          "base_uri": "https://localhost:8080/"
        },
        "id": "HTXAK5raJ8S2",
        "outputId": "c377771a-1372-4f98-b2ff-ab85b493afa2"
      },
      "source": [
        "## FastText\n",
        "import codecs\n",
        "embeddings_index = {}\n",
        "f=codecs.open('/content/wiki-news-300d-1M.vec', encoding= 'utf-8')\n",
        "for line in f:\n",
        "  values = line.split()\n",
        "  word = values[0]\n",
        "  coefs = np.asarray(values[1:], dtype='float32')\n",
        "  embeddings_index[word] = coefs\n",
        "f.close()\n",
        "\n",
        "print('Found %s word vectors.' %len(embeddings_index))"
      ],
      "execution_count": 49,
      "outputs": [
        {
          "output_type": "stream",
          "text": [
            "Found 999995 word vectors.\n"
          ],
          "name": "stdout"
        }
      ]
    },
    {
      "cell_type": "code",
      "metadata": {
        "id": "0TIbOKIOmT0T",
        "colab": {
          "base_uri": "https://localhost:8080/"
        },
        "outputId": "92511be3-0632-4ca1-a05a-248e25b5d5b0"
      },
      "source": [
        "# ## GLOVE\n",
        "# embeddings_index = {}\n",
        "# f = open(GLOVE_EMB, encoding=\"utf8\")\n",
        "# for line in f:\n",
        "#   values = line.split()\n",
        "#   word = values[0]\n",
        "#   coefs = np.asarray(values[1:], dtype='float32')\n",
        "#   embeddings_index[word] = coefs\n",
        "# f.close()\n",
        "\n",
        "# print('Found %s word vectors.' %len(embeddings_index))"
      ],
      "execution_count": null,
      "outputs": [
        {
          "output_type": "stream",
          "text": [
            "Found 400000 word vectors.\n"
          ],
          "name": "stdout"
        }
      ]
    },
    {
      "cell_type": "code",
      "metadata": {
        "id": "4idM1QSImT3g"
      },
      "source": [
        "vocab_size= MAX_NB_WORDS\n",
        "embedding_matrix = np.zeros((vocab_size, EMBEDDING_DIM))\n",
        "words_not_found= []\n",
        "for word, i in word_index.items():\n",
        "  embedding_vector = embeddings_index.get(word)\n",
        "  if embedding_vector is not None: \n",
        "    embedding_matrix[i] = embedding_vector\n",
        "  else:\n",
        "    words_not_found.append(word)"
      ],
      "execution_count": 51,
      "outputs": []
    },
    {
      "cell_type": "code",
      "metadata": {
        "id": "VrUK-8QEn0CS"
      },
      "source": [
        "embedding_layer = tf.keras.layers.Embedding(vocab_size,\n",
        "                                          EMBEDDING_DIM,\n",
        "                                          weights=[embedding_matrix],\n",
        "                                          input_length=MAX_SEQUENCE_LENGTH,\n",
        "                                          trainable=False)"
      ],
      "execution_count": 52,
      "outputs": []
    },
    {
      "cell_type": "code",
      "metadata": {
        "id": "llf6u77Rg3Ju"
      },
      "source": [
        "# for word, i in word_index.items():\n",
        "#   embedding_vector = embeddings_index.get(word)\n",
        "#   print(word)\n",
        "#   print(embedding_vector)"
      ],
      "execution_count": 53,
      "outputs": []
    },
    {
      "cell_type": "code",
      "metadata": {
        "colab": {
          "base_uri": "https://localhost:8080/"
        },
        "id": "vOtawhbMecvM",
        "outputId": "c1e5319e-72b9-4f59-d0f4-cb7b523d3022"
      },
      "source": [
        "print(embedding_matrix[1:2,:])"
      ],
      "execution_count": 54,
      "outputs": [
        {
          "output_type": "stream",
          "text": [
            "[[ 0.0793      0.0079      0.0555     -0.0205      0.0599     -0.0173\n",
            "  -0.0016      0.0223      0.0595     -0.0254     -0.0138     -0.1036\n",
            "   0.0826      0.1204      0.0047     -0.0539     -0.0558      0.27970001\n",
            "  -0.0729      0.0893     -0.18610001 -0.2061      0.15899999  0.0328\n",
            "  -0.0833     -0.0096     -0.0399     -0.0598     -0.1119     -0.0052\n",
            "  -0.0543      0.0368      0.0578     -0.0288      0.0152      0.16\n",
            "   0.1459      0.0465     -0.1142     -0.0805      0.1349      0.0502\n",
            "   0.0654     -0.0773     -0.1373     -0.21269999 -0.0183     -0.048\n",
            "   0.0552      0.0953     -0.0552      0.0823     -0.6591      0.1621\n",
            "   0.21070001  0.0116     -0.022      -0.0585     -0.0517      0.0312\n",
            "   0.14929999  0.021      -0.1256      0.0572      0.0276     -0.0512\n",
            "  -0.0944     -0.0964     -0.0221     -0.0047     -0.0039      0.1116\n",
            "  -0.0239      0.1679      0.0164     -0.1096     -0.0972      0.0773\n",
            "   0.0245      0.13869999  0.0412      0.0705      0.036      -0.175\n",
            "   0.0887     -0.1058     -0.0594     -0.0203      0.1671      0.0715\n",
            "   0.0067     -0.0474     -0.0628     -0.0889      0.1373     -0.0166\n",
            "  -0.0474     -0.1874      0.0823     -0.0862     -0.18000001  0.0997\n",
            "   0.1313      0.0817     -0.1116     -0.0458     -0.029       0.031\n",
            "  -0.0564      0.1016      0.0869      0.25040001  0.13349999  0.0019\n",
            "  -0.13779999 -0.0753      0.1205     -0.0707     -0.142      -0.377\n",
            "   0.0075      0.1363     -0.0093     -0.0653     -0.0702      0.1617\n",
            "   0.0466     -0.0213      0.1874      0.1417      0.0013     -0.0812\n",
            "  -0.0818      0.0905      0.0278      0.0289     -0.1688      0.0088\n",
            "   0.15710001 -0.0434     -0.0794      0.101      -0.25240001  0.2814\n",
            "   0.0765     -0.0323      0.13940001  0.0675     -0.0243     -0.0091\n",
            "  -0.0365     -0.0084      0.0612      0.17479999 -0.0495     -0.0704\n",
            "  -0.1162     -0.0925     -0.1097     -0.0012      0.0388     -0.0701\n",
            "   0.0686     -0.0055     -0.0421      0.0651      0.1269     -0.11\n",
            "   0.0065      0.0179     -0.153      -0.0846     -0.0232     -0.192\n",
            "   0.0635     -0.0142      0.1908      0.16069999  0.139       0.0258\n",
            "   0.0347     -0.0224      0.025      -0.14129999 -0.0096     -0.0702\n",
            "  -0.0537      0.1208     -0.23119999 -0.1336      0.0903      0.0471\n",
            "   0.14219999 -0.0075      0.0203     -0.0731     -0.1512      0.0206\n",
            "   0.0567     -0.0685     -0.0331     -0.0245     -0.19220001 -0.0208\n",
            "  -0.0422     -0.138       0.0528     -0.189       0.0426      0.0109\n",
            "   0.13420001 -0.009      -0.0438     -0.074      -0.0533      0.006\n",
            "  -0.0715      0.0887     -0.0249      0.092      -0.1583      0.0773\n",
            "   0.096      -0.0425     -0.0323     -0.041      -0.0661     -0.1803\n",
            "  -0.0055     -0.1689      0.0418     -0.0102      0.42680001 -0.0417\n",
            "   0.05       -0.1573      0.0772      0.16509999 -0.28690001  0.1083\n",
            "   0.0207      0.1311      0.0064      0.0332      0.0963      0.0926\n",
            "   0.0116     -0.0033     -0.072       0.2071     -0.1005     -0.0756\n",
            "   0.0308     -0.0096      0.0442     -0.1893     -0.0547     -0.094\n",
            "  -0.0568      0.0091      0.0144      0.0061      0.0321      0.0264\n",
            "  -0.5226      0.17820001 -0.1842     -0.1056     -0.0609     -0.0847\n",
            "  -0.0565     -0.0051      0.0979      0.0522     -0.0615      0.06\n",
            "   0.005       0.23710001  0.0246     -0.046       0.0609     -0.0237\n",
            "   0.1894     -0.0216      0.0214     -0.02       -0.0263     -0.1586\n",
            "  -0.0305      0.0786      0.0214      0.0392     -0.0699      0.1129\n",
            "  -0.2431     -0.0856     -0.1709      0.0179      0.0384      0.0697    ]]\n"
          ],
          "name": "stdout"
        }
      ]
    },
    {
      "cell_type": "code",
      "metadata": {
        "id": "Z2DS1Ba3oonV"
      },
      "source": [
        "from tensorflow.keras.layers import Conv1D, Bidirectional, LSTM, Dense, Input, Dropout\n",
        "from tensorflow.keras.layers import SpatialDropout1D\n",
        "from tensorflow.keras.callbacks import ModelCheckpoint"
      ],
      "execution_count": 55,
      "outputs": []
    },
    {
      "cell_type": "code",
      "metadata": {
        "id": "XCO7WWmxooqG",
        "colab": {
          "base_uri": "https://localhost:8080/"
        },
        "outputId": "83c67675-8430-4c4e-eaa5-92a723e69f5d"
      },
      "source": [
        "sequence_input = Input(shape=(MAX_SEQUENCE_LENGTH,), dtype='int32')\n",
        "embedding_sequences = embedding_layer(sequence_input)\n",
        "x = SpatialDropout1D(0.2)(embedding_sequences)\n",
        "# x = Conv1D(32, 5, activation='relu')(x)\n",
        "x = Bidirectional(LSTM(64, dropout=0.5, recurrent_dropout=0.5))(x)\n",
        "x = Dropout(0.5)(x)\n",
        "x = Dense(16, activation='relu')(x)\n",
        "outputs = Dense(4, activation='softmax')(x)\n",
        "model = tf.keras.Model(sequence_input, outputs)"
      ],
      "execution_count": 56,
      "outputs": [
        {
          "output_type": "stream",
          "text": [
            "WARNING:tensorflow:Layer lstm will not use cuDNN kernel since it doesn't meet the cuDNN kernel criteria. It will use generic GPU kernel as fallback when running on GPU\n",
            "WARNING:tensorflow:Layer lstm will not use cuDNN kernel since it doesn't meet the cuDNN kernel criteria. It will use generic GPU kernel as fallback when running on GPU\n",
            "WARNING:tensorflow:Layer lstm will not use cuDNN kernel since it doesn't meet the cuDNN kernel criteria. It will use generic GPU kernel as fallback when running on GPU\n"
          ],
          "name": "stdout"
        }
      ]
    },
    {
      "cell_type": "code",
      "metadata": {
        "colab": {
          "base_uri": "https://localhost:8080/"
        },
        "id": "UZMz-f1CKCFy",
        "outputId": "66673e55-1b25-4d3e-a90b-242fa20541fa"
      },
      "source": [
        "model.summary()"
      ],
      "execution_count": 57,
      "outputs": [
        {
          "output_type": "stream",
          "text": [
            "Model: \"model\"\n",
            "_________________________________________________________________\n",
            "Layer (type)                 Output Shape              Param #   \n",
            "=================================================================\n",
            "input_1 (InputLayer)         [(None, 20)]              0         \n",
            "_________________________________________________________________\n",
            "embedding (Embedding)        (None, 20, 300)           3000000   \n",
            "_________________________________________________________________\n",
            "spatial_dropout1d (SpatialDr (None, 20, 300)           0         \n",
            "_________________________________________________________________\n",
            "bidirectional (Bidirectional (None, 128)               186880    \n",
            "_________________________________________________________________\n",
            "dropout (Dropout)            (None, 128)               0         \n",
            "_________________________________________________________________\n",
            "dense (Dense)                (None, 16)                2064      \n",
            "_________________________________________________________________\n",
            "dense_1 (Dense)              (None, 4)                 68        \n",
            "=================================================================\n",
            "Total params: 3,189,012\n",
            "Trainable params: 189,012\n",
            "Non-trainable params: 3,000,000\n",
            "_________________________________________________________________\n"
          ],
          "name": "stdout"
        }
      ]
    },
    {
      "cell_type": "code",
      "metadata": {
        "id": "9qOasAyaoovj"
      },
      "source": [
        "from tensorflow.keras.optimizers import Adam\n",
        "from tensorflow.keras.callbacks import ReduceLROnPlateau\n",
        "\n",
        "model.compile(optimizer=Adam(learning_rate=LR), loss='categorical_crossentropy',\n",
        "              metrics=['accuracy'])\n",
        "ReduceLROnPlateau = ReduceLROnPlateau(factor=0.1,\n",
        "                                     min_lr = 0.01,\n",
        "                                     monitor = 'val_loss',\n",
        "                                     verbose = 1)"
      ],
      "execution_count": 58,
      "outputs": []
    },
    {
      "cell_type": "code",
      "metadata": {
        "id": "cwH-vu-QpQek",
        "colab": {
          "base_uri": "https://localhost:8080/"
        },
        "outputId": "f845003c-c0d6-4bae-d072-0d89668a50aa"
      },
      "source": [
        "print(\"Training on GPU...\") if tf.test.is_gpu_available() else print(\"Training on CPU...\")"
      ],
      "execution_count": 59,
      "outputs": [
        {
          "output_type": "stream",
          "text": [
            "WARNING:tensorflow:From <ipython-input-59-d4a4e34b7f9f>:1: is_gpu_available (from tensorflow.python.framework.test_util) is deprecated and will be removed in a future version.\n",
            "Instructions for updating:\n",
            "Use `tf.config.list_physical_devices('GPU')` instead.\n",
            "Training on GPU...\n"
          ],
          "name": "stdout"
        }
      ]
    },
    {
      "cell_type": "code",
      "metadata": {
        "id": "c8zGjR8Z8gdb"
      },
      "source": [
        "BATCH_SIZE = 64\n",
        "EPOCHS = 50"
      ],
      "execution_count": 60,
      "outputs": []
    },
    {
      "cell_type": "code",
      "metadata": {
        "id": "xQ9Nv1RLpyIk",
        "colab": {
          "base_uri": "https://localhost:8080/"
        },
        "outputId": "781f9988-7a59-4e98-a92a-64be15d6b20a"
      },
      "source": [
        "history = model.fit(X_train, y_train, batch_size=BATCH_SIZE, epochs=EPOCHS,\n",
        "                   validation_data= (X_test,y_test), callbacks=[ReduceLROnPlateau])"
      ],
      "execution_count": 61,
      "outputs": [
        {
          "output_type": "stream",
          "text": [
            "Epoch 1/50\n",
            "57/57 [==============================] - 16s 155ms/step - loss: 1.3161 - accuracy: 0.3812 - val_loss: 1.2028 - val_accuracy: 0.3927\n",
            "Epoch 2/50\n",
            "57/57 [==============================] - 8s 148ms/step - loss: 1.1345 - accuracy: 0.5081 - val_loss: 0.9014 - val_accuracy: 0.6742\n",
            "Epoch 3/50\n",
            "57/57 [==============================] - 8s 144ms/step - loss: 0.9396 - accuracy: 0.6308 - val_loss: 0.8266 - val_accuracy: 0.6918\n",
            "Epoch 4/50\n",
            "57/57 [==============================] - 8s 145ms/step - loss: 0.8834 - accuracy: 0.6553 - val_loss: 0.7669 - val_accuracy: 0.7171\n",
            "Epoch 5/50\n",
            "57/57 [==============================] - 8s 145ms/step - loss: 0.8549 - accuracy: 0.6627 - val_loss: 0.7253 - val_accuracy: 0.7417\n",
            "Epoch 6/50\n",
            "57/57 [==============================] - 8s 142ms/step - loss: 0.8016 - accuracy: 0.6909 - val_loss: 0.7348 - val_accuracy: 0.7333\n",
            "Epoch 7/50\n",
            "57/57 [==============================] - 8s 145ms/step - loss: 0.7874 - accuracy: 0.6956 - val_loss: 0.7462 - val_accuracy: 0.7234\n",
            "Epoch 8/50\n",
            "57/57 [==============================] - 8s 143ms/step - loss: 0.7755 - accuracy: 0.7037 - val_loss: 0.6969 - val_accuracy: 0.7467\n",
            "Epoch 9/50\n",
            "57/57 [==============================] - 8s 142ms/step - loss: 0.7799 - accuracy: 0.7025 - val_loss: 0.6961 - val_accuracy: 0.7530\n",
            "Epoch 10/50\n",
            "57/57 [==============================] - 8s 139ms/step - loss: 0.7614 - accuracy: 0.7085 - val_loss: 0.6826 - val_accuracy: 0.7607\n",
            "Epoch 11/50\n",
            "57/57 [==============================] - 8s 141ms/step - loss: 0.7448 - accuracy: 0.7097 - val_loss: 0.7232 - val_accuracy: 0.7298\n",
            "Epoch 12/50\n",
            "57/57 [==============================] - 8s 140ms/step - loss: 0.7022 - accuracy: 0.7224 - val_loss: 0.6586 - val_accuracy: 0.7621\n",
            "Epoch 13/50\n",
            "57/57 [==============================] - 8s 142ms/step - loss: 0.7183 - accuracy: 0.7131 - val_loss: 0.6554 - val_accuracy: 0.7643\n",
            "Epoch 14/50\n",
            "57/57 [==============================] - 8s 144ms/step - loss: 0.7085 - accuracy: 0.7317 - val_loss: 0.6518 - val_accuracy: 0.7657\n",
            "Epoch 15/50\n",
            "57/57 [==============================] - 8s 145ms/step - loss: 0.7050 - accuracy: 0.7265 - val_loss: 0.6613 - val_accuracy: 0.7593\n",
            "Epoch 16/50\n",
            "57/57 [==============================] - 8s 140ms/step - loss: 0.6785 - accuracy: 0.7323 - val_loss: 0.6701 - val_accuracy: 0.7635\n",
            "Epoch 17/50\n",
            "57/57 [==============================] - 8s 140ms/step - loss: 0.6863 - accuracy: 0.7265 - val_loss: 0.6607 - val_accuracy: 0.7593\n",
            "Epoch 18/50\n",
            "57/57 [==============================] - 8s 138ms/step - loss: 0.6522 - accuracy: 0.7480 - val_loss: 0.6537 - val_accuracy: 0.7600\n",
            "Epoch 19/50\n",
            "57/57 [==============================] - 8s 143ms/step - loss: 0.7044 - accuracy: 0.7336 - val_loss: 0.6595 - val_accuracy: 0.7657\n",
            "Epoch 20/50\n",
            "57/57 [==============================] - 8s 141ms/step - loss: 0.6340 - accuracy: 0.7547 - val_loss: 0.6407 - val_accuracy: 0.7748\n",
            "Epoch 21/50\n",
            "57/57 [==============================] - 8s 142ms/step - loss: 0.6429 - accuracy: 0.7571 - val_loss: 0.6432 - val_accuracy: 0.7664\n",
            "Epoch 22/50\n",
            "57/57 [==============================] - 8s 143ms/step - loss: 0.6334 - accuracy: 0.7520 - val_loss: 0.6428 - val_accuracy: 0.7628\n",
            "Epoch 23/50\n",
            "57/57 [==============================] - 8s 139ms/step - loss: 0.6393 - accuracy: 0.7497 - val_loss: 0.6328 - val_accuracy: 0.7692\n",
            "Epoch 24/50\n",
            "57/57 [==============================] - 8s 140ms/step - loss: 0.6323 - accuracy: 0.7561 - val_loss: 0.6292 - val_accuracy: 0.7790\n",
            "Epoch 25/50\n",
            "57/57 [==============================] - 8s 134ms/step - loss: 0.6536 - accuracy: 0.7534 - val_loss: 0.6343 - val_accuracy: 0.7741\n",
            "Epoch 26/50\n",
            "57/57 [==============================] - 8s 138ms/step - loss: 0.6114 - accuracy: 0.7710 - val_loss: 0.6272 - val_accuracy: 0.7741\n",
            "Epoch 27/50\n",
            "57/57 [==============================] - 8s 142ms/step - loss: 0.6371 - accuracy: 0.7603 - val_loss: 0.6373 - val_accuracy: 0.7565\n",
            "Epoch 28/50\n",
            "57/57 [==============================] - 8s 140ms/step - loss: 0.6478 - accuracy: 0.7543 - val_loss: 0.6361 - val_accuracy: 0.7678\n",
            "Epoch 29/50\n",
            "57/57 [==============================] - 8s 138ms/step - loss: 0.6234 - accuracy: 0.7673 - val_loss: 0.6468 - val_accuracy: 0.7572\n",
            "Epoch 30/50\n",
            "57/57 [==============================] - 8s 142ms/step - loss: 0.6250 - accuracy: 0.7627 - val_loss: 0.6330 - val_accuracy: 0.7657\n",
            "Epoch 31/50\n",
            "57/57 [==============================] - 9s 154ms/step - loss: 0.6125 - accuracy: 0.7666 - val_loss: 0.6537 - val_accuracy: 0.7657\n",
            "Epoch 32/50\n",
            "57/57 [==============================] - 9s 151ms/step - loss: 0.6105 - accuracy: 0.7675 - val_loss: 0.6238 - val_accuracy: 0.7833\n",
            "Epoch 33/50\n",
            "57/57 [==============================] - 8s 140ms/step - loss: 0.5974 - accuracy: 0.7664 - val_loss: 0.6715 - val_accuracy: 0.7565\n",
            "Epoch 34/50\n",
            "57/57 [==============================] - 8s 139ms/step - loss: 0.6219 - accuracy: 0.7600 - val_loss: 0.6213 - val_accuracy: 0.7706\n",
            "Epoch 35/50\n",
            "57/57 [==============================] - 8s 143ms/step - loss: 0.5912 - accuracy: 0.7727 - val_loss: 0.6408 - val_accuracy: 0.7713\n",
            "Epoch 36/50\n",
            "57/57 [==============================] - 8s 140ms/step - loss: 0.5735 - accuracy: 0.7922 - val_loss: 0.6115 - val_accuracy: 0.7741\n",
            "Epoch 37/50\n",
            "57/57 [==============================] - 8s 143ms/step - loss: 0.5787 - accuracy: 0.7707 - val_loss: 0.6310 - val_accuracy: 0.7692\n",
            "Epoch 38/50\n",
            "57/57 [==============================] - 8s 137ms/step - loss: 0.5455 - accuracy: 0.7863 - val_loss: 0.6265 - val_accuracy: 0.7776\n",
            "Epoch 39/50\n",
            "57/57 [==============================] - 8s 141ms/step - loss: 0.5710 - accuracy: 0.7850 - val_loss: 0.6389 - val_accuracy: 0.7811\n",
            "Epoch 40/50\n",
            "57/57 [==============================] - 8s 143ms/step - loss: 0.5556 - accuracy: 0.7823 - val_loss: 0.6137 - val_accuracy: 0.7896\n",
            "Epoch 41/50\n",
            "57/57 [==============================] - 8s 142ms/step - loss: 0.5419 - accuracy: 0.7858 - val_loss: 0.6312 - val_accuracy: 0.7769\n",
            "Epoch 42/50\n",
            "57/57 [==============================] - 8s 139ms/step - loss: 0.5643 - accuracy: 0.7853 - val_loss: 0.6331 - val_accuracy: 0.7783\n",
            "Epoch 43/50\n",
            "57/57 [==============================] - 8s 139ms/step - loss: 0.5483 - accuracy: 0.7900 - val_loss: 0.6169 - val_accuracy: 0.7875\n",
            "Epoch 44/50\n",
            "57/57 [==============================] - 8s 143ms/step - loss: 0.5568 - accuracy: 0.7895 - val_loss: 0.6352 - val_accuracy: 0.7783\n",
            "Epoch 45/50\n",
            "57/57 [==============================] - 8s 145ms/step - loss: 0.5585 - accuracy: 0.7848 - val_loss: 0.6422 - val_accuracy: 0.7825\n",
            "Epoch 46/50\n",
            "57/57 [==============================] - 8s 140ms/step - loss: 0.5718 - accuracy: 0.7761 - val_loss: 0.6363 - val_accuracy: 0.7762\n",
            "Epoch 47/50\n",
            "57/57 [==============================] - 8s 141ms/step - loss: 0.5237 - accuracy: 0.7953 - val_loss: 0.6552 - val_accuracy: 0.7727\n",
            "Epoch 48/50\n",
            "57/57 [==============================] - 8s 145ms/step - loss: 0.5408 - accuracy: 0.7957 - val_loss: 0.6356 - val_accuracy: 0.7741\n",
            "Epoch 49/50\n",
            "57/57 [==============================] - 8s 141ms/step - loss: 0.5184 - accuracy: 0.7996 - val_loss: 0.6263 - val_accuracy: 0.7811\n",
            "Epoch 50/50\n",
            "57/57 [==============================] - 8s 140ms/step - loss: 0.5013 - accuracy: 0.8095 - val_loss: 0.6359 - val_accuracy: 0.7818\n"
          ],
          "name": "stdout"
        }
      ]
    },
    {
      "cell_type": "code",
      "metadata": {
        "colab": {
          "base_uri": "https://localhost:8080/"
        },
        "id": "Z1Z0H2eGkvgq",
        "outputId": "df88bb46-2b18-4918-a818-998f4b8f8b73"
      },
      "source": [
        "accr = model.evaluate(X_test,y_test)\n",
        "print('Test set\\n  Loss: {:0.3f}\\n  Accuracy: {:0.3f}'.format(accr[0],accr[1]))"
      ],
      "execution_count": 62,
      "outputs": [
        {
          "output_type": "stream",
          "text": [
            "45/45 [==============================] - 1s 12ms/step - loss: 0.6359 - accuracy: 0.7818\n",
            "Test set\n",
            "  Loss: 0.636\n",
            "  Accuracy: 0.782\n"
          ],
          "name": "stdout"
        }
      ]
    },
    {
      "cell_type": "code",
      "metadata": {
        "id": "K8XXlpG3ckOk"
      },
      "source": [
        "y_pred = model.predict(X_test)\n",
        "out_pred= [np.argmax(y_pred[i,:]) for i in range(y_pred.shape[0])]\n",
        "out_test=out_test.astype(np.int32)\n",
        "out_pred= np.array(out_pred)"
      ],
      "execution_count": 63,
      "outputs": []
    },
    {
      "cell_type": "code",
      "metadata": {
        "colab": {
          "base_uri": "https://localhost:8080/"
        },
        "id": "LoGh3MWoISYB",
        "outputId": "432ea3be-a5a6-48b5-c8b1-ae720e7422d8"
      },
      "source": [
        "from sklearn.metrics import f1_score\n",
        "print(\"F1 Score -> \",f1_score(out_pred, out_test, average='macro')*100)"
      ],
      "execution_count": null,
      "outputs": [
        {
          "output_type": "stream",
          "text": [
            "F1 Score ->  73.07274611610103\n"
          ],
          "name": "stdout"
        }
      ]
    },
    {
      "cell_type": "code",
      "metadata": {
        "id": "jAJ_vTpPiIzh"
      },
      "source": [
        "model.save('multieval_emotion_lstm.h5')"
      ],
      "execution_count": null,
      "outputs": []
    },
    {
      "cell_type": "code",
      "metadata": {
        "id": "C9ASLZE_iiXo"
      },
      "source": [
        "# model = load_model('../input/offensive-lstm/multieval_offensive_lstm.h5')"
      ],
      "execution_count": null,
      "outputs": []
    },
    {
      "cell_type": "code",
      "metadata": {
        "colab": {
          "base_uri": "https://localhost:8080/",
          "height": 562
        },
        "id": "X6XWyNbuioJU",
        "outputId": "470275f9-75d7-4a7a-a494-b2e016fa61ef"
      },
      "source": [
        "import matplotlib.pyplot as plt\n",
        "\n",
        "acc = history.history['accuracy']\n",
        "val_acc = history.history['val_accuracy']\n",
        "loss = history.history['loss']\n",
        "val_loss = history.history['val_loss']\n",
        "\n",
        "epochs = range(1, len(acc) + 1)\n",
        "\n",
        "plt.plot(epochs, acc, 'bo', label='Training acc')\n",
        "plt.plot(epochs, val_acc, 'b', label='Test acc')\n",
        "plt.title('Training and Test accuracy')\n",
        "plt.legend()\n",
        "\n",
        "plt.figure()\n",
        "\n",
        "plt.plot(epochs, loss, 'bo', label='Training loss')\n",
        "plt.plot(epochs, val_loss, 'b', label='Test loss')\n",
        "plt.title('Training and Test loss')\n",
        "plt.legend()\n"
      ],
      "execution_count": null,
      "outputs": [
        {
          "output_type": "execute_result",
          "data": {
            "text/plain": [
              "<matplotlib.legend.Legend at 0x7fcd6d89d190>"
            ]
          },
          "metadata": {
            "tags": []
          },
          "execution_count": 106
        },
        {
          "output_type": "display_data",
          "data": {
            "image/png": "[encoded data removed]",
            "text/plain": [
              "<Figure size 432x288 with 1 Axes>"
            ]
          },
          "metadata": {
            "tags": [],
            "needs_background": "light"
          }
        },
        {
          "output_type": "display_data",
          "data": {
            "image/png": "[encoded data removed]",
            "text/plain": [
              "<Figure size 432x288 with 1 Axes>"
            ]
          },
          "metadata": {
            "tags": [],
            "needs_background": "light"
          }
        }
      ]
    },
    {
      "cell_type": "code",
      "metadata": {
        "colab": {
          "base_uri": "https://localhost:8080/"
        },
        "id": "1fHA9tEH-a7P",
        "outputId": "9ff73dc3-c3f5-44ee-f704-7196394ded8e"
      },
      "source": [
        "print(y_pred[0:5,:])"
      ],
      "execution_count": 65,
      "outputs": [
        {
          "output_type": "stream",
          "text": [
            "[[1.7555340e-03 4.6025353e-04 8.3804491e-04 9.9694616e-01]\n",
            " [8.7270862e-01 1.3670929e-02 3.9545596e-02 7.4074894e-02]\n",
            " [1.2625998e-04 3.9972394e-05 7.5250842e-05 9.9975854e-01]\n",
            " [3.7044633e-04 9.9813461e-01 2.4448225e-04 1.2504425e-03]\n",
            " [2.0608769e-04 9.8511302e-01 3.7807526e-04 1.4302723e-02]]\n"
          ],
          "name": "stdout"
        }
      ]
    }
  ]
}