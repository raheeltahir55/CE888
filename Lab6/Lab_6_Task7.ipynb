{
  "nbformat": 4,
  "nbformat_minor": 0,
  "metadata": {
    "colab": {
      "name": "Lab 6_Task7.ipynb",
      "provenance": [],
      "collapsed_sections": [],
      "authorship_tag": "ABX9TyPiDN8kB7r4+/DlAxY9FQ21",
      "include_colab_link": true
    },
    "kernelspec": {
      "name": "python3",
      "display_name": "Python 3"
    }
  },
  "cells": [
    {
      "cell_type": "markdown",
      "metadata": {
        "id": "view-in-github",
        "colab_type": "text"
      },
      "source": [
        "<a href=\"https://colab.research.google.com/github/raheeltahir55/CE888/blob/main/Lab6/Lab_6_Task7.ipynb\" target=\"_parent\"><img src=\"https://colab.research.google.com/assets/colab-badge.svg\" alt=\"Open In Colab\"/></a>"
      ]
    },
    {
      "cell_type": "code",
      "metadata": {
        "id": "rabl9YI40AxQ"
      },
      "source": [
        "import numpy as np\n",
        "import pandas as pd\n",
        "import matplotlib.pyplot as plt \n",
        "from sklearn import cluster, datasets, metrics\n",
        "import seaborn as sns"
      ],
      "execution_count": 84,
      "outputs": []
    },
    {
      "cell_type": "code",
      "metadata": {
        "id": "jxShKAE419sj"
      },
      "source": [
        "data= pd.read_csv('https://raw.githubusercontent.com/sagihaider/CE888_2021/main/Lab_6/Data/Country-data.csv')"
      ],
      "execution_count": 85,
      "outputs": []
    },
    {
      "cell_type": "code",
      "metadata": {
        "colab": {
          "base_uri": "https://localhost:8080/",
          "height": 198
        },
        "id": "DG-GWAyW3OLo",
        "outputId": "a5dbf620-98ae-4ad9-a2d1-af9960ad892b"
      },
      "source": [
        "data.head()"
      ],
      "execution_count": 86,
      "outputs": [
        {
          "output_type": "execute_result",
          "data": {
            "text/html": [
              "<div>\n",
              "<style scoped>\n",
              "    .dataframe tbody tr th:only-of-type {\n",
              "        vertical-align: middle;\n",
              "    }\n",
              "\n",
              "    .dataframe tbody tr th {\n",
              "        vertical-align: top;\n",
              "    }\n",
              "\n",
              "    .dataframe thead th {\n",
              "        text-align: right;\n",
              "    }\n",
              "</style>\n",
              "<table border=\"1\" class=\"dataframe\">\n",
              "  <thead>\n",
              "    <tr style=\"text-align: right;\">\n",
              "      <th></th>\n",
              "      <th>country</th>\n",
              "      <th>child_mort</th>\n",
              "      <th>exports</th>\n",
              "      <th>health</th>\n",
              "      <th>imports</th>\n",
              "      <th>income</th>\n",
              "      <th>inflation</th>\n",
              "      <th>life_expec</th>\n",
              "      <th>total_fer</th>\n",
              "      <th>gdpp</th>\n",
              "    </tr>\n",
              "  </thead>\n",
              "  <tbody>\n",
              "    <tr>\n",
              "      <th>0</th>\n",
              "      <td>Afghanistan</td>\n",
              "      <td>90.2</td>\n",
              "      <td>10.0</td>\n",
              "      <td>7.58</td>\n",
              "      <td>44.9</td>\n",
              "      <td>1610</td>\n",
              "      <td>9.44</td>\n",
              "      <td>56.2</td>\n",
              "      <td>5.82</td>\n",
              "      <td>553</td>\n",
              "    </tr>\n",
              "    <tr>\n",
              "      <th>1</th>\n",
              "      <td>Albania</td>\n",
              "      <td>16.6</td>\n",
              "      <td>28.0</td>\n",
              "      <td>6.55</td>\n",
              "      <td>48.6</td>\n",
              "      <td>9930</td>\n",
              "      <td>4.49</td>\n",
              "      <td>76.3</td>\n",
              "      <td>1.65</td>\n",
              "      <td>4090</td>\n",
              "    </tr>\n",
              "    <tr>\n",
              "      <th>2</th>\n",
              "      <td>Algeria</td>\n",
              "      <td>27.3</td>\n",
              "      <td>38.4</td>\n",
              "      <td>4.17</td>\n",
              "      <td>31.4</td>\n",
              "      <td>12900</td>\n",
              "      <td>16.10</td>\n",
              "      <td>76.5</td>\n",
              "      <td>2.89</td>\n",
              "      <td>4460</td>\n",
              "    </tr>\n",
              "    <tr>\n",
              "      <th>3</th>\n",
              "      <td>Angola</td>\n",
              "      <td>119.0</td>\n",
              "      <td>62.3</td>\n",
              "      <td>2.85</td>\n",
              "      <td>42.9</td>\n",
              "      <td>5900</td>\n",
              "      <td>22.40</td>\n",
              "      <td>60.1</td>\n",
              "      <td>6.16</td>\n",
              "      <td>3530</td>\n",
              "    </tr>\n",
              "    <tr>\n",
              "      <th>4</th>\n",
              "      <td>Antigua and Barbuda</td>\n",
              "      <td>10.3</td>\n",
              "      <td>45.5</td>\n",
              "      <td>6.03</td>\n",
              "      <td>58.9</td>\n",
              "      <td>19100</td>\n",
              "      <td>1.44</td>\n",
              "      <td>76.8</td>\n",
              "      <td>2.13</td>\n",
              "      <td>12200</td>\n",
              "    </tr>\n",
              "  </tbody>\n",
              "</table>\n",
              "</div>"
            ],
            "text/plain": [
              "               country  child_mort  exports  health  imports  income  \\\n",
              "0          Afghanistan        90.2     10.0    7.58     44.9    1610   \n",
              "1              Albania        16.6     28.0    6.55     48.6    9930   \n",
              "2              Algeria        27.3     38.4    4.17     31.4   12900   \n",
              "3               Angola       119.0     62.3    2.85     42.9    5900   \n",
              "4  Antigua and Barbuda        10.3     45.5    6.03     58.9   19100   \n",
              "\n",
              "   inflation  life_expec  total_fer   gdpp  \n",
              "0       9.44        56.2       5.82    553  \n",
              "1       4.49        76.3       1.65   4090  \n",
              "2      16.10        76.5       2.89   4460  \n",
              "3      22.40        60.1       6.16   3530  \n",
              "4       1.44        76.8       2.13  12200  "
            ]
          },
          "metadata": {
            "tags": []
          },
          "execution_count": 86
        }
      ]
    },
    {
      "cell_type": "code",
      "metadata": {
        "id": "twj3j-AS7ULJ"
      },
      "source": [
        "features= data.columns[1:]\n",
        "X= data[features]"
      ],
      "execution_count": 87,
      "outputs": []
    },
    {
      "cell_type": "code",
      "metadata": {
        "colab": {
          "base_uri": "https://localhost:8080/"
        },
        "id": "3bgt__CW66zb",
        "outputId": "8c5cc59c-073c-49f3-9dcb-e710ca7210d9"
      },
      "source": [
        "k_means= cluster.KMeans(n_clusters= 3)\n",
        "k_means.fit(X)"
      ],
      "execution_count": 88,
      "outputs": [
        {
          "output_type": "execute_result",
          "data": {
            "text/plain": [
              "KMeans(algorithm='auto', copy_x=True, init='k-means++', max_iter=300,\n",
              "       n_clusters=3, n_init=10, n_jobs=None, precompute_distances='auto',\n",
              "       random_state=None, tol=0.0001, verbose=0)"
            ]
          },
          "metadata": {
            "tags": []
          },
          "execution_count": 88
        }
      ]
    },
    {
      "cell_type": "code",
      "metadata": {
        "colab": {
          "base_uri": "https://localhost:8080/"
        },
        "id": "57Cta7wm-ufI",
        "outputId": "55f3e3ac-794e-4ca0-d23d-40a5b11dda05"
      },
      "source": [
        "k_means.labels_"
      ],
      "execution_count": 89,
      "outputs": [
        {
          "output_type": "execute_result",
          "data": {
            "text/plain": [
              "array([0, 0, 0, 0, 0, 0, 0, 2, 2, 0, 2, 2, 0, 0, 0, 2, 0, 0, 0, 0, 0, 0,\n",
              "       0, 1, 0, 0, 0, 0, 0, 2, 0, 0, 0, 0, 0, 0, 0, 0, 0, 0, 0, 0, 2, 2,\n",
              "       2, 0, 0, 0, 0, 2, 0, 0, 0, 2, 2, 0, 0, 0, 2, 0, 2, 0, 0, 0, 0, 0,\n",
              "       0, 0, 2, 0, 0, 0, 0, 2, 2, 2, 0, 2, 0, 0, 0, 0, 1, 0, 0, 0, 0, 0,\n",
              "       0, 0, 0, 1, 0, 0, 0, 0, 0, 0, 2, 0, 0, 0, 0, 0, 0, 0, 0, 0, 0, 0,\n",
              "       2, 2, 0, 0, 1, 2, 0, 0, 0, 0, 0, 0, 2, 1, 0, 0, 0, 0, 2, 0, 0, 0,\n",
              "       0, 1, 0, 2, 0, 0, 2, 2, 0, 0, 0, 0, 2, 1, 0, 0, 0, 0, 0, 0, 0, 0,\n",
              "       0, 0, 0, 2, 2, 2, 0, 0, 0, 0, 0, 0, 0], dtype=int32)"
            ]
          },
          "metadata": {
            "tags": []
          },
          "execution_count": 89
        }
      ]
    },
    {
      "cell_type": "code",
      "metadata": {
        "colab": {
          "base_uri": "https://localhost:8080/",
          "height": 340
        },
        "id": "-s7jSuxL_D-1",
        "outputId": "17ad7bb4-e201-49dc-aa8e-13b5c19319b1"
      },
      "source": [
        "plt.figure(figsize=(8,5))\n",
        "plt.title(\"Countries\", fontsize=18)\n",
        "plt.grid(True)\n",
        "plt.scatter(X.iloc[:,2],X.iloc[:,3], c=k_means.labels_)\n",
        "plt.savefig('Countries.png', dpi=300)\n",
        "plt.show()"
      ],
      "execution_count": 90,
      "outputs": [
        {
          "output_type": "display_data",
          "data": {
            "image/png": "[encoded data removed]",
            "text/plain": [
              "<Figure size 576x360 with 1 Axes>"
            ]
          },
          "metadata": {
            "tags": [],
            "needs_background": "light"
          }
        }
      ]
    },
    {
      "cell_type": "code",
      "metadata": {
        "id": "d3ggvnumUYrj"
      },
      "source": [
        "from sklearn.preprocessing import StandardScaler\n",
        "sc = StandardScaler()\n",
        "X_sc= sc.fit_transform(X)"
      ],
      "execution_count": 91,
      "outputs": []
    },
    {
      "cell_type": "code",
      "metadata": {
        "colab": {
          "base_uri": "https://localhost:8080/"
        },
        "id": "veBF_IMOUe8E",
        "outputId": "bffd6a20-9250-473c-f8f0-a922326cc504"
      },
      "source": [
        "print(X_sc)"
      ],
      "execution_count": 92,
      "outputs": [
        {
          "output_type": "stream",
          "text": [
            "[[ 1.29153238 -1.13827979  0.27908825 ... -1.61909203  1.90288227\n",
            "  -0.67917961]\n",
            " [-0.5389489  -0.47965843 -0.09701618 ...  0.64786643 -0.85997281\n",
            "  -0.48562324]\n",
            " [-0.27283273 -0.09912164 -0.96607302 ...  0.67042323 -0.0384044\n",
            "  -0.46537561]\n",
            " ...\n",
            " [-0.37231541  1.13030491  0.0088773  ...  0.28695762 -0.66120626\n",
            "  -0.63775406]\n",
            " [ 0.44841668 -0.40647827 -0.59727159 ... -0.34463279  1.14094382\n",
            "  -0.63775406]\n",
            " [ 1.11495062 -0.15034774 -0.33801514 ... -2.09278484  1.6246091\n",
            "  -0.62954556]]\n"
          ],
          "name": "stdout"
        }
      ]
    },
    {
      "cell_type": "code",
      "metadata": {
        "colab": {
          "base_uri": "https://localhost:8080/"
        },
        "id": "8GGPhb-PH0_t",
        "outputId": "180eb70d-b61a-48bd-82dc-e9920816b6f9"
      },
      "source": [
        "from sklearn.decomposition import PCA\n",
        "pca = PCA(n_components= 4)\n",
        "X_pca = pca.fit_transform(X_sc)\n",
        "pca.explained_variance_ratio_"
      ],
      "execution_count": 93,
      "outputs": [
        {
          "output_type": "execute_result",
          "data": {
            "text/plain": [
              "array([0.4595174 , 0.17181626, 0.13004259, 0.11053162])"
            ]
          },
          "metadata": {
            "tags": []
          },
          "execution_count": 93
        }
      ]
    },
    {
      "cell_type": "code",
      "metadata": {
        "id": "GgD9sbjsG8Q7"
      },
      "source": [
        "# dbs = cluster.DBSCAN(eps=1.4) # The maximum distance between two samples for them to be considered as in the same neighborhood.\n",
        "# dbs.fit(X_pca)\n",
        "# dbs.labels_"
      ],
      "execution_count": null,
      "outputs": []
    },
    {
      "cell_type": "code",
      "metadata": {
        "colab": {
          "base_uri": "https://localhost:8080/"
        },
        "id": "5iz9AVZjKJ5m",
        "outputId": "68f5658f-b054-4a29-d0eb-d96f25804548"
      },
      "source": [
        "k_means= cluster.KMeans(n_clusters= 3, random_state=1234)\n",
        "k_means.fit(X_pca)\n",
        "k_means.labels_"
      ],
      "execution_count": 95,
      "outputs": [
        {
          "output_type": "execute_result",
          "data": {
            "text/plain": [
              "array([0, 2, 2, 0, 2, 2, 2, 1, 1, 2, 2, 2, 2, 2, 2, 1, 2, 0, 2, 2, 2, 0,\n",
              "       2, 1, 2, 0, 0, 2, 0, 1, 2, 0, 0, 2, 2, 2, 0, 0, 0, 2, 0, 2, 1, 1,\n",
              "       1, 2, 2, 2, 2, 0, 0, 2, 2, 1, 1, 0, 0, 2, 1, 0, 1, 2, 2, 0, 0, 2,\n",
              "       0, 2, 1, 2, 2, 2, 0, 1, 1, 1, 2, 1, 2, 2, 0, 0, 1, 2, 0, 2, 2, 0,\n",
              "       0, 2, 2, 1, 2, 0, 0, 2, 2, 0, 1, 0, 2, 2, 2, 2, 2, 2, 0, 2, 0, 2,\n",
              "       1, 1, 0, 0, 1, 2, 0, 2, 2, 2, 2, 2, 1, 1, 2, 2, 0, 2, 2, 0, 2, 2,\n",
              "       0, 1, 1, 1, 0, 0, 1, 1, 2, 2, 0, 2, 1, 1, 2, 0, 2, 0, 0, 2, 2, 2,\n",
              "       2, 0, 2, 1, 1, 1, 2, 2, 2, 2, 2, 0, 0], dtype=int32)"
            ]
          },
          "metadata": {
            "tags": []
          },
          "execution_count": 95
        }
      ]
    },
    {
      "cell_type": "code",
      "metadata": {
        "colab": {
          "base_uri": "https://localhost:8080/",
          "height": 340
        },
        "id": "-ef6OVNKKbIy",
        "outputId": "1e6df552-95ce-4c4d-c683-2a132eceff49"
      },
      "source": [
        "plt.figure(figsize=(8,5))\n",
        "plt.title(\"Countries\", fontsize=18)\n",
        "plt.grid(True)\n",
        "plt.scatter(X_pca[:,0],X_pca[:,1], c=k_means.labels_)\n",
        "plt.savefig('Countries.png', dpi=300)\n",
        "plt.show()"
      ],
      "execution_count": 96,
      "outputs": [
        {
          "output_type": "display_data",
          "data": {
            "image/png": "[encoded data removed]",
            "text/plain": [
              "<Figure size 576x360 with 1 Axes>"
            ]
          },
          "metadata": {
            "tags": [],
            "needs_background": "light"
          }
        }
      ]
    },
    {
      "cell_type": "code",
      "metadata": {
        "id": "JnKU4uRmVjDx"
      },
      "source": [
        "data['Category']= k_means.labels_"
      ],
      "execution_count": 97,
      "outputs": []
    },
    {
      "cell_type": "code",
      "metadata": {
        "colab": {
          "base_uri": "https://localhost:8080/"
        },
        "id": "ZvMSBhC0Vxpt",
        "outputId": "70bc0282-4515-406f-8120-3fefbe97da49"
      },
      "source": [
        "print(data.head(n= 25))"
      ],
      "execution_count": 102,
      "outputs": [
        {
          "output_type": "stream",
          "text": [
            "                   country  child_mort  exports  health  imports  income  \\\n",
            "0              Afghanistan        90.2     10.0    7.58     44.9    1610   \n",
            "1                  Albania        16.6     28.0    6.55     48.6    9930   \n",
            "2                  Algeria        27.3     38.4    4.17     31.4   12900   \n",
            "3                   Angola       119.0     62.3    2.85     42.9    5900   \n",
            "4      Antigua and Barbuda        10.3     45.5    6.03     58.9   19100   \n",
            "5                Argentina        14.5     18.9    8.10     16.0   18700   \n",
            "6                  Armenia        18.1     20.8    4.40     45.3    6700   \n",
            "7                Australia         4.8     19.8    8.73     20.9   41400   \n",
            "8                  Austria         4.3     51.3   11.00     47.8   43200   \n",
            "9               Azerbaijan        39.2     54.3    5.88     20.7   16000   \n",
            "10                 Bahamas        13.8     35.0    7.89     43.7   22900   \n",
            "11                 Bahrain         8.6     69.5    4.97     50.9   41100   \n",
            "12              Bangladesh        49.4     16.0    3.52     21.8    2440   \n",
            "13                Barbados        14.2     39.5    7.97     48.7   15300   \n",
            "14                 Belarus         5.5     51.4    5.61     64.5   16200   \n",
            "15                 Belgium         4.5     76.4   10.70     74.7   41100   \n",
            "16                  Belize        18.8     58.2    5.20     57.5    7880   \n",
            "17                   Benin       111.0     23.8    4.10     37.2    1820   \n",
            "18                  Bhutan        42.7     42.5    5.20     70.7    6420   \n",
            "19                 Bolivia        46.6     41.2    4.84     34.3    5410   \n",
            "20  Bosnia and Herzegovina         6.9     29.7   11.10     51.3    9720   \n",
            "21                Botswana        52.5     43.6    8.30     51.3   13300   \n",
            "22                  Brazil        19.8     10.7    9.01     11.8   14500   \n",
            "23                  Brunei        10.5     67.4    2.84     28.0   80600   \n",
            "24                Bulgaria        10.8     50.2    6.87     53.0   15300   \n",
            "\n",
            "    inflation  life_expec  total_fer   gdpp  Category  \\\n",
            "0       9.440        56.2       5.82    553         0   \n",
            "1       4.490        76.3       1.65   4090         2   \n",
            "2      16.100        76.5       2.89   4460         2   \n",
            "3      22.400        60.1       6.16   3530         0   \n",
            "4       1.440        76.8       2.13  12200         2   \n",
            "5      20.900        75.8       2.37  10300         2   \n",
            "6       7.770        73.3       1.69   3220         2   \n",
            "7       1.160        82.0       1.93  51900         1   \n",
            "8       0.873        80.5       1.44  46900         1   \n",
            "9      13.800        69.1       1.92   5840         2   \n",
            "10     -0.393        73.8       1.86  28000         2   \n",
            "11      7.440        76.0       2.16  20700         2   \n",
            "12      7.140        70.4       2.33    758         2   \n",
            "13      0.321        76.7       1.78  16000         2   \n",
            "14     15.100        70.4       1.49   6030         2   \n",
            "15      1.880        80.0       1.86  44400         1   \n",
            "16      1.140        71.4       2.71   4340         2   \n",
            "17      0.885        61.8       5.36    758         0   \n",
            "18      5.990        72.1       2.38   2180         2   \n",
            "19      8.780        71.6       3.20   1980         2   \n",
            "20      1.400        76.8       1.31   4610         2   \n",
            "21      8.920        57.1       2.88   6350         0   \n",
            "22      8.410        74.2       1.80  11200         2   \n",
            "23     16.700        77.1       1.84  35300         1   \n",
            "24      1.110        73.9       1.57   6840         2   \n",
            "\n",
            "               Country_Group  \n",
            "0   Under Developing Country  \n",
            "1         Developing Country  \n",
            "2         Developing Country  \n",
            "3   Under Developing Country  \n",
            "4         Developing Country  \n",
            "5         Developing Country  \n",
            "6         Developing Country  \n",
            "7          Developed Country  \n",
            "8          Developed Country  \n",
            "9         Developing Country  \n",
            "10        Developing Country  \n",
            "11        Developing Country  \n",
            "12        Developing Country  \n",
            "13        Developing Country  \n",
            "14        Developing Country  \n",
            "15         Developed Country  \n",
            "16        Developing Country  \n",
            "17  Under Developing Country  \n",
            "18        Developing Country  \n",
            "19        Developing Country  \n",
            "20        Developing Country  \n",
            "21  Under Developing Country  \n",
            "22        Developing Country  \n",
            "23         Developed Country  \n",
            "24        Developing Country  \n"
          ],
          "name": "stdout"
        }
      ]
    },
    {
      "cell_type": "code",
      "metadata": {
        "colab": {
          "base_uri": "https://localhost:8080/"
        },
        "id": "8tlBfLuQV2gq",
        "outputId": "9dd287c6-d17f-4c39-b729-d2b877708d89"
      },
      "source": [
        "print(\"Silhouette Coefficient: %0.3f\" % metrics.silhouette_score(X_pca, k_means.labels_))"
      ],
      "execution_count": 99,
      "outputs": [
        {
          "output_type": "stream",
          "text": [
            "Silhouette Coefficient: 0.334\n"
          ],
          "name": "stdout"
        }
      ]
    },
    {
      "cell_type": "code",
      "metadata": {
        "id": "NSsVMR8WW6SO"
      },
      "source": [
        "data.loc[data['Category']==0, 'Country_Group']= 'Under Developing Country'\n",
        "data.loc[data['Category']==2, 'Country_Group']= 'Developing Country'\n",
        "data.loc[data['Category']==1, 'Country_Group']= 'Developed Country'"
      ],
      "execution_count": 100,
      "outputs": []
    },
    {
      "cell_type": "code",
      "metadata": {
        "colab": {
          "base_uri": "https://localhost:8080/",
          "height": 198
        },
        "id": "LJC0HecyfugM",
        "outputId": "ee07d2c0-e9b2-440f-9c1c-d00b22936b8f"
      },
      "source": [
        "data.head()"
      ],
      "execution_count": 101,
      "outputs": [
        {
          "output_type": "execute_result",
          "data": {
            "text/html": [
              "<div>\n",
              "<style scoped>\n",
              "    .dataframe tbody tr th:only-of-type {\n",
              "        vertical-align: middle;\n",
              "    }\n",
              "\n",
              "    .dataframe tbody tr th {\n",
              "        vertical-align: top;\n",
              "    }\n",
              "\n",
              "    .dataframe thead th {\n",
              "        text-align: right;\n",
              "    }\n",
              "</style>\n",
              "<table border=\"1\" class=\"dataframe\">\n",
              "  <thead>\n",
              "    <tr style=\"text-align: right;\">\n",
              "      <th></th>\n",
              "      <th>country</th>\n",
              "      <th>child_mort</th>\n",
              "      <th>exports</th>\n",
              "      <th>health</th>\n",
              "      <th>imports</th>\n",
              "      <th>income</th>\n",
              "      <th>inflation</th>\n",
              "      <th>life_expec</th>\n",
              "      <th>total_fer</th>\n",
              "      <th>gdpp</th>\n",
              "      <th>Category</th>\n",
              "      <th>Country_Group</th>\n",
              "    </tr>\n",
              "  </thead>\n",
              "  <tbody>\n",
              "    <tr>\n",
              "      <th>0</th>\n",
              "      <td>Afghanistan</td>\n",
              "      <td>90.2</td>\n",
              "      <td>10.0</td>\n",
              "      <td>7.58</td>\n",
              "      <td>44.9</td>\n",
              "      <td>1610</td>\n",
              "      <td>9.44</td>\n",
              "      <td>56.2</td>\n",
              "      <td>5.82</td>\n",
              "      <td>553</td>\n",
              "      <td>0</td>\n",
              "      <td>Under Developing Country</td>\n",
              "    </tr>\n",
              "    <tr>\n",
              "      <th>1</th>\n",
              "      <td>Albania</td>\n",
              "      <td>16.6</td>\n",
              "      <td>28.0</td>\n",
              "      <td>6.55</td>\n",
              "      <td>48.6</td>\n",
              "      <td>9930</td>\n",
              "      <td>4.49</td>\n",
              "      <td>76.3</td>\n",
              "      <td>1.65</td>\n",
              "      <td>4090</td>\n",
              "      <td>2</td>\n",
              "      <td>Developing Country</td>\n",
              "    </tr>\n",
              "    <tr>\n",
              "      <th>2</th>\n",
              "      <td>Algeria</td>\n",
              "      <td>27.3</td>\n",
              "      <td>38.4</td>\n",
              "      <td>4.17</td>\n",
              "      <td>31.4</td>\n",
              "      <td>12900</td>\n",
              "      <td>16.10</td>\n",
              "      <td>76.5</td>\n",
              "      <td>2.89</td>\n",
              "      <td>4460</td>\n",
              "      <td>2</td>\n",
              "      <td>Developing Country</td>\n",
              "    </tr>\n",
              "    <tr>\n",
              "      <th>3</th>\n",
              "      <td>Angola</td>\n",
              "      <td>119.0</td>\n",
              "      <td>62.3</td>\n",
              "      <td>2.85</td>\n",
              "      <td>42.9</td>\n",
              "      <td>5900</td>\n",
              "      <td>22.40</td>\n",
              "      <td>60.1</td>\n",
              "      <td>6.16</td>\n",
              "      <td>3530</td>\n",
              "      <td>0</td>\n",
              "      <td>Under Developing Country</td>\n",
              "    </tr>\n",
              "    <tr>\n",
              "      <th>4</th>\n",
              "      <td>Antigua and Barbuda</td>\n",
              "      <td>10.3</td>\n",
              "      <td>45.5</td>\n",
              "      <td>6.03</td>\n",
              "      <td>58.9</td>\n",
              "      <td>19100</td>\n",
              "      <td>1.44</td>\n",
              "      <td>76.8</td>\n",
              "      <td>2.13</td>\n",
              "      <td>12200</td>\n",
              "      <td>2</td>\n",
              "      <td>Developing Country</td>\n",
              "    </tr>\n",
              "  </tbody>\n",
              "</table>\n",
              "</div>"
            ],
            "text/plain": [
              "               country  child_mort  exports  health  imports  income  \\\n",
              "0          Afghanistan        90.2     10.0    7.58     44.9    1610   \n",
              "1              Albania        16.6     28.0    6.55     48.6    9930   \n",
              "2              Algeria        27.3     38.4    4.17     31.4   12900   \n",
              "3               Angola       119.0     62.3    2.85     42.9    5900   \n",
              "4  Antigua and Barbuda        10.3     45.5    6.03     58.9   19100   \n",
              "\n",
              "   inflation  life_expec  total_fer   gdpp  Category             Country_Group  \n",
              "0       9.44        56.2       5.82    553         0  Under Developing Country  \n",
              "1       4.49        76.3       1.65   4090         2        Developing Country  \n",
              "2      16.10        76.5       2.89   4460         2        Developing Country  \n",
              "3      22.40        60.1       6.16   3530         0  Under Developing Country  \n",
              "4       1.44        76.8       2.13  12200         2        Developing Country  "
            ]
          },
          "metadata": {
            "tags": []
          },
          "execution_count": 101
        }
      ]
    },
    {
      "cell_type": "code",
      "metadata": {
        "id": "TNxQ1l-oxHnX"
      },
      "source": [
        "df_country= pd.DataFrame()"
      ],
      "execution_count": 103,
      "outputs": []
    },
    {
      "cell_type": "code",
      "metadata": {
        "id": "fPLvd0TAxWWf"
      },
      "source": [
        "df_country['Country']= data['country']\n",
        "df_country['Category']= data['Country_Group']"
      ],
      "execution_count": 104,
      "outputs": []
    },
    {
      "cell_type": "markdown",
      "metadata": {
        "id": "L9hgKKXV1r5i"
      },
      "source": [
        "Data consist of some key indicators for each country that describes their position in terms of development, poverty and economy worldwide. Indicators as features are first normalized using standard scalar and then transfomed into 4 principal components using PCA. That reduces the dimensionality of features to 4 with first 2 components having highest explanied variance ratio. 4 components are used as it best divides the data into 3 required categories. K means clustering is used with k=3 to group the data into 3 clusters. 3 clusters would mean countries are grouped into 3 caetgories; under developing country, developing country, developed country. Category 0 refers to under developing country, 1 means developed country and 2 points to developing country. Data is well clustered as countries like Australia, Italy, USA, UK and Canada are categorized as developed countries. Paraguay, India, Morocco, China and Brazil are placed in developing country group. Countries like Afghanistan, Cameroon, Iraq, Pakistan, South Africa and Uganda are referred to as under developing countries."
      ]
    },
    {
      "cell_type": "code",
      "metadata": {
        "colab": {
          "base_uri": "https://localhost:8080/"
        },
        "id": "KMyiQ0P5zQH1",
        "outputId": "35563034-39cf-4518-9d18-c02f7b95a530"
      },
      "source": [
        "print(df_country)"
      ],
      "execution_count": 83,
      "outputs": [
        {
          "output_type": "stream",
          "text": [
            "                            Country                  Category\n",
            "0                       Afghanistan  Under Developing Country\n",
            "1                           Albania        Developing Country\n",
            "2                           Algeria        Developing Country\n",
            "3                            Angola  Under Developing Country\n",
            "4               Antigua and Barbuda        Developing Country\n",
            "5                         Argentina        Developing Country\n",
            "6                           Armenia        Developing Country\n",
            "7                         Australia         Developed Country\n",
            "8                           Austria         Developed Country\n",
            "9                        Azerbaijan        Developing Country\n",
            "10                          Bahamas        Developing Country\n",
            "11                          Bahrain        Developing Country\n",
            "12                       Bangladesh        Developing Country\n",
            "13                         Barbados        Developing Country\n",
            "14                          Belarus        Developing Country\n",
            "15                          Belgium         Developed Country\n",
            "16                           Belize        Developing Country\n",
            "17                            Benin  Under Developing Country\n",
            "18                           Bhutan        Developing Country\n",
            "19                          Bolivia        Developing Country\n",
            "20           Bosnia and Herzegovina        Developing Country\n",
            "21                         Botswana  Under Developing Country\n",
            "22                           Brazil        Developing Country\n",
            "23                           Brunei         Developed Country\n",
            "24                         Bulgaria        Developing Country\n",
            "25                     Burkina Faso  Under Developing Country\n",
            "26                          Burundi  Under Developing Country\n",
            "27                         Cambodia        Developing Country\n",
            "28                         Cameroon  Under Developing Country\n",
            "29                           Canada         Developed Country\n",
            "30                       Cape Verde        Developing Country\n",
            "31         Central African Republic  Under Developing Country\n",
            "32                             Chad  Under Developing Country\n",
            "33                            Chile        Developing Country\n",
            "34                            China        Developing Country\n",
            "35                         Colombia        Developing Country\n",
            "36                          Comoros  Under Developing Country\n",
            "37                 Congo, Dem. Rep.  Under Developing Country\n",
            "38                      Congo, Rep.  Under Developing Country\n",
            "39                       Costa Rica        Developing Country\n",
            "40                    Cote d'Ivoire  Under Developing Country\n",
            "41                          Croatia        Developing Country\n",
            "42                           Cyprus         Developed Country\n",
            "43                   Czech Republic         Developed Country\n",
            "44                          Denmark         Developed Country\n",
            "45               Dominican Republic        Developing Country\n",
            "46                          Ecuador        Developing Country\n",
            "47                            Egypt        Developing Country\n",
            "48                      El Salvador        Developing Country\n",
            "49                Equatorial Guinea  Under Developing Country\n",
            "50                          Eritrea  Under Developing Country\n",
            "51                          Estonia        Developing Country\n",
            "52                             Fiji        Developing Country\n",
            "53                          Finland         Developed Country\n",
            "54                           France         Developed Country\n",
            "55                            Gabon  Under Developing Country\n",
            "56                           Gambia  Under Developing Country\n",
            "57                          Georgia        Developing Country\n",
            "58                          Germany         Developed Country\n",
            "59                            Ghana  Under Developing Country\n",
            "60                           Greece         Developed Country\n",
            "61                          Grenada        Developing Country\n",
            "62                        Guatemala        Developing Country\n",
            "63                           Guinea  Under Developing Country\n",
            "64                    Guinea-Bissau  Under Developing Country\n",
            "65                           Guyana        Developing Country\n",
            "66                            Haiti  Under Developing Country\n",
            "67                          Hungary        Developing Country\n",
            "68                          Iceland         Developed Country\n",
            "69                            India        Developing Country\n",
            "70                        Indonesia        Developing Country\n",
            "71                             Iran        Developing Country\n",
            "72                             Iraq  Under Developing Country\n",
            "73                          Ireland         Developed Country\n",
            "74                           Israel         Developed Country\n",
            "75                            Italy         Developed Country\n",
            "76                          Jamaica        Developing Country\n",
            "77                            Japan         Developed Country\n",
            "78                           Jordan        Developing Country\n",
            "79                       Kazakhstan        Developing Country\n",
            "80                            Kenya  Under Developing Country\n",
            "81                         Kiribati  Under Developing Country\n",
            "82                           Kuwait         Developed Country\n",
            "83                  Kyrgyz Republic        Developing Country\n",
            "84                              Lao  Under Developing Country\n",
            "85                           Latvia        Developing Country\n",
            "86                          Lebanon        Developing Country\n",
            "87                          Lesotho  Under Developing Country\n",
            "88                          Liberia  Under Developing Country\n",
            "89                            Libya        Developing Country\n",
            "90                        Lithuania        Developing Country\n",
            "91                       Luxembourg         Developed Country\n",
            "92                   Macedonia, FYR        Developing Country\n",
            "93                       Madagascar  Under Developing Country\n",
            "94                           Malawi  Under Developing Country\n",
            "95                         Malaysia        Developing Country\n",
            "96                         Maldives        Developing Country\n",
            "97                             Mali  Under Developing Country\n",
            "98                            Malta         Developed Country\n",
            "99                       Mauritania  Under Developing Country\n",
            "100                       Mauritius        Developing Country\n",
            "101           Micronesia, Fed. Sts.        Developing Country\n",
            "102                         Moldova        Developing Country\n",
            "103                        Mongolia        Developing Country\n",
            "104                      Montenegro        Developing Country\n",
            "105                         Morocco        Developing Country\n",
            "106                      Mozambique  Under Developing Country\n",
            "107                         Myanmar        Developing Country\n",
            "108                         Namibia  Under Developing Country\n",
            "109                           Nepal        Developing Country\n",
            "110                     Netherlands         Developed Country\n",
            "111                     New Zealand         Developed Country\n",
            "112                           Niger  Under Developing Country\n",
            "113                         Nigeria  Under Developing Country\n",
            "114                          Norway         Developed Country\n",
            "115                            Oman        Developing Country\n",
            "116                        Pakistan  Under Developing Country\n",
            "117                          Panama        Developing Country\n",
            "118                        Paraguay        Developing Country\n",
            "119                            Peru        Developing Country\n",
            "120                     Philippines        Developing Country\n",
            "121                          Poland        Developing Country\n",
            "122                        Portugal         Developed Country\n",
            "123                           Qatar         Developed Country\n",
            "124                         Romania        Developing Country\n",
            "125                          Russia        Developing Country\n",
            "126                          Rwanda  Under Developing Country\n",
            "127                           Samoa        Developing Country\n",
            "128                    Saudi Arabia        Developing Country\n",
            "129                         Senegal  Under Developing Country\n",
            "130                          Serbia        Developing Country\n",
            "131                      Seychelles        Developing Country\n",
            "132                    Sierra Leone  Under Developing Country\n",
            "133                       Singapore         Developed Country\n",
            "134                 Slovak Republic         Developed Country\n",
            "135                        Slovenia         Developed Country\n",
            "136                 Solomon Islands  Under Developing Country\n",
            "137                    South Africa  Under Developing Country\n",
            "138                     South Korea         Developed Country\n",
            "139                           Spain         Developed Country\n",
            "140                       Sri Lanka        Developing Country\n",
            "141  St. Vincent and the Grenadines        Developing Country\n",
            "142                           Sudan  Under Developing Country\n",
            "143                        Suriname        Developing Country\n",
            "144                          Sweden         Developed Country\n",
            "145                     Switzerland         Developed Country\n",
            "146                      Tajikistan        Developing Country\n",
            "147                        Tanzania  Under Developing Country\n",
            "148                        Thailand        Developing Country\n",
            "149                     Timor-Leste  Under Developing Country\n",
            "150                            Togo  Under Developing Country\n",
            "151                           Tonga        Developing Country\n",
            "152                         Tunisia        Developing Country\n",
            "153                          Turkey        Developing Country\n",
            "154                    Turkmenistan        Developing Country\n",
            "155                          Uganda  Under Developing Country\n",
            "156                         Ukraine        Developing Country\n",
            "157            United Arab Emirates         Developed Country\n",
            "158                  United Kingdom         Developed Country\n",
            "159                   United States         Developed Country\n",
            "160                         Uruguay        Developing Country\n",
            "161                      Uzbekistan        Developing Country\n",
            "162                         Vanuatu        Developing Country\n",
            "163                       Venezuela        Developing Country\n",
            "164                         Vietnam        Developing Country\n",
            "165                           Yemen  Under Developing Country\n",
            "166                          Zambia  Under Developing Country\n"
          ],
          "name": "stdout"
        }
      ]
    }
  ]
}