{
  "nbformat": 4,
  "nbformat_minor": 0,
  "metadata": {
    "kernelspec": {
      "display_name": "Python 3",
      "language": "python",
      "name": "python3"
    },
    "language_info": {
      "codemirror_mode": {
        "name": "ipython",
        "version": 3
      },
      "file_extension": ".py",
      "mimetype": "text/x-python",
      "name": "python",
      "nbconvert_exporter": "python",
      "pygments_lexer": "ipython3",
      "version": "3.6.5"
    },
    "colab": {
      "name": "Exercise_3_RNN.ipynb",
      "provenance": [],
      "collapsed_sections": [],
      "include_colab_link": true
    },
    "accelerator": "GPU"
  },
  "cells": [
    {
      "cell_type": "markdown",
      "metadata": {
        "id": "view-in-github",
        "colab_type": "text"
      },
      "source": [
        "<a href=\"https://colab.research.google.com/github/raheeltahir55/CE888/blob/main/Lab7/Exercise_3_RNN.ipynb\" target=\"_parent\"><img src=\"https://colab.research.google.com/assets/colab-badge.svg\" alt=\"Open In Colab\"/></a>"
      ]
    },
    {
      "cell_type": "code",
      "metadata": {
        "id": "2OEAdhW0qjg9",
        "colab": {
          "base_uri": "https://localhost:8080/",
          "height": 35
        },
        "outputId": "21ba4a0f-b84a-4973-d22f-0db9d48ea9f7"
      },
      "source": [
        "import keras\n",
        "keras.__version__"
      ],
      "execution_count": 1,
      "outputs": [
        {
          "output_type": "execute_result",
          "data": {
            "application/vnd.google.colaboratory.intrinsic+json": {
              "type": "string"
            },
            "text/plain": [
              "'2.4.3'"
            ]
          },
          "metadata": {
            "tags": []
          },
          "execution_count": 1
        }
      ]
    },
    {
      "cell_type": "code",
      "metadata": {
        "id": "TYsNtFxgqjhC",
        "colab": {
          "base_uri": "https://localhost:8080/"
        },
        "outputId": "2afbf97b-84e3-474d-9e6a-4cd1edecaff9"
      },
      "source": [
        "from keras.preprocessing.text import Tokenizer\n",
        "samples = ['The cat sat on the mat.', 'The dog ate my homework.']\n",
        "\n",
        "# We create a tokenizer, configured to only take into account the top-1000 most common words\n",
        "tokenizer = Tokenizer(num_words=1000)\n",
        "\n",
        "# This builds the word index\n",
        "tokenizer.fit_on_texts(samples)\n",
        "\n",
        "# This turns strings into lists of integer indices.\n",
        "sequences = tokenizer.texts_to_sequences(samples)\n",
        "\n",
        "# You could also directly get the one-hot binary representations.\n",
        "# Note that other vectorization modes than one-hot encoding are supported!\n",
        "one_hot_results = tokenizer.texts_to_matrix(samples, mode='binary')\n",
        "\n",
        "# This is how you can recover the word index that was computed\n",
        "word_index = tokenizer.word_index\n",
        "print('Found %s unique tokens.' % len(word_index))"
      ],
      "execution_count": null,
      "outputs": [
        {
          "output_type": "stream",
          "text": [
            "Found 9 unique tokens.\n"
          ],
          "name": "stdout"
        }
      ]
    },
    {
      "cell_type": "code",
      "metadata": {
        "id": "_1bFuvqKqjhF",
        "colab": {
          "base_uri": "https://localhost:8080/"
        },
        "outputId": "11934606-8a2c-4d70-f1ca-146fffbdd489"
      },
      "source": [
        "one_hot_results"
      ],
      "execution_count": null,
      "outputs": [
        {
          "output_type": "execute_result",
          "data": {
            "text/plain": [
              "array([[0., 1., 1., ..., 0., 0., 0.],\n",
              "       [0., 1., 0., ..., 0., 0., 0.]])"
            ]
          },
          "metadata": {
            "tags": []
          },
          "execution_count": 3
        }
      ]
    },
    {
      "cell_type": "markdown",
      "metadata": {
        "id": "95o1mdJkqjhI"
      },
      "source": [
        "Using word-embeddings "
      ]
    },
    {
      "cell_type": "code",
      "metadata": {
        "id": "DSAIqfdoqjhJ",
        "colab": {
          "base_uri": "https://localhost:8080/"
        },
        "outputId": "2a27201c-8327-4af3-e03d-40d841a9ade6"
      },
      "source": [
        "from keras.datasets import imdb\n",
        "from keras.preprocessing import sequence\n",
        "\n",
        "max_features = 10000\n",
        "maxlen = 500\n",
        "batch_size = 32\n",
        "print('Loading data...')\n",
        "(input_train, y_train), (input_test, y_test) = imdb.load_data(num_words=max_features)\n",
        "print(len(input_train), 'train sequences')\n",
        "print(len(input_test), 'test sequences')\n",
        "print('Pad sequences (samples x time)')\n",
        "input_train = sequence.pad_sequences(input_train, maxlen=maxlen)\n",
        "input_test = sequence.pad_sequences(input_test, maxlen=maxlen)\n",
        "print('input_train shape:', input_train.shape)\n",
        "print('input_test shape:', input_test.shape)"
      ],
      "execution_count": null,
      "outputs": [
        {
          "output_type": "stream",
          "text": [
            "Loading data...\n",
            "Downloading data from https://storage.googleapis.com/tensorflow/tf-keras-datasets/imdb.npz\n",
            "17465344/17464789 [==============================] - 0s 0us/step\n"
          ],
          "name": "stdout"
        },
        {
          "output_type": "stream",
          "text": [
            "<string>:6: VisibleDeprecationWarning: Creating an ndarray from ragged nested sequences (which is a list-or-tuple of lists-or-tuples-or ndarrays with different lengths or shapes) is deprecated. If you meant to do this, you must specify 'dtype=object' when creating the ndarray\n",
            "/usr/local/lib/python3.7/dist-packages/tensorflow/python/keras/datasets/imdb.py:159: VisibleDeprecationWarning: Creating an ndarray from ragged nested sequences (which is a list-or-tuple of lists-or-tuples-or ndarrays with different lengths or shapes) is deprecated. If you meant to do this, you must specify 'dtype=object' when creating the ndarray\n",
            "  x_train, y_train = np.array(xs[:idx]), np.array(labels[:idx])\n",
            "/usr/local/lib/python3.7/dist-packages/tensorflow/python/keras/datasets/imdb.py:160: VisibleDeprecationWarning: Creating an ndarray from ragged nested sequences (which is a list-or-tuple of lists-or-tuples-or ndarrays with different lengths or shapes) is deprecated. If you meant to do this, you must specify 'dtype=object' when creating the ndarray\n",
            "  x_test, y_test = np.array(xs[idx:]), np.array(labels[idx:])\n"
          ],
          "name": "stderr"
        },
        {
          "output_type": "stream",
          "text": [
            "25000 train sequences\n",
            "25000 test sequences\n",
            "Pad sequences (samples x time)\n",
            "input_train shape: (25000, 500)\n",
            "input_test shape: (25000, 500)\n"
          ],
          "name": "stdout"
        }
      ]
    },
    {
      "cell_type": "markdown",
      "metadata": {
        "id": "5ssh97qDqjhM"
      },
      "source": [
        "### Training the model with Embedding and SimpleRNN layers"
      ]
    },
    {
      "cell_type": "code",
      "metadata": {
        "id": "t_lIlBilqjhN",
        "colab": {
          "base_uri": "https://localhost:8080/"
        },
        "outputId": "5c165f97-f6e7-43e2-bd75-721b31df1595"
      },
      "source": [
        "from keras.layers import Dense\n",
        "from keras.layers import Embedding, SimpleRNN\n",
        "from keras.models import Sequential\n",
        "\n",
        "model = Sequential()\n",
        "model.add(Embedding(max_features, 32))\n",
        "model.add(SimpleRNN(32))\n",
        "model.add(Dense(1, activation='sigmoid'))\n",
        "model.summary()\n",
        "model.compile(optimizer='rmsprop', loss='binary_crossentropy', metrics=['acc'])\n",
        "history = model.fit(input_train, y_train, \n",
        "                    epochs=10,\n",
        "                    batch_size=128,\n",
        "                    validation_split=0.2)\n"
      ],
      "execution_count": null,
      "outputs": [
        {
          "output_type": "stream",
          "text": [
            "Model: \"sequential\"\n",
            "_________________________________________________________________\n",
            "Layer (type)                 Output Shape              Param #   \n",
            "=================================================================\n",
            "embedding (Embedding)        (None, None, 32)          320000    \n",
            "_________________________________________________________________\n",
            "simple_rnn (SimpleRNN)       (None, 32)                2080      \n",
            "_________________________________________________________________\n",
            "dense (Dense)                (None, 1)                 33        \n",
            "=================================================================\n",
            "Total params: 322,113\n",
            "Trainable params: 322,113\n",
            "Non-trainable params: 0\n",
            "_________________________________________________________________\n",
            "Epoch 1/10\n",
            "157/157 [==============================] - 75s 456ms/step - loss: 0.6673 - acc: 0.5691 - val_loss: 0.4478 - val_acc: 0.7958\n",
            "Epoch 2/10\n",
            "157/157 [==============================] - 72s 461ms/step - loss: 0.3839 - acc: 0.8397 - val_loss: 0.3913 - val_acc: 0.8276\n",
            "Epoch 3/10\n",
            "157/157 [==============================] - 72s 460ms/step - loss: 0.2904 - acc: 0.8867 - val_loss: 1.1822 - val_acc: 0.6108\n",
            "Epoch 4/10\n",
            "157/157 [==============================] - 71s 451ms/step - loss: 0.2553 - acc: 0.9091 - val_loss: 0.3613 - val_acc: 0.8686\n",
            "Epoch 5/10\n",
            "157/157 [==============================] - 71s 454ms/step - loss: 0.1757 - acc: 0.9364 - val_loss: 0.4663 - val_acc: 0.7854\n",
            "Epoch 6/10\n",
            "157/157 [==============================] - 71s 452ms/step - loss: 0.1347 - acc: 0.9546 - val_loss: 0.4661 - val_acc: 0.7984\n",
            "Epoch 7/10\n",
            "157/157 [==============================] - 72s 459ms/step - loss: 0.0946 - acc: 0.9684 - val_loss: 0.4851 - val_acc: 0.8276\n",
            "Epoch 8/10\n",
            "157/157 [==============================] - 72s 457ms/step - loss: 0.0638 - acc: 0.9804 - val_loss: 0.5167 - val_acc: 0.8108\n",
            "Epoch 9/10\n",
            "157/157 [==============================] - 72s 457ms/step - loss: 0.0443 - acc: 0.9863 - val_loss: 0.6743 - val_acc: 0.7840\n",
            "Epoch 10/10\n",
            "157/157 [==============================] - 73s 464ms/step - loss: 0.0395 - acc: 0.9864 - val_loss: 0.7405 - val_acc: 0.7600\n"
          ],
          "name": "stdout"
        }
      ]
    },
    {
      "cell_type": "code",
      "metadata": {
        "id": "w03gEZ2RqjhQ",
        "outputId": "fabac85b-1882-404c-8236-45c900ce08a2"
      },
      "source": [
        "import matplotlib.pyplot as plt\n",
        "\n",
        "acc = history.history['acc']\n",
        "val_acc = history.history['val_acc']\n",
        "loss = history.history['loss']\n",
        "val_loss = history.history['val_loss']\n",
        "\n",
        "epochs = range(1, len(acc) + 1)\n",
        "\n",
        "plt.plot(epochs, acc, 'bo', label='Training acc')\n",
        "plt.plot(epochs, val_acc, 'b', label='Validation acc')\n",
        "plt.title('Training and validation accuracy')\n",
        "plt.legend()\n",
        "\n",
        "plt.figure()\n",
        "\n",
        "plt.plot(epochs, loss, 'bo', label='Training loss')\n",
        "plt.plot(epochs, val_loss, 'b', label='Validation loss')\n",
        "plt.title('Training and validation loss')\n",
        "plt.legend()\n",
        "\n",
        "plt.show()"
      ],
      "execution_count": null,
      "outputs": [
        {
          "output_type": "display_data",
          "data": {
            "image/png": "[encoded data removed]",
            "text/plain": [
              "<Figure size 432x288 with 1 Axes>"
            ]
          },
          "metadata": {
            "tags": []
          }
        },
        {
          "output_type": "display_data",
          "data": {
            "image/png": "[encoded data removed]",
            "text/plain": [
              "<Figure size 432x288 with 1 Axes>"
            ]
          },
          "metadata": {
            "tags": []
          }
        }
      ]
    },
    {
      "cell_type": "markdown",
      "metadata": {
        "id": "mz8CfgKcqjhT"
      },
      "source": [
        "### Training the model with Embedding and SimpleRNN layers"
      ]
    },
    {
      "cell_type": "code",
      "metadata": {
        "id": "U_wjH-KGqjhU",
        "outputId": "8bf52785-77ff-4884-845a-043bc168d52c"
      },
      "source": [
        "from keras.layers import LSTM\n",
        "\n",
        "model = Sequential()\n",
        "model.add(Embedding(max_features, 32))\n",
        "model.add(LSTM(32))\n",
        "model.add(Dense(1, activation='sigmoid'))\n",
        "model.compile(optimizer='rmsprop',\n",
        "loss='binary_crossentropy',\n",
        "metrics=['acc'])\n",
        "history = model.fit(input_train, y_train,\n",
        "                    epochs=10,\n",
        "                    batch_size=128,\n",
        "                    validation_split=0.2)"
      ],
      "execution_count": null,
      "outputs": [
        {
          "output_type": "stream",
          "text": [
            "Train on 20000 samples, validate on 5000 samples\n",
            "Epoch 1/10\n",
            "20000/20000 [==============================] - 52s - loss: 0.5135 - acc: 0.7563 - val_loss: 0.3821 - val_acc: 0.8474\n",
            "Epoch 2/10\n",
            "20000/20000 [==============================] - 52s - loss: 0.3010 - acc: 0.8785 - val_loss: 0.3629 - val_acc: 0.8438\n",
            "Epoch 3/10\n",
            "20000/20000 [==============================] - 52s - loss: 0.2336 - acc: 0.9102 - val_loss: 0.4109 - val_acc: 0.8614\n",
            "Epoch 4/10\n",
            "20000/20000 [==============================] - 52s - loss: 0.2016 - acc: 0.9250 - val_loss: 0.3087 - val_acc: 0.8708\n",
            "Epoch 5/10\n",
            "20000/20000 [==============================] - 52s - loss: 0.1752 - acc: 0.9381 - val_loss: 0.2987 - val_acc: 0.8834\n",
            "Epoch 6/10\n",
            "20000/20000 [==============================] - 53s - loss: 0.1555 - acc: 0.9433 - val_loss: 0.3242 - val_acc: 0.8672\n",
            "Epoch 7/10\n",
            "20000/20000 [==============================] - 52s - loss: 0.1422 - acc: 0.9498 - val_loss: 0.3584 - val_acc: 0.8806\n",
            "Epoch 8/10\n",
            "20000/20000 [==============================] - 53s - loss: 0.1288 - acc: 0.9556 - val_loss: 0.3142 - val_acc: 0.8814\n",
            "Epoch 9/10\n",
            "20000/20000 [==============================] - 52s - loss: 0.1184 - acc: 0.9585 - val_loss: 0.3865 - val_acc: 0.8846\n",
            "Epoch 10/10\n",
            "20000/20000 [==============================] - 53s - loss: 0.1082 - acc: 0.9627 - val_loss: 0.3611 - val_acc: 0.8548\n"
          ],
          "name": "stdout"
        }
      ]
    },
    {
      "cell_type": "code",
      "metadata": {
        "id": "HU4eGq-DqjhX",
        "outputId": "90460aa7-c58e-4ca3-dac5-2cbdc26fbf7e"
      },
      "source": [
        "import matplotlib.pyplot as plt\n",
        "\n",
        "acc = history.history['acc']\n",
        "val_acc = history.history['val_acc']\n",
        "loss = history.history['loss']\n",
        "val_loss = history.history['val_loss']\n",
        "\n",
        "epochs = range(1, len(acc) + 1)\n",
        "\n",
        "plt.plot(epochs, acc, 'bo', label='Training acc')\n",
        "plt.plot(epochs, val_acc, 'b', label='Validation acc')\n",
        "plt.title('Training and validation accuracy')\n",
        "plt.legend()\n",
        "\n",
        "plt.figure()\n",
        "\n",
        "plt.plot(epochs, loss, 'bo', label='Training loss')\n",
        "plt.plot(epochs, val_loss, 'b', label='Validation loss')\n",
        "plt.title('Training and validation loss')\n",
        "plt.legend()\n",
        "\n",
        "plt.show()"
      ],
      "execution_count": null,
      "outputs": [
        {
          "output_type": "display_data",
          "data": {
            "image/png": "[encoded data removed]",
            "text/plain": [
              "<Figure size 432x288 with 1 Axes>"
            ]
          },
          "metadata": {
            "tags": []
          }
        },
        {
          "output_type": "display_data",
          "data": {
            "image/png": "[encoded data removed]",
            "text/plain": [
              "<Figure size 432x288 with 1 Axes>"
            ]
          },
          "metadata": {
            "tags": []
          }
        }
      ]
    },
    {
      "cell_type": "markdown",
      "metadata": {
        "id": "r69U5tFUZ82R"
      },
      "source": [
        "### Task 3: \n",
        "\n",
        "Please consider this Time Series Prediction with LSTM Recurrent Neural Networks. We can see that the LSTM model in the code below has an average error of about 23 passengers (in thousands) on the training dataset, and about 53 passengers (in thousands) on the test dataset. Not that bad. Can you please improve the performance?\n",
        "\n",
        "#### Dataset Discription\n",
        "The problem we are going to look at in this post is the International Airline Passengers prediction problem.\n",
        "This is a problem where, given a year and a month, the task is to predict the number of international airline passengers in units of 1,000. The data ranges from January 1949 to December 1960, or 12 years, with 144 observations.\n",
        "\n"
      ]
    },
    {
      "cell_type": "markdown",
      "metadata": {
        "id": "zwEcO_yy-ejB"
      },
      "source": [
        "Increasing the number of LSTM units to 40 and epochs to 150 has slightly improved the performance, with an average error of 49 passengers (in thousands) on the test set."
      ]
    },
    {
      "cell_type": "code",
      "metadata": {
        "colab": {
          "base_uri": "https://localhost:8080/",
          "height": 1000
        },
        "id": "w1vSusoyatCW",
        "outputId": "1106dbe7-dffb-420f-c427-e18700246400"
      },
      "source": [
        "import numpy\n",
        "import math\n",
        "import matplotlib.pyplot as plt\n",
        "from pandas import read_csv\n",
        "from keras.models import Sequential\n",
        "from keras.layers import Dense, Dropout\n",
        "from keras.layers import LSTM, SimpleRNN, Bidirectional\n",
        "from sklearn.preprocessing import MinMaxScaler\n",
        "from sklearn.metrics import mean_squared_error\n",
        "from keras.layers import Flatten\n",
        "from keras.layers import TimeDistributed\n",
        "from keras.layers.convolutional import Conv1D\n",
        "from keras.layers.convolutional import MaxPooling1D\n",
        "\n",
        "# convert an array of values into a dataset matrix\n",
        "def create_dataset(dataset, look_back=1):\n",
        "\tdataX, dataY = [], []\n",
        "\tfor i in range(len(dataset)-look_back-1):\n",
        "\t\ta = dataset[i:(i+look_back), 0]\n",
        "\t\tdataX.append(a)\n",
        "\t\tdataY.append(dataset[i + look_back, 0])\n",
        "\treturn numpy.array(dataX), numpy.array(dataY)\n",
        "# fix random seed for reproducibility\n",
        "numpy.random.seed(7)\n",
        "# load the dataset\n",
        "dataframe = read_csv('https://raw.githubusercontent.com/jbrownlee/Datasets/master/airline-passengers.csv', usecols=[1], engine='python')\n",
        "dataset = dataframe.values\n",
        "dataset = dataset.astype('float32')\n",
        "# normalize the dataset\n",
        "scaler = MinMaxScaler(feature_range=(0, 1))\n",
        "dataset = scaler.fit_transform(dataset)\n",
        "# split into train and test sets\n",
        "train_size = int(len(dataset) * 0.67)\n",
        "test_size = len(dataset) - train_size\n",
        "train, test = dataset[0:train_size,:], dataset[train_size:len(dataset),:]\n",
        "# reshape into X=t and Y=t+1\n",
        "look_back = 1\n",
        "trainX, trainY = create_dataset(train, look_back)\n",
        "testX, testY = create_dataset(test, look_back)\n",
        "# reshape input to be [samples, time steps, features]\n",
        "trainX = numpy.reshape(trainX, (trainX.shape[0], 1, trainX.shape[1]))\n",
        "testX = numpy.reshape(testX, (testX.shape[0], 1, testX.shape[1]))\n",
        "# create and fit the LSTM network\n",
        "model = Sequential()\n",
        "model.add(LSTM(40, activation= 'relu'))\n",
        "model.add(Dense(1))\n",
        "model.compile(loss='mean_squared_error', optimizer='adam')\n",
        "model.fit(trainX, trainY, epochs=150, batch_size=1, verbose=2)\n",
        "# make predictions\n",
        "trainPredict = model.predict(trainX)\n",
        "testPredict = model.predict(testX)\n",
        "# invert predictions\n",
        "trainPredict = scaler.inverse_transform(trainPredict)\n",
        "trainY = scaler.inverse_transform([trainY])\n",
        "testPredict = scaler.inverse_transform(testPredict)\n",
        "testY = scaler.inverse_transform([testY])\n",
        "# calculate root mean squared error\n",
        "trainScore = math.sqrt(mean_squared_error(trainY[0], trainPredict[:,0]))\n",
        "print('Train Score: %.2f RMSE' % (trainScore))\n",
        "testScore = math.sqrt(mean_squared_error(testY[0], testPredict[:,0]))\n",
        "print('Test Score: %.2f RMSE' % (testScore))\n",
        "# shift train predictions for plotting\n",
        "trainPredictPlot = numpy.empty_like(dataset)\n",
        "trainPredictPlot[:, :] = numpy.nan\n",
        "trainPredictPlot[look_back:len(trainPredict)+look_back, :] = trainPredict\n",
        "# shift test predictions for plotting\n",
        "testPredictPlot = numpy.empty_like(dataset)\n",
        "testPredictPlot[:, :] = numpy.nan\n",
        "testPredictPlot[len(trainPredict)+(look_back*2)+1:len(dataset)-1, :] = testPredict\n",
        "# plot baseline and predictions\n",
        "plt.plot(scaler.inverse_transform(dataset))\n",
        "plt.plot(trainPredictPlot)\n",
        "plt.plot(testPredictPlot)\n",
        "plt.show()"
      ],
      "execution_count": 62,
      "outputs": [
        {
          "output_type": "stream",
          "text": [
            "WARNING:tensorflow:Layer lstm_52 will not use cuDNN kernel since it doesn't meet the cuDNN kernel criteria. It will use generic GPU kernel as fallback when running on GPU\n",
            "Epoch 1/150\n",
            "94/94 - 1s - loss: 0.0396\n",
            "Epoch 2/150\n",
            "94/94 - 0s - loss: 0.0156\n",
            "Epoch 3/150\n",
            "94/94 - 0s - loss: 0.0121\n",
            "Epoch 4/150\n",
            "94/94 - 0s - loss: 0.0109\n",
            "Epoch 5/150\n",
            "94/94 - 0s - loss: 0.0095\n",
            "Epoch 6/150\n",
            "94/94 - 0s - loss: 0.0084\n",
            "Epoch 7/150\n",
            "94/94 - 0s - loss: 0.0069\n",
            "Epoch 8/150\n",
            "94/94 - 0s - loss: 0.0058\n",
            "Epoch 9/150\n",
            "94/94 - 0s - loss: 0.0047\n",
            "Epoch 10/150\n",
            "94/94 - 0s - loss: 0.0040\n",
            "Epoch 11/150\n",
            "94/94 - 0s - loss: 0.0032\n",
            "Epoch 12/150\n",
            "94/94 - 0s - loss: 0.0028\n",
            "Epoch 13/150\n",
            "94/94 - 0s - loss: 0.0025\n",
            "Epoch 14/150\n",
            "94/94 - 0s - loss: 0.0023\n",
            "Epoch 15/150\n",
            "94/94 - 0s - loss: 0.0022\n",
            "Epoch 16/150\n",
            "94/94 - 0s - loss: 0.0023\n",
            "Epoch 17/150\n",
            "94/94 - 0s - loss: 0.0022\n",
            "Epoch 18/150\n",
            "94/94 - 0s - loss: 0.0022\n",
            "Epoch 19/150\n",
            "94/94 - 0s - loss: 0.0023\n",
            "Epoch 20/150\n",
            "94/94 - 0s - loss: 0.0021\n",
            "Epoch 21/150\n",
            "94/94 - 0s - loss: 0.0022\n",
            "Epoch 22/150\n",
            "94/94 - 0s - loss: 0.0024\n",
            "Epoch 23/150\n",
            "94/94 - 0s - loss: 0.0021\n",
            "Epoch 24/150\n",
            "94/94 - 0s - loss: 0.0022\n",
            "Epoch 25/150\n",
            "94/94 - 0s - loss: 0.0021\n",
            "Epoch 26/150\n",
            "94/94 - 0s - loss: 0.0022\n",
            "Epoch 27/150\n",
            "94/94 - 0s - loss: 0.0022\n",
            "Epoch 28/150\n",
            "94/94 - 0s - loss: 0.0022\n",
            "Epoch 29/150\n",
            "94/94 - 0s - loss: 0.0021\n",
            "Epoch 30/150\n",
            "94/94 - 0s - loss: 0.0022\n",
            "Epoch 31/150\n",
            "94/94 - 0s - loss: 0.0021\n",
            "Epoch 32/150\n",
            "94/94 - 0s - loss: 0.0022\n",
            "Epoch 33/150\n",
            "94/94 - 0s - loss: 0.0021\n",
            "Epoch 34/150\n",
            "94/94 - 0s - loss: 0.0021\n",
            "Epoch 35/150\n",
            "94/94 - 0s - loss: 0.0021\n",
            "Epoch 36/150\n",
            "94/94 - 0s - loss: 0.0021\n",
            "Epoch 37/150\n",
            "94/94 - 0s - loss: 0.0021\n",
            "Epoch 38/150\n",
            "94/94 - 0s - loss: 0.0021\n",
            "Epoch 39/150\n",
            "94/94 - 0s - loss: 0.0021\n",
            "Epoch 40/150\n",
            "94/94 - 0s - loss: 0.0022\n",
            "Epoch 41/150\n",
            "94/94 - 0s - loss: 0.0021\n",
            "Epoch 42/150\n",
            "94/94 - 0s - loss: 0.0021\n",
            "Epoch 43/150\n",
            "94/94 - 0s - loss: 0.0021\n",
            "Epoch 44/150\n",
            "94/94 - 0s - loss: 0.0021\n",
            "Epoch 45/150\n",
            "94/94 - 0s - loss: 0.0022\n",
            "Epoch 46/150\n",
            "94/94 - 0s - loss: 0.0021\n",
            "Epoch 47/150\n",
            "94/94 - 0s - loss: 0.0021\n",
            "Epoch 48/150\n",
            "94/94 - 0s - loss: 0.0022\n",
            "Epoch 49/150\n",
            "94/94 - 0s - loss: 0.0021\n",
            "Epoch 50/150\n",
            "94/94 - 0s - loss: 0.0021\n",
            "Epoch 51/150\n",
            "94/94 - 0s - loss: 0.0021\n",
            "Epoch 52/150\n",
            "94/94 - 0s - loss: 0.0021\n",
            "Epoch 53/150\n",
            "94/94 - 0s - loss: 0.0021\n",
            "Epoch 54/150\n",
            "94/94 - 0s - loss: 0.0021\n",
            "Epoch 55/150\n",
            "94/94 - 0s - loss: 0.0021\n",
            "Epoch 56/150\n",
            "94/94 - 0s - loss: 0.0022\n",
            "Epoch 57/150\n",
            "94/94 - 0s - loss: 0.0022\n",
            "Epoch 58/150\n",
            "94/94 - 0s - loss: 0.0021\n",
            "Epoch 59/150\n",
            "94/94 - 0s - loss: 0.0021\n",
            "Epoch 60/150\n",
            "94/94 - 0s - loss: 0.0021\n",
            "Epoch 61/150\n",
            "94/94 - 0s - loss: 0.0021\n",
            "Epoch 62/150\n",
            "94/94 - 0s - loss: 0.0021\n",
            "Epoch 63/150\n",
            "94/94 - 0s - loss: 0.0021\n",
            "Epoch 64/150\n",
            "94/94 - 0s - loss: 0.0022\n",
            "Epoch 65/150\n",
            "94/94 - 0s - loss: 0.0021\n",
            "Epoch 66/150\n",
            "94/94 - 0s - loss: 0.0022\n",
            "Epoch 67/150\n",
            "94/94 - 0s - loss: 0.0020\n",
            "Epoch 68/150\n",
            "94/94 - 0s - loss: 0.0022\n",
            "Epoch 69/150\n",
            "94/94 - 0s - loss: 0.0022\n",
            "Epoch 70/150\n",
            "94/94 - 0s - loss: 0.0021\n",
            "Epoch 71/150\n",
            "94/94 - 0s - loss: 0.0021\n",
            "Epoch 72/150\n",
            "94/94 - 0s - loss: 0.0021\n",
            "Epoch 73/150\n",
            "94/94 - 0s - loss: 0.0022\n",
            "Epoch 74/150\n",
            "94/94 - 0s - loss: 0.0021\n",
            "Epoch 75/150\n",
            "94/94 - 0s - loss: 0.0022\n",
            "Epoch 76/150\n",
            "94/94 - 0s - loss: 0.0021\n",
            "Epoch 77/150\n",
            "94/94 - 0s - loss: 0.0021\n",
            "Epoch 78/150\n",
            "94/94 - 0s - loss: 0.0020\n",
            "Epoch 79/150\n",
            "94/94 - 0s - loss: 0.0021\n",
            "Epoch 80/150\n",
            "94/94 - 0s - loss: 0.0022\n",
            "Epoch 81/150\n",
            "94/94 - 0s - loss: 0.0021\n",
            "Epoch 82/150\n",
            "94/94 - 0s - loss: 0.0021\n",
            "Epoch 83/150\n",
            "94/94 - 0s - loss: 0.0022\n",
            "Epoch 84/150\n",
            "94/94 - 0s - loss: 0.0020\n",
            "Epoch 85/150\n",
            "94/94 - 0s - loss: 0.0021\n",
            "Epoch 86/150\n",
            "94/94 - 0s - loss: 0.0021\n",
            "Epoch 87/150\n",
            "94/94 - 0s - loss: 0.0021\n",
            "Epoch 88/150\n",
            "94/94 - 0s - loss: 0.0020\n",
            "Epoch 89/150\n",
            "94/94 - 0s - loss: 0.0022\n",
            "Epoch 90/150\n",
            "94/94 - 0s - loss: 0.0021\n",
            "Epoch 91/150\n",
            "94/94 - 0s - loss: 0.0022\n",
            "Epoch 92/150\n",
            "94/94 - 0s - loss: 0.0021\n",
            "Epoch 93/150\n",
            "94/94 - 0s - loss: 0.0020\n",
            "Epoch 94/150\n",
            "94/94 - 0s - loss: 0.0021\n",
            "Epoch 95/150\n",
            "94/94 - 0s - loss: 0.0021\n",
            "Epoch 96/150\n",
            "94/94 - 0s - loss: 0.0022\n",
            "Epoch 97/150\n",
            "94/94 - 0s - loss: 0.0021\n",
            "Epoch 98/150\n",
            "94/94 - 0s - loss: 0.0022\n",
            "Epoch 99/150\n",
            "94/94 - 0s - loss: 0.0022\n",
            "Epoch 100/150\n",
            "94/94 - 0s - loss: 0.0021\n",
            "Epoch 101/150\n",
            "94/94 - 0s - loss: 0.0021\n",
            "Epoch 102/150\n",
            "94/94 - 0s - loss: 0.0020\n",
            "Epoch 103/150\n",
            "94/94 - 0s - loss: 0.0020\n",
            "Epoch 104/150\n",
            "94/94 - 0s - loss: 0.0020\n",
            "Epoch 105/150\n",
            "94/94 - 0s - loss: 0.0021\n",
            "Epoch 106/150\n",
            "94/94 - 0s - loss: 0.0021\n",
            "Epoch 107/150\n",
            "94/94 - 0s - loss: 0.0021\n",
            "Epoch 108/150\n",
            "94/94 - 0s - loss: 0.0021\n",
            "Epoch 109/150\n",
            "94/94 - 0s - loss: 0.0021\n",
            "Epoch 110/150\n",
            "94/94 - 0s - loss: 0.0021\n",
            "Epoch 111/150\n",
            "94/94 - 0s - loss: 0.0021\n",
            "Epoch 112/150\n",
            "94/94 - 0s - loss: 0.0021\n",
            "Epoch 113/150\n",
            "94/94 - 0s - loss: 0.0020\n",
            "Epoch 114/150\n",
            "94/94 - 0s - loss: 0.0022\n",
            "Epoch 115/150\n",
            "94/94 - 0s - loss: 0.0021\n",
            "Epoch 116/150\n",
            "94/94 - 0s - loss: 0.0021\n",
            "Epoch 117/150\n",
            "94/94 - 0s - loss: 0.0020\n",
            "Epoch 118/150\n",
            "94/94 - 0s - loss: 0.0021\n",
            "Epoch 119/150\n",
            "94/94 - 0s - loss: 0.0020\n",
            "Epoch 120/150\n",
            "94/94 - 0s - loss: 0.0020\n",
            "Epoch 121/150\n",
            "94/94 - 0s - loss: 0.0022\n",
            "Epoch 122/150\n",
            "94/94 - 0s - loss: 0.0020\n",
            "Epoch 123/150\n",
            "94/94 - 0s - loss: 0.0021\n",
            "Epoch 124/150\n",
            "94/94 - 0s - loss: 0.0020\n",
            "Epoch 125/150\n",
            "94/94 - 0s - loss: 0.0020\n",
            "Epoch 126/150\n",
            "94/94 - 0s - loss: 0.0020\n",
            "Epoch 127/150\n",
            "94/94 - 0s - loss: 0.0022\n",
            "Epoch 128/150\n",
            "94/94 - 0s - loss: 0.0021\n",
            "Epoch 129/150\n",
            "94/94 - 0s - loss: 0.0021\n",
            "Epoch 130/150\n",
            "94/94 - 0s - loss: 0.0021\n",
            "Epoch 131/150\n",
            "94/94 - 0s - loss: 0.0021\n",
            "Epoch 132/150\n",
            "94/94 - 0s - loss: 0.0020\n",
            "Epoch 133/150\n",
            "94/94 - 0s - loss: 0.0022\n",
            "Epoch 134/150\n",
            "94/94 - 0s - loss: 0.0021\n",
            "Epoch 135/150\n",
            "94/94 - 0s - loss: 0.0020\n",
            "Epoch 136/150\n",
            "94/94 - 0s - loss: 0.0021\n",
            "Epoch 137/150\n",
            "94/94 - 0s - loss: 0.0020\n",
            "Epoch 138/150\n",
            "94/94 - 0s - loss: 0.0021\n",
            "Epoch 139/150\n",
            "94/94 - 0s - loss: 0.0021\n",
            "Epoch 140/150\n",
            "94/94 - 0s - loss: 0.0020\n",
            "Epoch 141/150\n",
            "94/94 - 0s - loss: 0.0020\n",
            "Epoch 142/150\n",
            "94/94 - 0s - loss: 0.0021\n",
            "Epoch 143/150\n",
            "94/94 - 0s - loss: 0.0021\n",
            "Epoch 144/150\n",
            "94/94 - 0s - loss: 0.0021\n",
            "Epoch 145/150\n",
            "94/94 - 0s - loss: 0.0020\n",
            "Epoch 146/150\n",
            "94/94 - 0s - loss: 0.0021\n",
            "Epoch 147/150\n",
            "94/94 - 0s - loss: 0.0021\n",
            "Epoch 148/150\n",
            "94/94 - 0s - loss: 0.0022\n",
            "Epoch 149/150\n",
            "94/94 - 0s - loss: 0.0021\n",
            "Epoch 150/150\n",
            "94/94 - 0s - loss: 0.0020\n",
            "Train Score: 22.89 RMSE\n",
            "Test Score: 49.18 RMSE\n"
          ],
          "name": "stdout"
        },
        {
          "output_type": "display_data",
          "data": {
            "image/png": "[encoded data removed]",
            "text/plain": [
              "<Figure size 432x288 with 1 Axes>"
            ]
          },
          "metadata": {
            "tags": [],
            "needs_background": "light"
          }
        }
      ]
    },
    {
      "cell_type": "code",
      "metadata": {
        "colab": {
          "base_uri": "https://localhost:8080/"
        },
        "id": "NRSGbfbbpAzu",
        "outputId": "f50d66ef-976f-4a25-da5e-351661a378b6"
      },
      "source": [
        "print(trainX[0:5])"
      ],
      "execution_count": 14,
      "outputs": [
        {
          "output_type": "stream",
          "text": [
            "[[[0.01544401]]\n",
            "\n",
            " [[0.02702703]]\n",
            "\n",
            " [[0.05405405]]\n",
            "\n",
            " [[0.04826255]]\n",
            "\n",
            " [[0.03281853]]]\n"
          ],
          "name": "stdout"
        }
      ]
    },
    {
      "cell_type": "code",
      "metadata": {
        "colab": {
          "base_uri": "https://localhost:8080/"
        },
        "id": "C7Ck1ypw8VJG",
        "outputId": "c9f095dd-0145-4e10-f15a-cd7819c2773f"
      },
      "source": [
        "model.summary()"
      ],
      "execution_count": 58,
      "outputs": [
        {
          "output_type": "stream",
          "text": [
            "Model: \"sequential_47\"\n",
            "_________________________________________________________________\n",
            "Layer (type)                 Output Shape              Param #   \n",
            "=================================================================\n",
            "lstm_48 (LSTM)               (None, 40)                6720      \n",
            "_________________________________________________________________\n",
            "dense_46 (Dense)             (None, 1)                 41        \n",
            "=================================================================\n",
            "Total params: 6,761\n",
            "Trainable params: 6,761\n",
            "Non-trainable params: 0\n",
            "_________________________________________________________________\n"
          ],
          "name": "stdout"
        }
      ]
    },
    {
      "cell_type": "code",
      "metadata": {
        "colab": {
          "base_uri": "https://localhost:8080/"
        },
        "id": "oclhJ9xhr-FU",
        "outputId": "0e8ac411-d83a-425a-b24d-b7b5e1dec868"
      },
      "source": [
        "print(testX[0:5])"
      ],
      "execution_count": 15,
      "outputs": [
        {
          "output_type": "stream",
          "text": [
            "[[[0.4073359 ]]\n",
            "\n",
            " [[0.3803089 ]]\n",
            "\n",
            " [[0.48648646]]\n",
            "\n",
            " [[0.47104248]]\n",
            "\n",
            " [[0.484556  ]]]\n"
          ],
          "name": "stdout"
        }
      ]
    },
    {
      "cell_type": "markdown",
      "metadata": {
        "id": "ZSz24HhlbUPF"
      },
      "source": [
        ""
      ]
    }
  ]
}