{
  "nbformat": 4,
  "nbformat_minor": 0,
  "metadata": {
    "colab": {
      "name": "Exercise2_DogvsCat_CNN.ipynb",
      "provenance": [],
      "collapsed_sections": [],
      "include_colab_link": true
    },
    "kernelspec": {
      "name": "python3",
      "display_name": "Python 3"
    },
    "accelerator": "GPU"
  },
  "cells": [
    {
      "cell_type": "markdown",
      "metadata": {
        "id": "view-in-github",
        "colab_type": "text"
      },
      "source": [
        "<a href=\"https://colab.research.google.com/github/raheeltahir55/CE888/blob/main/Lab7/Exercise2_DogvsCat_CNN.ipynb\" target=\"_parent\"><img src=\"https://colab.research.google.com/assets/colab-badge.svg\" alt=\"Open In Colab\"/></a>"
      ]
    },
    {
      "cell_type": "markdown",
      "metadata": {
        "id": "qTh9DiKVslsJ"
      },
      "source": [
        "## Dogs vs. Cats \n",
        "\n",
        "In this competition, you'll write an algorithm to classify whether images contain either a dog or a cat.  This is easy for humans, dogs, and cats. Your computer will find it a bit more difficult.\n",
        "\n",
        "![alt text](https://miro.medium.com/max/3000/1*bhFifratH9DjKqMBTeQG5A.gif)\n",
        "\n",
        "Ref: https://medium.com/@thegrigorian/rolling-in-the-deep-cnn-c8d3f7108c8c"
      ]
    },
    {
      "cell_type": "markdown",
      "metadata": {
        "id": "RSBI-_mSSY1g"
      },
      "source": [
        "Get your API Key from Kaggle using following steps:\n",
        "1. Login to [Kaggle](https://www.kaggle.com/) or Register if you don't have account\n",
        "2. Open Dataset (https://www.kaggle.com/c/dogs-vs-cats/rules) and accept terms and condition. \n",
        "3. On the top right corner click on your Icon and go to accounts and press a button \"Create New API Token\". It will download a JSON file containing your username and key. \n",
        "4. Now, paste both below. \n"
      ]
    },
    {
      "cell_type": "code",
      "metadata": {
        "colab": {
          "base_uri": "https://localhost:8080/"
        },
        "id": "MEuZaWjJKtK_",
        "outputId": "8505ba14-549e-433e-c905-7a9ee17572d1"
      },
      "source": [
        "pip install kaggle"
      ],
      "execution_count": null,
      "outputs": [
        {
          "output_type": "stream",
          "text": [
            "Requirement already satisfied: kaggle in /usr/local/lib/python3.7/dist-packages (1.5.12)\n",
            "Requirement already satisfied: urllib3 in /usr/local/lib/python3.7/dist-packages (from kaggle) (1.24.3)\n",
            "Requirement already satisfied: certifi in /usr/local/lib/python3.7/dist-packages (from kaggle) (2020.12.5)\n",
            "Requirement already satisfied: requests in /usr/local/lib/python3.7/dist-packages (from kaggle) (2.23.0)\n",
            "Requirement already satisfied: python-slugify in /usr/local/lib/python3.7/dist-packages (from kaggle) (4.0.1)\n",
            "Requirement already satisfied: python-dateutil in /usr/local/lib/python3.7/dist-packages (from kaggle) (2.8.1)\n",
            "Requirement already satisfied: six>=1.10 in /usr/local/lib/python3.7/dist-packages (from kaggle) (1.15.0)\n",
            "Requirement already satisfied: tqdm in /usr/local/lib/python3.7/dist-packages (from kaggle) (4.41.1)\n",
            "Requirement already satisfied: chardet<4,>=3.0.2 in /usr/local/lib/python3.7/dist-packages (from requests->kaggle) (3.0.4)\n",
            "Requirement already satisfied: idna<3,>=2.5 in /usr/local/lib/python3.7/dist-packages (from requests->kaggle) (2.10)\n",
            "Requirement already satisfied: text-unidecode>=1.3 in /usr/local/lib/python3.7/dist-packages (from python-slugify->kaggle) (1.3)\n"
          ],
          "name": "stdout"
        }
      ]
    },
    {
      "cell_type": "code",
      "metadata": {
        "id": "YmXSOc0tZIGA",
        "colab": {
          "base_uri": "https://localhost:8080/"
        },
        "outputId": "fdf8383e-c68d-4b53-9289-3b986af5ec44"
      },
      "source": [
        "import os\n",
        "os.environ['KAGGLE_USERNAME'] = \"raheeltahir\" # username from the json file\n",
        "os.environ['KAGGLE_KEY'] = \"8cadaf2fe78e0159e6535cc7a2cc5bc4\" # key from the json file\n",
        "!kaggle competitions download -c dogs-vs-cats # api copied from kaggle (https://www.kaggle.com/c/dogs-vs-cats/data)"
      ],
      "execution_count": 1,
      "outputs": [
        {
          "output_type": "stream",
          "text": [
            "Warning: Looks like you're using an outdated API Version, please consider updating (server 1.5.12 / client 1.5.4)\n",
            "Downloading sampleSubmission.csv to /content\n",
            "  0% 0.00/86.8k [00:00<?, ?B/s]\n",
            "100% 86.8k/86.8k [00:00<00:00, 68.2MB/s]\n",
            "Downloading test1.zip to /content\n",
            " 97% 263M/271M [00:01<00:00, 158MB/s]\n",
            "100% 271M/271M [00:01<00:00, 192MB/s]\n",
            "Downloading train.zip to /content\n",
            " 97% 528M/543M [00:02<00:00, 266MB/s]\n",
            "100% 543M/543M [00:03<00:00, 186MB/s]\n"
          ],
          "name": "stdout"
        }
      ]
    },
    {
      "cell_type": "code",
      "metadata": {
        "id": "PiwIL8d1n7eS",
        "colab": {
          "base_uri": "https://localhost:8080/"
        },
        "outputId": "fbe93e2d-8203-4fc4-82ed-01644c9992b8"
      },
      "source": [
        "# Unzip training data\n",
        "from zipfile import ZipFile\n",
        "file_name = \"/content/train.zip\"\n",
        "with ZipFile(file_name, 'r') as zip:\n",
        "  zip.extractall()\n",
        "  print('done')"
      ],
      "execution_count": 2,
      "outputs": [
        {
          "output_type": "stream",
          "text": [
            "done\n"
          ],
          "name": "stdout"
        }
      ]
    },
    {
      "cell_type": "code",
      "metadata": {
        "id": "sa2Bj5i7pPKV",
        "colab": {
          "base_uri": "https://localhost:8080/"
        },
        "outputId": "01b0ac62-2ce1-41cc-e811-0e9d946f0fe2"
      },
      "source": [
        "# Get all the paths\n",
        "data_dir_list = os.listdir('/content/train')\n",
        "#print(data_dir_list)\n",
        "path, dirs, files = next(os.walk(\"/content/train\"))\n",
        "file_count = len(files)\n",
        "print(file_count)"
      ],
      "execution_count": 3,
      "outputs": [
        {
          "output_type": "stream",
          "text": [
            "25000\n"
          ],
          "name": "stdout"
        }
      ]
    },
    {
      "cell_type": "code",
      "metadata": {
        "id": "0ERlHkfHqpK8"
      },
      "source": [
        "# Make new base directory\n",
        "original_dataset_dir = '/content/train'\n",
        "base_dir = '/content/cats_and_dogs_small'\n",
        "os.mkdir(base_dir)"
      ],
      "execution_count": 4,
      "outputs": []
    },
    {
      "cell_type": "code",
      "metadata": {
        "id": "AANB1UJ6rQhM"
      },
      "source": [
        "train_dir = os.path.join(base_dir, 'train')\n",
        "os.mkdir(train_dir)\n",
        "\n",
        "validation_dir = os.path.join(base_dir, 'validation')\n",
        "os.mkdir(validation_dir)\n",
        "\n",
        "test_dir = os.path.join(base_dir, 'test')\n",
        "os.mkdir(test_dir)\n",
        "\n",
        "train_cats_dir = os.path.join(train_dir, 'cats')\n",
        "os.mkdir(train_cats_dir)\n",
        "\n",
        "train_dogs_dir = os.path.join(train_dir, 'dogs')\n",
        "os.mkdir(train_dogs_dir)\n",
        "\n",
        "validation_cats_dir = os.path.join(validation_dir, 'cats')\n",
        "os.mkdir(validation_cats_dir)\n",
        "\n",
        "validation_dogs_dir = os.path.join(validation_dir, 'dogs')\n",
        "os.mkdir(validation_dogs_dir)\n",
        "\n",
        "test_cats_dir = os.path.join(test_dir, 'cats')\n",
        "os.mkdir(test_cats_dir)\n",
        "\n",
        "test_dogs_dir = os.path.join(test_dir, 'dogs')\n",
        "os.mkdir(test_dogs_dir)"
      ],
      "execution_count": 5,
      "outputs": []
    },
    {
      "cell_type": "code",
      "metadata": {
        "id": "ULRgL9s9rV8T"
      },
      "source": [
        "import shutil\n",
        "fnames = ['cat.{}.jpg'.format(i) for i in range(1000)]\n",
        "for fname in fnames:\n",
        "    src = os.path.join(original_dataset_dir, fname)\n",
        "    dst = os.path.join(train_cats_dir, fname)\n",
        "    #print(src,dst)\n",
        "    shutil.copyfile(src, dst)\n",
        "    \n",
        "fnames = ['cat.{}.jpg'.format(i) for i in range(1000, 1500)]\n",
        "for fname in fnames:\n",
        "    src = os.path.join(original_dataset_dir, fname)\n",
        "    dst = os.path.join(validation_cats_dir, fname)\n",
        "    shutil.copyfile(src, dst)\n",
        "\n",
        "fnames = ['cat.{}.jpg'.format(i) for i in range(1500, 2000)]\n",
        "for fname in fnames:\n",
        "    src = os.path.join(original_dataset_dir, fname)\n",
        "    dst = os.path.join(test_cats_dir, fname)\n",
        "    shutil.copyfile(src, dst)\n",
        "    \n",
        "fnames = ['dog.{}.jpg'.format(i) for i in range(1000)]\n",
        "for fname in fnames:\n",
        "    src = os.path.join(original_dataset_dir, fname)\n",
        "    dst = os.path.join(train_dogs_dir, fname)\n",
        "    shutil.copyfile(src, dst)\n",
        "\n",
        "fnames = ['dog.{}.jpg'.format(i) for i in range(1000, 1500)]\n",
        "for fname in fnames:\n",
        "    src = os.path.join(original_dataset_dir, fname)\n",
        "    dst = os.path.join(validation_dogs_dir, fname)\n",
        "    shutil.copyfile(src, dst)\n",
        "\n",
        "fnames = ['dog.{}.jpg'.format(i) for i in range(1500, 2000)]\n",
        "for fname in fnames:\n",
        "    src = os.path.join(original_dataset_dir, fname)\n",
        "    dst = os.path.join(test_dogs_dir, fname)\n",
        "    shutil.copyfile(src, dst)"
      ],
      "execution_count": 6,
      "outputs": []
    },
    {
      "cell_type": "code",
      "metadata": {
        "id": "ul3XAbIyr7vC",
        "colab": {
          "base_uri": "https://localhost:8080/"
        },
        "outputId": "3a310539-c51a-4aaf-8e02-098a2b135de1"
      },
      "source": [
        "print('total training cat images:', len(os.listdir(train_cats_dir)))\n",
        "print('total training dog images:', len(os.listdir(train_dogs_dir)))\n",
        "print('total validation cat images:', len(os.listdir(validation_cats_dir)))\n",
        "\n",
        "print('total validation dog images:', len(os.listdir(validation_dogs_dir)))\n",
        "print('total test cat images:', len(os.listdir(test_cats_dir)))\n",
        "print('total test dog images:', len(os.listdir(test_dogs_dir)))"
      ],
      "execution_count": 7,
      "outputs": [
        {
          "output_type": "stream",
          "text": [
            "total training cat images: 1000\n",
            "total training dog images: 1000\n",
            "total validation cat images: 500\n",
            "total validation dog images: 500\n",
            "total test cat images: 500\n",
            "total test dog images: 500\n"
          ],
          "name": "stdout"
        }
      ]
    },
    {
      "cell_type": "code",
      "metadata": {
        "id": "o9yTA21_r-ma",
        "colab": {
          "base_uri": "https://localhost:8080/"
        },
        "outputId": "703eb464-33a9-4645-f024-f3fc74e73ad6"
      },
      "source": [
        "from keras import layers\n",
        "from keras import models\n",
        "\n",
        "model = models.Sequential()\n",
        "model.add(layers.Conv2D(32, (3, 3), activation='relu', input_shape=(150, 150, 3)))\n",
        "model.add(layers.MaxPooling2D((2, 2)))\n",
        "model.add(layers.Conv2D(64, (3, 3), activation='relu'))\n",
        "model.add(layers.MaxPooling2D((2, 2)))\n",
        "model.add(layers.Conv2D(128, (3, 3), activation='relu'))\n",
        "model.add(layers.MaxPooling2D((2, 2)))\n",
        "model.add(layers.Conv2D(128, (3, 3), activation='relu'))\n",
        "model.add(layers.MaxPooling2D((2, 2)))\n",
        "model.add(layers.Flatten())\n",
        "model.add(layers.Dense(512, activation='relu'))\n",
        "model.add(layers.Dense(1, activation='sigmoid'))\n",
        "model.summary()"
      ],
      "execution_count": null,
      "outputs": [
        {
          "output_type": "stream",
          "text": [
            "Model: \"sequential\"\n",
            "_________________________________________________________________\n",
            "Layer (type)                 Output Shape              Param #   \n",
            "=================================================================\n",
            "conv2d (Conv2D)              (None, 148, 148, 32)      896       \n",
            "_________________________________________________________________\n",
            "max_pooling2d (MaxPooling2D) (None, 74, 74, 32)        0         \n",
            "_________________________________________________________________\n",
            "conv2d_1 (Conv2D)            (None, 72, 72, 64)        18496     \n",
            "_________________________________________________________________\n",
            "max_pooling2d_1 (MaxPooling2 (None, 36, 36, 64)        0         \n",
            "_________________________________________________________________\n",
            "conv2d_2 (Conv2D)            (None, 34, 34, 128)       73856     \n",
            "_________________________________________________________________\n",
            "max_pooling2d_2 (MaxPooling2 (None, 17, 17, 128)       0         \n",
            "_________________________________________________________________\n",
            "conv2d_3 (Conv2D)            (None, 15, 15, 128)       147584    \n",
            "_________________________________________________________________\n",
            "max_pooling2d_3 (MaxPooling2 (None, 7, 7, 128)         0         \n",
            "_________________________________________________________________\n",
            "flatten (Flatten)            (None, 6272)              0         \n",
            "_________________________________________________________________\n",
            "dense (Dense)                (None, 512)               3211776   \n",
            "_________________________________________________________________\n",
            "dense_1 (Dense)              (None, 1)                 513       \n",
            "=================================================================\n",
            "Total params: 3,453,121\n",
            "Trainable params: 3,453,121\n",
            "Non-trainable params: 0\n",
            "_________________________________________________________________\n"
          ],
          "name": "stdout"
        }
      ]
    },
    {
      "cell_type": "code",
      "metadata": {
        "id": "2mG8wekxsBVS"
      },
      "source": [
        "from keras import optimizers\n",
        "model.compile(loss='binary_crossentropy', \n",
        "              optimizer=optimizers.RMSprop(lr=1e-4),\n",
        "              metrics=['acc'])"
      ],
      "execution_count": null,
      "outputs": []
    },
    {
      "cell_type": "markdown",
      "metadata": {
        "id": "7zS4Klm8qWp6"
      },
      "source": [
        "## Using ImageDataGenerator to read images from directories\n",
        "As you know by now, data should be formatted into appropriately preprocessed floatingpoint tensors before being fed into the network. Currently, the data sits on a drive as JPEG files, so the steps for getting it into the network are roughly as follows:\n",
        "\n",
        "* Read the picture files.\n",
        "* Decode the JPEG content to RGB grids of pixels.\n",
        "* Convert these into floating-point tensors.\n",
        "* Rescale the pixel values (between 0 and 255) to the [0, 1] interval (as you know, neural networks prefer to deal with small input values).\n",
        "\n",
        "It may seem a bit daunting, but fortunately Keras has utilities to take care of these steps automatically. Keras has a module with image-processing helper tools, located at keras.preprocessing.image. In particular, it contains the class ImageDataGenerator,which lets you quickly set up Python generators that can automatically turn image files on disk into batches of preprocessed tensors."
      ]
    },
    {
      "cell_type": "code",
      "metadata": {
        "id": "XJ7XU7t9sEh6",
        "colab": {
          "base_uri": "https://localhost:8080/"
        },
        "outputId": "be28a869-fd06-4130-8a9d-1f21e63faf67"
      },
      "source": [
        "from keras.preprocessing.image import ImageDataGenerator\n",
        "\n",
        "train_datagen = ImageDataGenerator(rescale=1./255)\n",
        "test_datagen = ImageDataGenerator(rescale=1./255)\n",
        "\n",
        "train_generator = train_datagen.flow_from_directory(train_dir,\n",
        "                                                    target_size=(150, 150), \n",
        "                                                    batch_size=20,\n",
        "                                                    class_mode='binary')\n",
        "\n",
        "validation_generator = test_datagen.flow_from_directory(validation_dir,\n",
        "                                                        target_size=(150, 150),\n",
        "                                                        batch_size=20,\n",
        "                                                        class_mode='binary')"
      ],
      "execution_count": null,
      "outputs": [
        {
          "output_type": "stream",
          "text": [
            "Found 2000 images belonging to 2 classes.\n",
            "Found 1000 images belonging to 2 classes.\n"
          ],
          "name": "stdout"
        }
      ]
    },
    {
      "cell_type": "markdown",
      "metadata": {
        "id": "SEgLywySqm4u"
      },
      "source": [
        "Let’s fit the model to the data using the generator. You do so using the fit_generator method, the equivalent of fit for data generators like this one. It expects as its first argument a Python generator that will yield batches of inputs and targets indefinitely,like this one does. Because the data is being generated endlessly, the Keras model needs to know how many samples to draw from the generator before declaring anepoch over. This is the role of the `steps_per_epoch` argument: after having drawn `steps_per_epoch` batches from the generator—that is, after having run for `steps_per_epoch` gradient descent steps—the fitting process will go to the next epoch. In this case, batches are 20 samples, so it will take 100 batches until you see your target of 2,000 samples.\n",
        "\n",
        "When using fit_generator, you can pass a validation_data argument, much as with the fit method. It’s important to note that this argument is allowed to be a data generator, but it could also be a tuple of Numpy arrays. If you pass a generator as validation_data, then this generator is expected to yield batches of validation data endlessly; thus you should also specify the validation_steps argument, which tells the process how many batches to draw from the validation generator for evaluation."
      ]
    },
    {
      "cell_type": "code",
      "metadata": {
        "id": "yMyfPphJsJG6",
        "colab": {
          "base_uri": "https://localhost:8080/"
        },
        "outputId": "175cf5bb-306b-4452-ac6e-17f7adc8f128"
      },
      "source": [
        "history = model.fit_generator(train_generator,\n",
        "                              steps_per_epoch=100,\n",
        "                              epochs=30,\n",
        "                              validation_data=validation_generator,\n",
        "                              validation_steps=10)"
      ],
      "execution_count": null,
      "outputs": [
        {
          "output_type": "stream",
          "text": [
            "/usr/local/lib/python3.7/dist-packages/tensorflow/python/keras/engine/training.py:1844: UserWarning: `Model.fit_generator` is deprecated and will be removed in a future version. Please use `Model.fit`, which supports generators.\n",
            "  warnings.warn('`Model.fit_generator` is deprecated and '\n"
          ],
          "name": "stderr"
        },
        {
          "output_type": "stream",
          "text": [
            "Epoch 1/30\n",
            "100/100 [==============================] - 39s 75ms/step - loss: 0.6930 - acc: 0.5332 - val_loss: 0.6735 - val_acc: 0.5800\n",
            "Epoch 2/30\n",
            "100/100 [==============================] - 7s 72ms/step - loss: 0.6680 - acc: 0.5747 - val_loss: 0.6303 - val_acc: 0.6550\n",
            "Epoch 3/30\n",
            "100/100 [==============================] - 7s 72ms/step - loss: 0.6154 - acc: 0.6690 - val_loss: 0.5549 - val_acc: 0.7450\n",
            "Epoch 4/30\n",
            "100/100 [==============================] - 7s 71ms/step - loss: 0.5661 - acc: 0.6900 - val_loss: 0.5889 - val_acc: 0.7100\n",
            "Epoch 5/30\n",
            "100/100 [==============================] - 7s 71ms/step - loss: 0.5397 - acc: 0.7283 - val_loss: 0.5588 - val_acc: 0.7250\n",
            "Epoch 6/30\n",
            "100/100 [==============================] - 7s 71ms/step - loss: 0.5105 - acc: 0.7475 - val_loss: 0.5963 - val_acc: 0.6150\n",
            "Epoch 7/30\n",
            "100/100 [==============================] - 7s 71ms/step - loss: 0.4891 - acc: 0.7700 - val_loss: 0.5060 - val_acc: 0.7500\n",
            "Epoch 8/30\n",
            "100/100 [==============================] - 7s 71ms/step - loss: 0.4469 - acc: 0.7799 - val_loss: 0.7245 - val_acc: 0.5550\n",
            "Epoch 9/30\n",
            "100/100 [==============================] - 7s 71ms/step - loss: 0.4323 - acc: 0.8082 - val_loss: 0.5391 - val_acc: 0.7450\n",
            "Epoch 10/30\n",
            "100/100 [==============================] - 7s 71ms/step - loss: 0.3835 - acc: 0.8443 - val_loss: 0.5451 - val_acc: 0.7300\n",
            "Epoch 11/30\n",
            "100/100 [==============================] - 7s 72ms/step - loss: 0.3852 - acc: 0.8239 - val_loss: 0.5504 - val_acc: 0.7100\n",
            "Epoch 12/30\n",
            "100/100 [==============================] - 7s 71ms/step - loss: 0.3511 - acc: 0.8465 - val_loss: 0.5596 - val_acc: 0.7300\n",
            "Epoch 13/30\n",
            "100/100 [==============================] - 7s 71ms/step - loss: 0.3255 - acc: 0.8577 - val_loss: 0.5378 - val_acc: 0.7750\n",
            "Epoch 14/30\n",
            "100/100 [==============================] - 7s 71ms/step - loss: 0.3030 - acc: 0.8812 - val_loss: 0.5197 - val_acc: 0.7600\n",
            "Epoch 15/30\n",
            "100/100 [==============================] - 7s 71ms/step - loss: 0.2974 - acc: 0.8804 - val_loss: 0.5342 - val_acc: 0.7450\n",
            "Epoch 16/30\n",
            "100/100 [==============================] - 7s 72ms/step - loss: 0.2563 - acc: 0.8860 - val_loss: 0.5425 - val_acc: 0.7650\n",
            "Epoch 17/30\n",
            "100/100 [==============================] - 7s 71ms/step - loss: 0.2333 - acc: 0.9120 - val_loss: 0.6566 - val_acc: 0.7100\n",
            "Epoch 18/30\n",
            "100/100 [==============================] - 7s 71ms/step - loss: 0.2226 - acc: 0.9163 - val_loss: 0.5627 - val_acc: 0.7450\n",
            "Epoch 19/30\n",
            "100/100 [==============================] - 7s 72ms/step - loss: 0.2029 - acc: 0.9200 - val_loss: 0.5254 - val_acc: 0.7600\n",
            "Epoch 20/30\n",
            "100/100 [==============================] - 7s 72ms/step - loss: 0.1856 - acc: 0.9289 - val_loss: 0.4548 - val_acc: 0.7800\n",
            "Epoch 21/30\n",
            "100/100 [==============================] - 7s 72ms/step - loss: 0.1678 - acc: 0.9457 - val_loss: 0.6993 - val_acc: 0.7050\n",
            "Epoch 22/30\n",
            "100/100 [==============================] - 7s 71ms/step - loss: 0.1484 - acc: 0.9527 - val_loss: 0.7249 - val_acc: 0.7050\n",
            "Epoch 23/30\n",
            "100/100 [==============================] - 7s 71ms/step - loss: 0.1223 - acc: 0.9628 - val_loss: 0.5830 - val_acc: 0.7900\n",
            "Epoch 24/30\n",
            "100/100 [==============================] - 7s 71ms/step - loss: 0.1089 - acc: 0.9713 - val_loss: 0.5756 - val_acc: 0.7700\n",
            "Epoch 25/30\n",
            "100/100 [==============================] - 7s 71ms/step - loss: 0.1047 - acc: 0.9683 - val_loss: 0.5989 - val_acc: 0.7900\n",
            "Epoch 26/30\n",
            "100/100 [==============================] - 7s 71ms/step - loss: 0.0933 - acc: 0.9699 - val_loss: 0.9756 - val_acc: 0.6800\n",
            "Epoch 27/30\n",
            "100/100 [==============================] - 7s 72ms/step - loss: 0.0717 - acc: 0.9856 - val_loss: 0.9216 - val_acc: 0.7300\n",
            "Epoch 28/30\n",
            "100/100 [==============================] - 7s 73ms/step - loss: 0.0587 - acc: 0.9835 - val_loss: 0.9023 - val_acc: 0.7500\n",
            "Epoch 29/30\n",
            "100/100 [==============================] - 7s 71ms/step - loss: 0.0460 - acc: 0.9905 - val_loss: 0.8222 - val_acc: 0.7400\n",
            "Epoch 30/30\n",
            "100/100 [==============================] - 7s 72ms/step - loss: 0.0469 - acc: 0.9911 - val_loss: 0.7481 - val_acc: 0.7600\n"
          ],
          "name": "stdout"
        }
      ]
    },
    {
      "cell_type": "code",
      "metadata": {
        "id": "MZaZ2HWZsNUi",
        "colab": {
          "base_uri": "https://localhost:8080/",
          "height": 545
        },
        "outputId": "6248c989-fed6-46da-f463-6dba20b4ea34"
      },
      "source": [
        "model.save('cats_and_dogs_small_1.h5')\n",
        "\n",
        "import matplotlib.pyplot as plt\n",
        "\n",
        "acc = history.history['acc']\n",
        "val_acc = history.history['val_acc']\n",
        "loss = history.history['loss']\n",
        "val_loss = history.history['val_loss']\n",
        "\n",
        "epochs = range(1, len(acc) + 1)\n",
        "\n",
        "plt.plot(epochs, acc, 'bo', label='Training acc')\n",
        "plt.plot(epochs, val_acc, 'b', label='Validation acc')\n",
        "plt.title('Training and validation accuracy')\n",
        "plt.legend()\n",
        "\n",
        "plt.figure()\n",
        "\n",
        "plt.plot(epochs, loss, 'bo', label='Training loss')\n",
        "plt.plot(epochs, val_loss, 'b', label='Validation loss')\n",
        "plt.title('Training and validation loss')\n",
        "plt.legend()\n",
        "\n",
        "plt.show()"
      ],
      "execution_count": null,
      "outputs": [
        {
          "output_type": "display_data",
          "data": {
            "image/png": "[encoded data removed]",
            "text/plain": [
              "<Figure size 432x288 with 1 Axes>"
            ]
          },
          "metadata": {
            "tags": [],
            "needs_background": "light"
          }
        },
        {
          "output_type": "display_data",
          "data": {
            "image/png": "[encoded data removed]",
            "text/plain": [
              "<Figure size 432x288 with 1 Axes>"
            ]
          },
          "metadata": {
            "tags": [],
            "needs_background": "light"
          }
        }
      ]
    },
    {
      "cell_type": "markdown",
      "metadata": {
        "id": "XKZmXmBcq_8-"
      },
      "source": [
        "## Convolutional Networks with Dropout\n",
        "\n",
        "![alt text](https://camo.githubusercontent.com/ee6fa1073247cd2c3d241300caf110d7a7541bc5/68747470733a2f2f63646e2d696d616765732d312e6d656469756d2e636f6d2f6d61782f3830302f312a4972644a355067684439596f4f7956415137334d4a772e676966)\n",
        "\n",
        "Ref: https://github.com/mneha4/Training-Neural-Nets---Guidelines"
      ]
    },
    {
      "cell_type": "code",
      "metadata": {
        "id": "wu3cqeYQrDeN"
      },
      "source": [
        "model = models.Sequential()\n",
        "model.add(layers.Conv2D(32, (3, 3), activation='relu',\n",
        "input_shape=(150, 150, 3)))\n",
        "model.add(layers.MaxPooling2D((2, 2)))\n",
        "model.add(layers.Conv2D(64, (3, 3), activation='relu'))\n",
        "model.add(layers.MaxPooling2D((2, 2)))\n",
        "model.add(layers.Conv2D(128, (3, 3), activation='relu'))\n",
        "model.add(layers.MaxPooling2D((2, 2)))\n",
        "model.add(layers.Conv2D(128, (3, 3), activation='relu'))\n",
        "model.add(layers.MaxPooling2D((2, 2)))\n",
        "model.add(layers.Flatten())\n",
        "model.add(layers.Dropout(0.5))\n",
        "model.add(layers.Dense(512, activation='relu'))\n",
        "model.add(layers.Dense(1, activation='sigmoid'))\n",
        "\n",
        "model.compile(loss='binary_crossentropy',\n",
        "              optimizer=optimizers.RMSprop(lr=1e-4),\n",
        "              metrics=['acc'])"
      ],
      "execution_count": null,
      "outputs": []
    },
    {
      "cell_type": "code",
      "metadata": {
        "id": "QSeLpvY0rH7F",
        "colab": {
          "base_uri": "https://localhost:8080/"
        },
        "outputId": "e2e4091c-f0e7-46e9-9d70-f3357f90808b"
      },
      "source": [
        "\n",
        "train_datagen = ImageDataGenerator(rescale=1./255,\n",
        "                                   rotation_range=40,\n",
        "                                   width_shift_range=0.2,\n",
        "                                   height_shift_range=0.2,\n",
        "                                   shear_range=0.2,\n",
        "                                   zoom_range=0.2,\n",
        "                                   horizontal_flip=True,)\n",
        "\n",
        "test_datagen = ImageDataGenerator(rescale=1./255)\n",
        "\n",
        "train_generator = train_datagen.flow_from_directory(train_dir,\n",
        "                                                    target_size=(150, 150),\n",
        "                                                    batch_size=20,\n",
        "                                                    class_mode='binary')\n",
        "\n",
        "validation_generator = test_datagen.flow_from_directory(validation_dir,\n",
        "                                                        target_size=(150, 150),\n",
        "                                                        batch_size=20,\n",
        "                                                        class_mode='binary')\n",
        "\n",
        "history = model.fit_generator(train_generator,\n",
        "                              steps_per_epoch=100,\n",
        "                              epochs=20,\n",
        "                              validation_data=validation_generator,\n",
        "                              validation_steps=50)"
      ],
      "execution_count": null,
      "outputs": [
        {
          "output_type": "stream",
          "text": [
            "Found 2000 images belonging to 2 classes.\n",
            "Found 1000 images belonging to 2 classes.\n"
          ],
          "name": "stdout"
        },
        {
          "output_type": "stream",
          "text": [
            "/usr/local/lib/python3.7/dist-packages/tensorflow/python/keras/engine/training.py:1844: UserWarning: `Model.fit_generator` is deprecated and will be removed in a future version. Please use `Model.fit`, which supports generators.\n",
            "  warnings.warn('`Model.fit_generator` is deprecated and '\n"
          ],
          "name": "stderr"
        },
        {
          "output_type": "stream",
          "text": [
            "Epoch 1/20\n",
            "100/100 [==============================] - 18s 184ms/step - loss: 0.4719 - acc: 0.7835 - val_loss: 0.4760 - val_acc: 0.7500\n",
            "Epoch 2/20\n",
            "100/100 [==============================] - 18s 181ms/step - loss: 0.4623 - acc: 0.7770 - val_loss: 0.4274 - val_acc: 0.8130\n",
            "Epoch 3/20\n",
            "100/100 [==============================] - 18s 181ms/step - loss: 0.4639 - acc: 0.7835 - val_loss: 0.4880 - val_acc: 0.7430\n",
            "Epoch 4/20\n",
            "100/100 [==============================] - 18s 179ms/step - loss: 0.4653 - acc: 0.7755 - val_loss: 0.4424 - val_acc: 0.7950\n",
            "Epoch 5/20\n",
            "100/100 [==============================] - 18s 180ms/step - loss: 0.4479 - acc: 0.7880 - val_loss: 0.4572 - val_acc: 0.8000\n",
            "Epoch 6/20\n",
            "100/100 [==============================] - 18s 180ms/step - loss: 0.4689 - acc: 0.7775 - val_loss: 0.4835 - val_acc: 0.7790\n",
            "Epoch 7/20\n",
            "100/100 [==============================] - 18s 178ms/step - loss: 0.4411 - acc: 0.7860 - val_loss: 0.5062 - val_acc: 0.7520\n",
            "Epoch 8/20\n",
            "100/100 [==============================] - 18s 177ms/step - loss: 0.4651 - acc: 0.7825 - val_loss: 0.4404 - val_acc: 0.8060\n",
            "Epoch 9/20\n",
            "100/100 [==============================] - 18s 180ms/step - loss: 0.4430 - acc: 0.7960 - val_loss: 0.4318 - val_acc: 0.8140\n",
            "Epoch 10/20\n",
            "100/100 [==============================] - 18s 183ms/step - loss: 0.4408 - acc: 0.7850 - val_loss: 0.4424 - val_acc: 0.7960\n",
            "Epoch 11/20\n",
            "100/100 [==============================] - 18s 181ms/step - loss: 0.4487 - acc: 0.7900 - val_loss: 0.4627 - val_acc: 0.7950\n",
            "Epoch 12/20\n",
            "100/100 [==============================] - 18s 183ms/step - loss: 0.4420 - acc: 0.7905 - val_loss: 0.4544 - val_acc: 0.7850\n",
            "Epoch 13/20\n",
            "100/100 [==============================] - 18s 184ms/step - loss: 0.4366 - acc: 0.8010 - val_loss: 0.4497 - val_acc: 0.7930\n",
            "Epoch 14/20\n",
            "100/100 [==============================] - 18s 183ms/step - loss: 0.4266 - acc: 0.8090 - val_loss: 0.4617 - val_acc: 0.7800\n",
            "Epoch 15/20\n",
            "100/100 [==============================] - 18s 182ms/step - loss: 0.4408 - acc: 0.7985 - val_loss: 0.5094 - val_acc: 0.7670\n",
            "Epoch 16/20\n",
            "100/100 [==============================] - 18s 184ms/step - loss: 0.4327 - acc: 0.7910 - val_loss: 0.4328 - val_acc: 0.8100\n",
            "Epoch 17/20\n",
            "100/100 [==============================] - 18s 183ms/step - loss: 0.4315 - acc: 0.7970 - val_loss: 0.4243 - val_acc: 0.8140\n",
            "Epoch 18/20\n",
            "100/100 [==============================] - 18s 181ms/step - loss: 0.4366 - acc: 0.7970 - val_loss: 0.4558 - val_acc: 0.7840\n",
            "Epoch 19/20\n",
            "100/100 [==============================] - 18s 180ms/step - loss: 0.4337 - acc: 0.7930 - val_loss: 0.4553 - val_acc: 0.7720\n",
            "Epoch 20/20\n",
            "100/100 [==============================] - 18s 183ms/step - loss: 0.4176 - acc: 0.7995 - val_loss: 0.4509 - val_acc: 0.8020\n"
          ],
          "name": "stdout"
        }
      ]
    },
    {
      "cell_type": "markdown",
      "metadata": {
        "id": "BRdU5yrkUF_b"
      },
      "source": [
        "# Task 2:\n",
        "\n",
        "We have used Dropout to enhance the performance of the CNN model. Can you please use whatever you like to further enhance the performance from `val_acc: 0.7506`? "
      ]
    },
    {
      "cell_type": "markdown",
      "metadata": {
        "id": "3Gq9nskn126K"
      },
      "source": [
        "Simply increasing the number of epochs has improved the performance significantly, as model was not being trained enough on training data before. Model has been trained on 50 epochs three times that makes up 150 epochs in total. Accuracy has increased from 75% to up around 85%."
      ]
    },
    {
      "cell_type": "code",
      "metadata": {
        "id": "fdeemXX-Qm56",
        "colab": {
          "base_uri": "https://localhost:8080/"
        },
        "outputId": "4d658e45-b94d-40c3-9a66-0aaa62e4e63c"
      },
      "source": [
        "train_datagen = ImageDataGenerator(rescale=1./255,\n",
        "                                   rotation_range=40,\n",
        "                                   width_shift_range=0.2,\n",
        "                                   height_shift_range=0.2,\n",
        "                                   shear_range=0.2,\n",
        "                                   zoom_range=0.2,\n",
        "                                   horizontal_flip=True,)\n",
        "\n",
        "test_datagen = ImageDataGenerator(rescale=1./255)\n",
        "\n",
        "train_generator = train_datagen.flow_from_directory(train_dir,\n",
        "                                                    target_size=(150, 150),\n",
        "                                                    batch_size=20,\n",
        "                                                    class_mode='binary')\n",
        "\n",
        "validation_generator = test_datagen.flow_from_directory(validation_dir,\n",
        "                                                        target_size=(150, 150),\n",
        "                                                        batch_size=20,\n",
        "                                                        class_mode='binary')\n",
        "\n",
        "history = model.fit_generator(train_generator,\n",
        "                              steps_per_epoch=100,\n",
        "                              epochs=50,\n",
        "                              validation_data=validation_generator,\n",
        "                              validation_steps=50)"
      ],
      "execution_count": null,
      "outputs": [
        {
          "output_type": "stream",
          "text": [
            "Found 2000 images belonging to 2 classes.\n",
            "Found 1000 images belonging to 2 classes.\n"
          ],
          "name": "stdout"
        },
        {
          "output_type": "stream",
          "text": [
            "/usr/local/lib/python3.7/dist-packages/tensorflow/python/keras/engine/training.py:1844: UserWarning: `Model.fit_generator` is deprecated and will be removed in a future version. Please use `Model.fit`, which supports generators.\n",
            "  warnings.warn('`Model.fit_generator` is deprecated and '\n"
          ],
          "name": "stderr"
        },
        {
          "output_type": "stream",
          "text": [
            "Epoch 1/50\n",
            "100/100 [==============================] - 18s 181ms/step - loss: 0.3263 - acc: 0.8605 - val_loss: 0.4208 - val_acc: 0.8270\n",
            "Epoch 2/50\n",
            "100/100 [==============================] - 18s 182ms/step - loss: 0.3372 - acc: 0.8485 - val_loss: 0.4220 - val_acc: 0.8330\n",
            "Epoch 3/50\n",
            "100/100 [==============================] - 18s 181ms/step - loss: 0.3360 - acc: 0.8525 - val_loss: 0.4004 - val_acc: 0.8340\n",
            "Epoch 4/50\n",
            "100/100 [==============================] - 18s 180ms/step - loss: 0.3238 - acc: 0.8595 - val_loss: 0.4731 - val_acc: 0.8120\n",
            "Epoch 5/50\n",
            "100/100 [==============================] - 18s 178ms/step - loss: 0.3254 - acc: 0.8600 - val_loss: 0.3796 - val_acc: 0.8450\n",
            "Epoch 6/50\n",
            "100/100 [==============================] - 18s 180ms/step - loss: 0.3333 - acc: 0.8620 - val_loss: 0.4310 - val_acc: 0.8340\n",
            "Epoch 7/50\n",
            "100/100 [==============================] - 18s 177ms/step - loss: 0.3450 - acc: 0.8475 - val_loss: 0.4114 - val_acc: 0.8290\n",
            "Epoch 8/50\n",
            "100/100 [==============================] - 18s 178ms/step - loss: 0.3388 - acc: 0.8520 - val_loss: 0.3997 - val_acc: 0.8260\n",
            "Epoch 9/50\n",
            "100/100 [==============================] - 18s 180ms/step - loss: 0.3115 - acc: 0.8700 - val_loss: 0.4394 - val_acc: 0.8270\n",
            "Epoch 10/50\n",
            "100/100 [==============================] - 18s 178ms/step - loss: 0.3171 - acc: 0.8540 - val_loss: 0.3980 - val_acc: 0.8400\n",
            "Epoch 11/50\n",
            "100/100 [==============================] - 18s 179ms/step - loss: 0.3249 - acc: 0.8575 - val_loss: 0.4490 - val_acc: 0.8330\n",
            "Epoch 12/50\n",
            "100/100 [==============================] - 18s 179ms/step - loss: 0.3447 - acc: 0.8560 - val_loss: 0.4131 - val_acc: 0.8150\n",
            "Epoch 13/50\n",
            "100/100 [==============================] - 18s 182ms/step - loss: 0.3404 - acc: 0.8595 - val_loss: 0.3844 - val_acc: 0.8340\n",
            "Epoch 14/50\n",
            "100/100 [==============================] - 18s 179ms/step - loss: 0.3333 - acc: 0.8490 - val_loss: 0.4882 - val_acc: 0.8230\n",
            "Epoch 15/50\n",
            "100/100 [==============================] - 18s 178ms/step - loss: 0.3285 - acc: 0.8565 - val_loss: 0.4155 - val_acc: 0.8220\n",
            "Epoch 16/50\n",
            "100/100 [==============================] - 18s 181ms/step - loss: 0.3176 - acc: 0.8625 - val_loss: 0.4146 - val_acc: 0.8370\n",
            "Epoch 17/50\n",
            "100/100 [==============================] - 18s 179ms/step - loss: 0.3331 - acc: 0.8535 - val_loss: 0.3891 - val_acc: 0.8330\n",
            "Epoch 18/50\n",
            "100/100 [==============================] - 18s 177ms/step - loss: 0.3093 - acc: 0.8670 - val_loss: 0.3985 - val_acc: 0.8390\n",
            "Epoch 19/50\n",
            "100/100 [==============================] - 18s 178ms/step - loss: 0.3211 - acc: 0.8625 - val_loss: 0.8599 - val_acc: 0.7340\n",
            "Epoch 20/50\n",
            "100/100 [==============================] - 18s 181ms/step - loss: 0.3345 - acc: 0.8525 - val_loss: 0.4533 - val_acc: 0.8150\n",
            "Epoch 21/50\n",
            "100/100 [==============================] - 18s 178ms/step - loss: 0.3115 - acc: 0.8680 - val_loss: 0.3980 - val_acc: 0.8320\n",
            "Epoch 22/50\n",
            "100/100 [==============================] - 18s 177ms/step - loss: 0.3032 - acc: 0.8685 - val_loss: 0.4190 - val_acc: 0.8480\n",
            "Epoch 23/50\n",
            "100/100 [==============================] - 18s 176ms/step - loss: 0.3036 - acc: 0.8620 - val_loss: 0.4277 - val_acc: 0.8330\n",
            "Epoch 24/50\n",
            "100/100 [==============================] - 18s 175ms/step - loss: 0.3118 - acc: 0.8605 - val_loss: 0.3875 - val_acc: 0.8410\n",
            "Epoch 25/50\n",
            "100/100 [==============================] - 17s 175ms/step - loss: 0.3180 - acc: 0.8665 - val_loss: 0.4138 - val_acc: 0.8300\n",
            "Epoch 26/50\n",
            "100/100 [==============================] - 18s 179ms/step - loss: 0.3107 - acc: 0.8610 - val_loss: 0.4015 - val_acc: 0.8500\n",
            "Epoch 27/50\n",
            "100/100 [==============================] - 19s 186ms/step - loss: 0.3229 - acc: 0.8535 - val_loss: 0.4240 - val_acc: 0.8330\n",
            "Epoch 28/50\n",
            "100/100 [==============================] - 19s 187ms/step - loss: 0.3124 - acc: 0.8620 - val_loss: 0.4546 - val_acc: 0.8230\n",
            "Epoch 29/50\n",
            "100/100 [==============================] - 19s 188ms/step - loss: 0.3086 - acc: 0.8700 - val_loss: 0.3986 - val_acc: 0.8530\n",
            "Epoch 30/50\n",
            "100/100 [==============================] - 19s 187ms/step - loss: 0.2803 - acc: 0.8800 - val_loss: 0.4170 - val_acc: 0.8370\n",
            "Epoch 31/50\n",
            "100/100 [==============================] - 18s 177ms/step - loss: 0.3084 - acc: 0.8650 - val_loss: 0.3965 - val_acc: 0.8300\n",
            "Epoch 32/50\n",
            "100/100 [==============================] - 18s 178ms/step - loss: 0.2948 - acc: 0.8665 - val_loss: 0.6197 - val_acc: 0.7810\n",
            "Epoch 33/50\n",
            "100/100 [==============================] - 18s 177ms/step - loss: 0.3129 - acc: 0.8725 - val_loss: 0.3613 - val_acc: 0.8430\n",
            "Epoch 34/50\n",
            "100/100 [==============================] - 18s 178ms/step - loss: 0.3025 - acc: 0.8745 - val_loss: 0.3948 - val_acc: 0.8470\n",
            "Epoch 35/50\n",
            "100/100 [==============================] - 18s 178ms/step - loss: 0.3197 - acc: 0.8580 - val_loss: 0.6014 - val_acc: 0.7750\n",
            "Epoch 36/50\n",
            "100/100 [==============================] - 18s 177ms/step - loss: 0.3042 - acc: 0.8670 - val_loss: 0.4352 - val_acc: 0.8290\n",
            "Epoch 37/50\n",
            "100/100 [==============================] - 18s 180ms/step - loss: 0.2920 - acc: 0.8690 - val_loss: 0.3993 - val_acc: 0.8350\n",
            "Epoch 38/50\n",
            "100/100 [==============================] - 18s 182ms/step - loss: 0.2896 - acc: 0.8815 - val_loss: 0.3729 - val_acc: 0.8410\n",
            "Epoch 39/50\n",
            "100/100 [==============================] - 19s 187ms/step - loss: 0.3066 - acc: 0.8645 - val_loss: 0.3785 - val_acc: 0.8510\n",
            "Epoch 40/50\n",
            "100/100 [==============================] - 18s 184ms/step - loss: 0.2970 - acc: 0.8740 - val_loss: 0.4365 - val_acc: 0.8320\n",
            "Epoch 41/50\n",
            "100/100 [==============================] - 19s 189ms/step - loss: 0.3035 - acc: 0.8760 - val_loss: 0.4029 - val_acc: 0.8380\n",
            "Epoch 42/50\n",
            "100/100 [==============================] - 19s 187ms/step - loss: 0.2986 - acc: 0.8710 - val_loss: 0.3733 - val_acc: 0.8380\n",
            "Epoch 43/50\n",
            "100/100 [==============================] - 18s 178ms/step - loss: 0.3001 - acc: 0.8705 - val_loss: 0.4354 - val_acc: 0.8350\n",
            "Epoch 44/50\n",
            "100/100 [==============================] - 18s 177ms/step - loss: 0.3086 - acc: 0.8675 - val_loss: 0.3766 - val_acc: 0.8450\n",
            "Epoch 45/50\n",
            "100/100 [==============================] - 18s 176ms/step - loss: 0.2765 - acc: 0.8830 - val_loss: 0.4359 - val_acc: 0.8400\n",
            "Epoch 46/50\n",
            "100/100 [==============================] - 18s 176ms/step - loss: 0.2987 - acc: 0.8740 - val_loss: 0.3539 - val_acc: 0.8460\n",
            "Epoch 47/50\n",
            "100/100 [==============================] - 18s 176ms/step - loss: 0.2697 - acc: 0.8865 - val_loss: 0.4902 - val_acc: 0.8220\n",
            "Epoch 48/50\n",
            "100/100 [==============================] - 17s 174ms/step - loss: 0.3007 - acc: 0.8655 - val_loss: 0.3583 - val_acc: 0.8540\n",
            "Epoch 49/50\n",
            "100/100 [==============================] - 17s 174ms/step - loss: 0.2985 - acc: 0.8795 - val_loss: 0.5328 - val_acc: 0.8080\n",
            "Epoch 50/50\n",
            "100/100 [==============================] - 17s 175ms/step - loss: 0.2943 - acc: 0.8770 - val_loss: 0.4268 - val_acc: 0.8550\n"
          ],
          "name": "stdout"
        }
      ]
    },
    {
      "cell_type": "markdown",
      "metadata": {
        "id": "DOgUkvC3IPmR"
      },
      "source": [
        "Tranfer learning with pre trained VGG16 model fine tuned on our training data has improved the test accuracy to 92%."
      ]
    },
    {
      "cell_type": "code",
      "metadata": {
        "colab": {
          "base_uri": "https://localhost:8080/"
        },
        "id": "R8LQr0gcE7Vb",
        "outputId": "0e317032-4fc8-4806-f620-f2d0b8e3b13e"
      },
      "source": [
        "from tensorflow.keras.applications import VGG16\n",
        "from tensorflow.keras.layers import Dense, Input, Flatten\n",
        "from tensorflow.keras import Model\n",
        "\n",
        "IMG_SIZE= 224\n",
        "img_input = Input(shape=(IMG_SIZE, IMG_SIZE, 3))\n",
        "\n",
        "model = VGG16(\n",
        "    include_top=True,\n",
        "    weights=\"imagenet\",\n",
        "    input_tensor=img_input,\n",
        "    input_shape=None,\n",
        "    pooling=None,\n",
        "    classes=1000,\n",
        "    classifier_activation=\"softmax\",\n",
        ")\n",
        "model.summary()"
      ],
      "execution_count": 11,
      "outputs": [
        {
          "output_type": "stream",
          "text": [
            "Model: \"vgg16\"\n",
            "_________________________________________________________________\n",
            "Layer (type)                 Output Shape              Param #   \n",
            "=================================================================\n",
            "input_4 (InputLayer)         [(None, 224, 224, 3)]     0         \n",
            "_________________________________________________________________\n",
            "block1_conv1 (Conv2D)        (None, 224, 224, 64)      1792      \n",
            "_________________________________________________________________\n",
            "block1_conv2 (Conv2D)        (None, 224, 224, 64)      36928     \n",
            "_________________________________________________________________\n",
            "block1_pool (MaxPooling2D)   (None, 112, 112, 64)      0         \n",
            "_________________________________________________________________\n",
            "block2_conv1 (Conv2D)        (None, 112, 112, 128)     73856     \n",
            "_________________________________________________________________\n",
            "block2_conv2 (Conv2D)        (None, 112, 112, 128)     147584    \n",
            "_________________________________________________________________\n",
            "block2_pool (MaxPooling2D)   (None, 56, 56, 128)       0         \n",
            "_________________________________________________________________\n",
            "block3_conv1 (Conv2D)        (None, 56, 56, 256)       295168    \n",
            "_________________________________________________________________\n",
            "block3_conv2 (Conv2D)        (None, 56, 56, 256)       590080    \n",
            "_________________________________________________________________\n",
            "block3_conv3 (Conv2D)        (None, 56, 56, 256)       590080    \n",
            "_________________________________________________________________\n",
            "block3_pool (MaxPooling2D)   (None, 28, 28, 256)       0         \n",
            "_________________________________________________________________\n",
            "block4_conv1 (Conv2D)        (None, 28, 28, 512)       1180160   \n",
            "_________________________________________________________________\n",
            "block4_conv2 (Conv2D)        (None, 28, 28, 512)       2359808   \n",
            "_________________________________________________________________\n",
            "block4_conv3 (Conv2D)        (None, 28, 28, 512)       2359808   \n",
            "_________________________________________________________________\n",
            "block4_pool (MaxPooling2D)   (None, 14, 14, 512)       0         \n",
            "_________________________________________________________________\n",
            "block5_conv1 (Conv2D)        (None, 14, 14, 512)       2359808   \n",
            "_________________________________________________________________\n",
            "block5_conv2 (Conv2D)        (None, 14, 14, 512)       2359808   \n",
            "_________________________________________________________________\n",
            "block5_conv3 (Conv2D)        (None, 14, 14, 512)       2359808   \n",
            "_________________________________________________________________\n",
            "block5_pool (MaxPooling2D)   (None, 7, 7, 512)         0         \n",
            "_________________________________________________________________\n",
            "flatten (Flatten)            (None, 25088)             0         \n",
            "_________________________________________________________________\n",
            "fc1 (Dense)                  (None, 4096)              102764544 \n",
            "_________________________________________________________________\n",
            "fc2 (Dense)                  (None, 4096)              16781312  \n",
            "_________________________________________________________________\n",
            "predictions (Dense)          (None, 1000)              4097000   \n",
            "=================================================================\n",
            "Total params: 138,357,544\n",
            "Trainable params: 138,357,544\n",
            "Non-trainable params: 0\n",
            "_________________________________________________________________\n"
          ],
          "name": "stdout"
        }
      ]
    },
    {
      "cell_type": "code",
      "metadata": {
        "colab": {
          "base_uri": "https://localhost:8080/"
        },
        "id": "sv0tk0pBF8pK",
        "outputId": "fb9f42e4-cb00-4087-f45d-1a47209f1b21"
      },
      "source": [
        "last_layer = model.get_layer('block5_pool').output\n",
        "x= Flatten(name='flatten')(last_layer)\n",
        "x = Dense(128, activation='relu', name='fc1')(x)\n",
        "x = Dense(64, activation='relu', name='fc2')(x)\n",
        "out = Dense(1, activation='sigmoid', name='output')(x)  ## 2 classes\n",
        "model = Model(img_input, out)\n",
        "\n",
        "for layer in model.layers[:-3]:\n",
        "\tlayer.trainable = False\n",
        "\n",
        "model.summary()"
      ],
      "execution_count": 12,
      "outputs": [
        {
          "output_type": "stream",
          "text": [
            "Model: \"model\"\n",
            "_________________________________________________________________\n",
            "Layer (type)                 Output Shape              Param #   \n",
            "=================================================================\n",
            "input_4 (InputLayer)         [(None, 224, 224, 3)]     0         \n",
            "_________________________________________________________________\n",
            "block1_conv1 (Conv2D)        (None, 224, 224, 64)      1792      \n",
            "_________________________________________________________________\n",
            "block1_conv2 (Conv2D)        (None, 224, 224, 64)      36928     \n",
            "_________________________________________________________________\n",
            "block1_pool (MaxPooling2D)   (None, 112, 112, 64)      0         \n",
            "_________________________________________________________________\n",
            "block2_conv1 (Conv2D)        (None, 112, 112, 128)     73856     \n",
            "_________________________________________________________________\n",
            "block2_conv2 (Conv2D)        (None, 112, 112, 128)     147584    \n",
            "_________________________________________________________________\n",
            "block2_pool (MaxPooling2D)   (None, 56, 56, 128)       0         \n",
            "_________________________________________________________________\n",
            "block3_conv1 (Conv2D)        (None, 56, 56, 256)       295168    \n",
            "_________________________________________________________________\n",
            "block3_conv2 (Conv2D)        (None, 56, 56, 256)       590080    \n",
            "_________________________________________________________________\n",
            "block3_conv3 (Conv2D)        (None, 56, 56, 256)       590080    \n",
            "_________________________________________________________________\n",
            "block3_pool (MaxPooling2D)   (None, 28, 28, 256)       0         \n",
            "_________________________________________________________________\n",
            "block4_conv1 (Conv2D)        (None, 28, 28, 512)       1180160   \n",
            "_________________________________________________________________\n",
            "block4_conv2 (Conv2D)        (None, 28, 28, 512)       2359808   \n",
            "_________________________________________________________________\n",
            "block4_conv3 (Conv2D)        (None, 28, 28, 512)       2359808   \n",
            "_________________________________________________________________\n",
            "block4_pool (MaxPooling2D)   (None, 14, 14, 512)       0         \n",
            "_________________________________________________________________\n",
            "block5_conv1 (Conv2D)        (None, 14, 14, 512)       2359808   \n",
            "_________________________________________________________________\n",
            "block5_conv2 (Conv2D)        (None, 14, 14, 512)       2359808   \n",
            "_________________________________________________________________\n",
            "block5_conv3 (Conv2D)        (None, 14, 14, 512)       2359808   \n",
            "_________________________________________________________________\n",
            "block5_pool (MaxPooling2D)   (None, 7, 7, 512)         0         \n",
            "_________________________________________________________________\n",
            "flatten (Flatten)            (None, 25088)             0         \n",
            "_________________________________________________________________\n",
            "fc1 (Dense)                  (None, 128)               3211392   \n",
            "_________________________________________________________________\n",
            "fc2 (Dense)                  (None, 64)                8256      \n",
            "_________________________________________________________________\n",
            "output (Dense)               (None, 1)                 65        \n",
            "=================================================================\n",
            "Total params: 17,934,401\n",
            "Trainable params: 3,219,713\n",
            "Non-trainable params: 14,714,688\n",
            "_________________________________________________________________\n"
          ],
          "name": "stdout"
        }
      ]
    },
    {
      "cell_type": "code",
      "metadata": {
        "id": "hEo_edB7HeOt"
      },
      "source": [
        "model.compile(loss='binary_crossentropy',\n",
        "              optimizer='adam',\n",
        "              metrics=['acc'])"
      ],
      "execution_count": 15,
      "outputs": []
    },
    {
      "cell_type": "code",
      "metadata": {
        "colab": {
          "base_uri": "https://localhost:8080/"
        },
        "id": "B_GJkyCuHOQE",
        "outputId": "c10cf88b-c6e4-4045-a7d9-3051755b38c5"
      },
      "source": [
        "from keras.preprocessing.image import ImageDataGenerator\n",
        "train_datagen = ImageDataGenerator(rescale=1./255,\n",
        "                                   rotation_range=40,\n",
        "                                   width_shift_range=0.2,\n",
        "                                   height_shift_range=0.2,\n",
        "                                   shear_range=0.2,\n",
        "                                   zoom_range=0.2,\n",
        "                                   horizontal_flip=True,)\n",
        "\n",
        "test_datagen = ImageDataGenerator(rescale=1./255)\n",
        "\n",
        "train_generator = train_datagen.flow_from_directory(train_dir,\n",
        "                                                    target_size=(224, 224),\n",
        "                                                    batch_size=20,\n",
        "                                                    class_mode='binary')\n",
        "\n",
        "validation_generator = test_datagen.flow_from_directory(validation_dir,\n",
        "                                                        target_size=(224, 224),\n",
        "                                                        batch_size=20,\n",
        "                                                        class_mode='binary')\n",
        "\n",
        "history = model.fit_generator(train_generator,\n",
        "                              steps_per_epoch=100,\n",
        "                              epochs=30,\n",
        "                              validation_data=validation_generator,\n",
        "                              validation_steps=50)"
      ],
      "execution_count": 17,
      "outputs": [
        {
          "output_type": "stream",
          "text": [
            "Found 2000 images belonging to 2 classes.\n",
            "Found 1000 images belonging to 2 classes.\n"
          ],
          "name": "stdout"
        },
        {
          "output_type": "stream",
          "text": [
            "/usr/local/lib/python3.7/dist-packages/tensorflow/python/keras/engine/training.py:1844: UserWarning: `Model.fit_generator` is deprecated and will be removed in a future version. Please use `Model.fit`, which supports generators.\n",
            "  warnings.warn('`Model.fit_generator` is deprecated and '\n"
          ],
          "name": "stderr"
        },
        {
          "output_type": "stream",
          "text": [
            "Epoch 1/30\n",
            "100/100 [==============================] - 38s 332ms/step - loss: 0.5290 - acc: 0.7385 - val_loss: 0.2672 - val_acc: 0.8840\n",
            "Epoch 2/30\n",
            "100/100 [==============================] - 33s 331ms/step - loss: 0.3673 - acc: 0.8315 - val_loss: 0.3082 - val_acc: 0.8730\n",
            "Epoch 3/30\n",
            "100/100 [==============================] - 33s 329ms/step - loss: 0.3362 - acc: 0.8515 - val_loss: 0.2324 - val_acc: 0.8990\n",
            "Epoch 4/30\n",
            "100/100 [==============================] - 33s 330ms/step - loss: 0.2909 - acc: 0.8720 - val_loss: 0.2002 - val_acc: 0.9130\n",
            "Epoch 5/30\n",
            "100/100 [==============================] - 33s 330ms/step - loss: 0.3112 - acc: 0.8660 - val_loss: 0.1962 - val_acc: 0.9250\n",
            "Epoch 6/30\n",
            "100/100 [==============================] - 33s 331ms/step - loss: 0.2977 - acc: 0.8730 - val_loss: 0.2064 - val_acc: 0.9170\n",
            "Epoch 7/30\n",
            "100/100 [==============================] - 33s 331ms/step - loss: 0.2672 - acc: 0.8860 - val_loss: 0.2172 - val_acc: 0.9110\n",
            "Epoch 8/30\n",
            "100/100 [==============================] - 33s 333ms/step - loss: 0.3039 - acc: 0.8645 - val_loss: 0.2004 - val_acc: 0.9200\n",
            "Epoch 9/30\n",
            "100/100 [==============================] - 33s 332ms/step - loss: 0.2693 - acc: 0.8870 - val_loss: 0.2007 - val_acc: 0.9190\n",
            "Epoch 10/30\n",
            "100/100 [==============================] - 33s 332ms/step - loss: 0.2563 - acc: 0.8880 - val_loss: 0.2153 - val_acc: 0.9080\n",
            "Epoch 11/30\n",
            "100/100 [==============================] - 33s 330ms/step - loss: 0.2569 - acc: 0.8895 - val_loss: 0.2291 - val_acc: 0.9090\n",
            "Epoch 12/30\n",
            "100/100 [==============================] - 33s 331ms/step - loss: 0.2373 - acc: 0.9000 - val_loss: 0.2204 - val_acc: 0.8970\n",
            "Epoch 13/30\n",
            "100/100 [==============================] - 33s 332ms/step - loss: 0.2458 - acc: 0.8880 - val_loss: 0.1889 - val_acc: 0.9230\n",
            "Epoch 14/30\n",
            "100/100 [==============================] - 33s 330ms/step - loss: 0.2449 - acc: 0.8980 - val_loss: 0.1823 - val_acc: 0.9210\n",
            "Epoch 15/30\n",
            "100/100 [==============================] - 33s 331ms/step - loss: 0.2598 - acc: 0.8890 - val_loss: 0.2646 - val_acc: 0.8950\n",
            "Epoch 16/30\n",
            "100/100 [==============================] - 33s 332ms/step - loss: 0.2692 - acc: 0.8830 - val_loss: 0.2373 - val_acc: 0.8970\n",
            "Epoch 17/30\n",
            "100/100 [==============================] - 33s 331ms/step - loss: 0.2296 - acc: 0.9020 - val_loss: 0.1830 - val_acc: 0.9200\n",
            "Epoch 18/30\n",
            "100/100 [==============================] - 33s 330ms/step - loss: 0.2452 - acc: 0.8895 - val_loss: 0.1872 - val_acc: 0.9220\n",
            "Epoch 19/30\n",
            "100/100 [==============================] - 33s 330ms/step - loss: 0.2360 - acc: 0.8915 - val_loss: 0.2025 - val_acc: 0.9240\n",
            "Epoch 20/30\n",
            "100/100 [==============================] - 33s 329ms/step - loss: 0.2408 - acc: 0.9025 - val_loss: 0.2017 - val_acc: 0.9170\n",
            "Epoch 21/30\n",
            "100/100 [==============================] - 33s 329ms/step - loss: 0.2115 - acc: 0.9080 - val_loss: 0.1984 - val_acc: 0.9170\n",
            "Epoch 22/30\n",
            "100/100 [==============================] - 33s 329ms/step - loss: 0.2200 - acc: 0.9130 - val_loss: 0.2348 - val_acc: 0.8910\n",
            "Epoch 23/30\n",
            "100/100 [==============================] - 33s 330ms/step - loss: 0.2137 - acc: 0.9085 - val_loss: 0.1942 - val_acc: 0.9270\n",
            "Epoch 24/30\n",
            "100/100 [==============================] - 33s 328ms/step - loss: 0.2366 - acc: 0.9010 - val_loss: 0.2047 - val_acc: 0.9240\n",
            "Epoch 25/30\n",
            "100/100 [==============================] - 33s 329ms/step - loss: 0.2093 - acc: 0.9070 - val_loss: 0.1936 - val_acc: 0.9170\n",
            "Epoch 26/30\n",
            "100/100 [==============================] - 33s 328ms/step - loss: 0.2092 - acc: 0.9135 - val_loss: 0.2129 - val_acc: 0.9110\n",
            "Epoch 27/30\n",
            "100/100 [==============================] - 33s 330ms/step - loss: 0.2160 - acc: 0.9135 - val_loss: 0.2370 - val_acc: 0.9090\n",
            "Epoch 28/30\n",
            "100/100 [==============================] - 33s 332ms/step - loss: 0.2289 - acc: 0.8910 - val_loss: 0.2031 - val_acc: 0.9160\n",
            "Epoch 29/30\n",
            "100/100 [==============================] - 33s 331ms/step - loss: 0.2142 - acc: 0.9055 - val_loss: 0.2054 - val_acc: 0.9130\n",
            "Epoch 30/30\n",
            "100/100 [==============================] - 33s 332ms/step - loss: 0.2003 - acc: 0.9155 - val_loss: 0.1978 - val_acc: 0.9200\n"
          ],
          "name": "stdout"
        }
      ]
    }
  ]
}